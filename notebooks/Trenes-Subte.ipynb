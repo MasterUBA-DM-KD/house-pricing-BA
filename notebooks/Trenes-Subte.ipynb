{
 "cells": [
  {
   "cell_type": "code",
   "execution_count": 37,
   "id": "b44329e5-910a-4c6e-90b2-04bd72c7cc26",
   "metadata": {},
   "outputs": [],
   "source": [
    "import json\n",
    "import pandas as pd\n",
    "import plotly.express as px\n",
    "from geopy import Nominatim, distance"
   ]
  },
  {
   "attachments": {},
   "cell_type": "markdown",
   "id": "57206223",
   "metadata": {},
   "source": [
    "# Transporte público"
   ]
  },
  {
   "attachments": {},
   "cell_type": "markdown",
   "id": "19119a19",
   "metadata": {},
   "source": [
    "## Trenes"
   ]
  },
  {
   "cell_type": "code",
   "execution_count": 38,
   "id": "15248a00-dd18-450b-bff3-422194139390",
   "metadata": {},
   "outputs": [],
   "source": [
    "df_stops = pd.read_csv(\"../data/external/transporte_publico/trenes/stops.txt\")"
   ]
  },
  {
   "cell_type": "code",
   "execution_count": 39,
   "id": "3177a491-97f6-47c8-a38e-9af078d411b3",
   "metadata": {},
   "outputs": [],
   "source": [
    "df_stops[\"type\"] = \"tren\"\n",
    "df_stops = df_stops.rename(columns={\"stop_lat\": \"lat\", \"stop_lon\": \"lon\"})"
   ]
  },
  {
   "cell_type": "code",
   "execution_count": 40,
   "id": "e700d5fc-f55f-4a81-bd4b-fa7a3084eef7",
   "metadata": {},
   "outputs": [
    {
     "data": {
      "text/html": [
       "<div>\n",
       "<style scoped>\n",
       "    .dataframe tbody tr th:only-of-type {\n",
       "        vertical-align: middle;\n",
       "    }\n",
       "\n",
       "    .dataframe tbody tr th {\n",
       "        vertical-align: top;\n",
       "    }\n",
       "\n",
       "    .dataframe thead th {\n",
       "        text-align: right;\n",
       "    }\n",
       "</style>\n",
       "<table border=\"1\" class=\"dataframe\">\n",
       "  <thead>\n",
       "    <tr style=\"text-align: right;\">\n",
       "      <th></th>\n",
       "      <th>stop_id</th>\n",
       "      <th>stop_name</th>\n",
       "      <th>lat</th>\n",
       "      <th>lon</th>\n",
       "      <th>type</th>\n",
       "    </tr>\n",
       "  </thead>\n",
       "  <tbody>\n",
       "    <tr>\n",
       "      <th>0</th>\n",
       "      <td>154</td>\n",
       "      <td>González Catán</td>\n",
       "      <td>-34.771464</td>\n",
       "      <td>-58.646546</td>\n",
       "      <td>tren</td>\n",
       "    </tr>\n",
       "    <tr>\n",
       "      <th>1</th>\n",
       "      <td>178</td>\n",
       "      <td>Independencia</td>\n",
       "      <td>-34.760798</td>\n",
       "      <td>-58.617341</td>\n",
       "      <td>tren</td>\n",
       "    </tr>\n",
       "    <tr>\n",
       "      <th>2</th>\n",
       "      <td>180</td>\n",
       "      <td>Ing. Budge</td>\n",
       "      <td>-34.718663</td>\n",
       "      <td>-58.462152</td>\n",
       "      <td>tren</td>\n",
       "    </tr>\n",
       "    <tr>\n",
       "      <th>3</th>\n",
       "      <td>184</td>\n",
       "      <td>Isidro Casanova</td>\n",
       "      <td>-34.704464</td>\n",
       "      <td>-58.587990</td>\n",
       "      <td>tren</td>\n",
       "    </tr>\n",
       "    <tr>\n",
       "      <th>4</th>\n",
       "      <td>203</td>\n",
       "      <td>Justo Villegas</td>\n",
       "      <td>-34.708965</td>\n",
       "      <td>-58.551939</td>\n",
       "      <td>tren</td>\n",
       "    </tr>\n",
       "  </tbody>\n",
       "</table>\n",
       "</div>"
      ],
      "text/plain": [
       "   stop_id        stop_name        lat        lon  type\n",
       "0      154   González Catán -34.771464 -58.646546  tren\n",
       "1      178    Independencia -34.760798 -58.617341  tren\n",
       "2      180       Ing. Budge -34.718663 -58.462152  tren\n",
       "3      184  Isidro Casanova -34.704464 -58.587990  tren\n",
       "4      203   Justo Villegas -34.708965 -58.551939  tren"
      ]
     },
     "execution_count": 40,
     "metadata": {},
     "output_type": "execute_result"
    }
   ],
   "source": [
    "df_stops.head()"
   ]
  },
  {
   "cell_type": "code",
   "execution_count": 41,
   "id": "13d5318b",
   "metadata": {},
   "outputs": [],
   "source": [
    "df_routes = pd.read_csv(\"../data/external/transporte_publico/trenes/routes.txt\")\n",
    "df_routes = df_routes[[\"route_id\", \"route_short_name\", \"route_long_name\"]]\n",
    "df_routes = df_routes.drop_duplicates(keep=\"last\")"
   ]
  },
  {
   "cell_type": "code",
   "execution_count": 42,
   "id": "4f4698bc",
   "metadata": {},
   "outputs": [],
   "source": [
    "df_trips = pd.read_csv(\"../data/external/transporte_publico/trenes/trips.txt\")\n",
    "df_trips = df_trips[['route_id',  'trip_id']]\n",
    "df_trips = df_trips.drop_duplicates(keep=\"last\")"
   ]
  },
  {
   "cell_type": "code",
   "execution_count": 43,
   "id": "4aa744c2",
   "metadata": {},
   "outputs": [],
   "source": [
    "df_stop_times = pd.read_csv(\"../data/external/transporte_publico/trenes/stop_times.txt\")\n",
    "df_stop_times = df_stop_times[['trip_id', 'stop_id']]\n",
    "df_stop_times = df_stop_times.drop_duplicates(keep=\"last\")"
   ]
  },
  {
   "cell_type": "code",
   "execution_count": 44,
   "id": "ac983acf",
   "metadata": {},
   "outputs": [
    {
     "data": {
      "text/html": [
       "<div>\n",
       "<style scoped>\n",
       "    .dataframe tbody tr th:only-of-type {\n",
       "        vertical-align: middle;\n",
       "    }\n",
       "\n",
       "    .dataframe tbody tr th {\n",
       "        vertical-align: top;\n",
       "    }\n",
       "\n",
       "    .dataframe thead th {\n",
       "        text-align: right;\n",
       "    }\n",
       "</style>\n",
       "<table border=\"1\" class=\"dataframe\">\n",
       "  <thead>\n",
       "    <tr style=\"text-align: right;\">\n",
       "      <th></th>\n",
       "      <th>route_id</th>\n",
       "      <th>route_short_name</th>\n",
       "      <th>route_long_name</th>\n",
       "      <th>trip_id</th>\n",
       "      <th>stop_id</th>\n",
       "      <th>stop_name</th>\n",
       "      <th>lat</th>\n",
       "      <th>lon</th>\n",
       "      <th>type</th>\n",
       "    </tr>\n",
       "  </thead>\n",
       "  <tbody>\n",
       "    <tr>\n",
       "      <th>0</th>\n",
       "      <td>1</td>\n",
       "      <td>Sarmiento</td>\n",
       "      <td>Sarmiento / Once - Moreno</td>\n",
       "      <td>32001211</td>\n",
       "      <td>70</td>\n",
       "      <td>Castelar</td>\n",
       "      <td>-34.652156</td>\n",
       "      <td>-58.642526</td>\n",
       "      <td>tren</td>\n",
       "    </tr>\n",
       "    <tr>\n",
       "      <th>626</th>\n",
       "      <td>1</td>\n",
       "      <td>Sarmiento</td>\n",
       "      <td>Sarmiento / Once - Moreno</td>\n",
       "      <td>32001211</td>\n",
       "      <td>279</td>\n",
       "      <td>Morón</td>\n",
       "      <td>-34.648223</td>\n",
       "      <td>-58.619813</td>\n",
       "      <td>tren</td>\n",
       "    </tr>\n",
       "  </tbody>\n",
       "</table>\n",
       "</div>"
      ],
      "text/plain": [
       "     route_id route_short_name            route_long_name   trip_id  stop_id   \n",
       "0           1        Sarmiento  Sarmiento / Once - Moreno  32001211       70  \\\n",
       "626         1        Sarmiento  Sarmiento / Once - Moreno  32001211      279   \n",
       "\n",
       "    stop_name        lat        lon  type  \n",
       "0    Castelar -34.652156 -58.642526  tren  \n",
       "626     Morón -34.648223 -58.619813  tren  "
      ]
     },
     "execution_count": 44,
     "metadata": {},
     "output_type": "execute_result"
    }
   ],
   "source": [
    "df_tren = df_routes.merge(df_trips, on=\"route_id\")\n",
    "df_tren = df_tren.merge(df_stop_times, on=\"trip_id\")\n",
    "df_tren = df_tren.merge(df_stops, on=\"stop_id\")\n",
    "\n",
    "df_tren = df_tren.drop_duplicates(subset=[\"lat\", \"lon\"], keep=\"first\")\n",
    "\n",
    "df_tren.head(2)"
   ]
  },
  {
   "cell_type": "code",
   "execution_count": 45,
   "id": "48325b06",
   "metadata": {},
   "outputs": [
    {
     "data": {
      "text/html": [
       "<div>\n",
       "<style scoped>\n",
       "    .dataframe tbody tr th:only-of-type {\n",
       "        vertical-align: middle;\n",
       "    }\n",
       "\n",
       "    .dataframe tbody tr th {\n",
       "        vertical-align: top;\n",
       "    }\n",
       "\n",
       "    .dataframe thead th {\n",
       "        text-align: right;\n",
       "    }\n",
       "</style>\n",
       "<table border=\"1\" class=\"dataframe\">\n",
       "  <thead>\n",
       "    <tr style=\"text-align: right;\">\n",
       "      <th></th>\n",
       "      <th>route_id</th>\n",
       "      <th>linea</th>\n",
       "      <th>ramal</th>\n",
       "      <th>stop_id</th>\n",
       "      <th>stop_name</th>\n",
       "      <th>lat</th>\n",
       "      <th>lon</th>\n",
       "      <th>type</th>\n",
       "    </tr>\n",
       "  </thead>\n",
       "  <tbody>\n",
       "    <tr>\n",
       "      <th>0</th>\n",
       "      <td>1</td>\n",
       "      <td>Sarmiento</td>\n",
       "      <td>Once - Moreno</td>\n",
       "      <td>70</td>\n",
       "      <td>Castelar</td>\n",
       "      <td>-34.652156</td>\n",
       "      <td>-58.642526</td>\n",
       "      <td>tren</td>\n",
       "    </tr>\n",
       "    <tr>\n",
       "      <th>626</th>\n",
       "      <td>1</td>\n",
       "      <td>Sarmiento</td>\n",
       "      <td>Once - Moreno</td>\n",
       "      <td>279</td>\n",
       "      <td>Morón</td>\n",
       "      <td>-34.648223</td>\n",
       "      <td>-58.619813</td>\n",
       "      <td>tren</td>\n",
       "    </tr>\n",
       "  </tbody>\n",
       "</table>\n",
       "</div>"
      ],
      "text/plain": [
       "     route_id      linea           ramal  stop_id stop_name        lat   \n",
       "0           1  Sarmiento   Once - Moreno       70  Castelar -34.652156  \\\n",
       "626         1  Sarmiento   Once - Moreno      279     Morón -34.648223   \n",
       "\n",
       "           lon  type  \n",
       "0   -58.642526  tren  \n",
       "626 -58.619813  tren  "
      ]
     },
     "execution_count": 45,
     "metadata": {},
     "output_type": "execute_result"
    }
   ],
   "source": [
    "df_tren = df_tren[[\"route_id\", \"route_short_name\", \"route_long_name\", \"stop_id\", \"stop_name\", \"lat\", \"lon\", \"type\"]]\n",
    "df_tren = df_tren.rename(columns={\"route_short_name\": \"linea\", \"route_long_name\": \"ramal\"})\n",
    "df_tren[\"ramal\"] = df_tren[\"ramal\"].str.split(\"/\")\n",
    "df_tren[\"ramal\"] = df_tren[\"ramal\"].apply(lambda x: x[1])\n",
    "\n",
    "df_tren.head(2)"
   ]
  },
  {
   "cell_type": "code",
   "execution_count": 46,
   "id": "d4285fbc",
   "metadata": {},
   "outputs": [],
   "source": [
    "centro_geografico_caba = [-34.61448064637565, -58.44638197269814]\n",
    "centro_geografico_plata = [-34.92137784728068, -57.95455274162061]\n",
    "df_tren[\"dist_centro_caba\"] = df_tren.apply(lambda x: distance.distance(centro_geografico_caba, [x.lat, x.lon]).km, axis=1)\n",
    "df_tren[\"dist_centro_plata\"] = df_tren.apply(lambda x: distance.distance(centro_geografico_plata, [x.lat, x.lon]).km, axis=1)\n",
    "\n",
    "df_tren = df_tren.drop_duplicates(keep=\"last\")"
   ]
  },
  {
   "cell_type": "code",
   "execution_count": 47,
   "id": "43dce99e",
   "metadata": {},
   "outputs": [],
   "source": [
    "df_tren.to_parquet(\"../data/interim/transporte/trenes_all.parquet\")"
   ]
  },
  {
   "cell_type": "code",
   "execution_count": 48,
   "id": "4a70eeaa",
   "metadata": {},
   "outputs": [],
   "source": [
    "df_tren = df_tren[(df_tren.dist_centro_caba < 11) | (df_tren.dist_centro_plata < 17)]\n",
    "df_tren = df_tren[[\"linea\", \"ramal\", \"stop_name\", \"lat\", \"lon\", \"type\"]]\n",
    "\n",
    "df_tren.to_parquet(\"../data/interim/transporte/trenes_important.parquet\", index=False, engine=\"pyarrow\")"
   ]
  },
  {
   "cell_type": "code",
   "execution_count": 49,
   "id": "abe22502",
   "metadata": {},
   "outputs": [
    {
     "data": {
      "text/html": [
       "<div>\n",
       "<style scoped>\n",
       "    .dataframe tbody tr th:only-of-type {\n",
       "        vertical-align: middle;\n",
       "    }\n",
       "\n",
       "    .dataframe tbody tr th {\n",
       "        vertical-align: top;\n",
       "    }\n",
       "\n",
       "    .dataframe thead th {\n",
       "        text-align: right;\n",
       "    }\n",
       "</style>\n",
       "<table border=\"1\" class=\"dataframe\">\n",
       "  <thead>\n",
       "    <tr style=\"text-align: right;\">\n",
       "      <th></th>\n",
       "      <th>linea</th>\n",
       "      <th>ramal</th>\n",
       "      <th>stop_name</th>\n",
       "      <th>lat</th>\n",
       "      <th>lon</th>\n",
       "      <th>type</th>\n",
       "    </tr>\n",
       "  </thead>\n",
       "  <tbody>\n",
       "    <tr>\n",
       "      <th>2455</th>\n",
       "      <td>Sarmiento</td>\n",
       "      <td>Once - Moreno</td>\n",
       "      <td>Ciudadela</td>\n",
       "      <td>-34.639923</td>\n",
       "      <td>-58.541123</td>\n",
       "      <td>tren</td>\n",
       "    </tr>\n",
       "    <tr>\n",
       "      <th>3051</th>\n",
       "      <td>Sarmiento</td>\n",
       "      <td>Once - Moreno</td>\n",
       "      <td>Liniers</td>\n",
       "      <td>-34.638873</td>\n",
       "      <td>-58.526341</td>\n",
       "      <td>tren</td>\n",
       "    </tr>\n",
       "  </tbody>\n",
       "</table>\n",
       "</div>"
      ],
      "text/plain": [
       "          linea           ramal  stop_name        lat        lon  type\n",
       "2455  Sarmiento   Once - Moreno  Ciudadela -34.639923 -58.541123  tren\n",
       "3051  Sarmiento   Once - Moreno    Liniers -34.638873 -58.526341  tren"
      ]
     },
     "execution_count": 49,
     "metadata": {},
     "output_type": "execute_result"
    }
   ],
   "source": [
    "df_tren.head(2)"
   ]
  },
  {
   "attachments": {},
   "cell_type": "markdown",
   "id": "5c6ea0ca",
   "metadata": {},
   "source": [
    "## Subte"
   ]
  },
  {
   "cell_type": "code",
   "execution_count": 50,
   "id": "d63d6456",
   "metadata": {},
   "outputs": [],
   "source": [
    "df_subte = pd.read_csv(\"../data/external/transporte_publico/subte/estaciones-de-subte.csv\")"
   ]
  },
  {
   "cell_type": "code",
   "execution_count": 51,
   "id": "42e70c94-9b4c-47a4-897c-4997cfdecaa8",
   "metadata": {},
   "outputs": [],
   "source": [
    "df_subte = df_subte.rename(columns={\"long\": \"lon\",\"estacion\":\"stop_name\", \"id\": \"stop_id\"})\n",
    "df_subte[\"stop_id\"] = df_subte[\"stop_id\"].astype(int)\n",
    "\n",
    "df_subte[\"type\"] = \"subte\"\n",
    "\n",
    "df_subte = df_subte[[\"linea\", \"stop_name\", \"lat\", \"lon\", \"type\"]]"
   ]
  },
  {
   "cell_type": "code",
   "execution_count": 52,
   "id": "db6a5d71-7e8a-49ee-9cdf-bd461149c72f",
   "metadata": {},
   "outputs": [
    {
     "data": {
      "text/html": [
       "<div>\n",
       "<style scoped>\n",
       "    .dataframe tbody tr th:only-of-type {\n",
       "        vertical-align: middle;\n",
       "    }\n",
       "\n",
       "    .dataframe tbody tr th {\n",
       "        vertical-align: top;\n",
       "    }\n",
       "\n",
       "    .dataframe thead th {\n",
       "        text-align: right;\n",
       "    }\n",
       "</style>\n",
       "<table border=\"1\" class=\"dataframe\">\n",
       "  <thead>\n",
       "    <tr style=\"text-align: right;\">\n",
       "      <th></th>\n",
       "      <th>linea</th>\n",
       "      <th>stop_name</th>\n",
       "      <th>lat</th>\n",
       "      <th>lon</th>\n",
       "      <th>type</th>\n",
       "    </tr>\n",
       "  </thead>\n",
       "  <tbody>\n",
       "    <tr>\n",
       "      <th>0</th>\n",
       "      <td>H</td>\n",
       "      <td>CASEROS</td>\n",
       "      <td>-34.635750</td>\n",
       "      <td>-58.398928</td>\n",
       "      <td>subte</td>\n",
       "    </tr>\n",
       "    <tr>\n",
       "      <th>1</th>\n",
       "      <td>H</td>\n",
       "      <td>INCLAN - MEZQUITA AL AHMAD</td>\n",
       "      <td>-34.629376</td>\n",
       "      <td>-58.400970</td>\n",
       "      <td>subte</td>\n",
       "    </tr>\n",
       "    <tr>\n",
       "      <th>2</th>\n",
       "      <td>H</td>\n",
       "      <td>HUMBERTO 1°</td>\n",
       "      <td>-34.623092</td>\n",
       "      <td>-58.402323</td>\n",
       "      <td>subte</td>\n",
       "    </tr>\n",
       "    <tr>\n",
       "      <th>3</th>\n",
       "      <td>H</td>\n",
       "      <td>VENEZUELA</td>\n",
       "      <td>-34.615242</td>\n",
       "      <td>-58.404732</td>\n",
       "      <td>subte</td>\n",
       "    </tr>\n",
       "    <tr>\n",
       "      <th>4</th>\n",
       "      <td>H</td>\n",
       "      <td>ONCE - 30 DE DICIEMBRE</td>\n",
       "      <td>-34.608935</td>\n",
       "      <td>-58.406036</td>\n",
       "      <td>subte</td>\n",
       "    </tr>\n",
       "  </tbody>\n",
       "</table>\n",
       "</div>"
      ],
      "text/plain": [
       "  linea                   stop_name        lat        lon   type\n",
       "0     H                     CASEROS -34.635750 -58.398928  subte\n",
       "1     H  INCLAN - MEZQUITA AL AHMAD -34.629376 -58.400970  subte\n",
       "2     H                 HUMBERTO 1° -34.623092 -58.402323  subte\n",
       "3     H                   VENEZUELA -34.615242 -58.404732  subte\n",
       "4     H      ONCE - 30 DE DICIEMBRE -34.608935 -58.406036  subte"
      ]
     },
     "execution_count": 52,
     "metadata": {},
     "output_type": "execute_result"
    }
   ],
   "source": [
    "df_subte.head()"
   ]
  },
  {
   "cell_type": "code",
   "execution_count": 53,
   "id": "0b0fa0b4",
   "metadata": {},
   "outputs": [],
   "source": [
    "df_subte.to_parquet(\"../data/interim/transporte/subte.parquet\", index=False, engine=\"pyarrow\")"
   ]
  },
  {
   "attachments": {},
   "cell_type": "markdown",
   "id": "832dc38d",
   "metadata": {},
   "source": [
    "## Premetro"
   ]
  },
  {
   "cell_type": "code",
   "execution_count": 54,
   "id": "bc76ed8c",
   "metadata": {},
   "outputs": [],
   "source": [
    "df_premetro = pd.read_csv(\"../data/external/transporte_publico/premetro/estaciones-premetro.csv\")"
   ]
  },
  {
   "cell_type": "code",
   "execution_count": 55,
   "id": "077652b8-2dd7-4321-a0b1-20de6f13022f",
   "metadata": {},
   "outputs": [],
   "source": [
    "df_premetro = df_premetro.rename(columns={\"long\": \"lon\",\"nombre\":\"stop_name\", \"id\": \"stop_id\"})\n",
    "df_premetro[\"type\"] = \"premetro\"\n",
    "df_premetro = df_premetro[[\"linea\", \"stop_name\", \"lat\", \"lon\", \"type\"]]"
   ]
  },
  {
   "cell_type": "code",
   "execution_count": 56,
   "id": "d12d424f-7a40-45dd-bab3-30a75a691922",
   "metadata": {},
   "outputs": [
    {
     "data": {
      "text/html": [
       "<div>\n",
       "<style scoped>\n",
       "    .dataframe tbody tr th:only-of-type {\n",
       "        vertical-align: middle;\n",
       "    }\n",
       "\n",
       "    .dataframe tbody tr th {\n",
       "        vertical-align: top;\n",
       "    }\n",
       "\n",
       "    .dataframe thead th {\n",
       "        text-align: right;\n",
       "    }\n",
       "</style>\n",
       "<table border=\"1\" class=\"dataframe\">\n",
       "  <thead>\n",
       "    <tr style=\"text-align: right;\">\n",
       "      <th></th>\n",
       "      <th>linea</th>\n",
       "      <th>stop_name</th>\n",
       "      <th>lat</th>\n",
       "      <th>lon</th>\n",
       "      <th>type</th>\n",
       "    </tr>\n",
       "  </thead>\n",
       "  <tbody>\n",
       "    <tr>\n",
       "      <th>0</th>\n",
       "      <td>PREMETRO</td>\n",
       "      <td>INTENDENTE SAGUIER</td>\n",
       "      <td>-34.643757</td>\n",
       "      <td>-58.461491</td>\n",
       "      <td>premetro</td>\n",
       "    </tr>\n",
       "    <tr>\n",
       "      <th>1</th>\n",
       "      <td>PREMETRO</td>\n",
       "      <td>BALBASTRO (Cementerio de Flores)</td>\n",
       "      <td>-34.648601</td>\n",
       "      <td>-58.456415</td>\n",
       "      <td>premetro</td>\n",
       "    </tr>\n",
       "    <tr>\n",
       "      <th>2</th>\n",
       "      <td>PREMETRO</td>\n",
       "      <td>ANA MARÍA JANER</td>\n",
       "      <td>-34.659499</td>\n",
       "      <td>-58.450047</td>\n",
       "      <td>premetro</td>\n",
       "    </tr>\n",
       "    <tr>\n",
       "      <th>3</th>\n",
       "      <td>PREMETRO</td>\n",
       "      <td>FERNANDEZ DE LA CRUZ</td>\n",
       "      <td>-34.662225</td>\n",
       "      <td>-58.446607</td>\n",
       "      <td>premetro</td>\n",
       "    </tr>\n",
       "    <tr>\n",
       "      <th>4</th>\n",
       "      <td>PREMETRO</td>\n",
       "      <td>PTE. ILLIA (Lacarra)</td>\n",
       "      <td>-34.665368</td>\n",
       "      <td>-58.448513</td>\n",
       "      <td>premetro</td>\n",
       "    </tr>\n",
       "  </tbody>\n",
       "</table>\n",
       "</div>"
      ],
      "text/plain": [
       "      linea                         stop_name        lat        lon      type\n",
       "0  PREMETRO                INTENDENTE SAGUIER -34.643757 -58.461491  premetro\n",
       "1  PREMETRO  BALBASTRO (Cementerio de Flores) -34.648601 -58.456415  premetro\n",
       "2  PREMETRO                   ANA MARÍA JANER -34.659499 -58.450047  premetro\n",
       "3  PREMETRO              FERNANDEZ DE LA CRUZ -34.662225 -58.446607  premetro\n",
       "4  PREMETRO              PTE. ILLIA (Lacarra) -34.665368 -58.448513  premetro"
      ]
     },
     "execution_count": 56,
     "metadata": {},
     "output_type": "execute_result"
    }
   ],
   "source": [
    "df_premetro.head()"
   ]
  },
  {
   "cell_type": "code",
   "execution_count": 57,
   "id": "76702512",
   "metadata": {},
   "outputs": [],
   "source": [
    "df_premetro.to_parquet(\"../data/interim/transporte/premetro.parquet\", index=False, engine=\"pyarrow\")"
   ]
  },
  {
   "attachments": {},
   "cell_type": "markdown",
   "id": "27b2f48b",
   "metadata": {},
   "source": [
    "## Transporte en CABA y La Plata"
   ]
  },
  {
   "cell_type": "code",
   "execution_count": 58,
   "id": "03ce8109-a700-4614-8b79-51a8ba4af39d",
   "metadata": {},
   "outputs": [],
   "source": [
    "df = pd.concat([df_tren, df_subte, df_premetro])"
   ]
  },
  {
   "cell_type": "code",
   "execution_count": 59,
   "id": "a4f385f1",
   "metadata": {},
   "outputs": [],
   "source": [
    "df.to_parquet(\"../data/processed/transporte/transporte.parquet\", index=False, engine=\"pyarrow\")"
   ]
  },
  {
   "cell_type": "code",
   "execution_count": 60,
   "id": "c98faa88-07a6-4f8e-b7a8-833d494b9311",
   "metadata": {},
   "outputs": [
    {
     "data": {
      "text/html": [
       "<div>\n",
       "<style scoped>\n",
       "    .dataframe tbody tr th:only-of-type {\n",
       "        vertical-align: middle;\n",
       "    }\n",
       "\n",
       "    .dataframe tbody tr th {\n",
       "        vertical-align: top;\n",
       "    }\n",
       "\n",
       "    .dataframe thead th {\n",
       "        text-align: right;\n",
       "    }\n",
       "</style>\n",
       "<table border=\"1\" class=\"dataframe\">\n",
       "  <thead>\n",
       "    <tr style=\"text-align: right;\">\n",
       "      <th></th>\n",
       "      <th>linea</th>\n",
       "      <th>ramal</th>\n",
       "      <th>stop_name</th>\n",
       "      <th>lat</th>\n",
       "      <th>lon</th>\n",
       "      <th>type</th>\n",
       "    </tr>\n",
       "  </thead>\n",
       "  <tbody>\n",
       "    <tr>\n",
       "      <th>2455</th>\n",
       "      <td>Sarmiento</td>\n",
       "      <td>Once - Moreno</td>\n",
       "      <td>Ciudadela</td>\n",
       "      <td>-34.639923</td>\n",
       "      <td>-58.541123</td>\n",
       "      <td>tren</td>\n",
       "    </tr>\n",
       "    <tr>\n",
       "      <th>3051</th>\n",
       "      <td>Sarmiento</td>\n",
       "      <td>Once - Moreno</td>\n",
       "      <td>Liniers</td>\n",
       "      <td>-34.638873</td>\n",
       "      <td>-58.526341</td>\n",
       "      <td>tren</td>\n",
       "    </tr>\n",
       "    <tr>\n",
       "      <th>3667</th>\n",
       "      <td>Sarmiento</td>\n",
       "      <td>Once - Moreno</td>\n",
       "      <td>Villa Luro</td>\n",
       "      <td>-34.636249</td>\n",
       "      <td>-58.502131</td>\n",
       "      <td>tren</td>\n",
       "    </tr>\n",
       "    <tr>\n",
       "      <th>4258</th>\n",
       "      <td>Sarmiento</td>\n",
       "      <td>Once - Moreno</td>\n",
       "      <td>Floresta</td>\n",
       "      <td>-34.632376</td>\n",
       "      <td>-58.480891</td>\n",
       "      <td>tren</td>\n",
       "    </tr>\n",
       "    <tr>\n",
       "      <th>4849</th>\n",
       "      <td>Sarmiento</td>\n",
       "      <td>Once - Moreno</td>\n",
       "      <td>Flores</td>\n",
       "      <td>-34.627850</td>\n",
       "      <td>-58.466177</td>\n",
       "      <td>tren</td>\n",
       "    </tr>\n",
       "  </tbody>\n",
       "</table>\n",
       "</div>"
      ],
      "text/plain": [
       "          linea           ramal   stop_name        lat        lon  type\n",
       "2455  Sarmiento   Once - Moreno   Ciudadela -34.639923 -58.541123  tren\n",
       "3051  Sarmiento   Once - Moreno     Liniers -34.638873 -58.526341  tren\n",
       "3667  Sarmiento   Once - Moreno  Villa Luro -34.636249 -58.502131  tren\n",
       "4258  Sarmiento   Once - Moreno    Floresta -34.632376 -58.480891  tren\n",
       "4849  Sarmiento   Once - Moreno      Flores -34.627850 -58.466177  tren"
      ]
     },
     "execution_count": 60,
     "metadata": {},
     "output_type": "execute_result"
    }
   ],
   "source": [
    "df.head()"
   ]
  },
  {
   "cell_type": "code",
   "execution_count": 61,
   "id": "bea64bbe-f5d5-4b66-aac2-b9b4ba375efa",
   "metadata": {},
   "outputs": [
    {
     "data": {
      "application/vnd.plotly.v1+json": {
       "config": {
        "plotlyServerURL": "https://plot.ly"
       },
       "data": [
        {
         "customdata": [
          [
           "Sarmiento",
           " Once - Moreno",
           "Ciudadela"
          ],
          [
           "Sarmiento",
           " Once - Moreno",
           "Liniers"
          ],
          [
           "Sarmiento",
           " Once - Moreno",
           "Villa Luro"
          ],
          [
           "Sarmiento",
           " Once - Moreno",
           "Floresta"
          ],
          [
           "Sarmiento",
           " Once - Moreno",
           "Flores"
          ],
          [
           "Sarmiento",
           " Once - Moreno",
           "Caballito"
          ],
          [
           "Sarmiento",
           " Once - Moreno",
           "Once"
          ],
          [
           "Mitre",
           " Retiro - Tigre",
           "Vicente López"
          ],
          [
           "Mitre",
           " Retiro - Tigre",
           "Rivadavia"
          ],
          [
           "Mitre",
           " Retiro - Tigre",
           "Núñez"
          ],
          [
           "Mitre",
           " Retiro - Tigre",
           "Belgrano C"
          ],
          [
           "Mitre",
           " Retiro - Tigre",
           "L. de la Torre"
          ],
          [
           "Mitre",
           " Retiro - Tigre",
           "Retiro LM"
          ],
          [
           "Mitre",
           " Retiro - Mitre",
           "Florida"
          ],
          [
           "Mitre",
           " Retiro - Mitre",
           "Juan B. Justo"
          ],
          [
           "Mitre",
           " Retiro - Mitre",
           "Saavedra"
          ],
          [
           "Mitre",
           " Retiro - Mitre",
           "Coghlan"
          ],
          [
           "Mitre",
           " Retiro - Mitre",
           "Belgrano R"
          ],
          [
           "Mitre",
           " Retiro - Mitre",
           "Colegiales"
          ],
          [
           "Mitre",
           " Retiro - Mitre",
           "Ministro Carranza"
          ],
          [
           "Mitre",
           " Retiro - Mitre",
           "3 de Febrero"
          ],
          [
           "Mitre",
           " Retiro - J. L. Suárez",
           "San Andrés"
          ],
          [
           "Mitre",
           " Retiro - J. L. Suárez",
           "San Martín"
          ],
          [
           "Mitre",
           " Retiro - J. L. Suárez",
           "Miguelete"
          ],
          [
           "Mitre",
           " Retiro - J. L. Suárez",
           "Pueyrredón"
          ],
          [
           "Mitre",
           " Retiro - J. L. Suárez",
           "General Urquiza"
          ],
          [
           "Mitre",
           " Retiro - J. L. Suárez",
           "L. M. Drago"
          ],
          [
           "Roca",
           " Plaza Constitución - La Plata",
           "Constitución"
          ],
          [
           "Roca",
           " Plaza Constitución - La Plata",
           "S. y Kosteki"
          ],
          [
           "Roca",
           " Plaza Constitución - La Plata",
           "Pereyra"
          ],
          [
           "Roca",
           " Plaza Constitución - La Plata",
           "Villa Elisa"
          ],
          [
           "Roca",
           " Plaza Constitución - La Plata",
           "City Bell"
          ],
          [
           "Roca",
           " Plaza Constitución - La Plata",
           "Gonnet"
          ],
          [
           "Roca",
           " Plaza Constitución - La Plata",
           "Ringuelet"
          ],
          [
           "Roca",
           " Plaza Constitución - La Plata",
           "Tolosa"
          ],
          [
           "Roca",
           " Plaza Constitución - La Plata",
           "La Plata"
          ],
          [
           "Roca",
           " Plaza Constitución - Bosques-T",
           "Gerli"
          ],
          [
           "Roca",
           " Plaza Constitución - Bosques-T",
           "Hipólito Yrigoyen"
          ],
          [
           "Belgrano Sur",
           " Buenos Aires - M.C.G. Belgrano",
           "Marinos del Fournier"
          ],
          [
           "Belgrano Sur",
           " Buenos Aires - M.C.G. Belgrano",
           "Villa Madero"
          ],
          [
           "Belgrano Sur",
           " Buenos Aires - M.C.G. Belgrano",
           "Villa Lugano"
          ],
          [
           "Belgrano Sur",
           " Buenos Aires - M.C.G. Belgrano",
           "Presidente Illia"
          ],
          [
           "Belgrano Sur",
           " Buenos Aires - M.C.G. Belgrano",
           "Villa Soldati"
          ],
          [
           "Belgrano Sur",
           " Buenos Aires - M.C.G. Belgrano",
           "Dr. Sáenz"
          ],
          [
           "Belgrano Sur",
           " Buenos Aires - Gonzalez Catán",
           "Dr. Sáenz nueva"
          ],
          [
           "Roca",
           " La Plata - Policlínico",
           "Arquitectura"
          ],
          [
           "Roca",
           " La Plata - Policlínico",
           "Informática"
          ],
          [
           "Roca",
           " La Plata - Policlínico",
           "Medicina"
          ],
          [
           "Roca",
           " La Plata - Policlínico",
           "Periodismo"
          ],
          [
           "Roca",
           " La Plata - Policlínico",
           "Diagonal 73"
          ],
          [
           "Roca",
           " La Plata - Policlínico",
           "Policlínico"
          ],
          [
           "San Martin",
           " Retiro (LSM) - Cabred",
           "Villa del Parque"
          ],
          [
           "San Martin",
           " Retiro (LSM) - Cabred",
           "Sáenz Peña"
          ],
          [
           "San Martin",
           " Retiro (LSM) - Cabred",
           "Caseros"
          ],
          [
           "San Martin",
           " Retiro (LSM) - Cabred",
           "Santos Lugares"
          ],
          [
           "San Martin",
           " Retiro (LSM) - Cabred",
           "Devoto"
          ],
          [
           "San Martin",
           " Retiro (LSM) - Cabred",
           "Palermo"
          ],
          [
           "San Martin",
           " Retiro (LSM) - Cabred",
           "Retiro LSM"
          ]
         ],
         "hovertemplate": "type=tren<br>lat=%{lat}<br>lon=%{lon}<br>linea=%{customdata[0]}<br>ramal=%{customdata[1]}<br>stop_name=%{customdata[2]}<extra></extra>",
         "lat": [
          -34.6399227,
          -34.6388728,
          -34.6362494,
          -34.6323755,
          -34.6278504,
          -34.6192442,
          -34.6086496,
          -34.5247233,
          -34.5365204,
          -34.5482911,
          -34.5588016,
          -34.5625299,
          -34.5899757,
          -34.5304745,
          -34.5425501,
          -34.5540735,
          -34.5652607,
          -34.5680506,
          -34.5729746,
          -34.575705,
          -34.5717485,
          -34.5635642,
          -34.5734195,
          -34.5810718,
          -34.5804962,
          -34.574712,
          -34.5684173,
          -34.6301709,
          -34.6613896,
          -34.8366304,
          -34.8495861,
          -34.8657239,
          -34.879841,
          -34.8813876,
          -34.8909547,
          -34.9038945,
          -34.6857287,
          -34.6536422,
          -34.6901777,
          -34.6840978,
          -34.67713,
          -34.6661376,
          -34.6622014,
          -34.6481153,
          -34.6490835,
          -34.9049408,
          -34.9033642,
          -34.9090514,
          -34.9122051,
          -34.920327,
          -34.9253053,
          -34.6013699,
          -34.6031533,
          -34.6045861,
          -34.6036745,
          -34.6026515,
          -34.5796614,
          -34.5881302
         ],
         "legendgroup": "tren",
         "lon": [
          -58.5411225,
          -58.5263409,
          -58.5021311,
          -58.4808913,
          -58.4661766,
          -58.4436522,
          -58.4088675,
          -58.4728065,
          -58.4680326,
          -58.4628516,
          -58.4489445,
          -58.4367116,
          -58.376129,
          -58.4944563,
          -58.494657,
          -58.4870632,
          -58.4753485,
          -58.4618081,
          -58.448253,
          -58.435404,
          -58.4249824,
          -58.5406609,
          -58.5319579,
          -58.5170793,
          -58.501898,
          -58.4878391,
          -58.4789912,
          -58.3805834,
          -58.3768325,
          -58.0945403,
          -58.0751851,
          -58.0420495,
          -58.0107856,
          -57.9960622,
          -57.9680983,
          -57.950174,
          -58.3826371,
          -58.3788878,
          -58.5076299,
          -58.4925366,
          -58.4769699,
          -58.4502223,
          -58.4408973,
          -58.4199555,
          -58.4158387,
          -57.9431423,
          -57.9357323,
          -57.9278447,
          -57.9242646,
          -57.9190436,
          -57.9213044,
          -58.4935315,
          -58.5274629,
          -58.5644918,
          -58.5407521,
          -58.5124313,
          -58.4274154,
          -58.3756885
         ],
         "marker": {
          "color": "#636efa"
         },
         "mode": "markers",
         "name": "tren",
         "showlegend": true,
         "subplot": "mapbox",
         "type": "scattermapbox"
        },
        {
         "customdata": [
          [
           "H",
           null,
           "CASEROS"
          ],
          [
           "H",
           null,
           "INCLAN - MEZQUITA AL AHMAD"
          ],
          [
           "H",
           null,
           "HUMBERTO 1°"
          ],
          [
           "H",
           null,
           "VENEZUELA"
          ],
          [
           "H",
           null,
           "ONCE - 30 DE DICIEMBRE"
          ],
          [
           "D",
           null,
           "9 DE JULIO"
          ],
          [
           "D",
           null,
           "FACULTAD DE MEDICINA"
          ],
          [
           "D",
           null,
           "TRIBUNALES - TEATRO COLÓN"
          ],
          [
           "D",
           null,
           "AGÜERO"
          ],
          [
           "D",
           null,
           "R.SCALABRINI ORTIZ"
          ],
          [
           "D",
           null,
           "PLAZA ITALIA"
          ],
          [
           "D",
           null,
           "PALERMO"
          ],
          [
           "C",
           null,
           "RETIRO"
          ],
          [
           "C",
           null,
           "LAVALLE"
          ],
          [
           "C",
           null,
           "DIAGONAL NORTE"
          ],
          [
           "C",
           null,
           "AV. DE MAYO"
          ],
          [
           "C",
           null,
           "MORENO"
          ],
          [
           "C",
           null,
           "INDEPENDENCIA"
          ],
          [
           "C",
           null,
           "CONSTITUCION"
          ],
          [
           "B",
           null,
           "FLORIDA"
          ],
          [
           "B",
           null,
           "C. PELLEGRINI"
          ],
          [
           "B",
           null,
           "URUGUAY"
          ],
          [
           "B",
           null,
           "CALLAO - MAESTRO ALFREDO BRAVO"
          ],
          [
           "B",
           null,
           "PASTEUR - AMIA"
          ],
          [
           "B",
           null,
           "PUEYRREDON"
          ],
          [
           "B",
           null,
           "CARLOS GARDEL"
          ],
          [
           "B",
           null,
           "ALMAGRO - MEDRANO"
          ],
          [
           "B",
           null,
           "ANGEL GALLARDO"
          ],
          [
           "B",
           null,
           "MALABIA - OSVALDO PUGLIESE"
          ],
          [
           "B",
           null,
           "DORREGO"
          ],
          [
           "A",
           null,
           "PERU"
          ],
          [
           "A",
           null,
           "PIEDRAS"
          ],
          [
           "A",
           null,
           "LIMA"
          ],
          [
           "A",
           null,
           "SAENZ PEÑA"
          ],
          [
           "A",
           null,
           "CONGRESO - PDTE. DR. RAÚL R. ALFONSÍN"
          ],
          [
           "A",
           null,
           "PASCO"
          ],
          [
           "A",
           null,
           "ALBERTI"
          ],
          [
           "A",
           null,
           "PLAZA DE MISERERE"
          ],
          [
           "A",
           null,
           "LORIA"
          ],
          [
           "A",
           null,
           "CASTRO BARROS"
          ],
          [
           "A",
           null,
           "RIO DE JANEIRO"
          ],
          [
           "A",
           null,
           "ACOYTE"
          ],
          [
           "A",
           null,
           "PRIMERA JUNTA"
          ],
          [
           "E",
           null,
           "BOLIVAR"
          ],
          [
           "E",
           null,
           "BELGRANO"
          ],
          [
           "E",
           null,
           "INDEPENDENCIA"
          ],
          [
           "E",
           null,
           "SAN JOSE"
          ],
          [
           "E",
           null,
           "ENTRE RIOS - RODOLFO WALSH"
          ],
          [
           "E",
           null,
           "PICHINCHA"
          ],
          [
           "E",
           null,
           "JUJUY"
          ],
          [
           "E",
           null,
           "URQUIZA"
          ],
          [
           "E",
           null,
           "JOSE MARIA MORENO"
          ],
          [
           "E",
           null,
           "EMILIO MITRE"
          ],
          [
           "D",
           null,
           "BULNES"
          ],
          [
           "D",
           null,
           "PUEYRREDON"
          ],
          [
           "D",
           null,
           "CALLAO"
          ],
          [
           "C",
           null,
           "SAN MARTIN"
          ],
          [
           "C",
           null,
           "SAN JUAN"
          ],
          [
           "E",
           null,
           "MEDALLA MILAGROSA"
          ],
          [
           "E",
           null,
           "AV. LA PLATA"
          ],
          [
           "E",
           null,
           "BOEDO"
          ],
          [
           "D",
           null,
           "MINISTRO CARRANZA - MIGUEL ABUELO"
          ],
          [
           "D",
           null,
           "OLLEROS"
          ],
          [
           "D",
           null,
           "JOSE HERNANDEZ"
          ],
          [
           "D",
           null,
           "JURAMENTO"
          ],
          [
           "B",
           null,
           "FEDERICO LACROZE"
          ],
          [
           "E",
           null,
           "PLAZA DE LOS VIRREYES - EVA PERON"
          ],
          [
           "E",
           null,
           "VARELA"
          ],
          [
           "D",
           null,
           "CATEDRAL"
          ],
          [
           "A",
           null,
           "PLAZA DE MAYO"
          ],
          [
           "D",
           null,
           "CONGRESO DE TUCUMAN"
          ],
          [
           "B",
           null,
           "LEANDRO N. ALEM"
          ],
          [
           "B",
           null,
           "TRONADOR - VILLA ORTÚZAR"
          ],
          [
           "B",
           null,
           "DE LOS INCAS -PQUE. CHAS"
          ],
          [
           "A",
           null,
           "CARABOBO"
          ],
          [
           "A",
           null,
           "PUAN"
          ],
          [
           "H",
           null,
           "CORRIENTES"
          ],
          [
           "H",
           null,
           "PARQUE PATRICIOS"
          ],
          [
           "H",
           null,
           "HOSPITALES"
          ],
          [
           "B",
           null,
           "ECHEVERRÍA"
          ],
          [
           "B",
           null,
           "JUAN MANUEL DE ROSAS - VILLA URQUIZA"
          ],
          [
           "A",
           null,
           "SAN PEDRITO"
          ],
          [
           "A",
           null,
           "SAN JOSÉ DE FLORES"
          ],
          [
           "H",
           null,
           "CÓRDOBA"
          ],
          [
           "H",
           null,
           "LAS HERAS"
          ],
          [
           "H",
           null,
           "SANTA FE - CARLOS JAUREGUI"
          ],
          [
           "H",
           null,
           "FACULTAD DE DERECHO - JULIETA LANTERI"
          ],
          [
           "E",
           null,
           "RETIRO"
          ],
          [
           "E",
           null,
           "CATALINAS"
          ],
          [
           "E",
           null,
           "CORREO CENTRAL"
          ]
         ],
         "hovertemplate": "type=subte<br>lat=%{lat}<br>lon=%{lon}<br>linea=%{customdata[0]}<br>ramal=%{customdata[1]}<br>stop_name=%{customdata[2]}<extra></extra>",
         "lat": [
          -34.635750180343,
          -34.6293756575728,
          -34.6230923205019,
          -34.6152421522706,
          -34.6089352416215,
          -34.6042452029629,
          -34.5997570807639,
          -34.6015871651394,
          -34.5916278437199,
          -34.5851559440493,
          -34.5814111936045,
          -34.5784220227904,
          -34.5911938083332,
          -34.6017699230114,
          -34.604843739914,
          -34.6089833148827,
          -34.6126172798037,
          -34.6181255992933,
          -34.6276194522548,
          -34.6032972855775,
          -34.6036371051817,
          -34.6040935531057,
          -34.6044195428608,
          -34.6046429679193,
          -34.6045810553512,
          -34.6040795173475,
          -34.6031649010973,
          -34.6021622293427,
          -34.5989673641588,
          -34.5917181536198,
          -34.6085590738532,
          -34.608881721215,
          -34.6090998065519,
          -34.6094125865027,
          -34.6092256843174,
          -34.6096459617052,
          -34.6098335784398,
          -34.6098172456706,
          -34.6107816904504,
          -34.6117702291255,
          -34.6152056103312,
          -34.6182799671446,
          -34.6204052128589,
          -34.6092424288608,
          -34.6128491058186,
          -34.6179373939772,
          -34.6223394919367,
          -34.6227196661278,
          -34.6231098657791,
          -34.6238657115835,
          -34.6246537864662,
          -34.6280175487742,
          -34.6310418421655,
          -34.5882371084182,
          -34.5944257186285,
          -34.599639552419,
          -34.5950574047792,
          -34.6219167322081,
          -34.6363891893858,
          -34.627015467002,
          -34.6253661058926,
          -34.5751783641113,
          -34.5700123078257,
          -34.5662152421589,
          -34.5623090869974,
          -34.5871978529904,
          -34.6433121624098,
          -34.640137352298,
          -34.6078023364289,
          -34.6088103091689,
          -34.5556417664261,
          -34.6029894966332,
          -34.5840946201161,
          -34.5812488459579,
          -34.6266665931803,
          -34.6235289528893,
          -34.6044902016081,
          -34.6384059882851,
          -34.6412689433909,
          -34.5777973775423,
          -34.5743189142748,
          -34.630707087006,
          -34.629087226797,
          -34.5984551117734,
          -34.5874615464262,
          -34.5945253962188,
          -34.5830363400093,
          -34.592114361931,
          -34.596596818975,
          -34.6030139059231
         ],
         "legendgroup": "subte",
         "lon": [
          -58.3989275853601,
          -58.4009695560165,
          -58.402322730424,
          -58.40473171649,
          -58.4060363810352,
          -58.3805743428896,
          -58.3979237555734,
          -58.3851423588013,
          -58.4071613201899,
          -58.4159554190067,
          -58.4211960101264,
          -58.4257114411123,
          -58.3740182164816,
          -58.3781557828244,
          -58.3795299800739,
          -58.3806107179579,
          -58.38044446966,
          -58.3801736104752,
          -58.3814344339343,
          -58.3750715182636,
          -58.3807148471409,
          -58.3872961335408,
          -58.3923142350887,
          -58.399474256679,
          -58.4053994398434,
          -58.4117625996321,
          -58.4209624702706,
          -58.4312738603246,
          -58.4397714984155,
          -58.4475730925312,
          -58.3742677264304,
          -58.3790851530908,
          -58.3822324010181,
          -58.3867771940873,
          -58.3926688246648,
          -58.3984269918123,
          -58.401207534233,
          -58.4067071165088,
          -58.4151857088376,
          -58.4218156713706,
          -58.4295003232997,
          -58.4364285288493,
          -58.4411776251109,
          -58.3736842241685,
          -58.3775808865406,
          -58.3815349417122,
          -58.3851485496238,
          -58.3915116999715,
          -58.3970680746626,
          -58.4029365802561,
          -58.4093907834436,
          -58.4338162502395,
          -58.4421707059652,
          -58.4112939013936,
          -58.4023953425351,
          -58.3931251809727,
          -58.3778190509867,
          -58.3799211788651,
          -58.4502782563709,
          -58.4267890228972,
          -58.4155328189678,
          -58.4350135337338,
          -58.4446681483349,
          -58.4521256033889,
          -58.456489134589,
          -58.455029286281,
          -58.4616517616898,
          -58.4578917557731,
          -58.3739558069511,
          -58.3709684989674,
          -58.4623784082243,
          -58.3699298501224,
          -58.4662272046921,
          -58.4742408261771,
          -58.4567097975238,
          -58.4486476540264,
          -58.4054503284842,
          -58.4057948259686,
          -58.4123851512005,
          -58.4810135036721,
          -58.4863853478891,
          -58.4696396292247,
          -58.4635405106286,
          -58.4037214964387,
          -58.3972155751019,
          -58.4023761750349,
          -58.39101882656,
          -58.3758498374305,
          -58.3717003329901,
          -58.3704125010713
         ],
         "marker": {
          "color": "#EF553B"
         },
         "mode": "markers",
         "name": "subte",
         "showlegend": true,
         "subplot": "mapbox",
         "type": "scattermapbox"
        },
        {
         "customdata": [
          [
           "PREMETRO",
           null,
           "INTENDENTE SAGUIER"
          ],
          [
           "PREMETRO",
           null,
           "BALBASTRO (Cementerio de Flores)"
          ],
          [
           "PREMETRO",
           null,
           "ANA MARÍA JANER"
          ],
          [
           "PREMETRO",
           null,
           "FERNANDEZ DE LA CRUZ"
          ],
          [
           "PREMETRO",
           null,
           "PTE. ILLIA (Lacarra)"
          ],
          [
           "PREMETRO",
           null,
           "PARQUE DE LA CIUDAD"
          ],
          [
           "PREMETRO",
           null,
           "CECILIA GRIERSON"
          ],
          [
           "PREMETRO",
           null,
           "ESCALADA"
          ],
          [
           "PREMETRO",
           null,
           "GENERAL SAVIO"
          ],
          [
           "PREMETRO",
           null,
           "GABINO EZEIZA (Av. Cnel. Roca)"
          ],
          [
           "PREMETRO",
           null,
           "NICOLÁS DESCALZI"
          ],
          [
           "PREMETRO",
           null,
           "LARRAZÁBAL"
          ],
          [
           "PREMETRO",
           null,
           "CENTRO CIVICO LUGANO"
          ],
          [
           "PREMETRO",
           null,
           "ANA DÍAZ"
          ],
          [
           "PREMETRO",
           null,
           "MARIANO ACOSTA (Bo. R. Carrillo)"
          ],
          [
           "PREMETRO",
           null,
           "SOMELLERA"
          ],
          [
           "PREMETRO",
           null,
           "NTRA. SRA. DE FÁTIMA"
          ],
          [
           "PREMETRO",
           null,
           "POLA"
          ]
         ],
         "hovertemplate": "type=premetro<br>lat=%{lat}<br>lon=%{lon}<br>linea=%{customdata[0]}<br>ramal=%{customdata[1]}<br>stop_name=%{customdata[2]}<extra></extra>",
         "lat": [
          -34.6437565970805,
          -34.6486005420351,
          -34.6594991467729,
          -34.6622249467795,
          -34.6653680271808,
          -34.6690901145736,
          -34.6724582308545,
          -34.6745264482372,
          -34.6883531329925,
          -34.686081208835,
          -34.6830667667194,
          -34.6805719548239,
          -34.6824577608497,
          -34.6808829242265,
          -34.6544327801137,
          -34.6564409551024,
          -34.6604582616429,
          -34.6781309500937
         ],
         "legendgroup": "premetro",
         "lon": [
          -58.4614910346889,
          -58.4564145813745,
          -58.4500470792493,
          -58.4466067042219,
          -58.4485133000082,
          -58.4543251886428,
          -58.4579600157419,
          -58.4600751595769,
          -58.4595995738502,
          -58.4580715309316,
          -58.4620442328871,
          -58.4653695788337,
          -58.466124720094,
          -58.466923438707,
          -58.4564801393051,
          -58.4539052789963,
          -58.4488613949717,
          -58.4644621725649
         ],
         "marker": {
          "color": "#00cc96"
         },
         "mode": "markers",
         "name": "premetro",
         "showlegend": true,
         "subplot": "mapbox",
         "type": "scattermapbox"
        }
       ],
       "layout": {
        "height": 900,
        "legend": {
         "title": {
          "text": "type"
         },
         "tracegroupgap": 0
        },
        "mapbox": {
         "center": {
          "lat": -34.63465617617742,
          "lon": -58.396734136541355
         },
         "domain": {
          "x": [
           0,
           1
          ],
          "y": [
           0,
           1
          ]
         },
         "style": "carto-darkmatter",
         "zoom": 10
        },
        "margin": {
         "b": 0,
         "l": 0,
         "r": 0,
         "t": 0
        },
        "template": {
         "data": {
          "bar": [
           {
            "error_x": {
             "color": "#2a3f5f"
            },
            "error_y": {
             "color": "#2a3f5f"
            },
            "marker": {
             "line": {
              "color": "#E5ECF6",
              "width": 0.5
             },
             "pattern": {
              "fillmode": "overlay",
              "size": 10,
              "solidity": 0.2
             }
            },
            "type": "bar"
           }
          ],
          "barpolar": [
           {
            "marker": {
             "line": {
              "color": "#E5ECF6",
              "width": 0.5
             },
             "pattern": {
              "fillmode": "overlay",
              "size": 10,
              "solidity": 0.2
             }
            },
            "type": "barpolar"
           }
          ],
          "carpet": [
           {
            "aaxis": {
             "endlinecolor": "#2a3f5f",
             "gridcolor": "white",
             "linecolor": "white",
             "minorgridcolor": "white",
             "startlinecolor": "#2a3f5f"
            },
            "baxis": {
             "endlinecolor": "#2a3f5f",
             "gridcolor": "white",
             "linecolor": "white",
             "minorgridcolor": "white",
             "startlinecolor": "#2a3f5f"
            },
            "type": "carpet"
           }
          ],
          "choropleth": [
           {
            "colorbar": {
             "outlinewidth": 0,
             "ticks": ""
            },
            "type": "choropleth"
           }
          ],
          "contour": [
           {
            "colorbar": {
             "outlinewidth": 0,
             "ticks": ""
            },
            "colorscale": [
             [
              0,
              "#0d0887"
             ],
             [
              0.1111111111111111,
              "#46039f"
             ],
             [
              0.2222222222222222,
              "#7201a8"
             ],
             [
              0.3333333333333333,
              "#9c179e"
             ],
             [
              0.4444444444444444,
              "#bd3786"
             ],
             [
              0.5555555555555556,
              "#d8576b"
             ],
             [
              0.6666666666666666,
              "#ed7953"
             ],
             [
              0.7777777777777778,
              "#fb9f3a"
             ],
             [
              0.8888888888888888,
              "#fdca26"
             ],
             [
              1,
              "#f0f921"
             ]
            ],
            "type": "contour"
           }
          ],
          "contourcarpet": [
           {
            "colorbar": {
             "outlinewidth": 0,
             "ticks": ""
            },
            "type": "contourcarpet"
           }
          ],
          "heatmap": [
           {
            "colorbar": {
             "outlinewidth": 0,
             "ticks": ""
            },
            "colorscale": [
             [
              0,
              "#0d0887"
             ],
             [
              0.1111111111111111,
              "#46039f"
             ],
             [
              0.2222222222222222,
              "#7201a8"
             ],
             [
              0.3333333333333333,
              "#9c179e"
             ],
             [
              0.4444444444444444,
              "#bd3786"
             ],
             [
              0.5555555555555556,
              "#d8576b"
             ],
             [
              0.6666666666666666,
              "#ed7953"
             ],
             [
              0.7777777777777778,
              "#fb9f3a"
             ],
             [
              0.8888888888888888,
              "#fdca26"
             ],
             [
              1,
              "#f0f921"
             ]
            ],
            "type": "heatmap"
           }
          ],
          "heatmapgl": [
           {
            "colorbar": {
             "outlinewidth": 0,
             "ticks": ""
            },
            "colorscale": [
             [
              0,
              "#0d0887"
             ],
             [
              0.1111111111111111,
              "#46039f"
             ],
             [
              0.2222222222222222,
              "#7201a8"
             ],
             [
              0.3333333333333333,
              "#9c179e"
             ],
             [
              0.4444444444444444,
              "#bd3786"
             ],
             [
              0.5555555555555556,
              "#d8576b"
             ],
             [
              0.6666666666666666,
              "#ed7953"
             ],
             [
              0.7777777777777778,
              "#fb9f3a"
             ],
             [
              0.8888888888888888,
              "#fdca26"
             ],
             [
              1,
              "#f0f921"
             ]
            ],
            "type": "heatmapgl"
           }
          ],
          "histogram": [
           {
            "marker": {
             "pattern": {
              "fillmode": "overlay",
              "size": 10,
              "solidity": 0.2
             }
            },
            "type": "histogram"
           }
          ],
          "histogram2d": [
           {
            "colorbar": {
             "outlinewidth": 0,
             "ticks": ""
            },
            "colorscale": [
             [
              0,
              "#0d0887"
             ],
             [
              0.1111111111111111,
              "#46039f"
             ],
             [
              0.2222222222222222,
              "#7201a8"
             ],
             [
              0.3333333333333333,
              "#9c179e"
             ],
             [
              0.4444444444444444,
              "#bd3786"
             ],
             [
              0.5555555555555556,
              "#d8576b"
             ],
             [
              0.6666666666666666,
              "#ed7953"
             ],
             [
              0.7777777777777778,
              "#fb9f3a"
             ],
             [
              0.8888888888888888,
              "#fdca26"
             ],
             [
              1,
              "#f0f921"
             ]
            ],
            "type": "histogram2d"
           }
          ],
          "histogram2dcontour": [
           {
            "colorbar": {
             "outlinewidth": 0,
             "ticks": ""
            },
            "colorscale": [
             [
              0,
              "#0d0887"
             ],
             [
              0.1111111111111111,
              "#46039f"
             ],
             [
              0.2222222222222222,
              "#7201a8"
             ],
             [
              0.3333333333333333,
              "#9c179e"
             ],
             [
              0.4444444444444444,
              "#bd3786"
             ],
             [
              0.5555555555555556,
              "#d8576b"
             ],
             [
              0.6666666666666666,
              "#ed7953"
             ],
             [
              0.7777777777777778,
              "#fb9f3a"
             ],
             [
              0.8888888888888888,
              "#fdca26"
             ],
             [
              1,
              "#f0f921"
             ]
            ],
            "type": "histogram2dcontour"
           }
          ],
          "mesh3d": [
           {
            "colorbar": {
             "outlinewidth": 0,
             "ticks": ""
            },
            "type": "mesh3d"
           }
          ],
          "parcoords": [
           {
            "line": {
             "colorbar": {
              "outlinewidth": 0,
              "ticks": ""
             }
            },
            "type": "parcoords"
           }
          ],
          "pie": [
           {
            "automargin": true,
            "type": "pie"
           }
          ],
          "scatter": [
           {
            "fillpattern": {
             "fillmode": "overlay",
             "size": 10,
             "solidity": 0.2
            },
            "type": "scatter"
           }
          ],
          "scatter3d": [
           {
            "line": {
             "colorbar": {
              "outlinewidth": 0,
              "ticks": ""
             }
            },
            "marker": {
             "colorbar": {
              "outlinewidth": 0,
              "ticks": ""
             }
            },
            "type": "scatter3d"
           }
          ],
          "scattercarpet": [
           {
            "marker": {
             "colorbar": {
              "outlinewidth": 0,
              "ticks": ""
             }
            },
            "type": "scattercarpet"
           }
          ],
          "scattergeo": [
           {
            "marker": {
             "colorbar": {
              "outlinewidth": 0,
              "ticks": ""
             }
            },
            "type": "scattergeo"
           }
          ],
          "scattergl": [
           {
            "marker": {
             "colorbar": {
              "outlinewidth": 0,
              "ticks": ""
             }
            },
            "type": "scattergl"
           }
          ],
          "scattermapbox": [
           {
            "marker": {
             "colorbar": {
              "outlinewidth": 0,
              "ticks": ""
             }
            },
            "type": "scattermapbox"
           }
          ],
          "scatterpolar": [
           {
            "marker": {
             "colorbar": {
              "outlinewidth": 0,
              "ticks": ""
             }
            },
            "type": "scatterpolar"
           }
          ],
          "scatterpolargl": [
           {
            "marker": {
             "colorbar": {
              "outlinewidth": 0,
              "ticks": ""
             }
            },
            "type": "scatterpolargl"
           }
          ],
          "scatterternary": [
           {
            "marker": {
             "colorbar": {
              "outlinewidth": 0,
              "ticks": ""
             }
            },
            "type": "scatterternary"
           }
          ],
          "surface": [
           {
            "colorbar": {
             "outlinewidth": 0,
             "ticks": ""
            },
            "colorscale": [
             [
              0,
              "#0d0887"
             ],
             [
              0.1111111111111111,
              "#46039f"
             ],
             [
              0.2222222222222222,
              "#7201a8"
             ],
             [
              0.3333333333333333,
              "#9c179e"
             ],
             [
              0.4444444444444444,
              "#bd3786"
             ],
             [
              0.5555555555555556,
              "#d8576b"
             ],
             [
              0.6666666666666666,
              "#ed7953"
             ],
             [
              0.7777777777777778,
              "#fb9f3a"
             ],
             [
              0.8888888888888888,
              "#fdca26"
             ],
             [
              1,
              "#f0f921"
             ]
            ],
            "type": "surface"
           }
          ],
          "table": [
           {
            "cells": {
             "fill": {
              "color": "#EBF0F8"
             },
             "line": {
              "color": "white"
             }
            },
            "header": {
             "fill": {
              "color": "#C8D4E3"
             },
             "line": {
              "color": "white"
             }
            },
            "type": "table"
           }
          ]
         },
         "layout": {
          "annotationdefaults": {
           "arrowcolor": "#2a3f5f",
           "arrowhead": 0,
           "arrowwidth": 1
          },
          "autotypenumbers": "strict",
          "coloraxis": {
           "colorbar": {
            "outlinewidth": 0,
            "ticks": ""
           }
          },
          "colorscale": {
           "diverging": [
            [
             0,
             "#8e0152"
            ],
            [
             0.1,
             "#c51b7d"
            ],
            [
             0.2,
             "#de77ae"
            ],
            [
             0.3,
             "#f1b6da"
            ],
            [
             0.4,
             "#fde0ef"
            ],
            [
             0.5,
             "#f7f7f7"
            ],
            [
             0.6,
             "#e6f5d0"
            ],
            [
             0.7,
             "#b8e186"
            ],
            [
             0.8,
             "#7fbc41"
            ],
            [
             0.9,
             "#4d9221"
            ],
            [
             1,
             "#276419"
            ]
           ],
           "sequential": [
            [
             0,
             "#0d0887"
            ],
            [
             0.1111111111111111,
             "#46039f"
            ],
            [
             0.2222222222222222,
             "#7201a8"
            ],
            [
             0.3333333333333333,
             "#9c179e"
            ],
            [
             0.4444444444444444,
             "#bd3786"
            ],
            [
             0.5555555555555556,
             "#d8576b"
            ],
            [
             0.6666666666666666,
             "#ed7953"
            ],
            [
             0.7777777777777778,
             "#fb9f3a"
            ],
            [
             0.8888888888888888,
             "#fdca26"
            ],
            [
             1,
             "#f0f921"
            ]
           ],
           "sequentialminus": [
            [
             0,
             "#0d0887"
            ],
            [
             0.1111111111111111,
             "#46039f"
            ],
            [
             0.2222222222222222,
             "#7201a8"
            ],
            [
             0.3333333333333333,
             "#9c179e"
            ],
            [
             0.4444444444444444,
             "#bd3786"
            ],
            [
             0.5555555555555556,
             "#d8576b"
            ],
            [
             0.6666666666666666,
             "#ed7953"
            ],
            [
             0.7777777777777778,
             "#fb9f3a"
            ],
            [
             0.8888888888888888,
             "#fdca26"
            ],
            [
             1,
             "#f0f921"
            ]
           ]
          },
          "colorway": [
           "#636efa",
           "#EF553B",
           "#00cc96",
           "#ab63fa",
           "#FFA15A",
           "#19d3f3",
           "#FF6692",
           "#B6E880",
           "#FF97FF",
           "#FECB52"
          ],
          "font": {
           "color": "#2a3f5f"
          },
          "geo": {
           "bgcolor": "white",
           "lakecolor": "white",
           "landcolor": "#E5ECF6",
           "showlakes": true,
           "showland": true,
           "subunitcolor": "white"
          },
          "hoverlabel": {
           "align": "left"
          },
          "hovermode": "closest",
          "mapbox": {
           "style": "light"
          },
          "paper_bgcolor": "white",
          "plot_bgcolor": "#E5ECF6",
          "polar": {
           "angularaxis": {
            "gridcolor": "white",
            "linecolor": "white",
            "ticks": ""
           },
           "bgcolor": "#E5ECF6",
           "radialaxis": {
            "gridcolor": "white",
            "linecolor": "white",
            "ticks": ""
           }
          },
          "scene": {
           "xaxis": {
            "backgroundcolor": "#E5ECF6",
            "gridcolor": "white",
            "gridwidth": 2,
            "linecolor": "white",
            "showbackground": true,
            "ticks": "",
            "zerolinecolor": "white"
           },
           "yaxis": {
            "backgroundcolor": "#E5ECF6",
            "gridcolor": "white",
            "gridwidth": 2,
            "linecolor": "white",
            "showbackground": true,
            "ticks": "",
            "zerolinecolor": "white"
           },
           "zaxis": {
            "backgroundcolor": "#E5ECF6",
            "gridcolor": "white",
            "gridwidth": 2,
            "linecolor": "white",
            "showbackground": true,
            "ticks": "",
            "zerolinecolor": "white"
           }
          },
          "shapedefaults": {
           "line": {
            "color": "#2a3f5f"
           }
          },
          "ternary": {
           "aaxis": {
            "gridcolor": "white",
            "linecolor": "white",
            "ticks": ""
           },
           "baxis": {
            "gridcolor": "white",
            "linecolor": "white",
            "ticks": ""
           },
           "bgcolor": "#E5ECF6",
           "caxis": {
            "gridcolor": "white",
            "linecolor": "white",
            "ticks": ""
           }
          },
          "title": {
           "x": 0.05
          },
          "xaxis": {
           "automargin": true,
           "gridcolor": "white",
           "linecolor": "white",
           "ticks": "",
           "title": {
            "standoff": 15
           },
           "zerolinecolor": "white",
           "zerolinewidth": 2
          },
          "yaxis": {
           "automargin": true,
           "gridcolor": "white",
           "linecolor": "white",
           "ticks": "",
           "title": {
            "standoff": 15
           },
           "zerolinecolor": "white",
           "zerolinewidth": 2
          }
         }
        },
        "width": 1600
       }
      }
     },
     "metadata": {},
     "output_type": "display_data"
    }
   ],
   "source": [
    "color_scale = [(0, 'orange'), (1,'red')]\n",
    "\n",
    "fig = px.scatter_mapbox(df,\n",
    "                        lat=\"lat\",\n",
    "                        lon=\"lon\",\n",
    "                        hover_data=[\"linea\", \"ramal\", \"stop_name\"],\n",
    "                        color=\"type\",\n",
    "                        color_continuous_scale=color_scale,\n",
    "                        zoom=10,\n",
    "                        height=900,\n",
    "                        width=1600)\n",
    "fig.update_layout(mapbox_style=\"carto-darkmatter\")\n",
    "fig.update_layout(margin={\"r\":0,\"t\":0,\"l\":0,\"b\":0})\n",
    "fig.show()"
   ]
  },
  {
   "attachments": {},
   "cell_type": "markdown",
   "id": "79c07580",
   "metadata": {},
   "source": [
    "## Hospitales"
   ]
  },
  {
   "cell_type": "code",
   "execution_count": 62,
   "id": "5c725e43",
   "metadata": {},
   "outputs": [],
   "source": [
    "with open(\"../data/external/salud/hospitales_CABA.json\") as f:\n",
    "    hospitales = json.load(f)\n",
    "hosp_caba = pd.DataFrame(hospitales[\"features\"])\n",
    "hosp_plata = pd.read_csv(\"../data/external/salud/hospitales_LaPlata.csv\", delimiter=\";\", encoding='latin1')"
   ]
  },
  {
   "cell_type": "code",
   "execution_count": 63,
   "id": "c9351fb4",
   "metadata": {},
   "outputs": [],
   "source": [
    "hosp_caba[\"lon\"] = hosp_caba[\"geometry\"].apply(lambda x: x[\"coordinates\"][0])\n",
    "hosp_caba[\"lat\"] = hosp_caba[\"geometry\"].apply(lambda x: x[\"coordinates\"][1])\n",
    "hosp_caba[\"name\"] = hosp_caba[\"properties\"].apply(lambda x: x[\"NOMBRE\"])\n",
    "\n",
    "hosp_caba[\"province\"] = str(\"Capital Federal\")\n",
    "hosp_caba = hosp_caba[[\"name\", \"lat\", \"lon\", \"province\"]]"
   ]
  },
  {
   "cell_type": "code",
   "execution_count": 64,
   "id": "d9f39d60",
   "metadata": {},
   "outputs": [
    {
     "data": {
      "text/html": [
       "<div>\n",
       "<style scoped>\n",
       "    .dataframe tbody tr th:only-of-type {\n",
       "        vertical-align: middle;\n",
       "    }\n",
       "\n",
       "    .dataframe tbody tr th {\n",
       "        vertical-align: top;\n",
       "    }\n",
       "\n",
       "    .dataframe thead th {\n",
       "        text-align: right;\n",
       "    }\n",
       "</style>\n",
       "<table border=\"1\" class=\"dataframe\">\n",
       "  <thead>\n",
       "    <tr style=\"text-align: right;\">\n",
       "      <th></th>\n",
       "      <th>name</th>\n",
       "      <th>lat</th>\n",
       "      <th>lon</th>\n",
       "      <th>province</th>\n",
       "    </tr>\n",
       "  </thead>\n",
       "  <tbody>\n",
       "    <tr>\n",
       "      <th>0</th>\n",
       "      <td>HOSPITAL GENERAL DE NIÑOS PEDRO DE ELIZALDE</td>\n",
       "      <td>-34.628847</td>\n",
       "      <td>-58.377551</td>\n",
       "      <td>Capital Federal</td>\n",
       "    </tr>\n",
       "    <tr>\n",
       "      <th>1</th>\n",
       "      <td>HOSPITAL GENERAL DE NIÑOS RICARDO GUTIERREZ</td>\n",
       "      <td>-34.594192</td>\n",
       "      <td>-58.412070</td>\n",
       "      <td>Capital Federal</td>\n",
       "    </tr>\n",
       "  </tbody>\n",
       "</table>\n",
       "</div>"
      ],
      "text/plain": [
       "                                          name        lat        lon   \n",
       "0  HOSPITAL GENERAL DE NIÑOS PEDRO DE ELIZALDE -34.628847 -58.377551  \\\n",
       "1  HOSPITAL GENERAL DE NIÑOS RICARDO GUTIERREZ -34.594192 -58.412070   \n",
       "\n",
       "          province  \n",
       "0  Capital Federal  \n",
       "1  Capital Federal  "
      ]
     },
     "execution_count": 64,
     "metadata": {},
     "output_type": "execute_result"
    }
   ],
   "source": [
    "hosp_caba.head(2)"
   ]
  },
  {
   "cell_type": "code",
   "execution_count": 65,
   "id": "4b166270",
   "metadata": {},
   "outputs": [],
   "source": [
    "hosp_caba.to_parquet(\"../data/interim/salud/hospitales_caba.parquet\", index=False, engine=\"pyarrow\")"
   ]
  },
  {
   "cell_type": "code",
   "execution_count": 66,
   "id": "eee64e57",
   "metadata": {},
   "outputs": [],
   "source": [
    "hosp_plata = hosp_plata.drop([\"DIRECCION\", \"TELEFONO\", \"Unnamed: 5\", \"Unnamed: 6\", \"Unnamed: 7\"], axis=1)\n",
    "hosp_plata = hosp_plata.rename(columns={\"LATITUD\": \"lat\", \"LONGITUD\": \"lon\", \"CLINICAS Y HOSPITALES\": \"name\"})\n",
    "hosp_plata[\"province\"] = str(\"Bs.As. G.B.A. Zona Sur\")\n",
    "\n",
    "hosp_plata[\"lat\"] = hosp_plata[\"lat\"].str.replace(\",\", \".\").replace(\" \", \"\").astype(float)\n",
    "hosp_plata[\"lon\"] = hosp_plata[\"lon\"].str.replace(\",\", \".\").replace(\" \", \"\").astype(float)\n",
    "\n",
    "hosp_plata = hosp_plata[[\"name\", \"lat\", \"lon\", \"province\"]]"
   ]
  },
  {
   "cell_type": "code",
   "execution_count": 67,
   "id": "7c1cee0b",
   "metadata": {},
   "outputs": [
    {
     "data": {
      "text/html": [
       "<div>\n",
       "<style scoped>\n",
       "    .dataframe tbody tr th:only-of-type {\n",
       "        vertical-align: middle;\n",
       "    }\n",
       "\n",
       "    .dataframe tbody tr th {\n",
       "        vertical-align: top;\n",
       "    }\n",
       "\n",
       "    .dataframe thead th {\n",
       "        text-align: right;\n",
       "    }\n",
       "</style>\n",
       "<table border=\"1\" class=\"dataframe\">\n",
       "  <thead>\n",
       "    <tr style=\"text-align: right;\">\n",
       "      <th></th>\n",
       "      <th>name</th>\n",
       "      <th>lat</th>\n",
       "      <th>lon</th>\n",
       "      <th>province</th>\n",
       "    </tr>\n",
       "  </thead>\n",
       "  <tbody>\n",
       "    <tr>\n",
       "      <th>0</th>\n",
       "      <td>BREAST CLINIC S.A.</td>\n",
       "      <td>-34.907611</td>\n",
       "      <td>-57.959000</td>\n",
       "      <td>Bs.As. G.B.A. Zona Sur</td>\n",
       "    </tr>\n",
       "    <tr>\n",
       "      <th>1</th>\n",
       "      <td>CEMPLAN</td>\n",
       "      <td>-34.918250</td>\n",
       "      <td>-57.942444</td>\n",
       "      <td>Bs.As. G.B.A. Zona Sur</td>\n",
       "    </tr>\n",
       "  </tbody>\n",
       "</table>\n",
       "</div>"
      ],
      "text/plain": [
       "                 name        lat        lon                province\n",
       "0  BREAST CLINIC S.A. -34.907611 -57.959000  Bs.As. G.B.A. Zona Sur\n",
       "1             CEMPLAN -34.918250 -57.942444  Bs.As. G.B.A. Zona Sur"
      ]
     },
     "execution_count": 67,
     "metadata": {},
     "output_type": "execute_result"
    }
   ],
   "source": [
    "hosp_plata.head(2)"
   ]
  },
  {
   "cell_type": "code",
   "execution_count": 68,
   "id": "20e8615a",
   "metadata": {},
   "outputs": [],
   "source": [
    "hosp_plata.to_parquet(\"../data/interim/salud/hospitales_plata.parquet\", index=False, engine=\"pyarrow\")"
   ]
  },
  {
   "cell_type": "code",
   "execution_count": 69,
   "id": "2a704dd2",
   "metadata": {},
   "outputs": [],
   "source": [
    "df = pd.concat([hosp_caba, hosp_plata], axis=0, ignore_index=True)"
   ]
  },
  {
   "cell_type": "code",
   "execution_count": 70,
   "id": "a3a8090c",
   "metadata": {},
   "outputs": [],
   "source": [
    "df.to_parquet(\"../data/processed/salud/hospitales.parquet\", index=False, engine=\"pyarrow\")"
   ]
  },
  {
   "cell_type": "code",
   "execution_count": 71,
   "id": "cdae6809",
   "metadata": {},
   "outputs": [
    {
     "data": {
      "text/html": [
       "<div>\n",
       "<style scoped>\n",
       "    .dataframe tbody tr th:only-of-type {\n",
       "        vertical-align: middle;\n",
       "    }\n",
       "\n",
       "    .dataframe tbody tr th {\n",
       "        vertical-align: top;\n",
       "    }\n",
       "\n",
       "    .dataframe thead th {\n",
       "        text-align: right;\n",
       "    }\n",
       "</style>\n",
       "<table border=\"1\" class=\"dataframe\">\n",
       "  <thead>\n",
       "    <tr style=\"text-align: right;\">\n",
       "      <th></th>\n",
       "      <th>name</th>\n",
       "      <th>lat</th>\n",
       "      <th>lon</th>\n",
       "      <th>province</th>\n",
       "    </tr>\n",
       "  </thead>\n",
       "  <tbody>\n",
       "    <tr>\n",
       "      <th>0</th>\n",
       "      <td>HOSPITAL GENERAL DE NIÑOS PEDRO DE ELIZALDE</td>\n",
       "      <td>-34.628847</td>\n",
       "      <td>-58.377551</td>\n",
       "      <td>Capital Federal</td>\n",
       "    </tr>\n",
       "    <tr>\n",
       "      <th>1</th>\n",
       "      <td>HOSPITAL GENERAL DE NIÑOS RICARDO GUTIERREZ</td>\n",
       "      <td>-34.594192</td>\n",
       "      <td>-58.412070</td>\n",
       "      <td>Capital Federal</td>\n",
       "    </tr>\n",
       "  </tbody>\n",
       "</table>\n",
       "</div>"
      ],
      "text/plain": [
       "                                          name        lat        lon   \n",
       "0  HOSPITAL GENERAL DE NIÑOS PEDRO DE ELIZALDE -34.628847 -58.377551  \\\n",
       "1  HOSPITAL GENERAL DE NIÑOS RICARDO GUTIERREZ -34.594192 -58.412070   \n",
       "\n",
       "          province  \n",
       "0  Capital Federal  \n",
       "1  Capital Federal  "
      ]
     },
     "execution_count": 71,
     "metadata": {},
     "output_type": "execute_result"
    }
   ],
   "source": [
    "df.head(2)"
   ]
  },
  {
   "cell_type": "code",
   "execution_count": 72,
   "id": "d6deb59f",
   "metadata": {},
   "outputs": [
    {
     "data": {
      "application/vnd.plotly.v1+json": {
       "config": {
        "plotlyServerURL": "https://plot.ly"
       },
       "data": [
        {
         "hovertemplate": "province=Capital Federal<br>lat=%{lat}<br>lon=%{lon}<extra></extra>",
         "lat": [
          -34.628847360388136,
          -34.59419197263928,
          -34.58452833575054,
          -34.63940413164837,
          -34.63415357600018,
          -34.60847212574126,
          -34.63021120444947,
          -34.63570223515591,
          -34.63643505465687,
          -34.63889173208336,
          -34.55389633164726,
          -34.63485630841496,
          -34.60543427502072,
          -34.614634834842896,
          -34.60705076038663,
          -34.625503195248264,
          -34.622712507512446,
          -34.61798175405911,
          -34.637529325841555,
          -34.597209872915144,
          -34.58476595812136,
          -34.62834485816766,
          -34.58114171088898,
          -34.60897285384144,
          -34.6241704940114,
          -34.61765984386068,
          -34.56505195656798,
          -34.599979524264036,
          -34.62533679526684,
          -34.6491867281064,
          -34.643117259197524,
          -34.58739176902265,
          -34.64389407186596,
          -34.67184801407717,
          -34.62994536144042,
          -34.64198880149282
         ],
         "legendgroup": "Capital Federal",
         "lon": [
          -58.37755084884431,
          -58.41207007694563,
          -58.40272765478279,
          -58.3851559118889,
          -58.391311440653496,
          -58.43494334798185,
          -58.3758433488021,
          -58.38232845094876,
          -58.38212837469582,
          -58.360120127145485,
          -58.44098823824388,
          -58.40275062753768,
          -58.460185577552785,
          -58.42765975428369,
          -58.43324843812948,
          -58.43239669502435,
          -58.39406416047464,
          -58.50214492222223,
          -58.39372694132254,
          -58.475258845976136,
          -58.40051345744227,
          -58.36598508871902,
          -58.406893914278655,
          -58.43798136170503,
          -58.46950203632652,
          -58.409610748815545,
          -58.47107815932505,
          -58.51105250005687,
          -58.50761514091995,
          -58.515629193670875,
          -58.41086021882914,
          -58.471097628216796,
          -58.4541167814714,
          -58.456642849110345,
          -58.39187918138825,
          -58.38142933818905
         ],
         "marker": {
          "color": "#636efa"
         },
         "mode": "markers",
         "name": "Capital Federal",
         "showlegend": true,
         "subplot": "mapbox",
         "type": "scattermapbox"
        },
        {
         "hovertemplate": "province=Bs.As. G.B.A. Zona Sur<br>lat=%{lat}<br>lon=%{lon}<extra></extra>",
         "lat": [
          -34.9076111111111,
          -34.91825,
          -34.9272777777778,
          -34.9134166666667,
          -34.8800555555556,
          -34.8719444444444,
          -34.9055555555556,
          -34.9138888888889,
          -34.8684166666667,
          null,
          -34.9264444444444,
          -34.9163333333333,
          -34.9268055555556,
          -34.9183611111111,
          -34.9211111111111,
          -34.9076111111111,
          -34.9097777777778,
          -34.9263055555556,
          -34.9281388888889,
          -34.918,
          -34.9366388888889,
          -34.9184166666667,
          -34.9362777777778,
          -34.9030277777778,
          -34.9055277777778,
          -34.9118611111111,
          -34.9093333333333,
          -34.9027777777778,
          -34.9255555555556,
          -34.9183055555556,
          -34.9174444444444,
          -34.9096666666667,
          null,
          -34.9171388888889,
          -34.87425,
          -34.906,
          -34.9125833333333,
          -34.9144444444444,
          -34.9036666666667,
          -34.9173333333333,
          -34.9119166666667,
          -34.9231111111111,
          -34.8519722222222
         ],
         "legendgroup": "Bs.As. G.B.A. Zona Sur",
         "lon": [
          -57.959,
          -57.9424444444444,
          -57.9339166666667,
          -57.9423333333333,
          -58.05375,
          -58.0444722222222,
          -57.95725,
          -57.9435,
          -58.0448333333333,
          null,
          -57.9415555555556,
          -57.9588055555556,
          -57.9418611111111,
          -57.946,
          -57.9508611111111,
          -57.9501388888889,
          -57.9515277777778,
          -57.9416666666667,
          -57.9515,
          -57.9570277777778,
          -57.9188055555556,
          -57.9348055555556,
          -57.9724722222222,
          -57.9538611111111,
          -57.9673055555556,
          -57.9413333333333,
          -57.9562222222222,
          -57.9629166666667,
          -57.9461666666667,
          -57.9345,
          -57.9608055555556,
          -57.94375,
          null,
          -57.9391666666667,
          -58.0454722222222,
          -57.9497222222222,
          -57.9423611111111,
          -57.9404444444444,
          -57.9668055555556,
          -57.9386666666667,
          -57.9608333333333,
          -57.9510833333333,
          -58.0935277777778
         ],
         "marker": {
          "color": "#EF553B"
         },
         "mode": "markers",
         "name": "Bs.As. G.B.A. Zona Sur",
         "showlegend": true,
         "subplot": "mapbox",
         "type": "scattermapbox"
        }
       ],
       "layout": {
        "height": 800,
        "legend": {
         "title": {
          "text": "province"
         },
         "tracegroupgap": 0
        },
        "mapbox": {
         "center": {
          "lat": -34.7738051746773,
          "lon": -58.17872680005384
         },
         "domain": {
          "x": [
           0,
           1
          ],
          "y": [
           0,
           1
          ]
         },
         "style": "carto-darkmatter",
         "zoom": 10
        },
        "margin": {
         "b": 0,
         "l": 0,
         "r": 0,
         "t": 0
        },
        "template": {
         "data": {
          "bar": [
           {
            "error_x": {
             "color": "#2a3f5f"
            },
            "error_y": {
             "color": "#2a3f5f"
            },
            "marker": {
             "line": {
              "color": "#E5ECF6",
              "width": 0.5
             },
             "pattern": {
              "fillmode": "overlay",
              "size": 10,
              "solidity": 0.2
             }
            },
            "type": "bar"
           }
          ],
          "barpolar": [
           {
            "marker": {
             "line": {
              "color": "#E5ECF6",
              "width": 0.5
             },
             "pattern": {
              "fillmode": "overlay",
              "size": 10,
              "solidity": 0.2
             }
            },
            "type": "barpolar"
           }
          ],
          "carpet": [
           {
            "aaxis": {
             "endlinecolor": "#2a3f5f",
             "gridcolor": "white",
             "linecolor": "white",
             "minorgridcolor": "white",
             "startlinecolor": "#2a3f5f"
            },
            "baxis": {
             "endlinecolor": "#2a3f5f",
             "gridcolor": "white",
             "linecolor": "white",
             "minorgridcolor": "white",
             "startlinecolor": "#2a3f5f"
            },
            "type": "carpet"
           }
          ],
          "choropleth": [
           {
            "colorbar": {
             "outlinewidth": 0,
             "ticks": ""
            },
            "type": "choropleth"
           }
          ],
          "contour": [
           {
            "colorbar": {
             "outlinewidth": 0,
             "ticks": ""
            },
            "colorscale": [
             [
              0,
              "#0d0887"
             ],
             [
              0.1111111111111111,
              "#46039f"
             ],
             [
              0.2222222222222222,
              "#7201a8"
             ],
             [
              0.3333333333333333,
              "#9c179e"
             ],
             [
              0.4444444444444444,
              "#bd3786"
             ],
             [
              0.5555555555555556,
              "#d8576b"
             ],
             [
              0.6666666666666666,
              "#ed7953"
             ],
             [
              0.7777777777777778,
              "#fb9f3a"
             ],
             [
              0.8888888888888888,
              "#fdca26"
             ],
             [
              1,
              "#f0f921"
             ]
            ],
            "type": "contour"
           }
          ],
          "contourcarpet": [
           {
            "colorbar": {
             "outlinewidth": 0,
             "ticks": ""
            },
            "type": "contourcarpet"
           }
          ],
          "heatmap": [
           {
            "colorbar": {
             "outlinewidth": 0,
             "ticks": ""
            },
            "colorscale": [
             [
              0,
              "#0d0887"
             ],
             [
              0.1111111111111111,
              "#46039f"
             ],
             [
              0.2222222222222222,
              "#7201a8"
             ],
             [
              0.3333333333333333,
              "#9c179e"
             ],
             [
              0.4444444444444444,
              "#bd3786"
             ],
             [
              0.5555555555555556,
              "#d8576b"
             ],
             [
              0.6666666666666666,
              "#ed7953"
             ],
             [
              0.7777777777777778,
              "#fb9f3a"
             ],
             [
              0.8888888888888888,
              "#fdca26"
             ],
             [
              1,
              "#f0f921"
             ]
            ],
            "type": "heatmap"
           }
          ],
          "heatmapgl": [
           {
            "colorbar": {
             "outlinewidth": 0,
             "ticks": ""
            },
            "colorscale": [
             [
              0,
              "#0d0887"
             ],
             [
              0.1111111111111111,
              "#46039f"
             ],
             [
              0.2222222222222222,
              "#7201a8"
             ],
             [
              0.3333333333333333,
              "#9c179e"
             ],
             [
              0.4444444444444444,
              "#bd3786"
             ],
             [
              0.5555555555555556,
              "#d8576b"
             ],
             [
              0.6666666666666666,
              "#ed7953"
             ],
             [
              0.7777777777777778,
              "#fb9f3a"
             ],
             [
              0.8888888888888888,
              "#fdca26"
             ],
             [
              1,
              "#f0f921"
             ]
            ],
            "type": "heatmapgl"
           }
          ],
          "histogram": [
           {
            "marker": {
             "pattern": {
              "fillmode": "overlay",
              "size": 10,
              "solidity": 0.2
             }
            },
            "type": "histogram"
           }
          ],
          "histogram2d": [
           {
            "colorbar": {
             "outlinewidth": 0,
             "ticks": ""
            },
            "colorscale": [
             [
              0,
              "#0d0887"
             ],
             [
              0.1111111111111111,
              "#46039f"
             ],
             [
              0.2222222222222222,
              "#7201a8"
             ],
             [
              0.3333333333333333,
              "#9c179e"
             ],
             [
              0.4444444444444444,
              "#bd3786"
             ],
             [
              0.5555555555555556,
              "#d8576b"
             ],
             [
              0.6666666666666666,
              "#ed7953"
             ],
             [
              0.7777777777777778,
              "#fb9f3a"
             ],
             [
              0.8888888888888888,
              "#fdca26"
             ],
             [
              1,
              "#f0f921"
             ]
            ],
            "type": "histogram2d"
           }
          ],
          "histogram2dcontour": [
           {
            "colorbar": {
             "outlinewidth": 0,
             "ticks": ""
            },
            "colorscale": [
             [
              0,
              "#0d0887"
             ],
             [
              0.1111111111111111,
              "#46039f"
             ],
             [
              0.2222222222222222,
              "#7201a8"
             ],
             [
              0.3333333333333333,
              "#9c179e"
             ],
             [
              0.4444444444444444,
              "#bd3786"
             ],
             [
              0.5555555555555556,
              "#d8576b"
             ],
             [
              0.6666666666666666,
              "#ed7953"
             ],
             [
              0.7777777777777778,
              "#fb9f3a"
             ],
             [
              0.8888888888888888,
              "#fdca26"
             ],
             [
              1,
              "#f0f921"
             ]
            ],
            "type": "histogram2dcontour"
           }
          ],
          "mesh3d": [
           {
            "colorbar": {
             "outlinewidth": 0,
             "ticks": ""
            },
            "type": "mesh3d"
           }
          ],
          "parcoords": [
           {
            "line": {
             "colorbar": {
              "outlinewidth": 0,
              "ticks": ""
             }
            },
            "type": "parcoords"
           }
          ],
          "pie": [
           {
            "automargin": true,
            "type": "pie"
           }
          ],
          "scatter": [
           {
            "fillpattern": {
             "fillmode": "overlay",
             "size": 10,
             "solidity": 0.2
            },
            "type": "scatter"
           }
          ],
          "scatter3d": [
           {
            "line": {
             "colorbar": {
              "outlinewidth": 0,
              "ticks": ""
             }
            },
            "marker": {
             "colorbar": {
              "outlinewidth": 0,
              "ticks": ""
             }
            },
            "type": "scatter3d"
           }
          ],
          "scattercarpet": [
           {
            "marker": {
             "colorbar": {
              "outlinewidth": 0,
              "ticks": ""
             }
            },
            "type": "scattercarpet"
           }
          ],
          "scattergeo": [
           {
            "marker": {
             "colorbar": {
              "outlinewidth": 0,
              "ticks": ""
             }
            },
            "type": "scattergeo"
           }
          ],
          "scattergl": [
           {
            "marker": {
             "colorbar": {
              "outlinewidth": 0,
              "ticks": ""
             }
            },
            "type": "scattergl"
           }
          ],
          "scattermapbox": [
           {
            "marker": {
             "colorbar": {
              "outlinewidth": 0,
              "ticks": ""
             }
            },
            "type": "scattermapbox"
           }
          ],
          "scatterpolar": [
           {
            "marker": {
             "colorbar": {
              "outlinewidth": 0,
              "ticks": ""
             }
            },
            "type": "scatterpolar"
           }
          ],
          "scatterpolargl": [
           {
            "marker": {
             "colorbar": {
              "outlinewidth": 0,
              "ticks": ""
             }
            },
            "type": "scatterpolargl"
           }
          ],
          "scatterternary": [
           {
            "marker": {
             "colorbar": {
              "outlinewidth": 0,
              "ticks": ""
             }
            },
            "type": "scatterternary"
           }
          ],
          "surface": [
           {
            "colorbar": {
             "outlinewidth": 0,
             "ticks": ""
            },
            "colorscale": [
             [
              0,
              "#0d0887"
             ],
             [
              0.1111111111111111,
              "#46039f"
             ],
             [
              0.2222222222222222,
              "#7201a8"
             ],
             [
              0.3333333333333333,
              "#9c179e"
             ],
             [
              0.4444444444444444,
              "#bd3786"
             ],
             [
              0.5555555555555556,
              "#d8576b"
             ],
             [
              0.6666666666666666,
              "#ed7953"
             ],
             [
              0.7777777777777778,
              "#fb9f3a"
             ],
             [
              0.8888888888888888,
              "#fdca26"
             ],
             [
              1,
              "#f0f921"
             ]
            ],
            "type": "surface"
           }
          ],
          "table": [
           {
            "cells": {
             "fill": {
              "color": "#EBF0F8"
             },
             "line": {
              "color": "white"
             }
            },
            "header": {
             "fill": {
              "color": "#C8D4E3"
             },
             "line": {
              "color": "white"
             }
            },
            "type": "table"
           }
          ]
         },
         "layout": {
          "annotationdefaults": {
           "arrowcolor": "#2a3f5f",
           "arrowhead": 0,
           "arrowwidth": 1
          },
          "autotypenumbers": "strict",
          "coloraxis": {
           "colorbar": {
            "outlinewidth": 0,
            "ticks": ""
           }
          },
          "colorscale": {
           "diverging": [
            [
             0,
             "#8e0152"
            ],
            [
             0.1,
             "#c51b7d"
            ],
            [
             0.2,
             "#de77ae"
            ],
            [
             0.3,
             "#f1b6da"
            ],
            [
             0.4,
             "#fde0ef"
            ],
            [
             0.5,
             "#f7f7f7"
            ],
            [
             0.6,
             "#e6f5d0"
            ],
            [
             0.7,
             "#b8e186"
            ],
            [
             0.8,
             "#7fbc41"
            ],
            [
             0.9,
             "#4d9221"
            ],
            [
             1,
             "#276419"
            ]
           ],
           "sequential": [
            [
             0,
             "#0d0887"
            ],
            [
             0.1111111111111111,
             "#46039f"
            ],
            [
             0.2222222222222222,
             "#7201a8"
            ],
            [
             0.3333333333333333,
             "#9c179e"
            ],
            [
             0.4444444444444444,
             "#bd3786"
            ],
            [
             0.5555555555555556,
             "#d8576b"
            ],
            [
             0.6666666666666666,
             "#ed7953"
            ],
            [
             0.7777777777777778,
             "#fb9f3a"
            ],
            [
             0.8888888888888888,
             "#fdca26"
            ],
            [
             1,
             "#f0f921"
            ]
           ],
           "sequentialminus": [
            [
             0,
             "#0d0887"
            ],
            [
             0.1111111111111111,
             "#46039f"
            ],
            [
             0.2222222222222222,
             "#7201a8"
            ],
            [
             0.3333333333333333,
             "#9c179e"
            ],
            [
             0.4444444444444444,
             "#bd3786"
            ],
            [
             0.5555555555555556,
             "#d8576b"
            ],
            [
             0.6666666666666666,
             "#ed7953"
            ],
            [
             0.7777777777777778,
             "#fb9f3a"
            ],
            [
             0.8888888888888888,
             "#fdca26"
            ],
            [
             1,
             "#f0f921"
            ]
           ]
          },
          "colorway": [
           "#636efa",
           "#EF553B",
           "#00cc96",
           "#ab63fa",
           "#FFA15A",
           "#19d3f3",
           "#FF6692",
           "#B6E880",
           "#FF97FF",
           "#FECB52"
          ],
          "font": {
           "color": "#2a3f5f"
          },
          "geo": {
           "bgcolor": "white",
           "lakecolor": "white",
           "landcolor": "#E5ECF6",
           "showlakes": true,
           "showland": true,
           "subunitcolor": "white"
          },
          "hoverlabel": {
           "align": "left"
          },
          "hovermode": "closest",
          "mapbox": {
           "style": "light"
          },
          "paper_bgcolor": "white",
          "plot_bgcolor": "#E5ECF6",
          "polar": {
           "angularaxis": {
            "gridcolor": "white",
            "linecolor": "white",
            "ticks": ""
           },
           "bgcolor": "#E5ECF6",
           "radialaxis": {
            "gridcolor": "white",
            "linecolor": "white",
            "ticks": ""
           }
          },
          "scene": {
           "xaxis": {
            "backgroundcolor": "#E5ECF6",
            "gridcolor": "white",
            "gridwidth": 2,
            "linecolor": "white",
            "showbackground": true,
            "ticks": "",
            "zerolinecolor": "white"
           },
           "yaxis": {
            "backgroundcolor": "#E5ECF6",
            "gridcolor": "white",
            "gridwidth": 2,
            "linecolor": "white",
            "showbackground": true,
            "ticks": "",
            "zerolinecolor": "white"
           },
           "zaxis": {
            "backgroundcolor": "#E5ECF6",
            "gridcolor": "white",
            "gridwidth": 2,
            "linecolor": "white",
            "showbackground": true,
            "ticks": "",
            "zerolinecolor": "white"
           }
          },
          "shapedefaults": {
           "line": {
            "color": "#2a3f5f"
           }
          },
          "ternary": {
           "aaxis": {
            "gridcolor": "white",
            "linecolor": "white",
            "ticks": ""
           },
           "baxis": {
            "gridcolor": "white",
            "linecolor": "white",
            "ticks": ""
           },
           "bgcolor": "#E5ECF6",
           "caxis": {
            "gridcolor": "white",
            "linecolor": "white",
            "ticks": ""
           }
          },
          "title": {
           "x": 0.05
          },
          "xaxis": {
           "automargin": true,
           "gridcolor": "white",
           "linecolor": "white",
           "ticks": "",
           "title": {
            "standoff": 15
           },
           "zerolinecolor": "white",
           "zerolinewidth": 2
          },
          "yaxis": {
           "automargin": true,
           "gridcolor": "white",
           "linecolor": "white",
           "ticks": "",
           "title": {
            "standoff": 15
           },
           "zerolinecolor": "white",
           "zerolinewidth": 2
          }
         }
        },
        "width": 1600
       }
      }
     },
     "metadata": {},
     "output_type": "display_data"
    }
   ],
   "source": [
    "color_scale = [(0, 'orange'), (1,'red')]\n",
    "\n",
    "fig = px.scatter_mapbox(df,\n",
    "                        lat=\"lat\",\n",
    "                        lon=\"lon\",\n",
    "                        # hover_data=[\"name\"],\n",
    "                        color=\"province\",\n",
    "                        color_continuous_scale=color_scale,\n",
    "                        zoom=10,\n",
    "                        height=800,\n",
    "                        width=1600)\n",
    "fig.update_layout(mapbox_style=\"carto-darkmatter\")\n",
    "fig.update_layout(margin={\"r\":0,\"t\":0,\"l\":0,\"b\":0})\n",
    "fig.show()"
   ]
  }
 ],
 "metadata": {
  "kernelspec": {
   "display_name": "Base (Python 3.11)",
   "language": "python",
   "name": "base"
  },
  "language_info": {
   "codemirror_mode": {
    "name": "ipython",
    "version": 3
   },
   "file_extension": ".py",
   "mimetype": "text/x-python",
   "name": "python",
   "nbconvert_exporter": "python",
   "pygments_lexer": "ipython3",
   "version": "3.11.3"
  }
 },
 "nbformat": 4,
 "nbformat_minor": 5
}
