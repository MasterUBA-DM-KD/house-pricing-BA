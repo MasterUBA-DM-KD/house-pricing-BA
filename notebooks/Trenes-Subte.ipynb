{
 "cells": [
  {
   "cell_type": "code",
   "execution_count": 2,
   "id": "b44329e5-910a-4c6e-90b2-04bd72c7cc26",
   "metadata": {},
   "outputs": [],
   "source": [
    "import pandas as pd\n",
    "import plotly.express as px"
   ]
  },
  {
   "cell_type": "code",
   "execution_count": 100,
   "id": "15248a00-dd18-450b-bff3-422194139390",
   "metadata": {},
   "outputs": [],
   "source": [
    "df_tren = pd.read_csv(\"../data/external/transporte_publico/trenes/stops.txt\")\n",
    "df_subte = pd.read_csv(\"../data/external/transporte_publico/subte/estaciones-de-subte.csv\")\n",
    "df_premetro = pd.read_csv(\"../data/external/transporte_publico/premetro/estaciones-premetro.csv\")"
   ]
  },
  {
   "cell_type": "code",
   "execution_count": 101,
   "id": "3177a491-97f6-47c8-a38e-9af078d411b3",
   "metadata": {},
   "outputs": [],
   "source": [
    "df_tren[\"type\"] = \"tren\"\n",
    "# df_tren = df_tren.drop([\"stop_id\"], axis=1)\n",
    "df_tren = df_tren.rename(columns={\"stop_lat\": \"lat\", \"stop_lon\": \"lon\"})"
   ]
  },
  {
   "cell_type": "code",
   "execution_count": 102,
   "id": "e700d5fc-f55f-4a81-bd4b-fa7a3084eef7",
   "metadata": {},
   "outputs": [
    {
     "data": {
      "text/html": [
       "<div>\n",
       "<style scoped>\n",
       "    .dataframe tbody tr th:only-of-type {\n",
       "        vertical-align: middle;\n",
       "    }\n",
       "\n",
       "    .dataframe tbody tr th {\n",
       "        vertical-align: top;\n",
       "    }\n",
       "\n",
       "    .dataframe thead th {\n",
       "        text-align: right;\n",
       "    }\n",
       "</style>\n",
       "<table border=\"1\" class=\"dataframe\">\n",
       "  <thead>\n",
       "    <tr style=\"text-align: right;\">\n",
       "      <th></th>\n",
       "      <th>stop_id</th>\n",
       "      <th>stop_name</th>\n",
       "      <th>lat</th>\n",
       "      <th>lon</th>\n",
       "      <th>type</th>\n",
       "    </tr>\n",
       "  </thead>\n",
       "  <tbody>\n",
       "    <tr>\n",
       "      <th>0</th>\n",
       "      <td>154</td>\n",
       "      <td>González Catán</td>\n",
       "      <td>-34.771464</td>\n",
       "      <td>-58.646546</td>\n",
       "      <td>tren</td>\n",
       "    </tr>\n",
       "    <tr>\n",
       "      <th>1</th>\n",
       "      <td>178</td>\n",
       "      <td>Independencia</td>\n",
       "      <td>-34.760798</td>\n",
       "      <td>-58.617341</td>\n",
       "      <td>tren</td>\n",
       "    </tr>\n",
       "    <tr>\n",
       "      <th>2</th>\n",
       "      <td>180</td>\n",
       "      <td>Ing. Budge</td>\n",
       "      <td>-34.718663</td>\n",
       "      <td>-58.462152</td>\n",
       "      <td>tren</td>\n",
       "    </tr>\n",
       "    <tr>\n",
       "      <th>3</th>\n",
       "      <td>184</td>\n",
       "      <td>Isidro Casanova</td>\n",
       "      <td>-34.704464</td>\n",
       "      <td>-58.587990</td>\n",
       "      <td>tren</td>\n",
       "    </tr>\n",
       "    <tr>\n",
       "      <th>4</th>\n",
       "      <td>203</td>\n",
       "      <td>Justo Villegas</td>\n",
       "      <td>-34.708965</td>\n",
       "      <td>-58.551939</td>\n",
       "      <td>tren</td>\n",
       "    </tr>\n",
       "  </tbody>\n",
       "</table>\n",
       "</div>"
      ],
      "text/plain": [
       "   stop_id        stop_name        lat        lon  type\n",
       "0      154   González Catán -34.771464 -58.646546  tren\n",
       "1      178    Independencia -34.760798 -58.617341  tren\n",
       "2      180       Ing. Budge -34.718663 -58.462152  tren\n",
       "3      184  Isidro Casanova -34.704464 -58.587990  tren\n",
       "4      203   Justo Villegas -34.708965 -58.551939  tren"
      ]
     },
     "execution_count": 102,
     "metadata": {},
     "output_type": "execute_result"
    }
   ],
   "source": [
    "df_tren.head()"
   ]
  },
  {
   "cell_type": "code",
   "execution_count": 103,
   "id": "42e70c94-9b4c-47a4-897c-4997cfdecaa8",
   "metadata": {},
   "outputs": [],
   "source": [
    "df_subte[\"type\"] = \"subte\"\n",
    "df_subte = df_subte.drop([\"linea\"], axis=1)\n",
    "df_subte = df_subte.rename(columns={\"long\": \"lon\",\"estacion\":\"stop_name\", \"id\": \"stop_id\"})\n",
    "df_subte[\"stop_id\"] = df_subte[\"stop_id\"].astype(int)\n",
    "df_subte = df_subte[df_tren.columns]"
   ]
  },
  {
   "cell_type": "code",
   "execution_count": 104,
   "id": "db6a5d71-7e8a-49ee-9cdf-bd461149c72f",
   "metadata": {},
   "outputs": [
    {
     "data": {
      "text/html": [
       "<div>\n",
       "<style scoped>\n",
       "    .dataframe tbody tr th:only-of-type {\n",
       "        vertical-align: middle;\n",
       "    }\n",
       "\n",
       "    .dataframe tbody tr th {\n",
       "        vertical-align: top;\n",
       "    }\n",
       "\n",
       "    .dataframe thead th {\n",
       "        text-align: right;\n",
       "    }\n",
       "</style>\n",
       "<table border=\"1\" class=\"dataframe\">\n",
       "  <thead>\n",
       "    <tr style=\"text-align: right;\">\n",
       "      <th></th>\n",
       "      <th>stop_id</th>\n",
       "      <th>stop_name</th>\n",
       "      <th>lat</th>\n",
       "      <th>lon</th>\n",
       "      <th>type</th>\n",
       "    </tr>\n",
       "  </thead>\n",
       "  <tbody>\n",
       "    <tr>\n",
       "      <th>0</th>\n",
       "      <td>1</td>\n",
       "      <td>CASEROS</td>\n",
       "      <td>-34.635750</td>\n",
       "      <td>-58.398928</td>\n",
       "      <td>subte</td>\n",
       "    </tr>\n",
       "    <tr>\n",
       "      <th>1</th>\n",
       "      <td>2</td>\n",
       "      <td>INCLAN - MEZQUITA AL AHMAD</td>\n",
       "      <td>-34.629376</td>\n",
       "      <td>-58.400970</td>\n",
       "      <td>subte</td>\n",
       "    </tr>\n",
       "    <tr>\n",
       "      <th>2</th>\n",
       "      <td>3</td>\n",
       "      <td>HUMBERTO 1°</td>\n",
       "      <td>-34.623092</td>\n",
       "      <td>-58.402323</td>\n",
       "      <td>subte</td>\n",
       "    </tr>\n",
       "    <tr>\n",
       "      <th>3</th>\n",
       "      <td>4</td>\n",
       "      <td>VENEZUELA</td>\n",
       "      <td>-34.615242</td>\n",
       "      <td>-58.404732</td>\n",
       "      <td>subte</td>\n",
       "    </tr>\n",
       "    <tr>\n",
       "      <th>4</th>\n",
       "      <td>5</td>\n",
       "      <td>ONCE - 30 DE DICIEMBRE</td>\n",
       "      <td>-34.608935</td>\n",
       "      <td>-58.406036</td>\n",
       "      <td>subte</td>\n",
       "    </tr>\n",
       "  </tbody>\n",
       "</table>\n",
       "</div>"
      ],
      "text/plain": [
       "   stop_id                   stop_name        lat        lon   type\n",
       "0        1                     CASEROS -34.635750 -58.398928  subte\n",
       "1        2  INCLAN - MEZQUITA AL AHMAD -34.629376 -58.400970  subte\n",
       "2        3                 HUMBERTO 1° -34.623092 -58.402323  subte\n",
       "3        4                   VENEZUELA -34.615242 -58.404732  subte\n",
       "4        5      ONCE - 30 DE DICIEMBRE -34.608935 -58.406036  subte"
      ]
     },
     "execution_count": 104,
     "metadata": {},
     "output_type": "execute_result"
    }
   ],
   "source": [
    "df_subte.head()"
   ]
  },
  {
   "cell_type": "code",
   "execution_count": 106,
   "id": "077652b8-2dd7-4321-a0b1-20de6f13022f",
   "metadata": {},
   "outputs": [],
   "source": [
    "df_premetro[\"type\"] = \"premetro\"\n",
    "# df_premetro = df_premetro.drop([\"id\"], axis=1)\n",
    "df_premetro = df_premetro.rename(columns={\"long\": \"lon\",\"nombre\":\"stop_name\", \"id\": \"stop_id\"})\n",
    "df_premetro = df_premetro[df_tren.columns]"
   ]
  },
  {
   "cell_type": "code",
   "execution_count": 107,
   "id": "d12d424f-7a40-45dd-bab3-30a75a691922",
   "metadata": {},
   "outputs": [
    {
     "data": {
      "text/html": [
       "<div>\n",
       "<style scoped>\n",
       "    .dataframe tbody tr th:only-of-type {\n",
       "        vertical-align: middle;\n",
       "    }\n",
       "\n",
       "    .dataframe tbody tr th {\n",
       "        vertical-align: top;\n",
       "    }\n",
       "\n",
       "    .dataframe thead th {\n",
       "        text-align: right;\n",
       "    }\n",
       "</style>\n",
       "<table border=\"1\" class=\"dataframe\">\n",
       "  <thead>\n",
       "    <tr style=\"text-align: right;\">\n",
       "      <th></th>\n",
       "      <th>stop_id</th>\n",
       "      <th>stop_name</th>\n",
       "      <th>lat</th>\n",
       "      <th>lon</th>\n",
       "      <th>type</th>\n",
       "    </tr>\n",
       "  </thead>\n",
       "  <tbody>\n",
       "    <tr>\n",
       "      <th>0</th>\n",
       "      <td>1</td>\n",
       "      <td>INTENDENTE SAGUIER</td>\n",
       "      <td>-34.643757</td>\n",
       "      <td>-58.461491</td>\n",
       "      <td>premetro</td>\n",
       "    </tr>\n",
       "    <tr>\n",
       "      <th>1</th>\n",
       "      <td>2</td>\n",
       "      <td>BALBASTRO (Cementerio de Flores)</td>\n",
       "      <td>-34.648601</td>\n",
       "      <td>-58.456415</td>\n",
       "      <td>premetro</td>\n",
       "    </tr>\n",
       "    <tr>\n",
       "      <th>2</th>\n",
       "      <td>3</td>\n",
       "      <td>ANA MARÍA JANER</td>\n",
       "      <td>-34.659499</td>\n",
       "      <td>-58.450047</td>\n",
       "      <td>premetro</td>\n",
       "    </tr>\n",
       "    <tr>\n",
       "      <th>3</th>\n",
       "      <td>4</td>\n",
       "      <td>FERNANDEZ DE LA CRUZ</td>\n",
       "      <td>-34.662225</td>\n",
       "      <td>-58.446607</td>\n",
       "      <td>premetro</td>\n",
       "    </tr>\n",
       "    <tr>\n",
       "      <th>4</th>\n",
       "      <td>5</td>\n",
       "      <td>PTE. ILLIA (Lacarra)</td>\n",
       "      <td>-34.665368</td>\n",
       "      <td>-58.448513</td>\n",
       "      <td>premetro</td>\n",
       "    </tr>\n",
       "  </tbody>\n",
       "</table>\n",
       "</div>"
      ],
      "text/plain": [
       "   stop_id                         stop_name        lat        lon      type\n",
       "0        1                INTENDENTE SAGUIER -34.643757 -58.461491  premetro\n",
       "1        2  BALBASTRO (Cementerio de Flores) -34.648601 -58.456415  premetro\n",
       "2        3                   ANA MARÍA JANER -34.659499 -58.450047  premetro\n",
       "3        4              FERNANDEZ DE LA CRUZ -34.662225 -58.446607  premetro\n",
       "4        5              PTE. ILLIA (Lacarra) -34.665368 -58.448513  premetro"
      ]
     },
     "execution_count": 107,
     "metadata": {},
     "output_type": "execute_result"
    }
   ],
   "source": [
    "df_premetro.head()"
   ]
  },
  {
   "cell_type": "code",
   "execution_count": 108,
   "id": "03ce8109-a700-4614-8b79-51a8ba4af39d",
   "metadata": {},
   "outputs": [],
   "source": [
    "df = pd.concat([df_tren, df_subte, df_premetro])"
   ]
  },
  {
   "cell_type": "code",
   "execution_count": 109,
   "id": "c98faa88-07a6-4f8e-b7a8-833d494b9311",
   "metadata": {},
   "outputs": [
    {
     "data": {
      "text/html": [
       "<div>\n",
       "<style scoped>\n",
       "    .dataframe tbody tr th:only-of-type {\n",
       "        vertical-align: middle;\n",
       "    }\n",
       "\n",
       "    .dataframe tbody tr th {\n",
       "        vertical-align: top;\n",
       "    }\n",
       "\n",
       "    .dataframe thead th {\n",
       "        text-align: right;\n",
       "    }\n",
       "</style>\n",
       "<table border=\"1\" class=\"dataframe\">\n",
       "  <thead>\n",
       "    <tr style=\"text-align: right;\">\n",
       "      <th></th>\n",
       "      <th>stop_id</th>\n",
       "      <th>stop_name</th>\n",
       "      <th>lat</th>\n",
       "      <th>lon</th>\n",
       "      <th>type</th>\n",
       "    </tr>\n",
       "  </thead>\n",
       "  <tbody>\n",
       "    <tr>\n",
       "      <th>0</th>\n",
       "      <td>154</td>\n",
       "      <td>González Catán</td>\n",
       "      <td>-34.771464</td>\n",
       "      <td>-58.646546</td>\n",
       "      <td>tren</td>\n",
       "    </tr>\n",
       "    <tr>\n",
       "      <th>1</th>\n",
       "      <td>178</td>\n",
       "      <td>Independencia</td>\n",
       "      <td>-34.760798</td>\n",
       "      <td>-58.617341</td>\n",
       "      <td>tren</td>\n",
       "    </tr>\n",
       "    <tr>\n",
       "      <th>2</th>\n",
       "      <td>180</td>\n",
       "      <td>Ing. Budge</td>\n",
       "      <td>-34.718663</td>\n",
       "      <td>-58.462152</td>\n",
       "      <td>tren</td>\n",
       "    </tr>\n",
       "    <tr>\n",
       "      <th>3</th>\n",
       "      <td>184</td>\n",
       "      <td>Isidro Casanova</td>\n",
       "      <td>-34.704464</td>\n",
       "      <td>-58.587990</td>\n",
       "      <td>tren</td>\n",
       "    </tr>\n",
       "    <tr>\n",
       "      <th>4</th>\n",
       "      <td>203</td>\n",
       "      <td>Justo Villegas</td>\n",
       "      <td>-34.708965</td>\n",
       "      <td>-58.551939</td>\n",
       "      <td>tren</td>\n",
       "    </tr>\n",
       "  </tbody>\n",
       "</table>\n",
       "</div>"
      ],
      "text/plain": [
       "   stop_id        stop_name        lat        lon  type\n",
       "0      154   González Catán -34.771464 -58.646546  tren\n",
       "1      178    Independencia -34.760798 -58.617341  tren\n",
       "2      180       Ing. Budge -34.718663 -58.462152  tren\n",
       "3      184  Isidro Casanova -34.704464 -58.587990  tren\n",
       "4      203   Justo Villegas -34.708965 -58.551939  tren"
      ]
     },
     "execution_count": 109,
     "metadata": {},
     "output_type": "execute_result"
    }
   ],
   "source": [
    "df.head()"
   ]
  },
  {
   "cell_type": "code",
   "execution_count": 112,
   "id": "4a1cc570",
   "metadata": {},
   "outputs": [],
   "source": [
    "df[\"lat\"] = df[\"lat\"].astype(float)\n",
    "df[\"lon\"] = df[\"lon\"].astype(float)"
   ]
  },
  {
   "cell_type": "code",
   "execution_count": 116,
   "id": "bea64bbe-f5d5-4b66-aac2-b9b4ba375efa",
   "metadata": {},
   "outputs": [
    {
     "data": {
      "application/vnd.plotly.v1+json": {
       "config": {
        "plotlyServerURL": "https://plot.ly"
       },
       "data": [
        {
         "customdata": [
          [
           "González Catán",
           154
          ],
          [
           "Independencia",
           178
          ],
          [
           "Ing. Budge",
           180
          ],
          [
           "Isidro Casanova",
           184
          ],
          [
           "Justo Villegas",
           203
          ],
          [
           "Laferrere",
           209
          ],
          [
           "La Salada",
           220
          ],
          [
           "Libertad",
           232
          ],
          [
           "María Eva Duarte",
           256
          ],
          [
           "Marinos del Fournier",
           260
          ],
          [
           "Presidente Illia",
           313
          ],
          [
           "Puente Alsina",
           315
          ],
          [
           "Querandí",
           321
          ],
          [
           "Rafael Castillo",
           325
          ],
          [
           "General Urquiza",
           150
          ],
          [
           "Ingeniero Castello",
           181
          ],
          [
           "Sánchez de Mendeville",
           354
          ],
          [
           "Merlo Gómez",
           270
          ],
          [
           "Gándara",
           146
          ],
          [
           "Km. 34,5",
           464
          ],
          [
           "José Ingenieros",
           195
          ],
          [
           "Dr. Sáenz nueva",
           525
          ],
          [
           "20 de Junio",
           526
          ],
          [
           "3 de Febrero",
           1
          ],
          [
           "Flores",
           139
          ],
          [
           "Apeadero Km. 12",
           22
          ],
          [
           "Benavídez",
           37
          ],
          [
           "Apeadero Kloosterman",
           21
          ],
          [
           "Arquitectura",
           25
          ],
          [
           "Bancalari",
           29
          ],
          [
           "Banfield",
           30
          ],
          [
           "Béccar",
           32
          ],
          [
           "Belgrano C",
           34
          ],
          [
           "Belgrano R",
           35
          ],
          [
           "Bella Vista",
           36
          ],
          [
           "Berazategui",
           38
          ],
          [
           "Bernal",
           39
          ],
          [
           "Borges",
           42
          ],
          [
           "Bosques",
           43
          ],
          [
           "Burzaco",
           49
          ],
          [
           "Caballito",
           50
          ],
          [
           "Cabred",
           51
          ],
          [
           "Campana",
           55
          ],
          [
           "Canal San Fernando",
           58
          ],
          [
           "Cañuelas",
           60
          ],
          [
           "Capilla del Señor",
           61
          ],
          [
           "Carlos Spegazzini",
           64
          ],
          [
           "Carupá",
           65
          ],
          [
           "Caseros",
           67
          ],
          [
           "Castelar",
           70
          ],
          [
           "Chilavert",
           79
          ],
          [
           "City Bell",
           83
          ],
          [
           "Ciudadela",
           84
          ],
          [
           "Claypole",
           85
          ],
          [
           "Coghlan",
           90
          ],
          [
           "Colegiales",
           91
          ],
          [
           "Dante Ardigó",
           102
          ],
          [
           "Delta",
           104
          ],
          [
           "Derqui",
           106
          ],
          [
           "Devoto",
           112
          ],
          [
           "Diagonal 73",
           113
          ],
          [
           "Don Bosco",
           115
          ],
          [
           "Dr. A. Schweitzer",
           118
          ],
          [
           "Dr. Cetrángolo",
           119
          ],
          [
           "El Jagüel",
           125
          ],
          [
           "El Talar",
           128
          ],
          [
           "Empalme Lobos",
           129
          ],
          [
           "Escobar",
           130
          ],
          [
           "Ezeiza",
           132
          ],
          [
           "Ezpeleta",
           133
          ],
          [
           "Ferrari",
           137
          ],
          [
           "Florencio Varela",
           138
          ],
          [
           "Floresta",
           140
          ],
          [
           "Florida",
           141
          ],
          [
           "Constitución",
           93
          ],
          [
           "Retiro LSM",
           463
          ],
          [
           "Gerli",
           151
          ],
          [
           "Glew",
           152
          ],
          [
           "Gonnet",
           153
          ],
          [
           "Domselaar",
           117
          ],
          [
           "Dr. Sáenz",
           121
          ],
          [
           "F. Álvarez",
           134
          ],
          [
           "Cnel. Brandsen",
           86
          ],
          [
           "Garín",
           147
          ],
          [
           "Chascomús",
           78
          ],
          [
           "Maipú",
           248
          ],
          [
           "Gowland",
           155
          ],
          [
           "Guernica",
           165
          ],
          [
           "Gutiérrez",
           168
          ],
          [
           "Haedo",
           169
          ],
          [
           "Hipólito Yrigoyen",
           172
          ],
          [
           "Hornos",
           173
          ],
          [
           "Hospital Español",
           174
          ],
          [
           "Hudson",
           176
          ],
          [
           "Hurlingham",
           177
          ],
          [
           "L. M. Drago",
           236
          ],
          [
           "Informática",
           179
          ],
          [
           "Km. 34",
           205
          ],
          [
           "J. L. Suárez",
           190
          ],
          [
           "Ingeniero S. Brian",
           182
          ],
          [
           "José C. Paz",
           194
          ],
          [
           "Ituzaingó",
           186
          ],
          [
           "Jáuregui",
           188
          ],
          [
           "Jeppener",
           189
          ],
          [
           "Gral. Rodríguez",
           163
          ],
          [
           "José Mármol",
           197
          ],
          [
           "Juan Anchorena",
           198
          ],
          [
           "Juan B. Justo",
           200
          ],
          [
           "Juan XXIII",
           201
          ],
          [
           "Luján",
           247
          ],
          [
           "Kilometro 83",
           204
          ],
          [
           "López Camelo",
           240
          ],
          [
           "La Fraternidad",
           210
          ],
          [
           "La Lucila",
           212
          ],
          [
           "La Noria",
           214
          ],
          [
           "Lanús",
           215
          ],
          [
           "La Paternal",
           216
          ],
          [
           "La Plata",
           217
          ],
          [
           "La Reja",
           218
          ],
          [
           "Las Barrancas",
           222
          ],
          [
           "Las Heras",
           225
          ],
          [
           "Las Malvinas",
           226
          ],
          [
           "L. de la Torre",
           229
          ],
          [
           "Lezama",
           230
          ],
          [
           "Lezica y Torrezuri",
           231
          ],
          [
           "Libertador",
           233
          ],
          [
           "Liniers",
           234
          ],
          [
           "Llavallol",
           235
          ],
          [
           "Lobos",
           237
          ],
          [
           "Lomas de Zamora",
           238
          ],
          [
           "Longchamps",
           239
          ],
          [
           "Los Cardales",
           243
          ],
          [
           "Malaver",
           249
          ],
          [
           "Manzanares",
           252
          ],
          [
           "Maq. Savio",
           253
          ],
          [
           "Marcos Paz",
           254
          ],
          [
           "Mariano Acosta",
           257
          ],
          [
           "Marina Nueva",
           258
          ],
          [
           "Martínez",
           262
          ],
          [
           "Maschwitz",
           263
          ],
          [
           "Matheu",
           264
          ],
          [
           "Máximo Paz",
           265
          ],
          [
           "Medicina",
           267
          ],
          [
           "Mercedes",
           268
          ],
          [
           "Merlo",
           269
          ],
          [
           "Núñez",
           287
          ],
          [
           "Miguelete",
           271
          ],
          [
           "Ministro Carranza",
           272
          ],
          [
           "Mitre",
           273
          ],
          [
           "Monasterio",
           275
          ],
          [
           "Monte",
           276
          ],
          [
           "Monte Grande",
           277
          ],
          [
           "Moreno",
           278
          ],
          [
           "Morón",
           279
          ],
          [
           "Muñiz",
           283
          ],
          [
           "Olivera",
           290
          ],
          [
           "Olivos",
           291
          ],
          [
           "Once",
           293
          ],
          [
           "Otamendi",
           294
          ],
          [
           "Pacheco",
           296
          ],
          [
           "Palermo",
           297
          ],
          [
           "Paso del Rey",
           300
          ],
          [
           "Pereyra",
           303
          ],
          [
           "Periodismo",
           304
          ],
          [
           "Pilar",
           306
          ],
          [
           "Plátanos",
           309
          ],
          [
           "Policlínico",
           311
          ],
          [
           "Retiro LM",
           332
          ],
          [
           "P. Turner",
           314
          ],
          [
           "S. A. de Padua",
           347
          ],
          [
           "Pueyrredón",
           318
          ],
          [
           "Punta Chica",
           319
          ],
          [
           "Sáenz Peña",
           348
          ],
          [
           "Quilmes",
           322
          ],
          [
           "Rafael Calzada",
           324
          ],
          [
           "P. Marín",
           310
          ],
          [
           "Ramos Mejía",
           327
          ],
          [
           "Ranelagh",
           328
          ],
          [
           "Remedios de Escalada",
           329
          ],
          [
           "Ricardo Levene",
           333
          ],
          [
           "Ringuelet",
           334
          ],
          [
           "Rio Lujan",
           335
          ],
          [
           "Rivadavia",
           337
          ],
          [
           "Saavedra",
           346
          ],
          [
           "San Andrés",
           353
          ],
          [
           "San Fernando C",
           355
          ],
          [
           "San Fernando R",
           356
          ],
          [
           "San Isidro C",
           357
          ],
          [
           "San Isidro R",
           358
          ],
          [
           "San Justo",
           359
          ],
          [
           "San Martín",
           360
          ],
          [
           "Abbot",
           3
          ],
          [
           "Acassuso",
           5
          ],
          [
           "Adela",
           6
          ],
          [
           "Adrogué",
           8
          ],
          [
           "Agustín de Elía",
           9
          ],
          [
           "Alejandro Korn",
           13
          ],
          [
           "Alejandro Petión",
           14
          ],
          [
           "Altamirano",
           17
          ],
          [
           "San Miguel",
           361
          ],
          [
           "Aldo Bonzi",
           12
          ],
          [
           "Sol y Verde",
           378
          ],
          [
           "Sourigues",
           380
          ],
          [
           "Tablada",
           383
          ],
          [
           "Temperley",
           386
          ],
          [
           "Tigre",
           389
          ],
          [
           "Tolosa",
           392
          ],
          [
           "Tristán Suárez",
           396
          ],
          [
           "Turdera",
           399
          ],
          [
           "Unión Ferroviaria",
           400
          ],
          [
           "Uribelarrea",
           402
          ],
          [
           "Vicente Casares",
           407
          ],
          [
           "Vicente López",
           408
          ],
          [
           "Victoria",
           409
          ],
          [
           "Villa Astolfi",
           411
          ],
          [
           "Villa Ballester",
           412
          ],
          [
           "Villa Crespo",
           414
          ],
          [
           "Villa Elisa",
           419
          ],
          [
           "Villa España",
           420
          ],
          [
           "Villa Luro",
           423
          ],
          [
           "Virreyes",
           428
          ],
          [
           "Wilde",
           430
          ],
          [
           "William Morris",
           431
          ],
          [
           "Zamudio",
           432
          ],
          [
           "Zapiola",
           433
          ],
          [
           "Zeballos",
           435
          ],
          [
           "Zelaya",
           436
          ],
          [
           "Marinos C. G. Belgrano",
           259
          ],
          [
           "Luis Guillón",
           246
          ],
          [
           "Santa Catalina",
           365
          ],
          [
           "Santa Sofía",
           367
          ],
          [
           "Villa Domínico",
           418
          ],
          [
           "Santos Lugares",
           369
          ],
          [
           "Sarandí",
           370
          ],
          [
           "Speratti",
           381
          ],
          [
           "Tapiales",
           385
          ],
          [
           "Villa Caraza",
           413
          ],
          [
           "Villa Diamante",
           417
          ],
          [
           "Villa Fiorito",
           421
          ],
          [
           "Villa Lugano",
           422
          ],
          [
           "Villa Madero",
           424
          ],
          [
           "Villa Soldati",
           427
          ],
          [
           "Univ. Luján",
           401
          ],
          [
           "Zárate",
           434
          ],
          [
           "Villa del Parque",
           415
          ],
          [
           "El Palomar",
           127
          ],
          [
           "S. y Kosteki",
           368
          ],
          [
           "Buenos Aires",
           48
          ]
         ],
         "hovertemplate": "type=tren<br>lat=%{lat}<br>lon=%{lon}<br>stop_name=%{customdata[0]}<br>stop_id=%{customdata[1]}<extra></extra>",
         "lat": [
          -34.7714637,
          -34.7607983,
          -34.7186633,
          -34.7044639,
          -34.708965,
          -34.7506533,
          -34.7188075,
          -34.6921774,
          -34.7564804,
          -34.6901777,
          -34.6661376,
          -34.6614611,
          -34.7223687,
          -34.6996965,
          -34.574712,
          -34.7105416,
          -34.7124465,
          -34.6971714,
          -35.4497875,
          -34.6801742,
          -34.710762,
          -34.6490835,
          -34.7802549,
          -34.5717485,
          -34.6278504,
          -34.7100582,
          -34.4091705,
          -34.9863555,
          -34.9049408,
          -34.4796651,
          -34.7436106,
          -34.4608043,
          -34.5588016,
          -34.5680506,
          -34.5638352,
          -34.7640977,
          -34.7092611,
          -34.5081513,
          -34.8195986,
          -34.8251482,
          -34.6192442,
          -34.4878244,
          -34.1565823,
          -34.4299116,
          -35.0592254,
          -34.2866198,
          -34.9099069,
          -34.4375361,
          -34.6045861,
          -34.6521562,
          -34.542232,
          -34.8657239,
          -34.6399227,
          -34.80118,
          -34.5652607,
          -34.5729746,
          -34.808388,
          -34.419003,
          -34.4909537,
          -34.6026515,
          -34.920327,
          -34.7033242,
          -34.4720989,
          -34.5230887,
          -34.8332274,
          -34.4627922,
          -35.1514876,
          -34.3494239,
          -34.8540842,
          -34.7518509,
          -34.706078,
          -34.8111227,
          -34.6323755,
          -34.5304745,
          -34.6301709,
          -34.5881302,
          -34.6857287,
          -34.8886501,
          -34.879841,
          -35.0701752,
          -34.6481153,
          -34.6322048,
          -35.1677373,
          -34.421623,
          -35.5790842,
          -34.5130886,
          -34.6478196,
          -34.9179155,
          -34.8332066,
          -34.6445334,
          -34.6536422,
          -34.8923029,
          -34.7862792,
          -34.7911192,
          -34.5911517,
          -34.5684173,
          -34.9033642,
          -34.7434594,
          -34.5347067,
          -34.6580457,
          -34.5193436,
          -34.6596506,
          -34.6006273,
          -35.2776676,
          -34.6088711,
          -34.791958,
          -34.4891115,
          -34.5425501,
          -34.7713636,
          -34.5776869,
          -34.1602209,
          -34.4468958,
          -34.5984003,
          -34.4975978,
          -35.1651382,
          -34.7074543,
          -34.5969831,
          -34.9038945,
          -34.6397171,
          -34.4722137,
          -34.9279395,
          -34.616072,
          -34.5625299,
          -35.8738929,
          -34.5846051,
          -34.5027276,
          -34.6388728,
          -34.7970708,
          -35.1853363,
          -34.7610318,
          -34.8595879,
          -34.330977,
          -34.5573725,
          -34.4522459,
          -34.4067502,
          -34.7830555,
          -34.7243253,
          -34.4445522,
          -34.4885346,
          -34.3830219,
          -34.3828607,
          -34.9362878,
          -34.9090514,
          -34.6574937,
          -34.6644693,
          -34.5482911,
          -34.5810718,
          -34.575705,
          -34.5154718,
          -35.7637431,
          -35.4366533,
          -34.8144339,
          -34.6504439,
          -34.6482227,
          -34.5513662,
          -34.6279272,
          -34.5077139,
          -34.6086496,
          -34.2222066,
          -34.4558335,
          -34.5796614,
          -34.6582665,
          -34.8366304,
          -34.9122051,
          -34.4687433,
          -34.7823359,
          -34.9253053,
          -34.5899757,
          -34.7332318,
          -34.6654259,
          -34.5804962,
          -34.4506585,
          -34.6031533,
          -34.7246461,
          -34.7966735,
          -34.6227343,
          -34.6404544,
          -34.7893721,
          -34.7270922,
          -35.0216179,
          -34.8813876,
          -34.2778567,
          -34.5365204,
          -34.5540735,
          -34.5635642,
          -34.4443381,
          -34.4375367,
          -34.4722074,
          -34.4654466,
          -34.6741934,
          -34.5734195,
          -35.2814201,
          -34.4800686,
          -35.6839055,
          -34.7978483,
          -34.7099772,
          -34.9804097,
          -34.9775385,
          -35.3611696,
          -34.5431069,
          -34.7106549,
          -34.5039897,
          -34.8065811,
          -34.6930707,
          -34.7759243,
          -34.423567,
          -34.8909547,
          -34.8892028,
          -34.7950533,
          -34.8701194,
          -35.1154841,
          -34.9621814,
          -34.5247233,
          -34.4561533,
          -34.4786824,
          -34.5501584,
          -34.5933908,
          -34.8495861,
          -34.7744501,
          -34.6362494,
          -34.4506827,
          -34.6975894,
          -34.5784645,
          -34.8578991,
          -35.0583029,
          -34.8106377,
          -34.3703514,
          -34.7086815,
          -34.8032178,
          -34.7804203,
          -34.8250279,
          -34.6915355,
          -34.6036745,
          -34.6787475,
          -35.0021051,
          -34.7025293,
          -34.6980032,
          -34.6817442,
          -34.7053789,
          -34.67713,
          -34.6840978,
          -34.6622014,
          -34.5774242,
          -34.0979051,
          -34.6013699,
          -34.604926,
          -34.6613896,
          -34.6455629
         ],
         "legendgroup": "tren",
         "lon": [
          -58.6465457,
          -58.6173412,
          -58.4621518,
          -58.5879899,
          -58.5519393,
          -58.58425,
          -58.4727139,
          -58.6861877,
          -58.6020446,
          -58.5076299,
          -58.4502223,
          -58.414587,
          -58.5307279,
          -58.6261936,
          -58.4878391,
          -58.5063521,
          -58.5238732,
          -58.6462658,
          -58.0937313,
          -58.7602409,
          -58.537256,
          -58.4158387,
          -58.7378366,
          -58.4249824,
          -58.4661766,
          -58.5059269,
          -58.6847612,
          -58.6895825,
          -57.9431423,
          -58.6029298,
          -58.3954246,
          -58.5265437,
          -58.4489445,
          -58.4618081,
          -58.6845919,
          -58.2084433,
          -58.280569,
          -58.4845536,
          -58.2300795,
          -58.3913722,
          -58.4436522,
          -59.075658,
          -58.9610031,
          -58.5629211,
          -58.7541775,
          -59.1021904,
          -58.5942645,
          -58.5674401,
          -58.5644918,
          -58.6425261,
          -58.566917,
          -58.0420495,
          -58.5411225,
          -58.3382367,
          -58.4753485,
          -58.448253,
          -58.3048296,
          -58.5761953,
          -58.8384456,
          -58.5124313,
          -57.9190436,
          -58.2961718,
          -58.5744514,
          -58.49413,
          -58.4961652,
          -58.6460044,
          -59.0907406,
          -58.7953571,
          -58.5228154,
          -58.2341863,
          -58.7794327,
          -58.2742679,
          -58.4808913,
          -58.4944563,
          -58.3805834,
          -58.3756885,
          -58.3826371,
          -58.3837029,
          -58.0107856,
          -58.2906247,
          -58.4199555,
          -58.8553185,
          -58.2320146,
          -58.7365407,
          -57.9823866,
          -58.487579,
          -59.352839,
          -58.3805605,
          -58.188026,
          -58.5918534,
          -58.3788878,
          -58.917861,
          -58.4072878,
          -58.1552692,
          -58.6322349,
          -58.4789912,
          -57.9357323,
          -58.465016,
          -58.5759809,
          -58.5730377,
          -58.7494301,
          -58.6663871,
          -59.1734876,
          -58.1982603,
          -58.952925,
          -58.380941,
          -58.4812172,
          -58.494657,
          -58.4441098,
          -59.1050924,
          -58.977169,
          -58.6773897,
          -58.997844,
          -58.4884466,
          -58.7881853,
          -58.390637,
          -58.467118,
          -57.950174,
          -58.8284581,
          -58.4934212,
          -58.9444298,
          -58.9220842,
          -58.4367116,
          -57.8954007,
          -59.0567847,
          -58.4821262,
          -58.5263409,
          -58.4291553,
          -59.0927924,
          -58.3973127,
          -58.3871987,
          -58.9872035,
          -58.5479328,
          -59.0067549,
          -58.7723202,
          -58.836545,
          -58.7929542,
          -58.5390515,
          -58.4965804,
          -58.7362697,
          -58.8296505,
          -58.6205451,
          -57.9278447,
          -59.4336661,
          -58.727685,
          -58.4628516,
          -58.5170793,
          -58.435404,
          -58.4896092,
          -57.9250604,
          -58.8176656,
          -58.4696989,
          -58.7895979,
          -58.6198135,
          -58.7033147,
          -59.2553985,
          -58.4806636,
          -58.4088675,
          -58.8965515,
          -58.6201168,
          -58.4274154,
          -58.7619414,
          -58.0945403,
          -57.9242646,
          -58.9079062,
          -58.1707596,
          -57.9213044,
          -58.376129,
          -58.4748755,
          -58.6979972,
          -58.501898,
          -58.5236988,
          -58.5274629,
          -58.2606591,
          -58.3591724,
          -58.893542,
          -58.5643758,
          -58.2031929,
          -58.393661,
          -58.7237738,
          -57.9960622,
          -58.8903315,
          -58.4680326,
          -58.4870632,
          -58.5406609,
          -58.5587407,
          -58.553991,
          -58.5133831,
          -58.5081309,
          -58.555356,
          -58.5319579,
          -58.8029392,
          -58.5038385,
          -57.9539789,
          -58.3942737,
          -58.5059186,
          -58.3738144,
          -58.6743571,
          -58.1512081,
          -58.7150571,
          -58.5141386,
          -58.7976033,
          -58.2127388,
          -58.5280209,
          -58.3963571,
          -58.5817289,
          -57.9680983,
          -58.5677383,
          -58.4078781,
          -58.5432637,
          -58.8984676,
          -58.647847,
          -58.4728065,
          -58.5411284,
          -58.8768343,
          -58.5570784,
          -58.4483617,
          -58.0751851,
          -58.1949303,
          -58.5021311,
          -58.5507001,
          -58.3111938,
          -58.6565796,
          -58.8921946,
          -59.0418857,
          -58.2594167,
          -58.8683114,
          -58.7307061,
          -58.4485504,
          -58.4373374,
          -58.2132652,
          -58.3253499,
          -58.5407521,
          -58.3449626,
          -58.9998545,
          -58.5115373,
          -58.4290641,
          -58.4283297,
          -58.4409217,
          -58.4769699,
          -58.4925366,
          -58.4408973,
          -59.0874075,
          -59.0378286,
          -58.4935315,
          -58.5956555,
          -58.3768325,
          -58.3939958
         ],
         "marker": {
          "color": "#636efa"
         },
         "mode": "markers",
         "name": "tren",
         "showlegend": true,
         "subplot": "mapbox",
         "type": "scattermapbox"
        },
        {
         "customdata": [
          [
           "CASEROS",
           1
          ],
          [
           "INCLAN - MEZQUITA AL AHMAD",
           2
          ],
          [
           "HUMBERTO 1°",
           3
          ],
          [
           "VENEZUELA",
           4
          ],
          [
           "ONCE - 30 DE DICIEMBRE",
           5
          ],
          [
           "9 DE JULIO",
           6
          ],
          [
           "FACULTAD DE MEDICINA",
           7
          ],
          [
           "TRIBUNALES - TEATRO COLÓN",
           8
          ],
          [
           "AGÜERO",
           9
          ],
          [
           "R.SCALABRINI ORTIZ",
           10
          ],
          [
           "PLAZA ITALIA",
           11
          ],
          [
           "PALERMO",
           12
          ],
          [
           "RETIRO",
           13
          ],
          [
           "LAVALLE",
           14
          ],
          [
           "DIAGONAL NORTE",
           15
          ],
          [
           "AV. DE MAYO",
           16
          ],
          [
           "MORENO",
           17
          ],
          [
           "INDEPENDENCIA",
           18
          ],
          [
           "CONSTITUCION",
           19
          ],
          [
           "FLORIDA",
           20
          ],
          [
           "C. PELLEGRINI",
           21
          ],
          [
           "URUGUAY",
           22
          ],
          [
           "CALLAO - MAESTRO ALFREDO BRAVO",
           23
          ],
          [
           "PASTEUR - AMIA",
           24
          ],
          [
           "PUEYRREDON",
           25
          ],
          [
           "CARLOS GARDEL",
           26
          ],
          [
           "ALMAGRO - MEDRANO",
           27
          ],
          [
           "ANGEL GALLARDO",
           28
          ],
          [
           "MALABIA - OSVALDO PUGLIESE",
           29
          ],
          [
           "DORREGO",
           30
          ],
          [
           "PERU",
           31
          ],
          [
           "PIEDRAS",
           32
          ],
          [
           "LIMA",
           33
          ],
          [
           "SAENZ PEÑA",
           34
          ],
          [
           "CONGRESO - PDTE. DR. RAÚL R. ALFONSÍN",
           35
          ],
          [
           "PASCO",
           36
          ],
          [
           "ALBERTI",
           37
          ],
          [
           "PLAZA DE MISERERE",
           38
          ],
          [
           "LORIA",
           39
          ],
          [
           "CASTRO BARROS",
           40
          ],
          [
           "RIO DE JANEIRO",
           41
          ],
          [
           "ACOYTE",
           42
          ],
          [
           "PRIMERA JUNTA",
           43
          ],
          [
           "BOLIVAR",
           44
          ],
          [
           "BELGRANO",
           45
          ],
          [
           "INDEPENDENCIA",
           46
          ],
          [
           "SAN JOSE",
           47
          ],
          [
           "ENTRE RIOS - RODOLFO WALSH",
           48
          ],
          [
           "PICHINCHA",
           49
          ],
          [
           "JUJUY",
           50
          ],
          [
           "URQUIZA",
           51
          ],
          [
           "JOSE MARIA MORENO",
           52
          ],
          [
           "EMILIO MITRE",
           53
          ],
          [
           "BULNES",
           54
          ],
          [
           "PUEYRREDON",
           55
          ],
          [
           "CALLAO",
           56
          ],
          [
           "SAN MARTIN",
           57
          ],
          [
           "SAN JUAN",
           58
          ],
          [
           "MEDALLA MILAGROSA",
           59
          ],
          [
           "AV. LA PLATA",
           60
          ],
          [
           "BOEDO",
           61
          ],
          [
           "MINISTRO CARRANZA - MIGUEL ABUELO",
           62
          ],
          [
           "OLLEROS",
           63
          ],
          [
           "JOSE HERNANDEZ",
           64
          ],
          [
           "JURAMENTO",
           65
          ],
          [
           "FEDERICO LACROZE",
           66
          ],
          [
           "PLAZA DE LOS VIRREYES - EVA PERON",
           67
          ],
          [
           "VARELA",
           68
          ],
          [
           "CATEDRAL",
           69
          ],
          [
           "PLAZA DE MAYO",
           70
          ],
          [
           "CONGRESO DE TUCUMAN",
           71
          ],
          [
           "LEANDRO N. ALEM",
           72
          ],
          [
           "TRONADOR - VILLA ORTÚZAR",
           73
          ],
          [
           "DE LOS INCAS -PQUE. CHAS",
           74
          ],
          [
           "CARABOBO",
           75
          ],
          [
           "PUAN",
           76
          ],
          [
           "CORRIENTES",
           77
          ],
          [
           "PARQUE PATRICIOS",
           78
          ],
          [
           "HOSPITALES",
           79
          ],
          [
           "ECHEVERRÍA",
           80
          ],
          [
           "JUAN MANUEL DE ROSAS - VILLA URQUIZA",
           81
          ],
          [
           "SAN PEDRITO",
           83
          ],
          [
           "SAN JOSÉ DE FLORES",
           82
          ],
          [
           "CÓRDOBA",
           84
          ],
          [
           "LAS HERAS",
           85
          ],
          [
           "SANTA FE - CARLOS JAUREGUI",
           86
          ],
          [
           "FACULTAD DE DERECHO - JULIETA LANTERI",
           87
          ],
          [
           "RETIRO",
           90
          ],
          [
           "CATALINAS",
           89
          ],
          [
           "CORREO CENTRAL",
           88
          ]
         ],
         "hovertemplate": "type=subte<br>lat=%{lat}<br>lon=%{lon}<br>stop_name=%{customdata[0]}<br>stop_id=%{customdata[1]}<extra></extra>",
         "lat": [
          -34.635750180343,
          -34.6293756575728,
          -34.6230923205019,
          -34.6152421522706,
          -34.6089352416215,
          -34.6042452029629,
          -34.5997570807639,
          -34.6015871651394,
          -34.5916278437199,
          -34.5851559440493,
          -34.5814111936045,
          -34.5784220227904,
          -34.5911938083332,
          -34.6017699230114,
          -34.604843739914,
          -34.6089833148827,
          -34.6126172798037,
          -34.6181255992933,
          -34.6276194522548,
          -34.6032972855775,
          -34.6036371051817,
          -34.6040935531057,
          -34.6044195428608,
          -34.6046429679193,
          -34.6045810553512,
          -34.6040795173475,
          -34.6031649010973,
          -34.6021622293427,
          -34.5989673641588,
          -34.5917181536198,
          -34.6085590738532,
          -34.608881721215,
          -34.6090998065519,
          -34.6094125865027,
          -34.6092256843174,
          -34.6096459617052,
          -34.6098335784398,
          -34.6098172456706,
          -34.6107816904504,
          -34.6117702291255,
          -34.6152056103312,
          -34.6182799671446,
          -34.6204052128589,
          -34.6092424288608,
          -34.6128491058186,
          -34.6179373939772,
          -34.6223394919367,
          -34.6227196661278,
          -34.6231098657791,
          -34.6238657115835,
          -34.6246537864662,
          -34.6280175487742,
          -34.6310418421655,
          -34.5882371084182,
          -34.5944257186285,
          -34.599639552419,
          -34.5950574047792,
          -34.6219167322081,
          -34.6363891893858,
          -34.627015467002,
          -34.6253661058926,
          -34.5751783641113,
          -34.5700123078257,
          -34.5662152421589,
          -34.5623090869974,
          -34.5871978529904,
          -34.6433121624098,
          -34.640137352298,
          -34.6078023364289,
          -34.6088103091689,
          -34.5556417664261,
          -34.6029894966332,
          -34.5840946201161,
          -34.5812488459579,
          -34.6266665931803,
          -34.6235289528893,
          -34.6044902016081,
          -34.6384059882851,
          -34.6412689433909,
          -34.5777973775423,
          -34.5743189142748,
          -34.630707087006,
          -34.629087226797,
          -34.5984551117734,
          -34.5874615464262,
          -34.5945253962188,
          -34.5830363400093,
          -34.592114361931,
          -34.596596818975,
          -34.6030139059231
         ],
         "legendgroup": "subte",
         "lon": [
          -58.3989275853601,
          -58.4009695560165,
          -58.402322730424,
          -58.40473171649,
          -58.4060363810352,
          -58.3805743428896,
          -58.3979237555734,
          -58.3851423588013,
          -58.4071613201899,
          -58.4159554190067,
          -58.4211960101264,
          -58.4257114411123,
          -58.3740182164816,
          -58.3781557828244,
          -58.3795299800739,
          -58.3806107179579,
          -58.38044446966,
          -58.3801736104752,
          -58.3814344339343,
          -58.3750715182636,
          -58.3807148471409,
          -58.3872961335408,
          -58.3923142350887,
          -58.399474256679,
          -58.4053994398434,
          -58.4117625996321,
          -58.4209624702706,
          -58.4312738603246,
          -58.4397714984155,
          -58.4475730925312,
          -58.3742677264304,
          -58.3790851530908,
          -58.3822324010181,
          -58.3867771940873,
          -58.3926688246648,
          -58.3984269918123,
          -58.401207534233,
          -58.4067071165088,
          -58.4151857088376,
          -58.4218156713706,
          -58.4295003232997,
          -58.4364285288493,
          -58.4411776251109,
          -58.3736842241685,
          -58.3775808865406,
          -58.3815349417122,
          -58.3851485496238,
          -58.3915116999715,
          -58.3970680746626,
          -58.4029365802561,
          -58.4093907834436,
          -58.4338162502395,
          -58.4421707059652,
          -58.4112939013936,
          -58.4023953425351,
          -58.3931251809727,
          -58.3778190509867,
          -58.3799211788651,
          -58.4502782563709,
          -58.4267890228972,
          -58.4155328189678,
          -58.4350135337338,
          -58.4446681483349,
          -58.4521256033889,
          -58.456489134589,
          -58.455029286281,
          -58.4616517616898,
          -58.4578917557731,
          -58.3739558069511,
          -58.3709684989674,
          -58.4623784082243,
          -58.3699298501224,
          -58.4662272046921,
          -58.4742408261771,
          -58.4567097975238,
          -58.4486476540264,
          -58.4054503284842,
          -58.4057948259686,
          -58.4123851512005,
          -58.4810135036721,
          -58.4863853478891,
          -58.4696396292247,
          -58.4635405106286,
          -58.4037214964387,
          -58.3972155751019,
          -58.4023761750349,
          -58.39101882656,
          -58.3758498374305,
          -58.3717003329901,
          -58.3704125010713
         ],
         "marker": {
          "color": "#EF553B"
         },
         "mode": "markers",
         "name": "subte",
         "showlegend": true,
         "subplot": "mapbox",
         "type": "scattermapbox"
        },
        {
         "customdata": [
          [
           "INTENDENTE SAGUIER",
           1
          ],
          [
           "BALBASTRO (Cementerio de Flores)",
           2
          ],
          [
           "ANA MARÍA JANER",
           3
          ],
          [
           "FERNANDEZ DE LA CRUZ",
           4
          ],
          [
           "PTE. ILLIA (Lacarra)",
           5
          ],
          [
           "PARQUE DE LA CIUDAD",
           6
          ],
          [
           "CECILIA GRIERSON",
           7
          ],
          [
           "ESCALADA",
           8
          ],
          [
           "GENERAL SAVIO",
           9
          ],
          [
           "GABINO EZEIZA (Av. Cnel. Roca)",
           10
          ],
          [
           "NICOLÁS DESCALZI",
           11
          ],
          [
           "LARRAZÁBAL",
           12
          ],
          [
           "CENTRO CIVICO LUGANO",
           13
          ],
          [
           "ANA DÍAZ",
           14
          ],
          [
           "MARIANO ACOSTA (Bo. R. Carrillo)",
           15
          ],
          [
           "SOMELLERA",
           16
          ],
          [
           "NTRA. SRA. DE FÁTIMA",
           17
          ],
          [
           "POLA",
           18
          ]
         ],
         "hovertemplate": "type=premetro<br>lat=%{lat}<br>lon=%{lon}<br>stop_name=%{customdata[0]}<br>stop_id=%{customdata[1]}<extra></extra>",
         "lat": [
          -34.6437565970805,
          -34.6486005420351,
          -34.6594991467729,
          -34.6622249467795,
          -34.6653680271808,
          -34.6690901145736,
          -34.6724582308545,
          -34.6745264482372,
          -34.6883531329925,
          -34.686081208835,
          -34.6830667667194,
          -34.6805719548239,
          -34.6824577608497,
          -34.6808829242265,
          -34.6544327801137,
          -34.6564409551024,
          -34.6604582616429,
          -34.6781309500937
         ],
         "legendgroup": "premetro",
         "lon": [
          -58.4614910346889,
          -58.4564145813745,
          -58.4500470792493,
          -58.4466067042219,
          -58.4485133000082,
          -58.4543251886428,
          -58.4579600157419,
          -58.4600751595769,
          -58.4595995738502,
          -58.4580715309316,
          -58.4620442328871,
          -58.4653695788337,
          -58.466124720094,
          -58.466923438707,
          -58.4564801393051,
          -58.4539052789963,
          -58.4488613949717,
          -58.4644621725649
         ],
         "marker": {
          "color": "#00cc96"
         },
         "mode": "markers",
         "name": "premetro",
         "showlegend": true,
         "subplot": "mapbox",
         "type": "scattermapbox"
        }
       ],
       "layout": {
        "height": 800,
        "legend": {
         "title": {
          "text": "type"
         },
         "tracegroupgap": 0
        },
        "mapbox": {
         "center": {
          "lat": -34.6723096192288,
          "lon": -58.50000007378052
         },
         "domain": {
          "x": [
           0,
           1
          ],
          "y": [
           0,
           1
          ]
         },
         "style": "open-street-map",
         "zoom": 10
        },
        "margin": {
         "b": 0,
         "l": 0,
         "r": 0,
         "t": 0
        },
        "template": {
         "data": {
          "bar": [
           {
            "error_x": {
             "color": "#2a3f5f"
            },
            "error_y": {
             "color": "#2a3f5f"
            },
            "marker": {
             "line": {
              "color": "#E5ECF6",
              "width": 0.5
             },
             "pattern": {
              "fillmode": "overlay",
              "size": 10,
              "solidity": 0.2
             }
            },
            "type": "bar"
           }
          ],
          "barpolar": [
           {
            "marker": {
             "line": {
              "color": "#E5ECF6",
              "width": 0.5
             },
             "pattern": {
              "fillmode": "overlay",
              "size": 10,
              "solidity": 0.2
             }
            },
            "type": "barpolar"
           }
          ],
          "carpet": [
           {
            "aaxis": {
             "endlinecolor": "#2a3f5f",
             "gridcolor": "white",
             "linecolor": "white",
             "minorgridcolor": "white",
             "startlinecolor": "#2a3f5f"
            },
            "baxis": {
             "endlinecolor": "#2a3f5f",
             "gridcolor": "white",
             "linecolor": "white",
             "minorgridcolor": "white",
             "startlinecolor": "#2a3f5f"
            },
            "type": "carpet"
           }
          ],
          "choropleth": [
           {
            "colorbar": {
             "outlinewidth": 0,
             "ticks": ""
            },
            "type": "choropleth"
           }
          ],
          "contour": [
           {
            "colorbar": {
             "outlinewidth": 0,
             "ticks": ""
            },
            "colorscale": [
             [
              0,
              "#0d0887"
             ],
             [
              0.1111111111111111,
              "#46039f"
             ],
             [
              0.2222222222222222,
              "#7201a8"
             ],
             [
              0.3333333333333333,
              "#9c179e"
             ],
             [
              0.4444444444444444,
              "#bd3786"
             ],
             [
              0.5555555555555556,
              "#d8576b"
             ],
             [
              0.6666666666666666,
              "#ed7953"
             ],
             [
              0.7777777777777778,
              "#fb9f3a"
             ],
             [
              0.8888888888888888,
              "#fdca26"
             ],
             [
              1,
              "#f0f921"
             ]
            ],
            "type": "contour"
           }
          ],
          "contourcarpet": [
           {
            "colorbar": {
             "outlinewidth": 0,
             "ticks": ""
            },
            "type": "contourcarpet"
           }
          ],
          "heatmap": [
           {
            "colorbar": {
             "outlinewidth": 0,
             "ticks": ""
            },
            "colorscale": [
             [
              0,
              "#0d0887"
             ],
             [
              0.1111111111111111,
              "#46039f"
             ],
             [
              0.2222222222222222,
              "#7201a8"
             ],
             [
              0.3333333333333333,
              "#9c179e"
             ],
             [
              0.4444444444444444,
              "#bd3786"
             ],
             [
              0.5555555555555556,
              "#d8576b"
             ],
             [
              0.6666666666666666,
              "#ed7953"
             ],
             [
              0.7777777777777778,
              "#fb9f3a"
             ],
             [
              0.8888888888888888,
              "#fdca26"
             ],
             [
              1,
              "#f0f921"
             ]
            ],
            "type": "heatmap"
           }
          ],
          "heatmapgl": [
           {
            "colorbar": {
             "outlinewidth": 0,
             "ticks": ""
            },
            "colorscale": [
             [
              0,
              "#0d0887"
             ],
             [
              0.1111111111111111,
              "#46039f"
             ],
             [
              0.2222222222222222,
              "#7201a8"
             ],
             [
              0.3333333333333333,
              "#9c179e"
             ],
             [
              0.4444444444444444,
              "#bd3786"
             ],
             [
              0.5555555555555556,
              "#d8576b"
             ],
             [
              0.6666666666666666,
              "#ed7953"
             ],
             [
              0.7777777777777778,
              "#fb9f3a"
             ],
             [
              0.8888888888888888,
              "#fdca26"
             ],
             [
              1,
              "#f0f921"
             ]
            ],
            "type": "heatmapgl"
           }
          ],
          "histogram": [
           {
            "marker": {
             "pattern": {
              "fillmode": "overlay",
              "size": 10,
              "solidity": 0.2
             }
            },
            "type": "histogram"
           }
          ],
          "histogram2d": [
           {
            "colorbar": {
             "outlinewidth": 0,
             "ticks": ""
            },
            "colorscale": [
             [
              0,
              "#0d0887"
             ],
             [
              0.1111111111111111,
              "#46039f"
             ],
             [
              0.2222222222222222,
              "#7201a8"
             ],
             [
              0.3333333333333333,
              "#9c179e"
             ],
             [
              0.4444444444444444,
              "#bd3786"
             ],
             [
              0.5555555555555556,
              "#d8576b"
             ],
             [
              0.6666666666666666,
              "#ed7953"
             ],
             [
              0.7777777777777778,
              "#fb9f3a"
             ],
             [
              0.8888888888888888,
              "#fdca26"
             ],
             [
              1,
              "#f0f921"
             ]
            ],
            "type": "histogram2d"
           }
          ],
          "histogram2dcontour": [
           {
            "colorbar": {
             "outlinewidth": 0,
             "ticks": ""
            },
            "colorscale": [
             [
              0,
              "#0d0887"
             ],
             [
              0.1111111111111111,
              "#46039f"
             ],
             [
              0.2222222222222222,
              "#7201a8"
             ],
             [
              0.3333333333333333,
              "#9c179e"
             ],
             [
              0.4444444444444444,
              "#bd3786"
             ],
             [
              0.5555555555555556,
              "#d8576b"
             ],
             [
              0.6666666666666666,
              "#ed7953"
             ],
             [
              0.7777777777777778,
              "#fb9f3a"
             ],
             [
              0.8888888888888888,
              "#fdca26"
             ],
             [
              1,
              "#f0f921"
             ]
            ],
            "type": "histogram2dcontour"
           }
          ],
          "mesh3d": [
           {
            "colorbar": {
             "outlinewidth": 0,
             "ticks": ""
            },
            "type": "mesh3d"
           }
          ],
          "parcoords": [
           {
            "line": {
             "colorbar": {
              "outlinewidth": 0,
              "ticks": ""
             }
            },
            "type": "parcoords"
           }
          ],
          "pie": [
           {
            "automargin": true,
            "type": "pie"
           }
          ],
          "scatter": [
           {
            "fillpattern": {
             "fillmode": "overlay",
             "size": 10,
             "solidity": 0.2
            },
            "type": "scatter"
           }
          ],
          "scatter3d": [
           {
            "line": {
             "colorbar": {
              "outlinewidth": 0,
              "ticks": ""
             }
            },
            "marker": {
             "colorbar": {
              "outlinewidth": 0,
              "ticks": ""
             }
            },
            "type": "scatter3d"
           }
          ],
          "scattercarpet": [
           {
            "marker": {
             "colorbar": {
              "outlinewidth": 0,
              "ticks": ""
             }
            },
            "type": "scattercarpet"
           }
          ],
          "scattergeo": [
           {
            "marker": {
             "colorbar": {
              "outlinewidth": 0,
              "ticks": ""
             }
            },
            "type": "scattergeo"
           }
          ],
          "scattergl": [
           {
            "marker": {
             "colorbar": {
              "outlinewidth": 0,
              "ticks": ""
             }
            },
            "type": "scattergl"
           }
          ],
          "scattermapbox": [
           {
            "marker": {
             "colorbar": {
              "outlinewidth": 0,
              "ticks": ""
             }
            },
            "type": "scattermapbox"
           }
          ],
          "scatterpolar": [
           {
            "marker": {
             "colorbar": {
              "outlinewidth": 0,
              "ticks": ""
             }
            },
            "type": "scatterpolar"
           }
          ],
          "scatterpolargl": [
           {
            "marker": {
             "colorbar": {
              "outlinewidth": 0,
              "ticks": ""
             }
            },
            "type": "scatterpolargl"
           }
          ],
          "scatterternary": [
           {
            "marker": {
             "colorbar": {
              "outlinewidth": 0,
              "ticks": ""
             }
            },
            "type": "scatterternary"
           }
          ],
          "surface": [
           {
            "colorbar": {
             "outlinewidth": 0,
             "ticks": ""
            },
            "colorscale": [
             [
              0,
              "#0d0887"
             ],
             [
              0.1111111111111111,
              "#46039f"
             ],
             [
              0.2222222222222222,
              "#7201a8"
             ],
             [
              0.3333333333333333,
              "#9c179e"
             ],
             [
              0.4444444444444444,
              "#bd3786"
             ],
             [
              0.5555555555555556,
              "#d8576b"
             ],
             [
              0.6666666666666666,
              "#ed7953"
             ],
             [
              0.7777777777777778,
              "#fb9f3a"
             ],
             [
              0.8888888888888888,
              "#fdca26"
             ],
             [
              1,
              "#f0f921"
             ]
            ],
            "type": "surface"
           }
          ],
          "table": [
           {
            "cells": {
             "fill": {
              "color": "#EBF0F8"
             },
             "line": {
              "color": "white"
             }
            },
            "header": {
             "fill": {
              "color": "#C8D4E3"
             },
             "line": {
              "color": "white"
             }
            },
            "type": "table"
           }
          ]
         },
         "layout": {
          "annotationdefaults": {
           "arrowcolor": "#2a3f5f",
           "arrowhead": 0,
           "arrowwidth": 1
          },
          "autotypenumbers": "strict",
          "coloraxis": {
           "colorbar": {
            "outlinewidth": 0,
            "ticks": ""
           }
          },
          "colorscale": {
           "diverging": [
            [
             0,
             "#8e0152"
            ],
            [
             0.1,
             "#c51b7d"
            ],
            [
             0.2,
             "#de77ae"
            ],
            [
             0.3,
             "#f1b6da"
            ],
            [
             0.4,
             "#fde0ef"
            ],
            [
             0.5,
             "#f7f7f7"
            ],
            [
             0.6,
             "#e6f5d0"
            ],
            [
             0.7,
             "#b8e186"
            ],
            [
             0.8,
             "#7fbc41"
            ],
            [
             0.9,
             "#4d9221"
            ],
            [
             1,
             "#276419"
            ]
           ],
           "sequential": [
            [
             0,
             "#0d0887"
            ],
            [
             0.1111111111111111,
             "#46039f"
            ],
            [
             0.2222222222222222,
             "#7201a8"
            ],
            [
             0.3333333333333333,
             "#9c179e"
            ],
            [
             0.4444444444444444,
             "#bd3786"
            ],
            [
             0.5555555555555556,
             "#d8576b"
            ],
            [
             0.6666666666666666,
             "#ed7953"
            ],
            [
             0.7777777777777778,
             "#fb9f3a"
            ],
            [
             0.8888888888888888,
             "#fdca26"
            ],
            [
             1,
             "#f0f921"
            ]
           ],
           "sequentialminus": [
            [
             0,
             "#0d0887"
            ],
            [
             0.1111111111111111,
             "#46039f"
            ],
            [
             0.2222222222222222,
             "#7201a8"
            ],
            [
             0.3333333333333333,
             "#9c179e"
            ],
            [
             0.4444444444444444,
             "#bd3786"
            ],
            [
             0.5555555555555556,
             "#d8576b"
            ],
            [
             0.6666666666666666,
             "#ed7953"
            ],
            [
             0.7777777777777778,
             "#fb9f3a"
            ],
            [
             0.8888888888888888,
             "#fdca26"
            ],
            [
             1,
             "#f0f921"
            ]
           ]
          },
          "colorway": [
           "#636efa",
           "#EF553B",
           "#00cc96",
           "#ab63fa",
           "#FFA15A",
           "#19d3f3",
           "#FF6692",
           "#B6E880",
           "#FF97FF",
           "#FECB52"
          ],
          "font": {
           "color": "#2a3f5f"
          },
          "geo": {
           "bgcolor": "white",
           "lakecolor": "white",
           "landcolor": "#E5ECF6",
           "showlakes": true,
           "showland": true,
           "subunitcolor": "white"
          },
          "hoverlabel": {
           "align": "left"
          },
          "hovermode": "closest",
          "mapbox": {
           "style": "light"
          },
          "paper_bgcolor": "white",
          "plot_bgcolor": "#E5ECF6",
          "polar": {
           "angularaxis": {
            "gridcolor": "white",
            "linecolor": "white",
            "ticks": ""
           },
           "bgcolor": "#E5ECF6",
           "radialaxis": {
            "gridcolor": "white",
            "linecolor": "white",
            "ticks": ""
           }
          },
          "scene": {
           "xaxis": {
            "backgroundcolor": "#E5ECF6",
            "gridcolor": "white",
            "gridwidth": 2,
            "linecolor": "white",
            "showbackground": true,
            "ticks": "",
            "zerolinecolor": "white"
           },
           "yaxis": {
            "backgroundcolor": "#E5ECF6",
            "gridcolor": "white",
            "gridwidth": 2,
            "linecolor": "white",
            "showbackground": true,
            "ticks": "",
            "zerolinecolor": "white"
           },
           "zaxis": {
            "backgroundcolor": "#E5ECF6",
            "gridcolor": "white",
            "gridwidth": 2,
            "linecolor": "white",
            "showbackground": true,
            "ticks": "",
            "zerolinecolor": "white"
           }
          },
          "shapedefaults": {
           "line": {
            "color": "#2a3f5f"
           }
          },
          "ternary": {
           "aaxis": {
            "gridcolor": "white",
            "linecolor": "white",
            "ticks": ""
           },
           "baxis": {
            "gridcolor": "white",
            "linecolor": "white",
            "ticks": ""
           },
           "bgcolor": "#E5ECF6",
           "caxis": {
            "gridcolor": "white",
            "linecolor": "white",
            "ticks": ""
           }
          },
          "title": {
           "x": 0.05
          },
          "xaxis": {
           "automargin": true,
           "gridcolor": "white",
           "linecolor": "white",
           "ticks": "",
           "title": {
            "standoff": 15
           },
           "zerolinecolor": "white",
           "zerolinewidth": 2
          },
          "yaxis": {
           "automargin": true,
           "gridcolor": "white",
           "linecolor": "white",
           "ticks": "",
           "title": {
            "standoff": 15
           },
           "zerolinecolor": "white",
           "zerolinewidth": 2
          }
         }
        },
        "width": 1600
       }
      }
     },
     "metadata": {},
     "output_type": "display_data"
    }
   ],
   "source": [
    "color_scale = [(0, 'orange'), (1,'red')]\n",
    "\n",
    "fig = px.scatter_mapbox(df,\n",
    "                        lat=\"lat\",\n",
    "                        lon=\"lon\",\n",
    "                        hover_data=[\"stop_name\", \"stop_id\"],\n",
    "                        color=\"type\",\n",
    "                        color_continuous_scale=color_scale,\n",
    "                        zoom=10,\n",
    "                        height=800,\n",
    "                        width=1600)\n",
    "fig.update_layout(mapbox_style=\"open-street-map\")\n",
    "fig.update_layout(margin={\"r\":0,\"t\":0,\"l\":0,\"b\":0})\n",
    "fig.show()"
   ]
  },
  {
   "cell_type": "code",
   "execution_count": 157,
   "id": "0fb1a642",
   "metadata": {},
   "outputs": [],
   "source": [
    "centro_geografico_caba = [-34.61448064637565, -58.44638197269814]\n",
    "centro_geografico_plata = [-34.92137784728068, -57.95455274162061]"
   ]
  },
  {
   "cell_type": "code",
   "execution_count": 119,
   "id": "1e9a433a",
   "metadata": {},
   "outputs": [],
   "source": [
    "from geopy import distance"
   ]
  },
  {
   "cell_type": "code",
   "execution_count": 158,
   "id": "384b89de",
   "metadata": {},
   "outputs": [],
   "source": [
    "df[\"dist_centro_caba\"] = df.apply(lambda x: distance.distance(centro_geografico_caba, [x.lat, x.lon]).km, axis=1)\n",
    "df[\"dist_centro_plata\"] = df.apply(lambda x: distance.distance(centro_geografico_plata, [x.lat, x.lon]).km, axis=1)\n"
   ]
  },
  {
   "cell_type": "code",
   "execution_count": 165,
   "id": "c01ba0eb",
   "metadata": {},
   "outputs": [
    {
     "data": {
      "application/vnd.plotly.v1+json": {
       "config": {
        "plotlyServerURL": "https://plot.ly"
       },
       "data": [
        {
         "customdata": [
          [
           "Ciudadela",
           84
          ],
          [
           "Liniers",
           234
          ],
          [
           "Villa Luro",
           423
          ],
          [
           "Floresta",
           140
          ],
          [
           "Flores",
           139
          ],
          [
           "Caballito",
           50
          ],
          [
           "Once",
           293
          ],
          [
           "Vicente López",
           408
          ],
          [
           "Rivadavia",
           337
          ],
          [
           "Núñez",
           287
          ],
          [
           "Belgrano C",
           34
          ],
          [
           "L. de la Torre",
           229
          ],
          [
           "Retiro LM",
           332
          ],
          [
           "Retiro LM",
           332
          ],
          [
           "Retiro LM",
           332
          ],
          [
           "Florida",
           141
          ],
          [
           "Juan B. Justo",
           200
          ],
          [
           "Saavedra",
           346
          ],
          [
           "Coghlan",
           90
          ],
          [
           "Belgrano R",
           35
          ],
          [
           "Belgrano R",
           35
          ],
          [
           "Colegiales",
           91
          ],
          [
           "Colegiales",
           91
          ],
          [
           "Ministro Carranza",
           272
          ],
          [
           "Ministro Carranza",
           272
          ],
          [
           "3 de Febrero",
           1
          ],
          [
           "3 de Febrero",
           1
          ],
          [
           "San Andrés",
           353
          ],
          [
           "San Martín",
           360
          ],
          [
           "Miguelete",
           271
          ],
          [
           "Pueyrredón",
           318
          ],
          [
           "General Urquiza",
           150
          ],
          [
           "L. M. Drago",
           236
          ],
          [
           "Constitución",
           93
          ],
          [
           "Constitución",
           93
          ],
          [
           "Constitución",
           93
          ],
          [
           "Constitución",
           93
          ],
          [
           "Constitución",
           93
          ],
          [
           "Constitución",
           93
          ],
          [
           "S. y Kosteki",
           368
          ],
          [
           "S. y Kosteki",
           368
          ],
          [
           "S. y Kosteki",
           368
          ],
          [
           "S. y Kosteki",
           368
          ],
          [
           "S. y Kosteki",
           368
          ],
          [
           "Pereyra",
           303
          ],
          [
           "Villa Elisa",
           419
          ],
          [
           "City Bell",
           83
          ],
          [
           "Gonnet",
           153
          ],
          [
           "Ringuelet",
           334
          ],
          [
           "Tolosa",
           392
          ],
          [
           "La Plata",
           217
          ],
          [
           "La Plata",
           217
          ],
          [
           "Gerli",
           151
          ],
          [
           "Gerli",
           151
          ],
          [
           "Gerli",
           151
          ],
          [
           "Hipólito Yrigoyen",
           172
          ],
          [
           "Hipólito Yrigoyen",
           172
          ],
          [
           "Hipólito Yrigoyen",
           172
          ],
          [
           "Marinos del Fournier",
           260
          ],
          [
           "Marinos del Fournier",
           260
          ],
          [
           "Villa Madero",
           424
          ],
          [
           "Villa Madero",
           424
          ],
          [
           "Villa Lugano",
           422
          ],
          [
           "Villa Lugano",
           422
          ],
          [
           "Presidente Illia",
           313
          ],
          [
           "Presidente Illia",
           313
          ],
          [
           "Villa Soldati",
           427
          ],
          [
           "Villa Soldati",
           427
          ],
          [
           "Dr. Sáenz",
           121
          ],
          [
           "Dr. Sáenz nueva",
           525
          ],
          [
           "Arquitectura",
           25
          ],
          [
           "Informática",
           179
          ],
          [
           "Medicina",
           267
          ],
          [
           "Periodismo",
           304
          ],
          [
           "Diagonal 73",
           113
          ],
          [
           "Policlínico",
           311
          ],
          [
           "Villa del Parque",
           415
          ],
          [
           "Sáenz Peña",
           348
          ],
          [
           "Caseros",
           67
          ],
          [
           "Santos Lugares",
           369
          ],
          [
           "Devoto",
           112
          ],
          [
           "Palermo",
           297
          ],
          [
           "Retiro LSM",
           463
          ]
         ],
         "hovertemplate": "type=tren<br>lat=%{lat}<br>lon=%{lon}<br>stop_name=%{customdata[0]}<br>stop_id=%{customdata[1]}<extra></extra>",
         "lat": [
          -34.6399227,
          -34.6388728,
          -34.6362494,
          -34.6323755,
          -34.6278504,
          -34.6192442,
          -34.6086496,
          -34.5247233,
          -34.5365204,
          -34.5482911,
          -34.5588016,
          -34.5625299,
          -34.5899757,
          -34.5899757,
          -34.5899757,
          -34.5304745,
          -34.5425501,
          -34.5540735,
          -34.5652607,
          -34.5680506,
          -34.5680506,
          -34.5729746,
          -34.5729746,
          -34.575705,
          -34.575705,
          -34.5717485,
          -34.5717485,
          -34.5635642,
          -34.5734195,
          -34.5810718,
          -34.5804962,
          -34.574712,
          -34.5684173,
          -34.6301709,
          -34.6301709,
          -34.6301709,
          -34.6301709,
          -34.6301709,
          -34.6301709,
          -34.6613896,
          -34.6613896,
          -34.6613896,
          -34.6613896,
          -34.6613896,
          -34.8366304,
          -34.8495861,
          -34.8657239,
          -34.879841,
          -34.8813876,
          -34.8909547,
          -34.9038945,
          -34.9038945,
          -34.6857287,
          -34.6857287,
          -34.6857287,
          -34.6536422,
          -34.6536422,
          -34.6536422,
          -34.6901777,
          -34.6901777,
          -34.6840978,
          -34.6840978,
          -34.67713,
          -34.67713,
          -34.6661376,
          -34.6661376,
          -34.6622014,
          -34.6622014,
          -34.6481153,
          -34.6490835,
          -34.9049408,
          -34.9033642,
          -34.9090514,
          -34.9122051,
          -34.920327,
          -34.9253053,
          -34.6013699,
          -34.6031533,
          -34.6045861,
          -34.6036745,
          -34.6026515,
          -34.5796614,
          -34.5881302
         ],
         "legendgroup": "tren",
         "lon": [
          -58.5411225,
          -58.5263409,
          -58.5021311,
          -58.4808913,
          -58.4661766,
          -58.4436522,
          -58.4088675,
          -58.4728065,
          -58.4680326,
          -58.4628516,
          -58.4489445,
          -58.4367116,
          -58.376129,
          -58.376129,
          -58.376129,
          -58.4944563,
          -58.494657,
          -58.4870632,
          -58.4753485,
          -58.4618081,
          -58.4618081,
          -58.448253,
          -58.448253,
          -58.435404,
          -58.435404,
          -58.4249824,
          -58.4249824,
          -58.5406609,
          -58.5319579,
          -58.5170793,
          -58.501898,
          -58.4878391,
          -58.4789912,
          -58.3805834,
          -58.3805834,
          -58.3805834,
          -58.3805834,
          -58.3805834,
          -58.3805834,
          -58.3768325,
          -58.3768325,
          -58.3768325,
          -58.3768325,
          -58.3768325,
          -58.0945403,
          -58.0751851,
          -58.0420495,
          -58.0107856,
          -57.9960622,
          -57.9680983,
          -57.950174,
          -57.950174,
          -58.3826371,
          -58.3826371,
          -58.3826371,
          -58.3788878,
          -58.3788878,
          -58.3788878,
          -58.5076299,
          -58.5076299,
          -58.4925366,
          -58.4925366,
          -58.4769699,
          -58.4769699,
          -58.4502223,
          -58.4502223,
          -58.4408973,
          -58.4408973,
          -58.4199555,
          -58.4158387,
          -57.9431423,
          -57.9357323,
          -57.9278447,
          -57.9242646,
          -57.9190436,
          -57.9213044,
          -58.4935315,
          -58.5274629,
          -58.5644918,
          -58.5407521,
          -58.5124313,
          -58.4274154,
          -58.3756885
         ],
         "marker": {
          "color": "#636efa"
         },
         "mode": "markers",
         "name": "tren",
         "showlegend": true,
         "subplot": "mapbox",
         "type": "scattermapbox"
        }
       ],
       "layout": {
        "height": 800,
        "legend": {
         "title": {
          "text": "type"
         },
         "tracegroupgap": 0
        },
        "mapbox": {
         "center": {
          "lat": -34.66202484939759,
          "lon": -58.36701783734939
         },
         "domain": {
          "x": [
           0,
           1
          ],
          "y": [
           0,
           1
          ]
         },
         "style": "open-street-map",
         "zoom": 10
        },
        "margin": {
         "b": 0,
         "l": 0,
         "r": 0,
         "t": 0
        },
        "template": {
         "data": {
          "bar": [
           {
            "error_x": {
             "color": "#2a3f5f"
            },
            "error_y": {
             "color": "#2a3f5f"
            },
            "marker": {
             "line": {
              "color": "#E5ECF6",
              "width": 0.5
             },
             "pattern": {
              "fillmode": "overlay",
              "size": 10,
              "solidity": 0.2
             }
            },
            "type": "bar"
           }
          ],
          "barpolar": [
           {
            "marker": {
             "line": {
              "color": "#E5ECF6",
              "width": 0.5
             },
             "pattern": {
              "fillmode": "overlay",
              "size": 10,
              "solidity": 0.2
             }
            },
            "type": "barpolar"
           }
          ],
          "carpet": [
           {
            "aaxis": {
             "endlinecolor": "#2a3f5f",
             "gridcolor": "white",
             "linecolor": "white",
             "minorgridcolor": "white",
             "startlinecolor": "#2a3f5f"
            },
            "baxis": {
             "endlinecolor": "#2a3f5f",
             "gridcolor": "white",
             "linecolor": "white",
             "minorgridcolor": "white",
             "startlinecolor": "#2a3f5f"
            },
            "type": "carpet"
           }
          ],
          "choropleth": [
           {
            "colorbar": {
             "outlinewidth": 0,
             "ticks": ""
            },
            "type": "choropleth"
           }
          ],
          "contour": [
           {
            "colorbar": {
             "outlinewidth": 0,
             "ticks": ""
            },
            "colorscale": [
             [
              0,
              "#0d0887"
             ],
             [
              0.1111111111111111,
              "#46039f"
             ],
             [
              0.2222222222222222,
              "#7201a8"
             ],
             [
              0.3333333333333333,
              "#9c179e"
             ],
             [
              0.4444444444444444,
              "#bd3786"
             ],
             [
              0.5555555555555556,
              "#d8576b"
             ],
             [
              0.6666666666666666,
              "#ed7953"
             ],
             [
              0.7777777777777778,
              "#fb9f3a"
             ],
             [
              0.8888888888888888,
              "#fdca26"
             ],
             [
              1,
              "#f0f921"
             ]
            ],
            "type": "contour"
           }
          ],
          "contourcarpet": [
           {
            "colorbar": {
             "outlinewidth": 0,
             "ticks": ""
            },
            "type": "contourcarpet"
           }
          ],
          "heatmap": [
           {
            "colorbar": {
             "outlinewidth": 0,
             "ticks": ""
            },
            "colorscale": [
             [
              0,
              "#0d0887"
             ],
             [
              0.1111111111111111,
              "#46039f"
             ],
             [
              0.2222222222222222,
              "#7201a8"
             ],
             [
              0.3333333333333333,
              "#9c179e"
             ],
             [
              0.4444444444444444,
              "#bd3786"
             ],
             [
              0.5555555555555556,
              "#d8576b"
             ],
             [
              0.6666666666666666,
              "#ed7953"
             ],
             [
              0.7777777777777778,
              "#fb9f3a"
             ],
             [
              0.8888888888888888,
              "#fdca26"
             ],
             [
              1,
              "#f0f921"
             ]
            ],
            "type": "heatmap"
           }
          ],
          "heatmapgl": [
           {
            "colorbar": {
             "outlinewidth": 0,
             "ticks": ""
            },
            "colorscale": [
             [
              0,
              "#0d0887"
             ],
             [
              0.1111111111111111,
              "#46039f"
             ],
             [
              0.2222222222222222,
              "#7201a8"
             ],
             [
              0.3333333333333333,
              "#9c179e"
             ],
             [
              0.4444444444444444,
              "#bd3786"
             ],
             [
              0.5555555555555556,
              "#d8576b"
             ],
             [
              0.6666666666666666,
              "#ed7953"
             ],
             [
              0.7777777777777778,
              "#fb9f3a"
             ],
             [
              0.8888888888888888,
              "#fdca26"
             ],
             [
              1,
              "#f0f921"
             ]
            ],
            "type": "heatmapgl"
           }
          ],
          "histogram": [
           {
            "marker": {
             "pattern": {
              "fillmode": "overlay",
              "size": 10,
              "solidity": 0.2
             }
            },
            "type": "histogram"
           }
          ],
          "histogram2d": [
           {
            "colorbar": {
             "outlinewidth": 0,
             "ticks": ""
            },
            "colorscale": [
             [
              0,
              "#0d0887"
             ],
             [
              0.1111111111111111,
              "#46039f"
             ],
             [
              0.2222222222222222,
              "#7201a8"
             ],
             [
              0.3333333333333333,
              "#9c179e"
             ],
             [
              0.4444444444444444,
              "#bd3786"
             ],
             [
              0.5555555555555556,
              "#d8576b"
             ],
             [
              0.6666666666666666,
              "#ed7953"
             ],
             [
              0.7777777777777778,
              "#fb9f3a"
             ],
             [
              0.8888888888888888,
              "#fdca26"
             ],
             [
              1,
              "#f0f921"
             ]
            ],
            "type": "histogram2d"
           }
          ],
          "histogram2dcontour": [
           {
            "colorbar": {
             "outlinewidth": 0,
             "ticks": ""
            },
            "colorscale": [
             [
              0,
              "#0d0887"
             ],
             [
              0.1111111111111111,
              "#46039f"
             ],
             [
              0.2222222222222222,
              "#7201a8"
             ],
             [
              0.3333333333333333,
              "#9c179e"
             ],
             [
              0.4444444444444444,
              "#bd3786"
             ],
             [
              0.5555555555555556,
              "#d8576b"
             ],
             [
              0.6666666666666666,
              "#ed7953"
             ],
             [
              0.7777777777777778,
              "#fb9f3a"
             ],
             [
              0.8888888888888888,
              "#fdca26"
             ],
             [
              1,
              "#f0f921"
             ]
            ],
            "type": "histogram2dcontour"
           }
          ],
          "mesh3d": [
           {
            "colorbar": {
             "outlinewidth": 0,
             "ticks": ""
            },
            "type": "mesh3d"
           }
          ],
          "parcoords": [
           {
            "line": {
             "colorbar": {
              "outlinewidth": 0,
              "ticks": ""
             }
            },
            "type": "parcoords"
           }
          ],
          "pie": [
           {
            "automargin": true,
            "type": "pie"
           }
          ],
          "scatter": [
           {
            "fillpattern": {
             "fillmode": "overlay",
             "size": 10,
             "solidity": 0.2
            },
            "type": "scatter"
           }
          ],
          "scatter3d": [
           {
            "line": {
             "colorbar": {
              "outlinewidth": 0,
              "ticks": ""
             }
            },
            "marker": {
             "colorbar": {
              "outlinewidth": 0,
              "ticks": ""
             }
            },
            "type": "scatter3d"
           }
          ],
          "scattercarpet": [
           {
            "marker": {
             "colorbar": {
              "outlinewidth": 0,
              "ticks": ""
             }
            },
            "type": "scattercarpet"
           }
          ],
          "scattergeo": [
           {
            "marker": {
             "colorbar": {
              "outlinewidth": 0,
              "ticks": ""
             }
            },
            "type": "scattergeo"
           }
          ],
          "scattergl": [
           {
            "marker": {
             "colorbar": {
              "outlinewidth": 0,
              "ticks": ""
             }
            },
            "type": "scattergl"
           }
          ],
          "scattermapbox": [
           {
            "marker": {
             "colorbar": {
              "outlinewidth": 0,
              "ticks": ""
             }
            },
            "type": "scattermapbox"
           }
          ],
          "scatterpolar": [
           {
            "marker": {
             "colorbar": {
              "outlinewidth": 0,
              "ticks": ""
             }
            },
            "type": "scatterpolar"
           }
          ],
          "scatterpolargl": [
           {
            "marker": {
             "colorbar": {
              "outlinewidth": 0,
              "ticks": ""
             }
            },
            "type": "scatterpolargl"
           }
          ],
          "scatterternary": [
           {
            "marker": {
             "colorbar": {
              "outlinewidth": 0,
              "ticks": ""
             }
            },
            "type": "scatterternary"
           }
          ],
          "surface": [
           {
            "colorbar": {
             "outlinewidth": 0,
             "ticks": ""
            },
            "colorscale": [
             [
              0,
              "#0d0887"
             ],
             [
              0.1111111111111111,
              "#46039f"
             ],
             [
              0.2222222222222222,
              "#7201a8"
             ],
             [
              0.3333333333333333,
              "#9c179e"
             ],
             [
              0.4444444444444444,
              "#bd3786"
             ],
             [
              0.5555555555555556,
              "#d8576b"
             ],
             [
              0.6666666666666666,
              "#ed7953"
             ],
             [
              0.7777777777777778,
              "#fb9f3a"
             ],
             [
              0.8888888888888888,
              "#fdca26"
             ],
             [
              1,
              "#f0f921"
             ]
            ],
            "type": "surface"
           }
          ],
          "table": [
           {
            "cells": {
             "fill": {
              "color": "#EBF0F8"
             },
             "line": {
              "color": "white"
             }
            },
            "header": {
             "fill": {
              "color": "#C8D4E3"
             },
             "line": {
              "color": "white"
             }
            },
            "type": "table"
           }
          ]
         },
         "layout": {
          "annotationdefaults": {
           "arrowcolor": "#2a3f5f",
           "arrowhead": 0,
           "arrowwidth": 1
          },
          "autotypenumbers": "strict",
          "coloraxis": {
           "colorbar": {
            "outlinewidth": 0,
            "ticks": ""
           }
          },
          "colorscale": {
           "diverging": [
            [
             0,
             "#8e0152"
            ],
            [
             0.1,
             "#c51b7d"
            ],
            [
             0.2,
             "#de77ae"
            ],
            [
             0.3,
             "#f1b6da"
            ],
            [
             0.4,
             "#fde0ef"
            ],
            [
             0.5,
             "#f7f7f7"
            ],
            [
             0.6,
             "#e6f5d0"
            ],
            [
             0.7,
             "#b8e186"
            ],
            [
             0.8,
             "#7fbc41"
            ],
            [
             0.9,
             "#4d9221"
            ],
            [
             1,
             "#276419"
            ]
           ],
           "sequential": [
            [
             0,
             "#0d0887"
            ],
            [
             0.1111111111111111,
             "#46039f"
            ],
            [
             0.2222222222222222,
             "#7201a8"
            ],
            [
             0.3333333333333333,
             "#9c179e"
            ],
            [
             0.4444444444444444,
             "#bd3786"
            ],
            [
             0.5555555555555556,
             "#d8576b"
            ],
            [
             0.6666666666666666,
             "#ed7953"
            ],
            [
             0.7777777777777778,
             "#fb9f3a"
            ],
            [
             0.8888888888888888,
             "#fdca26"
            ],
            [
             1,
             "#f0f921"
            ]
           ],
           "sequentialminus": [
            [
             0,
             "#0d0887"
            ],
            [
             0.1111111111111111,
             "#46039f"
            ],
            [
             0.2222222222222222,
             "#7201a8"
            ],
            [
             0.3333333333333333,
             "#9c179e"
            ],
            [
             0.4444444444444444,
             "#bd3786"
            ],
            [
             0.5555555555555556,
             "#d8576b"
            ],
            [
             0.6666666666666666,
             "#ed7953"
            ],
            [
             0.7777777777777778,
             "#fb9f3a"
            ],
            [
             0.8888888888888888,
             "#fdca26"
            ],
            [
             1,
             "#f0f921"
            ]
           ]
          },
          "colorway": [
           "#636efa",
           "#EF553B",
           "#00cc96",
           "#ab63fa",
           "#FFA15A",
           "#19d3f3",
           "#FF6692",
           "#B6E880",
           "#FF97FF",
           "#FECB52"
          ],
          "font": {
           "color": "#2a3f5f"
          },
          "geo": {
           "bgcolor": "white",
           "lakecolor": "white",
           "landcolor": "#E5ECF6",
           "showlakes": true,
           "showland": true,
           "subunitcolor": "white"
          },
          "hoverlabel": {
           "align": "left"
          },
          "hovermode": "closest",
          "mapbox": {
           "style": "light"
          },
          "paper_bgcolor": "white",
          "plot_bgcolor": "#E5ECF6",
          "polar": {
           "angularaxis": {
            "gridcolor": "white",
            "linecolor": "white",
            "ticks": ""
           },
           "bgcolor": "#E5ECF6",
           "radialaxis": {
            "gridcolor": "white",
            "linecolor": "white",
            "ticks": ""
           }
          },
          "scene": {
           "xaxis": {
            "backgroundcolor": "#E5ECF6",
            "gridcolor": "white",
            "gridwidth": 2,
            "linecolor": "white",
            "showbackground": true,
            "ticks": "",
            "zerolinecolor": "white"
           },
           "yaxis": {
            "backgroundcolor": "#E5ECF6",
            "gridcolor": "white",
            "gridwidth": 2,
            "linecolor": "white",
            "showbackground": true,
            "ticks": "",
            "zerolinecolor": "white"
           },
           "zaxis": {
            "backgroundcolor": "#E5ECF6",
            "gridcolor": "white",
            "gridwidth": 2,
            "linecolor": "white",
            "showbackground": true,
            "ticks": "",
            "zerolinecolor": "white"
           }
          },
          "shapedefaults": {
           "line": {
            "color": "#2a3f5f"
           }
          },
          "ternary": {
           "aaxis": {
            "gridcolor": "white",
            "linecolor": "white",
            "ticks": ""
           },
           "baxis": {
            "gridcolor": "white",
            "linecolor": "white",
            "ticks": ""
           },
           "bgcolor": "#E5ECF6",
           "caxis": {
            "gridcolor": "white",
            "linecolor": "white",
            "ticks": ""
           }
          },
          "title": {
           "x": 0.05
          },
          "xaxis": {
           "automargin": true,
           "gridcolor": "white",
           "linecolor": "white",
           "ticks": "",
           "title": {
            "standoff": 15
           },
           "zerolinecolor": "white",
           "zerolinewidth": 2
          },
          "yaxis": {
           "automargin": true,
           "gridcolor": "white",
           "linecolor": "white",
           "ticks": "",
           "title": {
            "standoff": 15
           },
           "zerolinecolor": "white",
           "zerolinewidth": 2
          }
         }
        },
        "width": 1600
       }
      }
     },
     "metadata": {},
     "output_type": "display_data"
    }
   ],
   "source": [
    "color_scale = [(0, 'orange'), (1,'red')]\n",
    "\n",
    "fig = px.scatter_mapbox(df[(df.dist_centro_caba < 11) | (df.dist_centro_plata < 17)],\n",
    "                        lat=\"lat\",\n",
    "                        lon=\"lon\",\n",
    "                        hover_data=[\"stop_name\", \"stop_id\"],\n",
    "                        color=\"type\",\n",
    "                        color_continuous_scale=color_scale,\n",
    "                        zoom=10,\n",
    "                        height=800,\n",
    "                        width=1600)\n",
    "fig.update_layout(mapbox_style=\"open-street-map\")\n",
    "fig.update_layout(margin={\"r\":0,\"t\":0,\"l\":0,\"b\":0})\n",
    "fig.show()"
   ]
  },
  {
   "cell_type": "code",
   "execution_count": 142,
   "id": "6d10d1c1",
   "metadata": {},
   "outputs": [
    {
     "data": {
      "text/html": [
       "<div>\n",
       "<style scoped>\n",
       "    .dataframe tbody tr th:only-of-type {\n",
       "        vertical-align: middle;\n",
       "    }\n",
       "\n",
       "    .dataframe tbody tr th {\n",
       "        vertical-align: top;\n",
       "    }\n",
       "\n",
       "    .dataframe thead th {\n",
       "        text-align: right;\n",
       "    }\n",
       "</style>\n",
       "<table border=\"1\" class=\"dataframe\">\n",
       "  <thead>\n",
       "    <tr style=\"text-align: right;\">\n",
       "      <th></th>\n",
       "      <th>route_id</th>\n",
       "      <th>route_short_name</th>\n",
       "      <th>route_long_name</th>\n",
       "    </tr>\n",
       "  </thead>\n",
       "  <tbody>\n",
       "    <tr>\n",
       "      <th>0</th>\n",
       "      <td>1</td>\n",
       "      <td>Sarmiento</td>\n",
       "      <td>Sarmiento / Once - Moreno</td>\n",
       "    </tr>\n",
       "    <tr>\n",
       "      <th>1</th>\n",
       "      <td>5</td>\n",
       "      <td>Mitre</td>\n",
       "      <td>Mitre / Retiro - Tigre</td>\n",
       "    </tr>\n",
       "  </tbody>\n",
       "</table>\n",
       "</div>"
      ],
      "text/plain": [
       "   route_id route_short_name            route_long_name\n",
       "0         1        Sarmiento  Sarmiento / Once - Moreno\n",
       "1         5            Mitre     Mitre / Retiro - Tigre"
      ]
     },
     "execution_count": 142,
     "metadata": {},
     "output_type": "execute_result"
    }
   ],
   "source": [
    "df_routes = pd.read_csv(\"../data/external/transporte_publico/trenes/routes.txt\")\n",
    "df_routes = df_routes[[\"route_id\", \"route_short_name\", \"route_long_name\"]]\n",
    "df_routes = df_routes.drop_duplicates(keep=\"last\")\n",
    "df_routes.head(2)"
   ]
  },
  {
   "cell_type": "code",
   "execution_count": 143,
   "id": "8c85c059",
   "metadata": {},
   "outputs": [
    {
     "data": {
      "text/html": [
       "<div>\n",
       "<style scoped>\n",
       "    .dataframe tbody tr th:only-of-type {\n",
       "        vertical-align: middle;\n",
       "    }\n",
       "\n",
       "    .dataframe tbody tr th {\n",
       "        vertical-align: top;\n",
       "    }\n",
       "\n",
       "    .dataframe thead th {\n",
       "        text-align: right;\n",
       "    }\n",
       "</style>\n",
       "<table border=\"1\" class=\"dataframe\">\n",
       "  <thead>\n",
       "    <tr style=\"text-align: right;\">\n",
       "      <th></th>\n",
       "      <th>route_id</th>\n",
       "      <th>trip_id</th>\n",
       "    </tr>\n",
       "  </thead>\n",
       "  <tbody>\n",
       "    <tr>\n",
       "      <th>0</th>\n",
       "      <td>1</td>\n",
       "      <td>32001211</td>\n",
       "    </tr>\n",
       "    <tr>\n",
       "      <th>1</th>\n",
       "      <td>1</td>\n",
       "      <td>32011111</td>\n",
       "    </tr>\n",
       "  </tbody>\n",
       "</table>\n",
       "</div>"
      ],
      "text/plain": [
       "   route_id   trip_id\n",
       "0         1  32001211\n",
       "1         1  32011111"
      ]
     },
     "execution_count": 143,
     "metadata": {},
     "output_type": "execute_result"
    }
   ],
   "source": [
    "df_trips = pd.read_csv(\"../data/external/transporte_publico/trenes/trips.txt\")\n",
    "df_trips = df_trips[['route_id',  'trip_id']]\n",
    "df_trips = df_trips.drop_duplicates(keep=\"last\")\n",
    "df_trips.head(2)"
   ]
  },
  {
   "cell_type": "code",
   "execution_count": 144,
   "id": "0d07c3fd",
   "metadata": {},
   "outputs": [
    {
     "data": {
      "text/html": [
       "<div>\n",
       "<style scoped>\n",
       "    .dataframe tbody tr th:only-of-type {\n",
       "        vertical-align: middle;\n",
       "    }\n",
       "\n",
       "    .dataframe tbody tr th {\n",
       "        vertical-align: top;\n",
       "    }\n",
       "\n",
       "    .dataframe thead th {\n",
       "        text-align: right;\n",
       "    }\n",
       "</style>\n",
       "<table border=\"1\" class=\"dataframe\">\n",
       "  <thead>\n",
       "    <tr style=\"text-align: right;\">\n",
       "      <th></th>\n",
       "      <th>trip_id</th>\n",
       "      <th>stop_id</th>\n",
       "    </tr>\n",
       "  </thead>\n",
       "  <tbody>\n",
       "    <tr>\n",
       "      <th>0</th>\n",
       "      <td>32011111</td>\n",
       "      <td>70</td>\n",
       "    </tr>\n",
       "    <tr>\n",
       "      <th>1</th>\n",
       "      <td>32011111</td>\n",
       "      <td>186</td>\n",
       "    </tr>\n",
       "  </tbody>\n",
       "</table>\n",
       "</div>"
      ],
      "text/plain": [
       "    trip_id  stop_id\n",
       "0  32011111       70\n",
       "1  32011111      186"
      ]
     },
     "execution_count": 144,
     "metadata": {},
     "output_type": "execute_result"
    }
   ],
   "source": [
    "df_stop_times = pd.read_csv(\"../data/external/transporte_publico/trenes/stop_times.txt\")\n",
    "df_stop_times = df_stop_times[['trip_id', 'stop_id']]\n",
    "df_stop_times = df_stop_times.drop_duplicates(keep=\"last\")\n",
    "df_stop_times.head(2)"
   ]
  },
  {
   "cell_type": "code",
   "execution_count": 145,
   "id": "fa165aa1",
   "metadata": {},
   "outputs": [],
   "source": [
    "df = df_routes.merge(df_trips, on=\"route_id\").merge(df_stop_times, on=\"trip_id\").merge(df_tren, on=\"stop_id\")"
   ]
  },
  {
   "cell_type": "code",
   "execution_count": 146,
   "id": "a8c41cea",
   "metadata": {},
   "outputs": [
    {
     "data": {
      "text/html": [
       "<div>\n",
       "<style scoped>\n",
       "    .dataframe tbody tr th:only-of-type {\n",
       "        vertical-align: middle;\n",
       "    }\n",
       "\n",
       "    .dataframe tbody tr th {\n",
       "        vertical-align: top;\n",
       "    }\n",
       "\n",
       "    .dataframe thead th {\n",
       "        text-align: right;\n",
       "    }\n",
       "</style>\n",
       "<table border=\"1\" class=\"dataframe\">\n",
       "  <thead>\n",
       "    <tr style=\"text-align: right;\">\n",
       "      <th></th>\n",
       "      <th>route_id</th>\n",
       "      <th>route_short_name</th>\n",
       "      <th>route_long_name</th>\n",
       "      <th>trip_id</th>\n",
       "      <th>stop_id</th>\n",
       "      <th>stop_name</th>\n",
       "      <th>lat</th>\n",
       "      <th>lon</th>\n",
       "      <th>type</th>\n",
       "    </tr>\n",
       "  </thead>\n",
       "  <tbody>\n",
       "    <tr>\n",
       "      <th>0</th>\n",
       "      <td>1</td>\n",
       "      <td>Sarmiento</td>\n",
       "      <td>Sarmiento / Once - Moreno</td>\n",
       "      <td>32001211</td>\n",
       "      <td>70</td>\n",
       "      <td>Castelar</td>\n",
       "      <td>-34.652156</td>\n",
       "      <td>-58.642526</td>\n",
       "      <td>tren</td>\n",
       "    </tr>\n",
       "    <tr>\n",
       "      <th>1</th>\n",
       "      <td>1</td>\n",
       "      <td>Sarmiento</td>\n",
       "      <td>Sarmiento / Once - Moreno</td>\n",
       "      <td>32011111</td>\n",
       "      <td>70</td>\n",
       "      <td>Castelar</td>\n",
       "      <td>-34.652156</td>\n",
       "      <td>-58.642526</td>\n",
       "      <td>tren</td>\n",
       "    </tr>\n",
       "  </tbody>\n",
       "</table>\n",
       "</div>"
      ],
      "text/plain": [
       "   route_id route_short_name            route_long_name   trip_id  stop_id   \n",
       "0         1        Sarmiento  Sarmiento / Once - Moreno  32001211       70  \\\n",
       "1         1        Sarmiento  Sarmiento / Once - Moreno  32011111       70   \n",
       "\n",
       "  stop_name        lat        lon  type  \n",
       "0  Castelar -34.652156 -58.642526  tren  \n",
       "1  Castelar -34.652156 -58.642526  tren  "
      ]
     },
     "execution_count": 146,
     "metadata": {},
     "output_type": "execute_result"
    }
   ],
   "source": [
    "df.head(2)"
   ]
  },
  {
   "cell_type": "code",
   "execution_count": 147,
   "id": "d4550516",
   "metadata": {},
   "outputs": [],
   "source": [
    "df = df[[\"route_id\", \"route_short_name\", \"route_long_name\", \"stop_id\", \"stop_name\", \"lat\", \"lon\", \"type\"]]"
   ]
  },
  {
   "cell_type": "code",
   "execution_count": 149,
   "id": "c8a38f1e",
   "metadata": {},
   "outputs": [],
   "source": [
    "df = df.drop_duplicates(keep=\"last\")"
   ]
  },
  {
   "cell_type": "code",
   "execution_count": 150,
   "id": "14dc1516",
   "metadata": {},
   "outputs": [
    {
     "data": {
      "text/html": [
       "<div>\n",
       "<style scoped>\n",
       "    .dataframe tbody tr th:only-of-type {\n",
       "        vertical-align: middle;\n",
       "    }\n",
       "\n",
       "    .dataframe tbody tr th {\n",
       "        vertical-align: top;\n",
       "    }\n",
       "\n",
       "    .dataframe thead th {\n",
       "        text-align: right;\n",
       "    }\n",
       "</style>\n",
       "<table border=\"1\" class=\"dataframe\">\n",
       "  <thead>\n",
       "    <tr style=\"text-align: right;\">\n",
       "      <th></th>\n",
       "      <th>route_id</th>\n",
       "      <th>route_short_name</th>\n",
       "      <th>route_long_name</th>\n",
       "      <th>stop_id</th>\n",
       "      <th>stop_name</th>\n",
       "      <th>lat</th>\n",
       "      <th>lon</th>\n",
       "      <th>type</th>\n",
       "    </tr>\n",
       "  </thead>\n",
       "  <tbody>\n",
       "    <tr>\n",
       "      <th>625</th>\n",
       "      <td>1</td>\n",
       "      <td>Sarmiento</td>\n",
       "      <td>Sarmiento / Once - Moreno</td>\n",
       "      <td>70</td>\n",
       "      <td>Castelar</td>\n",
       "      <td>-34.652156</td>\n",
       "      <td>-58.642526</td>\n",
       "      <td>tren</td>\n",
       "    </tr>\n",
       "    <tr>\n",
       "      <th>1241</th>\n",
       "      <td>1</td>\n",
       "      <td>Sarmiento</td>\n",
       "      <td>Sarmiento / Once - Moreno</td>\n",
       "      <td>279</td>\n",
       "      <td>Morón</td>\n",
       "      <td>-34.648223</td>\n",
       "      <td>-58.619813</td>\n",
       "      <td>tren</td>\n",
       "    </tr>\n",
       "    <tr>\n",
       "      <th>1858</th>\n",
       "      <td>1</td>\n",
       "      <td>Sarmiento</td>\n",
       "      <td>Sarmiento / Once - Moreno</td>\n",
       "      <td>169</td>\n",
       "      <td>Haedo</td>\n",
       "      <td>-34.644533</td>\n",
       "      <td>-58.591853</td>\n",
       "      <td>tren</td>\n",
       "    </tr>\n",
       "    <tr>\n",
       "      <th>2454</th>\n",
       "      <td>1</td>\n",
       "      <td>Sarmiento</td>\n",
       "      <td>Sarmiento / Once - Moreno</td>\n",
       "      <td>327</td>\n",
       "      <td>Ramos Mejía</td>\n",
       "      <td>-34.640454</td>\n",
       "      <td>-58.564376</td>\n",
       "      <td>tren</td>\n",
       "    </tr>\n",
       "    <tr>\n",
       "      <th>3050</th>\n",
       "      <td>1</td>\n",
       "      <td>Sarmiento</td>\n",
       "      <td>Sarmiento / Once - Moreno</td>\n",
       "      <td>84</td>\n",
       "      <td>Ciudadela</td>\n",
       "      <td>-34.639923</td>\n",
       "      <td>-58.541123</td>\n",
       "      <td>tren</td>\n",
       "    </tr>\n",
       "    <tr>\n",
       "      <th>...</th>\n",
       "      <td>...</td>\n",
       "      <td>...</td>\n",
       "      <td>...</td>\n",
       "      <td>...</td>\n",
       "      <td>...</td>\n",
       "      <td>...</td>\n",
       "      <td>...</td>\n",
       "      <td>...</td>\n",
       "    </tr>\n",
       "    <tr>\n",
       "      <th>69149</th>\n",
       "      <td>65</td>\n",
       "      <td>San Martin</td>\n",
       "      <td>San Martín / Retiro (LSM) - Cabred</td>\n",
       "      <td>369</td>\n",
       "      <td>Santos Lugares</td>\n",
       "      <td>-34.603674</td>\n",
       "      <td>-58.540752</td>\n",
       "      <td>tren</td>\n",
       "    </tr>\n",
       "    <tr>\n",
       "      <th>69577</th>\n",
       "      <td>65</td>\n",
       "      <td>San Martin</td>\n",
       "      <td>San Martín / Retiro (LSM) - Cabred</td>\n",
       "      <td>112</td>\n",
       "      <td>Devoto</td>\n",
       "      <td>-34.602652</td>\n",
       "      <td>-58.512431</td>\n",
       "      <td>tren</td>\n",
       "    </tr>\n",
       "    <tr>\n",
       "      <th>69950</th>\n",
       "      <td>65</td>\n",
       "      <td>San Martin</td>\n",
       "      <td>San Martín / Retiro (LSM) - Cabred</td>\n",
       "      <td>297</td>\n",
       "      <td>Palermo</td>\n",
       "      <td>-34.579661</td>\n",
       "      <td>-58.427415</td>\n",
       "      <td>tren</td>\n",
       "    </tr>\n",
       "    <tr>\n",
       "      <th>70323</th>\n",
       "      <td>65</td>\n",
       "      <td>San Martin</td>\n",
       "      <td>San Martín / Retiro (LSM) - Cabred</td>\n",
       "      <td>463</td>\n",
       "      <td>Retiro LSM</td>\n",
       "      <td>-34.588130</td>\n",
       "      <td>-58.375689</td>\n",
       "      <td>tren</td>\n",
       "    </tr>\n",
       "    <tr>\n",
       "      <th>70383</th>\n",
       "      <td>67</td>\n",
       "      <td>Belgrano Sur</td>\n",
       "      <td>Belgrano Sur / Gonzalez Catán - 20 de Junio</td>\n",
       "      <td>526</td>\n",
       "      <td>20 de Junio</td>\n",
       "      <td>-34.780255</td>\n",
       "      <td>-58.737837</td>\n",
       "      <td>tren</td>\n",
       "    </tr>\n",
       "  </tbody>\n",
       "</table>\n",
       "<p>313 rows × 8 columns</p>\n",
       "</div>"
      ],
      "text/plain": [
       "       route_id route_short_name                              route_long_name   \n",
       "625           1        Sarmiento                    Sarmiento / Once - Moreno  \\\n",
       "1241          1        Sarmiento                    Sarmiento / Once - Moreno   \n",
       "1858          1        Sarmiento                    Sarmiento / Once - Moreno   \n",
       "2454          1        Sarmiento                    Sarmiento / Once - Moreno   \n",
       "3050          1        Sarmiento                    Sarmiento / Once - Moreno   \n",
       "...         ...              ...                                          ...   \n",
       "69149        65       San Martin           San Martín / Retiro (LSM) - Cabred   \n",
       "69577        65       San Martin           San Martín / Retiro (LSM) - Cabred   \n",
       "69950        65       San Martin           San Martín / Retiro (LSM) - Cabred   \n",
       "70323        65       San Martin           San Martín / Retiro (LSM) - Cabred   \n",
       "70383        67     Belgrano Sur  Belgrano Sur / Gonzalez Catán - 20 de Junio   \n",
       "\n",
       "       stop_id       stop_name        lat        lon  type  \n",
       "625         70        Castelar -34.652156 -58.642526  tren  \n",
       "1241       279           Morón -34.648223 -58.619813  tren  \n",
       "1858       169           Haedo -34.644533 -58.591853  tren  \n",
       "2454       327     Ramos Mejía -34.640454 -58.564376  tren  \n",
       "3050        84       Ciudadela -34.639923 -58.541123  tren  \n",
       "...        ...             ...        ...        ...   ...  \n",
       "69149      369  Santos Lugares -34.603674 -58.540752  tren  \n",
       "69577      112          Devoto -34.602652 -58.512431  tren  \n",
       "69950      297         Palermo -34.579661 -58.427415  tren  \n",
       "70323      463      Retiro LSM -34.588130 -58.375689  tren  \n",
       "70383      526     20 de Junio -34.780255 -58.737837  tren  \n",
       "\n",
       "[313 rows x 8 columns]"
      ]
     },
     "execution_count": 150,
     "metadata": {},
     "output_type": "execute_result"
    }
   ],
   "source": [
    "df"
   ]
  },
  {
   "cell_type": "code",
   "execution_count": 154,
   "id": "766ac007",
   "metadata": {},
   "outputs": [
    {
     "data": {
      "application/vnd.plotly.v1+json": {
       "config": {
        "plotlyServerURL": "https://plot.ly"
       },
       "data": [
        {
         "customdata": [
          [
           "Sarmiento",
           "Sarmiento / Once - Moreno",
           "Castelar",
           70
          ],
          [
           "Sarmiento",
           "Sarmiento / Once - Moreno",
           "Morón",
           279
          ],
          [
           "Sarmiento",
           "Sarmiento / Once - Moreno",
           "Haedo",
           169
          ],
          [
           "Sarmiento",
           "Sarmiento / Once - Moreno",
           "Ramos Mejía",
           327
          ],
          [
           "Sarmiento",
           "Sarmiento / Once - Moreno",
           "Ciudadela",
           84
          ],
          [
           "Sarmiento",
           "Sarmiento / Once - Moreno",
           "Liniers",
           234
          ],
          [
           "Sarmiento",
           "Sarmiento / Once - Moreno",
           "Villa Luro",
           423
          ],
          [
           "Sarmiento",
           "Sarmiento / Once - Moreno",
           "Floresta",
           140
          ],
          [
           "Sarmiento",
           "Sarmiento / Once - Moreno",
           "Flores",
           139
          ],
          [
           "Sarmiento",
           "Sarmiento / Once - Moreno",
           "Caballito",
           50
          ],
          [
           "Sarmiento",
           "Sarmiento / Once - Moreno",
           "Once",
           293
          ],
          [
           "Sarmiento",
           "Sarmiento / Once - Moreno",
           "Ituzaingó",
           186
          ],
          [
           "Sarmiento",
           "Sarmiento / Once - Moreno",
           "S. A. de Padua",
           347
          ],
          [
           "Sarmiento",
           "Sarmiento / Once - Moreno",
           "Merlo",
           269
          ],
          [
           "Sarmiento",
           "Sarmiento / Merlo - Lobos",
           "Merlo",
           269
          ],
          [
           "Sarmiento",
           "Sarmiento / Once - Moreno",
           "Paso del Rey",
           300
          ],
          [
           "Sarmiento",
           "Sarmiento / Once - Moreno",
           "Moreno",
           278
          ],
          [
           "Sarmiento",
           "Sarmiento / Moreno - Mercedes",
           "Moreno",
           278
          ],
          [
           "Mitre",
           "Mitre / Retiro - Tigre",
           "Tigre",
           389
          ],
          [
           "Mitre",
           "Mitre / Retiro - Tigre",
           "Carupá",
           65
          ],
          [
           "Mitre",
           "Mitre / Retiro - Tigre",
           "San Fernando C",
           355
          ],
          [
           "Mitre",
           "Mitre / Retiro - Tigre",
           "Virreyes",
           428
          ],
          [
           "Mitre",
           "Mitre / Retiro - Tigre",
           "Victoria",
           409
          ],
          [
           "Mitre",
           "Mitre / Victoria - Capilla del Señor",
           "Victoria",
           409
          ],
          [
           "Mitre",
           "Mitre / Retiro - Tigre",
           "Béccar",
           32
          ],
          [
           "Mitre",
           "Mitre / Retiro - Tigre",
           "San Isidro C",
           357
          ],
          [
           "Mitre",
           "Mitre / Retiro - Tigre",
           "Acassuso",
           5
          ],
          [
           "Mitre",
           "Mitre / Retiro - Tigre",
           "Martínez",
           262
          ],
          [
           "Mitre",
           "Mitre / Retiro - Tigre",
           "La Lucila",
           212
          ],
          [
           "Mitre",
           "Mitre / Retiro - Tigre",
           "Olivos",
           291
          ],
          [
           "Mitre",
           "Mitre / Retiro - Tigre",
           "Vicente López",
           408
          ],
          [
           "Mitre",
           "Mitre / Retiro - Tigre",
           "Rivadavia",
           337
          ],
          [
           "Mitre",
           "Mitre / Retiro - Tigre",
           "Núñez",
           287
          ],
          [
           "Mitre",
           "Mitre / Retiro - Tigre",
           "Belgrano C",
           34
          ],
          [
           "Mitre",
           "Mitre / Retiro - Tigre",
           "L. de la Torre",
           229
          ],
          [
           "Mitre",
           "Mitre / Retiro - Tigre",
           "Retiro LM",
           332
          ],
          [
           "Mitre",
           "Mitre / Retiro - Mitre",
           "Retiro LM",
           332
          ],
          [
           "Mitre",
           "Mitre / Retiro - J. L. Suárez",
           "Retiro LM",
           332
          ],
          [
           "Mitre",
           "Mitre / Retiro - Mitre",
           "Mitre",
           273
          ],
          [
           "Mitre",
           "Mitre / Retiro - Mitre",
           "Dr. Cetrángolo",
           119
          ],
          [
           "Mitre",
           "Mitre / Retiro - Mitre",
           "Florida",
           141
          ],
          [
           "Mitre",
           "Mitre / Retiro - Mitre",
           "Juan B. Justo",
           200
          ],
          [
           "Mitre",
           "Mitre / Retiro - Mitre",
           "Saavedra",
           346
          ],
          [
           "Mitre",
           "Mitre / Retiro - Mitre",
           "Coghlan",
           90
          ],
          [
           "Mitre",
           "Mitre / Retiro - Mitre",
           "Belgrano R",
           35
          ],
          [
           "Mitre",
           "Mitre / Retiro - J. L. Suárez",
           "Belgrano R",
           35
          ],
          [
           "Mitre",
           "Mitre / Retiro - Mitre",
           "Colegiales",
           91
          ],
          [
           "Mitre",
           "Mitre / Retiro - J. L. Suárez",
           "Colegiales",
           91
          ],
          [
           "Mitre",
           "Mitre / Retiro - Mitre",
           "Ministro Carranza",
           272
          ],
          [
           "Mitre",
           "Mitre / Retiro - J. L. Suárez",
           "Ministro Carranza",
           272
          ],
          [
           "Mitre",
           "Mitre / Retiro - Mitre",
           "3 de Febrero",
           1
          ],
          [
           "Mitre",
           "Mitre / Retiro - J. L. Suárez",
           "3 de Febrero",
           1
          ],
          [
           "Mitre",
           "Mitre / Retiro - J. L. Suárez",
           "J. L. Suárez",
           190
          ],
          [
           "Mitre",
           "Mitre / Retiro - J. L. Suárez",
           "Chilavert",
           79
          ],
          [
           "Mitre",
           "Mitre / Retiro - J. L. Suárez",
           "Villa Ballester",
           412
          ],
          [
           "Mitre",
           "Mitre / Villa Ballester - Zárate",
           "Villa Ballester",
           412
          ],
          [
           "Mitre",
           "Mitre / Retiro - J. L. Suárez",
           "Malaver",
           249
          ],
          [
           "Mitre",
           "Mitre / Retiro - J. L. Suárez",
           "San Andrés",
           353
          ],
          [
           "Mitre",
           "Mitre / Retiro - J. L. Suárez",
           "San Martín",
           360
          ],
          [
           "Mitre",
           "Mitre / Retiro - J. L. Suárez",
           "Miguelete",
           271
          ],
          [
           "Mitre",
           "Mitre / Retiro - J. L. Suárez",
           "Pueyrredón",
           318
          ],
          [
           "Mitre",
           "Mitre / Retiro - J. L. Suárez",
           "General Urquiza",
           150
          ],
          [
           "Mitre",
           "Mitre / Retiro - J. L. Suárez",
           "L. M. Drago",
           236
          ],
          [
           "Roca",
           "Roca / Plaza Constitución - La Plata",
           "Constitución",
           93
          ],
          [
           "Roca",
           "Roca / Plaza Constitución - Bosques-Q",
           "Constitución",
           93
          ],
          [
           "Roca",
           "Roca / Plaza Constitución - Bosques-T",
           "Constitución",
           93
          ],
          [
           "Roca",
           "Roca / Plaza Constitución - Alejandro Korn",
           "Constitución",
           93
          ],
          [
           "Roca",
           "Roca / Plaza Constitución - Ezeiza",
           "Constitución",
           93
          ],
          [
           "Roca",
           "Roca / Plaza Constitución - Cañuelas (Pza)",
           "Constitución",
           93
          ],
          [
           "Roca",
           "Roca / Plaza Constitución - La Plata",
           "S. y Kosteki",
           368
          ],
          [
           "Roca",
           "Roca / Plaza Constitución - Bosques-Q",
           "S. y Kosteki",
           368
          ],
          [
           "Roca",
           "Roca / Plaza Constitución - Bosques-T",
           "S. y Kosteki",
           368
          ],
          [
           "Roca",
           "Roca / Plaza Constitución - Alejandro Korn",
           "S. y Kosteki",
           368
          ],
          [
           "Roca",
           "Roca / Plaza Constitución - Ezeiza",
           "S. y Kosteki",
           368
          ],
          [
           "Roca",
           "Roca / Plaza Constitución - La Plata",
           "Sarandí",
           370
          ],
          [
           "Roca",
           "Roca / Plaza Constitución - Bosques-Q",
           "Sarandí",
           370
          ],
          [
           "Roca",
           "Roca / Plaza Constitución - La Plata",
           "Villa Domínico",
           418
          ],
          [
           "Roca",
           "Roca / Plaza Constitución - Bosques-Q",
           "Villa Domínico",
           418
          ],
          [
           "Roca",
           "Roca / Plaza Constitución - La Plata",
           "Wilde",
           430
          ],
          [
           "Roca",
           "Roca / Plaza Constitución - Bosques-Q",
           "Wilde",
           430
          ],
          [
           "Roca",
           "Roca / Plaza Constitución - La Plata",
           "Don Bosco",
           115
          ],
          [
           "Roca",
           "Roca / Plaza Constitución - Bosques-Q",
           "Don Bosco",
           115
          ],
          [
           "Roca",
           "Roca / Plaza Constitución - La Plata",
           "Bernal",
           39
          ],
          [
           "Roca",
           "Roca / Plaza Constitución - Bosques-Q",
           "Bernal",
           39
          ],
          [
           "Roca",
           "Roca / Plaza Constitución - La Plata",
           "Quilmes",
           322
          ],
          [
           "Roca",
           "Roca / Plaza Constitución - Bosques-Q",
           "Quilmes",
           322
          ],
          [
           "Roca",
           "Roca / Plaza Constitución - La Plata",
           "Ezpeleta",
           133
          ],
          [
           "Roca",
           "Roca / Plaza Constitución - Bosques-Q",
           "Ezpeleta",
           133
          ],
          [
           "Roca",
           "Roca / Plaza Constitución - La Plata",
           "Berazategui",
           38
          ],
          [
           "Roca",
           "Roca / Plaza Constitución - Bosques-Q",
           "Berazategui",
           38
          ],
          [
           "Roca",
           "Roca / Plaza Constitución - La Plata",
           "Plátanos",
           309
          ],
          [
           "Roca",
           "Roca / Plaza Constitución - La Plata",
           "Hudson",
           176
          ],
          [
           "Roca",
           "Roca / Plaza Constitución - La Plata",
           "Pereyra",
           303
          ],
          [
           "Roca",
           "Roca / Plaza Constitución - La Plata",
           "Villa Elisa",
           419
          ],
          [
           "Roca",
           "Roca / Plaza Constitución - La Plata",
           "City Bell",
           83
          ],
          [
           "Roca",
           "Roca / Plaza Constitución - La Plata",
           "Gonnet",
           153
          ],
          [
           "Roca",
           "Roca / Plaza Constitución - La Plata",
           "Ringuelet",
           334
          ],
          [
           "Roca",
           "Roca / Plaza Constitución - La Plata",
           "Tolosa",
           392
          ],
          [
           "Roca",
           "Roca / Plaza Constitución - La Plata",
           "La Plata",
           217
          ],
          [
           "Roca",
           "Roca / La Plata - Policlínico",
           "La Plata",
           217
          ],
          [
           "Roca",
           "Roca / Plaza Constitución - Bosques-Q",
           "Villa España",
           420
          ],
          [
           "Roca",
           "Roca / Plaza Constitución - Bosques-Q",
           "Ranelagh",
           328
          ],
          [
           "Roca",
           "Roca / Plaza Constitución - Bosques-Q",
           "Sourigues",
           380
          ],
          [
           "Roca",
           "Roca / Plaza Constitución - Bosques-Q",
           "Bosques",
           43
          ],
          [
           "Roca",
           "Roca / Plaza Constitución - Bosques-T",
           "Bosques",
           43
          ],
          [
           "Roca",
           "Roca / Temperley - Gutiérrez",
           "Bosques",
           43
          ],
          [
           "Roca",
           "Roca / Plaza Constitución - Bosques-T",
           "Claypole",
           85
          ],
          [
           "Roca",
           "Roca / Temperley - Gutiérrez",
           "Claypole",
           85
          ],
          [
           "Roca",
           "Roca / Plaza Constitución - Bosques-T",
           "Rafael Calzada",
           324
          ],
          [
           "Roca",
           "Roca / Temperley - Gutiérrez",
           "Rafael Calzada",
           324
          ],
          [
           "Roca",
           "Roca / Plaza Constitución - Bosques-T",
           "José Mármol",
           197
          ],
          [
           "Roca",
           "Roca / Temperley - Gutiérrez",
           "José Mármol",
           197
          ],
          [
           "Roca",
           "Roca / Plaza Constitución - Bosques-T",
           "Temperley",
           386
          ],
          [
           "Roca",
           "Roca / Plaza Constitución - Alejandro Korn",
           "Temperley",
           386
          ],
          [
           "Roca",
           "Roca / Plaza Constitución - Ezeiza",
           "Temperley",
           386
          ],
          [
           "Roca",
           "Roca / Temperley - Gutiérrez",
           "Temperley",
           386
          ],
          [
           "Roca",
           "Roca / Ezeiza - Cañuelas (Eza)",
           "Temperley",
           386
          ],
          [
           "Roca",
           "Roca / Plaza Constitución - Monte",
           "Temperley",
           386
          ],
          [
           "Roca",
           "Roca / Plaza Constitución - Bosques-T",
           "Lomas de Zamora",
           238
          ],
          [
           "Roca",
           "Roca / Plaza Constitución - Alejandro Korn",
           "Lomas de Zamora",
           238
          ],
          [
           "Roca",
           "Roca / Plaza Constitución - Ezeiza",
           "Lomas de Zamora",
           238
          ],
          [
           "Roca",
           "Roca / Plaza Constitución - Bosques-T",
           "Banfield",
           30
          ],
          [
           "Roca",
           "Roca / Plaza Constitución - Alejandro Korn",
           "Banfield",
           30
          ],
          [
           "Roca",
           "Roca / Plaza Constitución - Ezeiza",
           "Banfield",
           30
          ],
          [
           "Roca",
           "Roca / Plaza Constitución - Bosques-T",
           "Lanús",
           215
          ],
          [
           "Roca",
           "Roca / Plaza Constitución - Alejandro Korn",
           "Lanús",
           215
          ],
          [
           "Roca",
           "Roca / Plaza Constitución - Ezeiza",
           "Lanús",
           215
          ],
          [
           "Roca",
           "Roca / Plaza Constitución - Bosques-T",
           "Zeballos",
           435
          ],
          [
           "Roca",
           "Roca / Temperley - Gutiérrez",
           "Zeballos",
           435
          ],
          [
           "Roca",
           "Roca / Plaza Constitución - Bosques-T",
           "Florencio Varela",
           138
          ],
          [
           "Roca",
           "Roca / Temperley - Gutiérrez",
           "Florencio Varela",
           138
          ],
          [
           "Roca",
           "Roca / Plaza Constitución - Bosques-T",
           "Dante Ardigó",
           102
          ],
          [
           "Roca",
           "Roca / Temperley - Gutiérrez",
           "Dante Ardigó",
           102
          ],
          [
           "Roca",
           "Roca / Plaza Constitución - Bosques-T",
           "Remedios de Escalada",
           329
          ],
          [
           "Roca",
           "Roca / Plaza Constitución - Alejandro Korn",
           "Remedios de Escalada",
           329
          ],
          [
           "Roca",
           "Roca / Plaza Constitución - Ezeiza",
           "Remedios de Escalada",
           329
          ],
          [
           "Roca",
           "Roca / Plaza Constitución - Bosques-T",
           "Gerli",
           151
          ],
          [
           "Roca",
           "Roca / Plaza Constitución - Alejandro Korn",
           "Gerli",
           151
          ],
          [
           "Roca",
           "Roca / Plaza Constitución - Ezeiza",
           "Gerli",
           151
          ],
          [
           "Roca",
           "Roca / Plaza Constitución - Bosques-T",
           "Hipólito Yrigoyen",
           172
          ],
          [
           "Roca",
           "Roca / Plaza Constitución - Alejandro Korn",
           "Hipólito Yrigoyen",
           172
          ],
          [
           "Roca",
           "Roca / Plaza Constitución - Ezeiza",
           "Hipólito Yrigoyen",
           172
          ],
          [
           "Roca",
           "Roca / Plaza Constitución - Alejandro Korn",
           "Glew",
           152
          ],
          [
           "Roca",
           "Roca / Plaza Constitución - Alejandro Korn",
           "Longchamps",
           239
          ],
          [
           "Roca",
           "Roca / Plaza Constitución - Alejandro Korn",
           "Burzaco",
           49
          ],
          [
           "Roca",
           "Roca / Plaza Constitución - Alejandro Korn",
           "Adrogué",
           8
          ],
          [
           "Roca",
           "Roca / Plaza Constitución - Alejandro Korn",
           "Alejandro Korn",
           13
          ],
          [
           "Roca",
           "Roca / Plaza Constitución - Chascomús",
           "Alejandro Korn",
           13
          ],
          [
           "Roca",
           "Roca / Plaza Constitución - Alejandro Korn",
           "Guernica",
           165
          ],
          [
           "Roca",
           "Roca / Plaza Constitución - Ezeiza",
           "Turdera",
           399
          ],
          [
           "Roca",
           "Roca / Ezeiza - Cañuelas (Eza)",
           "Turdera",
           399
          ],
          [
           "Roca",
           "Roca / Plaza Constitución - Ezeiza",
           "Llavallol",
           235
          ],
          [
           "Roca",
           "Roca / Ezeiza - Cañuelas (Eza)",
           "Llavallol",
           235
          ],
          [
           "Roca",
           "Roca / Plaza Constitución - Ezeiza",
           "Luis Guillón",
           246
          ],
          [
           "Roca",
           "Roca / Plaza Constitución - Ezeiza",
           "Monte Grande",
           277
          ],
          [
           "Roca",
           "Roca / Plaza Constitución - Cañuelas (Pza)",
           "Monte Grande",
           277
          ],
          [
           "Roca",
           "Roca / Plaza Constitución - Ezeiza",
           "El Jagüel",
           125
          ],
          [
           "Roca",
           "Roca / Plaza Constitución - Ezeiza",
           "Ezeiza",
           132
          ],
          [
           "Roca",
           "Roca / Ezeiza - Cañuelas (Eza)",
           "Ezeiza",
           132
          ],
          [
           "Roca",
           "Roca / Plaza Constitución - Cañuelas (Pza)",
           "Ezeiza",
           132
          ],
          [
           "Roca",
           "Roca / Plaza Constitución - Monte",
           "Ezeiza",
           132
          ],
          [
           "Belgrano Sur",
           "Belgrano Sur / Buenos Aires - M.C.G. Belgrano",
           "Marinos C. G. Belgrano",
           259
          ],
          [
           "Belgrano Sur",
           "Belgrano Sur / Buenos Aires - M.C.G. Belgrano",
           "Libertad",
           232
          ],
          [
           "Belgrano Sur",
           "Belgrano Sur / Apeadero Km 12 - Libertad",
           "Libertad",
           232
          ],
          [
           "Belgrano Sur",
           "Belgrano Sur / Buenos Aires - M.C.G. Belgrano",
           "Merlo Gómez",
           270
          ],
          [
           "Belgrano Sur",
           "Belgrano Sur / Apeadero Km 12 - Libertad",
           "Merlo Gómez",
           270
          ],
          [
           "Belgrano Sur",
           "Belgrano Sur / Buenos Aires - M.C.G. Belgrano",
           "Rafael Castillo",
           325
          ],
          [
           "Belgrano Sur",
           "Belgrano Sur / Apeadero Km 12 - Libertad",
           "Rafael Castillo",
           325
          ],
          [
           "Belgrano Sur",
           "Belgrano Sur / Buenos Aires - M.C.G. Belgrano",
           "Isidro Casanova",
           184
          ],
          [
           "Belgrano Sur",
           "Belgrano Sur / Apeadero Km 12 - Libertad",
           "Isidro Casanova",
           184
          ],
          [
           "Belgrano Sur",
           "Belgrano Sur / Buenos Aires - M.C.G. Belgrano",
           "Justo Villegas",
           203
          ],
          [
           "Belgrano Sur",
           "Belgrano Sur / Apeadero Km 12 - Libertad",
           "Justo Villegas",
           203
          ],
          [
           "Belgrano Sur",
           "Belgrano Sur / Buenos Aires - M.C.G. Belgrano",
           "José Ingenieros",
           195
          ],
          [
           "Belgrano Sur",
           "Belgrano Sur / Apeadero Km 12 - Libertad",
           "José Ingenieros",
           195
          ],
          [
           "Belgrano Sur",
           "Belgrano Sur / Buenos Aires - M.C.G. Belgrano",
           "Sánchez de Mendeville",
           354
          ],
          [
           "Belgrano Sur",
           "Belgrano Sur / Apeadero Km 12 - Libertad",
           "Sánchez de Mendeville",
           354
          ],
          [
           "Belgrano Sur",
           "Belgrano Sur / Buenos Aires - M.C.G. Belgrano",
           "Aldo Bonzi",
           12
          ],
          [
           "Belgrano Sur",
           "Belgrano Sur / Apeadero Km 12 - Libertad",
           "Aldo Bonzi",
           12
          ],
          [
           "Belgrano Sur",
           "Belgrano Sur / Buenos Aires - M.C.G. Belgrano",
           "Tapiales",
           385
          ],
          [
           "Belgrano Sur",
           "Belgrano Sur / Buenos Aires - Gonzalez Catán",
           "Tapiales",
           385
          ],
          [
           "Belgrano Sur",
           "Belgrano Sur / Buenos Aires - M.C.G. Belgrano",
           "Marinos del Fournier",
           260
          ],
          [
           "Belgrano Sur",
           "Belgrano Sur / Buenos Aires - Gonzalez Catán",
           "Marinos del Fournier",
           260
          ],
          [
           "Belgrano Sur",
           "Belgrano Sur / Buenos Aires - M.C.G. Belgrano",
           "Villa Madero",
           424
          ],
          [
           "Belgrano Sur",
           "Belgrano Sur / Buenos Aires - Gonzalez Catán",
           "Villa Madero",
           424
          ],
          [
           "Belgrano Sur",
           "Belgrano Sur / Buenos Aires - M.C.G. Belgrano",
           "Villa Lugano",
           422
          ],
          [
           "Belgrano Sur",
           "Belgrano Sur / Buenos Aires - Gonzalez Catán",
           "Villa Lugano",
           422
          ],
          [
           "Belgrano Sur",
           "Belgrano Sur / Buenos Aires - M.C.G. Belgrano",
           "Presidente Illia",
           313
          ],
          [
           "Belgrano Sur",
           "Belgrano Sur / Buenos Aires - Gonzalez Catán",
           "Presidente Illia",
           313
          ],
          [
           "Belgrano Sur",
           "Belgrano Sur / Buenos Aires - M.C.G. Belgrano",
           "Villa Soldati",
           427
          ],
          [
           "Belgrano Sur",
           "Belgrano Sur / Buenos Aires - Gonzalez Catán",
           "Villa Soldati",
           427
          ],
          [
           "Belgrano Sur",
           "Belgrano Sur / Buenos Aires - M.C.G. Belgrano",
           "Dr. Sáenz",
           121
          ],
          [
           "Belgrano Sur",
           "Belgrano Sur / Buenos Aires - Gonzalez Catán",
           "González Catán",
           154
          ],
          [
           "Belgrano Sur",
           "Belgrano Sur / Gonzalez Catán - 20 de Junio",
           "González Catán",
           154
          ],
          [
           "Belgrano Sur",
           "Belgrano Sur / Buenos Aires - Gonzalez Catán",
           "Independencia",
           178
          ],
          [
           "Belgrano Sur",
           "Belgrano Sur / Buenos Aires - Gonzalez Catán",
           "María Eva Duarte",
           256
          ],
          [
           "Belgrano Sur",
           "Belgrano Sur / Buenos Aires - Gonzalez Catán",
           "Laferrere",
           209
          ],
          [
           "Belgrano Sur",
           "Belgrano Sur / Buenos Aires - Gonzalez Catán",
           "Querandí",
           321
          ],
          [
           "Belgrano Sur",
           "Belgrano Sur / Buenos Aires - Gonzalez Catán",
           "Ingeniero Castello",
           181
          ],
          [
           "Belgrano Sur",
           "Belgrano Sur / Buenos Aires - Gonzalez Catán",
           "Dr. Sáenz nueva",
           525
          ],
          [
           "Roca",
           "Roca / Temperley - Gutiérrez",
           "Gutiérrez",
           168
          ],
          [
           "Roca",
           "Roca / Temperley - Gutiérrez",
           "Santa Sofía",
           367
          ],
          [
           "Mitre",
           "Mitre / Victoria - Capilla del Señor",
           "Capilla del Señor",
           61
          ],
          [
           "Mitre",
           "Mitre / Victoria - Capilla del Señor",
           "Los Cardales",
           243
          ],
          [
           "Mitre",
           "Mitre / Victoria - Capilla del Señor",
           "Zelaya",
           436
          ],
          [
           "Mitre",
           "Mitre / Victoria - Capilla del Señor",
           "Matheu",
           264
          ],
          [
           "Mitre",
           "Mitre / Victoria - Capilla del Señor",
           "Maq. Savio",
           253
          ],
          [
           "Mitre",
           "Mitre / Victoria - Capilla del Señor",
           "Garín",
           147
          ],
          [
           "Mitre",
           "Mitre / Victoria - Capilla del Señor",
           "López Camelo",
           240
          ],
          [
           "Mitre",
           "Mitre / Victoria - Capilla del Señor",
           "El Talar",
           128
          ],
          [
           "Mitre",
           "Mitre / Victoria - Capilla del Señor",
           "Dr. A. Schweitzer",
           118
          ],
          [
           "Mitre",
           "Mitre / Villa Ballester - Zárate",
           "Zárate",
           434
          ],
          [
           "Mitre",
           "Mitre / Villa Ballester - Zárate",
           "Kilometro 83",
           204
          ],
          [
           "Mitre",
           "Mitre / Villa Ballester - Zárate",
           "Campana",
           55
          ],
          [
           "Mitre",
           "Mitre / Villa Ballester - Zárate",
           "Otamendi",
           294
          ],
          [
           "Mitre",
           "Mitre / Villa Ballester - Zárate",
           "Rio Lujan",
           335
          ],
          [
           "Mitre",
           "Mitre / Villa Ballester - Zárate",
           "Escobar",
           130
          ],
          [
           "Mitre",
           "Mitre / Villa Ballester - Zárate",
           "Maschwitz",
           263
          ],
          [
           "Mitre",
           "Mitre / Villa Ballester - Zárate",
           "Benavídez",
           37
          ],
          [
           "Mitre",
           "Mitre / Villa Ballester - Zárate",
           "Pacheco",
           296
          ],
          [
           "Mitre",
           "Mitre / Villa Ballester - Zárate",
           "Bancalari",
           29
          ],
          [
           "Roca",
           "Roca / Ezeiza - Cañuelas (Eza)",
           "Cañuelas",
           60
          ],
          [
           "Roca",
           "Roca / Plaza Constitución - Cañuelas (Pza)",
           "Cañuelas",
           60
          ],
          [
           "Roca",
           "Roca / Plaza Constitución - Monte",
           "Cañuelas",
           60
          ],
          [
           "Roca",
           "Roca / Plaza Constitución - Lobos",
           "Cañuelas",
           60
          ],
          [
           "Roca",
           "Roca / Ezeiza - Cañuelas (Eza)",
           "Ricardo Levene",
           333
          ],
          [
           "Roca",
           "Roca / Plaza Constitución - Monte",
           "Ricardo Levene",
           333
          ],
          [
           "Roca",
           "Roca / Ezeiza - Cañuelas (Eza)",
           "Apeadero Kloosterman",
           21
          ],
          [
           "Roca",
           "Roca / Ezeiza - Cañuelas (Eza)",
           "Alejandro Petión",
           14
          ],
          [
           "Roca",
           "Roca / Plaza Constitución - Cañuelas (Pza)",
           "Alejandro Petión",
           14
          ],
          [
           "Roca",
           "Roca / Ezeiza - Cañuelas (Eza)",
           "Vicente Casares",
           407
          ],
          [
           "Roca",
           "Roca / Plaza Constitución - Monte",
           "Vicente Casares",
           407
          ],
          [
           "Roca",
           "Roca / Ezeiza - Cañuelas (Eza)",
           "Máximo Paz",
           265
          ],
          [
           "Roca",
           "Roca / Ezeiza - Cañuelas (Eza)",
           "Carlos Spegazzini",
           64
          ],
          [
           "Roca",
           "Roca / Plaza Constitución - Monte",
           "Carlos Spegazzini",
           64
          ],
          [
           "Roca",
           "Roca / Ezeiza - Cañuelas (Eza)",
           "Tristán Suárez",
           396
          ],
          [
           "Roca",
           "Roca / Plaza Constitución - Cañuelas (Pza)",
           "Tristán Suárez",
           396
          ],
          [
           "Roca",
           "Roca / Plaza Constitución - Monte",
           "Tristán Suárez",
           396
          ],
          [
           "Roca",
           "Roca / Ezeiza - Cañuelas (Eza)",
           "Unión Ferroviaria",
           400
          ],
          [
           "Roca",
           "Roca / La Plata - Policlínico",
           "Arquitectura",
           25
          ],
          [
           "Roca",
           "Roca / La Plata - Policlínico",
           "Informática",
           179
          ],
          [
           "Roca",
           "Roca / La Plata - Policlínico",
           "Medicina",
           267
          ],
          [
           "Roca",
           "Roca / La Plata - Policlínico",
           "Periodismo",
           304
          ],
          [
           "Roca",
           "Roca / La Plata - Policlínico",
           "Diagonal 73",
           113
          ],
          [
           "Roca",
           "Roca / La Plata - Policlínico",
           "Policlínico",
           311
          ],
          [
           "Linea Mitre",
           "Tren de la Costa / Maipú - Delta",
           "Maipú",
           248
          ],
          [
           "Linea Mitre",
           "Tren de la Costa / Maipú - Delta",
           "Borges",
           42
          ],
          [
           "Linea Mitre",
           "Tren de la Costa / Maipú - Delta",
           "Libertador",
           233
          ],
          [
           "Linea Mitre",
           "Tren de la Costa / Maipú - Delta",
           "Juan Anchorena",
           198
          ],
          [
           "Linea Mitre",
           "Tren de la Costa / Maipú - Delta",
           "Las Barrancas",
           222
          ],
          [
           "Linea Mitre",
           "Tren de la Costa / Maipú - Delta",
           "San Isidro R",
           358
          ],
          [
           "Linea Mitre",
           "Tren de la Costa / Maipú - Delta",
           "Punta Chica",
           319
          ],
          [
           "Linea Mitre",
           "Tren de la Costa / Maipú - Delta",
           "Marina Nueva",
           258
          ],
          [
           "Linea Mitre",
           "Tren de la Costa / Maipú - Delta",
           "San Fernando R",
           356
          ],
          [
           "Linea Mitre",
           "Tren de la Costa / Maipú - Delta",
           "Canal San Fernando",
           58
          ],
          [
           "Linea Mitre",
           "Tren de la Costa / Maipú - Delta",
           "Delta",
           104
          ],
          [
           "Roca",
           "Roca / Plaza Constitución - Monte",
           "La Noria",
           214
          ],
          [
           "Roca",
           "Roca / Plaza Constitución - Monte",
           "Abbot",
           3
          ],
          [
           "Roca",
           "Roca / Plaza Constitución - Monte",
           "Monte",
           276
          ],
          [
           "Sarmiento",
           "Sarmiento / Moreno - Mercedes",
           "Mercedes",
           268
          ],
          [
           "Sarmiento",
           "Sarmiento / Moreno - Mercedes",
           "Gowland",
           155
          ],
          [
           "Sarmiento",
           "Sarmiento / Moreno - Mercedes",
           "Olivera",
           290
          ],
          [
           "Sarmiento",
           "Sarmiento / Moreno - Mercedes",
           "Jáuregui",
           188
          ],
          [
           "Sarmiento",
           "Sarmiento / Moreno - Mercedes",
           "Luján",
           247
          ],
          [
           "Sarmiento",
           "Sarmiento / Moreno - Mercedes",
           "Univ. Luján",
           401
          ],
          [
           "Sarmiento",
           "Sarmiento / Moreno - Mercedes",
           "Lezica y Torrezuri",
           231
          ],
          [
           "Sarmiento",
           "Sarmiento / Moreno - Mercedes",
           "La Fraternidad",
           210
          ],
          [
           "Sarmiento",
           "Sarmiento / Moreno - Mercedes",
           "Gral. Rodríguez",
           163
          ],
          [
           "Sarmiento",
           "Sarmiento / Moreno - Mercedes",
           "Las Malvinas",
           226
          ],
          [
           "Sarmiento",
           "Sarmiento / Moreno - Mercedes",
           "P. Marín",
           310
          ],
          [
           "Sarmiento",
           "Sarmiento / Moreno - Mercedes",
           "F. Álvarez",
           134
          ],
          [
           "Sarmiento",
           "Sarmiento / Moreno - Mercedes",
           "La Reja",
           218
          ],
          [
           "Sarmiento",
           "Sarmiento / Merlo - Lobos",
           "Km. 34,5",
           464
          ],
          [
           "Sarmiento",
           "Sarmiento / Merlo - Lobos",
           "Ferrari",
           137
          ],
          [
           "Sarmiento",
           "Sarmiento / Merlo - Lobos",
           "Mariano Acosta",
           257
          ],
          [
           "Sarmiento",
           "Sarmiento / Merlo - Lobos",
           "Marcos Paz",
           254
          ],
          [
           "Sarmiento",
           "Sarmiento / Merlo - Lobos",
           "Zamudio",
           432
          ],
          [
           "Sarmiento",
           "Sarmiento / Merlo - Lobos",
           "Hornos",
           173
          ],
          [
           "Sarmiento",
           "Sarmiento / Merlo - Lobos",
           "Las Heras",
           225
          ],
          [
           "Sarmiento",
           "Sarmiento / Merlo - Lobos",
           "Speratti",
           381
          ],
          [
           "Sarmiento",
           "Sarmiento / Merlo - Lobos",
           "Zapiola",
           433
          ],
          [
           "Sarmiento",
           "Sarmiento / Merlo - Lobos",
           "Empalme Lobos",
           129
          ],
          [
           "Roca",
           "Roca / Plaza Constitución - Lobos",
           "Empalme Lobos",
           129
          ],
          [
           "Sarmiento",
           "Sarmiento / Merlo - Lobos",
           "Lobos",
           237
          ],
          [
           "Roca",
           "Roca / Plaza Constitución - Lobos",
           "Lobos",
           237
          ],
          [
           "Roca",
           "Roca / Plaza Constitución - Lobos",
           "Uribelarrea",
           402
          ],
          [
           "Roca",
           "Roca / Plaza Constitución - Chascomús",
           "Domselaar",
           117
          ],
          [
           "Roca",
           "Roca / Plaza Constitución - Chascomús",
           "Cnel. Brandsen",
           86
          ],
          [
           "Roca",
           "Roca / Plaza Constitución - Chascomús",
           "Jeppener",
           189
          ],
          [
           "Roca",
           "Roca / Plaza Constitución - Chascomús",
           "Altamirano",
           17
          ],
          [
           "Roca",
           "Roca / Plaza Constitución - Chascomús",
           "Gándara",
           146
          ],
          [
           "Roca",
           "Roca / Plaza Constitución - Chascomús",
           "Chascomús",
           78
          ],
          [
           "Belgrano Sur",
           "Belgrano Sur / Apeadero Km 12 - Libertad",
           "Apeadero Km. 12",
           22
          ],
          [
           "San Martin",
           "San Martín / Retiro (LSM) - Cabred",
           "Villa del Parque",
           415
          ],
          [
           "San Martin",
           "San Martín / Retiro (LSM) - Cabred",
           "Sáenz Peña",
           348
          ],
          [
           "San Martin",
           "San Martín / Retiro (LSM) - Cabred",
           "Caseros",
           67
          ],
          [
           "San Martin",
           "San Martín / Retiro (LSM) - Cabred",
           "Pilar",
           306
          ],
          [
           "San Martin",
           "San Martín / Retiro (LSM) - Cabred",
           "Derqui",
           106
          ],
          [
           "San Martin",
           "San Martín / Retiro (LSM) - Cabred",
           "José C. Paz",
           194
          ],
          [
           "San Martin",
           "San Martín / Retiro (LSM) - Cabred",
           "Manzanares",
           252
          ],
          [
           "San Martin",
           "San Martín / Retiro (LSM) - Cabred",
           "Cabred",
           51
          ],
          [
           "San Martin",
           "San Martín / Retiro (LSM) - Cabred",
           "Villa Astolfi",
           411
          ],
          [
           "San Martin",
           "San Martín / Retiro (LSM) - Cabred",
           "Sol y Verde",
           378
          ],
          [
           "San Martin",
           "San Martín / Retiro (LSM) - Cabred",
           "San Miguel",
           361
          ],
          [
           "San Martin",
           "San Martín / Retiro (LSM) - Cabred",
           "Muñiz",
           283
          ],
          [
           "San Martin",
           "San Martín / Retiro (LSM) - Cabred",
           "Bella Vista",
           36
          ],
          [
           "San Martin",
           "San Martín / Retiro (LSM) - Cabred",
           "William Morris",
           431
          ],
          [
           "San Martin",
           "San Martín / Retiro (LSM) - Cabred",
           "Hurlingham",
           177
          ],
          [
           "San Martin",
           "San Martín / Retiro (LSM) - Cabred",
           "El Palomar",
           127
          ],
          [
           "San Martin",
           "San Martín / Retiro (LSM) - Cabred",
           "Santos Lugares",
           369
          ],
          [
           "San Martin",
           "San Martín / Retiro (LSM) - Cabred",
           "Devoto",
           112
          ],
          [
           "San Martin",
           "San Martín / Retiro (LSM) - Cabred",
           "Palermo",
           297
          ],
          [
           "San Martin",
           "San Martín / Retiro (LSM) - Cabred",
           "Retiro LSM",
           463
          ],
          [
           "Belgrano Sur",
           "Belgrano Sur / Gonzalez Catán - 20 de Junio",
           "20 de Junio",
           526
          ]
         ],
         "hovertemplate": "type=tren<br>lat=%{lat}<br>lon=%{lon}<br>route_short_name=%{customdata[0]}<br>route_long_name=%{customdata[1]}<br>stop_name=%{customdata[2]}<br>stop_id=%{customdata[3]}<extra></extra>",
         "lat": [
          -34.6521562,
          -34.6482227,
          -34.6445334,
          -34.6404544,
          -34.6399227,
          -34.6388728,
          -34.6362494,
          -34.6323755,
          -34.6278504,
          -34.6192442,
          -34.6086496,
          -34.6596506,
          -34.6654259,
          -34.6644693,
          -34.6644693,
          -34.6582665,
          -34.6504439,
          -34.6504439,
          -34.423567,
          -34.4375361,
          -34.4443381,
          -34.4506827,
          -34.4561533,
          -34.4561533,
          -34.4608043,
          -34.4722074,
          -34.4800686,
          -34.4885346,
          -34.4975978,
          -34.5077139,
          -34.5247233,
          -34.5365204,
          -34.5482911,
          -34.5588016,
          -34.5625299,
          -34.5899757,
          -34.5899757,
          -34.5899757,
          -34.5154718,
          -34.5230887,
          -34.5304745,
          -34.5425501,
          -34.5540735,
          -34.5652607,
          -34.5680506,
          -34.5680506,
          -34.5729746,
          -34.5729746,
          -34.575705,
          -34.575705,
          -34.5717485,
          -34.5717485,
          -34.5347067,
          -34.542232,
          -34.5501584,
          -34.5501584,
          -34.5573725,
          -34.5635642,
          -34.5734195,
          -34.5810718,
          -34.5804962,
          -34.574712,
          -34.5684173,
          -34.6301709,
          -34.6301709,
          -34.6301709,
          -34.6301709,
          -34.6301709,
          -34.6301709,
          -34.6613896,
          -34.6613896,
          -34.6613896,
          -34.6613896,
          -34.6613896,
          -34.6787475,
          -34.6787475,
          -34.6915355,
          -34.6915355,
          -34.6975894,
          -34.6975894,
          -34.7033242,
          -34.7033242,
          -34.7092611,
          -34.7092611,
          -34.7246461,
          -34.7246461,
          -34.7518509,
          -34.7518509,
          -34.7640977,
          -34.7640977,
          -34.7823359,
          -34.7911192,
          -34.8366304,
          -34.8495861,
          -34.8657239,
          -34.879841,
          -34.8813876,
          -34.8909547,
          -34.9038945,
          -34.9038945,
          -34.7744501,
          -34.7893721,
          -34.8065811,
          -34.8195986,
          -34.8195986,
          -34.8195986,
          -34.80118,
          -34.80118,
          -34.7966735,
          -34.7966735,
          -34.791958,
          -34.791958,
          -34.7759243,
          -34.7759243,
          -34.7759243,
          -34.7759243,
          -34.7759243,
          -34.7759243,
          -34.7610318,
          -34.7610318,
          -34.7610318,
          -34.7436106,
          -34.7436106,
          -34.7436106,
          -34.7074543,
          -34.7074543,
          -34.7074543,
          -34.8106377,
          -34.8106377,
          -34.8111227,
          -34.8111227,
          -34.808388,
          -34.808388,
          -34.7270922,
          -34.7270922,
          -34.7270922,
          -34.6857287,
          -34.6857287,
          -34.6857287,
          -34.6536422,
          -34.6536422,
          -34.6536422,
          -34.8886501,
          -34.8595879,
          -34.8251482,
          -34.7978483,
          -34.9804097,
          -34.9804097,
          -34.9179155,
          -34.7950533,
          -34.7950533,
          -34.7970708,
          -34.7970708,
          -34.8032178,
          -34.8144339,
          -34.8144339,
          -34.8332274,
          -34.8540842,
          -34.8540842,
          -34.8540842,
          -34.8540842,
          -34.7086815,
          -34.6921774,
          -34.6921774,
          -34.6971714,
          -34.6971714,
          -34.6996965,
          -34.6996965,
          -34.7044639,
          -34.7044639,
          -34.708965,
          -34.708965,
          -34.710762,
          -34.710762,
          -34.7124465,
          -34.7124465,
          -34.7106549,
          -34.7106549,
          -34.7025293,
          -34.7025293,
          -34.6901777,
          -34.6901777,
          -34.6840978,
          -34.6840978,
          -34.67713,
          -34.67713,
          -34.6661376,
          -34.6661376,
          -34.6622014,
          -34.6622014,
          -34.6481153,
          -34.7714637,
          -34.7714637,
          -34.7607983,
          -34.7564804,
          -34.7506533,
          -34.7223687,
          -34.7105416,
          -34.6490835,
          -34.8332066,
          -34.8250279,
          -34.2866198,
          -34.330977,
          -34.3703514,
          -34.3828607,
          -34.4067502,
          -34.421623,
          -34.4468958,
          -34.4627922,
          -34.4720989,
          -34.0979051,
          -34.1602209,
          -34.1565823,
          -34.2222066,
          -34.2778567,
          -34.3494239,
          -34.3830219,
          -34.4091705,
          -34.4558335,
          -34.4796651,
          -35.0592254,
          -35.0592254,
          -35.0592254,
          -35.0592254,
          -35.0216179,
          -35.0216179,
          -34.9863555,
          -34.9775385,
          -34.9775385,
          -34.9621814,
          -34.9621814,
          -34.9362878,
          -34.9099069,
          -34.9099069,
          -34.8892028,
          -34.8892028,
          -34.8892028,
          -34.8701194,
          -34.9049408,
          -34.9033642,
          -34.9090514,
          -34.9122051,
          -34.920327,
          -34.9253053,
          -34.5130886,
          -34.5081513,
          -34.5027276,
          -34.4891115,
          -34.4722137,
          -34.4654466,
          -34.4506585,
          -34.4445522,
          -34.4375367,
          -34.4299116,
          -34.419003,
          -35.1651382,
          -35.2814201,
          -35.4366533,
          -34.6574937,
          -34.6478196,
          -34.6279272,
          -34.6006273,
          -34.5776869,
          -34.5774242,
          -34.5846051,
          -34.5984003,
          -34.6088711,
          -34.616072,
          -34.6227343,
          -34.6322048,
          -34.6397171,
          -34.6801742,
          -34.706078,
          -34.7243253,
          -34.7830555,
          -34.8578991,
          -34.8923029,
          -34.9279395,
          -35.0021051,
          -35.0583029,
          -35.1514876,
          -35.1514876,
          -35.1853363,
          -35.1853363,
          -35.1154841,
          -35.0701752,
          -35.1677373,
          -35.2776676,
          -35.3611696,
          -35.4497875,
          -35.5790842,
          -34.7100582,
          -34.6013699,
          -34.6031533,
          -34.6045861,
          -34.4687433,
          -34.4909537,
          -34.5193436,
          -34.4522459,
          -34.4878244,
          -34.4786824,
          -34.5039897,
          -34.5431069,
          -34.5513662,
          -34.5638352,
          -34.5784645,
          -34.5911517,
          -34.604926,
          -34.6036745,
          -34.6026515,
          -34.5796614,
          -34.5881302,
          -34.7802549
         ],
         "legendgroup": "tren",
         "lon": [
          -58.6425261,
          -58.6198135,
          -58.5918534,
          -58.5643758,
          -58.5411225,
          -58.5263409,
          -58.5021311,
          -58.4808913,
          -58.4661766,
          -58.4436522,
          -58.4088675,
          -58.6663871,
          -58.6979972,
          -58.727685,
          -58.727685,
          -58.7619414,
          -58.7895979,
          -58.7895979,
          -58.5817289,
          -58.5674401,
          -58.5587407,
          -58.5507001,
          -58.5411284,
          -58.5411284,
          -58.5265437,
          -58.5133831,
          -58.5038385,
          -58.4965804,
          -58.4884466,
          -58.4806636,
          -58.4728065,
          -58.4680326,
          -58.4628516,
          -58.4489445,
          -58.4367116,
          -58.376129,
          -58.376129,
          -58.376129,
          -58.4896092,
          -58.49413,
          -58.4944563,
          -58.494657,
          -58.4870632,
          -58.4753485,
          -58.4618081,
          -58.4618081,
          -58.448253,
          -58.448253,
          -58.435404,
          -58.435404,
          -58.4249824,
          -58.4249824,
          -58.5759809,
          -58.566917,
          -58.5570784,
          -58.5570784,
          -58.5479328,
          -58.5406609,
          -58.5319579,
          -58.5170793,
          -58.501898,
          -58.4878391,
          -58.4789912,
          -58.3805834,
          -58.3805834,
          -58.3805834,
          -58.3805834,
          -58.3805834,
          -58.3805834,
          -58.3768325,
          -58.3768325,
          -58.3768325,
          -58.3768325,
          -58.3768325,
          -58.3449626,
          -58.3449626,
          -58.3253499,
          -58.3253499,
          -58.3111938,
          -58.3111938,
          -58.2961718,
          -58.2961718,
          -58.280569,
          -58.280569,
          -58.2606591,
          -58.2606591,
          -58.2341863,
          -58.2341863,
          -58.2084433,
          -58.2084433,
          -58.1707596,
          -58.1552692,
          -58.0945403,
          -58.0751851,
          -58.0420495,
          -58.0107856,
          -57.9960622,
          -57.9680983,
          -57.950174,
          -57.950174,
          -58.1949303,
          -58.2031929,
          -58.2127388,
          -58.2300795,
          -58.2300795,
          -58.2300795,
          -58.3382367,
          -58.3382367,
          -58.3591724,
          -58.3591724,
          -58.380941,
          -58.380941,
          -58.3963571,
          -58.3963571,
          -58.3963571,
          -58.3963571,
          -58.3963571,
          -58.3963571,
          -58.3973127,
          -58.3973127,
          -58.3973127,
          -58.3954246,
          -58.3954246,
          -58.3954246,
          -58.390637,
          -58.390637,
          -58.390637,
          -58.2594167,
          -58.2594167,
          -58.2742679,
          -58.2742679,
          -58.3048296,
          -58.3048296,
          -58.393661,
          -58.393661,
          -58.393661,
          -58.3826371,
          -58.3826371,
          -58.3826371,
          -58.3788878,
          -58.3788878,
          -58.3788878,
          -58.3837029,
          -58.3871987,
          -58.3913722,
          -58.3942737,
          -58.3738144,
          -58.3738144,
          -58.3805605,
          -58.4078781,
          -58.4078781,
          -58.4291553,
          -58.4291553,
          -58.4485504,
          -58.4696989,
          -58.4696989,
          -58.4961652,
          -58.5228154,
          -58.5228154,
          -58.5228154,
          -58.5228154,
          -58.7307061,
          -58.6861877,
          -58.6861877,
          -58.6462658,
          -58.6462658,
          -58.6261936,
          -58.6261936,
          -58.5879899,
          -58.5879899,
          -58.5519393,
          -58.5519393,
          -58.537256,
          -58.537256,
          -58.5238732,
          -58.5238732,
          -58.5141386,
          -58.5141386,
          -58.5115373,
          -58.5115373,
          -58.5076299,
          -58.5076299,
          -58.4925366,
          -58.4925366,
          -58.4769699,
          -58.4769699,
          -58.4502223,
          -58.4502223,
          -58.4408973,
          -58.4408973,
          -58.4199555,
          -58.6465457,
          -58.6465457,
          -58.6173412,
          -58.6020446,
          -58.58425,
          -58.5307279,
          -58.5063521,
          -58.4158387,
          -58.188026,
          -58.2132652,
          -59.1021904,
          -58.9872035,
          -58.8683114,
          -58.8296505,
          -58.7723202,
          -58.7365407,
          -58.6773897,
          -58.6460044,
          -58.5744514,
          -59.0378286,
          -58.977169,
          -58.9610031,
          -58.8965515,
          -58.8903315,
          -58.7953571,
          -58.7362697,
          -58.6847612,
          -58.6201168,
          -58.6029298,
          -58.7541775,
          -58.7541775,
          -58.7541775,
          -58.7541775,
          -58.7237738,
          -58.7237738,
          -58.6895825,
          -58.6743571,
          -58.6743571,
          -58.647847,
          -58.647847,
          -58.6205451,
          -58.5942645,
          -58.5942645,
          -58.5677383,
          -58.5677383,
          -58.5677383,
          -58.5432637,
          -57.9431423,
          -57.9357323,
          -57.9278447,
          -57.9242646,
          -57.9190436,
          -57.9213044,
          -58.487579,
          -58.4845536,
          -58.4821262,
          -58.4812172,
          -58.4934212,
          -58.5081309,
          -58.5236988,
          -58.5390515,
          -58.553991,
          -58.5629211,
          -58.5761953,
          -58.7881853,
          -58.8029392,
          -58.8176656,
          -59.4336661,
          -59.352839,
          -59.2553985,
          -59.1734876,
          -59.1050924,
          -59.0874075,
          -59.0567847,
          -58.997844,
          -58.952925,
          -58.9220842,
          -58.893542,
          -58.8553185,
          -58.8284581,
          -58.7602409,
          -58.7794327,
          -58.7929542,
          -58.836545,
          -58.8921946,
          -58.917861,
          -58.9444298,
          -58.9998545,
          -59.0418857,
          -59.0907406,
          -59.0907406,
          -59.0927924,
          -59.0927924,
          -58.8984676,
          -58.2906247,
          -58.2320146,
          -58.1982603,
          -58.1512081,
          -58.0937313,
          -57.9823866,
          -58.5059269,
          -58.4935315,
          -58.5274629,
          -58.5644918,
          -58.9079062,
          -58.8384456,
          -58.7494301,
          -59.0067549,
          -59.075658,
          -58.8768343,
          -58.7976033,
          -58.7150571,
          -58.7033147,
          -58.6845919,
          -58.6565796,
          -58.6322349,
          -58.5956555,
          -58.5407521,
          -58.5124313,
          -58.4274154,
          -58.3756885,
          -58.7378366
         ],
         "marker": {
          "color": "#636efa"
         },
         "mode": "markers",
         "name": "tren",
         "showlegend": true,
         "subplot": "mapbox",
         "type": "scattermapbox"
        }
       ],
       "layout": {
        "height": 800,
        "legend": {
         "title": {
          "text": "type"
         },
         "tracegroupgap": 0
        },
        "mapbox": {
         "center": {
          "lat": -34.70137034792333,
          "lon": -58.52451950830671
         },
         "domain": {
          "x": [
           0,
           1
          ],
          "y": [
           0,
           1
          ]
         },
         "style": "open-street-map",
         "zoom": 10
        },
        "margin": {
         "b": 0,
         "l": 0,
         "r": 0,
         "t": 0
        },
        "template": {
         "data": {
          "bar": [
           {
            "error_x": {
             "color": "#2a3f5f"
            },
            "error_y": {
             "color": "#2a3f5f"
            },
            "marker": {
             "line": {
              "color": "#E5ECF6",
              "width": 0.5
             },
             "pattern": {
              "fillmode": "overlay",
              "size": 10,
              "solidity": 0.2
             }
            },
            "type": "bar"
           }
          ],
          "barpolar": [
           {
            "marker": {
             "line": {
              "color": "#E5ECF6",
              "width": 0.5
             },
             "pattern": {
              "fillmode": "overlay",
              "size": 10,
              "solidity": 0.2
             }
            },
            "type": "barpolar"
           }
          ],
          "carpet": [
           {
            "aaxis": {
             "endlinecolor": "#2a3f5f",
             "gridcolor": "white",
             "linecolor": "white",
             "minorgridcolor": "white",
             "startlinecolor": "#2a3f5f"
            },
            "baxis": {
             "endlinecolor": "#2a3f5f",
             "gridcolor": "white",
             "linecolor": "white",
             "minorgridcolor": "white",
             "startlinecolor": "#2a3f5f"
            },
            "type": "carpet"
           }
          ],
          "choropleth": [
           {
            "colorbar": {
             "outlinewidth": 0,
             "ticks": ""
            },
            "type": "choropleth"
           }
          ],
          "contour": [
           {
            "colorbar": {
             "outlinewidth": 0,
             "ticks": ""
            },
            "colorscale": [
             [
              0,
              "#0d0887"
             ],
             [
              0.1111111111111111,
              "#46039f"
             ],
             [
              0.2222222222222222,
              "#7201a8"
             ],
             [
              0.3333333333333333,
              "#9c179e"
             ],
             [
              0.4444444444444444,
              "#bd3786"
             ],
             [
              0.5555555555555556,
              "#d8576b"
             ],
             [
              0.6666666666666666,
              "#ed7953"
             ],
             [
              0.7777777777777778,
              "#fb9f3a"
             ],
             [
              0.8888888888888888,
              "#fdca26"
             ],
             [
              1,
              "#f0f921"
             ]
            ],
            "type": "contour"
           }
          ],
          "contourcarpet": [
           {
            "colorbar": {
             "outlinewidth": 0,
             "ticks": ""
            },
            "type": "contourcarpet"
           }
          ],
          "heatmap": [
           {
            "colorbar": {
             "outlinewidth": 0,
             "ticks": ""
            },
            "colorscale": [
             [
              0,
              "#0d0887"
             ],
             [
              0.1111111111111111,
              "#46039f"
             ],
             [
              0.2222222222222222,
              "#7201a8"
             ],
             [
              0.3333333333333333,
              "#9c179e"
             ],
             [
              0.4444444444444444,
              "#bd3786"
             ],
             [
              0.5555555555555556,
              "#d8576b"
             ],
             [
              0.6666666666666666,
              "#ed7953"
             ],
             [
              0.7777777777777778,
              "#fb9f3a"
             ],
             [
              0.8888888888888888,
              "#fdca26"
             ],
             [
              1,
              "#f0f921"
             ]
            ],
            "type": "heatmap"
           }
          ],
          "heatmapgl": [
           {
            "colorbar": {
             "outlinewidth": 0,
             "ticks": ""
            },
            "colorscale": [
             [
              0,
              "#0d0887"
             ],
             [
              0.1111111111111111,
              "#46039f"
             ],
             [
              0.2222222222222222,
              "#7201a8"
             ],
             [
              0.3333333333333333,
              "#9c179e"
             ],
             [
              0.4444444444444444,
              "#bd3786"
             ],
             [
              0.5555555555555556,
              "#d8576b"
             ],
             [
              0.6666666666666666,
              "#ed7953"
             ],
             [
              0.7777777777777778,
              "#fb9f3a"
             ],
             [
              0.8888888888888888,
              "#fdca26"
             ],
             [
              1,
              "#f0f921"
             ]
            ],
            "type": "heatmapgl"
           }
          ],
          "histogram": [
           {
            "marker": {
             "pattern": {
              "fillmode": "overlay",
              "size": 10,
              "solidity": 0.2
             }
            },
            "type": "histogram"
           }
          ],
          "histogram2d": [
           {
            "colorbar": {
             "outlinewidth": 0,
             "ticks": ""
            },
            "colorscale": [
             [
              0,
              "#0d0887"
             ],
             [
              0.1111111111111111,
              "#46039f"
             ],
             [
              0.2222222222222222,
              "#7201a8"
             ],
             [
              0.3333333333333333,
              "#9c179e"
             ],
             [
              0.4444444444444444,
              "#bd3786"
             ],
             [
              0.5555555555555556,
              "#d8576b"
             ],
             [
              0.6666666666666666,
              "#ed7953"
             ],
             [
              0.7777777777777778,
              "#fb9f3a"
             ],
             [
              0.8888888888888888,
              "#fdca26"
             ],
             [
              1,
              "#f0f921"
             ]
            ],
            "type": "histogram2d"
           }
          ],
          "histogram2dcontour": [
           {
            "colorbar": {
             "outlinewidth": 0,
             "ticks": ""
            },
            "colorscale": [
             [
              0,
              "#0d0887"
             ],
             [
              0.1111111111111111,
              "#46039f"
             ],
             [
              0.2222222222222222,
              "#7201a8"
             ],
             [
              0.3333333333333333,
              "#9c179e"
             ],
             [
              0.4444444444444444,
              "#bd3786"
             ],
             [
              0.5555555555555556,
              "#d8576b"
             ],
             [
              0.6666666666666666,
              "#ed7953"
             ],
             [
              0.7777777777777778,
              "#fb9f3a"
             ],
             [
              0.8888888888888888,
              "#fdca26"
             ],
             [
              1,
              "#f0f921"
             ]
            ],
            "type": "histogram2dcontour"
           }
          ],
          "mesh3d": [
           {
            "colorbar": {
             "outlinewidth": 0,
             "ticks": ""
            },
            "type": "mesh3d"
           }
          ],
          "parcoords": [
           {
            "line": {
             "colorbar": {
              "outlinewidth": 0,
              "ticks": ""
             }
            },
            "type": "parcoords"
           }
          ],
          "pie": [
           {
            "automargin": true,
            "type": "pie"
           }
          ],
          "scatter": [
           {
            "fillpattern": {
             "fillmode": "overlay",
             "size": 10,
             "solidity": 0.2
            },
            "type": "scatter"
           }
          ],
          "scatter3d": [
           {
            "line": {
             "colorbar": {
              "outlinewidth": 0,
              "ticks": ""
             }
            },
            "marker": {
             "colorbar": {
              "outlinewidth": 0,
              "ticks": ""
             }
            },
            "type": "scatter3d"
           }
          ],
          "scattercarpet": [
           {
            "marker": {
             "colorbar": {
              "outlinewidth": 0,
              "ticks": ""
             }
            },
            "type": "scattercarpet"
           }
          ],
          "scattergeo": [
           {
            "marker": {
             "colorbar": {
              "outlinewidth": 0,
              "ticks": ""
             }
            },
            "type": "scattergeo"
           }
          ],
          "scattergl": [
           {
            "marker": {
             "colorbar": {
              "outlinewidth": 0,
              "ticks": ""
             }
            },
            "type": "scattergl"
           }
          ],
          "scattermapbox": [
           {
            "marker": {
             "colorbar": {
              "outlinewidth": 0,
              "ticks": ""
             }
            },
            "type": "scattermapbox"
           }
          ],
          "scatterpolar": [
           {
            "marker": {
             "colorbar": {
              "outlinewidth": 0,
              "ticks": ""
             }
            },
            "type": "scatterpolar"
           }
          ],
          "scatterpolargl": [
           {
            "marker": {
             "colorbar": {
              "outlinewidth": 0,
              "ticks": ""
             }
            },
            "type": "scatterpolargl"
           }
          ],
          "scatterternary": [
           {
            "marker": {
             "colorbar": {
              "outlinewidth": 0,
              "ticks": ""
             }
            },
            "type": "scatterternary"
           }
          ],
          "surface": [
           {
            "colorbar": {
             "outlinewidth": 0,
             "ticks": ""
            },
            "colorscale": [
             [
              0,
              "#0d0887"
             ],
             [
              0.1111111111111111,
              "#46039f"
             ],
             [
              0.2222222222222222,
              "#7201a8"
             ],
             [
              0.3333333333333333,
              "#9c179e"
             ],
             [
              0.4444444444444444,
              "#bd3786"
             ],
             [
              0.5555555555555556,
              "#d8576b"
             ],
             [
              0.6666666666666666,
              "#ed7953"
             ],
             [
              0.7777777777777778,
              "#fb9f3a"
             ],
             [
              0.8888888888888888,
              "#fdca26"
             ],
             [
              1,
              "#f0f921"
             ]
            ],
            "type": "surface"
           }
          ],
          "table": [
           {
            "cells": {
             "fill": {
              "color": "#EBF0F8"
             },
             "line": {
              "color": "white"
             }
            },
            "header": {
             "fill": {
              "color": "#C8D4E3"
             },
             "line": {
              "color": "white"
             }
            },
            "type": "table"
           }
          ]
         },
         "layout": {
          "annotationdefaults": {
           "arrowcolor": "#2a3f5f",
           "arrowhead": 0,
           "arrowwidth": 1
          },
          "autotypenumbers": "strict",
          "coloraxis": {
           "colorbar": {
            "outlinewidth": 0,
            "ticks": ""
           }
          },
          "colorscale": {
           "diverging": [
            [
             0,
             "#8e0152"
            ],
            [
             0.1,
             "#c51b7d"
            ],
            [
             0.2,
             "#de77ae"
            ],
            [
             0.3,
             "#f1b6da"
            ],
            [
             0.4,
             "#fde0ef"
            ],
            [
             0.5,
             "#f7f7f7"
            ],
            [
             0.6,
             "#e6f5d0"
            ],
            [
             0.7,
             "#b8e186"
            ],
            [
             0.8,
             "#7fbc41"
            ],
            [
             0.9,
             "#4d9221"
            ],
            [
             1,
             "#276419"
            ]
           ],
           "sequential": [
            [
             0,
             "#0d0887"
            ],
            [
             0.1111111111111111,
             "#46039f"
            ],
            [
             0.2222222222222222,
             "#7201a8"
            ],
            [
             0.3333333333333333,
             "#9c179e"
            ],
            [
             0.4444444444444444,
             "#bd3786"
            ],
            [
             0.5555555555555556,
             "#d8576b"
            ],
            [
             0.6666666666666666,
             "#ed7953"
            ],
            [
             0.7777777777777778,
             "#fb9f3a"
            ],
            [
             0.8888888888888888,
             "#fdca26"
            ],
            [
             1,
             "#f0f921"
            ]
           ],
           "sequentialminus": [
            [
             0,
             "#0d0887"
            ],
            [
             0.1111111111111111,
             "#46039f"
            ],
            [
             0.2222222222222222,
             "#7201a8"
            ],
            [
             0.3333333333333333,
             "#9c179e"
            ],
            [
             0.4444444444444444,
             "#bd3786"
            ],
            [
             0.5555555555555556,
             "#d8576b"
            ],
            [
             0.6666666666666666,
             "#ed7953"
            ],
            [
             0.7777777777777778,
             "#fb9f3a"
            ],
            [
             0.8888888888888888,
             "#fdca26"
            ],
            [
             1,
             "#f0f921"
            ]
           ]
          },
          "colorway": [
           "#636efa",
           "#EF553B",
           "#00cc96",
           "#ab63fa",
           "#FFA15A",
           "#19d3f3",
           "#FF6692",
           "#B6E880",
           "#FF97FF",
           "#FECB52"
          ],
          "font": {
           "color": "#2a3f5f"
          },
          "geo": {
           "bgcolor": "white",
           "lakecolor": "white",
           "landcolor": "#E5ECF6",
           "showlakes": true,
           "showland": true,
           "subunitcolor": "white"
          },
          "hoverlabel": {
           "align": "left"
          },
          "hovermode": "closest",
          "mapbox": {
           "style": "light"
          },
          "paper_bgcolor": "white",
          "plot_bgcolor": "#E5ECF6",
          "polar": {
           "angularaxis": {
            "gridcolor": "white",
            "linecolor": "white",
            "ticks": ""
           },
           "bgcolor": "#E5ECF6",
           "radialaxis": {
            "gridcolor": "white",
            "linecolor": "white",
            "ticks": ""
           }
          },
          "scene": {
           "xaxis": {
            "backgroundcolor": "#E5ECF6",
            "gridcolor": "white",
            "gridwidth": 2,
            "linecolor": "white",
            "showbackground": true,
            "ticks": "",
            "zerolinecolor": "white"
           },
           "yaxis": {
            "backgroundcolor": "#E5ECF6",
            "gridcolor": "white",
            "gridwidth": 2,
            "linecolor": "white",
            "showbackground": true,
            "ticks": "",
            "zerolinecolor": "white"
           },
           "zaxis": {
            "backgroundcolor": "#E5ECF6",
            "gridcolor": "white",
            "gridwidth": 2,
            "linecolor": "white",
            "showbackground": true,
            "ticks": "",
            "zerolinecolor": "white"
           }
          },
          "shapedefaults": {
           "line": {
            "color": "#2a3f5f"
           }
          },
          "ternary": {
           "aaxis": {
            "gridcolor": "white",
            "linecolor": "white",
            "ticks": ""
           },
           "baxis": {
            "gridcolor": "white",
            "linecolor": "white",
            "ticks": ""
           },
           "bgcolor": "#E5ECF6",
           "caxis": {
            "gridcolor": "white",
            "linecolor": "white",
            "ticks": ""
           }
          },
          "title": {
           "x": 0.05
          },
          "xaxis": {
           "automargin": true,
           "gridcolor": "white",
           "linecolor": "white",
           "ticks": "",
           "title": {
            "standoff": 15
           },
           "zerolinecolor": "white",
           "zerolinewidth": 2
          },
          "yaxis": {
           "automargin": true,
           "gridcolor": "white",
           "linecolor": "white",
           "ticks": "",
           "title": {
            "standoff": 15
           },
           "zerolinecolor": "white",
           "zerolinewidth": 2
          }
         }
        },
        "width": 1600
       }
      }
     },
     "metadata": {},
     "output_type": "display_data"
    }
   ],
   "source": [
    "color_scale = [(0, 'orange'), (1,'red')]\n",
    "\n",
    "fig = px.scatter_mapbox(df,\n",
    "                        lat=\"lat\",\n",
    "                        lon=\"lon\",\n",
    "                        hover_data=[\"route_short_name\", \"route_long_name\", \"stop_name\", \"stop_id\"],\n",
    "                        color=\"type\",\n",
    "                        color_continuous_scale=color_scale,\n",
    "                        zoom=10,\n",
    "                        height=800,\n",
    "                        width=1600)\n",
    "fig.update_layout(mapbox_style=\"open-street-map\")\n",
    "fig.update_layout(margin={\"r\":0,\"t\":0,\"l\":0,\"b\":0})\n",
    "fig.show()"
   ]
  },
  {
   "cell_type": "code",
   "execution_count": 25,
   "id": "958c249f",
   "metadata": {},
   "outputs": [],
   "source": [
    "df = pd.read_csv(\"../data/external/other/hospitales.csv\")"
   ]
  },
  {
   "cell_type": "code",
   "execution_count": 26,
   "id": "b0bed0db",
   "metadata": {},
   "outputs": [
    {
     "data": {
      "text/html": [
       "<div>\n",
       "<style scoped>\n",
       "    .dataframe tbody tr th:only-of-type {\n",
       "        vertical-align: middle;\n",
       "    }\n",
       "\n",
       "    .dataframe tbody tr th {\n",
       "        vertical-align: top;\n",
       "    }\n",
       "\n",
       "    .dataframe thead th {\n",
       "        text-align: right;\n",
       "    }\n",
       "</style>\n",
       "<table border=\"1\" class=\"dataframe\">\n",
       "  <thead>\n",
       "    <tr style=\"text-align: right;\">\n",
       "      <th></th>\n",
       "      <th>WKT</th>\n",
       "      <th>ID</th>\n",
       "      <th>NOMBRE</th>\n",
       "      <th>NOM_MAP</th>\n",
       "      <th>OBJETO</th>\n",
       "      <th>CALLE</th>\n",
       "      <th>ALTURA</th>\n",
       "      <th>DOM_NORMA</th>\n",
       "      <th>DOM_GEO</th>\n",
       "      <th>TELEFONO</th>\n",
       "      <th>GUARDIA</th>\n",
       "      <th>FAX</th>\n",
       "      <th>WEB</th>\n",
       "      <th>COD_POSTAL</th>\n",
       "      <th>TIPO</th>\n",
       "      <th>TIPO_ESPEC</th>\n",
       "      <th>MOD_AT_1</th>\n",
       "      <th>MOD_AT_2</th>\n",
       "      <th>DEPEND_ADM</th>\n",
       "      <th>DIRECTOR</th>\n",
       "    </tr>\n",
       "  </thead>\n",
       "  <tbody>\n",
       "    <tr>\n",
       "      <th>0</th>\n",
       "      <td>POINT (-58.3775508488443 -34.6288473603881)</td>\n",
       "      <td>1.0</td>\n",
       "      <td>HOSPITAL GENERAL DE NIÑOS PEDRO DE ELIZALDE</td>\n",
       "      <td>HOSP. DE ELIZALDE</td>\n",
       "      <td>HOSPITAL</td>\n",
       "      <td>MANUEL A. MONTES DE OCA</td>\n",
       "      <td>40</td>\n",
       "      <td>MONTES DE OCA, MANUEL AV. 40</td>\n",
       "      <td>40 MONTES DE OCA, MANUEL AV.</td>\n",
       "      <td>4307-5842 / 5844</td>\n",
       "      <td>4307-5442 / 4300-1700</td>\n",
       "      <td>4302-7400</td>\n",
       "      <td>www.elizalde.gov.ar</td>\n",
       "      <td>C1270AAN</td>\n",
       "      <td>Hospital de niños</td>\n",
       "      <td>PEDIATRIA</td>\n",
       "      <td>AT. AMB./INTERNACION</td>\n",
       "      <td>DIAG./TRATAM.</td>\n",
       "      <td>Ministerio de Salud GCBA</td>\n",
       "      <td>Dr. Javier Indart</td>\n",
       "    </tr>\n",
       "    <tr>\n",
       "      <th>1</th>\n",
       "      <td>POINT (-58.4120700769456 -34.5941919726393)</td>\n",
       "      <td>2.0</td>\n",
       "      <td>HOSPITAL GENERAL DE NIÑOS RICARDO GUTIERREZ</td>\n",
       "      <td>HOSP. GUTIERREZ</td>\n",
       "      <td>HOSPITAL</td>\n",
       "      <td>GALLO</td>\n",
       "      <td>1330</td>\n",
       "      <td>GALLO 1330</td>\n",
       "      <td>1330 GALLO</td>\n",
       "      <td>4962-9247 / 9248 / 9280</td>\n",
       "      <td>4962-9232</td>\n",
       "      <td>4962-3762</td>\n",
       "      <td>www.guti.gov.ar</td>\n",
       "      <td>C1425EFD</td>\n",
       "      <td>Hospital de niños</td>\n",
       "      <td>PEDIATRIA</td>\n",
       "      <td>AT. AMB./INTERNACION</td>\n",
       "      <td>DIAG./TRATAM.</td>\n",
       "      <td>Ministerio de Salud GCBA</td>\n",
       "      <td>Dra. María Cristina Galoppo</td>\n",
       "    </tr>\n",
       "    <tr>\n",
       "      <th>2</th>\n",
       "      <td>POINT (-58.4027276547828 -34.5845283357505)</td>\n",
       "      <td>4.0</td>\n",
       "      <td>HOSPITAL DE ODONTOLOGIA DR. RAMON CARRILLO (EX...</td>\n",
       "      <td>HOSP. ODONTOLOGICO CARRILLO</td>\n",
       "      <td>HOSPITAL</td>\n",
       "      <td>SANCHEZ DE BUSTAMANTE</td>\n",
       "      <td>2529</td>\n",
       "      <td>SANCHEZ DE BUSTAMANTE 2529</td>\n",
       "      <td>2529 SANCHEZ DE BUSTAMANTE</td>\n",
       "      <td>4805-5521 / 7533</td>\n",
       "      <td>4805-6407</td>\n",
       "      <td>4805-7533</td>\n",
       "      <td>NaN</td>\n",
       "      <td>C1425DUY</td>\n",
       "      <td>Hospital especializado</td>\n",
       "      <td>ODONTOLOGIA</td>\n",
       "      <td>AT. AMBULATORIA</td>\n",
       "      <td>DIAG./TRATAM.</td>\n",
       "      <td>Ministerio de Salud GCBA</td>\n",
       "      <td>Dra. Susana Rita Lisanti</td>\n",
       "    </tr>\n",
       "    <tr>\n",
       "      <th>3</th>\n",
       "      <td>POINT (-58.3851559118889 -34.6394041316484)</td>\n",
       "      <td>6.0</td>\n",
       "      <td>HOSPITAL DE SALUD MENTAL BRAULIO MOYANO</td>\n",
       "      <td>HOSP. MOYANO</td>\n",
       "      <td>HOSPITAL</td>\n",
       "      <td>BRANDSEN</td>\n",
       "      <td>2570</td>\n",
       "      <td>BRANDSEN 2570</td>\n",
       "      <td>2570 BRANDSEN</td>\n",
       "      <td>4301-3655 / 3659</td>\n",
       "      <td>4301-4522</td>\n",
       "      <td>4303-3655/59</td>\n",
       "      <td>www.moyano.org.ar</td>\n",
       "      <td>C1287ABJ</td>\n",
       "      <td>Hospital especializado</td>\n",
       "      <td>SALUD MENTAL</td>\n",
       "      <td>AT. AMB./INTERNACION</td>\n",
       "      <td>DIAG./TRATAM.</td>\n",
       "      <td>Ministerio de Salud GCBA</td>\n",
       "      <td>Dra. Norma Derito</td>\n",
       "    </tr>\n",
       "    <tr>\n",
       "      <th>4</th>\n",
       "      <td>POINT (-58.3913114406535 -34.6341535760002)</td>\n",
       "      <td>7.0</td>\n",
       "      <td>HOSPITAL DE GASTROENTEROLOGIA B. UDAONDO</td>\n",
       "      <td>HOSP. UDAONDO</td>\n",
       "      <td>HOSPITAL</td>\n",
       "      <td>CASEROS</td>\n",
       "      <td>2061</td>\n",
       "      <td>CASEROS AV. 2061</td>\n",
       "      <td>2061 CASEROS AV.</td>\n",
       "      <td>4306-4641 al 4649</td>\n",
       "      <td>4306-4641 al 49 (int. 125)</td>\n",
       "      <td>4306-3013</td>\n",
       "      <td>NaN</td>\n",
       "      <td>C1264AAA</td>\n",
       "      <td>Hospital especializado</td>\n",
       "      <td>ENF. APAR. DIGESTIVO</td>\n",
       "      <td>AT. AMB./INTERNACION</td>\n",
       "      <td>DIAG./TRATAM.</td>\n",
       "      <td>Ministerio de Salud GCBA</td>\n",
       "      <td>Dr. Eduardo Gustavo Sosa</td>\n",
       "    </tr>\n",
       "  </tbody>\n",
       "</table>\n",
       "</div>"
      ],
      "text/plain": [
       "                                           WKT   ID   \n",
       "0  POINT (-58.3775508488443 -34.6288473603881)  1.0  \\\n",
       "1  POINT (-58.4120700769456 -34.5941919726393)  2.0   \n",
       "2  POINT (-58.4027276547828 -34.5845283357505)  4.0   \n",
       "3  POINT (-58.3851559118889 -34.6394041316484)  6.0   \n",
       "4  POINT (-58.3913114406535 -34.6341535760002)  7.0   \n",
       "\n",
       "                                              NOMBRE   \n",
       "0        HOSPITAL GENERAL DE NIÑOS PEDRO DE ELIZALDE  \\\n",
       "1        HOSPITAL GENERAL DE NIÑOS RICARDO GUTIERREZ   \n",
       "2  HOSPITAL DE ODONTOLOGIA DR. RAMON CARRILLO (EX...   \n",
       "3            HOSPITAL DE SALUD MENTAL BRAULIO MOYANO   \n",
       "4           HOSPITAL DE GASTROENTEROLOGIA B. UDAONDO   \n",
       "\n",
       "                       NOM_MAP    OBJETO                    CALLE  ALTURA   \n",
       "0            HOSP. DE ELIZALDE  HOSPITAL  MANUEL A. MONTES DE OCA      40  \\\n",
       "1              HOSP. GUTIERREZ  HOSPITAL                    GALLO    1330   \n",
       "2  HOSP. ODONTOLOGICO CARRILLO  HOSPITAL    SANCHEZ DE BUSTAMANTE    2529   \n",
       "3                 HOSP. MOYANO  HOSPITAL                 BRANDSEN    2570   \n",
       "4                HOSP. UDAONDO  HOSPITAL                  CASEROS    2061   \n",
       "\n",
       "                      DOM_NORMA                       DOM_GEO   \n",
       "0  MONTES DE OCA, MANUEL AV. 40  40 MONTES DE OCA, MANUEL AV.  \\\n",
       "1                    GALLO 1330                    1330 GALLO   \n",
       "2    SANCHEZ DE BUSTAMANTE 2529    2529 SANCHEZ DE BUSTAMANTE   \n",
       "3                 BRANDSEN 2570                 2570 BRANDSEN   \n",
       "4              CASEROS AV. 2061              2061 CASEROS AV.   \n",
       "\n",
       "                  TELEFONO                     GUARDIA           FAX   \n",
       "0         4307-5842 / 5844       4307-5442 / 4300-1700     4302-7400  \\\n",
       "1  4962-9247 / 9248 / 9280                   4962-9232     4962-3762   \n",
       "2         4805-5521 / 7533                   4805-6407     4805-7533   \n",
       "3         4301-3655 / 3659                   4301-4522  4303-3655/59   \n",
       "4        4306-4641 al 4649  4306-4641 al 49 (int. 125)     4306-3013   \n",
       "\n",
       "                   WEB COD_POSTAL                    TIPO   \n",
       "0  www.elizalde.gov.ar   C1270AAN       Hospital de niños  \\\n",
       "1      www.guti.gov.ar   C1425EFD       Hospital de niños   \n",
       "2                  NaN   C1425DUY  Hospital especializado   \n",
       "3    www.moyano.org.ar   C1287ABJ  Hospital especializado   \n",
       "4                  NaN   C1264AAA  Hospital especializado   \n",
       "\n",
       "             TIPO_ESPEC              MOD_AT_1       MOD_AT_2   \n",
       "0             PEDIATRIA  AT. AMB./INTERNACION  DIAG./TRATAM.  \\\n",
       "1             PEDIATRIA  AT. AMB./INTERNACION  DIAG./TRATAM.   \n",
       "2           ODONTOLOGIA       AT. AMBULATORIA  DIAG./TRATAM.   \n",
       "3          SALUD MENTAL  AT. AMB./INTERNACION  DIAG./TRATAM.   \n",
       "4  ENF. APAR. DIGESTIVO  AT. AMB./INTERNACION  DIAG./TRATAM.   \n",
       "\n",
       "                 DEPEND_ADM                     DIRECTOR  \n",
       "0  Ministerio de Salud GCBA            Dr. Javier Indart  \n",
       "1  Ministerio de Salud GCBA  Dra. María Cristina Galoppo  \n",
       "2  Ministerio de Salud GCBA     Dra. Susana Rita Lisanti  \n",
       "3  Ministerio de Salud GCBA            Dra. Norma Derito  \n",
       "4  Ministerio de Salud GCBA     Dr. Eduardo Gustavo Sosa  "
      ]
     },
     "execution_count": 26,
     "metadata": {},
     "output_type": "execute_result"
    }
   ],
   "source": [
    "df.head()"
   ]
  },
  {
   "cell_type": "code",
   "execution_count": 28,
   "id": "d686f6e9",
   "metadata": {},
   "outputs": [],
   "source": [
    "import json"
   ]
  },
  {
   "cell_type": "code",
   "execution_count": 29,
   "id": "15675383",
   "metadata": {},
   "outputs": [],
   "source": [
    "with open(\"../data/external/other/hospitales.json\") as f:\n",
    "    hospitales = json.load(f)"
   ]
  },
  {
   "cell_type": "code",
   "execution_count": 34,
   "id": "4ac45b49",
   "metadata": {},
   "outputs": [
    {
     "data": {
      "text/plain": [
       "[{'type': 'Feature',\n",
       "  'properties': {'ID': 1.0,\n",
       "   'NOMBRE': 'HOSPITAL GENERAL DE NIÑOS PEDRO DE ELIZALDE',\n",
       "   'NOM_MAP': 'HOSP. DE ELIZALDE',\n",
       "   'OBJETO': 'HOSPITAL',\n",
       "   'CALLE': 'MANUEL A. MONTES DE OCA',\n",
       "   'ALTURA': '40',\n",
       "   'DOM_NORMA': 'MONTES DE OCA, MANUEL AV. 40',\n",
       "   'DOM_GEO': '40 MONTES DE OCA, MANUEL AV.',\n",
       "   'TELEFONO': '4307-5842 / 5844',\n",
       "   'GUARDIA': '4307-5442 / 4300-1700',\n",
       "   'FAX': '4302-7400',\n",
       "   'WEB': 'www.elizalde.gov.ar',\n",
       "   'COD_POSTAL': 'C1270AAN',\n",
       "   'TIPO': 'Hospital de niños',\n",
       "   'TIPO_ESPEC': 'PEDIATRIA',\n",
       "   'MOD_AT_1': 'AT. AMB./INTERNACION',\n",
       "   'MOD_AT_2': 'DIAG./TRATAM.',\n",
       "   'DEPEND_ADM': 'Ministerio de Salud GCBA',\n",
       "   'DIRECTOR': 'Dr. Javier Indart'},\n",
       "  'geometry': {'type': 'Point',\n",
       "   'coordinates': [-58.37755084884431, -34.628847360388136]}},\n",
       " {'type': 'Feature',\n",
       "  'properties': {'ID': 2.0,\n",
       "   'NOMBRE': 'HOSPITAL GENERAL DE NIÑOS RICARDO GUTIERREZ',\n",
       "   'NOM_MAP': 'HOSP. GUTIERREZ',\n",
       "   'OBJETO': 'HOSPITAL',\n",
       "   'CALLE': 'GALLO',\n",
       "   'ALTURA': '1330',\n",
       "   'DOM_NORMA': 'GALLO 1330',\n",
       "   'DOM_GEO': '1330 GALLO',\n",
       "   'TELEFONO': '4962-9247 / 9248 / 9280',\n",
       "   'GUARDIA': '4962-9232',\n",
       "   'FAX': '4962-3762',\n",
       "   'WEB': 'www.guti.gov.ar',\n",
       "   'COD_POSTAL': 'C1425EFD',\n",
       "   'TIPO': 'Hospital de niños',\n",
       "   'TIPO_ESPEC': 'PEDIATRIA',\n",
       "   'MOD_AT_1': 'AT. AMB./INTERNACION',\n",
       "   'MOD_AT_2': 'DIAG./TRATAM.',\n",
       "   'DEPEND_ADM': 'Ministerio de Salud GCBA',\n",
       "   'DIRECTOR': 'Dra. María Cristina Galoppo'},\n",
       "  'geometry': {'type': 'Point',\n",
       "   'coordinates': [-58.41207007694563, -34.59419197263928]}},\n",
       " {'type': 'Feature',\n",
       "  'properties': {'ID': 4.0,\n",
       "   'NOMBRE': 'HOSPITAL DE ODONTOLOGIA DR. RAMON CARRILLO (EX NACIONAL)',\n",
       "   'NOM_MAP': 'HOSP. ODONTOLOGICO CARRILLO',\n",
       "   'OBJETO': 'HOSPITAL',\n",
       "   'CALLE': 'SANCHEZ DE BUSTAMANTE',\n",
       "   'ALTURA': '2529',\n",
       "   'DOM_NORMA': 'SANCHEZ DE BUSTAMANTE 2529',\n",
       "   'DOM_GEO': '2529 SANCHEZ DE BUSTAMANTE',\n",
       "   'TELEFONO': '4805-5521 / 7533',\n",
       "   'GUARDIA': '4805-6407',\n",
       "   'FAX': '4805-7533',\n",
       "   'WEB': None,\n",
       "   'COD_POSTAL': 'C1425DUY',\n",
       "   'TIPO': 'Hospital especializado',\n",
       "   'TIPO_ESPEC': 'ODONTOLOGIA',\n",
       "   'MOD_AT_1': 'AT. AMBULATORIA',\n",
       "   'MOD_AT_2': 'DIAG./TRATAM.',\n",
       "   'DEPEND_ADM': 'Ministerio de Salud GCBA',\n",
       "   'DIRECTOR': 'Dra. Susana Rita Lisanti'},\n",
       "  'geometry': {'type': 'Point',\n",
       "   'coordinates': [-58.40272765478279, -34.58452833575054]}},\n",
       " {'type': 'Feature',\n",
       "  'properties': {'ID': 6.0,\n",
       "   'NOMBRE': 'HOSPITAL DE SALUD MENTAL BRAULIO MOYANO',\n",
       "   'NOM_MAP': 'HOSP. MOYANO',\n",
       "   'OBJETO': 'HOSPITAL',\n",
       "   'CALLE': 'BRANDSEN',\n",
       "   'ALTURA': '2570',\n",
       "   'DOM_NORMA': 'BRANDSEN 2570',\n",
       "   'DOM_GEO': '2570 BRANDSEN',\n",
       "   'TELEFONO': '4301-3655 / 3659',\n",
       "   'GUARDIA': '4301-4522',\n",
       "   'FAX': '4303-3655/59',\n",
       "   'WEB': 'www.moyano.org.ar',\n",
       "   'COD_POSTAL': 'C1287ABJ',\n",
       "   'TIPO': 'Hospital especializado',\n",
       "   'TIPO_ESPEC': 'SALUD MENTAL',\n",
       "   'MOD_AT_1': 'AT. AMB./INTERNACION',\n",
       "   'MOD_AT_2': 'DIAG./TRATAM.',\n",
       "   'DEPEND_ADM': 'Ministerio de Salud GCBA',\n",
       "   'DIRECTOR': 'Dra. Norma Derito'},\n",
       "  'geometry': {'type': 'Point',\n",
       "   'coordinates': [-58.3851559118889, -34.63940413164837]}},\n",
       " {'type': 'Feature',\n",
       "  'properties': {'ID': 7.0,\n",
       "   'NOMBRE': 'HOSPITAL DE GASTROENTEROLOGIA B. UDAONDO',\n",
       "   'NOM_MAP': 'HOSP. UDAONDO',\n",
       "   'OBJETO': 'HOSPITAL',\n",
       "   'CALLE': 'CASEROS',\n",
       "   'ALTURA': '2061',\n",
       "   'DOM_NORMA': 'CASEROS AV. 2061',\n",
       "   'DOM_GEO': '2061 CASEROS AV.',\n",
       "   'TELEFONO': '4306-4641 al 4649',\n",
       "   'GUARDIA': '4306-4641 al 49 (int. 125)',\n",
       "   'FAX': '4306-3013',\n",
       "   'WEB': None,\n",
       "   'COD_POSTAL': 'C1264AAA',\n",
       "   'TIPO': 'Hospital especializado',\n",
       "   'TIPO_ESPEC': 'ENF. APAR. DIGESTIVO',\n",
       "   'MOD_AT_1': 'AT. AMB./INTERNACION',\n",
       "   'MOD_AT_2': 'DIAG./TRATAM.',\n",
       "   'DEPEND_ADM': 'Ministerio de Salud GCBA',\n",
       "   'DIRECTOR': 'Dr. Eduardo Gustavo Sosa'},\n",
       "  'geometry': {'type': 'Point',\n",
       "   'coordinates': [-58.391311440653496, -34.63415357600018]}},\n",
       " {'type': 'Feature',\n",
       "  'properties': {'ID': 8.0,\n",
       "   'NOMBRE': 'INSTITUTO DE ZOONOSIS L. PASTEUR',\n",
       "   'NOM_MAP': 'INST. PASTEUR',\n",
       "   'OBJETO': 'HOSPITAL',\n",
       "   'CALLE': 'DIAZ VELEZ',\n",
       "   'ALTURA': '4821',\n",
       "   'DOM_NORMA': 'DIAZ VELEZ AV. 4821',\n",
       "   'DOM_GEO': '4821 DIAZ VELEZ AV.',\n",
       "   'TELEFONO': '4958-9900',\n",
       "   'GUARDIA': '4982-8421 / 4504 / 6666',\n",
       "   'FAX': '4983-7300',\n",
       "   'WEB': None,\n",
       "   'COD_POSTAL': 'C1405DCD',\n",
       "   'TIPO': 'Hospital especializado',\n",
       "   'TIPO_ESPEC': 'ZOONOSIS',\n",
       "   'MOD_AT_1': 'AT. AMBULATORIA',\n",
       "   'MOD_AT_2': 'DIAG./TRATAM.',\n",
       "   'DEPEND_ADM': 'Ministerio de Salud GCBA',\n",
       "   'DIRECTOR': 'Dr. Oscar Enrique Lencinas'},\n",
       "  'geometry': {'type': 'Point',\n",
       "   'coordinates': [-58.43494334798185, -34.60847212574126]}},\n",
       " {'type': 'Feature',\n",
       "  'properties': {'ID': 9.0,\n",
       "   'NOMBRE': 'HOSPITAL DE REHABILITACION RESPIRATORIA MARIA FERRER',\n",
       "   'NOM_MAP': 'HOSP. FERRER',\n",
       "   'OBJETO': 'HOSPITAL',\n",
       "   'CALLE': 'DOCTOR ENRIQUE FINOCHIETTO',\n",
       "   'ALTURA': '849',\n",
       "   'DOM_NORMA': 'FINOCHIETTO ENRIQUE DR. 849',\n",
       "   'DOM_GEO': '849 FINOCHIETTO ENRIQUE DR.',\n",
       "   'TELEFONO': '4307-1445 / 4677 / 6777 / 6738 / 7474',\n",
       "   'GUARDIA': '4307-1445 (int. 145)',\n",
       "   'FAX': '4307-2567',\n",
       "   'WEB': None,\n",
       "   'COD_POSTAL': 'C1272AAA',\n",
       "   'TIPO': 'Hospital especializado',\n",
       "   'TIPO_ESPEC': 'NEUMONOLOGIA',\n",
       "   'MOD_AT_1': 'AT. AMB./INTERNACION',\n",
       "   'MOD_AT_2': 'DIAG./TRATAM.',\n",
       "   'DEPEND_ADM': 'Ministerio de Salud GCBA',\n",
       "   'DIRECTOR': 'Dra. Dora Lombardi'},\n",
       "  'geometry': {'type': 'Point',\n",
       "   'coordinates': [-58.3758433488021, -34.63021120444947]}},\n",
       " {'type': 'Feature',\n",
       "  'properties': {'ID': 10.0,\n",
       "   'NOMBRE': 'HOSPITAL INFANTO JUVENIL C. TOBAR GARCIA',\n",
       "   'NOM_MAP': 'HOSP. TOBAR GARCIA',\n",
       "   'OBJETO': 'HOSPITAL',\n",
       "   'CALLE': 'DOCTOR RAMON CARRILLO',\n",
       "   'ALTURA': '315',\n",
       "   'DOM_NORMA': 'CARRILLO, RAMON, DR. 315',\n",
       "   'DOM_GEO': '315 CARRILLO, RAMON, DR.',\n",
       "   'TELEFONO': '4305-6108',\n",
       "   'GUARDIA': '4304-6666',\n",
       "   'FAX': '4304-4911',\n",
       "   'WEB': None,\n",
       "   'COD_POSTAL': 'C1275AHG',\n",
       "   'TIPO': 'Hospital especializado',\n",
       "   'TIPO_ESPEC': 'SALUD MENTAL',\n",
       "   'MOD_AT_1': 'AT. AMB./INTERNACION',\n",
       "   'MOD_AT_2': 'DIAG./TRATAM.',\n",
       "   'DEPEND_ADM': 'Ministerio de Salud GCBA',\n",
       "   'DIRECTOR': 'Dr. Guillermo Vega'},\n",
       "  'geometry': {'type': 'Point',\n",
       "   'coordinates': [-58.38232845094876, -34.63570223515591]}},\n",
       " {'type': 'Feature',\n",
       "  'properties': {'ID': 11.0,\n",
       "   'NOMBRE': 'HOSPITAL DE SALUD MENTAL J. T. BORDA',\n",
       "   'NOM_MAP': 'HOSP. BORDA',\n",
       "   'OBJETO': 'HOSPITAL',\n",
       "   'CALLE': 'DOCTOR RAMON CARRILLO',\n",
       "   'ALTURA': '375',\n",
       "   'DOM_NORMA': 'CARRILLO, RAMON, DR. 375',\n",
       "   'DOM_GEO': '375 CARRILLO, RAMON, DR.',\n",
       "   'TELEFONO': '4305-6485',\n",
       "   'GUARDIA': '4305-6666 / 6485',\n",
       "   'FAX': '4304-1200',\n",
       "   'WEB': None,\n",
       "   'COD_POSTAL': 'C1275AHG',\n",
       "   'TIPO': 'Hospital especializado',\n",
       "   'TIPO_ESPEC': 'SALUD MENTAL',\n",
       "   'MOD_AT_1': 'AT. AMB./INTERNACION',\n",
       "   'MOD_AT_2': 'DIAG./TRATAM.',\n",
       "   'DEPEND_ADM': 'Ministerio de Salud GCBA',\n",
       "   'DIRECTOR': 'Dr. Daniel Cichello'},\n",
       "  'geometry': {'type': 'Point',\n",
       "   'coordinates': [-58.38212837469582, -34.63643505465687]}},\n",
       " {'type': 'Feature',\n",
       "  'properties': {'ID': 12.0,\n",
       "   'NOMBRE': 'HOSPITAL DE ODONTOLOGIA INFANTIL DON BENITO QUINQUELA MARTIN',\n",
       "   'NOM_MAP': 'HOSP. ODONTOLOGICO INFANTIL QUINQUELA MARTIN',\n",
       "   'OBJETO': 'HOSPITAL',\n",
       "   'CALLE': 'DON PEDRO DE MENDOZA',\n",
       "   'ALTURA': '1795',\n",
       "   'DOM_NORMA': 'DON PEDRO DE MENDOZA AV. 1795',\n",
       "   'DOM_GEO': '1795 DON PEDRO DE MENDOZA AV.',\n",
       "   'TELEFONO': '4360- 3900 / 4301-4870 / 4834 / 4302-9492 / 9510',\n",
       "   'GUARDIA': '4301-4870',\n",
       "   'FAX': '4301-4870',\n",
       "   'WEB': None,\n",
       "   'COD_POSTAL': 'C1169AAB',\n",
       "   'TIPO': 'Hospital especializado',\n",
       "   'TIPO_ESPEC': 'ODONTOLOGIA',\n",
       "   'MOD_AT_1': 'AT. AMBULATORIA',\n",
       "   'MOD_AT_2': 'DIAG./TRATAM.',\n",
       "   'DEPEND_ADM': 'Ministerio de Salud GCBA',\n",
       "   'DIRECTOR': 'Dra. Scagnet Gabriela'},\n",
       "  'geometry': {'type': 'Point',\n",
       "   'coordinates': [-58.360120127145485, -34.63889173208336]}},\n",
       " {'type': 'Feature',\n",
       "  'properties': {'ID': 13.0,\n",
       "   'NOMBRE': 'INSTITUTO DE REHABILITACION PSICOFISICA (I.R.E.P.)',\n",
       "   'NOM_MAP': 'INST. DE REHAB. PSICOFISICA',\n",
       "   'OBJETO': 'HOSPITAL',\n",
       "   'CALLE': 'ECHEVERRIA',\n",
       "   'ALTURA': '955',\n",
       "   'DOM_NORMA': 'ECHEVERRIA 955',\n",
       "   'DOM_GEO': '955 ECHEVERRIA',\n",
       "   'TELEFONO': '4781-6071 al 74',\n",
       "   'GUARDIA': '4784-1225',\n",
       "   'FAX': '478-30398',\n",
       "   'WEB': None,\n",
       "   'COD_POSTAL': 'C1428DQG',\n",
       "   'TIPO': 'Hospital especializado',\n",
       "   'TIPO_ESPEC': 'MED. FISICA/REHABILITACION',\n",
       "   'MOD_AT_1': 'AT. AMB./INTERNACION',\n",
       "   'MOD_AT_2': 'DIAG./TRATAM.',\n",
       "   'DEPEND_ADM': 'Ministerio de Salud GCBA',\n",
       "   'DIRECTOR': 'Dra. Silvina Ajolfi'},\n",
       "  'geometry': {'type': 'Point',\n",
       "   'coordinates': [-58.44098823824388, -34.55389633164726]}},\n",
       " {'type': 'Feature',\n",
       "  'properties': {'ID': 14.0,\n",
       "   'NOMBRE': 'HOSPITAL MATERNO INFANTIL R. SARDA',\n",
       "   'NOM_MAP': 'HOSP. SARDA',\n",
       "   'OBJETO': 'HOSPITAL',\n",
       "   'CALLE': 'ESTEBAN DE LUCA',\n",
       "   'ALTURA': '2151',\n",
       "   'DOM_NORMA': 'LUCA, ESTEBAN DE 2151',\n",
       "   'DOM_GEO': '2151 LUCA, ESTEBAN DE',\n",
       "   'TELEFONO': '4943-3567',\n",
       "   'GUARDIA': '4943-4250',\n",
       "   'FAX': '494-34966',\n",
       "   'WEB': 'www.sarda.org.ar',\n",
       "   'COD_POSTAL': 'C1246ABQ',\n",
       "   'TIPO': 'Hospital especializado',\n",
       "   'TIPO_ESPEC': 'MATERNO-INFANTIL',\n",
       "   'MOD_AT_1': 'AT. AMB./INTERNACION',\n",
       "   'MOD_AT_2': 'DIAG./TRATAM.',\n",
       "   'DEPEND_ADM': 'Ministerio de Salud GCBA',\n",
       "   'DIRECTOR': 'Dr. Eduardo Valenti'},\n",
       "  'geometry': {'type': 'Point',\n",
       "   'coordinates': [-58.40275062753768, -34.63485630841496]}},\n",
       " {'type': 'Feature',\n",
       "  'properties': {'ID': 15.0,\n",
       "   'NOMBRE': 'HOSPITAL OFTALMOLOGICO DR. PEDRO LAGLEYZE',\n",
       "   'NOM_MAP': 'HOSP. LAGLEYZE',\n",
       "   'OBJETO': 'HOSPITAL',\n",
       "   'CALLE': 'JUAN B. JUSTO',\n",
       "   'ALTURA': '4151',\n",
       "   'DOM_NORMA': 'JUSTO, JUAN B. AV. 4151',\n",
       "   'DOM_GEO': '4151 JUSTO, JUAN B. AV.',\n",
       "   'TELEFONO': '4582-1278 / 4581-7766 / 0645',\n",
       "   'GUARDIA': '4581-0645 / 7766 / 2792  4582-8235 / 1278 (int. 108)',\n",
       "   'FAX': '4582-1278',\n",
       "   'WEB': None,\n",
       "   'COD_POSTAL': 'C1416DJI',\n",
       "   'TIPO': 'Hospital especializado',\n",
       "   'TIPO_ESPEC': 'OFTALMOLOGIA',\n",
       "   'MOD_AT_1': 'AT. AMB./INTERNACION',\n",
       "   'MOD_AT_2': 'DIAG./TRATAM.',\n",
       "   'DEPEND_ADM': 'Ministerio de Salud GCBA',\n",
       "   'DIRECTOR': 'Dr. Fernando Scattini'},\n",
       "  'geometry': {'type': 'Point',\n",
       "   'coordinates': [-58.460185577552785, -34.60543427502072]}},\n",
       " {'type': 'Feature',\n",
       "  'properties': {'ID': 16.0,\n",
       "   'NOMBRE': 'HOSPITAL DE ODONTOLOGIA  JOSE DUEÑAS',\n",
       "   'NOM_MAP': 'HOSP. ODONTOLOGICO DUEÑAS',\n",
       "   'OBJETO': 'HOSPITAL',\n",
       "   'CALLE': 'MUÑIZ',\n",
       "   'ALTURA': '15',\n",
       "   'DOM_NORMA': 'MUÑIZ 15',\n",
       "   'DOM_GEO': '15 MUÑIZ',\n",
       "   'TELEFONO': '4983-0392 / 4983-8983',\n",
       "   'GUARDIA': '4983-0392 / 4983-8983',\n",
       "   'FAX': '4983-0688',\n",
       "   'WEB': None,\n",
       "   'COD_POSTAL': 'C1212AAA',\n",
       "   'TIPO': 'Hospital especializado',\n",
       "   'TIPO_ESPEC': 'ODONTOLOGIA',\n",
       "   'MOD_AT_1': 'AT. AMBULATORIA',\n",
       "   'MOD_AT_2': 'DIAGNOSTICO',\n",
       "   'DEPEND_ADM': 'Ministerio de Salud GCBA',\n",
       "   'DIRECTOR': 'Dra. Ada Severino'},\n",
       "  'geometry': {'type': 'Point',\n",
       "   'coordinates': [-58.42765975428369, -34.614634834842896]}},\n",
       " {'type': 'Feature',\n",
       "  'properties': {'ID': 17.0,\n",
       "   'NOMBRE': 'HOSPITAL MUNICIPAL DE ONCOLOGIA MARIE CURIE',\n",
       "   'NOM_MAP': 'HOSP. CURIE',\n",
       "   'OBJETO': 'HOSPITAL',\n",
       "   'CALLE': 'PATRICIAS ARGENTINAS',\n",
       "   'ALTURA': '150',\n",
       "   'DOM_NORMA': 'PATRICIAS ARGENTINAS AV. 150',\n",
       "   'DOM_GEO': '150  PATRICIAS ARGENTINAS AV.',\n",
       "   'TELEFONO': '4982-1731 / 1831',\n",
       "   'GUARDIA': '4982-1731 / 1831 / 5744',\n",
       "   'FAX': '4982-3972',\n",
       "   'WEB': None,\n",
       "   'COD_POSTAL': 'C1405BWU',\n",
       "   'TIPO': 'Hospital especializado',\n",
       "   'TIPO_ESPEC': 'ONCOLOGIA',\n",
       "   'MOD_AT_1': 'AT. AMB./INTERNACION',\n",
       "   'MOD_AT_2': 'DIAG./TRATAM.',\n",
       "   'DEPEND_ADM': 'Ministerio de Salud GCBA',\n",
       "   'DIRECTOR': 'Dr. Alejandro Fernández'},\n",
       "  'geometry': {'type': 'Point',\n",
       "   'coordinates': [-58.43324843812948, -34.60705076038663]}},\n",
       " {'type': 'Feature',\n",
       "  'properties': {'ID': 18.0,\n",
       "   'NOMBRE': 'HOSPITAL DE QUEMADOS DR. ARTURO UMBERTO ILLIA',\n",
       "   'NOM_MAP': 'HOSP. DE QUEMADOS A. U. ILLIA',\n",
       "   'OBJETO': 'HOSPITAL',\n",
       "   'CALLE': 'PEDRO GOYENA',\n",
       "   'ALTURA': '369',\n",
       "   'DOM_NORMA': 'GOYENA, PEDRO AV. 369',\n",
       "   'DOM_GEO': '369 GOYENA, PEDRO AV.',\n",
       "   'TELEFONO': '4923-3022',\n",
       "   'GUARDIA': '4923-4082 / 4923-3022',\n",
       "   'FAX': '4925-3557',\n",
       "   'WEB': 'www.buenosaires.gov.ar/areas/salud/hospital_quemados/?menu_id=24263',\n",
       "   'COD_POSTAL': 'C1424BSD',\n",
       "   'TIPO': 'Hospital especializado',\n",
       "   'TIPO_ESPEC': 'QUEMADOS',\n",
       "   'MOD_AT_1': 'AT. AMB./INTERNACION',\n",
       "   'MOD_AT_2': 'DIAG./TRATAM.',\n",
       "   'DEPEND_ADM': 'Ministerio de Salud GCBA',\n",
       "   'DIRECTOR': 'Dr. Armando Escobar'},\n",
       "  'geometry': {'type': 'Point',\n",
       "   'coordinates': [-58.43239669502435, -34.625503195248264]}},\n",
       " {'type': 'Feature',\n",
       "  'properties': {'ID': 19.0,\n",
       "   'NOMBRE': 'HOSPITAL DE OFTALMOLOGIA SANTA LUCIA',\n",
       "   'NOM_MAP': 'HOSP. SANTA LUCIA',\n",
       "   'OBJETO': 'HOSPITAL',\n",
       "   'CALLE': 'SAN JUAN',\n",
       "   'ALTURA': '2021',\n",
       "   'DOM_NORMA': 'SAN JUAN AV. 2021',\n",
       "   'DOM_GEO': '2021 SAN JUAN AV.',\n",
       "   'TELEFONO': '4127-3100 / 4941-5555',\n",
       "   'GUARDIA': '4941- 8081',\n",
       "   'FAX': '4941-7077',\n",
       "   'WEB': 'www.hospitalsantalucia.com.ar',\n",
       "   'COD_POSTAL': 'C1232AAC',\n",
       "   'TIPO': 'Hospital especializado',\n",
       "   'TIPO_ESPEC': 'OFTALMOLOGIA',\n",
       "   'MOD_AT_1': 'AT. AMB./INTERNACION',\n",
       "   'MOD_AT_2': 'DIAG./TRATAM.',\n",
       "   'DEPEND_ADM': 'Ministerio de Salud GCBA',\n",
       "   'DIRECTOR': 'Dra. Estela Fernández Rey'},\n",
       "  'geometry': {'type': 'Point',\n",
       "   'coordinates': [-58.39406416047464, -34.622712507512446]}},\n",
       " {'type': 'Feature',\n",
       "  'properties': {'ID': 20.0,\n",
       "   'NOMBRE': 'HOSPITAL DE REHABILITACION M. ROCCA',\n",
       "   'NOM_MAP': 'HOSP. DE REHAB. ROCCA',\n",
       "   'OBJETO': 'HOSPITAL',\n",
       "   'CALLE': 'SEGUROLA',\n",
       "   'ALTURA': '1949',\n",
       "   'DOM_NORMA': 'SEGUROLA AV. 1949',\n",
       "   'DOM_GEO': '1949 SEGUROLA AV.',\n",
       "   'TELEFONO': '4630-4700 / 4800',\n",
       "   'GUARDIA': '4630-4741 / 4742',\n",
       "   'FAX': '4566-4206',\n",
       "   'WEB': None,\n",
       "   'COD_POSTAL': 'C1407AOM',\n",
       "   'TIPO': 'Hospital especializado',\n",
       "   'TIPO_ESPEC': 'MED. FISICA/REHABILITACION',\n",
       "   'MOD_AT_1': 'AT. AMB./INTERNACION',\n",
       "   'MOD_AT_2': 'DIAG./TRATAM.',\n",
       "   'DEPEND_ADM': 'Ministerio de Salud GCBA',\n",
       "   'DIRECTOR': 'Dr. Cichero Carlos'},\n",
       "  'geometry': {'type': 'Point',\n",
       "   'coordinates': [-58.50214492222223, -34.61798175405911]}},\n",
       " {'type': 'Feature',\n",
       "  'properties': {'ID': 21.0,\n",
       "   'NOMBRE': 'HOSPITAL DE INFECCIOSAS F. MUÑIZ',\n",
       "   'NOM_MAP': 'HOSP. MUÑIZ',\n",
       "   'OBJETO': 'HOSPITAL',\n",
       "   'CALLE': 'USPALLATA',\n",
       "   'ALTURA': '2272',\n",
       "   'DOM_NORMA': 'USPALLATA 2272',\n",
       "   'DOM_GEO': '2272 USPALLATA',\n",
       "   'TELEFONO': '4304-2180 / 3380 / 4306-7855',\n",
       "   'GUARDIA': '4304-5555 / 4304-3380 / 2946 (int. 213)',\n",
       "   'FAX': '4304-2386',\n",
       "   'WEB': None,\n",
       "   'COD_POSTAL': 'C1282AEN',\n",
       "   'TIPO': 'Hospital especializado',\n",
       "   'TIPO_ESPEC': 'INFECTOLOGIA',\n",
       "   'MOD_AT_1': 'AT. AMB./INTERNACION',\n",
       "   'MOD_AT_2': 'DIAG./TRATAM.',\n",
       "   'DEPEND_ADM': 'Ministerio de Salud GCBA',\n",
       "   'DIRECTOR': 'Dr. González Montaner Pablo'},\n",
       "  'geometry': {'type': 'Point',\n",
       "   'coordinates': [-58.39372694132254, -34.637529325841555]}},\n",
       " {'type': 'Feature',\n",
       "  'properties': {'ID': 22.0,\n",
       "   'NOMBRE': 'HOSPITAL DE EMERGENCIAS PSIQUIATRICAS TORCUATO DE ALVEAR',\n",
       "   'NOM_MAP': 'HOSP. T. DE ALVEAR',\n",
       "   'OBJETO': 'HOSPITAL',\n",
       "   'CALLE': 'WARNES',\n",
       "   'ALTURA': '2630',\n",
       "   'DOM_NORMA': 'WARNES AV. 2630',\n",
       "   'DOM_GEO': '2630 WARNES AV.',\n",
       "   'TELEFONO': '4521-0273 / 0090 / 0983',\n",
       "   'GUARDIA': '4521-5555 / 5934',\n",
       "   'FAX': '4521-2537',\n",
       "   'WEB': None,\n",
       "   'COD_POSTAL': 'C1427DPS',\n",
       "   'TIPO': 'Hospital especializado',\n",
       "   'TIPO_ESPEC': 'SALUD MENTAL',\n",
       "   'MOD_AT_1': 'AT. AMB./INTERNACION',\n",
       "   'MOD_AT_2': 'DIAGNOSTICO',\n",
       "   'DEPEND_ADM': 'Ministerio de Salud GCBA',\n",
       "   'DIRECTOR': 'Dr. Marcelo Ernesto Lahitou'},\n",
       "  'geometry': {'type': 'Point',\n",
       "   'coordinates': [-58.475258845976136, -34.597209872915144]}},\n",
       " {'type': 'Feature',\n",
       "  'properties': {'ID': 23.0,\n",
       "   'NOMBRE': 'HOSPITAL GENERAL DE AGUDOS B. RIVADAVIA',\n",
       "   'NOM_MAP': 'HOSP. RIVADAVIA',\n",
       "   'OBJETO': 'HOSPITAL',\n",
       "   'CALLE': 'GENERAL LAS HERAS',\n",
       "   'ALTURA': '2670',\n",
       "   'DOM_NORMA': 'LAS HERAS GENERAL AV. 2670',\n",
       "   'DOM_GEO': '2670 LAS HERAS GENERAL AV.',\n",
       "   'TELEFONO': '4809-2000',\n",
       "   'GUARDIA': '4809-2002 / 2340',\n",
       "   'FAX': '4802-2721',\n",
       "   'WEB': 'www.buenosaires.gov.ar/areas/salud/rivadavia',\n",
       "   'COD_POSTAL': 'C1425ASQ',\n",
       "   'TIPO': 'Hospital de agudos',\n",
       "   'TIPO_ESPEC': 'GRAL: BAS/CRIT/OTR',\n",
       "   'MOD_AT_1': 'AT. AMB./INTERNACION',\n",
       "   'MOD_AT_2': 'DIAG./TRATAM.',\n",
       "   'DEPEND_ADM': 'Ministerio de Salud GCBA',\n",
       "   'DIRECTOR': 'Dr. Eduardo Fernández Rostello'},\n",
       "  'geometry': {'type': 'Point',\n",
       "   'coordinates': [-58.40051345744227, -34.58476595812136]}},\n",
       " {'type': 'Feature',\n",
       "  'properties': {'ID': 24.0,\n",
       "   'NOMBRE': 'HOSPITAL GENERAL DE AGUDOS DR C. ARGERICH',\n",
       "   'NOM_MAP': 'HOSP. ARGERICH',\n",
       "   'OBJETO': 'HOSPITAL',\n",
       "   'CALLE': 'CORBETA PI Y MARGAL',\n",
       "   'ALTURA': '750',\n",
       "   'DOM_NORMA': 'PI Y MARGALL 750',\n",
       "   'DOM_GEO': '750 PI Y MARGALL',\n",
       "   'TELEFONO': '4121-0700 / 0800',\n",
       "   'GUARDIA': '4121-0683',\n",
       "   'FAX': '4362-2621',\n",
       "   'WEB': None,\n",
       "   'COD_POSTAL': 'C1155AHD',\n",
       "   'TIPO': 'Hospital de agudos',\n",
       "   'TIPO_ESPEC': 'GRAL: BAS/CRIT/OTR',\n",
       "   'MOD_AT_1': 'AT. AMB./INTERNACION',\n",
       "   'MOD_AT_2': 'DIAG./TRATAM.',\n",
       "   'DEPEND_ADM': 'Ministerio de Salud GCBA',\n",
       "   'DIRECTOR': 'Dr. Néstor Hernández'},\n",
       "  'geometry': {'type': 'Point',\n",
       "   'coordinates': [-58.36598508871902, -34.62834485816766]}},\n",
       " {'type': 'Feature',\n",
       "  'properties': {'ID': 25.0,\n",
       "   'NOMBRE': 'HOSPITAL GENERAL DE AGUDOS DR. J. A. FERNANDEZ',\n",
       "   'NOM_MAP': 'HOSP. FERNANDEZ',\n",
       "   'OBJETO': 'HOSPITAL',\n",
       "   'CALLE': 'CERVIÑO',\n",
       "   'ALTURA': '3356',\n",
       "   'DOM_NORMA': 'CERVIÑO AV. 3356',\n",
       "   'DOM_GEO': '3356 CERVIÑO AV.',\n",
       "   'TELEFONO': '4808-2600',\n",
       "   'GUARDIA': '4808-5555 / 2600 / 2650 / 2640',\n",
       "   'FAX': '4801-0932',\n",
       "   'WEB': None,\n",
       "   'COD_POSTAL': 'C1425AGP',\n",
       "   'TIPO': 'Hospital de agudos',\n",
       "   'TIPO_ESPEC': 'GRAL: BAS/CRIT/OTR',\n",
       "   'MOD_AT_1': 'AT. AMB./INTERNACION',\n",
       "   'MOD_AT_2': 'DIAG./TRATAM.',\n",
       "   'DEPEND_ADM': 'Ministerio de Salud GCBA',\n",
       "   'DIRECTOR': 'Dr. Previgliano Ignacio'},\n",
       "  'geometry': {'type': 'Point',\n",
       "   'coordinates': [-58.406893914278655, -34.58114171088898]}},\n",
       " {'type': 'Feature',\n",
       "  'properties': {'ID': 26.0,\n",
       "   'NOMBRE': 'HOSPITAL GENERAL DE AGUDOS DR. C. DURAND',\n",
       "   'NOM_MAP': 'HOSP. DURAND',\n",
       "   'OBJETO': 'HOSPITAL',\n",
       "   'CALLE': 'DIAZ VELEZ',\n",
       "   'ALTURA': '5044',\n",
       "   'DOM_NORMA': 'DIAZ VELEZ AV. 5044',\n",
       "   'DOM_GEO': '5044 DIAZ VELEZ AV.',\n",
       "   'TELEFONO': '4982-5555 / 4982-5655 Conmutador 4982-1050 / 4981-2670',\n",
       "   'GUARDIA': '4982-1771 / 4982-5555 / 4981-2790',\n",
       "   'FAX': '4982-2677',\n",
       "   'WEB': 'www.hospitaldurand.org.ar',\n",
       "   'COD_POSTAL': 'C1405DCS',\n",
       "   'TIPO': 'Hospital de agudos',\n",
       "   'TIPO_ESPEC': 'GRAL: BAS/CRIT/OTR',\n",
       "   'MOD_AT_1': 'AT. AMB./INTERNACION',\n",
       "   'MOD_AT_2': 'DIAG./TRATAM.',\n",
       "   'DEPEND_ADM': 'Ministerio de Salud GCBA',\n",
       "   'DIRECTOR': 'Dr. Bolla Horacio Alberto'},\n",
       "  'geometry': {'type': 'Point',\n",
       "   'coordinates': [-58.43798136170503, -34.60897285384144]}},\n",
       " {'type': 'Feature',\n",
       "  'properties': {'ID': 27.0,\n",
       "   'NOMBRE': 'HOSPITAL GENERAL DE AGUDOS DR. T. ALVAREZ',\n",
       "   'NOM_MAP': 'HOSP. ALVAREZ',\n",
       "   'OBJETO': 'HOSPITAL',\n",
       "   'CALLE': 'DOCTOR JUAN FELIPE ARANGUREN',\n",
       "   'ALTURA': '2701',\n",
       "   'DOM_NORMA': 'ARANGUREN, JUAN F., DR. 2701',\n",
       "   'DOM_GEO': '2701 ARANGUREN, JUAN F., DR.',\n",
       "   'TELEFONO': '4611-6666 / 4630-2900',\n",
       "   'GUARDIA': '4611-6666 (int. 2111 y 2948)',\n",
       "   'FAX': '4612-5073',\n",
       "   'WEB': None,\n",
       "   'COD_POSTAL': 'C1406FWY',\n",
       "   'TIPO': 'Hospital de agudos',\n",
       "   'TIPO_ESPEC': 'GRAL: BAS/CRIT/OTR',\n",
       "   'MOD_AT_1': 'AT. AMB./INTERNACION',\n",
       "   'MOD_AT_2': 'DIAG./TRATAM.',\n",
       "   'DEPEND_ADM': 'Ministerio de Salud GCBA',\n",
       "   'DIRECTOR': 'Dra. Laura Cordero'},\n",
       "  'geometry': {'type': 'Point',\n",
       "   'coordinates': [-58.46950203632652, -34.6241704940114]}},\n",
       " {'type': 'Feature',\n",
       "  'properties': {'ID': 28.0,\n",
       "   'NOMBRE': 'HOSPITAL GENERAL DE AGUDOS J. M. RAMOS MEJIA',\n",
       "   'NOM_MAP': 'HOSP. RAMOS MEJIA',\n",
       "   'OBJETO': 'HOSPITAL',\n",
       "   'CALLE': 'GENERAL URQUIZA',\n",
       "   'ALTURA': '609',\n",
       "   'DOM_NORMA': 'URQUIZA, GRAL. 609',\n",
       "   'DOM_GEO': '609 URQUIZA, GRAL.',\n",
       "   'TELEFONO': '4127-0200 / 300',\n",
       "   'GUARDIA': '4127-0400',\n",
       "   'FAX': '4932-8858',\n",
       "   'WEB': 'www.hospitalramosmejia.info',\n",
       "   'COD_POSTAL': 'C1221ADC',\n",
       "   'TIPO': 'Hospital de agudos',\n",
       "   'TIPO_ESPEC': 'GRAL: BAS/CRIT/OTR',\n",
       "   'MOD_AT_1': 'AT. AMB./INTERNACION',\n",
       "   'MOD_AT_2': 'DIAG./TRATAM.',\n",
       "   'DEPEND_ADM': 'Ministerio de Salud GCBA',\n",
       "   'DIRECTOR': 'Dr. Hugo Pandullo'},\n",
       "  'geometry': {'type': 'Point',\n",
       "   'coordinates': [-58.409610748815545, -34.61765984386068]}},\n",
       " {'type': 'Feature',\n",
       "  'properties': {'ID': 29.0,\n",
       "   'NOMBRE': 'HOSPITAL GENERAL DE AGUDOS DR. I. PIROVANO',\n",
       "   'NOM_MAP': 'HOSP. PIROVANO',\n",
       "   'OBJETO': 'HOSPITAL',\n",
       "   'CALLE': 'MONROE',\n",
       "   'ALTURA': '3555',\n",
       "   'DOM_NORMA': 'MONROE AV. 3555',\n",
       "   'DOM_GEO': '3555 MONROE AV.',\n",
       "   'TELEFONO': '4123-3100',\n",
       "   'GUARDIA': '4542-5552 / 2772 / 9279',\n",
       "   'FAX': '4543-2199',\n",
       "   'WEB': None,\n",
       "   'COD_POSTAL': 'C1430BKC',\n",
       "   'TIPO': 'Hospital de agudos',\n",
       "   'TIPO_ESPEC': 'GRAL: BAS/CRIT/OTR',\n",
       "   'MOD_AT_1': 'AT. AMB./INTERNACION',\n",
       "   'MOD_AT_2': 'DIAG./TRATAM.',\n",
       "   'DEPEND_ADM': 'Ministerio de Salud GCBA',\n",
       "   'DIRECTOR': 'Dr. José Antonio Cuba'},\n",
       "  'geometry': {'type': 'Point',\n",
       "   'coordinates': [-58.47107815932505, -34.56505195656798]}},\n",
       " {'type': 'Feature',\n",
       "  'properties': {'ID': 30.0,\n",
       "   'NOMBRE': 'HOSPITAL GENERAL DE AGUDOS A. ZUBIZARRETA',\n",
       "   'NOM_MAP': 'HOSP. ZUBIZARRETA',\n",
       "   'OBJETO': 'HOSPITAL',\n",
       "   'CALLE': 'NUEVA YORK',\n",
       "   'ALTURA': '3952',\n",
       "   'DOM_NORMA': 'NUEVA YORK 3952',\n",
       "   'DOM_GEO': '3952 NUEVA YORK',\n",
       "   'TELEFONO': '4501-5985 / 0683',\n",
       "   'GUARDIA': '4501-5555 / 0683 / 5985',\n",
       "   'FAX': '4501-2604',\n",
       "   'WEB': 'www.zubizarreta.org.ar',\n",
       "   'COD_POSTAL': 'C1419HDN',\n",
       "   'TIPO': 'Hospital de agudos',\n",
       "   'TIPO_ESPEC': 'GRAL: BAS/CRIT/OTR',\n",
       "   'MOD_AT_1': 'AT. AMB./INTERNACION',\n",
       "   'MOD_AT_2': 'DIAG./TRATAM.',\n",
       "   'DEPEND_ADM': 'Ministerio de Salud GCBA',\n",
       "   'DIRECTOR': 'Dra. Lilia Borelli'},\n",
       "  'geometry': {'type': 'Point',\n",
       "   'coordinates': [-58.51105250005687, -34.599979524264036]}},\n",
       " {'type': 'Feature',\n",
       "  'properties': {'ID': 31.0,\n",
       "   'NOMBRE': 'HOSPITAL GENERAL DE AGUDOS D. VELEZ SARSFIELD',\n",
       "   'NOM_MAP': 'HOSP. VELEZ SARSFIELD',\n",
       "   'OBJETO': 'HOSPITAL',\n",
       "   'CALLE': 'PEDRO CALDERON DE LA BARCA',\n",
       "   'ALTURA': '1550',\n",
       "   'DOM_NORMA': 'CALDERON DE LA BARCA, PEDRO 1550',\n",
       "   'DOM_GEO': '1550 CALDERON DE LA BARCA, PEDRO',\n",
       "   'TELEFONO': '4639-8700 al 05',\n",
       "   'GUARDIA': '4639-8700 (int. 342)',\n",
       "   'FAX': '4566-9590',\n",
       "   'WEB': 'www.hospitalvelez.org.ar',\n",
       "   'COD_POSTAL': 'C1407KQF',\n",
       "   'TIPO': 'Hospital de agudos',\n",
       "   'TIPO_ESPEC': 'GRAL: BAS/CRIT/OTR',\n",
       "   'MOD_AT_1': 'AT. AMB./INTERNACION',\n",
       "   'MOD_AT_2': 'DIAG./TRATAM.',\n",
       "   'DEPEND_ADM': 'Ministerio de Salud GCBA',\n",
       "   'DIRECTOR': 'Dra. Virginia Lombardo'},\n",
       "  'geometry': {'type': 'Point',\n",
       "   'coordinates': [-58.50761514091995, -34.62533679526684]}},\n",
       " {'type': 'Feature',\n",
       "  'properties': {'ID': 32.0,\n",
       "   'NOMBRE': 'HOSPITAL GENERAL DE AGUDOS DONACION F. SANTOJANNI',\n",
       "   'NOM_MAP': 'HOSP. SANTOJANNI',\n",
       "   'OBJETO': 'HOSPITAL',\n",
       "   'CALLE': 'PILAR',\n",
       "   'ALTURA': '950',\n",
       "   'DOM_NORMA': 'PILAR 950',\n",
       "   'DOM_GEO': '950 PILAR',\n",
       "   'TELEFONO': '4630-5500 / 5509',\n",
       "   'GUARDIA': '4630-5673 / 5606 / 5536',\n",
       "   'FAX': '4641-3359',\n",
       "   'WEB': 'www.hospitalsantojanni.gov.ar',\n",
       "   'COD_POSTAL': 'C1408INH',\n",
       "   'TIPO': 'Hospital de agudos',\n",
       "   'TIPO_ESPEC': 'GRAL: BAS/CRIT/OTR',\n",
       "   'MOD_AT_1': 'AT. AMB./INTERNACION',\n",
       "   'MOD_AT_2': 'DIAG./TRATAM.',\n",
       "   'DEPEND_ADM': 'Ministerio de Salud GCBA',\n",
       "   'DIRECTOR': 'Dr. Federico Charabora'},\n",
       "  'geometry': {'type': 'Point',\n",
       "   'coordinates': [-58.515629193670875, -34.6491867281064]}},\n",
       " {'type': 'Feature',\n",
       "  'properties': {'ID': 33.0,\n",
       "   'NOMBRE': 'HOSPITAL GENERAL DE AGUDOS J. A. PENNA',\n",
       "   'NOM_MAP': 'HOSP. PENNA',\n",
       "   'OBJETO': 'HOSPITAL',\n",
       "   'CALLE': 'PEDRO CHUTRO',\n",
       "   'ALTURA': '3380',\n",
       "   'DOM_NORMA': 'CHUTRO, PEDRO, PROF., DR. 3380',\n",
       "   'DOM_GEO': '3380 CHUTRO, PEDRO, PROF., DR.',\n",
       "   'TELEFONO': '4912-1085',\n",
       "   'GUARDIA': '4911-5555 / 3030 (int. 230/268)',\n",
       "   'FAX': '4911-7222',\n",
       "   'WEB': None,\n",
       "   'COD_POSTAL': 'C1437JLR',\n",
       "   'TIPO': 'Hospital de agudos',\n",
       "   'TIPO_ESPEC': 'GRAL: BAS/CRIT/OTR',\n",
       "   'MOD_AT_1': 'AT. AMB./INTERNACION',\n",
       "   'MOD_AT_2': 'DIAG./TRATAM.',\n",
       "   'DEPEND_ADM': 'Ministerio de Salud GCBA',\n",
       "   'DIRECTOR': 'Dr. Gustavo San Martín'},\n",
       "  'geometry': {'type': 'Point',\n",
       "   'coordinates': [-58.41086021882914, -34.643117259197524]}},\n",
       " {'type': 'Feature',\n",
       "  'properties': {'ID': 34.0,\n",
       "   'NOMBRE': 'HOSPITAL GENERAL DE AGUDOS DR. E. TORNU',\n",
       "   'NOM_MAP': 'HOSP. TORNU',\n",
       "   'OBJETO': 'HOSPITAL',\n",
       "   'CALLE': 'COMBATIENTES DE MALVINAS',\n",
       "   'ALTURA': '3002',\n",
       "   'DOM_NORMA': 'COMBATIENTES DE MALVINAS AV. 3002',\n",
       "   'DOM_GEO': '3002 COMBATIENTES DE MALVINAS AV.',\n",
       "   'TELEFONO': '4521-3600 / 1236 / 8700',\n",
       "   'GUARDIA': '4521-6666',\n",
       "   'FAX': '4521-6677',\n",
       "   'WEB': None,\n",
       "   'COD_POSTAL': 'C1427ARN',\n",
       "   'TIPO': 'Hospital de agudos',\n",
       "   'TIPO_ESPEC': 'GRAL: BAS/CRIT/OTR',\n",
       "   'MOD_AT_1': 'AT. AMB./INTERNACION',\n",
       "   'MOD_AT_2': 'DIAG./TRATAM.',\n",
       "   'DEPEND_ADM': 'Ministerio de Salud GCBA',\n",
       "   'DIRECTOR': 'Dr. Luis Eduardo Castañiza'},\n",
       "  'geometry': {'type': 'Point',\n",
       "   'coordinates': [-58.471097628216796, -34.58739176902265]}},\n",
       " {'type': 'Feature',\n",
       "  'properties': {'ID': 35.0,\n",
       "   'NOMBRE': 'HOSPITAL GENERAL DE AGUDOS P. PIÑERO',\n",
       "   'NOM_MAP': 'HOSP. PIÑERO',\n",
       "   'OBJETO': 'HOSPITAL',\n",
       "   'CALLE': 'VARELA',\n",
       "   'ALTURA': '1301',\n",
       "   'DOM_NORMA': 'VARELA AV. 1301',\n",
       "   'DOM_GEO': '1301 VARELA AV.',\n",
       "   'TELEFONO': '4631-8100 / 0526',\n",
       "   'GUARDIA': '4631-8601',\n",
       "   'FAX': '4632-8626',\n",
       "   'WEB': None,\n",
       "   'COD_POSTAL': 'C1406ELA',\n",
       "   'TIPO': 'Hospital de agudos',\n",
       "   'TIPO_ESPEC': 'GRAL: BAS/CRIT/OTR',\n",
       "   'MOD_AT_1': 'AT. AMB./INTERNACION',\n",
       "   'MOD_AT_2': 'DIAG./TRATAM.',\n",
       "   'DEPEND_ADM': 'Ministerio de Salud GCBA',\n",
       "   'DIRECTOR': 'Dr. Rivero Marino Daniel'},\n",
       "  'geometry': {'type': 'Point',\n",
       "   'coordinates': [-58.4541167814714, -34.64389407186596]}},\n",
       " {'type': 'Feature',\n",
       "  'properties': {'ID': 36.0,\n",
       "   'NOMBRE': 'HOSPITAL CECILIA GRIERSON',\n",
       "   'NOM_MAP': 'HOSP. GRIERSON',\n",
       "   'OBJETO': 'HOSPITAL',\n",
       "   'CALLE': 'FERNANDEZ DE LA CRUZ, F., GRAL. AV. 4402',\n",
       "   'ALTURA': '4402',\n",
       "   'DOM_NORMA': 'FERNANDEZ DE LA CRUZ, F., GRAL. 4402',\n",
       "   'DOM_GEO': '4402 FERNANDEZ DE LA CRUZ, F., GRAL.',\n",
       "   'TELEFONO': '4604-9000',\n",
       "   'GUARDIA': None,\n",
       "   'FAX': None,\n",
       "   'WEB': None,\n",
       "   'COD_POSTAL': 'C1439CNU',\n",
       "   'TIPO': 'Hospital de agudos',\n",
       "   'TIPO_ESPEC': None,\n",
       "   'MOD_AT_1': None,\n",
       "   'MOD_AT_2': None,\n",
       "   'DEPEND_ADM': 'Ministerio de Salud GCBA',\n",
       "   'DIRECTOR': 'Dr. Luis Giardino'},\n",
       "  'geometry': {'type': 'Point',\n",
       "   'coordinates': [-58.456642849110345, -34.67184801407717]}},\n",
       " {'type': 'Feature',\n",
       "  'properties': {'ID': 3.0,\n",
       "   'NOMBRE': 'HOSP. DE PEDIATRIA DR. J. GARRAHAN',\n",
       "   'NOM_MAP': 'HOSP. GARRAHAN',\n",
       "   'OBJETO': 'HOSPITAL',\n",
       "   'CALLE': 'COMBATE DE LOS POZOS',\n",
       "   'ALTURA': '1881',\n",
       "   'DOM_NORMA': 'COMBATE DE LOS POZOS 1881',\n",
       "   'DOM_GEO': '1881 COMBATE DE LOS POZOS',\n",
       "   'TELEFONO': '4941-8772 / 4942-7475\\n',\n",
       "   'GUARDIA': '4941-8702',\n",
       "   'FAX': '4941-8532',\n",
       "   'WEB': 'www.garrahan.gov.ar',\n",
       "   'COD_POSTAL': 'C1245AAM',\n",
       "   'TIPO': 'Hospital de niños',\n",
       "   'TIPO_ESPEC': 'PEDIATRIA',\n",
       "   'MOD_AT_1': 'AT. AMB./INTERNACION',\n",
       "   'MOD_AT_2': 'DIAG./TRATAM.',\n",
       "   'DEPEND_ADM': 'Ministerio de Salud GCBA',\n",
       "   'DIRECTOR': 'Dr. Luis Dal Bo'},\n",
       "  'geometry': {'type': 'Point',\n",
       "   'coordinates': [-58.39187918138825, -34.62994536144042]}},\n",
       " {'type': 'Feature',\n",
       "  'properties': {'ID': 5.0,\n",
       "   'NOMBRE': 'TALLERES PROTEGIDOS DE REHABILITACION PSIQUIATRICA',\n",
       "   'NOM_MAP': 'TALLERES DE REHAB. PSIQUIATRICA',\n",
       "   'OBJETO': 'HOSPITAL',\n",
       "   'CALLE': 'SUAREZ',\n",
       "   'ALTURA': '2215',\n",
       "   'DOM_NORMA': 'SUAREZ AV. 2215',\n",
       "   'DOM_GEO': '2215 SUAREZ AV.',\n",
       "   'TELEFONO': '4301-3961',\n",
       "   'GUARDIA': None,\n",
       "   'FAX': '4302-9160',\n",
       "   'WEB': None,\n",
       "   'COD_POSTAL': 'C1284AGA',\n",
       "   'TIPO': 'Hospital especializado',\n",
       "   'TIPO_ESPEC': 'SALUD MENTAL',\n",
       "   'MOD_AT_1': 'AT. AMBULATORIA',\n",
       "   'MOD_AT_2': 'DIAGNOSTICO',\n",
       "   'DEPEND_ADM': 'Ministerio de Salud GCBA',\n",
       "   'DIRECTOR': 'Dra. Graciela María Ana Russo'},\n",
       "  'geometry': {'type': 'Point',\n",
       "   'coordinates': [-58.38142933818905, -34.64198880149282]}}]"
      ]
     },
     "execution_count": 34,
     "metadata": {},
     "output_type": "execute_result"
    }
   ],
   "source": [
    "hospitales[\"features\"]"
   ]
  },
  {
   "cell_type": "code",
   "execution_count": 38,
   "id": "5c725e43",
   "metadata": {},
   "outputs": [],
   "source": [
    "df = pd.DataFrame(hospitales[\"features\"])"
   ]
  },
  {
   "cell_type": "code",
   "execution_count": 56,
   "id": "eee64e57",
   "metadata": {},
   "outputs": [],
   "source": [
    "df[\"lon\"] = df[\"geometry\"].apply(lambda x: x[\"coordinates\"][0])\n",
    "df[\"lat\"] = df[\"geometry\"].apply(lambda x: x[\"coordinates\"][1])\n",
    "df[\"name\"] = df[\"properties\"].apply(lambda x: x[\"NOMBRE\"])"
   ]
  },
  {
   "cell_type": "code",
   "execution_count": 57,
   "id": "cdae6809",
   "metadata": {},
   "outputs": [
    {
     "data": {
      "text/html": [
       "<div>\n",
       "<style scoped>\n",
       "    .dataframe tbody tr th:only-of-type {\n",
       "        vertical-align: middle;\n",
       "    }\n",
       "\n",
       "    .dataframe tbody tr th {\n",
       "        vertical-align: top;\n",
       "    }\n",
       "\n",
       "    .dataframe thead th {\n",
       "        text-align: right;\n",
       "    }\n",
       "</style>\n",
       "<table border=\"1\" class=\"dataframe\">\n",
       "  <thead>\n",
       "    <tr style=\"text-align: right;\">\n",
       "      <th></th>\n",
       "      <th>type</th>\n",
       "      <th>properties</th>\n",
       "      <th>geometry</th>\n",
       "      <th>lat</th>\n",
       "      <th>lon</th>\n",
       "      <th>name</th>\n",
       "    </tr>\n",
       "  </thead>\n",
       "  <tbody>\n",
       "    <tr>\n",
       "      <th>0</th>\n",
       "      <td>Feature</td>\n",
       "      <td>{'ID': 1.0, 'NOMBRE': 'HOSPITAL GENERAL DE NIÑ...</td>\n",
       "      <td>{'type': 'Point', 'coordinates': [-58.37755084...</td>\n",
       "      <td>-34.628847</td>\n",
       "      <td>-58.377551</td>\n",
       "      <td>HOSPITAL GENERAL DE NIÑOS PEDRO DE ELIZALDE</td>\n",
       "    </tr>\n",
       "    <tr>\n",
       "      <th>1</th>\n",
       "      <td>Feature</td>\n",
       "      <td>{'ID': 2.0, 'NOMBRE': 'HOSPITAL GENERAL DE NIÑ...</td>\n",
       "      <td>{'type': 'Point', 'coordinates': [-58.41207007...</td>\n",
       "      <td>-34.594192</td>\n",
       "      <td>-58.412070</td>\n",
       "      <td>HOSPITAL GENERAL DE NIÑOS RICARDO GUTIERREZ</td>\n",
       "    </tr>\n",
       "  </tbody>\n",
       "</table>\n",
       "</div>"
      ],
      "text/plain": [
       "      type                                         properties   \n",
       "0  Feature  {'ID': 1.0, 'NOMBRE': 'HOSPITAL GENERAL DE NIÑ...  \\\n",
       "1  Feature  {'ID': 2.0, 'NOMBRE': 'HOSPITAL GENERAL DE NIÑ...   \n",
       "\n",
       "                                            geometry        lat        lon   \n",
       "0  {'type': 'Point', 'coordinates': [-58.37755084... -34.628847 -58.377551  \\\n",
       "1  {'type': 'Point', 'coordinates': [-58.41207007... -34.594192 -58.412070   \n",
       "\n",
       "                                          name  \n",
       "0  HOSPITAL GENERAL DE NIÑOS PEDRO DE ELIZALDE  \n",
       "1  HOSPITAL GENERAL DE NIÑOS RICARDO GUTIERREZ  "
      ]
     },
     "execution_count": 57,
     "metadata": {},
     "output_type": "execute_result"
    }
   ],
   "source": [
    "df.head(2)"
   ]
  },
  {
   "cell_type": "code",
   "execution_count": 58,
   "id": "d6deb59f",
   "metadata": {},
   "outputs": [
    {
     "data": {
      "application/vnd.plotly.v1+json": {
       "config": {
        "plotlyServerURL": "https://plot.ly"
       },
       "data": [
        {
         "hovertemplate": "<b>%{hovertext}</b><br><br>lat=%{lat}<br>lon=%{lon}<extra></extra>",
         "hovertext": [
          "HOSPITAL GENERAL DE NIÑOS PEDRO DE ELIZALDE",
          "HOSPITAL GENERAL DE NIÑOS RICARDO GUTIERREZ",
          "HOSPITAL DE ODONTOLOGIA DR. RAMON CARRILLO (EX NACIONAL)",
          "HOSPITAL DE SALUD MENTAL BRAULIO MOYANO",
          "HOSPITAL DE GASTROENTEROLOGIA B. UDAONDO",
          "INSTITUTO DE ZOONOSIS L. PASTEUR",
          "HOSPITAL DE REHABILITACION RESPIRATORIA MARIA FERRER",
          "HOSPITAL INFANTO JUVENIL C. TOBAR GARCIA",
          "HOSPITAL DE SALUD MENTAL J. T. BORDA",
          "HOSPITAL DE ODONTOLOGIA INFANTIL DON BENITO QUINQUELA MARTIN",
          "INSTITUTO DE REHABILITACION PSICOFISICA (I.R.E.P.)",
          "HOSPITAL MATERNO INFANTIL R. SARDA",
          "HOSPITAL OFTALMOLOGICO DR. PEDRO LAGLEYZE",
          "HOSPITAL DE ODONTOLOGIA  JOSE DUEÑAS",
          "HOSPITAL MUNICIPAL DE ONCOLOGIA MARIE CURIE",
          "HOSPITAL DE QUEMADOS DR. ARTURO UMBERTO ILLIA",
          "HOSPITAL DE OFTALMOLOGIA SANTA LUCIA",
          "HOSPITAL DE REHABILITACION M. ROCCA",
          "HOSPITAL DE INFECCIOSAS F. MUÑIZ",
          "HOSPITAL DE EMERGENCIAS PSIQUIATRICAS TORCUATO DE ALVEAR",
          "HOSPITAL GENERAL DE AGUDOS B. RIVADAVIA",
          "HOSPITAL GENERAL DE AGUDOS DR C. ARGERICH",
          "HOSPITAL GENERAL DE AGUDOS DR. J. A. FERNANDEZ",
          "HOSPITAL GENERAL DE AGUDOS DR. C. DURAND",
          "HOSPITAL GENERAL DE AGUDOS DR. T. ALVAREZ",
          "HOSPITAL GENERAL DE AGUDOS J. M. RAMOS MEJIA",
          "HOSPITAL GENERAL DE AGUDOS DR. I. PIROVANO",
          "HOSPITAL GENERAL DE AGUDOS A. ZUBIZARRETA",
          "HOSPITAL GENERAL DE AGUDOS D. VELEZ SARSFIELD",
          "HOSPITAL GENERAL DE AGUDOS DONACION F. SANTOJANNI",
          "HOSPITAL GENERAL DE AGUDOS J. A. PENNA",
          "HOSPITAL GENERAL DE AGUDOS DR. E. TORNU",
          "HOSPITAL GENERAL DE AGUDOS P. PIÑERO",
          "HOSPITAL CECILIA GRIERSON",
          "HOSP. DE PEDIATRIA DR. J. GARRAHAN",
          "TALLERES PROTEGIDOS DE REHABILITACION PSIQUIATRICA"
         ],
         "lat": [
          -34.628847360388136,
          -34.59419197263928,
          -34.58452833575054,
          -34.63940413164837,
          -34.63415357600018,
          -34.60847212574126,
          -34.63021120444947,
          -34.63570223515591,
          -34.63643505465687,
          -34.63889173208336,
          -34.55389633164726,
          -34.63485630841496,
          -34.60543427502072,
          -34.614634834842896,
          -34.60705076038663,
          -34.625503195248264,
          -34.622712507512446,
          -34.61798175405911,
          -34.637529325841555,
          -34.597209872915144,
          -34.58476595812136,
          -34.62834485816766,
          -34.58114171088898,
          -34.60897285384144,
          -34.6241704940114,
          -34.61765984386068,
          -34.56505195656798,
          -34.599979524264036,
          -34.62533679526684,
          -34.6491867281064,
          -34.643117259197524,
          -34.58739176902265,
          -34.64389407186596,
          -34.67184801407717,
          -34.62994536144042,
          -34.64198880149282
         ],
         "legendgroup": "",
         "lon": [
          -58.37755084884431,
          -58.41207007694563,
          -58.40272765478279,
          -58.3851559118889,
          -58.391311440653496,
          -58.43494334798185,
          -58.3758433488021,
          -58.38232845094876,
          -58.38212837469582,
          -58.360120127145485,
          -58.44098823824388,
          -58.40275062753768,
          -58.460185577552785,
          -58.42765975428369,
          -58.43324843812948,
          -58.43239669502435,
          -58.39406416047464,
          -58.50214492222223,
          -58.39372694132254,
          -58.475258845976136,
          -58.40051345744227,
          -58.36598508871902,
          -58.406893914278655,
          -58.43798136170503,
          -58.46950203632652,
          -58.409610748815545,
          -58.47107815932505,
          -58.51105250005687,
          -58.50761514091995,
          -58.515629193670875,
          -58.41086021882914,
          -58.471097628216796,
          -58.4541167814714,
          -58.456642849110345,
          -58.39187918138825,
          -58.38142933818905
         ],
         "marker": {
          "color": "#636efa"
         },
         "mode": "markers",
         "name": "",
         "showlegend": false,
         "subplot": "mapbox",
         "type": "scattermapbox"
        }
       ],
       "layout": {
        "height": 800,
        "legend": {
         "tracegroupgap": 0
        },
        "mapbox": {
         "center": {
          "lat": -34.61806785818321,
          "lon": -58.425791427275584
         },
         "domain": {
          "x": [
           0,
           1
          ],
          "y": [
           0,
           1
          ]
         },
         "style": "open-street-map",
         "zoom": 10
        },
        "margin": {
         "b": 0,
         "l": 0,
         "r": 0,
         "t": 0
        },
        "template": {
         "data": {
          "bar": [
           {
            "error_x": {
             "color": "#2a3f5f"
            },
            "error_y": {
             "color": "#2a3f5f"
            },
            "marker": {
             "line": {
              "color": "#E5ECF6",
              "width": 0.5
             },
             "pattern": {
              "fillmode": "overlay",
              "size": 10,
              "solidity": 0.2
             }
            },
            "type": "bar"
           }
          ],
          "barpolar": [
           {
            "marker": {
             "line": {
              "color": "#E5ECF6",
              "width": 0.5
             },
             "pattern": {
              "fillmode": "overlay",
              "size": 10,
              "solidity": 0.2
             }
            },
            "type": "barpolar"
           }
          ],
          "carpet": [
           {
            "aaxis": {
             "endlinecolor": "#2a3f5f",
             "gridcolor": "white",
             "linecolor": "white",
             "minorgridcolor": "white",
             "startlinecolor": "#2a3f5f"
            },
            "baxis": {
             "endlinecolor": "#2a3f5f",
             "gridcolor": "white",
             "linecolor": "white",
             "minorgridcolor": "white",
             "startlinecolor": "#2a3f5f"
            },
            "type": "carpet"
           }
          ],
          "choropleth": [
           {
            "colorbar": {
             "outlinewidth": 0,
             "ticks": ""
            },
            "type": "choropleth"
           }
          ],
          "contour": [
           {
            "colorbar": {
             "outlinewidth": 0,
             "ticks": ""
            },
            "colorscale": [
             [
              0,
              "#0d0887"
             ],
             [
              0.1111111111111111,
              "#46039f"
             ],
             [
              0.2222222222222222,
              "#7201a8"
             ],
             [
              0.3333333333333333,
              "#9c179e"
             ],
             [
              0.4444444444444444,
              "#bd3786"
             ],
             [
              0.5555555555555556,
              "#d8576b"
             ],
             [
              0.6666666666666666,
              "#ed7953"
             ],
             [
              0.7777777777777778,
              "#fb9f3a"
             ],
             [
              0.8888888888888888,
              "#fdca26"
             ],
             [
              1,
              "#f0f921"
             ]
            ],
            "type": "contour"
           }
          ],
          "contourcarpet": [
           {
            "colorbar": {
             "outlinewidth": 0,
             "ticks": ""
            },
            "type": "contourcarpet"
           }
          ],
          "heatmap": [
           {
            "colorbar": {
             "outlinewidth": 0,
             "ticks": ""
            },
            "colorscale": [
             [
              0,
              "#0d0887"
             ],
             [
              0.1111111111111111,
              "#46039f"
             ],
             [
              0.2222222222222222,
              "#7201a8"
             ],
             [
              0.3333333333333333,
              "#9c179e"
             ],
             [
              0.4444444444444444,
              "#bd3786"
             ],
             [
              0.5555555555555556,
              "#d8576b"
             ],
             [
              0.6666666666666666,
              "#ed7953"
             ],
             [
              0.7777777777777778,
              "#fb9f3a"
             ],
             [
              0.8888888888888888,
              "#fdca26"
             ],
             [
              1,
              "#f0f921"
             ]
            ],
            "type": "heatmap"
           }
          ],
          "heatmapgl": [
           {
            "colorbar": {
             "outlinewidth": 0,
             "ticks": ""
            },
            "colorscale": [
             [
              0,
              "#0d0887"
             ],
             [
              0.1111111111111111,
              "#46039f"
             ],
             [
              0.2222222222222222,
              "#7201a8"
             ],
             [
              0.3333333333333333,
              "#9c179e"
             ],
             [
              0.4444444444444444,
              "#bd3786"
             ],
             [
              0.5555555555555556,
              "#d8576b"
             ],
             [
              0.6666666666666666,
              "#ed7953"
             ],
             [
              0.7777777777777778,
              "#fb9f3a"
             ],
             [
              0.8888888888888888,
              "#fdca26"
             ],
             [
              1,
              "#f0f921"
             ]
            ],
            "type": "heatmapgl"
           }
          ],
          "histogram": [
           {
            "marker": {
             "pattern": {
              "fillmode": "overlay",
              "size": 10,
              "solidity": 0.2
             }
            },
            "type": "histogram"
           }
          ],
          "histogram2d": [
           {
            "colorbar": {
             "outlinewidth": 0,
             "ticks": ""
            },
            "colorscale": [
             [
              0,
              "#0d0887"
             ],
             [
              0.1111111111111111,
              "#46039f"
             ],
             [
              0.2222222222222222,
              "#7201a8"
             ],
             [
              0.3333333333333333,
              "#9c179e"
             ],
             [
              0.4444444444444444,
              "#bd3786"
             ],
             [
              0.5555555555555556,
              "#d8576b"
             ],
             [
              0.6666666666666666,
              "#ed7953"
             ],
             [
              0.7777777777777778,
              "#fb9f3a"
             ],
             [
              0.8888888888888888,
              "#fdca26"
             ],
             [
              1,
              "#f0f921"
             ]
            ],
            "type": "histogram2d"
           }
          ],
          "histogram2dcontour": [
           {
            "colorbar": {
             "outlinewidth": 0,
             "ticks": ""
            },
            "colorscale": [
             [
              0,
              "#0d0887"
             ],
             [
              0.1111111111111111,
              "#46039f"
             ],
             [
              0.2222222222222222,
              "#7201a8"
             ],
             [
              0.3333333333333333,
              "#9c179e"
             ],
             [
              0.4444444444444444,
              "#bd3786"
             ],
             [
              0.5555555555555556,
              "#d8576b"
             ],
             [
              0.6666666666666666,
              "#ed7953"
             ],
             [
              0.7777777777777778,
              "#fb9f3a"
             ],
             [
              0.8888888888888888,
              "#fdca26"
             ],
             [
              1,
              "#f0f921"
             ]
            ],
            "type": "histogram2dcontour"
           }
          ],
          "mesh3d": [
           {
            "colorbar": {
             "outlinewidth": 0,
             "ticks": ""
            },
            "type": "mesh3d"
           }
          ],
          "parcoords": [
           {
            "line": {
             "colorbar": {
              "outlinewidth": 0,
              "ticks": ""
             }
            },
            "type": "parcoords"
           }
          ],
          "pie": [
           {
            "automargin": true,
            "type": "pie"
           }
          ],
          "scatter": [
           {
            "fillpattern": {
             "fillmode": "overlay",
             "size": 10,
             "solidity": 0.2
            },
            "type": "scatter"
           }
          ],
          "scatter3d": [
           {
            "line": {
             "colorbar": {
              "outlinewidth": 0,
              "ticks": ""
             }
            },
            "marker": {
             "colorbar": {
              "outlinewidth": 0,
              "ticks": ""
             }
            },
            "type": "scatter3d"
           }
          ],
          "scattercarpet": [
           {
            "marker": {
             "colorbar": {
              "outlinewidth": 0,
              "ticks": ""
             }
            },
            "type": "scattercarpet"
           }
          ],
          "scattergeo": [
           {
            "marker": {
             "colorbar": {
              "outlinewidth": 0,
              "ticks": ""
             }
            },
            "type": "scattergeo"
           }
          ],
          "scattergl": [
           {
            "marker": {
             "colorbar": {
              "outlinewidth": 0,
              "ticks": ""
             }
            },
            "type": "scattergl"
           }
          ],
          "scattermapbox": [
           {
            "marker": {
             "colorbar": {
              "outlinewidth": 0,
              "ticks": ""
             }
            },
            "type": "scattermapbox"
           }
          ],
          "scatterpolar": [
           {
            "marker": {
             "colorbar": {
              "outlinewidth": 0,
              "ticks": ""
             }
            },
            "type": "scatterpolar"
           }
          ],
          "scatterpolargl": [
           {
            "marker": {
             "colorbar": {
              "outlinewidth": 0,
              "ticks": ""
             }
            },
            "type": "scatterpolargl"
           }
          ],
          "scatterternary": [
           {
            "marker": {
             "colorbar": {
              "outlinewidth": 0,
              "ticks": ""
             }
            },
            "type": "scatterternary"
           }
          ],
          "surface": [
           {
            "colorbar": {
             "outlinewidth": 0,
             "ticks": ""
            },
            "colorscale": [
             [
              0,
              "#0d0887"
             ],
             [
              0.1111111111111111,
              "#46039f"
             ],
             [
              0.2222222222222222,
              "#7201a8"
             ],
             [
              0.3333333333333333,
              "#9c179e"
             ],
             [
              0.4444444444444444,
              "#bd3786"
             ],
             [
              0.5555555555555556,
              "#d8576b"
             ],
             [
              0.6666666666666666,
              "#ed7953"
             ],
             [
              0.7777777777777778,
              "#fb9f3a"
             ],
             [
              0.8888888888888888,
              "#fdca26"
             ],
             [
              1,
              "#f0f921"
             ]
            ],
            "type": "surface"
           }
          ],
          "table": [
           {
            "cells": {
             "fill": {
              "color": "#EBF0F8"
             },
             "line": {
              "color": "white"
             }
            },
            "header": {
             "fill": {
              "color": "#C8D4E3"
             },
             "line": {
              "color": "white"
             }
            },
            "type": "table"
           }
          ]
         },
         "layout": {
          "annotationdefaults": {
           "arrowcolor": "#2a3f5f",
           "arrowhead": 0,
           "arrowwidth": 1
          },
          "autotypenumbers": "strict",
          "coloraxis": {
           "colorbar": {
            "outlinewidth": 0,
            "ticks": ""
           }
          },
          "colorscale": {
           "diverging": [
            [
             0,
             "#8e0152"
            ],
            [
             0.1,
             "#c51b7d"
            ],
            [
             0.2,
             "#de77ae"
            ],
            [
             0.3,
             "#f1b6da"
            ],
            [
             0.4,
             "#fde0ef"
            ],
            [
             0.5,
             "#f7f7f7"
            ],
            [
             0.6,
             "#e6f5d0"
            ],
            [
             0.7,
             "#b8e186"
            ],
            [
             0.8,
             "#7fbc41"
            ],
            [
             0.9,
             "#4d9221"
            ],
            [
             1,
             "#276419"
            ]
           ],
           "sequential": [
            [
             0,
             "#0d0887"
            ],
            [
             0.1111111111111111,
             "#46039f"
            ],
            [
             0.2222222222222222,
             "#7201a8"
            ],
            [
             0.3333333333333333,
             "#9c179e"
            ],
            [
             0.4444444444444444,
             "#bd3786"
            ],
            [
             0.5555555555555556,
             "#d8576b"
            ],
            [
             0.6666666666666666,
             "#ed7953"
            ],
            [
             0.7777777777777778,
             "#fb9f3a"
            ],
            [
             0.8888888888888888,
             "#fdca26"
            ],
            [
             1,
             "#f0f921"
            ]
           ],
           "sequentialminus": [
            [
             0,
             "#0d0887"
            ],
            [
             0.1111111111111111,
             "#46039f"
            ],
            [
             0.2222222222222222,
             "#7201a8"
            ],
            [
             0.3333333333333333,
             "#9c179e"
            ],
            [
             0.4444444444444444,
             "#bd3786"
            ],
            [
             0.5555555555555556,
             "#d8576b"
            ],
            [
             0.6666666666666666,
             "#ed7953"
            ],
            [
             0.7777777777777778,
             "#fb9f3a"
            ],
            [
             0.8888888888888888,
             "#fdca26"
            ],
            [
             1,
             "#f0f921"
            ]
           ]
          },
          "colorway": [
           "#636efa",
           "#EF553B",
           "#00cc96",
           "#ab63fa",
           "#FFA15A",
           "#19d3f3",
           "#FF6692",
           "#B6E880",
           "#FF97FF",
           "#FECB52"
          ],
          "font": {
           "color": "#2a3f5f"
          },
          "geo": {
           "bgcolor": "white",
           "lakecolor": "white",
           "landcolor": "#E5ECF6",
           "showlakes": true,
           "showland": true,
           "subunitcolor": "white"
          },
          "hoverlabel": {
           "align": "left"
          },
          "hovermode": "closest",
          "mapbox": {
           "style": "light"
          },
          "paper_bgcolor": "white",
          "plot_bgcolor": "#E5ECF6",
          "polar": {
           "angularaxis": {
            "gridcolor": "white",
            "linecolor": "white",
            "ticks": ""
           },
           "bgcolor": "#E5ECF6",
           "radialaxis": {
            "gridcolor": "white",
            "linecolor": "white",
            "ticks": ""
           }
          },
          "scene": {
           "xaxis": {
            "backgroundcolor": "#E5ECF6",
            "gridcolor": "white",
            "gridwidth": 2,
            "linecolor": "white",
            "showbackground": true,
            "ticks": "",
            "zerolinecolor": "white"
           },
           "yaxis": {
            "backgroundcolor": "#E5ECF6",
            "gridcolor": "white",
            "gridwidth": 2,
            "linecolor": "white",
            "showbackground": true,
            "ticks": "",
            "zerolinecolor": "white"
           },
           "zaxis": {
            "backgroundcolor": "#E5ECF6",
            "gridcolor": "white",
            "gridwidth": 2,
            "linecolor": "white",
            "showbackground": true,
            "ticks": "",
            "zerolinecolor": "white"
           }
          },
          "shapedefaults": {
           "line": {
            "color": "#2a3f5f"
           }
          },
          "ternary": {
           "aaxis": {
            "gridcolor": "white",
            "linecolor": "white",
            "ticks": ""
           },
           "baxis": {
            "gridcolor": "white",
            "linecolor": "white",
            "ticks": ""
           },
           "bgcolor": "#E5ECF6",
           "caxis": {
            "gridcolor": "white",
            "linecolor": "white",
            "ticks": ""
           }
          },
          "title": {
           "x": 0.05
          },
          "xaxis": {
           "automargin": true,
           "gridcolor": "white",
           "linecolor": "white",
           "ticks": "",
           "title": {
            "standoff": 15
           },
           "zerolinecolor": "white",
           "zerolinewidth": 2
          },
          "yaxis": {
           "automargin": true,
           "gridcolor": "white",
           "linecolor": "white",
           "ticks": "",
           "title": {
            "standoff": 15
           },
           "zerolinecolor": "white",
           "zerolinewidth": 2
          }
         }
        },
        "width": 1600
       }
      }
     },
     "metadata": {},
     "output_type": "display_data"
    }
   ],
   "source": [
    "color_scale = [(0, 'orange'), (1,'red')]\n",
    "\n",
    "fig = px.scatter_mapbox(df,\n",
    "                        lat=\"lat\",\n",
    "                        lon=\"lon\",\n",
    "                        hover_name=\"name\",\n",
    "                        color_continuous_scale=color_scale,\n",
    "                        zoom=10,\n",
    "                        height=800,\n",
    "                        width=1600)\n",
    "fig.update_layout(mapbox_style=\"open-street-map\")\n",
    "fig.update_layout(margin={\"r\":0,\"t\":0,\"l\":0,\"b\":0})\n",
    "fig.show()"
   ]
  },
  {
   "cell_type": "code",
   "execution_count": 155,
   "id": "16c9e7f8",
   "metadata": {},
   "outputs": [],
   "source": []
  },
  {
   "cell_type": "code",
   "execution_count": null,
   "id": "5c639bf3",
   "metadata": {},
   "outputs": [],
   "source": []
  },
  {
   "cell_type": "code",
   "execution_count": 89,
   "id": "424cef7c",
   "metadata": {},
   "outputs": [],
   "source": [
    "df = pd.read_csv(\"../data/external/other/hospitales_LaPlata.csv\", delimiter=\";\", encoding='latin1')"
   ]
  },
  {
   "cell_type": "code",
   "execution_count": null,
   "id": "996e2851",
   "metadata": {},
   "outputs": [],
   "source": [
    "df = df.drop([\"DIRECCION\", \"TELEFONO\", \"Unnamed: 5\", \"Unnamed: 6\", \"Unnamed: 7\"], axis=1)\n",
    "df = df.rename(columns={\"LATITUD\": \"lat\", \"LONGITUD\": \"lon\", \"CLINICAS Y HOSPITALES\": \"name\"})\n",
    "df[\"lat\"] = df[\"lat\"].str.replace(\",\", \".\").replace(\" \", \"\").astype(float)\n",
    "df[\"lon\"] = df[\"lon\"].str.replace(\",\", \".\").replace(\" \", \"\").astype(float)\n",
    "df[\"province\"] = \"Bs.As. G.B.A. Zona Sur\""
   ]
  },
  {
   "cell_type": "code",
   "execution_count": 90,
   "id": "359dd95f",
   "metadata": {},
   "outputs": [
    {
     "data": {
      "text/html": [
       "<div>\n",
       "<style scoped>\n",
       "    .dataframe tbody tr th:only-of-type {\n",
       "        vertical-align: middle;\n",
       "    }\n",
       "\n",
       "    .dataframe tbody tr th {\n",
       "        vertical-align: top;\n",
       "    }\n",
       "\n",
       "    .dataframe thead th {\n",
       "        text-align: right;\n",
       "    }\n",
       "</style>\n",
       "<table border=\"1\" class=\"dataframe\">\n",
       "  <thead>\n",
       "    <tr style=\"text-align: right;\">\n",
       "      <th></th>\n",
       "      <th>name</th>\n",
       "      <th>lat</th>\n",
       "      <th>lon</th>\n",
       "    </tr>\n",
       "  </thead>\n",
       "  <tbody>\n",
       "    <tr>\n",
       "      <th>0</th>\n",
       "      <td>BREAST CLINIC S.A.</td>\n",
       "      <td>-34.907611</td>\n",
       "      <td>-57.959000</td>\n",
       "    </tr>\n",
       "    <tr>\n",
       "      <th>1</th>\n",
       "      <td>CEMPLAN</td>\n",
       "      <td>-34.918250</td>\n",
       "      <td>-57.942444</td>\n",
       "    </tr>\n",
       "    <tr>\n",
       "      <th>2</th>\n",
       "      <td>Centro Educación y Tratamiento para Diabetes \"...</td>\n",
       "      <td>-34.927278</td>\n",
       "      <td>-57.933917</td>\n",
       "    </tr>\n",
       "    <tr>\n",
       "      <th>3</th>\n",
       "      <td>Centro Gastroenterológico Platense</td>\n",
       "      <td>-34.913417</td>\n",
       "      <td>-57.942333</td>\n",
       "    </tr>\n",
       "    <tr>\n",
       "      <th>4</th>\n",
       "      <td>Centro Médico Cantilo</td>\n",
       "      <td>-34.880056</td>\n",
       "      <td>-58.053750</td>\n",
       "    </tr>\n",
       "  </tbody>\n",
       "</table>\n",
       "</div>"
      ],
      "text/plain": [
       "                                                name        lat        lon\n",
       "0                                 BREAST CLINIC S.A. -34.907611 -57.959000\n",
       "1                                            CEMPLAN -34.918250 -57.942444\n",
       "2  Centro Educación y Tratamiento para Diabetes \"... -34.927278 -57.933917\n",
       "3                 Centro Gastroenterológico Platense -34.913417 -57.942333\n",
       "4                              Centro Médico Cantilo -34.880056 -58.053750"
      ]
     },
     "execution_count": 90,
     "metadata": {},
     "output_type": "execute_result"
    }
   ],
   "source": [
    "df.head()"
   ]
  },
  {
   "cell_type": "code",
   "execution_count": 94,
   "id": "031be9d1",
   "metadata": {},
   "outputs": [
    {
     "data": {
      "text/html": [
       "<div>\n",
       "<style scoped>\n",
       "    .dataframe tbody tr th:only-of-type {\n",
       "        vertical-align: middle;\n",
       "    }\n",
       "\n",
       "    .dataframe tbody tr th {\n",
       "        vertical-align: top;\n",
       "    }\n",
       "\n",
       "    .dataframe thead th {\n",
       "        text-align: right;\n",
       "    }\n",
       "</style>\n",
       "<table border=\"1\" class=\"dataframe\">\n",
       "  <thead>\n",
       "    <tr style=\"text-align: right;\">\n",
       "      <th></th>\n",
       "      <th>name</th>\n",
       "      <th>lat</th>\n",
       "      <th>lon</th>\n",
       "    </tr>\n",
       "  </thead>\n",
       "  <tbody>\n",
       "    <tr>\n",
       "      <th>0</th>\n",
       "      <td>BREAST CLINIC S.A.</td>\n",
       "      <td>-34.907611</td>\n",
       "      <td>-57.959000</td>\n",
       "    </tr>\n",
       "    <tr>\n",
       "      <th>1</th>\n",
       "      <td>CEMPLAN</td>\n",
       "      <td>-34.918250</td>\n",
       "      <td>-57.942444</td>\n",
       "    </tr>\n",
       "  </tbody>\n",
       "</table>\n",
       "</div>"
      ],
      "text/plain": [
       "                 name        lat        lon\n",
       "0  BREAST CLINIC S.A. -34.907611 -57.959000\n",
       "1             CEMPLAN -34.918250 -57.942444"
      ]
     },
     "execution_count": 94,
     "metadata": {},
     "output_type": "execute_result"
    }
   ],
   "source": [
    "df.head(2)\n"
   ]
  },
  {
   "cell_type": "code",
   "execution_count": 92,
   "id": "ed36a31d",
   "metadata": {},
   "outputs": [
    {
     "name": "stdout",
     "output_type": "stream",
     "text": [
      "<class 'pandas.core.frame.DataFrame'>\n",
      "RangeIndex: 43 entries, 0 to 42\n",
      "Data columns (total 3 columns):\n",
      " #   Column  Non-Null Count  Dtype  \n",
      "---  ------  --------------  -----  \n",
      " 0   name    43 non-null     object \n",
      " 1   lat     41 non-null     float64\n",
      " 2   lon     41 non-null     float64\n",
      "dtypes: float64(2), object(1)\n",
      "memory usage: 1.1+ KB\n"
     ]
    }
   ],
   "source": [
    "df.info()"
   ]
  },
  {
   "cell_type": "code",
   "execution_count": 93,
   "id": "147e3ac0",
   "metadata": {},
   "outputs": [
    {
     "data": {
      "application/vnd.plotly.v1+json": {
       "config": {
        "plotlyServerURL": "https://plot.ly"
       },
       "data": [
        {
         "hovertemplate": "<b>%{hovertext}</b><br><br>lat=%{lat}<br>lon=%{lon}<extra></extra>",
         "hovertext": [
          "BREAST CLINIC S.A.",
          "CEMPLAN",
          "Centro Educación y Tratamiento para Diabetes \"Bernardo Houssay",
          "Centro Gastroenterológico Platense",
          "Centro Médico Cantilo",
          "Centro Médico de Diagnóstico",
          "CIMED Centro de Imágenes Médicas",
          "Clínica Belgrano",
          "Clínica City Bell",
          "Clínica de las Enfermedades de los Ojos S.A.",
          "Clínica del Niño",
          "Clínica Oftalmológica Dr. Alza",
          "Clínica Oftalmológica Meroni S.R.L.",
          "Clínica Privada de Ojos Santa Lucía",
          "Clínica Privada de Piel, Cirugía Plástica Estética y Reparadora",
          "Clínica Privada ECO-VER S.A.",
          "Clínica Privada Neuropsiquiatrica Santa Rosa SRL",
          "Clínica del Niño SA",
          "Clínica Monovalente Perinat",
          "Clínica Privada del Centro",
          "Clínica Privada Dr. J.J. Vaccarini",
          "Clínica Privada Diagnosis S.A.",
          "Hospital Italiano",
          "Hospital Privado Sudamericano",
          "Hospital Español",
          "Instituto Bonaerense de Oncología",
          "Instituto Central de Medicina S.A.",
          "Instituto de Cardiología La Plata",
          "Instituto de Terapia Radiante S,A,",
          "Instituto del Diagnóstico Galenos S.A.",
          "Instituto Médico Mater Dei S.A.",
          "Instituto Médico Platense SA",
          "Instituto Privado de Excelencia Médica, IPREM S.A.",
          "IPENSA",
          "IPENSA City Bell",
          "Policlínica de Ojos",
          "Policlínica Especializada Ambulatoria (PEA)",
          "Policlínica Privada Angiocor",
          "Policlínica Privada IDYTAC",
          "Policlínica Privada Instituto de la Columna Vertebral",
          "Policlínica Privada Platense de Enfermedades de los Ojos",
          "Sanatorio Argentino S.A.",
          "Sanatorio San José de Villa Elisa S.A."
         ],
         "lat": [
          -34.9076111111111,
          -34.91825,
          -34.9272777777778,
          -34.9134166666667,
          -34.8800555555556,
          -34.8719444444444,
          -34.9055555555556,
          -34.9138888888889,
          -34.8684166666667,
          null,
          -34.9264444444444,
          -34.9163333333333,
          -34.9268055555556,
          -34.9183611111111,
          -34.9211111111111,
          -34.9076111111111,
          -34.9097777777778,
          -34.9263055555556,
          -34.9281388888889,
          -34.918,
          -34.9366388888889,
          -34.9184166666667,
          -34.9362777777778,
          -34.9030277777778,
          -34.9055277777778,
          -34.9118611111111,
          -34.9093333333333,
          -34.9027777777778,
          -34.9255555555556,
          -34.9183055555556,
          -34.9174444444444,
          -34.9096666666667,
          null,
          -34.9171388888889,
          -34.87425,
          -34.906,
          -34.9125833333333,
          -34.9144444444444,
          -34.9036666666667,
          -34.9173333333333,
          -34.9119166666667,
          -34.9231111111111,
          -34.8519722222222
         ],
         "legendgroup": "",
         "lon": [
          -57.959,
          -57.9424444444444,
          -57.9339166666667,
          -57.9423333333333,
          -58.05375,
          -58.0444722222222,
          -57.95725,
          -57.9435,
          -58.0448333333333,
          null,
          -57.9415555555556,
          -57.9588055555556,
          -57.9418611111111,
          -57.946,
          -57.9508611111111,
          -57.9501388888889,
          -57.9515277777778,
          -57.9416666666667,
          -57.9515,
          -57.9570277777778,
          -57.9188055555556,
          -57.9348055555556,
          -57.9724722222222,
          -57.9538611111111,
          -57.9673055555556,
          -57.9413333333333,
          -57.9562222222222,
          -57.9629166666667,
          -57.9461666666667,
          -57.9345,
          -57.9608055555556,
          -57.94375,
          null,
          -57.9391666666667,
          -58.0454722222222,
          -57.9497222222222,
          -57.9423611111111,
          -57.9404444444444,
          -57.9668055555556,
          -57.9386666666667,
          -57.9608333333333,
          -57.9510833333333,
          -58.0935277777778
         ],
         "marker": {
          "color": "#636efa"
         },
         "mode": "markers",
         "name": "",
         "showlegend": false,
         "subplot": "mapbox",
         "type": "scattermapbox"
        }
       ],
       "layout": {
        "height": 800,
        "legend": {
         "tracegroupgap": 0
        },
        "mapbox": {
         "center": {
          "lat": -34.91055013550136,
          "lon": -57.96179200542005
         },
         "domain": {
          "x": [
           0,
           1
          ],
          "y": [
           0,
           1
          ]
         },
         "style": "open-street-map",
         "zoom": 10
        },
        "margin": {
         "b": 0,
         "l": 0,
         "r": 0,
         "t": 0
        },
        "template": {
         "data": {
          "bar": [
           {
            "error_x": {
             "color": "#2a3f5f"
            },
            "error_y": {
             "color": "#2a3f5f"
            },
            "marker": {
             "line": {
              "color": "#E5ECF6",
              "width": 0.5
             },
             "pattern": {
              "fillmode": "overlay",
              "size": 10,
              "solidity": 0.2
             }
            },
            "type": "bar"
           }
          ],
          "barpolar": [
           {
            "marker": {
             "line": {
              "color": "#E5ECF6",
              "width": 0.5
             },
             "pattern": {
              "fillmode": "overlay",
              "size": 10,
              "solidity": 0.2
             }
            },
            "type": "barpolar"
           }
          ],
          "carpet": [
           {
            "aaxis": {
             "endlinecolor": "#2a3f5f",
             "gridcolor": "white",
             "linecolor": "white",
             "minorgridcolor": "white",
             "startlinecolor": "#2a3f5f"
            },
            "baxis": {
             "endlinecolor": "#2a3f5f",
             "gridcolor": "white",
             "linecolor": "white",
             "minorgridcolor": "white",
             "startlinecolor": "#2a3f5f"
            },
            "type": "carpet"
           }
          ],
          "choropleth": [
           {
            "colorbar": {
             "outlinewidth": 0,
             "ticks": ""
            },
            "type": "choropleth"
           }
          ],
          "contour": [
           {
            "colorbar": {
             "outlinewidth": 0,
             "ticks": ""
            },
            "colorscale": [
             [
              0,
              "#0d0887"
             ],
             [
              0.1111111111111111,
              "#46039f"
             ],
             [
              0.2222222222222222,
              "#7201a8"
             ],
             [
              0.3333333333333333,
              "#9c179e"
             ],
             [
              0.4444444444444444,
              "#bd3786"
             ],
             [
              0.5555555555555556,
              "#d8576b"
             ],
             [
              0.6666666666666666,
              "#ed7953"
             ],
             [
              0.7777777777777778,
              "#fb9f3a"
             ],
             [
              0.8888888888888888,
              "#fdca26"
             ],
             [
              1,
              "#f0f921"
             ]
            ],
            "type": "contour"
           }
          ],
          "contourcarpet": [
           {
            "colorbar": {
             "outlinewidth": 0,
             "ticks": ""
            },
            "type": "contourcarpet"
           }
          ],
          "heatmap": [
           {
            "colorbar": {
             "outlinewidth": 0,
             "ticks": ""
            },
            "colorscale": [
             [
              0,
              "#0d0887"
             ],
             [
              0.1111111111111111,
              "#46039f"
             ],
             [
              0.2222222222222222,
              "#7201a8"
             ],
             [
              0.3333333333333333,
              "#9c179e"
             ],
             [
              0.4444444444444444,
              "#bd3786"
             ],
             [
              0.5555555555555556,
              "#d8576b"
             ],
             [
              0.6666666666666666,
              "#ed7953"
             ],
             [
              0.7777777777777778,
              "#fb9f3a"
             ],
             [
              0.8888888888888888,
              "#fdca26"
             ],
             [
              1,
              "#f0f921"
             ]
            ],
            "type": "heatmap"
           }
          ],
          "heatmapgl": [
           {
            "colorbar": {
             "outlinewidth": 0,
             "ticks": ""
            },
            "colorscale": [
             [
              0,
              "#0d0887"
             ],
             [
              0.1111111111111111,
              "#46039f"
             ],
             [
              0.2222222222222222,
              "#7201a8"
             ],
             [
              0.3333333333333333,
              "#9c179e"
             ],
             [
              0.4444444444444444,
              "#bd3786"
             ],
             [
              0.5555555555555556,
              "#d8576b"
             ],
             [
              0.6666666666666666,
              "#ed7953"
             ],
             [
              0.7777777777777778,
              "#fb9f3a"
             ],
             [
              0.8888888888888888,
              "#fdca26"
             ],
             [
              1,
              "#f0f921"
             ]
            ],
            "type": "heatmapgl"
           }
          ],
          "histogram": [
           {
            "marker": {
             "pattern": {
              "fillmode": "overlay",
              "size": 10,
              "solidity": 0.2
             }
            },
            "type": "histogram"
           }
          ],
          "histogram2d": [
           {
            "colorbar": {
             "outlinewidth": 0,
             "ticks": ""
            },
            "colorscale": [
             [
              0,
              "#0d0887"
             ],
             [
              0.1111111111111111,
              "#46039f"
             ],
             [
              0.2222222222222222,
              "#7201a8"
             ],
             [
              0.3333333333333333,
              "#9c179e"
             ],
             [
              0.4444444444444444,
              "#bd3786"
             ],
             [
              0.5555555555555556,
              "#d8576b"
             ],
             [
              0.6666666666666666,
              "#ed7953"
             ],
             [
              0.7777777777777778,
              "#fb9f3a"
             ],
             [
              0.8888888888888888,
              "#fdca26"
             ],
             [
              1,
              "#f0f921"
             ]
            ],
            "type": "histogram2d"
           }
          ],
          "histogram2dcontour": [
           {
            "colorbar": {
             "outlinewidth": 0,
             "ticks": ""
            },
            "colorscale": [
             [
              0,
              "#0d0887"
             ],
             [
              0.1111111111111111,
              "#46039f"
             ],
             [
              0.2222222222222222,
              "#7201a8"
             ],
             [
              0.3333333333333333,
              "#9c179e"
             ],
             [
              0.4444444444444444,
              "#bd3786"
             ],
             [
              0.5555555555555556,
              "#d8576b"
             ],
             [
              0.6666666666666666,
              "#ed7953"
             ],
             [
              0.7777777777777778,
              "#fb9f3a"
             ],
             [
              0.8888888888888888,
              "#fdca26"
             ],
             [
              1,
              "#f0f921"
             ]
            ],
            "type": "histogram2dcontour"
           }
          ],
          "mesh3d": [
           {
            "colorbar": {
             "outlinewidth": 0,
             "ticks": ""
            },
            "type": "mesh3d"
           }
          ],
          "parcoords": [
           {
            "line": {
             "colorbar": {
              "outlinewidth": 0,
              "ticks": ""
             }
            },
            "type": "parcoords"
           }
          ],
          "pie": [
           {
            "automargin": true,
            "type": "pie"
           }
          ],
          "scatter": [
           {
            "fillpattern": {
             "fillmode": "overlay",
             "size": 10,
             "solidity": 0.2
            },
            "type": "scatter"
           }
          ],
          "scatter3d": [
           {
            "line": {
             "colorbar": {
              "outlinewidth": 0,
              "ticks": ""
             }
            },
            "marker": {
             "colorbar": {
              "outlinewidth": 0,
              "ticks": ""
             }
            },
            "type": "scatter3d"
           }
          ],
          "scattercarpet": [
           {
            "marker": {
             "colorbar": {
              "outlinewidth": 0,
              "ticks": ""
             }
            },
            "type": "scattercarpet"
           }
          ],
          "scattergeo": [
           {
            "marker": {
             "colorbar": {
              "outlinewidth": 0,
              "ticks": ""
             }
            },
            "type": "scattergeo"
           }
          ],
          "scattergl": [
           {
            "marker": {
             "colorbar": {
              "outlinewidth": 0,
              "ticks": ""
             }
            },
            "type": "scattergl"
           }
          ],
          "scattermapbox": [
           {
            "marker": {
             "colorbar": {
              "outlinewidth": 0,
              "ticks": ""
             }
            },
            "type": "scattermapbox"
           }
          ],
          "scatterpolar": [
           {
            "marker": {
             "colorbar": {
              "outlinewidth": 0,
              "ticks": ""
             }
            },
            "type": "scatterpolar"
           }
          ],
          "scatterpolargl": [
           {
            "marker": {
             "colorbar": {
              "outlinewidth": 0,
              "ticks": ""
             }
            },
            "type": "scatterpolargl"
           }
          ],
          "scatterternary": [
           {
            "marker": {
             "colorbar": {
              "outlinewidth": 0,
              "ticks": ""
             }
            },
            "type": "scatterternary"
           }
          ],
          "surface": [
           {
            "colorbar": {
             "outlinewidth": 0,
             "ticks": ""
            },
            "colorscale": [
             [
              0,
              "#0d0887"
             ],
             [
              0.1111111111111111,
              "#46039f"
             ],
             [
              0.2222222222222222,
              "#7201a8"
             ],
             [
              0.3333333333333333,
              "#9c179e"
             ],
             [
              0.4444444444444444,
              "#bd3786"
             ],
             [
              0.5555555555555556,
              "#d8576b"
             ],
             [
              0.6666666666666666,
              "#ed7953"
             ],
             [
              0.7777777777777778,
              "#fb9f3a"
             ],
             [
              0.8888888888888888,
              "#fdca26"
             ],
             [
              1,
              "#f0f921"
             ]
            ],
            "type": "surface"
           }
          ],
          "table": [
           {
            "cells": {
             "fill": {
              "color": "#EBF0F8"
             },
             "line": {
              "color": "white"
             }
            },
            "header": {
             "fill": {
              "color": "#C8D4E3"
             },
             "line": {
              "color": "white"
             }
            },
            "type": "table"
           }
          ]
         },
         "layout": {
          "annotationdefaults": {
           "arrowcolor": "#2a3f5f",
           "arrowhead": 0,
           "arrowwidth": 1
          },
          "autotypenumbers": "strict",
          "coloraxis": {
           "colorbar": {
            "outlinewidth": 0,
            "ticks": ""
           }
          },
          "colorscale": {
           "diverging": [
            [
             0,
             "#8e0152"
            ],
            [
             0.1,
             "#c51b7d"
            ],
            [
             0.2,
             "#de77ae"
            ],
            [
             0.3,
             "#f1b6da"
            ],
            [
             0.4,
             "#fde0ef"
            ],
            [
             0.5,
             "#f7f7f7"
            ],
            [
             0.6,
             "#e6f5d0"
            ],
            [
             0.7,
             "#b8e186"
            ],
            [
             0.8,
             "#7fbc41"
            ],
            [
             0.9,
             "#4d9221"
            ],
            [
             1,
             "#276419"
            ]
           ],
           "sequential": [
            [
             0,
             "#0d0887"
            ],
            [
             0.1111111111111111,
             "#46039f"
            ],
            [
             0.2222222222222222,
             "#7201a8"
            ],
            [
             0.3333333333333333,
             "#9c179e"
            ],
            [
             0.4444444444444444,
             "#bd3786"
            ],
            [
             0.5555555555555556,
             "#d8576b"
            ],
            [
             0.6666666666666666,
             "#ed7953"
            ],
            [
             0.7777777777777778,
             "#fb9f3a"
            ],
            [
             0.8888888888888888,
             "#fdca26"
            ],
            [
             1,
             "#f0f921"
            ]
           ],
           "sequentialminus": [
            [
             0,
             "#0d0887"
            ],
            [
             0.1111111111111111,
             "#46039f"
            ],
            [
             0.2222222222222222,
             "#7201a8"
            ],
            [
             0.3333333333333333,
             "#9c179e"
            ],
            [
             0.4444444444444444,
             "#bd3786"
            ],
            [
             0.5555555555555556,
             "#d8576b"
            ],
            [
             0.6666666666666666,
             "#ed7953"
            ],
            [
             0.7777777777777778,
             "#fb9f3a"
            ],
            [
             0.8888888888888888,
             "#fdca26"
            ],
            [
             1,
             "#f0f921"
            ]
           ]
          },
          "colorway": [
           "#636efa",
           "#EF553B",
           "#00cc96",
           "#ab63fa",
           "#FFA15A",
           "#19d3f3",
           "#FF6692",
           "#B6E880",
           "#FF97FF",
           "#FECB52"
          ],
          "font": {
           "color": "#2a3f5f"
          },
          "geo": {
           "bgcolor": "white",
           "lakecolor": "white",
           "landcolor": "#E5ECF6",
           "showlakes": true,
           "showland": true,
           "subunitcolor": "white"
          },
          "hoverlabel": {
           "align": "left"
          },
          "hovermode": "closest",
          "mapbox": {
           "style": "light"
          },
          "paper_bgcolor": "white",
          "plot_bgcolor": "#E5ECF6",
          "polar": {
           "angularaxis": {
            "gridcolor": "white",
            "linecolor": "white",
            "ticks": ""
           },
           "bgcolor": "#E5ECF6",
           "radialaxis": {
            "gridcolor": "white",
            "linecolor": "white",
            "ticks": ""
           }
          },
          "scene": {
           "xaxis": {
            "backgroundcolor": "#E5ECF6",
            "gridcolor": "white",
            "gridwidth": 2,
            "linecolor": "white",
            "showbackground": true,
            "ticks": "",
            "zerolinecolor": "white"
           },
           "yaxis": {
            "backgroundcolor": "#E5ECF6",
            "gridcolor": "white",
            "gridwidth": 2,
            "linecolor": "white",
            "showbackground": true,
            "ticks": "",
            "zerolinecolor": "white"
           },
           "zaxis": {
            "backgroundcolor": "#E5ECF6",
            "gridcolor": "white",
            "gridwidth": 2,
            "linecolor": "white",
            "showbackground": true,
            "ticks": "",
            "zerolinecolor": "white"
           }
          },
          "shapedefaults": {
           "line": {
            "color": "#2a3f5f"
           }
          },
          "ternary": {
           "aaxis": {
            "gridcolor": "white",
            "linecolor": "white",
            "ticks": ""
           },
           "baxis": {
            "gridcolor": "white",
            "linecolor": "white",
            "ticks": ""
           },
           "bgcolor": "#E5ECF6",
           "caxis": {
            "gridcolor": "white",
            "linecolor": "white",
            "ticks": ""
           }
          },
          "title": {
           "x": 0.05
          },
          "xaxis": {
           "automargin": true,
           "gridcolor": "white",
           "linecolor": "white",
           "ticks": "",
           "title": {
            "standoff": 15
           },
           "zerolinecolor": "white",
           "zerolinewidth": 2
          },
          "yaxis": {
           "automargin": true,
           "gridcolor": "white",
           "linecolor": "white",
           "ticks": "",
           "title": {
            "standoff": 15
           },
           "zerolinecolor": "white",
           "zerolinewidth": 2
          }
         }
        },
        "width": 1600
       }
      }
     },
     "metadata": {},
     "output_type": "display_data"
    }
   ],
   "source": [
    "color_scale = [(0, 'orange'), (1,'red')]\n",
    "\n",
    "fig = px.scatter_mapbox(df,\n",
    "                        lat=\"lat\",\n",
    "                        lon=\"lon\",\n",
    "                        hover_name=\"name\",\n",
    "                        color_continuous_scale=color_scale,\n",
    "                        zoom=10,\n",
    "                        height=800,\n",
    "                        width=1600)\n",
    "fig.update_layout(mapbox_style=\"open-street-map\")\n",
    "fig.update_layout(margin={\"r\":0,\"t\":0,\"l\":0,\"b\":0})\n",
    "fig.show()"
   ]
  },
  {
   "cell_type": "code",
   "execution_count": 117,
   "id": "a1288358",
   "metadata": {},
   "outputs": [
    {
     "data": {
      "text/html": [
       "<div>\n",
       "<style scoped>\n",
       "    .dataframe tbody tr th:only-of-type {\n",
       "        vertical-align: middle;\n",
       "    }\n",
       "\n",
       "    .dataframe tbody tr th {\n",
       "        vertical-align: top;\n",
       "    }\n",
       "\n",
       "    .dataframe thead th {\n",
       "        text-align: right;\n",
       "    }\n",
       "</style>\n",
       "<table border=\"1\" class=\"dataframe\">\n",
       "  <thead>\n",
       "    <tr style=\"text-align: right;\">\n",
       "      <th></th>\n",
       "      <th>stop_id</th>\n",
       "      <th>stop_name</th>\n",
       "      <th>lat</th>\n",
       "      <th>lon</th>\n",
       "      <th>type</th>\n",
       "    </tr>\n",
       "  </thead>\n",
       "  <tbody>\n",
       "    <tr>\n",
       "      <th>0</th>\n",
       "      <td>154</td>\n",
       "      <td>González Catán</td>\n",
       "      <td>-34.771464</td>\n",
       "      <td>-58.646546</td>\n",
       "      <td>tren</td>\n",
       "    </tr>\n",
       "    <tr>\n",
       "      <th>1</th>\n",
       "      <td>178</td>\n",
       "      <td>Independencia</td>\n",
       "      <td>-34.760798</td>\n",
       "      <td>-58.617341</td>\n",
       "      <td>tren</td>\n",
       "    </tr>\n",
       "    <tr>\n",
       "      <th>2</th>\n",
       "      <td>180</td>\n",
       "      <td>Ing. Budge</td>\n",
       "      <td>-34.718663</td>\n",
       "      <td>-58.462152</td>\n",
       "      <td>tren</td>\n",
       "    </tr>\n",
       "    <tr>\n",
       "      <th>3</th>\n",
       "      <td>184</td>\n",
       "      <td>Isidro Casanova</td>\n",
       "      <td>-34.704464</td>\n",
       "      <td>-58.587990</td>\n",
       "      <td>tren</td>\n",
       "    </tr>\n",
       "    <tr>\n",
       "      <th>4</th>\n",
       "      <td>203</td>\n",
       "      <td>Justo Villegas</td>\n",
       "      <td>-34.708965</td>\n",
       "      <td>-58.551939</td>\n",
       "      <td>tren</td>\n",
       "    </tr>\n",
       "    <tr>\n",
       "      <th>...</th>\n",
       "      <td>...</td>\n",
       "      <td>...</td>\n",
       "      <td>...</td>\n",
       "      <td>...</td>\n",
       "      <td>...</td>\n",
       "    </tr>\n",
       "    <tr>\n",
       "      <th>13</th>\n",
       "      <td>14</td>\n",
       "      <td>ANA DÍAZ</td>\n",
       "      <td>-34.680883</td>\n",
       "      <td>-58.466923</td>\n",
       "      <td>premetro</td>\n",
       "    </tr>\n",
       "    <tr>\n",
       "      <th>14</th>\n",
       "      <td>15</td>\n",
       "      <td>MARIANO ACOSTA (Bo. R. Carrillo)</td>\n",
       "      <td>-34.654433</td>\n",
       "      <td>-58.456480</td>\n",
       "      <td>premetro</td>\n",
       "    </tr>\n",
       "    <tr>\n",
       "      <th>15</th>\n",
       "      <td>16</td>\n",
       "      <td>SOMELLERA</td>\n",
       "      <td>-34.656441</td>\n",
       "      <td>-58.453905</td>\n",
       "      <td>premetro</td>\n",
       "    </tr>\n",
       "    <tr>\n",
       "      <th>16</th>\n",
       "      <td>17</td>\n",
       "      <td>NTRA. SRA. DE FÁTIMA</td>\n",
       "      <td>-34.660458</td>\n",
       "      <td>-58.448861</td>\n",
       "      <td>premetro</td>\n",
       "    </tr>\n",
       "    <tr>\n",
       "      <th>17</th>\n",
       "      <td>18</td>\n",
       "      <td>POLA</td>\n",
       "      <td>-34.678131</td>\n",
       "      <td>-58.464462</td>\n",
       "      <td>premetro</td>\n",
       "    </tr>\n",
       "  </tbody>\n",
       "</table>\n",
       "<p>356 rows × 5 columns</p>\n",
       "</div>"
      ],
      "text/plain": [
       "    stop_id                         stop_name        lat        lon      type\n",
       "0       154                    González Catán -34.771464 -58.646546      tren\n",
       "1       178                     Independencia -34.760798 -58.617341      tren\n",
       "2       180                        Ing. Budge -34.718663 -58.462152      tren\n",
       "3       184                   Isidro Casanova -34.704464 -58.587990      tren\n",
       "4       203                    Justo Villegas -34.708965 -58.551939      tren\n",
       "..      ...                               ...        ...        ...       ...\n",
       "13       14                          ANA DÍAZ -34.680883 -58.466923  premetro\n",
       "14       15  MARIANO ACOSTA (Bo. R. Carrillo) -34.654433 -58.456480  premetro\n",
       "15       16                         SOMELLERA -34.656441 -58.453905  premetro\n",
       "16       17              NTRA. SRA. DE FÁTIMA -34.660458 -58.448861  premetro\n",
       "17       18                              POLA -34.678131 -58.464462  premetro\n",
       "\n",
       "[356 rows x 5 columns]"
      ]
     },
     "execution_count": 117,
     "metadata": {},
     "output_type": "execute_result"
    }
   ],
   "source": []
  },
  {
   "cell_type": "code",
   "execution_count": null,
   "id": "4d7a3d45",
   "metadata": {},
   "outputs": [],
   "source": []
  }
 ],
 "metadata": {
  "kernelspec": {
   "display_name": "Base (Python 3.11)",
   "language": "python",
   "name": "base"
  },
  "language_info": {
   "codemirror_mode": {
    "name": "ipython",
    "version": 3
   },
   "file_extension": ".py",
   "mimetype": "text/x-python",
   "name": "python",
   "nbconvert_exporter": "python",
   "pygments_lexer": "ipython3",
   "version": "3.11.3"
  }
 },
 "nbformat": 4,
 "nbformat_minor": 5
}
