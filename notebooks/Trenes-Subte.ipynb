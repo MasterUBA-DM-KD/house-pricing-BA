{
 "cells": [
  {
   "cell_type": "code",
   "execution_count": 9,
   "id": "b44329e5-910a-4c6e-90b2-04bd72c7cc26",
   "metadata": {},
   "outputs": [],
   "source": [
    "import pandas as pd\n",
    "import plotly.express as px"
   ]
  },
  {
   "cell_type": "code",
   "execution_count": 58,
   "id": "15248a00-dd18-450b-bff3-422194139390",
   "metadata": {},
   "outputs": [],
   "source": [
    "df_tren = pd.read_csv(\"../data/transporte_publico/trenes/stops.txt\")\n",
    "df_subte = pd.read_csv(\"../data/transporte_publico/subte/estaciones-de-subte.csv\")\n",
    "df_premetro = pd.read_csv(\"../data/transporte_publico/premetro/estaciones-premetro.csv\")"
   ]
  },
  {
   "cell_type": "code",
   "execution_count": 59,
   "id": "3177a491-97f6-47c8-a38e-9af078d411b3",
   "metadata": {},
   "outputs": [],
   "source": [
    "df_tren[\"type\"] = \"tren\"\n",
    "df_tren = df_tren.drop([\"stop_id\"], axis=1)\n",
    "df_tren = df_tren.rename(columns={\"stop_lat\": \"lat\", \"stop_lon\": \"lon\"})"
   ]
  },
  {
   "cell_type": "code",
   "execution_count": 60,
   "id": "e700d5fc-f55f-4a81-bd4b-fa7a3084eef7",
   "metadata": {},
   "outputs": [
    {
     "data": {
      "text/html": [
       "<div>\n",
       "<style scoped>\n",
       "    .dataframe tbody tr th:only-of-type {\n",
       "        vertical-align: middle;\n",
       "    }\n",
       "\n",
       "    .dataframe tbody tr th {\n",
       "        vertical-align: top;\n",
       "    }\n",
       "\n",
       "    .dataframe thead th {\n",
       "        text-align: right;\n",
       "    }\n",
       "</style>\n",
       "<table border=\"1\" class=\"dataframe\">\n",
       "  <thead>\n",
       "    <tr style=\"text-align: right;\">\n",
       "      <th></th>\n",
       "      <th>stop_name</th>\n",
       "      <th>lat</th>\n",
       "      <th>lon</th>\n",
       "      <th>type</th>\n",
       "    </tr>\n",
       "  </thead>\n",
       "  <tbody>\n",
       "    <tr>\n",
       "      <th>0</th>\n",
       "      <td>González Catán</td>\n",
       "      <td>-34.771464</td>\n",
       "      <td>-58.646546</td>\n",
       "      <td>tren</td>\n",
       "    </tr>\n",
       "    <tr>\n",
       "      <th>1</th>\n",
       "      <td>Independencia</td>\n",
       "      <td>-34.760798</td>\n",
       "      <td>-58.617341</td>\n",
       "      <td>tren</td>\n",
       "    </tr>\n",
       "    <tr>\n",
       "      <th>2</th>\n",
       "      <td>Ing. Budge</td>\n",
       "      <td>-34.718663</td>\n",
       "      <td>-58.462152</td>\n",
       "      <td>tren</td>\n",
       "    </tr>\n",
       "    <tr>\n",
       "      <th>3</th>\n",
       "      <td>Isidro Casanova</td>\n",
       "      <td>-34.704464</td>\n",
       "      <td>-58.587990</td>\n",
       "      <td>tren</td>\n",
       "    </tr>\n",
       "    <tr>\n",
       "      <th>4</th>\n",
       "      <td>Justo Villegas</td>\n",
       "      <td>-34.708965</td>\n",
       "      <td>-58.551939</td>\n",
       "      <td>tren</td>\n",
       "    </tr>\n",
       "  </tbody>\n",
       "</table>\n",
       "</div>"
      ],
      "text/plain": [
       "         stop_name        lat        lon  type\n",
       "0   González Catán -34.771464 -58.646546  tren\n",
       "1    Independencia -34.760798 -58.617341  tren\n",
       "2       Ing. Budge -34.718663 -58.462152  tren\n",
       "3  Isidro Casanova -34.704464 -58.587990  tren\n",
       "4   Justo Villegas -34.708965 -58.551939  tren"
      ]
     },
     "execution_count": 60,
     "metadata": {},
     "output_type": "execute_result"
    }
   ],
   "source": [
    "df_tren.head()"
   ]
  },
  {
   "cell_type": "code",
   "execution_count": 61,
   "id": "42e70c94-9b4c-47a4-897c-4997cfdecaa8",
   "metadata": {},
   "outputs": [],
   "source": [
    "df_subte[\"type\"] = \"subte\"\n",
    "df_subte = df_subte.drop([\"id\", \"linea\"], axis=1)\n",
    "df_subte = df_subte.rename(columns={\"long\": \"lon\",\"estacion\":\"stop_name\"})\n",
    "df_subte = df_subte[df_tren.columns]"
   ]
  },
  {
   "cell_type": "code",
   "execution_count": 62,
   "id": "db6a5d71-7e8a-49ee-9cdf-bd461149c72f",
   "metadata": {},
   "outputs": [
    {
     "data": {
      "text/html": [
       "<div>\n",
       "<style scoped>\n",
       "    .dataframe tbody tr th:only-of-type {\n",
       "        vertical-align: middle;\n",
       "    }\n",
       "\n",
       "    .dataframe tbody tr th {\n",
       "        vertical-align: top;\n",
       "    }\n",
       "\n",
       "    .dataframe thead th {\n",
       "        text-align: right;\n",
       "    }\n",
       "</style>\n",
       "<table border=\"1\" class=\"dataframe\">\n",
       "  <thead>\n",
       "    <tr style=\"text-align: right;\">\n",
       "      <th></th>\n",
       "      <th>stop_name</th>\n",
       "      <th>lat</th>\n",
       "      <th>lon</th>\n",
       "      <th>type</th>\n",
       "    </tr>\n",
       "  </thead>\n",
       "  <tbody>\n",
       "    <tr>\n",
       "      <th>0</th>\n",
       "      <td>CASEROS</td>\n",
       "      <td>-34.635750</td>\n",
       "      <td>-58.398928</td>\n",
       "      <td>subte</td>\n",
       "    </tr>\n",
       "    <tr>\n",
       "      <th>1</th>\n",
       "      <td>INCLAN - MEZQUITA AL AHMAD</td>\n",
       "      <td>-34.629376</td>\n",
       "      <td>-58.400970</td>\n",
       "      <td>subte</td>\n",
       "    </tr>\n",
       "    <tr>\n",
       "      <th>2</th>\n",
       "      <td>HUMBERTO 1°</td>\n",
       "      <td>-34.623092</td>\n",
       "      <td>-58.402323</td>\n",
       "      <td>subte</td>\n",
       "    </tr>\n",
       "    <tr>\n",
       "      <th>3</th>\n",
       "      <td>VENEZUELA</td>\n",
       "      <td>-34.615242</td>\n",
       "      <td>-58.404732</td>\n",
       "      <td>subte</td>\n",
       "    </tr>\n",
       "    <tr>\n",
       "      <th>4</th>\n",
       "      <td>ONCE - 30 DE DICIEMBRE</td>\n",
       "      <td>-34.608935</td>\n",
       "      <td>-58.406036</td>\n",
       "      <td>subte</td>\n",
       "    </tr>\n",
       "  </tbody>\n",
       "</table>\n",
       "</div>"
      ],
      "text/plain": [
       "                    stop_name        lat        lon   type\n",
       "0                     CASEROS -34.635750 -58.398928  subte\n",
       "1  INCLAN - MEZQUITA AL AHMAD -34.629376 -58.400970  subte\n",
       "2                 HUMBERTO 1° -34.623092 -58.402323  subte\n",
       "3                   VENEZUELA -34.615242 -58.404732  subte\n",
       "4      ONCE - 30 DE DICIEMBRE -34.608935 -58.406036  subte"
      ]
     },
     "execution_count": 62,
     "metadata": {},
     "output_type": "execute_result"
    }
   ],
   "source": [
    "df_subte.head()"
   ]
  },
  {
   "cell_type": "code",
   "execution_count": 63,
   "id": "077652b8-2dd7-4321-a0b1-20de6f13022f",
   "metadata": {},
   "outputs": [],
   "source": [
    "df_premetro[\"type\"] = \"premetro\"\n",
    "df_premetro = df_premetro.drop([\"id\"], axis=1)\n",
    "df_premetro = df_premetro.rename(columns={\"long\": \"lon\",\"nombre\":\"stop_name\"})\n",
    "df_premetro = df_premetro[df_tren.columns]"
   ]
  },
  {
   "cell_type": "code",
   "execution_count": 64,
   "id": "d12d424f-7a40-45dd-bab3-30a75a691922",
   "metadata": {},
   "outputs": [
    {
     "data": {
      "text/html": [
       "<div>\n",
       "<style scoped>\n",
       "    .dataframe tbody tr th:only-of-type {\n",
       "        vertical-align: middle;\n",
       "    }\n",
       "\n",
       "    .dataframe tbody tr th {\n",
       "        vertical-align: top;\n",
       "    }\n",
       "\n",
       "    .dataframe thead th {\n",
       "        text-align: right;\n",
       "    }\n",
       "</style>\n",
       "<table border=\"1\" class=\"dataframe\">\n",
       "  <thead>\n",
       "    <tr style=\"text-align: right;\">\n",
       "      <th></th>\n",
       "      <th>stop_name</th>\n",
       "      <th>lat</th>\n",
       "      <th>lon</th>\n",
       "      <th>type</th>\n",
       "    </tr>\n",
       "  </thead>\n",
       "  <tbody>\n",
       "    <tr>\n",
       "      <th>0</th>\n",
       "      <td>INTENDENTE SAGUIER</td>\n",
       "      <td>-34.643757</td>\n",
       "      <td>-58.461491</td>\n",
       "      <td>premetro</td>\n",
       "    </tr>\n",
       "    <tr>\n",
       "      <th>1</th>\n",
       "      <td>BALBASTRO (Cementerio de Flores)</td>\n",
       "      <td>-34.648601</td>\n",
       "      <td>-58.456415</td>\n",
       "      <td>premetro</td>\n",
       "    </tr>\n",
       "    <tr>\n",
       "      <th>2</th>\n",
       "      <td>ANA MARÍA JANER</td>\n",
       "      <td>-34.659499</td>\n",
       "      <td>-58.450047</td>\n",
       "      <td>premetro</td>\n",
       "    </tr>\n",
       "    <tr>\n",
       "      <th>3</th>\n",
       "      <td>FERNANDEZ DE LA CRUZ</td>\n",
       "      <td>-34.662225</td>\n",
       "      <td>-58.446607</td>\n",
       "      <td>premetro</td>\n",
       "    </tr>\n",
       "    <tr>\n",
       "      <th>4</th>\n",
       "      <td>PTE. ILLIA (Lacarra)</td>\n",
       "      <td>-34.665368</td>\n",
       "      <td>-58.448513</td>\n",
       "      <td>premetro</td>\n",
       "    </tr>\n",
       "  </tbody>\n",
       "</table>\n",
       "</div>"
      ],
      "text/plain": [
       "                          stop_name        lat        lon      type\n",
       "0                INTENDENTE SAGUIER -34.643757 -58.461491  premetro\n",
       "1  BALBASTRO (Cementerio de Flores) -34.648601 -58.456415  premetro\n",
       "2                   ANA MARÍA JANER -34.659499 -58.450047  premetro\n",
       "3              FERNANDEZ DE LA CRUZ -34.662225 -58.446607  premetro\n",
       "4              PTE. ILLIA (Lacarra) -34.665368 -58.448513  premetro"
      ]
     },
     "execution_count": 64,
     "metadata": {},
     "output_type": "execute_result"
    }
   ],
   "source": [
    "df_premetro.head()"
   ]
  },
  {
   "cell_type": "code",
   "execution_count": 65,
   "id": "03ce8109-a700-4614-8b79-51a8ba4af39d",
   "metadata": {},
   "outputs": [],
   "source": [
    "df = pd.concat([df_tren, df_subte, df_premetro])"
   ]
  },
  {
   "cell_type": "code",
   "execution_count": 66,
   "id": "c98faa88-07a6-4f8e-b7a8-833d494b9311",
   "metadata": {},
   "outputs": [
    {
     "data": {
      "text/html": [
       "<div>\n",
       "<style scoped>\n",
       "    .dataframe tbody tr th:only-of-type {\n",
       "        vertical-align: middle;\n",
       "    }\n",
       "\n",
       "    .dataframe tbody tr th {\n",
       "        vertical-align: top;\n",
       "    }\n",
       "\n",
       "    .dataframe thead th {\n",
       "        text-align: right;\n",
       "    }\n",
       "</style>\n",
       "<table border=\"1\" class=\"dataframe\">\n",
       "  <thead>\n",
       "    <tr style=\"text-align: right;\">\n",
       "      <th></th>\n",
       "      <th>stop_name</th>\n",
       "      <th>lat</th>\n",
       "      <th>lon</th>\n",
       "      <th>type</th>\n",
       "    </tr>\n",
       "  </thead>\n",
       "  <tbody>\n",
       "    <tr>\n",
       "      <th>0</th>\n",
       "      <td>González Catán</td>\n",
       "      <td>-34.771464</td>\n",
       "      <td>-58.646546</td>\n",
       "      <td>tren</td>\n",
       "    </tr>\n",
       "    <tr>\n",
       "      <th>1</th>\n",
       "      <td>Independencia</td>\n",
       "      <td>-34.760798</td>\n",
       "      <td>-58.617341</td>\n",
       "      <td>tren</td>\n",
       "    </tr>\n",
       "    <tr>\n",
       "      <th>2</th>\n",
       "      <td>Ing. Budge</td>\n",
       "      <td>-34.718663</td>\n",
       "      <td>-58.462152</td>\n",
       "      <td>tren</td>\n",
       "    </tr>\n",
       "    <tr>\n",
       "      <th>3</th>\n",
       "      <td>Isidro Casanova</td>\n",
       "      <td>-34.704464</td>\n",
       "      <td>-58.587990</td>\n",
       "      <td>tren</td>\n",
       "    </tr>\n",
       "    <tr>\n",
       "      <th>4</th>\n",
       "      <td>Justo Villegas</td>\n",
       "      <td>-34.708965</td>\n",
       "      <td>-58.551939</td>\n",
       "      <td>tren</td>\n",
       "    </tr>\n",
       "  </tbody>\n",
       "</table>\n",
       "</div>"
      ],
      "text/plain": [
       "         stop_name        lat        lon  type\n",
       "0   González Catán -34.771464 -58.646546  tren\n",
       "1    Independencia -34.760798 -58.617341  tren\n",
       "2       Ing. Budge -34.718663 -58.462152  tren\n",
       "3  Isidro Casanova -34.704464 -58.587990  tren\n",
       "4   Justo Villegas -34.708965 -58.551939  tren"
      ]
     },
     "execution_count": 66,
     "metadata": {},
     "output_type": "execute_result"
    }
   ],
   "source": [
    "df.head()"
   ]
  },
  {
   "cell_type": "code",
   "execution_count": 67,
   "id": "bea64bbe-f5d5-4b66-aac2-b9b4ba375efa",
   "metadata": {},
   "outputs": [
    {
     "data": {
      "application/vnd.plotly.v1+json": {
       "config": {
        "plotlyServerURL": "https://plot.ly"
       },
       "data": [
        {
         "hovertemplate": "<b>%{hovertext}</b><br><br>type=tren<br>lat=%{lat}<br>lon=%{lon}<extra></extra>",
         "hovertext": [
          "González Catán",
          "Independencia",
          "Ing. Budge",
          "Isidro Casanova",
          "Justo Villegas",
          "Laferrere",
          "La Salada",
          "Libertad",
          "María Eva Duarte",
          "Marinos del Fournier",
          "Presidente Illia",
          "Puente Alsina",
          "Querandí",
          "Rafael Castillo",
          "General Urquiza",
          "Ingeniero Castello",
          "Sánchez de Mendeville",
          "Merlo Gómez",
          "Gándara",
          "Km. 34,5",
          "José Ingenieros",
          "Dr. Sáenz nueva",
          "20 de Junio",
          "3 de Febrero",
          "Flores",
          "Apeadero Km. 12",
          "Benavídez",
          "Apeadero Kloosterman",
          "Arquitectura",
          "Bancalari",
          "Banfield",
          "Béccar",
          "Belgrano C",
          "Belgrano R",
          "Bella Vista",
          "Berazategui",
          "Bernal",
          "Borges",
          "Bosques",
          "Burzaco",
          "Caballito",
          "Cabred",
          "Campana",
          "Canal San Fernando",
          "Cañuelas",
          "Capilla del Señor",
          "Carlos Spegazzini",
          "Carupá",
          "Caseros",
          "Castelar",
          "Chilavert",
          "City Bell",
          "Ciudadela",
          "Claypole",
          "Coghlan",
          "Colegiales",
          "Dante Ardigó",
          "Delta",
          "Derqui",
          "Devoto",
          "Diagonal 73",
          "Don Bosco",
          "Dr. A. Schweitzer",
          "Dr. Cetrángolo",
          "El Jagüel",
          "El Talar",
          "Empalme Lobos",
          "Escobar",
          "Ezeiza",
          "Ezpeleta",
          "Ferrari",
          "Florencio Varela",
          "Floresta",
          "Florida",
          "Constitución",
          "Retiro LSM",
          "Gerli",
          "Glew",
          "Gonnet",
          "Domselaar",
          "Dr. Sáenz",
          "F. Álvarez",
          "Cnel. Brandsen",
          "Garín",
          "Chascomús",
          "Maipú",
          "Gowland",
          "Guernica",
          "Gutiérrez",
          "Haedo",
          "Hipólito Yrigoyen",
          "Hornos",
          "Hospital Español",
          "Hudson",
          "Hurlingham",
          "L. M. Drago",
          "Informática",
          "Km. 34",
          "J. L. Suárez",
          "Ingeniero S. Brian",
          "José C. Paz",
          "Ituzaingó",
          "Jáuregui",
          "Jeppener",
          "Gral. Rodríguez",
          "José Mármol",
          "Juan Anchorena",
          "Juan B. Justo",
          "Juan XXIII",
          "Luján",
          "Kilometro 83",
          "López Camelo",
          "La Fraternidad",
          "La Lucila",
          "La Noria",
          "Lanús",
          "La Paternal",
          "La Plata",
          "La Reja",
          "Las Barrancas",
          "Las Heras",
          "Las Malvinas",
          "L. de la Torre",
          "Lezama",
          "Lezica y Torrezuri",
          "Libertador",
          "Liniers",
          "Llavallol",
          "Lobos",
          "Lomas de Zamora",
          "Longchamps",
          "Los Cardales",
          "Malaver",
          "Manzanares",
          "Maq. Savio",
          "Marcos Paz",
          "Mariano Acosta",
          "Marina Nueva",
          "Martínez",
          "Maschwitz",
          "Matheu",
          "Máximo Paz",
          "Medicina",
          "Mercedes",
          "Merlo",
          "Núñez",
          "Miguelete",
          "Ministro Carranza",
          "Mitre",
          "Monasterio",
          "Monte",
          "Monte Grande",
          "Moreno",
          "Morón",
          "Muñiz",
          "Olivera",
          "Olivos",
          "Once",
          "Otamendi",
          "Pacheco",
          "Palermo",
          "Paso del Rey",
          "Pereyra",
          "Periodismo",
          "Pilar",
          "Plátanos",
          "Policlínico",
          "Retiro LM",
          "P. Turner",
          "S. A. de Padua",
          "Pueyrredón",
          "Punta Chica",
          "Sáenz Peña",
          "Quilmes",
          "Rafael Calzada",
          "P. Marín",
          "Ramos Mejía",
          "Ranelagh",
          "Remedios de Escalada",
          "Ricardo Levene",
          "Ringuelet",
          "Rio Lujan",
          "Rivadavia",
          "Saavedra",
          "San Andrés",
          "San Fernando C",
          "San Fernando R",
          "San Isidro C",
          "San Isidro R",
          "San Justo",
          "San Martín",
          "Abbot",
          "Acassuso",
          "Adela",
          "Adrogué",
          "Agustín de Elía",
          "Alejandro Korn",
          "Alejandro Petión",
          "Altamirano",
          "San Miguel",
          "Aldo Bonzi",
          "Sol y Verde",
          "Sourigues",
          "Tablada",
          "Temperley",
          "Tigre",
          "Tolosa",
          "Tristán Suárez",
          "Turdera",
          "Unión Ferroviaria",
          "Uribelarrea",
          "Vicente Casares",
          "Vicente López",
          "Victoria",
          "Villa Astolfi",
          "Villa Ballester",
          "Villa Crespo",
          "Villa Elisa",
          "Villa España",
          "Villa Luro",
          "Virreyes",
          "Wilde",
          "William Morris",
          "Zamudio",
          "Zapiola",
          "Zeballos",
          "Zelaya",
          "Marinos C. G. Belgrano",
          "Luis Guillón",
          "Santa Catalina",
          "Santa Sofía",
          "Villa Domínico",
          "Santos Lugares",
          "Sarandí",
          "Speratti",
          "Tapiales",
          "Villa Caraza",
          "Villa Diamante",
          "Villa Fiorito",
          "Villa Lugano",
          "Villa Madero",
          "Villa Soldati",
          "Univ. Luján",
          "Zárate",
          "Villa del Parque",
          "El Palomar",
          "S. y Kosteki",
          "Buenos Aires"
         ],
         "lat": [
          -34.7714637,
          -34.7607983,
          -34.7186633,
          -34.7044639,
          -34.708965,
          -34.7506533,
          -34.7188075,
          -34.6921774,
          -34.7564804,
          -34.6901777,
          -34.6661376,
          -34.6614611,
          -34.7223687,
          -34.6996965,
          -34.574712,
          -34.7105416,
          -34.7124465,
          -34.6971714,
          -35.4497875,
          -34.6801742,
          -34.710762,
          -34.6490835,
          -34.7802549,
          -34.5717485,
          -34.6278504,
          -34.7100582,
          -34.4091705,
          -34.9863555,
          -34.9049408,
          -34.4796651,
          -34.7436106,
          -34.4608043,
          -34.5588016,
          -34.5680506,
          -34.5638352,
          -34.7640977,
          -34.7092611,
          -34.5081513,
          -34.8195986,
          -34.8251482,
          -34.6192442,
          -34.4878244,
          -34.1565823,
          -34.4299116,
          -35.0592254,
          -34.2866198,
          -34.9099069,
          -34.4375361,
          -34.6045861,
          -34.6521562,
          -34.542232,
          -34.8657239,
          -34.6399227,
          -34.80118,
          -34.5652607,
          -34.5729746,
          -34.808388,
          -34.419003,
          -34.4909537,
          -34.6026515,
          -34.920327,
          -34.7033242,
          -34.4720989,
          -34.5230887,
          -34.8332274,
          -34.4627922,
          -35.1514876,
          -34.3494239,
          -34.8540842,
          -34.7518509,
          -34.706078,
          -34.8111227,
          -34.6323755,
          -34.5304745,
          -34.6301709,
          -34.5881302,
          -34.6857287,
          -34.8886501,
          -34.879841,
          -35.0701752,
          -34.6481153,
          -34.6322048,
          -35.1677373,
          -34.421623,
          -35.5790842,
          -34.5130886,
          -34.6478196,
          -34.9179155,
          -34.8332066,
          -34.6445334,
          -34.6536422,
          -34.8923029,
          -34.7862792,
          -34.7911192,
          -34.5911517,
          -34.5684173,
          -34.9033642,
          -34.7434594,
          -34.5347067,
          -34.6580457,
          -34.5193436,
          -34.6596506,
          -34.6006273,
          -35.2776676,
          -34.6088711,
          -34.791958,
          -34.4891115,
          -34.5425501,
          -34.7713636,
          -34.5776869,
          -34.1602209,
          -34.4468958,
          -34.5984003,
          -34.4975978,
          -35.1651382,
          -34.7074543,
          -34.5969831,
          -34.9038945,
          -34.6397171,
          -34.4722137,
          -34.9279395,
          -34.616072,
          -34.5625299,
          -35.8738929,
          -34.5846051,
          -34.5027276,
          -34.6388728,
          -34.7970708,
          -35.1853363,
          -34.7610318,
          -34.8595879,
          -34.330977,
          -34.5573725,
          -34.4522459,
          -34.4067502,
          -34.7830555,
          -34.7243253,
          -34.4445522,
          -34.4885346,
          -34.3830219,
          -34.3828607,
          -34.9362878,
          -34.9090514,
          -34.6574937,
          -34.6644693,
          -34.5482911,
          -34.5810718,
          -34.575705,
          -34.5154718,
          -35.7637431,
          -35.4366533,
          -34.8144339,
          -34.6504439,
          -34.6482227,
          -34.5513662,
          -34.6279272,
          -34.5077139,
          -34.6086496,
          -34.2222066,
          -34.4558335,
          -34.5796614,
          -34.6582665,
          -34.8366304,
          -34.9122051,
          -34.4687433,
          -34.7823359,
          -34.9253053,
          -34.5899757,
          -34.7332318,
          -34.6654259,
          -34.5804962,
          -34.4506585,
          -34.6031533,
          -34.7246461,
          -34.7966735,
          -34.6227343,
          -34.6404544,
          -34.7893721,
          -34.7270922,
          -35.0216179,
          -34.8813876,
          -34.2778567,
          -34.5365204,
          -34.5540735,
          -34.5635642,
          -34.4443381,
          -34.4375367,
          -34.4722074,
          -34.4654466,
          -34.6741934,
          -34.5734195,
          -35.2814201,
          -34.4800686,
          -35.6839055,
          -34.7978483,
          -34.7099772,
          -34.9804097,
          -34.9775385,
          -35.3611696,
          -34.5431069,
          -34.7106549,
          -34.5039897,
          -34.8065811,
          -34.6930707,
          -34.7759243,
          -34.423567,
          -34.8909547,
          -34.8892028,
          -34.7950533,
          -34.8701194,
          -35.1154841,
          -34.9621814,
          -34.5247233,
          -34.4561533,
          -34.4786824,
          -34.5501584,
          -34.5933908,
          -34.8495861,
          -34.7744501,
          -34.6362494,
          -34.4506827,
          -34.6975894,
          -34.5784645,
          -34.8578991,
          -35.0583029,
          -34.8106377,
          -34.3703514,
          -34.7086815,
          -34.8032178,
          -34.7804203,
          -34.8250279,
          -34.6915355,
          -34.6036745,
          -34.6787475,
          -35.0021051,
          -34.7025293,
          -34.6980032,
          -34.6817442,
          -34.7053789,
          -34.67713,
          -34.6840978,
          -34.6622014,
          -34.5774242,
          -34.0979051,
          -34.6013699,
          -34.604926,
          -34.6613896,
          -34.6455629
         ],
         "legendgroup": "tren",
         "lon": [
          -58.6465457,
          -58.6173412,
          -58.4621518,
          -58.5879899,
          -58.5519393,
          -58.58425,
          -58.4727139,
          -58.6861877,
          -58.6020446,
          -58.5076299,
          -58.4502223,
          -58.414587,
          -58.5307279,
          -58.6261936,
          -58.4878391,
          -58.5063521,
          -58.5238732,
          -58.6462658,
          -58.0937313,
          -58.7602409,
          -58.537256,
          -58.4158387,
          -58.7378366,
          -58.4249824,
          -58.4661766,
          -58.5059269,
          -58.6847612,
          -58.6895825,
          -57.9431423,
          -58.6029298,
          -58.3954246,
          -58.5265437,
          -58.4489445,
          -58.4618081,
          -58.6845919,
          -58.2084433,
          -58.280569,
          -58.4845536,
          -58.2300795,
          -58.3913722,
          -58.4436522,
          -59.075658,
          -58.9610031,
          -58.5629211,
          -58.7541775,
          -59.1021904,
          -58.5942645,
          -58.5674401,
          -58.5644918,
          -58.6425261,
          -58.566917,
          -58.0420495,
          -58.5411225,
          -58.3382367,
          -58.4753485,
          -58.448253,
          -58.3048296,
          -58.5761953,
          -58.8384456,
          -58.5124313,
          -57.9190436,
          -58.2961718,
          -58.5744514,
          -58.49413,
          -58.4961652,
          -58.6460044,
          -59.0907406,
          -58.7953571,
          -58.5228154,
          -58.2341863,
          -58.7794327,
          -58.2742679,
          -58.4808913,
          -58.4944563,
          -58.3805834,
          -58.3756885,
          -58.3826371,
          -58.3837029,
          -58.0107856,
          -58.2906247,
          -58.4199555,
          -58.8553185,
          -58.2320146,
          -58.7365407,
          -57.9823866,
          -58.487579,
          -59.352839,
          -58.3805605,
          -58.188026,
          -58.5918534,
          -58.3788878,
          -58.917861,
          -58.4072878,
          -58.1552692,
          -58.6322349,
          -58.4789912,
          -57.9357323,
          -58.465016,
          -58.5759809,
          -58.5730377,
          -58.7494301,
          -58.6663871,
          -59.1734876,
          -58.1982603,
          -58.952925,
          -58.380941,
          -58.4812172,
          -58.494657,
          -58.4441098,
          -59.1050924,
          -58.977169,
          -58.6773897,
          -58.997844,
          -58.4884466,
          -58.7881853,
          -58.390637,
          -58.467118,
          -57.950174,
          -58.8284581,
          -58.4934212,
          -58.9444298,
          -58.9220842,
          -58.4367116,
          -57.8954007,
          -59.0567847,
          -58.4821262,
          -58.5263409,
          -58.4291553,
          -59.0927924,
          -58.3973127,
          -58.3871987,
          -58.9872035,
          -58.5479328,
          -59.0067549,
          -58.7723202,
          -58.836545,
          -58.7929542,
          -58.5390515,
          -58.4965804,
          -58.7362697,
          -58.8296505,
          -58.6205451,
          -57.9278447,
          -59.4336661,
          -58.727685,
          -58.4628516,
          -58.5170793,
          -58.435404,
          -58.4896092,
          -57.9250604,
          -58.8176656,
          -58.4696989,
          -58.7895979,
          -58.6198135,
          -58.7033147,
          -59.2553985,
          -58.4806636,
          -58.4088675,
          -58.8965515,
          -58.6201168,
          -58.4274154,
          -58.7619414,
          -58.0945403,
          -57.9242646,
          -58.9079062,
          -58.1707596,
          -57.9213044,
          -58.376129,
          -58.4748755,
          -58.6979972,
          -58.501898,
          -58.5236988,
          -58.5274629,
          -58.2606591,
          -58.3591724,
          -58.893542,
          -58.5643758,
          -58.2031929,
          -58.393661,
          -58.7237738,
          -57.9960622,
          -58.8903315,
          -58.4680326,
          -58.4870632,
          -58.5406609,
          -58.5587407,
          -58.553991,
          -58.5133831,
          -58.5081309,
          -58.555356,
          -58.5319579,
          -58.8029392,
          -58.5038385,
          -57.9539789,
          -58.3942737,
          -58.5059186,
          -58.3738144,
          -58.6743571,
          -58.1512081,
          -58.7150571,
          -58.5141386,
          -58.7976033,
          -58.2127388,
          -58.5280209,
          -58.3963571,
          -58.5817289,
          -57.9680983,
          -58.5677383,
          -58.4078781,
          -58.5432637,
          -58.8984676,
          -58.647847,
          -58.4728065,
          -58.5411284,
          -58.8768343,
          -58.5570784,
          -58.4483617,
          -58.0751851,
          -58.1949303,
          -58.5021311,
          -58.5507001,
          -58.3111938,
          -58.6565796,
          -58.8921946,
          -59.0418857,
          -58.2594167,
          -58.8683114,
          -58.7307061,
          -58.4485504,
          -58.4373374,
          -58.2132652,
          -58.3253499,
          -58.5407521,
          -58.3449626,
          -58.9998545,
          -58.5115373,
          -58.4290641,
          -58.4283297,
          -58.4409217,
          -58.4769699,
          -58.4925366,
          -58.4408973,
          -59.0874075,
          -59.0378286,
          -58.4935315,
          -58.5956555,
          -58.3768325,
          -58.3939958
         ],
         "marker": {
          "color": "#636efa"
         },
         "mode": "markers",
         "name": "tren",
         "showlegend": true,
         "subplot": "mapbox",
         "type": "scattermapbox"
        },
        {
         "hovertemplate": "<b>%{hovertext}</b><br><br>type=subte<br>lat=%{lat}<br>lon=%{lon}<extra></extra>",
         "hovertext": [
          "CASEROS",
          "INCLAN - MEZQUITA AL AHMAD",
          "HUMBERTO 1°",
          "VENEZUELA",
          "ONCE - 30 DE DICIEMBRE",
          "9 DE JULIO",
          "FACULTAD DE MEDICINA",
          "TRIBUNALES - TEATRO COLÓN",
          "AGÜERO",
          "R.SCALABRINI ORTIZ",
          "PLAZA ITALIA",
          "PALERMO",
          "RETIRO",
          "LAVALLE",
          "DIAGONAL NORTE",
          "AV. DE MAYO",
          "MORENO",
          "INDEPENDENCIA",
          "CONSTITUCION",
          "FLORIDA",
          "C. PELLEGRINI",
          "URUGUAY",
          "CALLAO - MAESTRO ALFREDO BRAVO",
          "PASTEUR - AMIA",
          "PUEYRREDON",
          "CARLOS GARDEL",
          "ALMAGRO - MEDRANO",
          "ANGEL GALLARDO",
          "MALABIA - OSVALDO PUGLIESE",
          "DORREGO",
          "PERU",
          "PIEDRAS",
          "LIMA",
          "SAENZ PEÑA",
          "CONGRESO - PDTE. DR. RAÚL R. ALFONSÍN",
          "PASCO",
          "ALBERTI",
          "PLAZA DE MISERERE",
          "LORIA",
          "CASTRO BARROS",
          "RIO DE JANEIRO",
          "ACOYTE",
          "PRIMERA JUNTA",
          "BOLIVAR",
          "BELGRANO",
          "INDEPENDENCIA",
          "SAN JOSE",
          "ENTRE RIOS - RODOLFO WALSH",
          "PICHINCHA",
          "JUJUY",
          "URQUIZA",
          "JOSE MARIA MORENO",
          "EMILIO MITRE",
          "BULNES",
          "PUEYRREDON",
          "CALLAO",
          "SAN MARTIN",
          "SAN JUAN",
          "MEDALLA MILAGROSA",
          "AV. LA PLATA",
          "BOEDO",
          "MINISTRO CARRANZA - MIGUEL ABUELO",
          "OLLEROS",
          "JOSE HERNANDEZ",
          "JURAMENTO",
          "FEDERICO LACROZE",
          "PLAZA DE LOS VIRREYES - EVA PERON",
          "VARELA",
          "CATEDRAL",
          "PLAZA DE MAYO",
          "CONGRESO DE TUCUMAN",
          "LEANDRO N. ALEM",
          "TRONADOR - VILLA ORTÚZAR",
          "DE LOS INCAS -PQUE. CHAS",
          "CARABOBO",
          "PUAN",
          "CORRIENTES",
          "PARQUE PATRICIOS",
          "HOSPITALES",
          "ECHEVERRÍA",
          "JUAN MANUEL DE ROSAS - VILLA URQUIZA",
          "SAN PEDRITO",
          "SAN JOSÉ DE FLORES",
          "CÓRDOBA",
          "LAS HERAS",
          "SANTA FE - CARLOS JAUREGUI",
          "FACULTAD DE DERECHO - JULIETA LANTERI",
          "RETIRO",
          "CATALINAS",
          "CORREO CENTRAL"
         ],
         "lat": [
          -34.635750180343,
          -34.6293756575728,
          -34.6230923205019,
          -34.6152421522706,
          -34.6089352416215,
          -34.6042452029629,
          -34.5997570807639,
          -34.6015871651394,
          -34.5916278437199,
          -34.5851559440493,
          -34.5814111936045,
          -34.5784220227904,
          -34.5911938083332,
          -34.6017699230114,
          -34.604843739914,
          -34.6089833148827,
          -34.6126172798037,
          -34.6181255992933,
          -34.6276194522548,
          -34.6032972855775,
          -34.6036371051817,
          -34.6040935531057,
          -34.6044195428608,
          -34.6046429679193,
          -34.6045810553512,
          -34.6040795173475,
          -34.6031649010973,
          -34.6021622293427,
          -34.5989673641588,
          -34.5917181536198,
          -34.6085590738532,
          -34.608881721215,
          -34.6090998065519,
          -34.6094125865027,
          -34.6092256843174,
          -34.6096459617052,
          -34.6098335784398,
          -34.6098172456706,
          -34.6107816904504,
          -34.6117702291255,
          -34.6152056103312,
          -34.6182799671446,
          -34.6204052128589,
          -34.6092424288608,
          -34.6128491058186,
          -34.6179373939772,
          -34.6223394919367,
          -34.6227196661278,
          -34.6231098657791,
          -34.6238657115835,
          -34.6246537864662,
          -34.6280175487742,
          -34.6310418421655,
          -34.5882371084182,
          -34.5944257186285,
          -34.599639552419,
          -34.5950574047792,
          -34.6219167322081,
          -34.6363891893858,
          -34.627015467002,
          -34.6253661058926,
          -34.5751783641113,
          -34.5700123078257,
          -34.5662152421589,
          -34.5623090869974,
          -34.5871978529904,
          -34.6433121624098,
          -34.640137352298,
          -34.6078023364289,
          -34.6088103091689,
          -34.5556417664261,
          -34.6029894966332,
          -34.5840946201161,
          -34.5812488459579,
          -34.6266665931803,
          -34.6235289528893,
          -34.6044902016081,
          -34.6384059882851,
          -34.6412689433909,
          -34.5777973775423,
          -34.5743189142748,
          -34.630707087006,
          -34.629087226797,
          -34.5984551117734,
          -34.5874615464262,
          -34.5945253962188,
          -34.5830363400093,
          -34.592114361931,
          -34.596596818975,
          -34.6030139059231
         ],
         "legendgroup": "subte",
         "lon": [
          -58.3989275853601,
          -58.4009695560165,
          -58.402322730424,
          -58.40473171649,
          -58.4060363810352,
          -58.3805743428896,
          -58.3979237555734,
          -58.3851423588013,
          -58.4071613201899,
          -58.4159554190067,
          -58.4211960101264,
          -58.4257114411123,
          -58.3740182164816,
          -58.3781557828244,
          -58.3795299800739,
          -58.3806107179579,
          -58.38044446966,
          -58.3801736104752,
          -58.3814344339343,
          -58.3750715182636,
          -58.3807148471409,
          -58.3872961335408,
          -58.3923142350887,
          -58.399474256679,
          -58.4053994398434,
          -58.4117625996321,
          -58.4209624702706,
          -58.4312738603246,
          -58.4397714984155,
          -58.4475730925312,
          -58.3742677264304,
          -58.3790851530908,
          -58.3822324010181,
          -58.3867771940873,
          -58.3926688246648,
          -58.3984269918123,
          -58.401207534233,
          -58.4067071165088,
          -58.4151857088376,
          -58.4218156713706,
          -58.4295003232997,
          -58.4364285288493,
          -58.4411776251109,
          -58.3736842241685,
          -58.3775808865406,
          -58.3815349417122,
          -58.3851485496238,
          -58.3915116999715,
          -58.3970680746626,
          -58.4029365802561,
          -58.4093907834436,
          -58.4338162502395,
          -58.4421707059652,
          -58.4112939013936,
          -58.4023953425351,
          -58.3931251809727,
          -58.3778190509867,
          -58.3799211788651,
          -58.4502782563709,
          -58.4267890228972,
          -58.4155328189678,
          -58.4350135337338,
          -58.4446681483349,
          -58.4521256033889,
          -58.456489134589,
          -58.455029286281,
          -58.4616517616898,
          -58.4578917557731,
          -58.3739558069511,
          -58.3709684989674,
          -58.4623784082243,
          -58.3699298501224,
          -58.4662272046921,
          -58.4742408261771,
          -58.4567097975238,
          -58.4486476540264,
          -58.4054503284842,
          -58.4057948259686,
          -58.4123851512005,
          -58.4810135036721,
          -58.4863853478891,
          -58.4696396292247,
          -58.4635405106286,
          -58.4037214964387,
          -58.3972155751019,
          -58.4023761750349,
          -58.39101882656,
          -58.3758498374305,
          -58.3717003329901,
          -58.3704125010713
         ],
         "marker": {
          "color": "#EF553B"
         },
         "mode": "markers",
         "name": "subte",
         "showlegend": true,
         "subplot": "mapbox",
         "type": "scattermapbox"
        },
        {
         "hovertemplate": "<b>%{hovertext}</b><br><br>type=premetro<br>lat=%{lat}<br>lon=%{lon}<extra></extra>",
         "hovertext": [
          "INTENDENTE SAGUIER",
          "BALBASTRO (Cementerio de Flores)",
          "ANA MARÍA JANER",
          "FERNANDEZ DE LA CRUZ",
          "PTE. ILLIA (Lacarra)",
          "PARQUE DE LA CIUDAD",
          "CECILIA GRIERSON",
          "ESCALADA",
          "GENERAL SAVIO",
          "GABINO EZEIZA (Av. Cnel. Roca)",
          "NICOLÁS DESCALZI",
          "LARRAZÁBAL",
          "CENTRO CIVICO LUGANO",
          "ANA DÍAZ",
          "MARIANO ACOSTA (Bo. R. Carrillo)",
          "SOMELLERA",
          "NTRA. SRA. DE FÁTIMA",
          "POLA"
         ],
         "lat": [
          -34.6437565970805,
          -34.6486005420351,
          -34.6594991467729,
          -34.6622249467795,
          -34.6653680271808,
          -34.6690901145736,
          -34.6724582308545,
          -34.6745264482372,
          -34.6883531329925,
          -34.686081208835,
          -34.6830667667194,
          -34.6805719548239,
          -34.6824577608497,
          -34.6808829242265,
          -34.6544327801137,
          -34.6564409551024,
          -34.6604582616429,
          -34.6781309500937
         ],
         "legendgroup": "premetro",
         "lon": [
          -58.4614910346889,
          -58.4564145813745,
          -58.4500470792493,
          -58.4466067042219,
          -58.4485133000082,
          -58.4543251886428,
          -58.4579600157419,
          -58.4600751595769,
          -58.4595995738502,
          -58.4580715309316,
          -58.4620442328871,
          -58.4653695788337,
          -58.466124720094,
          -58.466923438707,
          -58.4564801393051,
          -58.4539052789963,
          -58.4488613949717,
          -58.4644621725649
         ],
         "marker": {
          "color": "#00cc96"
         },
         "mode": "markers",
         "name": "premetro",
         "showlegend": true,
         "subplot": "mapbox",
         "type": "scattermapbox"
        }
       ],
       "layout": {
        "height": 800,
        "legend": {
         "title": {
          "text": "type"
         },
         "tracegroupgap": 0
        },
        "mapbox": {
         "bearing": 0,
         "center": {
          "lat": -34.771270836083794,
          "lon": -58.33499852819983
         },
         "domain": {
          "x": [
           0,
           1
          ],
          "y": [
           0,
           1
          ]
         },
         "pitch": 0,
         "style": "open-street-map",
         "zoom": 8.588541277244087
        },
        "margin": {
         "b": 0,
         "l": 0,
         "r": 0,
         "t": 0
        },
        "template": {
         "data": {
          "bar": [
           {
            "error_x": {
             "color": "#2a3f5f"
            },
            "error_y": {
             "color": "#2a3f5f"
            },
            "marker": {
             "line": {
              "color": "#E5ECF6",
              "width": 0.5
             },
             "pattern": {
              "fillmode": "overlay",
              "size": 10,
              "solidity": 0.2
             }
            },
            "type": "bar"
           }
          ],
          "barpolar": [
           {
            "marker": {
             "line": {
              "color": "#E5ECF6",
              "width": 0.5
             },
             "pattern": {
              "fillmode": "overlay",
              "size": 10,
              "solidity": 0.2
             }
            },
            "type": "barpolar"
           }
          ],
          "carpet": [
           {
            "aaxis": {
             "endlinecolor": "#2a3f5f",
             "gridcolor": "white",
             "linecolor": "white",
             "minorgridcolor": "white",
             "startlinecolor": "#2a3f5f"
            },
            "baxis": {
             "endlinecolor": "#2a3f5f",
             "gridcolor": "white",
             "linecolor": "white",
             "minorgridcolor": "white",
             "startlinecolor": "#2a3f5f"
            },
            "type": "carpet"
           }
          ],
          "choropleth": [
           {
            "colorbar": {
             "outlinewidth": 0,
             "ticks": ""
            },
            "type": "choropleth"
           }
          ],
          "contour": [
           {
            "colorbar": {
             "outlinewidth": 0,
             "ticks": ""
            },
            "colorscale": [
             [
              0,
              "#0d0887"
             ],
             [
              0.1111111111111111,
              "#46039f"
             ],
             [
              0.2222222222222222,
              "#7201a8"
             ],
             [
              0.3333333333333333,
              "#9c179e"
             ],
             [
              0.4444444444444444,
              "#bd3786"
             ],
             [
              0.5555555555555556,
              "#d8576b"
             ],
             [
              0.6666666666666666,
              "#ed7953"
             ],
             [
              0.7777777777777778,
              "#fb9f3a"
             ],
             [
              0.8888888888888888,
              "#fdca26"
             ],
             [
              1,
              "#f0f921"
             ]
            ],
            "type": "contour"
           }
          ],
          "contourcarpet": [
           {
            "colorbar": {
             "outlinewidth": 0,
             "ticks": ""
            },
            "type": "contourcarpet"
           }
          ],
          "heatmap": [
           {
            "colorbar": {
             "outlinewidth": 0,
             "ticks": ""
            },
            "colorscale": [
             [
              0,
              "#0d0887"
             ],
             [
              0.1111111111111111,
              "#46039f"
             ],
             [
              0.2222222222222222,
              "#7201a8"
             ],
             [
              0.3333333333333333,
              "#9c179e"
             ],
             [
              0.4444444444444444,
              "#bd3786"
             ],
             [
              0.5555555555555556,
              "#d8576b"
             ],
             [
              0.6666666666666666,
              "#ed7953"
             ],
             [
              0.7777777777777778,
              "#fb9f3a"
             ],
             [
              0.8888888888888888,
              "#fdca26"
             ],
             [
              1,
              "#f0f921"
             ]
            ],
            "type": "heatmap"
           }
          ],
          "heatmapgl": [
           {
            "colorbar": {
             "outlinewidth": 0,
             "ticks": ""
            },
            "colorscale": [
             [
              0,
              "#0d0887"
             ],
             [
              0.1111111111111111,
              "#46039f"
             ],
             [
              0.2222222222222222,
              "#7201a8"
             ],
             [
              0.3333333333333333,
              "#9c179e"
             ],
             [
              0.4444444444444444,
              "#bd3786"
             ],
             [
              0.5555555555555556,
              "#d8576b"
             ],
             [
              0.6666666666666666,
              "#ed7953"
             ],
             [
              0.7777777777777778,
              "#fb9f3a"
             ],
             [
              0.8888888888888888,
              "#fdca26"
             ],
             [
              1,
              "#f0f921"
             ]
            ],
            "type": "heatmapgl"
           }
          ],
          "histogram": [
           {
            "marker": {
             "pattern": {
              "fillmode": "overlay",
              "size": 10,
              "solidity": 0.2
             }
            },
            "type": "histogram"
           }
          ],
          "histogram2d": [
           {
            "colorbar": {
             "outlinewidth": 0,
             "ticks": ""
            },
            "colorscale": [
             [
              0,
              "#0d0887"
             ],
             [
              0.1111111111111111,
              "#46039f"
             ],
             [
              0.2222222222222222,
              "#7201a8"
             ],
             [
              0.3333333333333333,
              "#9c179e"
             ],
             [
              0.4444444444444444,
              "#bd3786"
             ],
             [
              0.5555555555555556,
              "#d8576b"
             ],
             [
              0.6666666666666666,
              "#ed7953"
             ],
             [
              0.7777777777777778,
              "#fb9f3a"
             ],
             [
              0.8888888888888888,
              "#fdca26"
             ],
             [
              1,
              "#f0f921"
             ]
            ],
            "type": "histogram2d"
           }
          ],
          "histogram2dcontour": [
           {
            "colorbar": {
             "outlinewidth": 0,
             "ticks": ""
            },
            "colorscale": [
             [
              0,
              "#0d0887"
             ],
             [
              0.1111111111111111,
              "#46039f"
             ],
             [
              0.2222222222222222,
              "#7201a8"
             ],
             [
              0.3333333333333333,
              "#9c179e"
             ],
             [
              0.4444444444444444,
              "#bd3786"
             ],
             [
              0.5555555555555556,
              "#d8576b"
             ],
             [
              0.6666666666666666,
              "#ed7953"
             ],
             [
              0.7777777777777778,
              "#fb9f3a"
             ],
             [
              0.8888888888888888,
              "#fdca26"
             ],
             [
              1,
              "#f0f921"
             ]
            ],
            "type": "histogram2dcontour"
           }
          ],
          "mesh3d": [
           {
            "colorbar": {
             "outlinewidth": 0,
             "ticks": ""
            },
            "type": "mesh3d"
           }
          ],
          "parcoords": [
           {
            "line": {
             "colorbar": {
              "outlinewidth": 0,
              "ticks": ""
             }
            },
            "type": "parcoords"
           }
          ],
          "pie": [
           {
            "automargin": true,
            "type": "pie"
           }
          ],
          "scatter": [
           {
            "fillpattern": {
             "fillmode": "overlay",
             "size": 10,
             "solidity": 0.2
            },
            "type": "scatter"
           }
          ],
          "scatter3d": [
           {
            "line": {
             "colorbar": {
              "outlinewidth": 0,
              "ticks": ""
             }
            },
            "marker": {
             "colorbar": {
              "outlinewidth": 0,
              "ticks": ""
             }
            },
            "type": "scatter3d"
           }
          ],
          "scattercarpet": [
           {
            "marker": {
             "colorbar": {
              "outlinewidth": 0,
              "ticks": ""
             }
            },
            "type": "scattercarpet"
           }
          ],
          "scattergeo": [
           {
            "marker": {
             "colorbar": {
              "outlinewidth": 0,
              "ticks": ""
             }
            },
            "type": "scattergeo"
           }
          ],
          "scattergl": [
           {
            "marker": {
             "colorbar": {
              "outlinewidth": 0,
              "ticks": ""
             }
            },
            "type": "scattergl"
           }
          ],
          "scattermapbox": [
           {
            "marker": {
             "colorbar": {
              "outlinewidth": 0,
              "ticks": ""
             }
            },
            "type": "scattermapbox"
           }
          ],
          "scatterpolar": [
           {
            "marker": {
             "colorbar": {
              "outlinewidth": 0,
              "ticks": ""
             }
            },
            "type": "scatterpolar"
           }
          ],
          "scatterpolargl": [
           {
            "marker": {
             "colorbar": {
              "outlinewidth": 0,
              "ticks": ""
             }
            },
            "type": "scatterpolargl"
           }
          ],
          "scatterternary": [
           {
            "marker": {
             "colorbar": {
              "outlinewidth": 0,
              "ticks": ""
             }
            },
            "type": "scatterternary"
           }
          ],
          "surface": [
           {
            "colorbar": {
             "outlinewidth": 0,
             "ticks": ""
            },
            "colorscale": [
             [
              0,
              "#0d0887"
             ],
             [
              0.1111111111111111,
              "#46039f"
             ],
             [
              0.2222222222222222,
              "#7201a8"
             ],
             [
              0.3333333333333333,
              "#9c179e"
             ],
             [
              0.4444444444444444,
              "#bd3786"
             ],
             [
              0.5555555555555556,
              "#d8576b"
             ],
             [
              0.6666666666666666,
              "#ed7953"
             ],
             [
              0.7777777777777778,
              "#fb9f3a"
             ],
             [
              0.8888888888888888,
              "#fdca26"
             ],
             [
              1,
              "#f0f921"
             ]
            ],
            "type": "surface"
           }
          ],
          "table": [
           {
            "cells": {
             "fill": {
              "color": "#EBF0F8"
             },
             "line": {
              "color": "white"
             }
            },
            "header": {
             "fill": {
              "color": "#C8D4E3"
             },
             "line": {
              "color": "white"
             }
            },
            "type": "table"
           }
          ]
         },
         "layout": {
          "annotationdefaults": {
           "arrowcolor": "#2a3f5f",
           "arrowhead": 0,
           "arrowwidth": 1
          },
          "autotypenumbers": "strict",
          "coloraxis": {
           "colorbar": {
            "outlinewidth": 0,
            "ticks": ""
           }
          },
          "colorscale": {
           "diverging": [
            [
             0,
             "#8e0152"
            ],
            [
             0.1,
             "#c51b7d"
            ],
            [
             0.2,
             "#de77ae"
            ],
            [
             0.3,
             "#f1b6da"
            ],
            [
             0.4,
             "#fde0ef"
            ],
            [
             0.5,
             "#f7f7f7"
            ],
            [
             0.6,
             "#e6f5d0"
            ],
            [
             0.7,
             "#b8e186"
            ],
            [
             0.8,
             "#7fbc41"
            ],
            [
             0.9,
             "#4d9221"
            ],
            [
             1,
             "#276419"
            ]
           ],
           "sequential": [
            [
             0,
             "#0d0887"
            ],
            [
             0.1111111111111111,
             "#46039f"
            ],
            [
             0.2222222222222222,
             "#7201a8"
            ],
            [
             0.3333333333333333,
             "#9c179e"
            ],
            [
             0.4444444444444444,
             "#bd3786"
            ],
            [
             0.5555555555555556,
             "#d8576b"
            ],
            [
             0.6666666666666666,
             "#ed7953"
            ],
            [
             0.7777777777777778,
             "#fb9f3a"
            ],
            [
             0.8888888888888888,
             "#fdca26"
            ],
            [
             1,
             "#f0f921"
            ]
           ],
           "sequentialminus": [
            [
             0,
             "#0d0887"
            ],
            [
             0.1111111111111111,
             "#46039f"
            ],
            [
             0.2222222222222222,
             "#7201a8"
            ],
            [
             0.3333333333333333,
             "#9c179e"
            ],
            [
             0.4444444444444444,
             "#bd3786"
            ],
            [
             0.5555555555555556,
             "#d8576b"
            ],
            [
             0.6666666666666666,
             "#ed7953"
            ],
            [
             0.7777777777777778,
             "#fb9f3a"
            ],
            [
             0.8888888888888888,
             "#fdca26"
            ],
            [
             1,
             "#f0f921"
            ]
           ]
          },
          "colorway": [
           "#636efa",
           "#EF553B",
           "#00cc96",
           "#ab63fa",
           "#FFA15A",
           "#19d3f3",
           "#FF6692",
           "#B6E880",
           "#FF97FF",
           "#FECB52"
          ],
          "font": {
           "color": "#2a3f5f"
          },
          "geo": {
           "bgcolor": "white",
           "lakecolor": "white",
           "landcolor": "#E5ECF6",
           "showlakes": true,
           "showland": true,
           "subunitcolor": "white"
          },
          "hoverlabel": {
           "align": "left"
          },
          "hovermode": "closest",
          "mapbox": {
           "style": "light"
          },
          "paper_bgcolor": "white",
          "plot_bgcolor": "#E5ECF6",
          "polar": {
           "angularaxis": {
            "gridcolor": "white",
            "linecolor": "white",
            "ticks": ""
           },
           "bgcolor": "#E5ECF6",
           "radialaxis": {
            "gridcolor": "white",
            "linecolor": "white",
            "ticks": ""
           }
          },
          "scene": {
           "xaxis": {
            "backgroundcolor": "#E5ECF6",
            "gridcolor": "white",
            "gridwidth": 2,
            "linecolor": "white",
            "showbackground": true,
            "ticks": "",
            "zerolinecolor": "white"
           },
           "yaxis": {
            "backgroundcolor": "#E5ECF6",
            "gridcolor": "white",
            "gridwidth": 2,
            "linecolor": "white",
            "showbackground": true,
            "ticks": "",
            "zerolinecolor": "white"
           },
           "zaxis": {
            "backgroundcolor": "#E5ECF6",
            "gridcolor": "white",
            "gridwidth": 2,
            "linecolor": "white",
            "showbackground": true,
            "ticks": "",
            "zerolinecolor": "white"
           }
          },
          "shapedefaults": {
           "line": {
            "color": "#2a3f5f"
           }
          },
          "ternary": {
           "aaxis": {
            "gridcolor": "white",
            "linecolor": "white",
            "ticks": ""
           },
           "baxis": {
            "gridcolor": "white",
            "linecolor": "white",
            "ticks": ""
           },
           "bgcolor": "#E5ECF6",
           "caxis": {
            "gridcolor": "white",
            "linecolor": "white",
            "ticks": ""
           }
          },
          "title": {
           "x": 0.05
          },
          "xaxis": {
           "automargin": true,
           "gridcolor": "white",
           "linecolor": "white",
           "ticks": "",
           "title": {
            "standoff": 15
           },
           "zerolinecolor": "white",
           "zerolinewidth": 2
          },
          "yaxis": {
           "automargin": true,
           "gridcolor": "white",
           "linecolor": "white",
           "ticks": "",
           "title": {
            "standoff": 15
           },
           "zerolinecolor": "white",
           "zerolinewidth": 2
          }
         }
        },
        "width": 1600
       }
      },
      "text/html": [
       "<div>                            <div id=\"1ade46e8-6777-454a-bee2-45524c3315bf\" class=\"plotly-graph-div\" style=\"height:800px; width:1600px;\"></div>            <script type=\"text/javascript\">                require([\"plotly\"], function(Plotly) {                    window.PLOTLYENV=window.PLOTLYENV || {};                                    if (document.getElementById(\"1ade46e8-6777-454a-bee2-45524c3315bf\")) {                    Plotly.newPlot(                        \"1ade46e8-6777-454a-bee2-45524c3315bf\",                        [{\"hovertemplate\":\"<b>%{hovertext}</b><br><br>type=tren<br>lat=%{lat}<br>lon=%{lon}<extra></extra>\",\"hovertext\":[\"Gonz\\u00e1lez Cat\\u00e1n\",\"Independencia\",\"Ing. Budge\",\"Isidro Casanova\",\"Justo Villegas\",\"Laferrere\",\"La Salada\",\"Libertad\",\"Mar\\u00eda Eva Duarte\",\"Marinos del Fournier\",\"Presidente Illia\",\"Puente Alsina\",\"Querand\\u00ed\",\"Rafael Castillo\",\"General Urquiza\",\"Ingeniero Castello\",\"S\\u00e1nchez de Mendeville\",\"Merlo G\\u00f3mez\",\"G\\u00e1ndara\",\"Km. 34,5\",\"Jos\\u00e9 Ingenieros\",\"Dr. S\\u00e1enz nueva\",\"20 de Junio\",\"3 de Febrero\",\"Flores\",\"Apeadero Km. 12\",\"Benav\\u00eddez\",\"Apeadero Kloosterman\",\"Arquitectura\",\"Bancalari\",\"Banfield\",\"B\\u00e9ccar\",\"Belgrano C\",\"Belgrano R\",\"Bella Vista\",\"Berazategui\",\"Bernal\",\"Borges\",\"Bosques\",\"Burzaco\",\"Caballito\",\"Cabred\",\"Campana\",\"Canal San Fernando\",\"Ca\\u00f1uelas\",\"Capilla del Se\\u00f1or\",\"Carlos Spegazzini\",\"Carup\\u00e1\",\"Caseros\",\"Castelar\",\"Chilavert\",\"City Bell\",\"Ciudadela\",\"Claypole\",\"Coghlan\",\"Colegiales\",\"Dante Ardig\\u00f3\",\"Delta\",\"Derqui\",\"Devoto\",\"Diagonal 73\",\"Don Bosco\",\"Dr. A. Schweitzer\",\"Dr. Cetr\\u00e1ngolo\",\"El Jag\\u00fcel\",\"El Talar\",\"Empalme Lobos\",\"Escobar\",\"Ezeiza\",\"Ezpeleta\",\"Ferrari\",\"Florencio Varela\",\"Floresta\",\"Florida\",\"Constituci\\u00f3n\",\"Retiro LSM\",\"Gerli\",\"Glew\",\"Gonnet\",\"Domselaar\",\"Dr. S\\u00e1enz\",\"F. \\u00c1lvarez\",\"Cnel. Brandsen\",\"Gar\\u00edn\",\"Chascom\\u00fas\",\"Maip\\u00fa\",\"Gowland\",\"Guernica\",\"Guti\\u00e9rrez\",\"Haedo\",\"Hip\\u00f3lito Yrigoyen\",\"Hornos\",\"Hospital Espa\\u00f1ol\",\"Hudson\",\"Hurlingham\",\"L. M. Drago\",\"Inform\\u00e1tica\",\"Km. 34\",\"J. L. Su\\u00e1rez\",\"Ingeniero S. Brian\",\"Jos\\u00e9 C. Paz\",\"Ituzaing\\u00f3\",\"J\\u00e1uregui\",\"Jeppener\",\"Gral. Rodr\\u00edguez\",\"Jos\\u00e9 M\\u00e1rmol\",\"Juan Anchorena\",\"Juan B. Justo\",\"Juan XXIII\",\"Luj\\u00e1n\",\"Kilometro 83\",\"L\\u00f3pez Camelo\",\"La Fraternidad\",\"La Lucila\",\"La Noria\",\"Lan\\u00fas\",\"La Paternal\",\"La Plata\",\"La Reja\",\"Las Barrancas\",\"Las Heras\",\"Las Malvinas\",\"L. de la Torre\",\"Lezama\",\"Lezica y Torrezuri\",\"Libertador\",\"Liniers\",\"Llavallol\",\"Lobos\",\"Lomas de Zamora\",\"Longchamps\",\"Los Cardales\",\"Malaver\",\"Manzanares\",\"Maq. Savio\",\"Marcos Paz\",\"Mariano Acosta\",\"Marina Nueva\",\"Mart\\u00ednez\",\"Maschwitz\",\"Matheu\",\"M\\u00e1ximo Paz\",\"Medicina\",\"Mercedes\",\"Merlo\",\"N\\u00fa\\u00f1ez\",\"Miguelete\",\"Ministro Carranza\",\"Mitre\",\"Monasterio\",\"Monte\",\"Monte Grande\",\"Moreno\",\"Mor\\u00f3n\",\"Mu\\u00f1iz\",\"Olivera\",\"Olivos\",\"Once\",\"Otamendi\",\"Pacheco\",\"Palermo\",\"Paso del Rey\",\"Pereyra\",\"Periodismo\",\"Pilar\",\"Pl\\u00e1tanos\",\"Policl\\u00ednico\",\"Retiro LM\",\"P. Turner\",\"S. A. de Padua\",\"Pueyrred\\u00f3n\",\"Punta Chica\",\"S\\u00e1enz Pe\\u00f1a\",\"Quilmes\",\"Rafael Calzada\",\"P. Mar\\u00edn\",\"Ramos Mej\\u00eda\",\"Ranelagh\",\"Remedios de Escalada\",\"Ricardo Levene\",\"Ringuelet\",\"Rio Lujan\",\"Rivadavia\",\"Saavedra\",\"San Andr\\u00e9s\",\"San Fernando C\",\"San Fernando R\",\"San Isidro C\",\"San Isidro R\",\"San Justo\",\"San Mart\\u00edn\",\"Abbot\",\"Acassuso\",\"Adela\",\"Adrogu\\u00e9\",\"Agust\\u00edn de El\\u00eda\",\"Alejandro Korn\",\"Alejandro Peti\\u00f3n\",\"Altamirano\",\"San Miguel\",\"Aldo Bonzi\",\"Sol y Verde\",\"Sourigues\",\"Tablada\",\"Temperley\",\"Tigre\",\"Tolosa\",\"Trist\\u00e1n Su\\u00e1rez\",\"Turdera\",\"Uni\\u00f3n Ferroviaria\",\"Uribelarrea\",\"Vicente Casares\",\"Vicente L\\u00f3pez\",\"Victoria\",\"Villa Astolfi\",\"Villa Ballester\",\"Villa Crespo\",\"Villa Elisa\",\"Villa Espa\\u00f1a\",\"Villa Luro\",\"Virreyes\",\"Wilde\",\"William Morris\",\"Zamudio\",\"Zapiola\",\"Zeballos\",\"Zelaya\",\"Marinos C. G. Belgrano\",\"Luis Guill\\u00f3n\",\"Santa Catalina\",\"Santa Sof\\u00eda\",\"Villa Dom\\u00ednico\",\"Santos Lugares\",\"Sarand\\u00ed\",\"Speratti\",\"Tapiales\",\"Villa Caraza\",\"Villa Diamante\",\"Villa Fiorito\",\"Villa Lugano\",\"Villa Madero\",\"Villa Soldati\",\"Univ. Luj\\u00e1n\",\"Z\\u00e1rate\",\"Villa del Parque\",\"El Palomar\",\"S. y Kosteki\",\"Buenos Aires\"],\"lat\":[-34.7714637,-34.7607983,-34.7186633,-34.7044639,-34.708965,-34.7506533,-34.7188075,-34.6921774,-34.7564804,-34.6901777,-34.6661376,-34.6614611,-34.7223687,-34.6996965,-34.574712,-34.7105416,-34.7124465,-34.6971714,-35.4497875,-34.6801742,-34.710762,-34.6490835,-34.7802549,-34.5717485,-34.6278504,-34.7100582,-34.4091705,-34.9863555,-34.9049408,-34.4796651,-34.7436106,-34.4608043,-34.5588016,-34.5680506,-34.5638352,-34.7640977,-34.7092611,-34.5081513,-34.8195986,-34.8251482,-34.6192442,-34.4878244,-34.1565823,-34.4299116,-35.0592254,-34.2866198,-34.9099069,-34.4375361,-34.6045861,-34.6521562,-34.542232,-34.8657239,-34.6399227,-34.80118,-34.5652607,-34.5729746,-34.808388,-34.419003,-34.4909537,-34.6026515,-34.920327,-34.7033242,-34.4720989,-34.5230887,-34.8332274,-34.4627922,-35.1514876,-34.3494239,-34.8540842,-34.7518509,-34.706078,-34.8111227,-34.6323755,-34.5304745,-34.6301709,-34.5881302,-34.6857287,-34.8886501,-34.879841,-35.0701752,-34.6481153,-34.6322048,-35.1677373,-34.421623,-35.5790842,-34.5130886,-34.6478196,-34.9179155,-34.8332066,-34.6445334,-34.6536422,-34.8923029,-34.7862792,-34.7911192,-34.5911517,-34.5684173,-34.9033642,-34.7434594,-34.5347067,-34.6580457,-34.5193436,-34.6596506,-34.6006273,-35.2776676,-34.6088711,-34.791958,-34.4891115,-34.5425501,-34.7713636,-34.5776869,-34.1602209,-34.4468958,-34.5984003,-34.4975978,-35.1651382,-34.7074543,-34.5969831,-34.9038945,-34.6397171,-34.4722137,-34.9279395,-34.616072,-34.5625299,-35.8738929,-34.5846051,-34.5027276,-34.6388728,-34.7970708,-35.1853363,-34.7610318,-34.8595879,-34.330977,-34.5573725,-34.4522459,-34.4067502,-34.7830555,-34.7243253,-34.4445522,-34.4885346,-34.3830219,-34.3828607,-34.9362878,-34.9090514,-34.6574937,-34.6644693,-34.5482911,-34.5810718,-34.575705,-34.5154718,-35.7637431,-35.4366533,-34.8144339,-34.6504439,-34.6482227,-34.5513662,-34.6279272,-34.5077139,-34.6086496,-34.2222066,-34.4558335,-34.5796614,-34.6582665,-34.8366304,-34.9122051,-34.4687433,-34.7823359,-34.9253053,-34.5899757,-34.7332318,-34.6654259,-34.5804962,-34.4506585,-34.6031533,-34.7246461,-34.7966735,-34.6227343,-34.6404544,-34.7893721,-34.7270922,-35.0216179,-34.8813876,-34.2778567,-34.5365204,-34.5540735,-34.5635642,-34.4443381,-34.4375367,-34.4722074,-34.4654466,-34.6741934,-34.5734195,-35.2814201,-34.4800686,-35.6839055,-34.7978483,-34.7099772,-34.9804097,-34.9775385,-35.3611696,-34.5431069,-34.7106549,-34.5039897,-34.8065811,-34.6930707,-34.7759243,-34.423567,-34.8909547,-34.8892028,-34.7950533,-34.8701194,-35.1154841,-34.9621814,-34.5247233,-34.4561533,-34.4786824,-34.5501584,-34.5933908,-34.8495861,-34.7744501,-34.6362494,-34.4506827,-34.6975894,-34.5784645,-34.8578991,-35.0583029,-34.8106377,-34.3703514,-34.7086815,-34.8032178,-34.7804203,-34.8250279,-34.6915355,-34.6036745,-34.6787475,-35.0021051,-34.7025293,-34.6980032,-34.6817442,-34.7053789,-34.67713,-34.6840978,-34.6622014,-34.5774242,-34.0979051,-34.6013699,-34.604926,-34.6613896,-34.6455629],\"legendgroup\":\"tren\",\"lon\":[-58.6465457,-58.6173412,-58.4621518,-58.5879899,-58.5519393,-58.58425,-58.4727139,-58.6861877,-58.6020446,-58.5076299,-58.4502223,-58.414587,-58.5307279,-58.6261936,-58.4878391,-58.5063521,-58.5238732,-58.6462658,-58.0937313,-58.7602409,-58.537256,-58.4158387,-58.7378366,-58.4249824,-58.4661766,-58.5059269,-58.6847612,-58.6895825,-57.9431423,-58.6029298,-58.3954246,-58.5265437,-58.4489445,-58.4618081,-58.6845919,-58.2084433,-58.280569,-58.4845536,-58.2300795,-58.3913722,-58.4436522,-59.075658,-58.9610031,-58.5629211,-58.7541775,-59.1021904,-58.5942645,-58.5674401,-58.5644918,-58.6425261,-58.566917,-58.0420495,-58.5411225,-58.3382367,-58.4753485,-58.448253,-58.3048296,-58.5761953,-58.8384456,-58.5124313,-57.9190436,-58.2961718,-58.5744514,-58.49413,-58.4961652,-58.6460044,-59.0907406,-58.7953571,-58.5228154,-58.2341863,-58.7794327,-58.2742679,-58.4808913,-58.4944563,-58.3805834,-58.3756885,-58.3826371,-58.3837029,-58.0107856,-58.2906247,-58.4199555,-58.8553185,-58.2320146,-58.7365407,-57.9823866,-58.487579,-59.352839,-58.3805605,-58.188026,-58.5918534,-58.3788878,-58.917861,-58.4072878,-58.1552692,-58.6322349,-58.4789912,-57.9357323,-58.465016,-58.5759809,-58.5730377,-58.7494301,-58.6663871,-59.1734876,-58.1982603,-58.952925,-58.380941,-58.4812172,-58.494657,-58.4441098,-59.1050924,-58.977169,-58.6773897,-58.997844,-58.4884466,-58.7881853,-58.390637,-58.467118,-57.950174,-58.8284581,-58.4934212,-58.9444298,-58.9220842,-58.4367116,-57.8954007,-59.0567847,-58.4821262,-58.5263409,-58.4291553,-59.0927924,-58.3973127,-58.3871987,-58.9872035,-58.5479328,-59.0067549,-58.7723202,-58.836545,-58.7929542,-58.5390515,-58.4965804,-58.7362697,-58.8296505,-58.6205451,-57.9278447,-59.4336661,-58.727685,-58.4628516,-58.5170793,-58.435404,-58.4896092,-57.9250604,-58.8176656,-58.4696989,-58.7895979,-58.6198135,-58.7033147,-59.2553985,-58.4806636,-58.4088675,-58.8965515,-58.6201168,-58.4274154,-58.7619414,-58.0945403,-57.9242646,-58.9079062,-58.1707596,-57.9213044,-58.376129,-58.4748755,-58.6979972,-58.501898,-58.5236988,-58.5274629,-58.2606591,-58.3591724,-58.893542,-58.5643758,-58.2031929,-58.393661,-58.7237738,-57.9960622,-58.8903315,-58.4680326,-58.4870632,-58.5406609,-58.5587407,-58.553991,-58.5133831,-58.5081309,-58.555356,-58.5319579,-58.8029392,-58.5038385,-57.9539789,-58.3942737,-58.5059186,-58.3738144,-58.6743571,-58.1512081,-58.7150571,-58.5141386,-58.7976033,-58.2127388,-58.5280209,-58.3963571,-58.5817289,-57.9680983,-58.5677383,-58.4078781,-58.5432637,-58.8984676,-58.647847,-58.4728065,-58.5411284,-58.8768343,-58.5570784,-58.4483617,-58.0751851,-58.1949303,-58.5021311,-58.5507001,-58.3111938,-58.6565796,-58.8921946,-59.0418857,-58.2594167,-58.8683114,-58.7307061,-58.4485504,-58.4373374,-58.2132652,-58.3253499,-58.5407521,-58.3449626,-58.9998545,-58.5115373,-58.4290641,-58.4283297,-58.4409217,-58.4769699,-58.4925366,-58.4408973,-59.0874075,-59.0378286,-58.4935315,-58.5956555,-58.3768325,-58.3939958],\"marker\":{\"color\":\"#636efa\"},\"mode\":\"markers\",\"name\":\"tren\",\"showlegend\":true,\"subplot\":\"mapbox\",\"type\":\"scattermapbox\"},{\"hovertemplate\":\"<b>%{hovertext}</b><br><br>type=subte<br>lat=%{lat}<br>lon=%{lon}<extra></extra>\",\"hovertext\":[\"CASEROS\",\"INCLAN - MEZQUITA AL AHMAD\",\"HUMBERTO 1\\u00b0\",\"VENEZUELA\",\"ONCE - 30 DE DICIEMBRE\",\"9 DE JULIO\",\"FACULTAD DE MEDICINA\",\"TRIBUNALES - TEATRO COL\\u00d3N\",\"AG\\u00dcERO\",\"R.SCALABRINI ORTIZ\",\"PLAZA ITALIA\",\"PALERMO\",\"RETIRO\",\"LAVALLE\",\"DIAGONAL NORTE\",\"AV. DE MAYO\",\"MORENO\",\"INDEPENDENCIA\",\"CONSTITUCION\",\"FLORIDA\",\"C. PELLEGRINI\",\"URUGUAY\",\"CALLAO - MAESTRO ALFREDO BRAVO\",\"PASTEUR - AMIA\",\"PUEYRREDON\",\"CARLOS GARDEL\",\"ALMAGRO - MEDRANO\",\"ANGEL GALLARDO\",\"MALABIA - OSVALDO PUGLIESE\",\"DORREGO\",\"PERU\",\"PIEDRAS\",\"LIMA\",\"SAENZ PE\\u00d1A\",\"CONGRESO - PDTE. DR. RA\\u00daL R. ALFONS\\u00cdN\",\"PASCO\",\"ALBERTI\",\"PLAZA DE MISERERE\",\"LORIA\",\"CASTRO BARROS\",\"RIO DE JANEIRO\",\"ACOYTE\",\"PRIMERA JUNTA\",\"BOLIVAR\",\"BELGRANO\",\"INDEPENDENCIA\",\"SAN JOSE\",\"ENTRE RIOS - RODOLFO WALSH\",\"PICHINCHA\",\"JUJUY\",\"URQUIZA\",\"JOSE MARIA MORENO\",\"EMILIO MITRE\",\"BULNES\",\"PUEYRREDON\",\"CALLAO\",\"SAN MARTIN\",\"SAN JUAN\",\"MEDALLA MILAGROSA\",\"AV. LA PLATA\",\"BOEDO\",\"MINISTRO CARRANZA - MIGUEL ABUELO\",\"OLLEROS\",\"JOSE HERNANDEZ\",\"JURAMENTO\",\"FEDERICO LACROZE\",\"PLAZA DE LOS VIRREYES - EVA PERON\",\"VARELA\",\"CATEDRAL\",\"PLAZA DE MAYO\",\"CONGRESO DE TUCUMAN\",\"LEANDRO N. ALEM\",\"TRONADOR - VILLA ORT\\u00daZAR\",\"DE LOS INCAS -PQUE. CHAS\",\"CARABOBO\",\"PUAN\",\"CORRIENTES\",\"PARQUE PATRICIOS\",\"HOSPITALES\",\"ECHEVERR\\u00cdA\",\"JUAN MANUEL DE ROSAS - VILLA URQUIZA\",\"SAN PEDRITO\",\"SAN JOS\\u00c9 DE FLORES\",\"C\\u00d3RDOBA\",\"LAS HERAS\",\"SANTA FE - CARLOS JAUREGUI\",\"FACULTAD DE DERECHO - JULIETA LANTERI\",\"RETIRO\",\"CATALINAS\",\"CORREO CENTRAL\"],\"lat\":[-34.635750180343,-34.6293756575728,-34.6230923205019,-34.6152421522706,-34.6089352416215,-34.6042452029629,-34.5997570807639,-34.6015871651394,-34.5916278437199,-34.5851559440493,-34.5814111936045,-34.5784220227904,-34.5911938083332,-34.6017699230114,-34.604843739914,-34.6089833148827,-34.6126172798037,-34.6181255992933,-34.6276194522548,-34.6032972855775,-34.6036371051817,-34.6040935531057,-34.6044195428608,-34.6046429679193,-34.6045810553512,-34.6040795173475,-34.6031649010973,-34.6021622293427,-34.5989673641588,-34.5917181536198,-34.6085590738532,-34.608881721215,-34.6090998065519,-34.6094125865027,-34.6092256843174,-34.6096459617052,-34.6098335784398,-34.6098172456706,-34.6107816904504,-34.6117702291255,-34.6152056103312,-34.6182799671446,-34.6204052128589,-34.6092424288608,-34.6128491058186,-34.6179373939772,-34.6223394919367,-34.6227196661278,-34.6231098657791,-34.6238657115835,-34.6246537864662,-34.6280175487742,-34.6310418421655,-34.5882371084182,-34.5944257186285,-34.599639552419,-34.5950574047792,-34.6219167322081,-34.6363891893858,-34.627015467002,-34.6253661058926,-34.5751783641113,-34.5700123078257,-34.5662152421589,-34.5623090869974,-34.5871978529904,-34.6433121624098,-34.640137352298,-34.6078023364289,-34.6088103091689,-34.5556417664261,-34.6029894966332,-34.5840946201161,-34.5812488459579,-34.6266665931803,-34.6235289528893,-34.6044902016081,-34.6384059882851,-34.6412689433909,-34.5777973775423,-34.5743189142748,-34.630707087006,-34.629087226797,-34.5984551117734,-34.5874615464262,-34.5945253962188,-34.5830363400093,-34.592114361931,-34.596596818975,-34.6030139059231],\"legendgroup\":\"subte\",\"lon\":[-58.3989275853601,-58.4009695560165,-58.402322730424,-58.40473171649,-58.4060363810352,-58.3805743428896,-58.3979237555734,-58.3851423588013,-58.4071613201899,-58.4159554190067,-58.4211960101264,-58.4257114411123,-58.3740182164816,-58.3781557828244,-58.3795299800739,-58.3806107179579,-58.38044446966,-58.3801736104752,-58.3814344339343,-58.3750715182636,-58.3807148471409,-58.3872961335408,-58.3923142350887,-58.399474256679,-58.4053994398434,-58.4117625996321,-58.4209624702706,-58.4312738603246,-58.4397714984155,-58.4475730925312,-58.3742677264304,-58.3790851530908,-58.3822324010181,-58.3867771940873,-58.3926688246648,-58.3984269918123,-58.401207534233,-58.4067071165088,-58.4151857088376,-58.4218156713706,-58.4295003232997,-58.4364285288493,-58.4411776251109,-58.3736842241685,-58.3775808865406,-58.3815349417122,-58.3851485496238,-58.3915116999715,-58.3970680746626,-58.4029365802561,-58.4093907834436,-58.4338162502395,-58.4421707059652,-58.4112939013936,-58.4023953425351,-58.3931251809727,-58.3778190509867,-58.3799211788651,-58.4502782563709,-58.4267890228972,-58.4155328189678,-58.4350135337338,-58.4446681483349,-58.4521256033889,-58.456489134589,-58.455029286281,-58.4616517616898,-58.4578917557731,-58.3739558069511,-58.3709684989674,-58.4623784082243,-58.3699298501224,-58.4662272046921,-58.4742408261771,-58.4567097975238,-58.4486476540264,-58.4054503284842,-58.4057948259686,-58.4123851512005,-58.4810135036721,-58.4863853478891,-58.4696396292247,-58.4635405106286,-58.4037214964387,-58.3972155751019,-58.4023761750349,-58.39101882656,-58.3758498374305,-58.3717003329901,-58.3704125010713],\"marker\":{\"color\":\"#EF553B\"},\"mode\":\"markers\",\"name\":\"subte\",\"showlegend\":true,\"subplot\":\"mapbox\",\"type\":\"scattermapbox\"},{\"hovertemplate\":\"<b>%{hovertext}</b><br><br>type=premetro<br>lat=%{lat}<br>lon=%{lon}<extra></extra>\",\"hovertext\":[\"INTENDENTE SAGUIER\",\"BALBASTRO (Cementerio de Flores)\",\"ANA MAR\\u00cdA JANER\",\"FERNANDEZ DE LA CRUZ\",\"PTE. ILLIA (Lacarra)\",\"PARQUE DE LA CIUDAD\",\"CECILIA GRIERSON\",\"ESCALADA\",\"GENERAL SAVIO\",\"GABINO EZEIZA (Av. Cnel. Roca)\",\"NICOL\\u00c1S DESCALZI\",\"LARRAZ\\u00c1BAL\",\"CENTRO CIVICO LUGANO\",\"ANA D\\u00cdAZ\",\"MARIANO ACOSTA (Bo. R. Carrillo)\",\"SOMELLERA\",\"NTRA. SRA. DE F\\u00c1TIMA\",\"POLA\"],\"lat\":[-34.6437565970805,-34.6486005420351,-34.6594991467729,-34.6622249467795,-34.6653680271808,-34.6690901145736,-34.6724582308545,-34.6745264482372,-34.6883531329925,-34.686081208835,-34.6830667667194,-34.6805719548239,-34.6824577608497,-34.6808829242265,-34.6544327801137,-34.6564409551024,-34.6604582616429,-34.6781309500937],\"legendgroup\":\"premetro\",\"lon\":[-58.4614910346889,-58.4564145813745,-58.4500470792493,-58.4466067042219,-58.4485133000082,-58.4543251886428,-58.4579600157419,-58.4600751595769,-58.4595995738502,-58.4580715309316,-58.4620442328871,-58.4653695788337,-58.466124720094,-58.466923438707,-58.4564801393051,-58.4539052789963,-58.4488613949717,-58.4644621725649],\"marker\":{\"color\":\"#00cc96\"},\"mode\":\"markers\",\"name\":\"premetro\",\"showlegend\":true,\"subplot\":\"mapbox\",\"type\":\"scattermapbox\"}],                        {\"template\":{\"data\":{\"histogram2dcontour\":[{\"type\":\"histogram2dcontour\",\"colorbar\":{\"outlinewidth\":0,\"ticks\":\"\"},\"colorscale\":[[0.0,\"#0d0887\"],[0.1111111111111111,\"#46039f\"],[0.2222222222222222,\"#7201a8\"],[0.3333333333333333,\"#9c179e\"],[0.4444444444444444,\"#bd3786\"],[0.5555555555555556,\"#d8576b\"],[0.6666666666666666,\"#ed7953\"],[0.7777777777777778,\"#fb9f3a\"],[0.8888888888888888,\"#fdca26\"],[1.0,\"#f0f921\"]]}],\"choropleth\":[{\"type\":\"choropleth\",\"colorbar\":{\"outlinewidth\":0,\"ticks\":\"\"}}],\"histogram2d\":[{\"type\":\"histogram2d\",\"colorbar\":{\"outlinewidth\":0,\"ticks\":\"\"},\"colorscale\":[[0.0,\"#0d0887\"],[0.1111111111111111,\"#46039f\"],[0.2222222222222222,\"#7201a8\"],[0.3333333333333333,\"#9c179e\"],[0.4444444444444444,\"#bd3786\"],[0.5555555555555556,\"#d8576b\"],[0.6666666666666666,\"#ed7953\"],[0.7777777777777778,\"#fb9f3a\"],[0.8888888888888888,\"#fdca26\"],[1.0,\"#f0f921\"]]}],\"heatmap\":[{\"type\":\"heatmap\",\"colorbar\":{\"outlinewidth\":0,\"ticks\":\"\"},\"colorscale\":[[0.0,\"#0d0887\"],[0.1111111111111111,\"#46039f\"],[0.2222222222222222,\"#7201a8\"],[0.3333333333333333,\"#9c179e\"],[0.4444444444444444,\"#bd3786\"],[0.5555555555555556,\"#d8576b\"],[0.6666666666666666,\"#ed7953\"],[0.7777777777777778,\"#fb9f3a\"],[0.8888888888888888,\"#fdca26\"],[1.0,\"#f0f921\"]]}],\"heatmapgl\":[{\"type\":\"heatmapgl\",\"colorbar\":{\"outlinewidth\":0,\"ticks\":\"\"},\"colorscale\":[[0.0,\"#0d0887\"],[0.1111111111111111,\"#46039f\"],[0.2222222222222222,\"#7201a8\"],[0.3333333333333333,\"#9c179e\"],[0.4444444444444444,\"#bd3786\"],[0.5555555555555556,\"#d8576b\"],[0.6666666666666666,\"#ed7953\"],[0.7777777777777778,\"#fb9f3a\"],[0.8888888888888888,\"#fdca26\"],[1.0,\"#f0f921\"]]}],\"contourcarpet\":[{\"type\":\"contourcarpet\",\"colorbar\":{\"outlinewidth\":0,\"ticks\":\"\"}}],\"contour\":[{\"type\":\"contour\",\"colorbar\":{\"outlinewidth\":0,\"ticks\":\"\"},\"colorscale\":[[0.0,\"#0d0887\"],[0.1111111111111111,\"#46039f\"],[0.2222222222222222,\"#7201a8\"],[0.3333333333333333,\"#9c179e\"],[0.4444444444444444,\"#bd3786\"],[0.5555555555555556,\"#d8576b\"],[0.6666666666666666,\"#ed7953\"],[0.7777777777777778,\"#fb9f3a\"],[0.8888888888888888,\"#fdca26\"],[1.0,\"#f0f921\"]]}],\"surface\":[{\"type\":\"surface\",\"colorbar\":{\"outlinewidth\":0,\"ticks\":\"\"},\"colorscale\":[[0.0,\"#0d0887\"],[0.1111111111111111,\"#46039f\"],[0.2222222222222222,\"#7201a8\"],[0.3333333333333333,\"#9c179e\"],[0.4444444444444444,\"#bd3786\"],[0.5555555555555556,\"#d8576b\"],[0.6666666666666666,\"#ed7953\"],[0.7777777777777778,\"#fb9f3a\"],[0.8888888888888888,\"#fdca26\"],[1.0,\"#f0f921\"]]}],\"mesh3d\":[{\"type\":\"mesh3d\",\"colorbar\":{\"outlinewidth\":0,\"ticks\":\"\"}}],\"scatter\":[{\"fillpattern\":{\"fillmode\":\"overlay\",\"size\":10,\"solidity\":0.2},\"type\":\"scatter\"}],\"parcoords\":[{\"type\":\"parcoords\",\"line\":{\"colorbar\":{\"outlinewidth\":0,\"ticks\":\"\"}}}],\"scatterpolargl\":[{\"type\":\"scatterpolargl\",\"marker\":{\"colorbar\":{\"outlinewidth\":0,\"ticks\":\"\"}}}],\"bar\":[{\"error_x\":{\"color\":\"#2a3f5f\"},\"error_y\":{\"color\":\"#2a3f5f\"},\"marker\":{\"line\":{\"color\":\"#E5ECF6\",\"width\":0.5},\"pattern\":{\"fillmode\":\"overlay\",\"size\":10,\"solidity\":0.2}},\"type\":\"bar\"}],\"scattergeo\":[{\"type\":\"scattergeo\",\"marker\":{\"colorbar\":{\"outlinewidth\":0,\"ticks\":\"\"}}}],\"scatterpolar\":[{\"type\":\"scatterpolar\",\"marker\":{\"colorbar\":{\"outlinewidth\":0,\"ticks\":\"\"}}}],\"histogram\":[{\"marker\":{\"pattern\":{\"fillmode\":\"overlay\",\"size\":10,\"solidity\":0.2}},\"type\":\"histogram\"}],\"scattergl\":[{\"type\":\"scattergl\",\"marker\":{\"colorbar\":{\"outlinewidth\":0,\"ticks\":\"\"}}}],\"scatter3d\":[{\"type\":\"scatter3d\",\"line\":{\"colorbar\":{\"outlinewidth\":0,\"ticks\":\"\"}},\"marker\":{\"colorbar\":{\"outlinewidth\":0,\"ticks\":\"\"}}}],\"scattermapbox\":[{\"type\":\"scattermapbox\",\"marker\":{\"colorbar\":{\"outlinewidth\":0,\"ticks\":\"\"}}}],\"scatterternary\":[{\"type\":\"scatterternary\",\"marker\":{\"colorbar\":{\"outlinewidth\":0,\"ticks\":\"\"}}}],\"scattercarpet\":[{\"type\":\"scattercarpet\",\"marker\":{\"colorbar\":{\"outlinewidth\":0,\"ticks\":\"\"}}}],\"carpet\":[{\"aaxis\":{\"endlinecolor\":\"#2a3f5f\",\"gridcolor\":\"white\",\"linecolor\":\"white\",\"minorgridcolor\":\"white\",\"startlinecolor\":\"#2a3f5f\"},\"baxis\":{\"endlinecolor\":\"#2a3f5f\",\"gridcolor\":\"white\",\"linecolor\":\"white\",\"minorgridcolor\":\"white\",\"startlinecolor\":\"#2a3f5f\"},\"type\":\"carpet\"}],\"table\":[{\"cells\":{\"fill\":{\"color\":\"#EBF0F8\"},\"line\":{\"color\":\"white\"}},\"header\":{\"fill\":{\"color\":\"#C8D4E3\"},\"line\":{\"color\":\"white\"}},\"type\":\"table\"}],\"barpolar\":[{\"marker\":{\"line\":{\"color\":\"#E5ECF6\",\"width\":0.5},\"pattern\":{\"fillmode\":\"overlay\",\"size\":10,\"solidity\":0.2}},\"type\":\"barpolar\"}],\"pie\":[{\"automargin\":true,\"type\":\"pie\"}]},\"layout\":{\"autotypenumbers\":\"strict\",\"colorway\":[\"#636efa\",\"#EF553B\",\"#00cc96\",\"#ab63fa\",\"#FFA15A\",\"#19d3f3\",\"#FF6692\",\"#B6E880\",\"#FF97FF\",\"#FECB52\"],\"font\":{\"color\":\"#2a3f5f\"},\"hovermode\":\"closest\",\"hoverlabel\":{\"align\":\"left\"},\"paper_bgcolor\":\"white\",\"plot_bgcolor\":\"#E5ECF6\",\"polar\":{\"bgcolor\":\"#E5ECF6\",\"angularaxis\":{\"gridcolor\":\"white\",\"linecolor\":\"white\",\"ticks\":\"\"},\"radialaxis\":{\"gridcolor\":\"white\",\"linecolor\":\"white\",\"ticks\":\"\"}},\"ternary\":{\"bgcolor\":\"#E5ECF6\",\"aaxis\":{\"gridcolor\":\"white\",\"linecolor\":\"white\",\"ticks\":\"\"},\"baxis\":{\"gridcolor\":\"white\",\"linecolor\":\"white\",\"ticks\":\"\"},\"caxis\":{\"gridcolor\":\"white\",\"linecolor\":\"white\",\"ticks\":\"\"}},\"coloraxis\":{\"colorbar\":{\"outlinewidth\":0,\"ticks\":\"\"}},\"colorscale\":{\"sequential\":[[0.0,\"#0d0887\"],[0.1111111111111111,\"#46039f\"],[0.2222222222222222,\"#7201a8\"],[0.3333333333333333,\"#9c179e\"],[0.4444444444444444,\"#bd3786\"],[0.5555555555555556,\"#d8576b\"],[0.6666666666666666,\"#ed7953\"],[0.7777777777777778,\"#fb9f3a\"],[0.8888888888888888,\"#fdca26\"],[1.0,\"#f0f921\"]],\"sequentialminus\":[[0.0,\"#0d0887\"],[0.1111111111111111,\"#46039f\"],[0.2222222222222222,\"#7201a8\"],[0.3333333333333333,\"#9c179e\"],[0.4444444444444444,\"#bd3786\"],[0.5555555555555556,\"#d8576b\"],[0.6666666666666666,\"#ed7953\"],[0.7777777777777778,\"#fb9f3a\"],[0.8888888888888888,\"#fdca26\"],[1.0,\"#f0f921\"]],\"diverging\":[[0,\"#8e0152\"],[0.1,\"#c51b7d\"],[0.2,\"#de77ae\"],[0.3,\"#f1b6da\"],[0.4,\"#fde0ef\"],[0.5,\"#f7f7f7\"],[0.6,\"#e6f5d0\"],[0.7,\"#b8e186\"],[0.8,\"#7fbc41\"],[0.9,\"#4d9221\"],[1,\"#276419\"]]},\"xaxis\":{\"gridcolor\":\"white\",\"linecolor\":\"white\",\"ticks\":\"\",\"title\":{\"standoff\":15},\"zerolinecolor\":\"white\",\"automargin\":true,\"zerolinewidth\":2},\"yaxis\":{\"gridcolor\":\"white\",\"linecolor\":\"white\",\"ticks\":\"\",\"title\":{\"standoff\":15},\"zerolinecolor\":\"white\",\"automargin\":true,\"zerolinewidth\":2},\"scene\":{\"xaxis\":{\"backgroundcolor\":\"#E5ECF6\",\"gridcolor\":\"white\",\"linecolor\":\"white\",\"showbackground\":true,\"ticks\":\"\",\"zerolinecolor\":\"white\",\"gridwidth\":2},\"yaxis\":{\"backgroundcolor\":\"#E5ECF6\",\"gridcolor\":\"white\",\"linecolor\":\"white\",\"showbackground\":true,\"ticks\":\"\",\"zerolinecolor\":\"white\",\"gridwidth\":2},\"zaxis\":{\"backgroundcolor\":\"#E5ECF6\",\"gridcolor\":\"white\",\"linecolor\":\"white\",\"showbackground\":true,\"ticks\":\"\",\"zerolinecolor\":\"white\",\"gridwidth\":2}},\"shapedefaults\":{\"line\":{\"color\":\"#2a3f5f\"}},\"annotationdefaults\":{\"arrowcolor\":\"#2a3f5f\",\"arrowhead\":0,\"arrowwidth\":1},\"geo\":{\"bgcolor\":\"white\",\"landcolor\":\"#E5ECF6\",\"subunitcolor\":\"white\",\"showland\":true,\"showlakes\":true,\"lakecolor\":\"white\"},\"title\":{\"x\":0.05},\"mapbox\":{\"style\":\"light\"}}},\"mapbox\":{\"domain\":{\"x\":[0.0,1.0],\"y\":[0.0,1.0]},\"center\":{\"lat\":-34.6723096192288,\"lon\":-58.50000007378052},\"zoom\":10,\"style\":\"open-street-map\"},\"legend\":{\"title\":{\"text\":\"type\"},\"tracegroupgap\":0},\"margin\":{\"t\":0,\"r\":0,\"l\":0,\"b\":0},\"height\":800,\"width\":1600},                        {\"responsive\": true}                    ).then(function(){\n",
       "                            \n",
       "var gd = document.getElementById('1ade46e8-6777-454a-bee2-45524c3315bf');\n",
       "var x = new MutationObserver(function (mutations, observer) {{\n",
       "        var display = window.getComputedStyle(gd).display;\n",
       "        if (!display || display === 'none') {{\n",
       "            console.log([gd, 'removed!']);\n",
       "            Plotly.purge(gd);\n",
       "            observer.disconnect();\n",
       "        }}\n",
       "}});\n",
       "\n",
       "// Listen for the removal of the full notebook cells\n",
       "var notebookContainer = gd.closest('#notebook-container');\n",
       "if (notebookContainer) {{\n",
       "    x.observe(notebookContainer, {childList: true});\n",
       "}}\n",
       "\n",
       "// Listen for the clearing of the current output cell\n",
       "var outputEl = gd.closest('.output');\n",
       "if (outputEl) {{\n",
       "    x.observe(outputEl, {childList: true});\n",
       "}}\n",
       "\n",
       "                        })                };                });            </script>        </div>"
      ]
     },
     "metadata": {},
     "output_type": "display_data"
    }
   ],
   "source": [
    "color_scale = [(0, 'orange'), (1,'red')]\n",
    "\n",
    "fig = px.scatter_mapbox(df,\n",
    "                        lat=\"lat\",\n",
    "                        lon=\"lon\",\n",
    "                        hover_name=\"stop_name\",\n",
    "                        color=\"type\",\n",
    "                        color_continuous_scale=color_scale,\n",
    "                        zoom=10,\n",
    "                        height=800,\n",
    "                        width=1600)\n",
    "fig.update_layout(mapbox_style=\"open-street-map\")\n",
    "fig.update_layout(margin={\"r\":0,\"t\":0,\"l\":0,\"b\":0})\n",
    "fig.show()"
   ]
  },
  {
   "cell_type": "code",
   "execution_count": null,
   "id": "911c2e56-ea44-4638-a403-86a679358071",
   "metadata": {},
   "outputs": [],
   "source": []
  }
 ],
 "metadata": {
  "kernelspec": {
   "display_name": "Base (Python 3.11)",
   "language": "python",
   "name": "base"
  },
  "language_info": {
   "codemirror_mode": {
    "name": "ipython",
    "version": 3
   },
   "file_extension": ".py",
   "mimetype": "text/x-python",
   "name": "python",
   "nbconvert_exporter": "python",
   "pygments_lexer": "ipython3",
   "version": "3.11.3"
  }
 },
 "nbformat": 4,
 "nbformat_minor": 5
}
