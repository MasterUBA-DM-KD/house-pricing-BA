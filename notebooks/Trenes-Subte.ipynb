{
 "cells": [
  {
   "cell_type": "code",
   "execution_count": 188,
   "id": "b44329e5-910a-4c6e-90b2-04bd72c7cc26",
   "metadata": {},
   "outputs": [],
   "source": [
    "import sys\n",
    "sys.path.append(\"../\")\n",
    "\n",
    "import pandas as pd\n",
    "import plotly.express as px\n",
    "from geopy import Nominatim, distance\n",
    "\n",
    "from src.constants import centro_geografico_caba, centro_geografico_plata"
   ]
  },
  {
   "attachments": {},
   "cell_type": "markdown",
   "id": "57206223",
   "metadata": {},
   "source": [
    "# Transporte público"
   ]
  },
  {
   "attachments": {},
   "cell_type": "markdown",
   "id": "19119a19",
   "metadata": {},
   "source": [
    "## Trenes"
   ]
  },
  {
   "cell_type": "code",
   "execution_count": 189,
   "id": "15248a00-dd18-450b-bff3-422194139390",
   "metadata": {},
   "outputs": [],
   "source": [
    "df_stops = pd.read_csv(\"../data/external/transporte_publico/trenes/stops.txt\")"
   ]
  },
  {
   "cell_type": "code",
   "execution_count": 190,
   "id": "3177a491-97f6-47c8-a38e-9af078d411b3",
   "metadata": {},
   "outputs": [],
   "source": [
    "df_stops[\"type\"] = \"tren\"\n",
    "df_stops = df_stops.rename(columns={\"stop_lat\": \"lat\", \"stop_lon\": \"lon\"})"
   ]
  },
  {
   "cell_type": "code",
   "execution_count": 191,
   "id": "e700d5fc-f55f-4a81-bd4b-fa7a3084eef7",
   "metadata": {},
   "outputs": [
    {
     "data": {
      "text/html": [
       "<div>\n",
       "<style scoped>\n",
       "    .dataframe tbody tr th:only-of-type {\n",
       "        vertical-align: middle;\n",
       "    }\n",
       "\n",
       "    .dataframe tbody tr th {\n",
       "        vertical-align: top;\n",
       "    }\n",
       "\n",
       "    .dataframe thead th {\n",
       "        text-align: right;\n",
       "    }\n",
       "</style>\n",
       "<table border=\"1\" class=\"dataframe\">\n",
       "  <thead>\n",
       "    <tr style=\"text-align: right;\">\n",
       "      <th></th>\n",
       "      <th>stop_id</th>\n",
       "      <th>stop_name</th>\n",
       "      <th>lat</th>\n",
       "      <th>lon</th>\n",
       "      <th>type</th>\n",
       "    </tr>\n",
       "  </thead>\n",
       "  <tbody>\n",
       "    <tr>\n",
       "      <th>0</th>\n",
       "      <td>154</td>\n",
       "      <td>González Catán</td>\n",
       "      <td>-34.771464</td>\n",
       "      <td>-58.646546</td>\n",
       "      <td>tren</td>\n",
       "    </tr>\n",
       "    <tr>\n",
       "      <th>1</th>\n",
       "      <td>178</td>\n",
       "      <td>Independencia</td>\n",
       "      <td>-34.760798</td>\n",
       "      <td>-58.617341</td>\n",
       "      <td>tren</td>\n",
       "    </tr>\n",
       "    <tr>\n",
       "      <th>2</th>\n",
       "      <td>180</td>\n",
       "      <td>Ing. Budge</td>\n",
       "      <td>-34.718663</td>\n",
       "      <td>-58.462152</td>\n",
       "      <td>tren</td>\n",
       "    </tr>\n",
       "    <tr>\n",
       "      <th>3</th>\n",
       "      <td>184</td>\n",
       "      <td>Isidro Casanova</td>\n",
       "      <td>-34.704464</td>\n",
       "      <td>-58.587990</td>\n",
       "      <td>tren</td>\n",
       "    </tr>\n",
       "    <tr>\n",
       "      <th>4</th>\n",
       "      <td>203</td>\n",
       "      <td>Justo Villegas</td>\n",
       "      <td>-34.708965</td>\n",
       "      <td>-58.551939</td>\n",
       "      <td>tren</td>\n",
       "    </tr>\n",
       "  </tbody>\n",
       "</table>\n",
       "</div>"
      ],
      "text/plain": [
       "   stop_id        stop_name        lat        lon  type\n",
       "0      154   González Catán -34.771464 -58.646546  tren\n",
       "1      178    Independencia -34.760798 -58.617341  tren\n",
       "2      180       Ing. Budge -34.718663 -58.462152  tren\n",
       "3      184  Isidro Casanova -34.704464 -58.587990  tren\n",
       "4      203   Justo Villegas -34.708965 -58.551939  tren"
      ]
     },
     "execution_count": 191,
     "metadata": {},
     "output_type": "execute_result"
    }
   ],
   "source": [
    "df_stops.head()"
   ]
  },
  {
   "cell_type": "code",
   "execution_count": 192,
   "id": "13d5318b",
   "metadata": {},
   "outputs": [],
   "source": [
    "df_routes = pd.read_csv(\"../data/external/transporte_publico/trenes/routes.txt\")\n",
    "df_routes = df_routes[[\"route_id\", \"route_short_name\", \"route_long_name\"]]\n",
    "df_routes = df_routes.drop_duplicates(keep=\"last\")"
   ]
  },
  {
   "cell_type": "code",
   "execution_count": 193,
   "id": "4f4698bc",
   "metadata": {},
   "outputs": [],
   "source": [
    "df_trips = pd.read_csv(\"../data/external/transporte_publico/trenes/trips.txt\")\n",
    "df_trips = df_trips[['route_id',  'trip_id']]\n",
    "df_trips = df_trips.drop_duplicates(keep=\"last\")"
   ]
  },
  {
   "cell_type": "code",
   "execution_count": 194,
   "id": "4aa744c2",
   "metadata": {},
   "outputs": [],
   "source": [
    "df_stop_times = pd.read_csv(\"../data/external/transporte_publico/trenes/stop_times.txt\")\n",
    "df_stop_times = df_stop_times[['trip_id', 'stop_id']]\n",
    "df_stop_times = df_stop_times.drop_duplicates(keep=\"last\")"
   ]
  },
  {
   "cell_type": "code",
   "execution_count": 195,
   "id": "ac983acf",
   "metadata": {},
   "outputs": [
    {
     "data": {
      "text/html": [
       "<div>\n",
       "<style scoped>\n",
       "    .dataframe tbody tr th:only-of-type {\n",
       "        vertical-align: middle;\n",
       "    }\n",
       "\n",
       "    .dataframe tbody tr th {\n",
       "        vertical-align: top;\n",
       "    }\n",
       "\n",
       "    .dataframe thead th {\n",
       "        text-align: right;\n",
       "    }\n",
       "</style>\n",
       "<table border=\"1\" class=\"dataframe\">\n",
       "  <thead>\n",
       "    <tr style=\"text-align: right;\">\n",
       "      <th></th>\n",
       "      <th>route_id</th>\n",
       "      <th>route_short_name</th>\n",
       "      <th>route_long_name</th>\n",
       "      <th>trip_id</th>\n",
       "      <th>stop_id</th>\n",
       "      <th>stop_name</th>\n",
       "      <th>lat</th>\n",
       "      <th>lon</th>\n",
       "      <th>type</th>\n",
       "    </tr>\n",
       "  </thead>\n",
       "  <tbody>\n",
       "    <tr>\n",
       "      <th>0</th>\n",
       "      <td>1</td>\n",
       "      <td>Sarmiento</td>\n",
       "      <td>Sarmiento / Once - Moreno</td>\n",
       "      <td>32001211</td>\n",
       "      <td>70</td>\n",
       "      <td>Castelar</td>\n",
       "      <td>-34.652156</td>\n",
       "      <td>-58.642526</td>\n",
       "      <td>tren</td>\n",
       "    </tr>\n",
       "    <tr>\n",
       "      <th>626</th>\n",
       "      <td>1</td>\n",
       "      <td>Sarmiento</td>\n",
       "      <td>Sarmiento / Once - Moreno</td>\n",
       "      <td>32001211</td>\n",
       "      <td>279</td>\n",
       "      <td>Morón</td>\n",
       "      <td>-34.648223</td>\n",
       "      <td>-58.619813</td>\n",
       "      <td>tren</td>\n",
       "    </tr>\n",
       "  </tbody>\n",
       "</table>\n",
       "</div>"
      ],
      "text/plain": [
       "     route_id route_short_name            route_long_name   trip_id  stop_id   \n",
       "0           1        Sarmiento  Sarmiento / Once - Moreno  32001211       70  \\\n",
       "626         1        Sarmiento  Sarmiento / Once - Moreno  32001211      279   \n",
       "\n",
       "    stop_name        lat        lon  type  \n",
       "0    Castelar -34.652156 -58.642526  tren  \n",
       "626     Morón -34.648223 -58.619813  tren  "
      ]
     },
     "execution_count": 195,
     "metadata": {},
     "output_type": "execute_result"
    }
   ],
   "source": [
    "df_tren = df_routes.merge(df_trips, on=\"route_id\")\n",
    "df_tren = df_tren.merge(df_stop_times, on=\"trip_id\")\n",
    "df_tren = df_tren.merge(df_stops, on=\"stop_id\")\n",
    "\n",
    "df_tren = df_tren.drop_duplicates(subset=[\"lat\", \"lon\"], keep=\"first\")\n",
    "\n",
    "df_tren.head(2)"
   ]
  },
  {
   "cell_type": "code",
   "execution_count": 196,
   "id": "48325b06",
   "metadata": {},
   "outputs": [],
   "source": [
    "df_tren = df_tren[[\"route_id\", \"route_short_name\", \"route_long_name\", \"stop_id\", \"stop_name\", \"lat\", \"lon\", \"type\"]]\n",
    "df_tren = df_tren.rename(columns={\"route_short_name\": \"linea\", \"route_long_name\": \"ramal\"})\n",
    "df_tren[\"ramal\"] = df_tren[\"ramal\"].str.split(\"/\")\n",
    "df_tren[\"ramal\"] = df_tren[\"ramal\"].apply(lambda x: x[1])"
   ]
  },
  {
   "cell_type": "code",
   "execution_count": 197,
   "id": "0a90fae3",
   "metadata": {},
   "outputs": [
    {
     "data": {
      "text/html": [
       "<div>\n",
       "<style scoped>\n",
       "    .dataframe tbody tr th:only-of-type {\n",
       "        vertical-align: middle;\n",
       "    }\n",
       "\n",
       "    .dataframe tbody tr th {\n",
       "        vertical-align: top;\n",
       "    }\n",
       "\n",
       "    .dataframe thead th {\n",
       "        text-align: right;\n",
       "    }\n",
       "</style>\n",
       "<table border=\"1\" class=\"dataframe\">\n",
       "  <thead>\n",
       "    <tr style=\"text-align: right;\">\n",
       "      <th></th>\n",
       "      <th>linea</th>\n",
       "      <th>ramal</th>\n",
       "      <th>stop_name</th>\n",
       "      <th>lat</th>\n",
       "      <th>lon</th>\n",
       "      <th>type</th>\n",
       "    </tr>\n",
       "  </thead>\n",
       "  <tbody>\n",
       "    <tr>\n",
       "      <th>0</th>\n",
       "      <td>Belgrano Norte</td>\n",
       "      <td>Grand Bourg</td>\n",
       "      <td>Retiro</td>\n",
       "      <td>-34.589842</td>\n",
       "      <td>-58.374486</td>\n",
       "      <td>tren</td>\n",
       "    </tr>\n",
       "    <tr>\n",
       "      <th>1</th>\n",
       "      <td>Belgrano Norte</td>\n",
       "      <td>Grand Bourg</td>\n",
       "      <td>Saldias</td>\n",
       "      <td>-34.575302</td>\n",
       "      <td>-58.399313</td>\n",
       "      <td>tren</td>\n",
       "    </tr>\n",
       "  </tbody>\n",
       "</table>\n",
       "</div>"
      ],
      "text/plain": [
       "            linea        ramal stop_name        lat        lon  type\n",
       "0  Belgrano Norte  Grand Bourg    Retiro -34.589842 -58.374486  tren\n",
       "1  Belgrano Norte  Grand Bourg   Saldias -34.575302 -58.399313  tren"
      ]
     },
     "execution_count": 197,
     "metadata": {},
     "output_type": "execute_result"
    }
   ],
   "source": [
    "df_belgrano = pd.read_csv(\"../data/external/transporte_publico/trenes/tren_belgrano_norte.csv\")\n",
    "df_belgrano.head(2)"
   ]
  },
  {
   "cell_type": "code",
   "execution_count": 198,
   "id": "c56d3e4a",
   "metadata": {},
   "outputs": [],
   "source": [
    "df_tren = df_tren[[\"linea\", \"ramal\", \"stop_name\", \"lat\", \"lon\", \"type\"]]\n",
    "df_tren = pd.concat([df_tren, df_belgrano], axis=0, ignore_index=True)"
   ]
  },
  {
   "cell_type": "code",
   "execution_count": 199,
   "id": "5af983f1",
   "metadata": {},
   "outputs": [
    {
     "data": {
      "text/html": [
       "<div>\n",
       "<style scoped>\n",
       "    .dataframe tbody tr th:only-of-type {\n",
       "        vertical-align: middle;\n",
       "    }\n",
       "\n",
       "    .dataframe tbody tr th {\n",
       "        vertical-align: top;\n",
       "    }\n",
       "\n",
       "    .dataframe thead th {\n",
       "        text-align: right;\n",
       "    }\n",
       "</style>\n",
       "<table border=\"1\" class=\"dataframe\">\n",
       "  <thead>\n",
       "    <tr style=\"text-align: right;\">\n",
       "      <th></th>\n",
       "      <th>linea</th>\n",
       "      <th>ramal</th>\n",
       "      <th>stop_name</th>\n",
       "      <th>lat</th>\n",
       "      <th>lon</th>\n",
       "      <th>type</th>\n",
       "    </tr>\n",
       "  </thead>\n",
       "  <tbody>\n",
       "    <tr>\n",
       "      <th>0</th>\n",
       "      <td>Sarmiento</td>\n",
       "      <td>Once - Moreno</td>\n",
       "      <td>Castelar</td>\n",
       "      <td>-34.652156</td>\n",
       "      <td>-58.642526</td>\n",
       "      <td>tren</td>\n",
       "    </tr>\n",
       "    <tr>\n",
       "      <th>1</th>\n",
       "      <td>Sarmiento</td>\n",
       "      <td>Once - Moreno</td>\n",
       "      <td>Morón</td>\n",
       "      <td>-34.648223</td>\n",
       "      <td>-58.619813</td>\n",
       "      <td>tren</td>\n",
       "    </tr>\n",
       "  </tbody>\n",
       "</table>\n",
       "</div>"
      ],
      "text/plain": [
       "       linea           ramal stop_name        lat        lon  type\n",
       "0  Sarmiento   Once - Moreno  Castelar -34.652156 -58.642526  tren\n",
       "1  Sarmiento   Once - Moreno     Morón -34.648223 -58.619813  tren"
      ]
     },
     "execution_count": 199,
     "metadata": {},
     "output_type": "execute_result"
    }
   ],
   "source": [
    "df_tren.head(2)"
   ]
  },
  {
   "cell_type": "code",
   "execution_count": 200,
   "id": "522bfb30",
   "metadata": {},
   "outputs": [
    {
     "data": {
      "application/vnd.plotly.v1+json": {
       "config": {
        "plotlyServerURL": "https://plot.ly"
       },
       "data": [
        {
         "customdata": [
          [
           "Sarmiento",
           " Once - Moreno",
           "Castelar"
          ],
          [
           "Sarmiento",
           " Once - Moreno",
           "Morón"
          ],
          [
           "Sarmiento",
           " Once - Moreno",
           "Haedo"
          ],
          [
           "Sarmiento",
           " Once - Moreno",
           "Ramos Mejía"
          ],
          [
           "Sarmiento",
           " Once - Moreno",
           "Ciudadela"
          ],
          [
           "Sarmiento",
           " Once - Moreno",
           "Liniers"
          ],
          [
           "Sarmiento",
           " Once - Moreno",
           "Villa Luro"
          ],
          [
           "Sarmiento",
           " Once - Moreno",
           "Floresta"
          ],
          [
           "Sarmiento",
           " Once - Moreno",
           "Flores"
          ],
          [
           "Sarmiento",
           " Once - Moreno",
           "Caballito"
          ],
          [
           "Sarmiento",
           " Once - Moreno",
           "Once"
          ],
          [
           "Sarmiento",
           " Once - Moreno",
           "Ituzaingó"
          ],
          [
           "Sarmiento",
           " Once - Moreno",
           "S. A. de Padua"
          ],
          [
           "Sarmiento",
           " Once - Moreno",
           "Merlo"
          ],
          [
           "Sarmiento",
           " Once - Moreno",
           "Paso del Rey"
          ],
          [
           "Sarmiento",
           " Once - Moreno",
           "Moreno"
          ],
          [
           "Sarmiento",
           " Moreno - Mercedes",
           "Mercedes"
          ],
          [
           "Sarmiento",
           " Moreno - Mercedes",
           "Gowland"
          ],
          [
           "Sarmiento",
           " Moreno - Mercedes",
           "Olivera"
          ],
          [
           "Sarmiento",
           " Moreno - Mercedes",
           "Jáuregui"
          ],
          [
           "Sarmiento",
           " Moreno - Mercedes",
           "Luján"
          ],
          [
           "Sarmiento",
           " Moreno - Mercedes",
           "Univ. Luján"
          ],
          [
           "Sarmiento",
           " Moreno - Mercedes",
           "Lezica y Torrezuri"
          ],
          [
           "Sarmiento",
           " Moreno - Mercedes",
           "La Fraternidad"
          ],
          [
           "Sarmiento",
           " Moreno - Mercedes",
           "Gral. Rodríguez"
          ],
          [
           "Sarmiento",
           " Moreno - Mercedes",
           "Las Malvinas"
          ],
          [
           "Sarmiento",
           " Moreno - Mercedes",
           "P. Marín"
          ],
          [
           "Sarmiento",
           " Moreno - Mercedes",
           "F. Álvarez"
          ],
          [
           "Sarmiento",
           " Moreno - Mercedes",
           "La Reja"
          ],
          [
           "Sarmiento",
           " Merlo - Lobos",
           "Km. 34,5"
          ],
          [
           "Sarmiento",
           " Merlo - Lobos",
           "Ferrari"
          ],
          [
           "Sarmiento",
           " Merlo - Lobos",
           "Mariano Acosta"
          ],
          [
           "Sarmiento",
           " Merlo - Lobos",
           "Marcos Paz"
          ],
          [
           "Sarmiento",
           " Merlo - Lobos",
           "Zamudio"
          ],
          [
           "Sarmiento",
           " Merlo - Lobos",
           "Hornos"
          ],
          [
           "Sarmiento",
           " Merlo - Lobos",
           "Las Heras"
          ],
          [
           "Sarmiento",
           " Merlo - Lobos",
           "Speratti"
          ],
          [
           "Sarmiento",
           " Merlo - Lobos",
           "Zapiola"
          ],
          [
           "Sarmiento",
           " Merlo - Lobos",
           "Empalme Lobos"
          ],
          [
           "Sarmiento",
           " Merlo - Lobos",
           "Lobos"
          ]
         ],
         "hovertemplate": "linea=%{customdata[0]}<br>lat=%{lat}<br>lon=%{lon}<br>ramal=%{customdata[1]}<br>stop_name=%{customdata[2]}<extra></extra>",
         "lat": [
          -34.6521562,
          -34.6482227,
          -34.6445334,
          -34.6404544,
          -34.6399227,
          -34.6388728,
          -34.6362494,
          -34.6323755,
          -34.6278504,
          -34.6192442,
          -34.6086496,
          -34.6596506,
          -34.6654259,
          -34.6644693,
          -34.6582665,
          -34.6504439,
          -34.6574937,
          -34.6478196,
          -34.6279272,
          -34.6006273,
          -34.5776869,
          -34.5774242,
          -34.5846051,
          -34.5984003,
          -34.6088711,
          -34.616072,
          -34.6227343,
          -34.6322048,
          -34.6397171,
          -34.6801742,
          -34.706078,
          -34.7243253,
          -34.7830555,
          -34.8578991,
          -34.8923029,
          -34.9279395,
          -35.0021051,
          -35.0583029,
          -35.1514876,
          -35.1853363
         ],
         "legendgroup": "Sarmiento",
         "lon": [
          -58.6425261,
          -58.6198135,
          -58.5918534,
          -58.5643758,
          -58.5411225,
          -58.5263409,
          -58.5021311,
          -58.4808913,
          -58.4661766,
          -58.4436522,
          -58.4088675,
          -58.6663871,
          -58.6979972,
          -58.727685,
          -58.7619414,
          -58.7895979,
          -59.4336661,
          -59.352839,
          -59.2553985,
          -59.1734876,
          -59.1050924,
          -59.0874075,
          -59.0567847,
          -58.997844,
          -58.952925,
          -58.9220842,
          -58.893542,
          -58.8553185,
          -58.8284581,
          -58.7602409,
          -58.7794327,
          -58.7929542,
          -58.836545,
          -58.8921946,
          -58.917861,
          -58.9444298,
          -58.9998545,
          -59.0418857,
          -59.0907406,
          -59.0927924
         ],
         "marker": {
          "color": "#636efa"
         },
         "mode": "markers",
         "name": "Sarmiento",
         "showlegend": true,
         "subplot": "mapbox",
         "type": "scattermapbox"
        },
        {
         "customdata": [
          [
           "Mitre",
           " Retiro - Tigre",
           "Tigre"
          ],
          [
           "Mitre",
           " Retiro - Tigre",
           "Carupá"
          ],
          [
           "Mitre",
           " Retiro - Tigre",
           "San Fernando C"
          ],
          [
           "Mitre",
           " Retiro - Tigre",
           "Virreyes"
          ],
          [
           "Mitre",
           " Retiro - Tigre",
           "Victoria"
          ],
          [
           "Mitre",
           " Retiro - Tigre",
           "Béccar"
          ],
          [
           "Mitre",
           " Retiro - Tigre",
           "San Isidro C"
          ],
          [
           "Mitre",
           " Retiro - Tigre",
           "Acassuso"
          ],
          [
           "Mitre",
           " Retiro - Tigre",
           "Martínez"
          ],
          [
           "Mitre",
           " Retiro - Tigre",
           "La Lucila"
          ],
          [
           "Mitre",
           " Retiro - Tigre",
           "Olivos"
          ],
          [
           "Mitre",
           " Retiro - Tigre",
           "Vicente López"
          ],
          [
           "Mitre",
           " Retiro - Tigre",
           "Rivadavia"
          ],
          [
           "Mitre",
           " Retiro - Tigre",
           "Núñez"
          ],
          [
           "Mitre",
           " Retiro - Tigre",
           "Belgrano C"
          ],
          [
           "Mitre",
           " Retiro - Tigre",
           "L. de la Torre"
          ],
          [
           "Mitre",
           " Retiro - Tigre",
           "Retiro LM"
          ],
          [
           "Mitre",
           " Retiro - Mitre",
           "Mitre"
          ],
          [
           "Mitre",
           " Retiro - Mitre",
           "Dr. Cetrángolo"
          ],
          [
           "Mitre",
           " Retiro - Mitre",
           "Florida"
          ],
          [
           "Mitre",
           " Retiro - Mitre",
           "Juan B. Justo"
          ],
          [
           "Mitre",
           " Retiro - Mitre",
           "Saavedra"
          ],
          [
           "Mitre",
           " Retiro - Mitre",
           "Coghlan"
          ],
          [
           "Mitre",
           " Retiro - Mitre",
           "Belgrano R"
          ],
          [
           "Mitre",
           " Retiro - Mitre",
           "Colegiales"
          ],
          [
           "Mitre",
           " Retiro - Mitre",
           "Ministro Carranza"
          ],
          [
           "Mitre",
           " Retiro - Mitre",
           "3 de Febrero"
          ],
          [
           "Mitre",
           " Retiro - J. L. Suárez",
           "J. L. Suárez"
          ],
          [
           "Mitre",
           " Retiro - J. L. Suárez",
           "Chilavert"
          ],
          [
           "Mitre",
           " Retiro - J. L. Suárez",
           "Villa Ballester"
          ],
          [
           "Mitre",
           " Retiro - J. L. Suárez",
           "Malaver"
          ],
          [
           "Mitre",
           " Retiro - J. L. Suárez",
           "San Andrés"
          ],
          [
           "Mitre",
           " Retiro - J. L. Suárez",
           "San Martín"
          ],
          [
           "Mitre",
           " Retiro - J. L. Suárez",
           "Miguelete"
          ],
          [
           "Mitre",
           " Retiro - J. L. Suárez",
           "Pueyrredón"
          ],
          [
           "Mitre",
           " Retiro - J. L. Suárez",
           "General Urquiza"
          ],
          [
           "Mitre",
           " Retiro - J. L. Suárez",
           "L. M. Drago"
          ],
          [
           "Mitre",
           " Victoria - Capilla del Señor",
           "Capilla del Señor"
          ],
          [
           "Mitre",
           " Victoria - Capilla del Señor",
           "Los Cardales"
          ],
          [
           "Mitre",
           " Victoria - Capilla del Señor",
           "Zelaya"
          ],
          [
           "Mitre",
           " Victoria - Capilla del Señor",
           "Matheu"
          ],
          [
           "Mitre",
           " Victoria - Capilla del Señor",
           "Maq. Savio"
          ],
          [
           "Mitre",
           " Victoria - Capilla del Señor",
           "Garín"
          ],
          [
           "Mitre",
           " Victoria - Capilla del Señor",
           "López Camelo"
          ],
          [
           "Mitre",
           " Victoria - Capilla del Señor",
           "El Talar"
          ],
          [
           "Mitre",
           " Victoria - Capilla del Señor",
           "Dr. A. Schweitzer"
          ],
          [
           "Mitre",
           " Villa Ballester - Zárate",
           "Zárate"
          ],
          [
           "Mitre",
           " Villa Ballester - Zárate",
           "Kilometro 83"
          ],
          [
           "Mitre",
           " Villa Ballester - Zárate",
           "Campana"
          ],
          [
           "Mitre",
           " Villa Ballester - Zárate",
           "Otamendi"
          ],
          [
           "Mitre",
           " Villa Ballester - Zárate",
           "Rio Lujan"
          ],
          [
           "Mitre",
           " Villa Ballester - Zárate",
           "Escobar"
          ],
          [
           "Mitre",
           " Villa Ballester - Zárate",
           "Maschwitz"
          ],
          [
           "Mitre",
           " Villa Ballester - Zárate",
           "Benavídez"
          ],
          [
           "Mitre",
           " Villa Ballester - Zárate",
           "Pacheco"
          ],
          [
           "Mitre",
           " Villa Ballester - Zárate",
           "Bancalari"
          ]
         ],
         "hovertemplate": "linea=%{customdata[0]}<br>lat=%{lat}<br>lon=%{lon}<br>ramal=%{customdata[1]}<br>stop_name=%{customdata[2]}<extra></extra>",
         "lat": [
          -34.423567,
          -34.4375361,
          -34.4443381,
          -34.4506827,
          -34.4561533,
          -34.4608043,
          -34.4722074,
          -34.4800686,
          -34.4885346,
          -34.4975978,
          -34.5077139,
          -34.5247233,
          -34.5365204,
          -34.5482911,
          -34.5588016,
          -34.5625299,
          -34.5899757,
          -34.5154718,
          -34.5230887,
          -34.5304745,
          -34.5425501,
          -34.5540735,
          -34.5652607,
          -34.5680506,
          -34.5729746,
          -34.575705,
          -34.5717485,
          -34.5347067,
          -34.542232,
          -34.5501584,
          -34.5573725,
          -34.5635642,
          -34.5734195,
          -34.5810718,
          -34.5804962,
          -34.574712,
          -34.5684173,
          -34.2866198,
          -34.330977,
          -34.3703514,
          -34.3828607,
          -34.4067502,
          -34.421623,
          -34.4468958,
          -34.4627922,
          -34.4720989,
          -34.0979051,
          -34.1602209,
          -34.1565823,
          -34.2222066,
          -34.2778567,
          -34.3494239,
          -34.3830219,
          -34.4091705,
          -34.4558335,
          -34.4796651
         ],
         "legendgroup": "Mitre",
         "lon": [
          -58.5817289,
          -58.5674401,
          -58.5587407,
          -58.5507001,
          -58.5411284,
          -58.5265437,
          -58.5133831,
          -58.5038385,
          -58.4965804,
          -58.4884466,
          -58.4806636,
          -58.4728065,
          -58.4680326,
          -58.4628516,
          -58.4489445,
          -58.4367116,
          -58.376129,
          -58.4896092,
          -58.49413,
          -58.4944563,
          -58.494657,
          -58.4870632,
          -58.4753485,
          -58.4618081,
          -58.448253,
          -58.435404,
          -58.4249824,
          -58.5759809,
          -58.566917,
          -58.5570784,
          -58.5479328,
          -58.5406609,
          -58.5319579,
          -58.5170793,
          -58.501898,
          -58.4878391,
          -58.4789912,
          -59.1021904,
          -58.9872035,
          -58.8683114,
          -58.8296505,
          -58.7723202,
          -58.7365407,
          -58.6773897,
          -58.6460044,
          -58.5744514,
          -59.0378286,
          -58.977169,
          -58.9610031,
          -58.8965515,
          -58.8903315,
          -58.7953571,
          -58.7362697,
          -58.6847612,
          -58.6201168,
          -58.6029298
         ],
         "marker": {
          "color": "#EF553B"
         },
         "mode": "markers",
         "name": "Mitre",
         "showlegend": true,
         "subplot": "mapbox",
         "type": "scattermapbox"
        },
        {
         "customdata": [
          [
           "Roca",
           " Plaza Constitución - La Plata",
           "Constitución"
          ],
          [
           "Roca",
           " Plaza Constitución - La Plata",
           "S. y Kosteki"
          ],
          [
           "Roca",
           " Plaza Constitución - La Plata",
           "Sarandí"
          ],
          [
           "Roca",
           " Plaza Constitución - La Plata",
           "Villa Domínico"
          ],
          [
           "Roca",
           " Plaza Constitución - La Plata",
           "Wilde"
          ],
          [
           "Roca",
           " Plaza Constitución - La Plata",
           "Don Bosco"
          ],
          [
           "Roca",
           " Plaza Constitución - La Plata",
           "Bernal"
          ],
          [
           "Roca",
           " Plaza Constitución - La Plata",
           "Quilmes"
          ],
          [
           "Roca",
           " Plaza Constitución - La Plata",
           "Ezpeleta"
          ],
          [
           "Roca",
           " Plaza Constitución - La Plata",
           "Berazategui"
          ],
          [
           "Roca",
           " Plaza Constitución - La Plata",
           "Plátanos"
          ],
          [
           "Roca",
           " Plaza Constitución - La Plata",
           "Hudson"
          ],
          [
           "Roca",
           " Plaza Constitución - La Plata",
           "Pereyra"
          ],
          [
           "Roca",
           " Plaza Constitución - La Plata",
           "Villa Elisa"
          ],
          [
           "Roca",
           " Plaza Constitución - La Plata",
           "City Bell"
          ],
          [
           "Roca",
           " Plaza Constitución - La Plata",
           "Gonnet"
          ],
          [
           "Roca",
           " Plaza Constitución - La Plata",
           "Ringuelet"
          ],
          [
           "Roca",
           " Plaza Constitución - La Plata",
           "Tolosa"
          ],
          [
           "Roca",
           " Plaza Constitución - La Plata",
           "La Plata"
          ],
          [
           "Roca",
           " Plaza Constitución - Bosques-Q",
           "Villa España"
          ],
          [
           "Roca",
           " Plaza Constitución - Bosques-Q",
           "Ranelagh"
          ],
          [
           "Roca",
           " Plaza Constitución - Bosques-Q",
           "Sourigues"
          ],
          [
           "Roca",
           " Plaza Constitución - Bosques-Q",
           "Bosques"
          ],
          [
           "Roca",
           " Plaza Constitución - Bosques-T",
           "Claypole"
          ],
          [
           "Roca",
           " Plaza Constitución - Bosques-T",
           "Rafael Calzada"
          ],
          [
           "Roca",
           " Plaza Constitución - Bosques-T",
           "José Mármol"
          ],
          [
           "Roca",
           " Plaza Constitución - Bosques-T",
           "Temperley"
          ],
          [
           "Roca",
           " Plaza Constitución - Bosques-T",
           "Lomas de Zamora"
          ],
          [
           "Roca",
           " Plaza Constitución - Bosques-T",
           "Banfield"
          ],
          [
           "Roca",
           " Plaza Constitución - Bosques-T",
           "Lanús"
          ],
          [
           "Roca",
           " Plaza Constitución - Bosques-T",
           "Zeballos"
          ],
          [
           "Roca",
           " Plaza Constitución - Bosques-T",
           "Florencio Varela"
          ],
          [
           "Roca",
           " Plaza Constitución - Bosques-T",
           "Dante Ardigó"
          ],
          [
           "Roca",
           " Plaza Constitución - Bosques-T",
           "Remedios de Escalada"
          ],
          [
           "Roca",
           " Plaza Constitución - Bosques-T",
           "Gerli"
          ],
          [
           "Roca",
           " Plaza Constitución - Bosques-T",
           "Hipólito Yrigoyen"
          ],
          [
           "Roca",
           " Plaza Constitución - Alejandro Korn",
           "Glew"
          ],
          [
           "Roca",
           " Plaza Constitución - Alejandro Korn",
           "Longchamps"
          ],
          [
           "Roca",
           " Plaza Constitución - Alejandro Korn",
           "Burzaco"
          ],
          [
           "Roca",
           " Plaza Constitución - Alejandro Korn",
           "Adrogué"
          ],
          [
           "Roca",
           " Plaza Constitución - Alejandro Korn",
           "Alejandro Korn"
          ],
          [
           "Roca",
           " Plaza Constitución - Alejandro Korn",
           "Guernica"
          ],
          [
           "Roca",
           " Plaza Constitución - Ezeiza",
           "Turdera"
          ],
          [
           "Roca",
           " Plaza Constitución - Ezeiza",
           "Llavallol"
          ],
          [
           "Roca",
           " Plaza Constitución - Ezeiza",
           "Luis Guillón"
          ],
          [
           "Roca",
           " Plaza Constitución - Ezeiza",
           "Monte Grande"
          ],
          [
           "Roca",
           " Plaza Constitución - Ezeiza",
           "El Jagüel"
          ],
          [
           "Roca",
           " Plaza Constitución - Ezeiza",
           "Ezeiza"
          ],
          [
           "Roca",
           " Temperley - Gutiérrez",
           "Gutiérrez"
          ],
          [
           "Roca",
           " Temperley - Gutiérrez",
           "Santa Sofía"
          ],
          [
           "Roca",
           " Ezeiza - Cañuelas (Eza)",
           "Cañuelas"
          ],
          [
           "Roca",
           " Ezeiza - Cañuelas (Eza)",
           "Ricardo Levene"
          ],
          [
           "Roca",
           " Ezeiza - Cañuelas (Eza)",
           "Apeadero Kloosterman"
          ],
          [
           "Roca",
           " Ezeiza - Cañuelas (Eza)",
           "Alejandro Petión"
          ],
          [
           "Roca",
           " Ezeiza - Cañuelas (Eza)",
           "Vicente Casares"
          ],
          [
           "Roca",
           " Ezeiza - Cañuelas (Eza)",
           "Máximo Paz"
          ],
          [
           "Roca",
           " Ezeiza - Cañuelas (Eza)",
           "Carlos Spegazzini"
          ],
          [
           "Roca",
           " Ezeiza - Cañuelas (Eza)",
           "Tristán Suárez"
          ],
          [
           "Roca",
           " Ezeiza - Cañuelas (Eza)",
           "Unión Ferroviaria"
          ],
          [
           "Roca",
           " La Plata - Policlínico",
           "Arquitectura"
          ],
          [
           "Roca",
           " La Plata - Policlínico",
           "Informática"
          ],
          [
           "Roca",
           " La Plata - Policlínico",
           "Medicina"
          ],
          [
           "Roca",
           " La Plata - Policlínico",
           "Periodismo"
          ],
          [
           "Roca",
           " La Plata - Policlínico",
           "Diagonal 73"
          ],
          [
           "Roca",
           " La Plata - Policlínico",
           "Policlínico"
          ],
          [
           "Roca",
           " Plaza Constitución - Monte",
           "La Noria"
          ],
          [
           "Roca",
           " Plaza Constitución - Monte",
           "Abbot"
          ],
          [
           "Roca",
           " Plaza Constitución - Monte",
           "Monte"
          ],
          [
           "Roca",
           " Plaza Constitución - Lobos",
           "Uribelarrea"
          ],
          [
           "Roca",
           " Plaza Constitución - Chascomús",
           "Domselaar"
          ],
          [
           "Roca",
           " Plaza Constitución - Chascomús",
           "Cnel. Brandsen"
          ],
          [
           "Roca",
           " Plaza Constitución - Chascomús",
           "Jeppener"
          ],
          [
           "Roca",
           " Plaza Constitución - Chascomús",
           "Altamirano"
          ],
          [
           "Roca",
           " Plaza Constitución - Chascomús",
           "Gándara"
          ],
          [
           "Roca",
           " Plaza Constitución - Chascomús",
           "Chascomús"
          ]
         ],
         "hovertemplate": "linea=%{customdata[0]}<br>lat=%{lat}<br>lon=%{lon}<br>ramal=%{customdata[1]}<br>stop_name=%{customdata[2]}<extra></extra>",
         "lat": [
          -34.6301709,
          -34.6613896,
          -34.6787475,
          -34.6915355,
          -34.6975894,
          -34.7033242,
          -34.7092611,
          -34.7246461,
          -34.7518509,
          -34.7640977,
          -34.7823359,
          -34.7911192,
          -34.8366304,
          -34.8495861,
          -34.8657239,
          -34.879841,
          -34.8813876,
          -34.8909547,
          -34.9038945,
          -34.7744501,
          -34.7893721,
          -34.8065811,
          -34.8195986,
          -34.80118,
          -34.7966735,
          -34.791958,
          -34.7759243,
          -34.7610318,
          -34.7436106,
          -34.7074543,
          -34.8106377,
          -34.8111227,
          -34.808388,
          -34.7270922,
          -34.6857287,
          -34.6536422,
          -34.8886501,
          -34.8595879,
          -34.8251482,
          -34.7978483,
          -34.9804097,
          -34.9179155,
          -34.7950533,
          -34.7970708,
          -34.8032178,
          -34.8144339,
          -34.8332274,
          -34.8540842,
          -34.8332066,
          -34.8250279,
          -35.0592254,
          -35.0216179,
          -34.9863555,
          -34.9775385,
          -34.9621814,
          -34.9362878,
          -34.9099069,
          -34.8892028,
          -34.8701194,
          -34.9049408,
          -34.9033642,
          -34.9090514,
          -34.9122051,
          -34.920327,
          -34.9253053,
          -35.1651382,
          -35.2814201,
          -35.4366533,
          -35.1154841,
          -35.0701752,
          -35.1677373,
          -35.2776676,
          -35.3611696,
          -35.4497875,
          -35.5790842
         ],
         "legendgroup": "Roca",
         "lon": [
          -58.3805834,
          -58.3768325,
          -58.3449626,
          -58.3253499,
          -58.3111938,
          -58.2961718,
          -58.280569,
          -58.2606591,
          -58.2341863,
          -58.2084433,
          -58.1707596,
          -58.1552692,
          -58.0945403,
          -58.0751851,
          -58.0420495,
          -58.0107856,
          -57.9960622,
          -57.9680983,
          -57.950174,
          -58.1949303,
          -58.2031929,
          -58.2127388,
          -58.2300795,
          -58.3382367,
          -58.3591724,
          -58.380941,
          -58.3963571,
          -58.3973127,
          -58.3954246,
          -58.390637,
          -58.2594167,
          -58.2742679,
          -58.3048296,
          -58.393661,
          -58.3826371,
          -58.3788878,
          -58.3837029,
          -58.3871987,
          -58.3913722,
          -58.3942737,
          -58.3738144,
          -58.3805605,
          -58.4078781,
          -58.4291553,
          -58.4485504,
          -58.4696989,
          -58.4961652,
          -58.5228154,
          -58.188026,
          -58.2132652,
          -58.7541775,
          -58.7237738,
          -58.6895825,
          -58.6743571,
          -58.647847,
          -58.6205451,
          -58.5942645,
          -58.5677383,
          -58.5432637,
          -57.9431423,
          -57.9357323,
          -57.9278447,
          -57.9242646,
          -57.9190436,
          -57.9213044,
          -58.7881853,
          -58.8029392,
          -58.8176656,
          -58.8984676,
          -58.2906247,
          -58.2320146,
          -58.1982603,
          -58.1512081,
          -58.0937313,
          -57.9823866
         ],
         "marker": {
          "color": "#00cc96"
         },
         "mode": "markers",
         "name": "Roca",
         "showlegend": true,
         "subplot": "mapbox",
         "type": "scattermapbox"
        },
        {
         "customdata": [
          [
           "Belgrano Sur",
           " Buenos Aires - M.C.G. Belgrano",
           "Marinos C. G. Belgrano"
          ],
          [
           "Belgrano Sur",
           " Buenos Aires - M.C.G. Belgrano",
           "Libertad"
          ],
          [
           "Belgrano Sur",
           " Buenos Aires - M.C.G. Belgrano",
           "Merlo Gómez"
          ],
          [
           "Belgrano Sur",
           " Buenos Aires - M.C.G. Belgrano",
           "Rafael Castillo"
          ],
          [
           "Belgrano Sur",
           " Buenos Aires - M.C.G. Belgrano",
           "Isidro Casanova"
          ],
          [
           "Belgrano Sur",
           " Buenos Aires - M.C.G. Belgrano",
           "Justo Villegas"
          ],
          [
           "Belgrano Sur",
           " Buenos Aires - M.C.G. Belgrano",
           "José Ingenieros"
          ],
          [
           "Belgrano Sur",
           " Buenos Aires - M.C.G. Belgrano",
           "Sánchez de Mendeville"
          ],
          [
           "Belgrano Sur",
           " Buenos Aires - M.C.G. Belgrano",
           "Aldo Bonzi"
          ],
          [
           "Belgrano Sur",
           " Buenos Aires - M.C.G. Belgrano",
           "Tapiales"
          ],
          [
           "Belgrano Sur",
           " Buenos Aires - M.C.G. Belgrano",
           "Marinos del Fournier"
          ],
          [
           "Belgrano Sur",
           " Buenos Aires - M.C.G. Belgrano",
           "Villa Madero"
          ],
          [
           "Belgrano Sur",
           " Buenos Aires - M.C.G. Belgrano",
           "Villa Lugano"
          ],
          [
           "Belgrano Sur",
           " Buenos Aires - M.C.G. Belgrano",
           "Presidente Illia"
          ],
          [
           "Belgrano Sur",
           " Buenos Aires - M.C.G. Belgrano",
           "Villa Soldati"
          ],
          [
           "Belgrano Sur",
           " Buenos Aires - M.C.G. Belgrano",
           "Dr. Sáenz"
          ],
          [
           "Belgrano Sur",
           " Buenos Aires - Gonzalez Catán",
           "González Catán"
          ],
          [
           "Belgrano Sur",
           " Buenos Aires - Gonzalez Catán",
           "Independencia"
          ],
          [
           "Belgrano Sur",
           " Buenos Aires - Gonzalez Catán",
           "María Eva Duarte"
          ],
          [
           "Belgrano Sur",
           " Buenos Aires - Gonzalez Catán",
           "Laferrere"
          ],
          [
           "Belgrano Sur",
           " Buenos Aires - Gonzalez Catán",
           "Querandí"
          ],
          [
           "Belgrano Sur",
           " Buenos Aires - Gonzalez Catán",
           "Ingeniero Castello"
          ],
          [
           "Belgrano Sur",
           " Buenos Aires - Gonzalez Catán",
           "Dr. Sáenz nueva"
          ],
          [
           "Belgrano Sur",
           " Apeadero Km 12 - Libertad",
           "Apeadero Km. 12"
          ],
          [
           "Belgrano Sur",
           " Gonzalez Catán - 20 de Junio",
           "20 de Junio"
          ]
         ],
         "hovertemplate": "linea=%{customdata[0]}<br>lat=%{lat}<br>lon=%{lon}<br>ramal=%{customdata[1]}<br>stop_name=%{customdata[2]}<extra></extra>",
         "lat": [
          -34.7086815,
          -34.6921774,
          -34.6971714,
          -34.6996965,
          -34.7044639,
          -34.708965,
          -34.710762,
          -34.7124465,
          -34.7106549,
          -34.7025293,
          -34.6901777,
          -34.6840978,
          -34.67713,
          -34.6661376,
          -34.6622014,
          -34.6481153,
          -34.7714637,
          -34.7607983,
          -34.7564804,
          -34.7506533,
          -34.7223687,
          -34.7105416,
          -34.6490835,
          -34.7100582,
          -34.7802549
         ],
         "legendgroup": "Belgrano Sur",
         "lon": [
          -58.7307061,
          -58.6861877,
          -58.6462658,
          -58.6261936,
          -58.5879899,
          -58.5519393,
          -58.537256,
          -58.5238732,
          -58.5141386,
          -58.5115373,
          -58.5076299,
          -58.4925366,
          -58.4769699,
          -58.4502223,
          -58.4408973,
          -58.4199555,
          -58.6465457,
          -58.6173412,
          -58.6020446,
          -58.58425,
          -58.5307279,
          -58.5063521,
          -58.4158387,
          -58.5059269,
          -58.7378366
         ],
         "marker": {
          "color": "#ab63fa"
         },
         "mode": "markers",
         "name": "Belgrano Sur",
         "showlegend": true,
         "subplot": "mapbox",
         "type": "scattermapbox"
        },
        {
         "customdata": [
          [
           "Linea Mitre",
           " Maipú - Delta",
           "Maipú"
          ],
          [
           "Linea Mitre",
           " Maipú - Delta",
           "Borges"
          ],
          [
           "Linea Mitre",
           " Maipú - Delta",
           "Libertador"
          ],
          [
           "Linea Mitre",
           " Maipú - Delta",
           "Juan Anchorena"
          ],
          [
           "Linea Mitre",
           " Maipú - Delta",
           "Las Barrancas"
          ],
          [
           "Linea Mitre",
           " Maipú - Delta",
           "San Isidro R"
          ],
          [
           "Linea Mitre",
           " Maipú - Delta",
           "Punta Chica"
          ],
          [
           "Linea Mitre",
           " Maipú - Delta",
           "Marina Nueva"
          ],
          [
           "Linea Mitre",
           " Maipú - Delta",
           "San Fernando R"
          ],
          [
           "Linea Mitre",
           " Maipú - Delta",
           "Canal San Fernando"
          ],
          [
           "Linea Mitre",
           " Maipú - Delta",
           "Delta"
          ]
         ],
         "hovertemplate": "linea=%{customdata[0]}<br>lat=%{lat}<br>lon=%{lon}<br>ramal=%{customdata[1]}<br>stop_name=%{customdata[2]}<extra></extra>",
         "lat": [
          -34.5130886,
          -34.5081513,
          -34.5027276,
          -34.4891115,
          -34.4722137,
          -34.4654466,
          -34.4506585,
          -34.4445522,
          -34.4375367,
          -34.4299116,
          -34.419003
         ],
         "legendgroup": "Linea Mitre",
         "lon": [
          -58.487579,
          -58.4845536,
          -58.4821262,
          -58.4812172,
          -58.4934212,
          -58.5081309,
          -58.5236988,
          -58.5390515,
          -58.553991,
          -58.5629211,
          -58.5761953
         ],
         "marker": {
          "color": "#FFA15A"
         },
         "mode": "markers",
         "name": "Linea Mitre",
         "showlegend": true,
         "subplot": "mapbox",
         "type": "scattermapbox"
        },
        {
         "customdata": [
          [
           "San Martin",
           " Retiro (LSM) - Cabred",
           "Villa del Parque"
          ],
          [
           "San Martin",
           " Retiro (LSM) - Cabred",
           "Sáenz Peña"
          ],
          [
           "San Martin",
           " Retiro (LSM) - Cabred",
           "Caseros"
          ],
          [
           "San Martin",
           " Retiro (LSM) - Cabred",
           "Pilar"
          ],
          [
           "San Martin",
           " Retiro (LSM) - Cabred",
           "Derqui"
          ],
          [
           "San Martin",
           " Retiro (LSM) - Cabred",
           "José C. Paz"
          ],
          [
           "San Martin",
           " Retiro (LSM) - Cabred",
           "Manzanares"
          ],
          [
           "San Martin",
           " Retiro (LSM) - Cabred",
           "Cabred"
          ],
          [
           "San Martin",
           " Retiro (LSM) - Cabred",
           "Villa Astolfi"
          ],
          [
           "San Martin",
           " Retiro (LSM) - Cabred",
           "Sol y Verde"
          ],
          [
           "San Martin",
           " Retiro (LSM) - Cabred",
           "San Miguel"
          ],
          [
           "San Martin",
           " Retiro (LSM) - Cabred",
           "Muñiz"
          ],
          [
           "San Martin",
           " Retiro (LSM) - Cabred",
           "Bella Vista"
          ],
          [
           "San Martin",
           " Retiro (LSM) - Cabred",
           "William Morris"
          ],
          [
           "San Martin",
           " Retiro (LSM) - Cabred",
           "Hurlingham"
          ],
          [
           "San Martin",
           " Retiro (LSM) - Cabred",
           "El Palomar"
          ],
          [
           "San Martin",
           " Retiro (LSM) - Cabred",
           "Santos Lugares"
          ],
          [
           "San Martin",
           " Retiro (LSM) - Cabred",
           "Devoto"
          ],
          [
           "San Martin",
           " Retiro (LSM) - Cabred",
           "Palermo"
          ],
          [
           "San Martin",
           " Retiro (LSM) - Cabred",
           "Retiro LSM"
          ]
         ],
         "hovertemplate": "linea=%{customdata[0]}<br>lat=%{lat}<br>lon=%{lon}<br>ramal=%{customdata[1]}<br>stop_name=%{customdata[2]}<extra></extra>",
         "lat": [
          -34.6013699,
          -34.6031533,
          -34.6045861,
          -34.4687433,
          -34.4909537,
          -34.5193436,
          -34.4522459,
          -34.4878244,
          -34.4786824,
          -34.5039897,
          -34.5431069,
          -34.5513662,
          -34.5638352,
          -34.5784645,
          -34.5911517,
          -34.604926,
          -34.6036745,
          -34.6026515,
          -34.5796614,
          -34.5881302
         ],
         "legendgroup": "San Martin",
         "lon": [
          -58.4935315,
          -58.5274629,
          -58.5644918,
          -58.9079062,
          -58.8384456,
          -58.7494301,
          -59.0067549,
          -59.075658,
          -58.8768343,
          -58.7976033,
          -58.7150571,
          -58.7033147,
          -58.6845919,
          -58.6565796,
          -58.6322349,
          -58.5956555,
          -58.5407521,
          -58.5124313,
          -58.4274154,
          -58.3756885
         ],
         "marker": {
          "color": "#19d3f3"
         },
         "mode": "markers",
         "name": "San Martin",
         "showlegend": true,
         "subplot": "mapbox",
         "type": "scattermapbox"
        },
        {
         "customdata": [
          [
           "Belgrano Norte",
           "Grand Bourg",
           "Retiro"
          ],
          [
           "Belgrano Norte",
           "Grand Bourg",
           "Saldias"
          ],
          [
           "Belgrano Norte",
           "Grand Bourg",
           "Ciudad Universitaria"
          ],
          [
           "Belgrano Norte",
           "Grand Bourg",
           "Aristóbulo del Valle"
          ],
          [
           "Belgrano Norte",
           "Grand Bourg",
           "Blas Parera Y Ruta Nacional 9"
          ],
          [
           "Belgrano Norte",
           "Grand Bourg",
           "M. M. Padilha"
          ],
          [
           "Belgrano Norte",
           "Grand Bourg",
           "Florida"
          ],
          [
           "Belgrano Norte",
           "Grand Bourg",
           "Munro"
          ],
          [
           "Belgrano Norte",
           "Grand Bourg",
           "Carapachay"
          ],
          [
           "Belgrano Norte",
           "Grand Bourg",
           "Villa Adelina"
          ],
          [
           "Belgrano Norte",
           "Grand Bourg",
           "Bulogne Sur Mer"
          ],
          [
           "Belgrano Norte",
           "Grand Bourg",
           "Vice Alte. Montes"
          ],
          [
           "Belgrano Norte",
           "Grand Bourg",
           "Don Torcuato"
          ],
          [
           "Belgrano Norte",
           "Grand Bourg",
           "A. Sourdeaux"
          ],
          [
           "Belgrano Norte",
           "Grand Bourg",
           "Villa de Mayo"
          ],
          [
           "Belgrano Norte",
           "Grand Bourg",
           "Los Polvorines"
          ],
          [
           "Belgrano Norte",
           "Grand Bourg",
           "Ing. Pablo Nogués"
          ],
          [
           "Belgrano Norte",
           "Grand Bourg",
           "Grand Bourg"
          ],
          [
           "Belgrano Norte",
           "Villa Rosa",
           "Tierras Altas"
          ],
          [
           "Belgrano Norte",
           "Villa Rosa",
           "Tortuguitas"
          ],
          [
           "Belgrano Norte",
           "Villa Rosa",
           "M. Alberti"
          ],
          [
           "Belgrano Norte",
           "Villa Rosa",
           "Del Viso"
          ],
          [
           "Belgrano Norte",
           "Villa Rosa",
           "Villa Rosa"
          ]
         ],
         "hovertemplate": "linea=%{customdata[0]}<br>lat=%{lat}<br>lon=%{lon}<br>ramal=%{customdata[1]}<br>stop_name=%{customdata[2]}<extra></extra>",
         "lat": [
          -34.589842152388506,
          -34.57530210184635,
          -34.54310692300697,
          -34.53748682730214,
          -34.54421252622074,
          -34.543362365387644,
          -34.53707942201573,
          -34.53176009194987,
          -34.52871135940539,
          -34.523660072345294,
          -34.50885560588542,
          -34.50400681795156,
          -34.502956979566946,
          -34.502885815723374,
          -34.50359989688513,
          -34.49914184101544,
          -34.49373226031667,
          -34.48530250697934,
          -34.4782750138425,
          -34.47077408938978,
          -34.46284790003312,
          -34.4535792176974,
          -34.41684562309018
         ],
         "legendgroup": "Belgrano Norte",
         "lon": [
          -58.37448621453611,
          -58.39931291406788,
          -58.44779899349659,
          -58.47789412332361,
          -58.49505127835214,
          -58.50083231911838,
          -58.51320344368852,
          -58.523614893785016,
          -58.5372566166816,
          -58.54607635069154,
          -58.56538796173401,
          -58.62003346120821,
          -58.64188027717036,
          -58.66652157497593,
          -58.68070158488783,
          -58.69383935877939,
          -58.70644772869876,
          -58.72517917621924,
          -58.74026482235437,
          -58.75781879751502,
          -58.7756481099875,
          -58.796145166827415,
          -58.87163837581165
         ],
         "marker": {
          "color": "#FF6692"
         },
         "mode": "markers",
         "name": "Belgrano Norte",
         "showlegend": true,
         "subplot": "mapbox",
         "type": "scattermapbox"
        }
       ],
       "layout": {
        "height": 900,
        "legend": {
         "title": {
          "text": "linea"
         },
         "tracegroupgap": 0
        },
        "mapbox": {
         "center": {
          "lat": -34.66622355004099,
          "lon": -58.555058391775646
         },
         "domain": {
          "x": [
           0,
           1
          ],
          "y": [
           0,
           1
          ]
         },
         "style": "carto-darkmatter",
         "zoom": 10
        },
        "margin": {
         "b": 0,
         "l": 0,
         "r": 0,
         "t": 0
        },
        "template": {
         "data": {
          "bar": [
           {
            "error_x": {
             "color": "#2a3f5f"
            },
            "error_y": {
             "color": "#2a3f5f"
            },
            "marker": {
             "line": {
              "color": "#E5ECF6",
              "width": 0.5
             },
             "pattern": {
              "fillmode": "overlay",
              "size": 10,
              "solidity": 0.2
             }
            },
            "type": "bar"
           }
          ],
          "barpolar": [
           {
            "marker": {
             "line": {
              "color": "#E5ECF6",
              "width": 0.5
             },
             "pattern": {
              "fillmode": "overlay",
              "size": 10,
              "solidity": 0.2
             }
            },
            "type": "barpolar"
           }
          ],
          "carpet": [
           {
            "aaxis": {
             "endlinecolor": "#2a3f5f",
             "gridcolor": "white",
             "linecolor": "white",
             "minorgridcolor": "white",
             "startlinecolor": "#2a3f5f"
            },
            "baxis": {
             "endlinecolor": "#2a3f5f",
             "gridcolor": "white",
             "linecolor": "white",
             "minorgridcolor": "white",
             "startlinecolor": "#2a3f5f"
            },
            "type": "carpet"
           }
          ],
          "choropleth": [
           {
            "colorbar": {
             "outlinewidth": 0,
             "ticks": ""
            },
            "type": "choropleth"
           }
          ],
          "contour": [
           {
            "colorbar": {
             "outlinewidth": 0,
             "ticks": ""
            },
            "colorscale": [
             [
              0,
              "#0d0887"
             ],
             [
              0.1111111111111111,
              "#46039f"
             ],
             [
              0.2222222222222222,
              "#7201a8"
             ],
             [
              0.3333333333333333,
              "#9c179e"
             ],
             [
              0.4444444444444444,
              "#bd3786"
             ],
             [
              0.5555555555555556,
              "#d8576b"
             ],
             [
              0.6666666666666666,
              "#ed7953"
             ],
             [
              0.7777777777777778,
              "#fb9f3a"
             ],
             [
              0.8888888888888888,
              "#fdca26"
             ],
             [
              1,
              "#f0f921"
             ]
            ],
            "type": "contour"
           }
          ],
          "contourcarpet": [
           {
            "colorbar": {
             "outlinewidth": 0,
             "ticks": ""
            },
            "type": "contourcarpet"
           }
          ],
          "heatmap": [
           {
            "colorbar": {
             "outlinewidth": 0,
             "ticks": ""
            },
            "colorscale": [
             [
              0,
              "#0d0887"
             ],
             [
              0.1111111111111111,
              "#46039f"
             ],
             [
              0.2222222222222222,
              "#7201a8"
             ],
             [
              0.3333333333333333,
              "#9c179e"
             ],
             [
              0.4444444444444444,
              "#bd3786"
             ],
             [
              0.5555555555555556,
              "#d8576b"
             ],
             [
              0.6666666666666666,
              "#ed7953"
             ],
             [
              0.7777777777777778,
              "#fb9f3a"
             ],
             [
              0.8888888888888888,
              "#fdca26"
             ],
             [
              1,
              "#f0f921"
             ]
            ],
            "type": "heatmap"
           }
          ],
          "heatmapgl": [
           {
            "colorbar": {
             "outlinewidth": 0,
             "ticks": ""
            },
            "colorscale": [
             [
              0,
              "#0d0887"
             ],
             [
              0.1111111111111111,
              "#46039f"
             ],
             [
              0.2222222222222222,
              "#7201a8"
             ],
             [
              0.3333333333333333,
              "#9c179e"
             ],
             [
              0.4444444444444444,
              "#bd3786"
             ],
             [
              0.5555555555555556,
              "#d8576b"
             ],
             [
              0.6666666666666666,
              "#ed7953"
             ],
             [
              0.7777777777777778,
              "#fb9f3a"
             ],
             [
              0.8888888888888888,
              "#fdca26"
             ],
             [
              1,
              "#f0f921"
             ]
            ],
            "type": "heatmapgl"
           }
          ],
          "histogram": [
           {
            "marker": {
             "pattern": {
              "fillmode": "overlay",
              "size": 10,
              "solidity": 0.2
             }
            },
            "type": "histogram"
           }
          ],
          "histogram2d": [
           {
            "colorbar": {
             "outlinewidth": 0,
             "ticks": ""
            },
            "colorscale": [
             [
              0,
              "#0d0887"
             ],
             [
              0.1111111111111111,
              "#46039f"
             ],
             [
              0.2222222222222222,
              "#7201a8"
             ],
             [
              0.3333333333333333,
              "#9c179e"
             ],
             [
              0.4444444444444444,
              "#bd3786"
             ],
             [
              0.5555555555555556,
              "#d8576b"
             ],
             [
              0.6666666666666666,
              "#ed7953"
             ],
             [
              0.7777777777777778,
              "#fb9f3a"
             ],
             [
              0.8888888888888888,
              "#fdca26"
             ],
             [
              1,
              "#f0f921"
             ]
            ],
            "type": "histogram2d"
           }
          ],
          "histogram2dcontour": [
           {
            "colorbar": {
             "outlinewidth": 0,
             "ticks": ""
            },
            "colorscale": [
             [
              0,
              "#0d0887"
             ],
             [
              0.1111111111111111,
              "#46039f"
             ],
             [
              0.2222222222222222,
              "#7201a8"
             ],
             [
              0.3333333333333333,
              "#9c179e"
             ],
             [
              0.4444444444444444,
              "#bd3786"
             ],
             [
              0.5555555555555556,
              "#d8576b"
             ],
             [
              0.6666666666666666,
              "#ed7953"
             ],
             [
              0.7777777777777778,
              "#fb9f3a"
             ],
             [
              0.8888888888888888,
              "#fdca26"
             ],
             [
              1,
              "#f0f921"
             ]
            ],
            "type": "histogram2dcontour"
           }
          ],
          "mesh3d": [
           {
            "colorbar": {
             "outlinewidth": 0,
             "ticks": ""
            },
            "type": "mesh3d"
           }
          ],
          "parcoords": [
           {
            "line": {
             "colorbar": {
              "outlinewidth": 0,
              "ticks": ""
             }
            },
            "type": "parcoords"
           }
          ],
          "pie": [
           {
            "automargin": true,
            "type": "pie"
           }
          ],
          "scatter": [
           {
            "fillpattern": {
             "fillmode": "overlay",
             "size": 10,
             "solidity": 0.2
            },
            "type": "scatter"
           }
          ],
          "scatter3d": [
           {
            "line": {
             "colorbar": {
              "outlinewidth": 0,
              "ticks": ""
             }
            },
            "marker": {
             "colorbar": {
              "outlinewidth": 0,
              "ticks": ""
             }
            },
            "type": "scatter3d"
           }
          ],
          "scattercarpet": [
           {
            "marker": {
             "colorbar": {
              "outlinewidth": 0,
              "ticks": ""
             }
            },
            "type": "scattercarpet"
           }
          ],
          "scattergeo": [
           {
            "marker": {
             "colorbar": {
              "outlinewidth": 0,
              "ticks": ""
             }
            },
            "type": "scattergeo"
           }
          ],
          "scattergl": [
           {
            "marker": {
             "colorbar": {
              "outlinewidth": 0,
              "ticks": ""
             }
            },
            "type": "scattergl"
           }
          ],
          "scattermapbox": [
           {
            "marker": {
             "colorbar": {
              "outlinewidth": 0,
              "ticks": ""
             }
            },
            "type": "scattermapbox"
           }
          ],
          "scatterpolar": [
           {
            "marker": {
             "colorbar": {
              "outlinewidth": 0,
              "ticks": ""
             }
            },
            "type": "scatterpolar"
           }
          ],
          "scatterpolargl": [
           {
            "marker": {
             "colorbar": {
              "outlinewidth": 0,
              "ticks": ""
             }
            },
            "type": "scatterpolargl"
           }
          ],
          "scatterternary": [
           {
            "marker": {
             "colorbar": {
              "outlinewidth": 0,
              "ticks": ""
             }
            },
            "type": "scatterternary"
           }
          ],
          "surface": [
           {
            "colorbar": {
             "outlinewidth": 0,
             "ticks": ""
            },
            "colorscale": [
             [
              0,
              "#0d0887"
             ],
             [
              0.1111111111111111,
              "#46039f"
             ],
             [
              0.2222222222222222,
              "#7201a8"
             ],
             [
              0.3333333333333333,
              "#9c179e"
             ],
             [
              0.4444444444444444,
              "#bd3786"
             ],
             [
              0.5555555555555556,
              "#d8576b"
             ],
             [
              0.6666666666666666,
              "#ed7953"
             ],
             [
              0.7777777777777778,
              "#fb9f3a"
             ],
             [
              0.8888888888888888,
              "#fdca26"
             ],
             [
              1,
              "#f0f921"
             ]
            ],
            "type": "surface"
           }
          ],
          "table": [
           {
            "cells": {
             "fill": {
              "color": "#EBF0F8"
             },
             "line": {
              "color": "white"
             }
            },
            "header": {
             "fill": {
              "color": "#C8D4E3"
             },
             "line": {
              "color": "white"
             }
            },
            "type": "table"
           }
          ]
         },
         "layout": {
          "annotationdefaults": {
           "arrowcolor": "#2a3f5f",
           "arrowhead": 0,
           "arrowwidth": 1
          },
          "autotypenumbers": "strict",
          "coloraxis": {
           "colorbar": {
            "outlinewidth": 0,
            "ticks": ""
           }
          },
          "colorscale": {
           "diverging": [
            [
             0,
             "#8e0152"
            ],
            [
             0.1,
             "#c51b7d"
            ],
            [
             0.2,
             "#de77ae"
            ],
            [
             0.3,
             "#f1b6da"
            ],
            [
             0.4,
             "#fde0ef"
            ],
            [
             0.5,
             "#f7f7f7"
            ],
            [
             0.6,
             "#e6f5d0"
            ],
            [
             0.7,
             "#b8e186"
            ],
            [
             0.8,
             "#7fbc41"
            ],
            [
             0.9,
             "#4d9221"
            ],
            [
             1,
             "#276419"
            ]
           ],
           "sequential": [
            [
             0,
             "#0d0887"
            ],
            [
             0.1111111111111111,
             "#46039f"
            ],
            [
             0.2222222222222222,
             "#7201a8"
            ],
            [
             0.3333333333333333,
             "#9c179e"
            ],
            [
             0.4444444444444444,
             "#bd3786"
            ],
            [
             0.5555555555555556,
             "#d8576b"
            ],
            [
             0.6666666666666666,
             "#ed7953"
            ],
            [
             0.7777777777777778,
             "#fb9f3a"
            ],
            [
             0.8888888888888888,
             "#fdca26"
            ],
            [
             1,
             "#f0f921"
            ]
           ],
           "sequentialminus": [
            [
             0,
             "#0d0887"
            ],
            [
             0.1111111111111111,
             "#46039f"
            ],
            [
             0.2222222222222222,
             "#7201a8"
            ],
            [
             0.3333333333333333,
             "#9c179e"
            ],
            [
             0.4444444444444444,
             "#bd3786"
            ],
            [
             0.5555555555555556,
             "#d8576b"
            ],
            [
             0.6666666666666666,
             "#ed7953"
            ],
            [
             0.7777777777777778,
             "#fb9f3a"
            ],
            [
             0.8888888888888888,
             "#fdca26"
            ],
            [
             1,
             "#f0f921"
            ]
           ]
          },
          "colorway": [
           "#636efa",
           "#EF553B",
           "#00cc96",
           "#ab63fa",
           "#FFA15A",
           "#19d3f3",
           "#FF6692",
           "#B6E880",
           "#FF97FF",
           "#FECB52"
          ],
          "font": {
           "color": "#2a3f5f"
          },
          "geo": {
           "bgcolor": "white",
           "lakecolor": "white",
           "landcolor": "#E5ECF6",
           "showlakes": true,
           "showland": true,
           "subunitcolor": "white"
          },
          "hoverlabel": {
           "align": "left"
          },
          "hovermode": "closest",
          "mapbox": {
           "style": "light"
          },
          "paper_bgcolor": "white",
          "plot_bgcolor": "#E5ECF6",
          "polar": {
           "angularaxis": {
            "gridcolor": "white",
            "linecolor": "white",
            "ticks": ""
           },
           "bgcolor": "#E5ECF6",
           "radialaxis": {
            "gridcolor": "white",
            "linecolor": "white",
            "ticks": ""
           }
          },
          "scene": {
           "xaxis": {
            "backgroundcolor": "#E5ECF6",
            "gridcolor": "white",
            "gridwidth": 2,
            "linecolor": "white",
            "showbackground": true,
            "ticks": "",
            "zerolinecolor": "white"
           },
           "yaxis": {
            "backgroundcolor": "#E5ECF6",
            "gridcolor": "white",
            "gridwidth": 2,
            "linecolor": "white",
            "showbackground": true,
            "ticks": "",
            "zerolinecolor": "white"
           },
           "zaxis": {
            "backgroundcolor": "#E5ECF6",
            "gridcolor": "white",
            "gridwidth": 2,
            "linecolor": "white",
            "showbackground": true,
            "ticks": "",
            "zerolinecolor": "white"
           }
          },
          "shapedefaults": {
           "line": {
            "color": "#2a3f5f"
           }
          },
          "ternary": {
           "aaxis": {
            "gridcolor": "white",
            "linecolor": "white",
            "ticks": ""
           },
           "baxis": {
            "gridcolor": "white",
            "linecolor": "white",
            "ticks": ""
           },
           "bgcolor": "#E5ECF6",
           "caxis": {
            "gridcolor": "white",
            "linecolor": "white",
            "ticks": ""
           }
          },
          "title": {
           "x": 0.05
          },
          "xaxis": {
           "automargin": true,
           "gridcolor": "white",
           "linecolor": "white",
           "ticks": "",
           "title": {
            "standoff": 15
           },
           "zerolinecolor": "white",
           "zerolinewidth": 2
          },
          "yaxis": {
           "automargin": true,
           "gridcolor": "white",
           "linecolor": "white",
           "ticks": "",
           "title": {
            "standoff": 15
           },
           "zerolinecolor": "white",
           "zerolinewidth": 2
          }
         }
        },
        "width": 1600
       }
      }
     },
     "metadata": {},
     "output_type": "display_data"
    }
   ],
   "source": [
    "color_scale0 = [(0, 'blue')]\n",
    "color_scale1 = [(0, 'orange'), (1,'red')]\n",
    "\n",
    "fig = px.scatter_mapbox(df_tren,\n",
    "                        lat=\"lat\",\n",
    "                        lon=\"lon\",\n",
    "                        hover_data=[\"linea\", \"ramal\", \"stop_name\"],\n",
    "                        color=\"linea\",\n",
    "                        color_continuous_scale=\"bluered\",\n",
    "                        zoom=10,\n",
    "                        height=900,\n",
    "                        width=1600)\n",
    "fig.update_layout(mapbox_style=\"carto-darkmatter\")\n",
    "fig.update_layout(margin={\"r\":0,\"t\":0,\"l\":0,\"b\":0})\n",
    "fig.show()"
   ]
  },
  {
   "cell_type": "code",
   "execution_count": 201,
   "id": "d4285fbc",
   "metadata": {},
   "outputs": [],
   "source": [
    "df_tren[\"dist_centro_caba\"] = df_tren.apply(lambda x: distance.distance(centro_geografico_caba, [x.lat, x.lon]).km, axis=1)\n",
    "df_tren[\"dist_centro_plata\"] = df_tren.apply(lambda x: distance.distance(centro_geografico_plata, [x.lat, x.lon]).km, axis=1)\n",
    "\n",
    "df_tren = df_tren.drop_duplicates(keep=\"last\")"
   ]
  },
  {
   "cell_type": "code",
   "execution_count": 202,
   "id": "43dce99e",
   "metadata": {},
   "outputs": [],
   "source": [
    "df_tren.to_parquet(\"../data/interim/transporte/trenes_all.parquet\")"
   ]
  },
  {
   "cell_type": "code",
   "execution_count": 203,
   "id": "4a70eeaa",
   "metadata": {},
   "outputs": [],
   "source": [
    "df_tren = df_tren[(df_tren.dist_centro_caba < 11) | (df_tren.dist_centro_plata < 17)]\n",
    "\n",
    "df_tren.to_parquet(\"../data/interim/transporte/trenes_important.parquet\", index=False, engine=\"pyarrow\")"
   ]
  },
  {
   "cell_type": "code",
   "execution_count": 204,
   "id": "abe22502",
   "metadata": {},
   "outputs": [
    {
     "data": {
      "text/html": [
       "<div>\n",
       "<style scoped>\n",
       "    .dataframe tbody tr th:only-of-type {\n",
       "        vertical-align: middle;\n",
       "    }\n",
       "\n",
       "    .dataframe tbody tr th {\n",
       "        vertical-align: top;\n",
       "    }\n",
       "\n",
       "    .dataframe thead th {\n",
       "        text-align: right;\n",
       "    }\n",
       "</style>\n",
       "<table border=\"1\" class=\"dataframe\">\n",
       "  <thead>\n",
       "    <tr style=\"text-align: right;\">\n",
       "      <th></th>\n",
       "      <th>linea</th>\n",
       "      <th>ramal</th>\n",
       "      <th>stop_name</th>\n",
       "      <th>lat</th>\n",
       "      <th>lon</th>\n",
       "      <th>type</th>\n",
       "      <th>dist_centro_caba</th>\n",
       "      <th>dist_centro_plata</th>\n",
       "    </tr>\n",
       "  </thead>\n",
       "  <tbody>\n",
       "    <tr>\n",
       "      <th>4</th>\n",
       "      <td>Sarmiento</td>\n",
       "      <td>Once - Moreno</td>\n",
       "      <td>Ciudadela</td>\n",
       "      <td>-34.639923</td>\n",
       "      <td>-58.541123</td>\n",
       "      <td>tren</td>\n",
       "      <td>9.134687</td>\n",
       "      <td>62.108330</td>\n",
       "    </tr>\n",
       "    <tr>\n",
       "      <th>5</th>\n",
       "      <td>Sarmiento</td>\n",
       "      <td>Once - Moreno</td>\n",
       "      <td>Liniers</td>\n",
       "      <td>-34.638873</td>\n",
       "      <td>-58.526341</td>\n",
       "      <td>tren</td>\n",
       "      <td>7.815663</td>\n",
       "      <td>61.002599</td>\n",
       "    </tr>\n",
       "  </tbody>\n",
       "</table>\n",
       "</div>"
      ],
      "text/plain": [
       "       linea           ramal  stop_name        lat        lon  type   \n",
       "4  Sarmiento   Once - Moreno  Ciudadela -34.639923 -58.541123  tren  \\\n",
       "5  Sarmiento   Once - Moreno    Liniers -34.638873 -58.526341  tren   \n",
       "\n",
       "   dist_centro_caba  dist_centro_plata  \n",
       "4          9.134687          62.108330  \n",
       "5          7.815663          61.002599  "
      ]
     },
     "execution_count": 204,
     "metadata": {},
     "output_type": "execute_result"
    }
   ],
   "source": [
    "df_tren.head(2)"
   ]
  },
  {
   "cell_type": "code",
   "execution_count": 205,
   "id": "f887ce25",
   "metadata": {},
   "outputs": [
    {
     "data": {
      "application/vnd.plotly.v1+json": {
       "config": {
        "plotlyServerURL": "https://plot.ly"
       },
       "data": [
        {
         "customdata": [
          [
           "Sarmiento",
           " Once - Moreno",
           "Ciudadela"
          ],
          [
           "Sarmiento",
           " Once - Moreno",
           "Liniers"
          ],
          [
           "Sarmiento",
           " Once - Moreno",
           "Villa Luro"
          ],
          [
           "Sarmiento",
           " Once - Moreno",
           "Floresta"
          ],
          [
           "Sarmiento",
           " Once - Moreno",
           "Flores"
          ],
          [
           "Sarmiento",
           " Once - Moreno",
           "Caballito"
          ],
          [
           "Sarmiento",
           " Once - Moreno",
           "Once"
          ]
         ],
         "hovertemplate": "linea=%{customdata[0]}<br>lat=%{lat}<br>lon=%{lon}<br>ramal=%{customdata[1]}<br>stop_name=%{customdata[2]}<extra></extra>",
         "lat": [
          -34.6399227,
          -34.6388728,
          -34.6362494,
          -34.6323755,
          -34.6278504,
          -34.6192442,
          -34.6086496
         ],
         "legendgroup": "Sarmiento",
         "lon": [
          -58.5411225,
          -58.5263409,
          -58.5021311,
          -58.4808913,
          -58.4661766,
          -58.4436522,
          -58.4088675
         ],
         "marker": {
          "color": "#636efa"
         },
         "mode": "markers",
         "name": "Sarmiento",
         "showlegend": true,
         "subplot": "mapbox",
         "type": "scattermapbox"
        },
        {
         "customdata": [
          [
           "Mitre",
           " Retiro - Tigre",
           "Vicente López"
          ],
          [
           "Mitre",
           " Retiro - Tigre",
           "Rivadavia"
          ],
          [
           "Mitre",
           " Retiro - Tigre",
           "Núñez"
          ],
          [
           "Mitre",
           " Retiro - Tigre",
           "Belgrano C"
          ],
          [
           "Mitre",
           " Retiro - Tigre",
           "L. de la Torre"
          ],
          [
           "Mitre",
           " Retiro - Tigre",
           "Retiro LM"
          ],
          [
           "Mitre",
           " Retiro - Mitre",
           "Florida"
          ],
          [
           "Mitre",
           " Retiro - Mitre",
           "Juan B. Justo"
          ],
          [
           "Mitre",
           " Retiro - Mitre",
           "Saavedra"
          ],
          [
           "Mitre",
           " Retiro - Mitre",
           "Coghlan"
          ],
          [
           "Mitre",
           " Retiro - Mitre",
           "Belgrano R"
          ],
          [
           "Mitre",
           " Retiro - Mitre",
           "Colegiales"
          ],
          [
           "Mitre",
           " Retiro - Mitre",
           "Ministro Carranza"
          ],
          [
           "Mitre",
           " Retiro - Mitre",
           "3 de Febrero"
          ],
          [
           "Mitre",
           " Retiro - J. L. Suárez",
           "San Andrés"
          ],
          [
           "Mitre",
           " Retiro - J. L. Suárez",
           "San Martín"
          ],
          [
           "Mitre",
           " Retiro - J. L. Suárez",
           "Miguelete"
          ],
          [
           "Mitre",
           " Retiro - J. L. Suárez",
           "Pueyrredón"
          ],
          [
           "Mitre",
           " Retiro - J. L. Suárez",
           "General Urquiza"
          ],
          [
           "Mitre",
           " Retiro - J. L. Suárez",
           "L. M. Drago"
          ]
         ],
         "hovertemplate": "linea=%{customdata[0]}<br>lat=%{lat}<br>lon=%{lon}<br>ramal=%{customdata[1]}<br>stop_name=%{customdata[2]}<extra></extra>",
         "lat": [
          -34.5247233,
          -34.5365204,
          -34.5482911,
          -34.5588016,
          -34.5625299,
          -34.5899757,
          -34.5304745,
          -34.5425501,
          -34.5540735,
          -34.5652607,
          -34.5680506,
          -34.5729746,
          -34.575705,
          -34.5717485,
          -34.5635642,
          -34.5734195,
          -34.5810718,
          -34.5804962,
          -34.574712,
          -34.5684173
         ],
         "legendgroup": "Mitre",
         "lon": [
          -58.4728065,
          -58.4680326,
          -58.4628516,
          -58.4489445,
          -58.4367116,
          -58.376129,
          -58.4944563,
          -58.494657,
          -58.4870632,
          -58.4753485,
          -58.4618081,
          -58.448253,
          -58.435404,
          -58.4249824,
          -58.5406609,
          -58.5319579,
          -58.5170793,
          -58.501898,
          -58.4878391,
          -58.4789912
         ],
         "marker": {
          "color": "#EF553B"
         },
         "mode": "markers",
         "name": "Mitre",
         "showlegend": true,
         "subplot": "mapbox",
         "type": "scattermapbox"
        },
        {
         "customdata": [
          [
           "Roca",
           " Plaza Constitución - La Plata",
           "Constitución"
          ],
          [
           "Roca",
           " Plaza Constitución - La Plata",
           "S. y Kosteki"
          ],
          [
           "Roca",
           " Plaza Constitución - La Plata",
           "Pereyra"
          ],
          [
           "Roca",
           " Plaza Constitución - La Plata",
           "Villa Elisa"
          ],
          [
           "Roca",
           " Plaza Constitución - La Plata",
           "City Bell"
          ],
          [
           "Roca",
           " Plaza Constitución - La Plata",
           "Gonnet"
          ],
          [
           "Roca",
           " Plaza Constitución - La Plata",
           "Ringuelet"
          ],
          [
           "Roca",
           " Plaza Constitución - La Plata",
           "Tolosa"
          ],
          [
           "Roca",
           " Plaza Constitución - La Plata",
           "La Plata"
          ],
          [
           "Roca",
           " Plaza Constitución - Bosques-T",
           "Gerli"
          ],
          [
           "Roca",
           " Plaza Constitución - Bosques-T",
           "Hipólito Yrigoyen"
          ],
          [
           "Roca",
           " La Plata - Policlínico",
           "Arquitectura"
          ],
          [
           "Roca",
           " La Plata - Policlínico",
           "Informática"
          ],
          [
           "Roca",
           " La Plata - Policlínico",
           "Medicina"
          ],
          [
           "Roca",
           " La Plata - Policlínico",
           "Periodismo"
          ],
          [
           "Roca",
           " La Plata - Policlínico",
           "Diagonal 73"
          ],
          [
           "Roca",
           " La Plata - Policlínico",
           "Policlínico"
          ]
         ],
         "hovertemplate": "linea=%{customdata[0]}<br>lat=%{lat}<br>lon=%{lon}<br>ramal=%{customdata[1]}<br>stop_name=%{customdata[2]}<extra></extra>",
         "lat": [
          -34.6301709,
          -34.6613896,
          -34.8366304,
          -34.8495861,
          -34.8657239,
          -34.879841,
          -34.8813876,
          -34.8909547,
          -34.9038945,
          -34.6857287,
          -34.6536422,
          -34.9049408,
          -34.9033642,
          -34.9090514,
          -34.9122051,
          -34.920327,
          -34.9253053
         ],
         "legendgroup": "Roca",
         "lon": [
          -58.3805834,
          -58.3768325,
          -58.0945403,
          -58.0751851,
          -58.0420495,
          -58.0107856,
          -57.9960622,
          -57.9680983,
          -57.950174,
          -58.3826371,
          -58.3788878,
          -57.9431423,
          -57.9357323,
          -57.9278447,
          -57.9242646,
          -57.9190436,
          -57.9213044
         ],
         "marker": {
          "color": "#00cc96"
         },
         "mode": "markers",
         "name": "Roca",
         "showlegend": true,
         "subplot": "mapbox",
         "type": "scattermapbox"
        },
        {
         "customdata": [
          [
           "Belgrano Sur",
           " Buenos Aires - M.C.G. Belgrano",
           "Marinos del Fournier"
          ],
          [
           "Belgrano Sur",
           " Buenos Aires - M.C.G. Belgrano",
           "Villa Madero"
          ],
          [
           "Belgrano Sur",
           " Buenos Aires - M.C.G. Belgrano",
           "Villa Lugano"
          ],
          [
           "Belgrano Sur",
           " Buenos Aires - M.C.G. Belgrano",
           "Presidente Illia"
          ],
          [
           "Belgrano Sur",
           " Buenos Aires - M.C.G. Belgrano",
           "Villa Soldati"
          ],
          [
           "Belgrano Sur",
           " Buenos Aires - M.C.G. Belgrano",
           "Dr. Sáenz"
          ],
          [
           "Belgrano Sur",
           " Buenos Aires - Gonzalez Catán",
           "Dr. Sáenz nueva"
          ]
         ],
         "hovertemplate": "linea=%{customdata[0]}<br>lat=%{lat}<br>lon=%{lon}<br>ramal=%{customdata[1]}<br>stop_name=%{customdata[2]}<extra></extra>",
         "lat": [
          -34.6901777,
          -34.6840978,
          -34.67713,
          -34.6661376,
          -34.6622014,
          -34.6481153,
          -34.6490835
         ],
         "legendgroup": "Belgrano Sur",
         "lon": [
          -58.5076299,
          -58.4925366,
          -58.4769699,
          -58.4502223,
          -58.4408973,
          -58.4199555,
          -58.4158387
         ],
         "marker": {
          "color": "#ab63fa"
         },
         "mode": "markers",
         "name": "Belgrano Sur",
         "showlegend": true,
         "subplot": "mapbox",
         "type": "scattermapbox"
        },
        {
         "customdata": [
          [
           "San Martin",
           " Retiro (LSM) - Cabred",
           "Villa del Parque"
          ],
          [
           "San Martin",
           " Retiro (LSM) - Cabred",
           "Sáenz Peña"
          ],
          [
           "San Martin",
           " Retiro (LSM) - Cabred",
           "Caseros"
          ],
          [
           "San Martin",
           " Retiro (LSM) - Cabred",
           "Santos Lugares"
          ],
          [
           "San Martin",
           " Retiro (LSM) - Cabred",
           "Devoto"
          ],
          [
           "San Martin",
           " Retiro (LSM) - Cabred",
           "Palermo"
          ],
          [
           "San Martin",
           " Retiro (LSM) - Cabred",
           "Retiro LSM"
          ]
         ],
         "hovertemplate": "linea=%{customdata[0]}<br>lat=%{lat}<br>lon=%{lon}<br>ramal=%{customdata[1]}<br>stop_name=%{customdata[2]}<extra></extra>",
         "lat": [
          -34.6013699,
          -34.6031533,
          -34.6045861,
          -34.6036745,
          -34.6026515,
          -34.5796614,
          -34.5881302
         ],
         "legendgroup": "San Martin",
         "lon": [
          -58.4935315,
          -58.5274629,
          -58.5644918,
          -58.5407521,
          -58.5124313,
          -58.4274154,
          -58.3756885
         ],
         "marker": {
          "color": "#FFA15A"
         },
         "mode": "markers",
         "name": "San Martin",
         "showlegend": true,
         "subplot": "mapbox",
         "type": "scattermapbox"
        },
        {
         "customdata": [
          [
           "Belgrano Norte",
           "Grand Bourg",
           "Retiro"
          ],
          [
           "Belgrano Norte",
           "Grand Bourg",
           "Saldias"
          ],
          [
           "Belgrano Norte",
           "Grand Bourg",
           "Ciudad Universitaria"
          ],
          [
           "Belgrano Norte",
           "Grand Bourg",
           "Aristóbulo del Valle"
          ],
          [
           "Belgrano Norte",
           "Grand Bourg",
           "Blas Parera Y Ruta Nacional 9"
          ],
          [
           "Belgrano Norte",
           "Grand Bourg",
           "M. M. Padilha"
          ],
          [
           "Belgrano Norte",
           "Grand Bourg",
           "Florida"
          ]
         ],
         "hovertemplate": "linea=%{customdata[0]}<br>lat=%{lat}<br>lon=%{lon}<br>ramal=%{customdata[1]}<br>stop_name=%{customdata[2]}<extra></extra>",
         "lat": [
          -34.589842152388506,
          -34.57530210184635,
          -34.54310692300697,
          -34.53748682730214,
          -34.54421252622074,
          -34.543362365387644,
          -34.53707942201573
         ],
         "legendgroup": "Belgrano Norte",
         "lon": [
          -58.37448621453611,
          -58.39931291406788,
          -58.44779899349659,
          -58.47789412332361,
          -58.49505127835214,
          -58.50083231911838,
          -58.51320344368852
         ],
         "marker": {
          "color": "#19d3f3"
         },
         "mode": "markers",
         "name": "Belgrano Norte",
         "showlegend": true,
         "subplot": "mapbox",
         "type": "scattermapbox"
        }
       ],
       "layout": {
        "height": 900,
        "legend": {
         "title": {
          "text": "linea"
         },
         "tracegroupgap": 0
        },
        "mapbox": {
         "center": {
          "lat": -34.65524970797181,
          "lon": -58.367640422870515
         },
         "domain": {
          "x": [
           0,
           1
          ],
          "y": [
           0,
           1
          ]
         },
         "style": "carto-darkmatter",
         "zoom": 10
        },
        "margin": {
         "b": 0,
         "l": 0,
         "r": 0,
         "t": 0
        },
        "template": {
         "data": {
          "bar": [
           {
            "error_x": {
             "color": "#2a3f5f"
            },
            "error_y": {
             "color": "#2a3f5f"
            },
            "marker": {
             "line": {
              "color": "#E5ECF6",
              "width": 0.5
             },
             "pattern": {
              "fillmode": "overlay",
              "size": 10,
              "solidity": 0.2
             }
            },
            "type": "bar"
           }
          ],
          "barpolar": [
           {
            "marker": {
             "line": {
              "color": "#E5ECF6",
              "width": 0.5
             },
             "pattern": {
              "fillmode": "overlay",
              "size": 10,
              "solidity": 0.2
             }
            },
            "type": "barpolar"
           }
          ],
          "carpet": [
           {
            "aaxis": {
             "endlinecolor": "#2a3f5f",
             "gridcolor": "white",
             "linecolor": "white",
             "minorgridcolor": "white",
             "startlinecolor": "#2a3f5f"
            },
            "baxis": {
             "endlinecolor": "#2a3f5f",
             "gridcolor": "white",
             "linecolor": "white",
             "minorgridcolor": "white",
             "startlinecolor": "#2a3f5f"
            },
            "type": "carpet"
           }
          ],
          "choropleth": [
           {
            "colorbar": {
             "outlinewidth": 0,
             "ticks": ""
            },
            "type": "choropleth"
           }
          ],
          "contour": [
           {
            "colorbar": {
             "outlinewidth": 0,
             "ticks": ""
            },
            "colorscale": [
             [
              0,
              "#0d0887"
             ],
             [
              0.1111111111111111,
              "#46039f"
             ],
             [
              0.2222222222222222,
              "#7201a8"
             ],
             [
              0.3333333333333333,
              "#9c179e"
             ],
             [
              0.4444444444444444,
              "#bd3786"
             ],
             [
              0.5555555555555556,
              "#d8576b"
             ],
             [
              0.6666666666666666,
              "#ed7953"
             ],
             [
              0.7777777777777778,
              "#fb9f3a"
             ],
             [
              0.8888888888888888,
              "#fdca26"
             ],
             [
              1,
              "#f0f921"
             ]
            ],
            "type": "contour"
           }
          ],
          "contourcarpet": [
           {
            "colorbar": {
             "outlinewidth": 0,
             "ticks": ""
            },
            "type": "contourcarpet"
           }
          ],
          "heatmap": [
           {
            "colorbar": {
             "outlinewidth": 0,
             "ticks": ""
            },
            "colorscale": [
             [
              0,
              "#0d0887"
             ],
             [
              0.1111111111111111,
              "#46039f"
             ],
             [
              0.2222222222222222,
              "#7201a8"
             ],
             [
              0.3333333333333333,
              "#9c179e"
             ],
             [
              0.4444444444444444,
              "#bd3786"
             ],
             [
              0.5555555555555556,
              "#d8576b"
             ],
             [
              0.6666666666666666,
              "#ed7953"
             ],
             [
              0.7777777777777778,
              "#fb9f3a"
             ],
             [
              0.8888888888888888,
              "#fdca26"
             ],
             [
              1,
              "#f0f921"
             ]
            ],
            "type": "heatmap"
           }
          ],
          "heatmapgl": [
           {
            "colorbar": {
             "outlinewidth": 0,
             "ticks": ""
            },
            "colorscale": [
             [
              0,
              "#0d0887"
             ],
             [
              0.1111111111111111,
              "#46039f"
             ],
             [
              0.2222222222222222,
              "#7201a8"
             ],
             [
              0.3333333333333333,
              "#9c179e"
             ],
             [
              0.4444444444444444,
              "#bd3786"
             ],
             [
              0.5555555555555556,
              "#d8576b"
             ],
             [
              0.6666666666666666,
              "#ed7953"
             ],
             [
              0.7777777777777778,
              "#fb9f3a"
             ],
             [
              0.8888888888888888,
              "#fdca26"
             ],
             [
              1,
              "#f0f921"
             ]
            ],
            "type": "heatmapgl"
           }
          ],
          "histogram": [
           {
            "marker": {
             "pattern": {
              "fillmode": "overlay",
              "size": 10,
              "solidity": 0.2
             }
            },
            "type": "histogram"
           }
          ],
          "histogram2d": [
           {
            "colorbar": {
             "outlinewidth": 0,
             "ticks": ""
            },
            "colorscale": [
             [
              0,
              "#0d0887"
             ],
             [
              0.1111111111111111,
              "#46039f"
             ],
             [
              0.2222222222222222,
              "#7201a8"
             ],
             [
              0.3333333333333333,
              "#9c179e"
             ],
             [
              0.4444444444444444,
              "#bd3786"
             ],
             [
              0.5555555555555556,
              "#d8576b"
             ],
             [
              0.6666666666666666,
              "#ed7953"
             ],
             [
              0.7777777777777778,
              "#fb9f3a"
             ],
             [
              0.8888888888888888,
              "#fdca26"
             ],
             [
              1,
              "#f0f921"
             ]
            ],
            "type": "histogram2d"
           }
          ],
          "histogram2dcontour": [
           {
            "colorbar": {
             "outlinewidth": 0,
             "ticks": ""
            },
            "colorscale": [
             [
              0,
              "#0d0887"
             ],
             [
              0.1111111111111111,
              "#46039f"
             ],
             [
              0.2222222222222222,
              "#7201a8"
             ],
             [
              0.3333333333333333,
              "#9c179e"
             ],
             [
              0.4444444444444444,
              "#bd3786"
             ],
             [
              0.5555555555555556,
              "#d8576b"
             ],
             [
              0.6666666666666666,
              "#ed7953"
             ],
             [
              0.7777777777777778,
              "#fb9f3a"
             ],
             [
              0.8888888888888888,
              "#fdca26"
             ],
             [
              1,
              "#f0f921"
             ]
            ],
            "type": "histogram2dcontour"
           }
          ],
          "mesh3d": [
           {
            "colorbar": {
             "outlinewidth": 0,
             "ticks": ""
            },
            "type": "mesh3d"
           }
          ],
          "parcoords": [
           {
            "line": {
             "colorbar": {
              "outlinewidth": 0,
              "ticks": ""
             }
            },
            "type": "parcoords"
           }
          ],
          "pie": [
           {
            "automargin": true,
            "type": "pie"
           }
          ],
          "scatter": [
           {
            "fillpattern": {
             "fillmode": "overlay",
             "size": 10,
             "solidity": 0.2
            },
            "type": "scatter"
           }
          ],
          "scatter3d": [
           {
            "line": {
             "colorbar": {
              "outlinewidth": 0,
              "ticks": ""
             }
            },
            "marker": {
             "colorbar": {
              "outlinewidth": 0,
              "ticks": ""
             }
            },
            "type": "scatter3d"
           }
          ],
          "scattercarpet": [
           {
            "marker": {
             "colorbar": {
              "outlinewidth": 0,
              "ticks": ""
             }
            },
            "type": "scattercarpet"
           }
          ],
          "scattergeo": [
           {
            "marker": {
             "colorbar": {
              "outlinewidth": 0,
              "ticks": ""
             }
            },
            "type": "scattergeo"
           }
          ],
          "scattergl": [
           {
            "marker": {
             "colorbar": {
              "outlinewidth": 0,
              "ticks": ""
             }
            },
            "type": "scattergl"
           }
          ],
          "scattermapbox": [
           {
            "marker": {
             "colorbar": {
              "outlinewidth": 0,
              "ticks": ""
             }
            },
            "type": "scattermapbox"
           }
          ],
          "scatterpolar": [
           {
            "marker": {
             "colorbar": {
              "outlinewidth": 0,
              "ticks": ""
             }
            },
            "type": "scatterpolar"
           }
          ],
          "scatterpolargl": [
           {
            "marker": {
             "colorbar": {
              "outlinewidth": 0,
              "ticks": ""
             }
            },
            "type": "scatterpolargl"
           }
          ],
          "scatterternary": [
           {
            "marker": {
             "colorbar": {
              "outlinewidth": 0,
              "ticks": ""
             }
            },
            "type": "scatterternary"
           }
          ],
          "surface": [
           {
            "colorbar": {
             "outlinewidth": 0,
             "ticks": ""
            },
            "colorscale": [
             [
              0,
              "#0d0887"
             ],
             [
              0.1111111111111111,
              "#46039f"
             ],
             [
              0.2222222222222222,
              "#7201a8"
             ],
             [
              0.3333333333333333,
              "#9c179e"
             ],
             [
              0.4444444444444444,
              "#bd3786"
             ],
             [
              0.5555555555555556,
              "#d8576b"
             ],
             [
              0.6666666666666666,
              "#ed7953"
             ],
             [
              0.7777777777777778,
              "#fb9f3a"
             ],
             [
              0.8888888888888888,
              "#fdca26"
             ],
             [
              1,
              "#f0f921"
             ]
            ],
            "type": "surface"
           }
          ],
          "table": [
           {
            "cells": {
             "fill": {
              "color": "#EBF0F8"
             },
             "line": {
              "color": "white"
             }
            },
            "header": {
             "fill": {
              "color": "#C8D4E3"
             },
             "line": {
              "color": "white"
             }
            },
            "type": "table"
           }
          ]
         },
         "layout": {
          "annotationdefaults": {
           "arrowcolor": "#2a3f5f",
           "arrowhead": 0,
           "arrowwidth": 1
          },
          "autotypenumbers": "strict",
          "coloraxis": {
           "colorbar": {
            "outlinewidth": 0,
            "ticks": ""
           }
          },
          "colorscale": {
           "diverging": [
            [
             0,
             "#8e0152"
            ],
            [
             0.1,
             "#c51b7d"
            ],
            [
             0.2,
             "#de77ae"
            ],
            [
             0.3,
             "#f1b6da"
            ],
            [
             0.4,
             "#fde0ef"
            ],
            [
             0.5,
             "#f7f7f7"
            ],
            [
             0.6,
             "#e6f5d0"
            ],
            [
             0.7,
             "#b8e186"
            ],
            [
             0.8,
             "#7fbc41"
            ],
            [
             0.9,
             "#4d9221"
            ],
            [
             1,
             "#276419"
            ]
           ],
           "sequential": [
            [
             0,
             "#0d0887"
            ],
            [
             0.1111111111111111,
             "#46039f"
            ],
            [
             0.2222222222222222,
             "#7201a8"
            ],
            [
             0.3333333333333333,
             "#9c179e"
            ],
            [
             0.4444444444444444,
             "#bd3786"
            ],
            [
             0.5555555555555556,
             "#d8576b"
            ],
            [
             0.6666666666666666,
             "#ed7953"
            ],
            [
             0.7777777777777778,
             "#fb9f3a"
            ],
            [
             0.8888888888888888,
             "#fdca26"
            ],
            [
             1,
             "#f0f921"
            ]
           ],
           "sequentialminus": [
            [
             0,
             "#0d0887"
            ],
            [
             0.1111111111111111,
             "#46039f"
            ],
            [
             0.2222222222222222,
             "#7201a8"
            ],
            [
             0.3333333333333333,
             "#9c179e"
            ],
            [
             0.4444444444444444,
             "#bd3786"
            ],
            [
             0.5555555555555556,
             "#d8576b"
            ],
            [
             0.6666666666666666,
             "#ed7953"
            ],
            [
             0.7777777777777778,
             "#fb9f3a"
            ],
            [
             0.8888888888888888,
             "#fdca26"
            ],
            [
             1,
             "#f0f921"
            ]
           ]
          },
          "colorway": [
           "#636efa",
           "#EF553B",
           "#00cc96",
           "#ab63fa",
           "#FFA15A",
           "#19d3f3",
           "#FF6692",
           "#B6E880",
           "#FF97FF",
           "#FECB52"
          ],
          "font": {
           "color": "#2a3f5f"
          },
          "geo": {
           "bgcolor": "white",
           "lakecolor": "white",
           "landcolor": "#E5ECF6",
           "showlakes": true,
           "showland": true,
           "subunitcolor": "white"
          },
          "hoverlabel": {
           "align": "left"
          },
          "hovermode": "closest",
          "mapbox": {
           "style": "light"
          },
          "paper_bgcolor": "white",
          "plot_bgcolor": "#E5ECF6",
          "polar": {
           "angularaxis": {
            "gridcolor": "white",
            "linecolor": "white",
            "ticks": ""
           },
           "bgcolor": "#E5ECF6",
           "radialaxis": {
            "gridcolor": "white",
            "linecolor": "white",
            "ticks": ""
           }
          },
          "scene": {
           "xaxis": {
            "backgroundcolor": "#E5ECF6",
            "gridcolor": "white",
            "gridwidth": 2,
            "linecolor": "white",
            "showbackground": true,
            "ticks": "",
            "zerolinecolor": "white"
           },
           "yaxis": {
            "backgroundcolor": "#E5ECF6",
            "gridcolor": "white",
            "gridwidth": 2,
            "linecolor": "white",
            "showbackground": true,
            "ticks": "",
            "zerolinecolor": "white"
           },
           "zaxis": {
            "backgroundcolor": "#E5ECF6",
            "gridcolor": "white",
            "gridwidth": 2,
            "linecolor": "white",
            "showbackground": true,
            "ticks": "",
            "zerolinecolor": "white"
           }
          },
          "shapedefaults": {
           "line": {
            "color": "#2a3f5f"
           }
          },
          "ternary": {
           "aaxis": {
            "gridcolor": "white",
            "linecolor": "white",
            "ticks": ""
           },
           "baxis": {
            "gridcolor": "white",
            "linecolor": "white",
            "ticks": ""
           },
           "bgcolor": "#E5ECF6",
           "caxis": {
            "gridcolor": "white",
            "linecolor": "white",
            "ticks": ""
           }
          },
          "title": {
           "x": 0.05
          },
          "xaxis": {
           "automargin": true,
           "gridcolor": "white",
           "linecolor": "white",
           "ticks": "",
           "title": {
            "standoff": 15
           },
           "zerolinecolor": "white",
           "zerolinewidth": 2
          },
          "yaxis": {
           "automargin": true,
           "gridcolor": "white",
           "linecolor": "white",
           "ticks": "",
           "title": {
            "standoff": 15
           },
           "zerolinecolor": "white",
           "zerolinewidth": 2
          }
         }
        },
        "width": 1600
       }
      }
     },
     "metadata": {},
     "output_type": "display_data"
    }
   ],
   "source": [
    "color_scale0 = [(0, 'blue')]\n",
    "color_scale1 = [(0, 'orange'), (1,'red')]\n",
    "\n",
    "fig = px.scatter_mapbox(df_tren,\n",
    "                        lat=\"lat\",\n",
    "                        lon=\"lon\",\n",
    "                        hover_data=[\"linea\", \"ramal\", \"stop_name\"],\n",
    "                        color=\"linea\",\n",
    "                        color_continuous_scale=\"bluered\",\n",
    "                        zoom=10,\n",
    "                        height=900,\n",
    "                        width=1600)\n",
    "fig.update_layout(mapbox_style=\"carto-darkmatter\")\n",
    "fig.update_layout(margin={\"r\":0,\"t\":0,\"l\":0,\"b\":0})\n",
    "fig.show()"
   ]
  },
  {
   "attachments": {},
   "cell_type": "markdown",
   "id": "5c6ea0ca",
   "metadata": {},
   "source": [
    "## Subte"
   ]
  },
  {
   "cell_type": "code",
   "execution_count": 206,
   "id": "d63d6456",
   "metadata": {},
   "outputs": [],
   "source": [
    "df_subte = pd.read_csv(\"../data/external/transporte_publico/subte/estaciones-de-subte.csv\")"
   ]
  },
  {
   "cell_type": "code",
   "execution_count": 207,
   "id": "42e70c94-9b4c-47a4-897c-4997cfdecaa8",
   "metadata": {},
   "outputs": [],
   "source": [
    "df_subte = df_subte.rename(columns={\"long\": \"lon\",\"estacion\":\"stop_name\", \"id\": \"stop_id\"})\n",
    "df_subte[\"stop_id\"] = df_subte[\"stop_id\"].astype(int)\n",
    "\n",
    "df_subte[\"type\"] = \"subte\"\n",
    "\n",
    "df_subte = df_subte[[\"linea\", \"stop_name\", \"lat\", \"lon\", \"type\"]]"
   ]
  },
  {
   "cell_type": "code",
   "execution_count": 208,
   "id": "db6a5d71-7e8a-49ee-9cdf-bd461149c72f",
   "metadata": {},
   "outputs": [
    {
     "data": {
      "text/html": [
       "<div>\n",
       "<style scoped>\n",
       "    .dataframe tbody tr th:only-of-type {\n",
       "        vertical-align: middle;\n",
       "    }\n",
       "\n",
       "    .dataframe tbody tr th {\n",
       "        vertical-align: top;\n",
       "    }\n",
       "\n",
       "    .dataframe thead th {\n",
       "        text-align: right;\n",
       "    }\n",
       "</style>\n",
       "<table border=\"1\" class=\"dataframe\">\n",
       "  <thead>\n",
       "    <tr style=\"text-align: right;\">\n",
       "      <th></th>\n",
       "      <th>linea</th>\n",
       "      <th>stop_name</th>\n",
       "      <th>lat</th>\n",
       "      <th>lon</th>\n",
       "      <th>type</th>\n",
       "    </tr>\n",
       "  </thead>\n",
       "  <tbody>\n",
       "    <tr>\n",
       "      <th>0</th>\n",
       "      <td>H</td>\n",
       "      <td>CASEROS</td>\n",
       "      <td>-34.635750</td>\n",
       "      <td>-58.398928</td>\n",
       "      <td>subte</td>\n",
       "    </tr>\n",
       "    <tr>\n",
       "      <th>1</th>\n",
       "      <td>H</td>\n",
       "      <td>INCLAN - MEZQUITA AL AHMAD</td>\n",
       "      <td>-34.629376</td>\n",
       "      <td>-58.400970</td>\n",
       "      <td>subte</td>\n",
       "    </tr>\n",
       "    <tr>\n",
       "      <th>2</th>\n",
       "      <td>H</td>\n",
       "      <td>HUMBERTO 1°</td>\n",
       "      <td>-34.623092</td>\n",
       "      <td>-58.402323</td>\n",
       "      <td>subte</td>\n",
       "    </tr>\n",
       "    <tr>\n",
       "      <th>3</th>\n",
       "      <td>H</td>\n",
       "      <td>VENEZUELA</td>\n",
       "      <td>-34.615242</td>\n",
       "      <td>-58.404732</td>\n",
       "      <td>subte</td>\n",
       "    </tr>\n",
       "    <tr>\n",
       "      <th>4</th>\n",
       "      <td>H</td>\n",
       "      <td>ONCE - 30 DE DICIEMBRE</td>\n",
       "      <td>-34.608935</td>\n",
       "      <td>-58.406036</td>\n",
       "      <td>subte</td>\n",
       "    </tr>\n",
       "  </tbody>\n",
       "</table>\n",
       "</div>"
      ],
      "text/plain": [
       "  linea                   stop_name        lat        lon   type\n",
       "0     H                     CASEROS -34.635750 -58.398928  subte\n",
       "1     H  INCLAN - MEZQUITA AL AHMAD -34.629376 -58.400970  subte\n",
       "2     H                 HUMBERTO 1° -34.623092 -58.402323  subte\n",
       "3     H                   VENEZUELA -34.615242 -58.404732  subte\n",
       "4     H      ONCE - 30 DE DICIEMBRE -34.608935 -58.406036  subte"
      ]
     },
     "execution_count": 208,
     "metadata": {},
     "output_type": "execute_result"
    }
   ],
   "source": [
    "df_subte.head()"
   ]
  },
  {
   "cell_type": "code",
   "execution_count": 209,
   "id": "0b0fa0b4",
   "metadata": {},
   "outputs": [],
   "source": [
    "df_subte.to_parquet(\"../data/interim/transporte/subte.parquet\", index=False, engine=\"pyarrow\")"
   ]
  },
  {
   "attachments": {},
   "cell_type": "markdown",
   "id": "832dc38d",
   "metadata": {},
   "source": [
    "## Premetro"
   ]
  },
  {
   "cell_type": "code",
   "execution_count": 210,
   "id": "bc76ed8c",
   "metadata": {},
   "outputs": [],
   "source": [
    "df_premetro = pd.read_csv(\"../data/external/transporte_publico/premetro/estaciones-premetro.csv\")"
   ]
  },
  {
   "cell_type": "code",
   "execution_count": 211,
   "id": "077652b8-2dd7-4321-a0b1-20de6f13022f",
   "metadata": {},
   "outputs": [],
   "source": [
    "df_premetro = df_premetro.rename(columns={\"long\": \"lon\",\"nombre\":\"stop_name\", \"id\": \"stop_id\"})\n",
    "df_premetro[\"type\"] = \"premetro\"\n",
    "df_premetro = df_premetro[[\"linea\", \"stop_name\", \"lat\", \"lon\", \"type\"]]"
   ]
  },
  {
   "cell_type": "code",
   "execution_count": 212,
   "id": "d12d424f-7a40-45dd-bab3-30a75a691922",
   "metadata": {},
   "outputs": [
    {
     "data": {
      "text/html": [
       "<div>\n",
       "<style scoped>\n",
       "    .dataframe tbody tr th:only-of-type {\n",
       "        vertical-align: middle;\n",
       "    }\n",
       "\n",
       "    .dataframe tbody tr th {\n",
       "        vertical-align: top;\n",
       "    }\n",
       "\n",
       "    .dataframe thead th {\n",
       "        text-align: right;\n",
       "    }\n",
       "</style>\n",
       "<table border=\"1\" class=\"dataframe\">\n",
       "  <thead>\n",
       "    <tr style=\"text-align: right;\">\n",
       "      <th></th>\n",
       "      <th>linea</th>\n",
       "      <th>stop_name</th>\n",
       "      <th>lat</th>\n",
       "      <th>lon</th>\n",
       "      <th>type</th>\n",
       "    </tr>\n",
       "  </thead>\n",
       "  <tbody>\n",
       "    <tr>\n",
       "      <th>0</th>\n",
       "      <td>PREMETRO</td>\n",
       "      <td>INTENDENTE SAGUIER</td>\n",
       "      <td>-34.643757</td>\n",
       "      <td>-58.461491</td>\n",
       "      <td>premetro</td>\n",
       "    </tr>\n",
       "    <tr>\n",
       "      <th>1</th>\n",
       "      <td>PREMETRO</td>\n",
       "      <td>BALBASTRO (Cementerio de Flores)</td>\n",
       "      <td>-34.648601</td>\n",
       "      <td>-58.456415</td>\n",
       "      <td>premetro</td>\n",
       "    </tr>\n",
       "    <tr>\n",
       "      <th>2</th>\n",
       "      <td>PREMETRO</td>\n",
       "      <td>ANA MARÍA JANER</td>\n",
       "      <td>-34.659499</td>\n",
       "      <td>-58.450047</td>\n",
       "      <td>premetro</td>\n",
       "    </tr>\n",
       "    <tr>\n",
       "      <th>3</th>\n",
       "      <td>PREMETRO</td>\n",
       "      <td>FERNANDEZ DE LA CRUZ</td>\n",
       "      <td>-34.662225</td>\n",
       "      <td>-58.446607</td>\n",
       "      <td>premetro</td>\n",
       "    </tr>\n",
       "    <tr>\n",
       "      <th>4</th>\n",
       "      <td>PREMETRO</td>\n",
       "      <td>PTE. ILLIA (Lacarra)</td>\n",
       "      <td>-34.665368</td>\n",
       "      <td>-58.448513</td>\n",
       "      <td>premetro</td>\n",
       "    </tr>\n",
       "  </tbody>\n",
       "</table>\n",
       "</div>"
      ],
      "text/plain": [
       "      linea                         stop_name        lat        lon      type\n",
       "0  PREMETRO                INTENDENTE SAGUIER -34.643757 -58.461491  premetro\n",
       "1  PREMETRO  BALBASTRO (Cementerio de Flores) -34.648601 -58.456415  premetro\n",
       "2  PREMETRO                   ANA MARÍA JANER -34.659499 -58.450047  premetro\n",
       "3  PREMETRO              FERNANDEZ DE LA CRUZ -34.662225 -58.446607  premetro\n",
       "4  PREMETRO              PTE. ILLIA (Lacarra) -34.665368 -58.448513  premetro"
      ]
     },
     "execution_count": 212,
     "metadata": {},
     "output_type": "execute_result"
    }
   ],
   "source": [
    "df_premetro.head()"
   ]
  },
  {
   "cell_type": "code",
   "execution_count": 213,
   "id": "76702512",
   "metadata": {},
   "outputs": [],
   "source": [
    "df_premetro.to_parquet(\"../data/interim/transporte/premetro.parquet\", index=False, engine=\"pyarrow\")"
   ]
  },
  {
   "attachments": {},
   "cell_type": "markdown",
   "id": "27b2f48b",
   "metadata": {},
   "source": [
    "## Transporte en CABA y La Plata"
   ]
  },
  {
   "cell_type": "code",
   "execution_count": 214,
   "id": "03ce8109-a700-4614-8b79-51a8ba4af39d",
   "metadata": {},
   "outputs": [],
   "source": [
    "df_transporte = pd.concat([df_tren, df_subte, df_premetro])"
   ]
  },
  {
   "cell_type": "code",
   "execution_count": 215,
   "id": "a4f385f1",
   "metadata": {},
   "outputs": [],
   "source": [
    "df_transporte.to_parquet(\"../data/processed/transporte/transporte.parquet\", index=False, engine=\"pyarrow\")"
   ]
  },
  {
   "cell_type": "code",
   "execution_count": 216,
   "id": "c98faa88-07a6-4f8e-b7a8-833d494b9311",
   "metadata": {},
   "outputs": [
    {
     "data": {
      "text/html": [
       "<div>\n",
       "<style scoped>\n",
       "    .dataframe tbody tr th:only-of-type {\n",
       "        vertical-align: middle;\n",
       "    }\n",
       "\n",
       "    .dataframe tbody tr th {\n",
       "        vertical-align: top;\n",
       "    }\n",
       "\n",
       "    .dataframe thead th {\n",
       "        text-align: right;\n",
       "    }\n",
       "</style>\n",
       "<table border=\"1\" class=\"dataframe\">\n",
       "  <thead>\n",
       "    <tr style=\"text-align: right;\">\n",
       "      <th></th>\n",
       "      <th>linea</th>\n",
       "      <th>ramal</th>\n",
       "      <th>stop_name</th>\n",
       "      <th>lat</th>\n",
       "      <th>lon</th>\n",
       "      <th>type</th>\n",
       "      <th>dist_centro_caba</th>\n",
       "      <th>dist_centro_plata</th>\n",
       "    </tr>\n",
       "  </thead>\n",
       "  <tbody>\n",
       "    <tr>\n",
       "      <th>4</th>\n",
       "      <td>Sarmiento</td>\n",
       "      <td>Once - Moreno</td>\n",
       "      <td>Ciudadela</td>\n",
       "      <td>-34.639923</td>\n",
       "      <td>-58.541123</td>\n",
       "      <td>tren</td>\n",
       "      <td>9.134687</td>\n",
       "      <td>62.108330</td>\n",
       "    </tr>\n",
       "    <tr>\n",
       "      <th>5</th>\n",
       "      <td>Sarmiento</td>\n",
       "      <td>Once - Moreno</td>\n",
       "      <td>Liniers</td>\n",
       "      <td>-34.638873</td>\n",
       "      <td>-58.526341</td>\n",
       "      <td>tren</td>\n",
       "      <td>7.815663</td>\n",
       "      <td>61.002599</td>\n",
       "    </tr>\n",
       "    <tr>\n",
       "      <th>6</th>\n",
       "      <td>Sarmiento</td>\n",
       "      <td>Once - Moreno</td>\n",
       "      <td>Villa Luro</td>\n",
       "      <td>-34.636249</td>\n",
       "      <td>-58.502131</td>\n",
       "      <td>tren</td>\n",
       "      <td>5.653983</td>\n",
       "      <td>59.267890</td>\n",
       "    </tr>\n",
       "    <tr>\n",
       "      <th>7</th>\n",
       "      <td>Sarmiento</td>\n",
       "      <td>Once - Moreno</td>\n",
       "      <td>Floresta</td>\n",
       "      <td>-34.632376</td>\n",
       "      <td>-58.480891</td>\n",
       "      <td>tren</td>\n",
       "      <td>3.735753</td>\n",
       "      <td>57.871035</td>\n",
       "    </tr>\n",
       "    <tr>\n",
       "      <th>8</th>\n",
       "      <td>Sarmiento</td>\n",
       "      <td>Once - Moreno</td>\n",
       "      <td>Flores</td>\n",
       "      <td>-34.627850</td>\n",
       "      <td>-58.466177</td>\n",
       "      <td>tren</td>\n",
       "      <td>2.344158</td>\n",
       "      <td>57.040749</td>\n",
       "    </tr>\n",
       "  </tbody>\n",
       "</table>\n",
       "</div>"
      ],
      "text/plain": [
       "       linea           ramal   stop_name        lat        lon  type   \n",
       "4  Sarmiento   Once - Moreno   Ciudadela -34.639923 -58.541123  tren  \\\n",
       "5  Sarmiento   Once - Moreno     Liniers -34.638873 -58.526341  tren   \n",
       "6  Sarmiento   Once - Moreno  Villa Luro -34.636249 -58.502131  tren   \n",
       "7  Sarmiento   Once - Moreno    Floresta -34.632376 -58.480891  tren   \n",
       "8  Sarmiento   Once - Moreno      Flores -34.627850 -58.466177  tren   \n",
       "\n",
       "   dist_centro_caba  dist_centro_plata  \n",
       "4          9.134687          62.108330  \n",
       "5          7.815663          61.002599  \n",
       "6          5.653983          59.267890  \n",
       "7          3.735753          57.871035  \n",
       "8          2.344158          57.040749  "
      ]
     },
     "execution_count": 216,
     "metadata": {},
     "output_type": "execute_result"
    }
   ],
   "source": [
    "df_transporte.head()"
   ]
  },
  {
   "attachments": {},
   "cell_type": "markdown",
   "id": "79c07580",
   "metadata": {},
   "source": [
    "## Hospitales"
   ]
  },
  {
   "cell_type": "code",
   "execution_count": 217,
   "id": "5c725e43",
   "metadata": {},
   "outputs": [],
   "source": [
    "with open(\"../data/external/salud/hospitales_CABA.json\") as f:\n",
    "    hospitales = json.load(f)\n",
    "hosp_caba = pd.DataFrame(hospitales[\"features\"])\n",
    "hosp_plata = pd.read_csv(\"../data/external/salud/hospitales_LaPlata.csv\", delimiter=\";\", encoding='latin1')"
   ]
  },
  {
   "cell_type": "code",
   "execution_count": 218,
   "id": "c9351fb4",
   "metadata": {},
   "outputs": [],
   "source": [
    "hosp_caba[\"lon\"] = hosp_caba[\"geometry\"].apply(lambda x: x[\"coordinates\"][0])\n",
    "hosp_caba[\"lat\"] = hosp_caba[\"geometry\"].apply(lambda x: x[\"coordinates\"][1])\n",
    "hosp_caba[\"name\"] = hosp_caba[\"properties\"].apply(lambda x: x[\"NOMBRE\"])\n",
    "\n",
    "hosp_caba[\"province\"] = str(\"Capital Federal\")\n",
    "hosp_caba = hosp_caba[[\"name\", \"lat\", \"lon\", \"province\"]]"
   ]
  },
  {
   "cell_type": "code",
   "execution_count": 219,
   "id": "d9f39d60",
   "metadata": {},
   "outputs": [
    {
     "data": {
      "text/html": [
       "<div>\n",
       "<style scoped>\n",
       "    .dataframe tbody tr th:only-of-type {\n",
       "        vertical-align: middle;\n",
       "    }\n",
       "\n",
       "    .dataframe tbody tr th {\n",
       "        vertical-align: top;\n",
       "    }\n",
       "\n",
       "    .dataframe thead th {\n",
       "        text-align: right;\n",
       "    }\n",
       "</style>\n",
       "<table border=\"1\" class=\"dataframe\">\n",
       "  <thead>\n",
       "    <tr style=\"text-align: right;\">\n",
       "      <th></th>\n",
       "      <th>name</th>\n",
       "      <th>lat</th>\n",
       "      <th>lon</th>\n",
       "      <th>province</th>\n",
       "    </tr>\n",
       "  </thead>\n",
       "  <tbody>\n",
       "    <tr>\n",
       "      <th>0</th>\n",
       "      <td>HOSPITAL GENERAL DE NIÑOS PEDRO DE ELIZALDE</td>\n",
       "      <td>-34.628847</td>\n",
       "      <td>-58.377551</td>\n",
       "      <td>Capital Federal</td>\n",
       "    </tr>\n",
       "    <tr>\n",
       "      <th>1</th>\n",
       "      <td>HOSPITAL GENERAL DE NIÑOS RICARDO GUTIERREZ</td>\n",
       "      <td>-34.594192</td>\n",
       "      <td>-58.412070</td>\n",
       "      <td>Capital Federal</td>\n",
       "    </tr>\n",
       "  </tbody>\n",
       "</table>\n",
       "</div>"
      ],
      "text/plain": [
       "                                          name        lat        lon   \n",
       "0  HOSPITAL GENERAL DE NIÑOS PEDRO DE ELIZALDE -34.628847 -58.377551  \\\n",
       "1  HOSPITAL GENERAL DE NIÑOS RICARDO GUTIERREZ -34.594192 -58.412070   \n",
       "\n",
       "          province  \n",
       "0  Capital Federal  \n",
       "1  Capital Federal  "
      ]
     },
     "execution_count": 219,
     "metadata": {},
     "output_type": "execute_result"
    }
   ],
   "source": [
    "hosp_caba.head(2)"
   ]
  },
  {
   "cell_type": "code",
   "execution_count": 220,
   "id": "4b166270",
   "metadata": {},
   "outputs": [],
   "source": [
    "hosp_caba.to_parquet(\"../data/interim/salud/hospitales_caba.parquet\", index=False, engine=\"pyarrow\")"
   ]
  },
  {
   "cell_type": "code",
   "execution_count": 221,
   "id": "eee64e57",
   "metadata": {},
   "outputs": [],
   "source": [
    "hosp_plata = hosp_plata.drop([\"DIRECCION\", \"TELEFONO\", \"Unnamed: 5\", \"Unnamed: 6\", \"Unnamed: 7\"], axis=1)\n",
    "hosp_plata = hosp_plata.rename(columns={\"LATITUD\": \"lat\", \"LONGITUD\": \"lon\", \"CLINICAS Y HOSPITALES\": \"name\"})\n",
    "hosp_plata[\"province\"] = str(\"Bs.As. G.B.A. Zona Sur\")\n",
    "\n",
    "hosp_plata[\"lat\"] = hosp_plata[\"lat\"].str.replace(\",\", \".\").replace(\" \", \"\").astype(float)\n",
    "hosp_plata[\"lon\"] = hosp_plata[\"lon\"].str.replace(\",\", \".\").replace(\" \", \"\").astype(float)\n",
    "\n",
    "hosp_plata = hosp_plata[[\"name\", \"lat\", \"lon\", \"province\"]]"
   ]
  },
  {
   "cell_type": "code",
   "execution_count": 222,
   "id": "7c1cee0b",
   "metadata": {},
   "outputs": [
    {
     "data": {
      "text/html": [
       "<div>\n",
       "<style scoped>\n",
       "    .dataframe tbody tr th:only-of-type {\n",
       "        vertical-align: middle;\n",
       "    }\n",
       "\n",
       "    .dataframe tbody tr th {\n",
       "        vertical-align: top;\n",
       "    }\n",
       "\n",
       "    .dataframe thead th {\n",
       "        text-align: right;\n",
       "    }\n",
       "</style>\n",
       "<table border=\"1\" class=\"dataframe\">\n",
       "  <thead>\n",
       "    <tr style=\"text-align: right;\">\n",
       "      <th></th>\n",
       "      <th>name</th>\n",
       "      <th>lat</th>\n",
       "      <th>lon</th>\n",
       "      <th>province</th>\n",
       "    </tr>\n",
       "  </thead>\n",
       "  <tbody>\n",
       "    <tr>\n",
       "      <th>0</th>\n",
       "      <td>BREAST CLINIC S.A.</td>\n",
       "      <td>-34.907611</td>\n",
       "      <td>-57.959000</td>\n",
       "      <td>Bs.As. G.B.A. Zona Sur</td>\n",
       "    </tr>\n",
       "    <tr>\n",
       "      <th>1</th>\n",
       "      <td>CEMPLAN</td>\n",
       "      <td>-34.918250</td>\n",
       "      <td>-57.942444</td>\n",
       "      <td>Bs.As. G.B.A. Zona Sur</td>\n",
       "    </tr>\n",
       "  </tbody>\n",
       "</table>\n",
       "</div>"
      ],
      "text/plain": [
       "                 name        lat        lon                province\n",
       "0  BREAST CLINIC S.A. -34.907611 -57.959000  Bs.As. G.B.A. Zona Sur\n",
       "1             CEMPLAN -34.918250 -57.942444  Bs.As. G.B.A. Zona Sur"
      ]
     },
     "execution_count": 222,
     "metadata": {},
     "output_type": "execute_result"
    }
   ],
   "source": [
    "hosp_plata.head(2)"
   ]
  },
  {
   "cell_type": "code",
   "execution_count": 223,
   "id": "20e8615a",
   "metadata": {},
   "outputs": [],
   "source": [
    "hosp_plata.to_parquet(\"../data/interim/salud/hospitales_plata.parquet\", index=False, engine=\"pyarrow\")"
   ]
  },
  {
   "cell_type": "code",
   "execution_count": 224,
   "id": "2a704dd2",
   "metadata": {},
   "outputs": [],
   "source": [
    "df_hospital = pd.concat([hosp_caba, hosp_plata], axis=0, ignore_index=True)"
   ]
  },
  {
   "cell_type": "code",
   "execution_count": 225,
   "id": "a3a8090c",
   "metadata": {},
   "outputs": [],
   "source": [
    "df_hospital.to_parquet(\"../data/processed/salud/hospitales.parquet\", index=False, engine=\"pyarrow\")"
   ]
  },
  {
   "cell_type": "code",
   "execution_count": 226,
   "id": "cdae6809",
   "metadata": {},
   "outputs": [
    {
     "data": {
      "text/html": [
       "<div>\n",
       "<style scoped>\n",
       "    .dataframe tbody tr th:only-of-type {\n",
       "        vertical-align: middle;\n",
       "    }\n",
       "\n",
       "    .dataframe tbody tr th {\n",
       "        vertical-align: top;\n",
       "    }\n",
       "\n",
       "    .dataframe thead th {\n",
       "        text-align: right;\n",
       "    }\n",
       "</style>\n",
       "<table border=\"1\" class=\"dataframe\">\n",
       "  <thead>\n",
       "    <tr style=\"text-align: right;\">\n",
       "      <th></th>\n",
       "      <th>name</th>\n",
       "      <th>lat</th>\n",
       "      <th>lon</th>\n",
       "      <th>province</th>\n",
       "    </tr>\n",
       "  </thead>\n",
       "  <tbody>\n",
       "    <tr>\n",
       "      <th>0</th>\n",
       "      <td>HOSPITAL GENERAL DE NIÑOS PEDRO DE ELIZALDE</td>\n",
       "      <td>-34.628847</td>\n",
       "      <td>-58.377551</td>\n",
       "      <td>Capital Federal</td>\n",
       "    </tr>\n",
       "    <tr>\n",
       "      <th>1</th>\n",
       "      <td>HOSPITAL GENERAL DE NIÑOS RICARDO GUTIERREZ</td>\n",
       "      <td>-34.594192</td>\n",
       "      <td>-58.412070</td>\n",
       "      <td>Capital Federal</td>\n",
       "    </tr>\n",
       "  </tbody>\n",
       "</table>\n",
       "</div>"
      ],
      "text/plain": [
       "                                          name        lat        lon   \n",
       "0  HOSPITAL GENERAL DE NIÑOS PEDRO DE ELIZALDE -34.628847 -58.377551  \\\n",
       "1  HOSPITAL GENERAL DE NIÑOS RICARDO GUTIERREZ -34.594192 -58.412070   \n",
       "\n",
       "          province  \n",
       "0  Capital Federal  \n",
       "1  Capital Federal  "
      ]
     },
     "execution_count": 226,
     "metadata": {},
     "output_type": "execute_result"
    }
   ],
   "source": [
    "df_hospital.head(2)"
   ]
  },
  {
   "attachments": {},
   "cell_type": "markdown",
   "id": "ec070893",
   "metadata": {},
   "source": [
    "## Transporte y hospitales"
   ]
  },
  {
   "cell_type": "code",
   "execution_count": 227,
   "id": "d6deb59f",
   "metadata": {},
   "outputs": [
    {
     "data": {
      "application/vnd.plotly.v1+json": {
       "config": {
        "plotlyServerURL": "https://plot.ly"
       },
       "data": [
        {
         "customdata": [
          [
           "Sarmiento",
           " Once - Moreno",
           "Ciudadela"
          ],
          [
           "Sarmiento",
           " Once - Moreno",
           "Liniers"
          ],
          [
           "Sarmiento",
           " Once - Moreno",
           "Villa Luro"
          ],
          [
           "Sarmiento",
           " Once - Moreno",
           "Floresta"
          ],
          [
           "Sarmiento",
           " Once - Moreno",
           "Flores"
          ],
          [
           "Sarmiento",
           " Once - Moreno",
           "Caballito"
          ],
          [
           "Sarmiento",
           " Once - Moreno",
           "Once"
          ]
         ],
         "hovertemplate": "linea=%{customdata[0]}<br>lat=%{lat}<br>lon=%{lon}<br>ramal=%{customdata[1]}<br>stop_name=%{customdata[2]}<extra></extra>",
         "lat": [
          -34.6399227,
          -34.6388728,
          -34.6362494,
          -34.6323755,
          -34.6278504,
          -34.6192442,
          -34.6086496
         ],
         "legendgroup": "Sarmiento",
         "lon": [
          -58.5411225,
          -58.5263409,
          -58.5021311,
          -58.4808913,
          -58.4661766,
          -58.4436522,
          -58.4088675
         ],
         "marker": {
          "color": "#636efa"
         },
         "mode": "markers",
         "name": "Sarmiento",
         "showlegend": true,
         "subplot": "mapbox",
         "type": "scattermapbox"
        },
        {
         "customdata": [
          [
           "Mitre",
           " Retiro - Tigre",
           "Vicente López"
          ],
          [
           "Mitre",
           " Retiro - Tigre",
           "Rivadavia"
          ],
          [
           "Mitre",
           " Retiro - Tigre",
           "Núñez"
          ],
          [
           "Mitre",
           " Retiro - Tigre",
           "Belgrano C"
          ],
          [
           "Mitre",
           " Retiro - Tigre",
           "L. de la Torre"
          ],
          [
           "Mitre",
           " Retiro - Tigre",
           "Retiro LM"
          ],
          [
           "Mitre",
           " Retiro - Mitre",
           "Florida"
          ],
          [
           "Mitre",
           " Retiro - Mitre",
           "Juan B. Justo"
          ],
          [
           "Mitre",
           " Retiro - Mitre",
           "Saavedra"
          ],
          [
           "Mitre",
           " Retiro - Mitre",
           "Coghlan"
          ],
          [
           "Mitre",
           " Retiro - Mitre",
           "Belgrano R"
          ],
          [
           "Mitre",
           " Retiro - Mitre",
           "Colegiales"
          ],
          [
           "Mitre",
           " Retiro - Mitre",
           "Ministro Carranza"
          ],
          [
           "Mitre",
           " Retiro - Mitre",
           "3 de Febrero"
          ],
          [
           "Mitre",
           " Retiro - J. L. Suárez",
           "San Andrés"
          ],
          [
           "Mitre",
           " Retiro - J. L. Suárez",
           "San Martín"
          ],
          [
           "Mitre",
           " Retiro - J. L. Suárez",
           "Miguelete"
          ],
          [
           "Mitre",
           " Retiro - J. L. Suárez",
           "Pueyrredón"
          ],
          [
           "Mitre",
           " Retiro - J. L. Suárez",
           "General Urquiza"
          ],
          [
           "Mitre",
           " Retiro - J. L. Suárez",
           "L. M. Drago"
          ]
         ],
         "hovertemplate": "linea=%{customdata[0]}<br>lat=%{lat}<br>lon=%{lon}<br>ramal=%{customdata[1]}<br>stop_name=%{customdata[2]}<extra></extra>",
         "lat": [
          -34.5247233,
          -34.5365204,
          -34.5482911,
          -34.5588016,
          -34.5625299,
          -34.5899757,
          -34.5304745,
          -34.5425501,
          -34.5540735,
          -34.5652607,
          -34.5680506,
          -34.5729746,
          -34.575705,
          -34.5717485,
          -34.5635642,
          -34.5734195,
          -34.5810718,
          -34.5804962,
          -34.574712,
          -34.5684173
         ],
         "legendgroup": "Mitre",
         "lon": [
          -58.4728065,
          -58.4680326,
          -58.4628516,
          -58.4489445,
          -58.4367116,
          -58.376129,
          -58.4944563,
          -58.494657,
          -58.4870632,
          -58.4753485,
          -58.4618081,
          -58.448253,
          -58.435404,
          -58.4249824,
          -58.5406609,
          -58.5319579,
          -58.5170793,
          -58.501898,
          -58.4878391,
          -58.4789912
         ],
         "marker": {
          "color": "#EF553B"
         },
         "mode": "markers",
         "name": "Mitre",
         "showlegend": true,
         "subplot": "mapbox",
         "type": "scattermapbox"
        },
        {
         "customdata": [
          [
           "Roca",
           " Plaza Constitución - La Plata",
           "Constitución"
          ],
          [
           "Roca",
           " Plaza Constitución - La Plata",
           "S. y Kosteki"
          ],
          [
           "Roca",
           " Plaza Constitución - La Plata",
           "Pereyra"
          ],
          [
           "Roca",
           " Plaza Constitución - La Plata",
           "Villa Elisa"
          ],
          [
           "Roca",
           " Plaza Constitución - La Plata",
           "City Bell"
          ],
          [
           "Roca",
           " Plaza Constitución - La Plata",
           "Gonnet"
          ],
          [
           "Roca",
           " Plaza Constitución - La Plata",
           "Ringuelet"
          ],
          [
           "Roca",
           " Plaza Constitución - La Plata",
           "Tolosa"
          ],
          [
           "Roca",
           " Plaza Constitución - La Plata",
           "La Plata"
          ],
          [
           "Roca",
           " Plaza Constitución - Bosques-T",
           "Gerli"
          ],
          [
           "Roca",
           " Plaza Constitución - Bosques-T",
           "Hipólito Yrigoyen"
          ],
          [
           "Roca",
           " La Plata - Policlínico",
           "Arquitectura"
          ],
          [
           "Roca",
           " La Plata - Policlínico",
           "Informática"
          ],
          [
           "Roca",
           " La Plata - Policlínico",
           "Medicina"
          ],
          [
           "Roca",
           " La Plata - Policlínico",
           "Periodismo"
          ],
          [
           "Roca",
           " La Plata - Policlínico",
           "Diagonal 73"
          ],
          [
           "Roca",
           " La Plata - Policlínico",
           "Policlínico"
          ]
         ],
         "hovertemplate": "linea=%{customdata[0]}<br>lat=%{lat}<br>lon=%{lon}<br>ramal=%{customdata[1]}<br>stop_name=%{customdata[2]}<extra></extra>",
         "lat": [
          -34.6301709,
          -34.6613896,
          -34.8366304,
          -34.8495861,
          -34.8657239,
          -34.879841,
          -34.8813876,
          -34.8909547,
          -34.9038945,
          -34.6857287,
          -34.6536422,
          -34.9049408,
          -34.9033642,
          -34.9090514,
          -34.9122051,
          -34.920327,
          -34.9253053
         ],
         "legendgroup": "Roca",
         "lon": [
          -58.3805834,
          -58.3768325,
          -58.0945403,
          -58.0751851,
          -58.0420495,
          -58.0107856,
          -57.9960622,
          -57.9680983,
          -57.950174,
          -58.3826371,
          -58.3788878,
          -57.9431423,
          -57.9357323,
          -57.9278447,
          -57.9242646,
          -57.9190436,
          -57.9213044
         ],
         "marker": {
          "color": "#00cc96"
         },
         "mode": "markers",
         "name": "Roca",
         "showlegend": true,
         "subplot": "mapbox",
         "type": "scattermapbox"
        },
        {
         "customdata": [
          [
           "Belgrano Sur",
           " Buenos Aires - M.C.G. Belgrano",
           "Marinos del Fournier"
          ],
          [
           "Belgrano Sur",
           " Buenos Aires - M.C.G. Belgrano",
           "Villa Madero"
          ],
          [
           "Belgrano Sur",
           " Buenos Aires - M.C.G. Belgrano",
           "Villa Lugano"
          ],
          [
           "Belgrano Sur",
           " Buenos Aires - M.C.G. Belgrano",
           "Presidente Illia"
          ],
          [
           "Belgrano Sur",
           " Buenos Aires - M.C.G. Belgrano",
           "Villa Soldati"
          ],
          [
           "Belgrano Sur",
           " Buenos Aires - M.C.G. Belgrano",
           "Dr. Sáenz"
          ],
          [
           "Belgrano Sur",
           " Buenos Aires - Gonzalez Catán",
           "Dr. Sáenz nueva"
          ]
         ],
         "hovertemplate": "linea=%{customdata[0]}<br>lat=%{lat}<br>lon=%{lon}<br>ramal=%{customdata[1]}<br>stop_name=%{customdata[2]}<extra></extra>",
         "lat": [
          -34.6901777,
          -34.6840978,
          -34.67713,
          -34.6661376,
          -34.6622014,
          -34.6481153,
          -34.6490835
         ],
         "legendgroup": "Belgrano Sur",
         "lon": [
          -58.5076299,
          -58.4925366,
          -58.4769699,
          -58.4502223,
          -58.4408973,
          -58.4199555,
          -58.4158387
         ],
         "marker": {
          "color": "#ab63fa"
         },
         "mode": "markers",
         "name": "Belgrano Sur",
         "showlegend": true,
         "subplot": "mapbox",
         "type": "scattermapbox"
        },
        {
         "customdata": [
          [
           "San Martin",
           " Retiro (LSM) - Cabred",
           "Villa del Parque"
          ],
          [
           "San Martin",
           " Retiro (LSM) - Cabred",
           "Sáenz Peña"
          ],
          [
           "San Martin",
           " Retiro (LSM) - Cabred",
           "Caseros"
          ],
          [
           "San Martin",
           " Retiro (LSM) - Cabred",
           "Santos Lugares"
          ],
          [
           "San Martin",
           " Retiro (LSM) - Cabred",
           "Devoto"
          ],
          [
           "San Martin",
           " Retiro (LSM) - Cabred",
           "Palermo"
          ],
          [
           "San Martin",
           " Retiro (LSM) - Cabred",
           "Retiro LSM"
          ]
         ],
         "hovertemplate": "linea=%{customdata[0]}<br>lat=%{lat}<br>lon=%{lon}<br>ramal=%{customdata[1]}<br>stop_name=%{customdata[2]}<extra></extra>",
         "lat": [
          -34.6013699,
          -34.6031533,
          -34.6045861,
          -34.6036745,
          -34.6026515,
          -34.5796614,
          -34.5881302
         ],
         "legendgroup": "San Martin",
         "lon": [
          -58.4935315,
          -58.5274629,
          -58.5644918,
          -58.5407521,
          -58.5124313,
          -58.4274154,
          -58.3756885
         ],
         "marker": {
          "color": "#FFA15A"
         },
         "mode": "markers",
         "name": "San Martin",
         "showlegend": true,
         "subplot": "mapbox",
         "type": "scattermapbox"
        },
        {
         "customdata": [
          [
           "Belgrano Norte",
           "Grand Bourg",
           "Retiro"
          ],
          [
           "Belgrano Norte",
           "Grand Bourg",
           "Saldias"
          ],
          [
           "Belgrano Norte",
           "Grand Bourg",
           "Ciudad Universitaria"
          ],
          [
           "Belgrano Norte",
           "Grand Bourg",
           "Aristóbulo del Valle"
          ],
          [
           "Belgrano Norte",
           "Grand Bourg",
           "Blas Parera Y Ruta Nacional 9"
          ],
          [
           "Belgrano Norte",
           "Grand Bourg",
           "M. M. Padilha"
          ],
          [
           "Belgrano Norte",
           "Grand Bourg",
           "Florida"
          ]
         ],
         "hovertemplate": "linea=%{customdata[0]}<br>lat=%{lat}<br>lon=%{lon}<br>ramal=%{customdata[1]}<br>stop_name=%{customdata[2]}<extra></extra>",
         "lat": [
          -34.589842152388506,
          -34.57530210184635,
          -34.54310692300697,
          -34.53748682730214,
          -34.54421252622074,
          -34.543362365387644,
          -34.53707942201573
         ],
         "legendgroup": "Belgrano Norte",
         "lon": [
          -58.37448621453611,
          -58.39931291406788,
          -58.44779899349659,
          -58.47789412332361,
          -58.49505127835214,
          -58.50083231911838,
          -58.51320344368852
         ],
         "marker": {
          "color": "#19d3f3"
         },
         "mode": "markers",
         "name": "Belgrano Norte",
         "showlegend": true,
         "subplot": "mapbox",
         "type": "scattermapbox"
        },
        {
         "customdata": [
          [
           "H",
           null,
           "CASEROS"
          ],
          [
           "H",
           null,
           "INCLAN - MEZQUITA AL AHMAD"
          ],
          [
           "H",
           null,
           "HUMBERTO 1°"
          ],
          [
           "H",
           null,
           "VENEZUELA"
          ],
          [
           "H",
           null,
           "ONCE - 30 DE DICIEMBRE"
          ],
          [
           "H",
           null,
           "CORRIENTES"
          ],
          [
           "H",
           null,
           "PARQUE PATRICIOS"
          ],
          [
           "H",
           null,
           "HOSPITALES"
          ],
          [
           "H",
           null,
           "CÓRDOBA"
          ],
          [
           "H",
           null,
           "LAS HERAS"
          ],
          [
           "H",
           null,
           "SANTA FE - CARLOS JAUREGUI"
          ],
          [
           "H",
           null,
           "FACULTAD DE DERECHO - JULIETA LANTERI"
          ]
         ],
         "hovertemplate": "linea=%{customdata[0]}<br>lat=%{lat}<br>lon=%{lon}<br>ramal=%{customdata[1]}<br>stop_name=%{customdata[2]}<extra></extra>",
         "lat": [
          -34.635750180343,
          -34.6293756575728,
          -34.6230923205019,
          -34.6152421522706,
          -34.6089352416215,
          -34.6044902016081,
          -34.6384059882851,
          -34.6412689433909,
          -34.5984551117734,
          -34.5874615464262,
          -34.5945253962188,
          -34.5830363400093
         ],
         "legendgroup": "H",
         "lon": [
          -58.3989275853601,
          -58.4009695560165,
          -58.402322730424,
          -58.40473171649,
          -58.4060363810352,
          -58.4054503284842,
          -58.4057948259686,
          -58.4123851512005,
          -58.4037214964387,
          -58.3972155751019,
          -58.4023761750349,
          -58.39101882656
         ],
         "marker": {
          "color": "#FF6692"
         },
         "mode": "markers",
         "name": "H",
         "showlegend": true,
         "subplot": "mapbox",
         "type": "scattermapbox"
        },
        {
         "customdata": [
          [
           "D",
           null,
           "9 DE JULIO"
          ],
          [
           "D",
           null,
           "FACULTAD DE MEDICINA"
          ],
          [
           "D",
           null,
           "TRIBUNALES - TEATRO COLÓN"
          ],
          [
           "D",
           null,
           "AGÜERO"
          ],
          [
           "D",
           null,
           "R.SCALABRINI ORTIZ"
          ],
          [
           "D",
           null,
           "PLAZA ITALIA"
          ],
          [
           "D",
           null,
           "PALERMO"
          ],
          [
           "D",
           null,
           "BULNES"
          ],
          [
           "D",
           null,
           "PUEYRREDON"
          ],
          [
           "D",
           null,
           "CALLAO"
          ],
          [
           "D",
           null,
           "MINISTRO CARRANZA - MIGUEL ABUELO"
          ],
          [
           "D",
           null,
           "OLLEROS"
          ],
          [
           "D",
           null,
           "JOSE HERNANDEZ"
          ],
          [
           "D",
           null,
           "JURAMENTO"
          ],
          [
           "D",
           null,
           "CATEDRAL"
          ],
          [
           "D",
           null,
           "CONGRESO DE TUCUMAN"
          ]
         ],
         "hovertemplate": "linea=%{customdata[0]}<br>lat=%{lat}<br>lon=%{lon}<br>ramal=%{customdata[1]}<br>stop_name=%{customdata[2]}<extra></extra>",
         "lat": [
          -34.6042452029629,
          -34.5997570807639,
          -34.6015871651394,
          -34.5916278437199,
          -34.5851559440493,
          -34.5814111936045,
          -34.5784220227904,
          -34.5882371084182,
          -34.5944257186285,
          -34.599639552419,
          -34.5751783641113,
          -34.5700123078257,
          -34.5662152421589,
          -34.5623090869974,
          -34.6078023364289,
          -34.5556417664261
         ],
         "legendgroup": "D",
         "lon": [
          -58.3805743428896,
          -58.3979237555734,
          -58.3851423588013,
          -58.4071613201899,
          -58.4159554190067,
          -58.4211960101264,
          -58.4257114411123,
          -58.4112939013936,
          -58.4023953425351,
          -58.3931251809727,
          -58.4350135337338,
          -58.4446681483349,
          -58.4521256033889,
          -58.456489134589,
          -58.3739558069511,
          -58.4623784082243
         ],
         "marker": {
          "color": "#B6E880"
         },
         "mode": "markers",
         "name": "D",
         "showlegend": true,
         "subplot": "mapbox",
         "type": "scattermapbox"
        },
        {
         "customdata": [
          [
           "C",
           null,
           "RETIRO"
          ],
          [
           "C",
           null,
           "LAVALLE"
          ],
          [
           "C",
           null,
           "DIAGONAL NORTE"
          ],
          [
           "C",
           null,
           "AV. DE MAYO"
          ],
          [
           "C",
           null,
           "MORENO"
          ],
          [
           "C",
           null,
           "INDEPENDENCIA"
          ],
          [
           "C",
           null,
           "CONSTITUCION"
          ],
          [
           "C",
           null,
           "SAN MARTIN"
          ],
          [
           "C",
           null,
           "SAN JUAN"
          ]
         ],
         "hovertemplate": "linea=%{customdata[0]}<br>lat=%{lat}<br>lon=%{lon}<br>ramal=%{customdata[1]}<br>stop_name=%{customdata[2]}<extra></extra>",
         "lat": [
          -34.5911938083332,
          -34.6017699230114,
          -34.604843739914,
          -34.6089833148827,
          -34.6126172798037,
          -34.6181255992933,
          -34.6276194522548,
          -34.5950574047792,
          -34.6219167322081
         ],
         "legendgroup": "C",
         "lon": [
          -58.3740182164816,
          -58.3781557828244,
          -58.3795299800739,
          -58.3806107179579,
          -58.38044446966,
          -58.3801736104752,
          -58.3814344339343,
          -58.3778190509867,
          -58.3799211788651
         ],
         "marker": {
          "color": "#FF97FF"
         },
         "mode": "markers",
         "name": "C",
         "showlegend": true,
         "subplot": "mapbox",
         "type": "scattermapbox"
        },
        {
         "customdata": [
          [
           "B",
           null,
           "FLORIDA"
          ],
          [
           "B",
           null,
           "C. PELLEGRINI"
          ],
          [
           "B",
           null,
           "URUGUAY"
          ],
          [
           "B",
           null,
           "CALLAO - MAESTRO ALFREDO BRAVO"
          ],
          [
           "B",
           null,
           "PASTEUR - AMIA"
          ],
          [
           "B",
           null,
           "PUEYRREDON"
          ],
          [
           "B",
           null,
           "CARLOS GARDEL"
          ],
          [
           "B",
           null,
           "ALMAGRO - MEDRANO"
          ],
          [
           "B",
           null,
           "ANGEL GALLARDO"
          ],
          [
           "B",
           null,
           "MALABIA - OSVALDO PUGLIESE"
          ],
          [
           "B",
           null,
           "DORREGO"
          ],
          [
           "B",
           null,
           "FEDERICO LACROZE"
          ],
          [
           "B",
           null,
           "LEANDRO N. ALEM"
          ],
          [
           "B",
           null,
           "TRONADOR - VILLA ORTÚZAR"
          ],
          [
           "B",
           null,
           "DE LOS INCAS -PQUE. CHAS"
          ],
          [
           "B",
           null,
           "ECHEVERRÍA"
          ],
          [
           "B",
           null,
           "JUAN MANUEL DE ROSAS - VILLA URQUIZA"
          ]
         ],
         "hovertemplate": "linea=%{customdata[0]}<br>lat=%{lat}<br>lon=%{lon}<br>ramal=%{customdata[1]}<br>stop_name=%{customdata[2]}<extra></extra>",
         "lat": [
          -34.6032972855775,
          -34.6036371051817,
          -34.6040935531057,
          -34.6044195428608,
          -34.6046429679193,
          -34.6045810553512,
          -34.6040795173475,
          -34.6031649010973,
          -34.6021622293427,
          -34.5989673641588,
          -34.5917181536198,
          -34.5871978529904,
          -34.6029894966332,
          -34.5840946201161,
          -34.5812488459579,
          -34.5777973775423,
          -34.5743189142748
         ],
         "legendgroup": "B",
         "lon": [
          -58.3750715182636,
          -58.3807148471409,
          -58.3872961335408,
          -58.3923142350887,
          -58.399474256679,
          -58.4053994398434,
          -58.4117625996321,
          -58.4209624702706,
          -58.4312738603246,
          -58.4397714984155,
          -58.4475730925312,
          -58.455029286281,
          -58.3699298501224,
          -58.4662272046921,
          -58.4742408261771,
          -58.4810135036721,
          -58.4863853478891
         ],
         "marker": {
          "color": "#FECB52"
         },
         "mode": "markers",
         "name": "B",
         "showlegend": true,
         "subplot": "mapbox",
         "type": "scattermapbox"
        },
        {
         "customdata": [
          [
           "A",
           null,
           "PERU"
          ],
          [
           "A",
           null,
           "PIEDRAS"
          ],
          [
           "A",
           null,
           "LIMA"
          ],
          [
           "A",
           null,
           "SAENZ PEÑA"
          ],
          [
           "A",
           null,
           "CONGRESO - PDTE. DR. RAÚL R. ALFONSÍN"
          ],
          [
           "A",
           null,
           "PASCO"
          ],
          [
           "A",
           null,
           "ALBERTI"
          ],
          [
           "A",
           null,
           "PLAZA DE MISERERE"
          ],
          [
           "A",
           null,
           "LORIA"
          ],
          [
           "A",
           null,
           "CASTRO BARROS"
          ],
          [
           "A",
           null,
           "RIO DE JANEIRO"
          ],
          [
           "A",
           null,
           "ACOYTE"
          ],
          [
           "A",
           null,
           "PRIMERA JUNTA"
          ],
          [
           "A",
           null,
           "PLAZA DE MAYO"
          ],
          [
           "A",
           null,
           "CARABOBO"
          ],
          [
           "A",
           null,
           "PUAN"
          ],
          [
           "A",
           null,
           "SAN PEDRITO"
          ],
          [
           "A",
           null,
           "SAN JOSÉ DE FLORES"
          ]
         ],
         "hovertemplate": "linea=%{customdata[0]}<br>lat=%{lat}<br>lon=%{lon}<br>ramal=%{customdata[1]}<br>stop_name=%{customdata[2]}<extra></extra>",
         "lat": [
          -34.6085590738532,
          -34.608881721215,
          -34.6090998065519,
          -34.6094125865027,
          -34.6092256843174,
          -34.6096459617052,
          -34.6098335784398,
          -34.6098172456706,
          -34.6107816904504,
          -34.6117702291255,
          -34.6152056103312,
          -34.6182799671446,
          -34.6204052128589,
          -34.6088103091689,
          -34.6266665931803,
          -34.6235289528893,
          -34.630707087006,
          -34.629087226797
         ],
         "legendgroup": "A",
         "lon": [
          -58.3742677264304,
          -58.3790851530908,
          -58.3822324010181,
          -58.3867771940873,
          -58.3926688246648,
          -58.3984269918123,
          -58.401207534233,
          -58.4067071165088,
          -58.4151857088376,
          -58.4218156713706,
          -58.4295003232997,
          -58.4364285288493,
          -58.4411776251109,
          -58.3709684989674,
          -58.4567097975238,
          -58.4486476540264,
          -58.4696396292247,
          -58.4635405106286
         ],
         "marker": {
          "color": "#636efa"
         },
         "mode": "markers",
         "name": "A",
         "showlegend": true,
         "subplot": "mapbox",
         "type": "scattermapbox"
        },
        {
         "customdata": [
          [
           "E",
           null,
           "BOLIVAR"
          ],
          [
           "E",
           null,
           "BELGRANO"
          ],
          [
           "E",
           null,
           "INDEPENDENCIA"
          ],
          [
           "E",
           null,
           "SAN JOSE"
          ],
          [
           "E",
           null,
           "ENTRE RIOS - RODOLFO WALSH"
          ],
          [
           "E",
           null,
           "PICHINCHA"
          ],
          [
           "E",
           null,
           "JUJUY"
          ],
          [
           "E",
           null,
           "URQUIZA"
          ],
          [
           "E",
           null,
           "JOSE MARIA MORENO"
          ],
          [
           "E",
           null,
           "EMILIO MITRE"
          ],
          [
           "E",
           null,
           "MEDALLA MILAGROSA"
          ],
          [
           "E",
           null,
           "AV. LA PLATA"
          ],
          [
           "E",
           null,
           "BOEDO"
          ],
          [
           "E",
           null,
           "PLAZA DE LOS VIRREYES - EVA PERON"
          ],
          [
           "E",
           null,
           "VARELA"
          ],
          [
           "E",
           null,
           "RETIRO"
          ],
          [
           "E",
           null,
           "CATALINAS"
          ],
          [
           "E",
           null,
           "CORREO CENTRAL"
          ]
         ],
         "hovertemplate": "linea=%{customdata[0]}<br>lat=%{lat}<br>lon=%{lon}<br>ramal=%{customdata[1]}<br>stop_name=%{customdata[2]}<extra></extra>",
         "lat": [
          -34.6092424288608,
          -34.6128491058186,
          -34.6179373939772,
          -34.6223394919367,
          -34.6227196661278,
          -34.6231098657791,
          -34.6238657115835,
          -34.6246537864662,
          -34.6280175487742,
          -34.6310418421655,
          -34.6363891893858,
          -34.627015467002,
          -34.6253661058926,
          -34.6433121624098,
          -34.640137352298,
          -34.592114361931,
          -34.596596818975,
          -34.6030139059231
         ],
         "legendgroup": "E",
         "lon": [
          -58.3736842241685,
          -58.3775808865406,
          -58.3815349417122,
          -58.3851485496238,
          -58.3915116999715,
          -58.3970680746626,
          -58.4029365802561,
          -58.4093907834436,
          -58.4338162502395,
          -58.4421707059652,
          -58.4502782563709,
          -58.4267890228972,
          -58.4155328189678,
          -58.4616517616898,
          -58.4578917557731,
          -58.3758498374305,
          -58.3717003329901,
          -58.3704125010713
         ],
         "marker": {
          "color": "#EF553B"
         },
         "mode": "markers",
         "name": "E",
         "showlegend": true,
         "subplot": "mapbox",
         "type": "scattermapbox"
        },
        {
         "customdata": [
          [
           "PREMETRO",
           null,
           "INTENDENTE SAGUIER"
          ],
          [
           "PREMETRO",
           null,
           "BALBASTRO (Cementerio de Flores)"
          ],
          [
           "PREMETRO",
           null,
           "ANA MARÍA JANER"
          ],
          [
           "PREMETRO",
           null,
           "FERNANDEZ DE LA CRUZ"
          ],
          [
           "PREMETRO",
           null,
           "PTE. ILLIA (Lacarra)"
          ],
          [
           "PREMETRO",
           null,
           "PARQUE DE LA CIUDAD"
          ],
          [
           "PREMETRO",
           null,
           "CECILIA GRIERSON"
          ],
          [
           "PREMETRO",
           null,
           "ESCALADA"
          ],
          [
           "PREMETRO",
           null,
           "GENERAL SAVIO"
          ],
          [
           "PREMETRO",
           null,
           "GABINO EZEIZA (Av. Cnel. Roca)"
          ],
          [
           "PREMETRO",
           null,
           "NICOLÁS DESCALZI"
          ],
          [
           "PREMETRO",
           null,
           "LARRAZÁBAL"
          ],
          [
           "PREMETRO",
           null,
           "CENTRO CIVICO LUGANO"
          ],
          [
           "PREMETRO",
           null,
           "ANA DÍAZ"
          ],
          [
           "PREMETRO",
           null,
           "MARIANO ACOSTA (Bo. R. Carrillo)"
          ],
          [
           "PREMETRO",
           null,
           "SOMELLERA"
          ],
          [
           "PREMETRO",
           null,
           "NTRA. SRA. DE FÁTIMA"
          ],
          [
           "PREMETRO",
           null,
           "POLA"
          ]
         ],
         "hovertemplate": "linea=%{customdata[0]}<br>lat=%{lat}<br>lon=%{lon}<br>ramal=%{customdata[1]}<br>stop_name=%{customdata[2]}<extra></extra>",
         "lat": [
          -34.6437565970805,
          -34.6486005420351,
          -34.6594991467729,
          -34.6622249467795,
          -34.6653680271808,
          -34.6690901145736,
          -34.6724582308545,
          -34.6745264482372,
          -34.6883531329925,
          -34.686081208835,
          -34.6830667667194,
          -34.6805719548239,
          -34.6824577608497,
          -34.6808829242265,
          -34.6544327801137,
          -34.6564409551024,
          -34.6604582616429,
          -34.6781309500937
         ],
         "legendgroup": "PREMETRO",
         "lon": [
          -58.4614910346889,
          -58.4564145813745,
          -58.4500470792493,
          -58.4466067042219,
          -58.4485133000082,
          -58.4543251886428,
          -58.4579600157419,
          -58.4600751595769,
          -58.4595995738502,
          -58.4580715309316,
          -58.4620442328871,
          -58.4653695788337,
          -58.466124720094,
          -58.466923438707,
          -58.4564801393051,
          -58.4539052789963,
          -58.4488613949717,
          -58.4644621725649
         ],
         "marker": {
          "color": "#00cc96"
         },
         "mode": "markers",
         "name": "PREMETRO",
         "showlegend": true,
         "subplot": "mapbox",
         "type": "scattermapbox"
        }
       ],
       "layout": {
        "height": 900,
        "legend": {
         "title": {
          "text": "linea"
         },
         "tracegroupgap": 0
        },
        "mapbox": {
         "center": {
          "lat": -34.631348656437105,
          "lon": -58.39922801128583
         },
         "domain": {
          "x": [
           0,
           1
          ],
          "y": [
           0,
           1
          ]
         },
         "style": "carto-darkmatter",
         "zoom": 10
        },
        "margin": {
         "b": 0,
         "l": 0,
         "r": 0,
         "t": 0
        },
        "template": {
         "data": {
          "bar": [
           {
            "error_x": {
             "color": "#2a3f5f"
            },
            "error_y": {
             "color": "#2a3f5f"
            },
            "marker": {
             "line": {
              "color": "#E5ECF6",
              "width": 0.5
             },
             "pattern": {
              "fillmode": "overlay",
              "size": 10,
              "solidity": 0.2
             }
            },
            "type": "bar"
           }
          ],
          "barpolar": [
           {
            "marker": {
             "line": {
              "color": "#E5ECF6",
              "width": 0.5
             },
             "pattern": {
              "fillmode": "overlay",
              "size": 10,
              "solidity": 0.2
             }
            },
            "type": "barpolar"
           }
          ],
          "carpet": [
           {
            "aaxis": {
             "endlinecolor": "#2a3f5f",
             "gridcolor": "white",
             "linecolor": "white",
             "minorgridcolor": "white",
             "startlinecolor": "#2a3f5f"
            },
            "baxis": {
             "endlinecolor": "#2a3f5f",
             "gridcolor": "white",
             "linecolor": "white",
             "minorgridcolor": "white",
             "startlinecolor": "#2a3f5f"
            },
            "type": "carpet"
           }
          ],
          "choropleth": [
           {
            "colorbar": {
             "outlinewidth": 0,
             "ticks": ""
            },
            "type": "choropleth"
           }
          ],
          "contour": [
           {
            "colorbar": {
             "outlinewidth": 0,
             "ticks": ""
            },
            "colorscale": [
             [
              0,
              "#0d0887"
             ],
             [
              0.1111111111111111,
              "#46039f"
             ],
             [
              0.2222222222222222,
              "#7201a8"
             ],
             [
              0.3333333333333333,
              "#9c179e"
             ],
             [
              0.4444444444444444,
              "#bd3786"
             ],
             [
              0.5555555555555556,
              "#d8576b"
             ],
             [
              0.6666666666666666,
              "#ed7953"
             ],
             [
              0.7777777777777778,
              "#fb9f3a"
             ],
             [
              0.8888888888888888,
              "#fdca26"
             ],
             [
              1,
              "#f0f921"
             ]
            ],
            "type": "contour"
           }
          ],
          "contourcarpet": [
           {
            "colorbar": {
             "outlinewidth": 0,
             "ticks": ""
            },
            "type": "contourcarpet"
           }
          ],
          "heatmap": [
           {
            "colorbar": {
             "outlinewidth": 0,
             "ticks": ""
            },
            "colorscale": [
             [
              0,
              "#0d0887"
             ],
             [
              0.1111111111111111,
              "#46039f"
             ],
             [
              0.2222222222222222,
              "#7201a8"
             ],
             [
              0.3333333333333333,
              "#9c179e"
             ],
             [
              0.4444444444444444,
              "#bd3786"
             ],
             [
              0.5555555555555556,
              "#d8576b"
             ],
             [
              0.6666666666666666,
              "#ed7953"
             ],
             [
              0.7777777777777778,
              "#fb9f3a"
             ],
             [
              0.8888888888888888,
              "#fdca26"
             ],
             [
              1,
              "#f0f921"
             ]
            ],
            "type": "heatmap"
           }
          ],
          "heatmapgl": [
           {
            "colorbar": {
             "outlinewidth": 0,
             "ticks": ""
            },
            "colorscale": [
             [
              0,
              "#0d0887"
             ],
             [
              0.1111111111111111,
              "#46039f"
             ],
             [
              0.2222222222222222,
              "#7201a8"
             ],
             [
              0.3333333333333333,
              "#9c179e"
             ],
             [
              0.4444444444444444,
              "#bd3786"
             ],
             [
              0.5555555555555556,
              "#d8576b"
             ],
             [
              0.6666666666666666,
              "#ed7953"
             ],
             [
              0.7777777777777778,
              "#fb9f3a"
             ],
             [
              0.8888888888888888,
              "#fdca26"
             ],
             [
              1,
              "#f0f921"
             ]
            ],
            "type": "heatmapgl"
           }
          ],
          "histogram": [
           {
            "marker": {
             "pattern": {
              "fillmode": "overlay",
              "size": 10,
              "solidity": 0.2
             }
            },
            "type": "histogram"
           }
          ],
          "histogram2d": [
           {
            "colorbar": {
             "outlinewidth": 0,
             "ticks": ""
            },
            "colorscale": [
             [
              0,
              "#0d0887"
             ],
             [
              0.1111111111111111,
              "#46039f"
             ],
             [
              0.2222222222222222,
              "#7201a8"
             ],
             [
              0.3333333333333333,
              "#9c179e"
             ],
             [
              0.4444444444444444,
              "#bd3786"
             ],
             [
              0.5555555555555556,
              "#d8576b"
             ],
             [
              0.6666666666666666,
              "#ed7953"
             ],
             [
              0.7777777777777778,
              "#fb9f3a"
             ],
             [
              0.8888888888888888,
              "#fdca26"
             ],
             [
              1,
              "#f0f921"
             ]
            ],
            "type": "histogram2d"
           }
          ],
          "histogram2dcontour": [
           {
            "colorbar": {
             "outlinewidth": 0,
             "ticks": ""
            },
            "colorscale": [
             [
              0,
              "#0d0887"
             ],
             [
              0.1111111111111111,
              "#46039f"
             ],
             [
              0.2222222222222222,
              "#7201a8"
             ],
             [
              0.3333333333333333,
              "#9c179e"
             ],
             [
              0.4444444444444444,
              "#bd3786"
             ],
             [
              0.5555555555555556,
              "#d8576b"
             ],
             [
              0.6666666666666666,
              "#ed7953"
             ],
             [
              0.7777777777777778,
              "#fb9f3a"
             ],
             [
              0.8888888888888888,
              "#fdca26"
             ],
             [
              1,
              "#f0f921"
             ]
            ],
            "type": "histogram2dcontour"
           }
          ],
          "mesh3d": [
           {
            "colorbar": {
             "outlinewidth": 0,
             "ticks": ""
            },
            "type": "mesh3d"
           }
          ],
          "parcoords": [
           {
            "line": {
             "colorbar": {
              "outlinewidth": 0,
              "ticks": ""
             }
            },
            "type": "parcoords"
           }
          ],
          "pie": [
           {
            "automargin": true,
            "type": "pie"
           }
          ],
          "scatter": [
           {
            "fillpattern": {
             "fillmode": "overlay",
             "size": 10,
             "solidity": 0.2
            },
            "type": "scatter"
           }
          ],
          "scatter3d": [
           {
            "line": {
             "colorbar": {
              "outlinewidth": 0,
              "ticks": ""
             }
            },
            "marker": {
             "colorbar": {
              "outlinewidth": 0,
              "ticks": ""
             }
            },
            "type": "scatter3d"
           }
          ],
          "scattercarpet": [
           {
            "marker": {
             "colorbar": {
              "outlinewidth": 0,
              "ticks": ""
             }
            },
            "type": "scattercarpet"
           }
          ],
          "scattergeo": [
           {
            "marker": {
             "colorbar": {
              "outlinewidth": 0,
              "ticks": ""
             }
            },
            "type": "scattergeo"
           }
          ],
          "scattergl": [
           {
            "marker": {
             "colorbar": {
              "outlinewidth": 0,
              "ticks": ""
             }
            },
            "type": "scattergl"
           }
          ],
          "scattermapbox": [
           {
            "marker": {
             "colorbar": {
              "outlinewidth": 0,
              "ticks": ""
             }
            },
            "type": "scattermapbox"
           }
          ],
          "scatterpolar": [
           {
            "marker": {
             "colorbar": {
              "outlinewidth": 0,
              "ticks": ""
             }
            },
            "type": "scatterpolar"
           }
          ],
          "scatterpolargl": [
           {
            "marker": {
             "colorbar": {
              "outlinewidth": 0,
              "ticks": ""
             }
            },
            "type": "scatterpolargl"
           }
          ],
          "scatterternary": [
           {
            "marker": {
             "colorbar": {
              "outlinewidth": 0,
              "ticks": ""
             }
            },
            "type": "scatterternary"
           }
          ],
          "surface": [
           {
            "colorbar": {
             "outlinewidth": 0,
             "ticks": ""
            },
            "colorscale": [
             [
              0,
              "#0d0887"
             ],
             [
              0.1111111111111111,
              "#46039f"
             ],
             [
              0.2222222222222222,
              "#7201a8"
             ],
             [
              0.3333333333333333,
              "#9c179e"
             ],
             [
              0.4444444444444444,
              "#bd3786"
             ],
             [
              0.5555555555555556,
              "#d8576b"
             ],
             [
              0.6666666666666666,
              "#ed7953"
             ],
             [
              0.7777777777777778,
              "#fb9f3a"
             ],
             [
              0.8888888888888888,
              "#fdca26"
             ],
             [
              1,
              "#f0f921"
             ]
            ],
            "type": "surface"
           }
          ],
          "table": [
           {
            "cells": {
             "fill": {
              "color": "#EBF0F8"
             },
             "line": {
              "color": "white"
             }
            },
            "header": {
             "fill": {
              "color": "#C8D4E3"
             },
             "line": {
              "color": "white"
             }
            },
            "type": "table"
           }
          ]
         },
         "layout": {
          "annotationdefaults": {
           "arrowcolor": "#2a3f5f",
           "arrowhead": 0,
           "arrowwidth": 1
          },
          "autotypenumbers": "strict",
          "coloraxis": {
           "colorbar": {
            "outlinewidth": 0,
            "ticks": ""
           }
          },
          "colorscale": {
           "diverging": [
            [
             0,
             "#8e0152"
            ],
            [
             0.1,
             "#c51b7d"
            ],
            [
             0.2,
             "#de77ae"
            ],
            [
             0.3,
             "#f1b6da"
            ],
            [
             0.4,
             "#fde0ef"
            ],
            [
             0.5,
             "#f7f7f7"
            ],
            [
             0.6,
             "#e6f5d0"
            ],
            [
             0.7,
             "#b8e186"
            ],
            [
             0.8,
             "#7fbc41"
            ],
            [
             0.9,
             "#4d9221"
            ],
            [
             1,
             "#276419"
            ]
           ],
           "sequential": [
            [
             0,
             "#0d0887"
            ],
            [
             0.1111111111111111,
             "#46039f"
            ],
            [
             0.2222222222222222,
             "#7201a8"
            ],
            [
             0.3333333333333333,
             "#9c179e"
            ],
            [
             0.4444444444444444,
             "#bd3786"
            ],
            [
             0.5555555555555556,
             "#d8576b"
            ],
            [
             0.6666666666666666,
             "#ed7953"
            ],
            [
             0.7777777777777778,
             "#fb9f3a"
            ],
            [
             0.8888888888888888,
             "#fdca26"
            ],
            [
             1,
             "#f0f921"
            ]
           ],
           "sequentialminus": [
            [
             0,
             "#0d0887"
            ],
            [
             0.1111111111111111,
             "#46039f"
            ],
            [
             0.2222222222222222,
             "#7201a8"
            ],
            [
             0.3333333333333333,
             "#9c179e"
            ],
            [
             0.4444444444444444,
             "#bd3786"
            ],
            [
             0.5555555555555556,
             "#d8576b"
            ],
            [
             0.6666666666666666,
             "#ed7953"
            ],
            [
             0.7777777777777778,
             "#fb9f3a"
            ],
            [
             0.8888888888888888,
             "#fdca26"
            ],
            [
             1,
             "#f0f921"
            ]
           ]
          },
          "colorway": [
           "#636efa",
           "#EF553B",
           "#00cc96",
           "#ab63fa",
           "#FFA15A",
           "#19d3f3",
           "#FF6692",
           "#B6E880",
           "#FF97FF",
           "#FECB52"
          ],
          "font": {
           "color": "#2a3f5f"
          },
          "geo": {
           "bgcolor": "white",
           "lakecolor": "white",
           "landcolor": "#E5ECF6",
           "showlakes": true,
           "showland": true,
           "subunitcolor": "white"
          },
          "hoverlabel": {
           "align": "left"
          },
          "hovermode": "closest",
          "mapbox": {
           "style": "light"
          },
          "paper_bgcolor": "white",
          "plot_bgcolor": "#E5ECF6",
          "polar": {
           "angularaxis": {
            "gridcolor": "white",
            "linecolor": "white",
            "ticks": ""
           },
           "bgcolor": "#E5ECF6",
           "radialaxis": {
            "gridcolor": "white",
            "linecolor": "white",
            "ticks": ""
           }
          },
          "scene": {
           "xaxis": {
            "backgroundcolor": "#E5ECF6",
            "gridcolor": "white",
            "gridwidth": 2,
            "linecolor": "white",
            "showbackground": true,
            "ticks": "",
            "zerolinecolor": "white"
           },
           "yaxis": {
            "backgroundcolor": "#E5ECF6",
            "gridcolor": "white",
            "gridwidth": 2,
            "linecolor": "white",
            "showbackground": true,
            "ticks": "",
            "zerolinecolor": "white"
           },
           "zaxis": {
            "backgroundcolor": "#E5ECF6",
            "gridcolor": "white",
            "gridwidth": 2,
            "linecolor": "white",
            "showbackground": true,
            "ticks": "",
            "zerolinecolor": "white"
           }
          },
          "shapedefaults": {
           "line": {
            "color": "#2a3f5f"
           }
          },
          "ternary": {
           "aaxis": {
            "gridcolor": "white",
            "linecolor": "white",
            "ticks": ""
           },
           "baxis": {
            "gridcolor": "white",
            "linecolor": "white",
            "ticks": ""
           },
           "bgcolor": "#E5ECF6",
           "caxis": {
            "gridcolor": "white",
            "linecolor": "white",
            "ticks": ""
           }
          },
          "title": {
           "x": 0.05
          },
          "xaxis": {
           "automargin": true,
           "gridcolor": "white",
           "linecolor": "white",
           "ticks": "",
           "title": {
            "standoff": 15
           },
           "zerolinecolor": "white",
           "zerolinewidth": 2
          },
          "yaxis": {
           "automargin": true,
           "gridcolor": "white",
           "linecolor": "white",
           "ticks": "",
           "title": {
            "standoff": 15
           },
           "zerolinecolor": "white",
           "zerolinewidth": 2
          }
         }
        },
        "width": 1600
       }
      }
     },
     "metadata": {},
     "output_type": "display_data"
    }
   ],
   "source": [
    "color_scale0 = [(0, 'blue')]\n",
    "color_scale1 = [(0, 'orange'), (1,'red')]\n",
    "\n",
    "fig = px.scatter_mapbox(df_transporte,\n",
    "                        lat=\"lat\",\n",
    "                        lon=\"lon\",\n",
    "                        hover_data=[\"linea\", \"ramal\", \"stop_name\"],\n",
    "                        color=\"linea\",\n",
    "                        color_continuous_scale=\"bluered\",\n",
    "                        zoom=10,\n",
    "                        height=900,\n",
    "                        width=1600)\n",
    "fig.update_layout(mapbox_style=\"carto-darkmatter\")\n",
    "fig.update_layout(margin={\"r\":0,\"t\":0,\"l\":0,\"b\":0})\n",
    "fig.show()"
   ]
  },
  {
   "attachments": {},
   "cell_type": "markdown",
   "id": "4a18ee5c",
   "metadata": {},
   "source": [
    "### Hospitales"
   ]
  },
  {
   "cell_type": "code",
   "execution_count": 228,
   "id": "114ce470",
   "metadata": {},
   "outputs": [
    {
     "data": {
      "application/vnd.plotly.v1+json": {
       "config": {
        "plotlyServerURL": "https://plot.ly"
       },
       "data": [
        {
         "customdata": [
          [
           "HOSPITAL GENERAL DE NIÑOS PEDRO DE ELIZALDE",
           "Capital Federal"
          ],
          [
           "HOSPITAL GENERAL DE NIÑOS RICARDO GUTIERREZ",
           "Capital Federal"
          ],
          [
           "HOSPITAL DE ODONTOLOGIA DR. RAMON CARRILLO (EX NACIONAL)",
           "Capital Federal"
          ],
          [
           "HOSPITAL DE SALUD MENTAL BRAULIO MOYANO",
           "Capital Federal"
          ],
          [
           "HOSPITAL DE GASTROENTEROLOGIA B. UDAONDO",
           "Capital Federal"
          ],
          [
           "INSTITUTO DE ZOONOSIS L. PASTEUR",
           "Capital Federal"
          ],
          [
           "HOSPITAL DE REHABILITACION RESPIRATORIA MARIA FERRER",
           "Capital Federal"
          ],
          [
           "HOSPITAL INFANTO JUVENIL C. TOBAR GARCIA",
           "Capital Federal"
          ],
          [
           "HOSPITAL DE SALUD MENTAL J. T. BORDA",
           "Capital Federal"
          ],
          [
           "HOSPITAL DE ODONTOLOGIA INFANTIL DON BENITO QUINQUELA MARTIN",
           "Capital Federal"
          ],
          [
           "INSTITUTO DE REHABILITACION PSICOFISICA (I.R.E.P.)",
           "Capital Federal"
          ],
          [
           "HOSPITAL MATERNO INFANTIL R. SARDA",
           "Capital Federal"
          ],
          [
           "HOSPITAL OFTALMOLOGICO DR. PEDRO LAGLEYZE",
           "Capital Federal"
          ],
          [
           "HOSPITAL DE ODONTOLOGIA  JOSE DUEÑAS",
           "Capital Federal"
          ],
          [
           "HOSPITAL MUNICIPAL DE ONCOLOGIA MARIE CURIE",
           "Capital Federal"
          ],
          [
           "HOSPITAL DE QUEMADOS DR. ARTURO UMBERTO ILLIA",
           "Capital Federal"
          ],
          [
           "HOSPITAL DE OFTALMOLOGIA SANTA LUCIA",
           "Capital Federal"
          ],
          [
           "HOSPITAL DE REHABILITACION M. ROCCA",
           "Capital Federal"
          ],
          [
           "HOSPITAL DE INFECCIOSAS F. MUÑIZ",
           "Capital Federal"
          ],
          [
           "HOSPITAL DE EMERGENCIAS PSIQUIATRICAS TORCUATO DE ALVEAR",
           "Capital Federal"
          ],
          [
           "HOSPITAL GENERAL DE AGUDOS B. RIVADAVIA",
           "Capital Federal"
          ],
          [
           "HOSPITAL GENERAL DE AGUDOS DR C. ARGERICH",
           "Capital Federal"
          ],
          [
           "HOSPITAL GENERAL DE AGUDOS DR. J. A. FERNANDEZ",
           "Capital Federal"
          ],
          [
           "HOSPITAL GENERAL DE AGUDOS DR. C. DURAND",
           "Capital Federal"
          ],
          [
           "HOSPITAL GENERAL DE AGUDOS DR. T. ALVAREZ",
           "Capital Federal"
          ],
          [
           "HOSPITAL GENERAL DE AGUDOS J. M. RAMOS MEJIA",
           "Capital Federal"
          ],
          [
           "HOSPITAL GENERAL DE AGUDOS DR. I. PIROVANO",
           "Capital Federal"
          ],
          [
           "HOSPITAL GENERAL DE AGUDOS A. ZUBIZARRETA",
           "Capital Federal"
          ],
          [
           "HOSPITAL GENERAL DE AGUDOS D. VELEZ SARSFIELD",
           "Capital Federal"
          ],
          [
           "HOSPITAL GENERAL DE AGUDOS DONACION F. SANTOJANNI",
           "Capital Federal"
          ],
          [
           "HOSPITAL GENERAL DE AGUDOS J. A. PENNA",
           "Capital Federal"
          ],
          [
           "HOSPITAL GENERAL DE AGUDOS DR. E. TORNU",
           "Capital Federal"
          ],
          [
           "HOSPITAL GENERAL DE AGUDOS P. PIÑERO",
           "Capital Federal"
          ],
          [
           "HOSPITAL CECILIA GRIERSON",
           "Capital Federal"
          ],
          [
           "HOSP. DE PEDIATRIA DR. J. GARRAHAN",
           "Capital Federal"
          ],
          [
           "TALLERES PROTEGIDOS DE REHABILITACION PSIQUIATRICA",
           "Capital Federal"
          ]
         ],
         "hovertemplate": "province=%{customdata[1]}<br>lat=%{lat}<br>lon=%{lon}<br>name=%{customdata[0]}<extra></extra>",
         "lat": [
          -34.628847360388136,
          -34.59419197263928,
          -34.58452833575054,
          -34.63940413164837,
          -34.63415357600018,
          -34.60847212574126,
          -34.63021120444947,
          -34.63570223515591,
          -34.63643505465687,
          -34.63889173208336,
          -34.55389633164726,
          -34.63485630841496,
          -34.60543427502072,
          -34.614634834842896,
          -34.60705076038663,
          -34.625503195248264,
          -34.622712507512446,
          -34.61798175405911,
          -34.637529325841555,
          -34.597209872915144,
          -34.58476595812136,
          -34.62834485816766,
          -34.58114171088898,
          -34.60897285384144,
          -34.6241704940114,
          -34.61765984386068,
          -34.56505195656798,
          -34.599979524264036,
          -34.62533679526684,
          -34.6491867281064,
          -34.643117259197524,
          -34.58739176902265,
          -34.64389407186596,
          -34.67184801407717,
          -34.62994536144042,
          -34.64198880149282
         ],
         "legendgroup": "Capital Federal",
         "lon": [
          -58.37755084884431,
          -58.41207007694563,
          -58.40272765478279,
          -58.3851559118889,
          -58.391311440653496,
          -58.43494334798185,
          -58.3758433488021,
          -58.38232845094876,
          -58.38212837469582,
          -58.360120127145485,
          -58.44098823824388,
          -58.40275062753768,
          -58.460185577552785,
          -58.42765975428369,
          -58.43324843812948,
          -58.43239669502435,
          -58.39406416047464,
          -58.50214492222223,
          -58.39372694132254,
          -58.475258845976136,
          -58.40051345744227,
          -58.36598508871902,
          -58.406893914278655,
          -58.43798136170503,
          -58.46950203632652,
          -58.409610748815545,
          -58.47107815932505,
          -58.51105250005687,
          -58.50761514091995,
          -58.515629193670875,
          -58.41086021882914,
          -58.471097628216796,
          -58.4541167814714,
          -58.456642849110345,
          -58.39187918138825,
          -58.38142933818905
         ],
         "marker": {
          "color": "#636efa"
         },
         "mode": "markers",
         "name": "Capital Federal",
         "showlegend": true,
         "subplot": "mapbox",
         "type": "scattermapbox"
        },
        {
         "customdata": [
          [
           "BREAST CLINIC S.A.",
           "Bs.As. G.B.A. Zona Sur"
          ],
          [
           "CEMPLAN",
           "Bs.As. G.B.A. Zona Sur"
          ],
          [
           "Centro Educación y Tratamiento para Diabetes \"Bernardo Houssay",
           "Bs.As. G.B.A. Zona Sur"
          ],
          [
           "Centro Gastroenterológico Platense",
           "Bs.As. G.B.A. Zona Sur"
          ],
          [
           "Centro Médico Cantilo",
           "Bs.As. G.B.A. Zona Sur"
          ],
          [
           "Centro Médico de Diagnóstico",
           "Bs.As. G.B.A. Zona Sur"
          ],
          [
           "CIMED Centro de Imágenes Médicas",
           "Bs.As. G.B.A. Zona Sur"
          ],
          [
           "Clínica Belgrano",
           "Bs.As. G.B.A. Zona Sur"
          ],
          [
           "Clínica City Bell",
           "Bs.As. G.B.A. Zona Sur"
          ],
          [
           "Clínica de las Enfermedades de los Ojos S.A.",
           "Bs.As. G.B.A. Zona Sur"
          ],
          [
           "Clínica del Niño",
           "Bs.As. G.B.A. Zona Sur"
          ],
          [
           "Clínica Oftalmológica Dr. Alza",
           "Bs.As. G.B.A. Zona Sur"
          ],
          [
           "Clínica Oftalmológica Meroni S.R.L.",
           "Bs.As. G.B.A. Zona Sur"
          ],
          [
           "Clínica Privada de Ojos Santa Lucía",
           "Bs.As. G.B.A. Zona Sur"
          ],
          [
           "Clínica Privada de Piel, Cirugía Plástica Estética y Reparadora",
           "Bs.As. G.B.A. Zona Sur"
          ],
          [
           "Clínica Privada ECO-VER S.A.",
           "Bs.As. G.B.A. Zona Sur"
          ],
          [
           "Clínica Privada Neuropsiquiatrica Santa Rosa SRL",
           "Bs.As. G.B.A. Zona Sur"
          ],
          [
           "Clínica del Niño SA",
           "Bs.As. G.B.A. Zona Sur"
          ],
          [
           "Clínica Monovalente Perinat",
           "Bs.As. G.B.A. Zona Sur"
          ],
          [
           "Clínica Privada del Centro",
           "Bs.As. G.B.A. Zona Sur"
          ],
          [
           "Clínica Privada Dr. J.J. Vaccarini",
           "Bs.As. G.B.A. Zona Sur"
          ],
          [
           "Clínica Privada Diagnosis S.A.",
           "Bs.As. G.B.A. Zona Sur"
          ],
          [
           "Hospital Italiano",
           "Bs.As. G.B.A. Zona Sur"
          ],
          [
           "Hospital Privado Sudamericano",
           "Bs.As. G.B.A. Zona Sur"
          ],
          [
           "Hospital Español",
           "Bs.As. G.B.A. Zona Sur"
          ],
          [
           "Instituto Bonaerense de Oncología",
           "Bs.As. G.B.A. Zona Sur"
          ],
          [
           "Instituto Central de Medicina S.A.",
           "Bs.As. G.B.A. Zona Sur"
          ],
          [
           "Instituto de Cardiología La Plata",
           "Bs.As. G.B.A. Zona Sur"
          ],
          [
           "Instituto de Terapia Radiante S,A,",
           "Bs.As. G.B.A. Zona Sur"
          ],
          [
           "Instituto del Diagnóstico Galenos S.A.",
           "Bs.As. G.B.A. Zona Sur"
          ],
          [
           "Instituto Médico Mater Dei S.A.",
           "Bs.As. G.B.A. Zona Sur"
          ],
          [
           "Instituto Médico Platense SA",
           "Bs.As. G.B.A. Zona Sur"
          ],
          [
           "Instituto Privado de Excelencia Médica, IPREM S.A.",
           "Bs.As. G.B.A. Zona Sur"
          ],
          [
           "IPENSA",
           "Bs.As. G.B.A. Zona Sur"
          ],
          [
           "IPENSA City Bell",
           "Bs.As. G.B.A. Zona Sur"
          ],
          [
           "Policlínica de Ojos",
           "Bs.As. G.B.A. Zona Sur"
          ],
          [
           "Policlínica Especializada Ambulatoria (PEA)",
           "Bs.As. G.B.A. Zona Sur"
          ],
          [
           "Policlínica Privada Angiocor",
           "Bs.As. G.B.A. Zona Sur"
          ],
          [
           "Policlínica Privada IDYTAC",
           "Bs.As. G.B.A. Zona Sur"
          ],
          [
           "Policlínica Privada Instituto de la Columna Vertebral",
           "Bs.As. G.B.A. Zona Sur"
          ],
          [
           "Policlínica Privada Platense de Enfermedades de los Ojos",
           "Bs.As. G.B.A. Zona Sur"
          ],
          [
           "Sanatorio Argentino S.A.",
           "Bs.As. G.B.A. Zona Sur"
          ],
          [
           "Sanatorio San José de Villa Elisa S.A.",
           "Bs.As. G.B.A. Zona Sur"
          ]
         ],
         "hovertemplate": "province=%{customdata[1]}<br>lat=%{lat}<br>lon=%{lon}<br>name=%{customdata[0]}<extra></extra>",
         "lat": [
          -34.9076111111111,
          -34.91825,
          -34.9272777777778,
          -34.9134166666667,
          -34.8800555555556,
          -34.8719444444444,
          -34.9055555555556,
          -34.9138888888889,
          -34.8684166666667,
          null,
          -34.9264444444444,
          -34.9163333333333,
          -34.9268055555556,
          -34.9183611111111,
          -34.9211111111111,
          -34.9076111111111,
          -34.9097777777778,
          -34.9263055555556,
          -34.9281388888889,
          -34.918,
          -34.9366388888889,
          -34.9184166666667,
          -34.9362777777778,
          -34.9030277777778,
          -34.9055277777778,
          -34.9118611111111,
          -34.9093333333333,
          -34.9027777777778,
          -34.9255555555556,
          -34.9183055555556,
          -34.9174444444444,
          -34.9096666666667,
          null,
          -34.9171388888889,
          -34.87425,
          -34.906,
          -34.9125833333333,
          -34.9144444444444,
          -34.9036666666667,
          -34.9173333333333,
          -34.9119166666667,
          -34.9231111111111,
          -34.8519722222222
         ],
         "legendgroup": "Bs.As. G.B.A. Zona Sur",
         "lon": [
          -57.959,
          -57.9424444444444,
          -57.9339166666667,
          -57.9423333333333,
          -58.05375,
          -58.0444722222222,
          -57.95725,
          -57.9435,
          -58.0448333333333,
          null,
          -57.9415555555556,
          -57.9588055555556,
          -57.9418611111111,
          -57.946,
          -57.9508611111111,
          -57.9501388888889,
          -57.9515277777778,
          -57.9416666666667,
          -57.9515,
          -57.9570277777778,
          -57.9188055555556,
          -57.9348055555556,
          -57.9724722222222,
          -57.9538611111111,
          -57.9673055555556,
          -57.9413333333333,
          -57.9562222222222,
          -57.9629166666667,
          -57.9461666666667,
          -57.9345,
          -57.9608055555556,
          -57.94375,
          null,
          -57.9391666666667,
          -58.0454722222222,
          -57.9497222222222,
          -57.9423611111111,
          -57.9404444444444,
          -57.9668055555556,
          -57.9386666666667,
          -57.9608333333333,
          -57.9510833333333,
          -58.0935277777778
         ],
         "marker": {
          "color": "#EF553B"
         },
         "mode": "markers",
         "name": "Bs.As. G.B.A. Zona Sur",
         "showlegend": true,
         "subplot": "mapbox",
         "type": "scattermapbox"
        }
       ],
       "layout": {
        "height": 800,
        "legend": {
         "title": {
          "text": "province"
         },
         "tracegroupgap": 0
        },
        "mapbox": {
         "center": {
          "lat": -34.7738051746773,
          "lon": -58.17872680005384
         },
         "domain": {
          "x": [
           0,
           1
          ],
          "y": [
           0,
           1
          ]
         },
         "style": "carto-darkmatter",
         "zoom": 10
        },
        "margin": {
         "b": 0,
         "l": 0,
         "r": 0,
         "t": 0
        },
        "template": {
         "data": {
          "bar": [
           {
            "error_x": {
             "color": "#2a3f5f"
            },
            "error_y": {
             "color": "#2a3f5f"
            },
            "marker": {
             "line": {
              "color": "#E5ECF6",
              "width": 0.5
             },
             "pattern": {
              "fillmode": "overlay",
              "size": 10,
              "solidity": 0.2
             }
            },
            "type": "bar"
           }
          ],
          "barpolar": [
           {
            "marker": {
             "line": {
              "color": "#E5ECF6",
              "width": 0.5
             },
             "pattern": {
              "fillmode": "overlay",
              "size": 10,
              "solidity": 0.2
             }
            },
            "type": "barpolar"
           }
          ],
          "carpet": [
           {
            "aaxis": {
             "endlinecolor": "#2a3f5f",
             "gridcolor": "white",
             "linecolor": "white",
             "minorgridcolor": "white",
             "startlinecolor": "#2a3f5f"
            },
            "baxis": {
             "endlinecolor": "#2a3f5f",
             "gridcolor": "white",
             "linecolor": "white",
             "minorgridcolor": "white",
             "startlinecolor": "#2a3f5f"
            },
            "type": "carpet"
           }
          ],
          "choropleth": [
           {
            "colorbar": {
             "outlinewidth": 0,
             "ticks": ""
            },
            "type": "choropleth"
           }
          ],
          "contour": [
           {
            "colorbar": {
             "outlinewidth": 0,
             "ticks": ""
            },
            "colorscale": [
             [
              0,
              "#0d0887"
             ],
             [
              0.1111111111111111,
              "#46039f"
             ],
             [
              0.2222222222222222,
              "#7201a8"
             ],
             [
              0.3333333333333333,
              "#9c179e"
             ],
             [
              0.4444444444444444,
              "#bd3786"
             ],
             [
              0.5555555555555556,
              "#d8576b"
             ],
             [
              0.6666666666666666,
              "#ed7953"
             ],
             [
              0.7777777777777778,
              "#fb9f3a"
             ],
             [
              0.8888888888888888,
              "#fdca26"
             ],
             [
              1,
              "#f0f921"
             ]
            ],
            "type": "contour"
           }
          ],
          "contourcarpet": [
           {
            "colorbar": {
             "outlinewidth": 0,
             "ticks": ""
            },
            "type": "contourcarpet"
           }
          ],
          "heatmap": [
           {
            "colorbar": {
             "outlinewidth": 0,
             "ticks": ""
            },
            "colorscale": [
             [
              0,
              "#0d0887"
             ],
             [
              0.1111111111111111,
              "#46039f"
             ],
             [
              0.2222222222222222,
              "#7201a8"
             ],
             [
              0.3333333333333333,
              "#9c179e"
             ],
             [
              0.4444444444444444,
              "#bd3786"
             ],
             [
              0.5555555555555556,
              "#d8576b"
             ],
             [
              0.6666666666666666,
              "#ed7953"
             ],
             [
              0.7777777777777778,
              "#fb9f3a"
             ],
             [
              0.8888888888888888,
              "#fdca26"
             ],
             [
              1,
              "#f0f921"
             ]
            ],
            "type": "heatmap"
           }
          ],
          "heatmapgl": [
           {
            "colorbar": {
             "outlinewidth": 0,
             "ticks": ""
            },
            "colorscale": [
             [
              0,
              "#0d0887"
             ],
             [
              0.1111111111111111,
              "#46039f"
             ],
             [
              0.2222222222222222,
              "#7201a8"
             ],
             [
              0.3333333333333333,
              "#9c179e"
             ],
             [
              0.4444444444444444,
              "#bd3786"
             ],
             [
              0.5555555555555556,
              "#d8576b"
             ],
             [
              0.6666666666666666,
              "#ed7953"
             ],
             [
              0.7777777777777778,
              "#fb9f3a"
             ],
             [
              0.8888888888888888,
              "#fdca26"
             ],
             [
              1,
              "#f0f921"
             ]
            ],
            "type": "heatmapgl"
           }
          ],
          "histogram": [
           {
            "marker": {
             "pattern": {
              "fillmode": "overlay",
              "size": 10,
              "solidity": 0.2
             }
            },
            "type": "histogram"
           }
          ],
          "histogram2d": [
           {
            "colorbar": {
             "outlinewidth": 0,
             "ticks": ""
            },
            "colorscale": [
             [
              0,
              "#0d0887"
             ],
             [
              0.1111111111111111,
              "#46039f"
             ],
             [
              0.2222222222222222,
              "#7201a8"
             ],
             [
              0.3333333333333333,
              "#9c179e"
             ],
             [
              0.4444444444444444,
              "#bd3786"
             ],
             [
              0.5555555555555556,
              "#d8576b"
             ],
             [
              0.6666666666666666,
              "#ed7953"
             ],
             [
              0.7777777777777778,
              "#fb9f3a"
             ],
             [
              0.8888888888888888,
              "#fdca26"
             ],
             [
              1,
              "#f0f921"
             ]
            ],
            "type": "histogram2d"
           }
          ],
          "histogram2dcontour": [
           {
            "colorbar": {
             "outlinewidth": 0,
             "ticks": ""
            },
            "colorscale": [
             [
              0,
              "#0d0887"
             ],
             [
              0.1111111111111111,
              "#46039f"
             ],
             [
              0.2222222222222222,
              "#7201a8"
             ],
             [
              0.3333333333333333,
              "#9c179e"
             ],
             [
              0.4444444444444444,
              "#bd3786"
             ],
             [
              0.5555555555555556,
              "#d8576b"
             ],
             [
              0.6666666666666666,
              "#ed7953"
             ],
             [
              0.7777777777777778,
              "#fb9f3a"
             ],
             [
              0.8888888888888888,
              "#fdca26"
             ],
             [
              1,
              "#f0f921"
             ]
            ],
            "type": "histogram2dcontour"
           }
          ],
          "mesh3d": [
           {
            "colorbar": {
             "outlinewidth": 0,
             "ticks": ""
            },
            "type": "mesh3d"
           }
          ],
          "parcoords": [
           {
            "line": {
             "colorbar": {
              "outlinewidth": 0,
              "ticks": ""
             }
            },
            "type": "parcoords"
           }
          ],
          "pie": [
           {
            "automargin": true,
            "type": "pie"
           }
          ],
          "scatter": [
           {
            "fillpattern": {
             "fillmode": "overlay",
             "size": 10,
             "solidity": 0.2
            },
            "type": "scatter"
           }
          ],
          "scatter3d": [
           {
            "line": {
             "colorbar": {
              "outlinewidth": 0,
              "ticks": ""
             }
            },
            "marker": {
             "colorbar": {
              "outlinewidth": 0,
              "ticks": ""
             }
            },
            "type": "scatter3d"
           }
          ],
          "scattercarpet": [
           {
            "marker": {
             "colorbar": {
              "outlinewidth": 0,
              "ticks": ""
             }
            },
            "type": "scattercarpet"
           }
          ],
          "scattergeo": [
           {
            "marker": {
             "colorbar": {
              "outlinewidth": 0,
              "ticks": ""
             }
            },
            "type": "scattergeo"
           }
          ],
          "scattergl": [
           {
            "marker": {
             "colorbar": {
              "outlinewidth": 0,
              "ticks": ""
             }
            },
            "type": "scattergl"
           }
          ],
          "scattermapbox": [
           {
            "marker": {
             "colorbar": {
              "outlinewidth": 0,
              "ticks": ""
             }
            },
            "type": "scattermapbox"
           }
          ],
          "scatterpolar": [
           {
            "marker": {
             "colorbar": {
              "outlinewidth": 0,
              "ticks": ""
             }
            },
            "type": "scatterpolar"
           }
          ],
          "scatterpolargl": [
           {
            "marker": {
             "colorbar": {
              "outlinewidth": 0,
              "ticks": ""
             }
            },
            "type": "scatterpolargl"
           }
          ],
          "scatterternary": [
           {
            "marker": {
             "colorbar": {
              "outlinewidth": 0,
              "ticks": ""
             }
            },
            "type": "scatterternary"
           }
          ],
          "surface": [
           {
            "colorbar": {
             "outlinewidth": 0,
             "ticks": ""
            },
            "colorscale": [
             [
              0,
              "#0d0887"
             ],
             [
              0.1111111111111111,
              "#46039f"
             ],
             [
              0.2222222222222222,
              "#7201a8"
             ],
             [
              0.3333333333333333,
              "#9c179e"
             ],
             [
              0.4444444444444444,
              "#bd3786"
             ],
             [
              0.5555555555555556,
              "#d8576b"
             ],
             [
              0.6666666666666666,
              "#ed7953"
             ],
             [
              0.7777777777777778,
              "#fb9f3a"
             ],
             [
              0.8888888888888888,
              "#fdca26"
             ],
             [
              1,
              "#f0f921"
             ]
            ],
            "type": "surface"
           }
          ],
          "table": [
           {
            "cells": {
             "fill": {
              "color": "#EBF0F8"
             },
             "line": {
              "color": "white"
             }
            },
            "header": {
             "fill": {
              "color": "#C8D4E3"
             },
             "line": {
              "color": "white"
             }
            },
            "type": "table"
           }
          ]
         },
         "layout": {
          "annotationdefaults": {
           "arrowcolor": "#2a3f5f",
           "arrowhead": 0,
           "arrowwidth": 1
          },
          "autotypenumbers": "strict",
          "coloraxis": {
           "colorbar": {
            "outlinewidth": 0,
            "ticks": ""
           }
          },
          "colorscale": {
           "diverging": [
            [
             0,
             "#8e0152"
            ],
            [
             0.1,
             "#c51b7d"
            ],
            [
             0.2,
             "#de77ae"
            ],
            [
             0.3,
             "#f1b6da"
            ],
            [
             0.4,
             "#fde0ef"
            ],
            [
             0.5,
             "#f7f7f7"
            ],
            [
             0.6,
             "#e6f5d0"
            ],
            [
             0.7,
             "#b8e186"
            ],
            [
             0.8,
             "#7fbc41"
            ],
            [
             0.9,
             "#4d9221"
            ],
            [
             1,
             "#276419"
            ]
           ],
           "sequential": [
            [
             0,
             "#0d0887"
            ],
            [
             0.1111111111111111,
             "#46039f"
            ],
            [
             0.2222222222222222,
             "#7201a8"
            ],
            [
             0.3333333333333333,
             "#9c179e"
            ],
            [
             0.4444444444444444,
             "#bd3786"
            ],
            [
             0.5555555555555556,
             "#d8576b"
            ],
            [
             0.6666666666666666,
             "#ed7953"
            ],
            [
             0.7777777777777778,
             "#fb9f3a"
            ],
            [
             0.8888888888888888,
             "#fdca26"
            ],
            [
             1,
             "#f0f921"
            ]
           ],
           "sequentialminus": [
            [
             0,
             "#0d0887"
            ],
            [
             0.1111111111111111,
             "#46039f"
            ],
            [
             0.2222222222222222,
             "#7201a8"
            ],
            [
             0.3333333333333333,
             "#9c179e"
            ],
            [
             0.4444444444444444,
             "#bd3786"
            ],
            [
             0.5555555555555556,
             "#d8576b"
            ],
            [
             0.6666666666666666,
             "#ed7953"
            ],
            [
             0.7777777777777778,
             "#fb9f3a"
            ],
            [
             0.8888888888888888,
             "#fdca26"
            ],
            [
             1,
             "#f0f921"
            ]
           ]
          },
          "colorway": [
           "#636efa",
           "#EF553B",
           "#00cc96",
           "#ab63fa",
           "#FFA15A",
           "#19d3f3",
           "#FF6692",
           "#B6E880",
           "#FF97FF",
           "#FECB52"
          ],
          "font": {
           "color": "#2a3f5f"
          },
          "geo": {
           "bgcolor": "white",
           "lakecolor": "white",
           "landcolor": "#E5ECF6",
           "showlakes": true,
           "showland": true,
           "subunitcolor": "white"
          },
          "hoverlabel": {
           "align": "left"
          },
          "hovermode": "closest",
          "mapbox": {
           "style": "light"
          },
          "paper_bgcolor": "white",
          "plot_bgcolor": "#E5ECF6",
          "polar": {
           "angularaxis": {
            "gridcolor": "white",
            "linecolor": "white",
            "ticks": ""
           },
           "bgcolor": "#E5ECF6",
           "radialaxis": {
            "gridcolor": "white",
            "linecolor": "white",
            "ticks": ""
           }
          },
          "scene": {
           "xaxis": {
            "backgroundcolor": "#E5ECF6",
            "gridcolor": "white",
            "gridwidth": 2,
            "linecolor": "white",
            "showbackground": true,
            "ticks": "",
            "zerolinecolor": "white"
           },
           "yaxis": {
            "backgroundcolor": "#E5ECF6",
            "gridcolor": "white",
            "gridwidth": 2,
            "linecolor": "white",
            "showbackground": true,
            "ticks": "",
            "zerolinecolor": "white"
           },
           "zaxis": {
            "backgroundcolor": "#E5ECF6",
            "gridcolor": "white",
            "gridwidth": 2,
            "linecolor": "white",
            "showbackground": true,
            "ticks": "",
            "zerolinecolor": "white"
           }
          },
          "shapedefaults": {
           "line": {
            "color": "#2a3f5f"
           }
          },
          "ternary": {
           "aaxis": {
            "gridcolor": "white",
            "linecolor": "white",
            "ticks": ""
           },
           "baxis": {
            "gridcolor": "white",
            "linecolor": "white",
            "ticks": ""
           },
           "bgcolor": "#E5ECF6",
           "caxis": {
            "gridcolor": "white",
            "linecolor": "white",
            "ticks": ""
           }
          },
          "title": {
           "x": 0.05
          },
          "xaxis": {
           "automargin": true,
           "gridcolor": "white",
           "linecolor": "white",
           "ticks": "",
           "title": {
            "standoff": 15
           },
           "zerolinecolor": "white",
           "zerolinewidth": 2
          },
          "yaxis": {
           "automargin": true,
           "gridcolor": "white",
           "linecolor": "white",
           "ticks": "",
           "title": {
            "standoff": 15
           },
           "zerolinecolor": "white",
           "zerolinewidth": 2
          }
         }
        },
        "width": 1600
       }
      }
     },
     "metadata": {},
     "output_type": "display_data"
    }
   ],
   "source": [
    "fig = px.scatter_mapbox(df_hospital,\n",
    "                        lat=\"lat\",\n",
    "                        lon=\"lon\",\n",
    "                        hover_data=[\"name\", \"province\"],\n",
    "                        color=\"province\",\n",
    "                        color_continuous_scale=\"bluered\",\n",
    "                        zoom=10,\n",
    "                        height=800,\n",
    "                        width=1600)\n",
    "    \n",
    "\n",
    "fig.update_layout(mapbox_style=\"carto-darkmatter\")\n",
    "fig.update_layout(margin={\"r\":0,\"t\":0,\"l\":0,\"b\":0})\n",
    "fig.show()"
   ]
  }
 ],
 "metadata": {
  "kernelspec": {
   "display_name": "Base (Python 3.11)",
   "language": "python",
   "name": "base"
  },
  "language_info": {
   "codemirror_mode": {
    "name": "ipython",
    "version": 3
   },
   "file_extension": ".py",
   "mimetype": "text/x-python",
   "name": "python",
   "nbconvert_exporter": "python",
   "pygments_lexer": "ipython3",
   "version": "3.11.3"
  }
 },
 "nbformat": 4,
 "nbformat_minor": 5
}
