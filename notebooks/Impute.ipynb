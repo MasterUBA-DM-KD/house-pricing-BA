{
 "cells": [
  {
   "attachments": {},
   "cell_type": "markdown",
   "id": "f473e9bb-b22c-4af2-a5f8-b89f8d4a79c7",
   "metadata": {},
   "source": [
    "# Libraries"
   ]
  },
  {
   "cell_type": "code",
   "execution_count": 1,
   "id": "1c01df15-58aa-481e-a241-7190f29fd746",
   "metadata": {},
   "outputs": [],
   "source": [
    "import pandas as pd\n",
    "pd.set_option('display.max_columns', 500)\n",
    "\n",
    "\n",
    "\n",
    "sys.path.append(\"../\")\n",
    "\n",
    "from src.utils.impute.pipeline import suburbs, bedrooms, bathrooms, surface, rooms, corrections\n",
    "\n",
    "n_partitions=16"
   ]
  },
  {
   "cell_type": "code",
   "execution_count": 2,
   "id": "371b78d1",
   "metadata": {},
   "outputs": [],
   "source": [
    "%load_ext autoreload\n",
    "%autoreload 2"
   ]
  },
  {
   "attachments": {},
   "cell_type": "markdown",
   "id": "5babbe08-c0bc-4b68-a32a-eb8cd8c73516",
   "metadata": {},
   "source": [
    "## Data"
   ]
  },
  {
   "cell_type": "code",
   "execution_count": 7,
   "id": "8f1dfd49-3066-40ca-9faa-20826820117b",
   "metadata": {},
   "outputs": [],
   "source": [
    "df = pd.read_parquet(\"../data/interim/df_test_eda.parquet\", engine=\"pyarrow\")\n",
    "df = df.head(1500)"
   ]
  },
  {
   "cell_type": "code",
   "execution_count": 8,
   "id": "0989de1d-5e6f-4a29-8aa9-e0dff7e08112",
   "metadata": {},
   "outputs": [
    {
     "data": {
      "text/html": [
       "<div>\n",
       "<style scoped>\n",
       "    .dataframe tbody tr th:only-of-type {\n",
       "        vertical-align: middle;\n",
       "    }\n",
       "\n",
       "    .dataframe tbody tr th {\n",
       "        vertical-align: top;\n",
       "    }\n",
       "\n",
       "    .dataframe thead th {\n",
       "        text-align: right;\n",
       "    }\n",
       "</style>\n",
       "<table border=\"1\" class=\"dataframe\">\n",
       "  <thead>\n",
       "    <tr style=\"text-align: right;\">\n",
       "      <th></th>\n",
       "      <th>id</th>\n",
       "      <th>ad_type</th>\n",
       "      <th>lat</th>\n",
       "      <th>lon</th>\n",
       "      <th>country</th>\n",
       "      <th>province</th>\n",
       "      <th>suburb</th>\n",
       "      <th>published_suburb</th>\n",
       "      <th>rooms</th>\n",
       "      <th>bedrooms</th>\n",
       "      <th>bathrooms</th>\n",
       "      <th>surface_total</th>\n",
       "      <th>surface_covered</th>\n",
       "      <th>price</th>\n",
       "      <th>currency</th>\n",
       "      <th>title</th>\n",
       "      <th>description</th>\n",
       "      <th>property_type</th>\n",
       "      <th>operation_type</th>\n",
       "    </tr>\n",
       "  </thead>\n",
       "  <tbody>\n",
       "    <tr>\n",
       "      <th>0</th>\n",
       "      <td>556713</td>\n",
       "      <td>Propiedad</td>\n",
       "      <td>-34.573623</td>\n",
       "      <td>-58.442399</td>\n",
       "      <td>Argentina</td>\n",
       "      <td>Ciudad Autonoma de Buenos Aires</td>\n",
       "      <td>Colegiales</td>\n",
       "      <td>None</td>\n",
       "      <td>3.0</td>\n",
       "      <td>2.0</td>\n",
       "      <td>2.0</td>\n",
       "      <td>NaN</td>\n",
       "      <td>NaN</td>\n",
       "      <td>NaN</td>\n",
       "      <td>USD</td>\n",
       "      <td>departamento venta belgrano capital federal</td>\n",
       "      <td>sup escritura 96.47 m2 cubiertos 61 m2 descubi...</td>\n",
       "      <td>Departamento</td>\n",
       "      <td>Venta</td>\n",
       "    </tr>\n",
       "    <tr>\n",
       "      <th>1</th>\n",
       "      <td>192912</td>\n",
       "      <td>Propiedad</td>\n",
       "      <td>-34.606620</td>\n",
       "      <td>-58.430493</td>\n",
       "      <td>Argentina</td>\n",
       "      <td>Ciudad Autonoma de Buenos Aires</td>\n",
       "      <td>Almagro</td>\n",
       "      <td>None</td>\n",
       "      <td>3.0</td>\n",
       "      <td>2.0</td>\n",
       "      <td>2.0</td>\n",
       "      <td>77.0</td>\n",
       "      <td>67.0</td>\n",
       "      <td>NaN</td>\n",
       "      <td>USD</td>\n",
       "      <td>departamento 3 ambientes venta almagro</td>\n",
       "      <td>excelente departamento ambientes amplio modern...</td>\n",
       "      <td>Departamento</td>\n",
       "      <td>Venta</td>\n",
       "    </tr>\n",
       "  </tbody>\n",
       "</table>\n",
       "</div>"
      ],
      "text/plain": [
       "       id    ad_type        lat        lon    country  \\\n",
       "0  556713  Propiedad -34.573623 -58.442399  Argentina   \n",
       "1  192912  Propiedad -34.606620 -58.430493  Argentina   \n",
       "\n",
       "                          province      suburb published_suburb  rooms  \\\n",
       "0  Ciudad Autonoma de Buenos Aires  Colegiales             None    3.0   \n",
       "1  Ciudad Autonoma de Buenos Aires     Almagro             None    3.0   \n",
       "\n",
       "   bedrooms  bathrooms  surface_total  surface_covered  price currency  \\\n",
       "0       2.0        2.0            NaN              NaN    NaN      USD   \n",
       "1       2.0        2.0           77.0             67.0    NaN      USD   \n",
       "\n",
       "                                         title  \\\n",
       "0  departamento venta belgrano capital federal   \n",
       "1       departamento 3 ambientes venta almagro   \n",
       "\n",
       "                                         description property_type  \\\n",
       "0  sup escritura 96.47 m2 cubiertos 61 m2 descubi...  Departamento   \n",
       "1  excelente departamento ambientes amplio modern...  Departamento   \n",
       "\n",
       "  operation_type  \n",
       "0          Venta  \n",
       "1          Venta  "
      ]
     },
     "execution_count": 8,
     "metadata": {},
     "output_type": "execute_result"
    }
   ],
   "source": [
    "df.head(2)"
   ]
  },
  {
   "attachments": {},
   "cell_type": "markdown",
   "id": "2c9fa46d-2324-4342-a817-2eab778eb8de",
   "metadata": {},
   "source": [
    "## Impute Missing Values"
   ]
  },
  {
   "cell_type": "code",
   "execution_count": 9,
   "id": "4fa89d3a-c1a1-42c1-bc53-16e564e9a489",
   "metadata": {},
   "outputs": [
    {
     "data": {
      "text/plain": [
       "id                     0\n",
       "ad_type                0\n",
       "lat                  109\n",
       "lon                  109\n",
       "country                0\n",
       "province               0\n",
       "suburb                48\n",
       "published_suburb    1376\n",
       "rooms                  0\n",
       "bedrooms             258\n",
       "bathrooms             54\n",
       "surface_total        287\n",
       "surface_covered      271\n",
       "price               1500\n",
       "currency               0\n",
       "title                  0\n",
       "description            0\n",
       "property_type          0\n",
       "operation_type         0\n",
       "dtype: int64"
      ]
     },
     "execution_count": 9,
     "metadata": {},
     "output_type": "execute_result"
    }
   ],
   "source": [
    "df.isna().sum()"
   ]
  },
  {
   "attachments": {},
   "cell_type": "markdown",
   "id": "02941b1d-e6b2-41e8-8b32-f396472b57bd",
   "metadata": {},
   "source": [
    "### Neighborhood"
   ]
  },
  {
   "cell_type": "code",
   "execution_count": 10,
   "id": "507c1833",
   "metadata": {},
   "outputs": [
    {
     "data": {
      "application/vnd.jupyter.widget-view+json": {
       "model_id": "0298a2ed371f486da7f6a8b83c946d0e",
       "version_major": 2,
       "version_minor": 0
      },
      "text/plain": [
       "Dask Apply:   0%|          | 0/11 [00:00<?, ?it/s]"
      ]
     },
     "metadata": {},
     "output_type": "display_data"
    },
    {
     "data": {
      "application/vnd.jupyter.widget-view+json": {
       "model_id": "e6ef3d86375540b8a2fca0fefbf8d1fa",
       "version_major": 2,
       "version_minor": 0
      },
      "text/plain": [
       "Dask Apply:   0%|          | 0/11 [00:00<?, ?it/s]"
      ]
     },
     "metadata": {},
     "output_type": "display_data"
    },
    {
     "data": {
      "application/vnd.jupyter.widget-view+json": {
       "model_id": "86174be6f2b9499693ab62fc81992b68",
       "version_major": 2,
       "version_minor": 0
      },
      "text/plain": [
       "Dask Apply:   0%|          | 0/16 [00:00<?, ?it/s]"
      ]
     },
     "metadata": {},
     "output_type": "display_data"
    },
    {
     "data": {
      "application/vnd.jupyter.widget-view+json": {
       "model_id": "c1eac49bd3ae4da99cdf8d214bfb727d",
       "version_major": 2,
       "version_minor": 0
      },
      "text/plain": [
       "Dask Apply:   0%|          | 0/64 [00:00<?, ?it/s]"
      ]
     },
     "metadata": {},
     "output_type": "display_data"
    }
   ],
   "source": [
    "df = suburbs(df, n_partitions)"
   ]
  },
  {
   "attachments": {},
   "cell_type": "markdown",
   "id": "7654a72f-ec20-4bbb-b0a5-8d35ac885a6d",
   "metadata": {},
   "source": [
    "### Bedrooms"
   ]
  },
  {
   "cell_type": "code",
   "execution_count": null,
   "id": "df410c12-deb0-4510-a4d2-9dbdc8043e4b",
   "metadata": {},
   "outputs": [],
   "source": [
    "df = bedrooms(df, n_partitions)"
   ]
  },
  {
   "attachments": {},
   "cell_type": "markdown",
   "id": "07e33bb1-59fe-44af-a426-0eb9d35a9093",
   "metadata": {},
   "source": [
    "### Superficies"
   ]
  },
  {
   "cell_type": "code",
   "execution_count": null,
   "id": "5de071bb-8765-464a-8e54-e4e2b6b41fce",
   "metadata": {},
   "outputs": [
    {
     "data": {
      "application/vnd.jupyter.widget-view+json": {
       "model_id": "f0dfa9bd6806444a8cf6f7d7a5858be8",
       "version_major": 2,
       "version_minor": 0
      },
      "text/plain": [
       "Pandas Apply:   0%|          | 0/1121 [00:00<?, ?it/s]"
      ]
     },
     "metadata": {},
     "output_type": "display_data"
    },
    {
     "data": {
      "application/vnd.jupyter.widget-view+json": {
       "model_id": "8a2e4bb427ee4b4c84896e5ac5c150bb",
       "version_major": 2,
       "version_minor": 0
      },
      "text/plain": [
       "Pandas Apply:   0%|          | 0/1121 [00:00<?, ?it/s]"
      ]
     },
     "metadata": {},
     "output_type": "display_data"
    }
   ],
   "source": [
    "df = surface(df, n_partitions)"
   ]
  },
  {
   "attachments": {},
   "cell_type": "markdown",
   "id": "cf638767-877c-42c3-aaa2-f831b4666cbd",
   "metadata": {},
   "source": [
    "### Rooms"
   ]
  },
  {
   "cell_type": "code",
   "execution_count": null,
   "id": "160d8fc5-2d2f-42f7-8979-0909a5b0fad8",
   "metadata": {},
   "outputs": [],
   "source": [
    "df = rooms(df, n_partitions)\n"
   ]
  },
  {
   "attachments": {},
   "cell_type": "markdown",
   "id": "0f069894-92f6-4f76-af79-b3482ba31076",
   "metadata": {},
   "source": [
    "### Baño"
   ]
  },
  {
   "cell_type": "code",
   "execution_count": null,
   "id": "d0494b84-0e67-4b99-8941-f3534b2f3adc",
   "metadata": {},
   "outputs": [],
   "source": [
    "df = bathrooms(df, n_partitions)\n"
   ]
  },
  {
   "attachments": {},
   "cell_type": "markdown",
   "id": "da6949a1",
   "metadata": {},
   "source": [
    "## Corrections"
   ]
  },
  {
   "cell_type": "code",
   "execution_count": null,
   "id": "59631532",
   "metadata": {},
   "outputs": [],
   "source": [
    "df = corrections(df, n_partitions)"
   ]
  },
  {
   "attachments": {},
   "cell_type": "markdown",
   "id": "e6969a32",
   "metadata": {},
   "source": [
    "# Wrap up"
   ]
  },
  {
   "cell_type": "code",
   "execution_count": null,
   "id": "03dce4cd",
   "metadata": {},
   "outputs": [
    {
     "data": {
      "text/html": [
       "<div>\n",
       "<style scoped>\n",
       "    .dataframe tbody tr th:only-of-type {\n",
       "        vertical-align: middle;\n",
       "    }\n",
       "\n",
       "    .dataframe tbody tr th {\n",
       "        vertical-align: top;\n",
       "    }\n",
       "\n",
       "    .dataframe thead th {\n",
       "        text-align: right;\n",
       "    }\n",
       "</style>\n",
       "<table border=\"1\" class=\"dataframe\">\n",
       "  <thead>\n",
       "    <tr style=\"text-align: right;\">\n",
       "      <th></th>\n",
       "      <th>id</th>\n",
       "      <th>ad_type</th>\n",
       "      <th>lat</th>\n",
       "      <th>lon</th>\n",
       "      <th>country</th>\n",
       "      <th>province</th>\n",
       "      <th>suburb</th>\n",
       "      <th>published_suburb</th>\n",
       "      <th>rooms</th>\n",
       "      <th>bedrooms</th>\n",
       "      <th>bathrooms</th>\n",
       "      <th>surface_total</th>\n",
       "      <th>surface_covered</th>\n",
       "      <th>currency</th>\n",
       "      <th>title</th>\n",
       "      <th>description</th>\n",
       "      <th>property_type</th>\n",
       "      <th>operation_type</th>\n",
       "      <th>dist_buenos_aires</th>\n",
       "    </tr>\n",
       "  </thead>\n",
       "  <tbody>\n",
       "    <tr>\n",
       "      <th>0</th>\n",
       "      <td>556713</td>\n",
       "      <td>Propiedad</td>\n",
       "      <td>-34.573623</td>\n",
       "      <td>-58.442399</td>\n",
       "      <td>Argentina</td>\n",
       "      <td>Ciudad Autonoma de Buenos Aires</td>\n",
       "      <td>Colegiales</td>\n",
       "      <td>Colegiales</td>\n",
       "      <td>3.0</td>\n",
       "      <td>2.0</td>\n",
       "      <td>2.0</td>\n",
       "      <td>96.47</td>\n",
       "      <td>2.0</td>\n",
       "      <td>USD</td>\n",
       "      <td>departamento venta belgrano capital federal</td>\n",
       "      <td>sup escritura 96.47 m2 cubiertos 61 m2 descubi...</td>\n",
       "      <td>Departamento</td>\n",
       "      <td>Venta</td>\n",
       "      <td>4.547158</td>\n",
       "    </tr>\n",
       "    <tr>\n",
       "      <th>1</th>\n",
       "      <td>192912</td>\n",
       "      <td>Propiedad</td>\n",
       "      <td>-34.606620</td>\n",
       "      <td>-58.430493</td>\n",
       "      <td>Argentina</td>\n",
       "      <td>Ciudad Autonoma de Buenos Aires</td>\n",
       "      <td>Almagro</td>\n",
       "      <td>Almagro</td>\n",
       "      <td>3.0</td>\n",
       "      <td>2.0</td>\n",
       "      <td>2.0</td>\n",
       "      <td>77.00</td>\n",
       "      <td>2.0</td>\n",
       "      <td>USD</td>\n",
       "      <td>departamento 3 ambientes venta almagro</td>\n",
       "      <td>excelente departamento ambientes amplio modern...</td>\n",
       "      <td>Departamento</td>\n",
       "      <td>Venta</td>\n",
       "      <td>1.698298</td>\n",
       "    </tr>\n",
       "  </tbody>\n",
       "</table>\n",
       "</div>"
      ],
      "text/plain": [
       "       id    ad_type        lat        lon    country  \\\n",
       "0  556713  Propiedad -34.573623 -58.442399  Argentina   \n",
       "1  192912  Propiedad -34.606620 -58.430493  Argentina   \n",
       "\n",
       "                          province      suburb published_suburb  rooms  \\\n",
       "0  Ciudad Autonoma de Buenos Aires  Colegiales       Colegiales    3.0   \n",
       "1  Ciudad Autonoma de Buenos Aires     Almagro          Almagro    3.0   \n",
       "\n",
       "   bedrooms  bathrooms  surface_total  surface_covered currency  \\\n",
       "0       2.0        2.0          96.47              2.0      USD   \n",
       "1       2.0        2.0          77.00              2.0      USD   \n",
       "\n",
       "                                         title  \\\n",
       "0  departamento venta belgrano capital federal   \n",
       "1       departamento 3 ambientes venta almagro   \n",
       "\n",
       "                                         description property_type  \\\n",
       "0  sup escritura 96.47 m2 cubiertos 61 m2 descubi...  Departamento   \n",
       "1  excelente departamento ambientes amplio modern...  Departamento   \n",
       "\n",
       "  operation_type  dist_buenos_aires  \n",
       "0          Venta           4.547158  \n",
       "1          Venta           1.698298  "
      ]
     },
     "metadata": {},
     "output_type": "display_data"
    }
   ],
   "source": [
    "df.head(2)"
   ]
  },
  {
   "cell_type": "code",
   "execution_count": null,
   "id": "97f965f1",
   "metadata": {},
   "outputs": [
    {
     "name": "stdout",
     "output_type": "stream",
     "text": [
      "<class 'pandas.core.frame.DataFrame'>\n",
      "RangeIndex: 6000 entries, 0 to 5999\n",
      "Data columns (total 19 columns):\n",
      " #   Column             Non-Null Count  Dtype  \n",
      "---  ------             --------------  -----  \n",
      " 0   id                 6000 non-null   int64  \n",
      " 1   ad_type            6000 non-null   object \n",
      " 2   lat                6000 non-null   float64\n",
      " 3   lon                6000 non-null   float64\n",
      " 4   country            6000 non-null   object \n",
      " 5   province           6000 non-null   object \n",
      " 6   suburb             6000 non-null   object \n",
      " 7   published_suburb   6000 non-null   object \n",
      " 8   rooms              6000 non-null   float64\n",
      " 9   bedrooms           6000 non-null   float64\n",
      " 10  bathrooms          6000 non-null   float64\n",
      " 11  surface_total      6000 non-null   float64\n",
      " 12  surface_covered    6000 non-null   float64\n",
      " 13  currency           6000 non-null   object \n",
      " 14  title              6000 non-null   object \n",
      " 15  description        6000 non-null   object \n",
      " 16  property_type      6000 non-null   object \n",
      " 17  operation_type     6000 non-null   object \n",
      " 18  dist_buenos_aires  6000 non-null   float64\n",
      "dtypes: float64(8), int64(1), object(10)\n",
      "memory usage: 890.8+ KB\n"
     ]
    }
   ],
   "source": [
    "df.info()"
   ]
  },
  {
   "cell_type": "code",
   "execution_count": null,
   "id": "5578c478",
   "metadata": {},
   "outputs": [],
   "source": [
    "df.to_parquet(\"../data/processed/df_test.parquet\")"
   ]
  },
  {
   "attachments": {},
   "cell_type": "markdown",
   "id": "8bf57c64",
   "metadata": {},
   "source": [
    "# Wrap Up"
   ]
  },
  {
   "cell_type": "code",
   "execution_count": null,
   "id": "f327f52b",
   "metadata": {},
   "outputs": [],
   "source": [
    "df = df.copy()\n",
    "# df = df.reset_index(drop=False)\n",
    "\n",
    "color_scale = [(0, 'orange'), (1,'red')]\n",
    "\n",
    "fig = None\n",
    "fig = px.scatter_mapbox(#df[df[\"dist_buenos_aires\"] < 70],\n",
    "                        df,\n",
    "                        lat=\"lat\",\n",
    "                        lon=\"lon\",\n",
    "                        hover_name=\"title\",\n",
    "                        hover_data=[\"id\", \"suburb\", \"published_suburb\"],\n",
    "                        color=\"province\",\n",
    "                        color_continuous_scale=color_scale,\n",
    "                        zoom=10,\n",
    "                        height=800,\n",
    "                        width=1600)\n",
    "\n",
    "fig.update_layout(mapbox_style=\"carto-darkmatter\")\n",
    "fig.update_layout(margin={\"r\":0,\"t\":0,\"l\":0,\"b\":0})\n",
    "fig.show()"
   ]
  }
 ],
 "metadata": {
  "kernelspec": {
   "display_name": "Python 3 (ipykernel)",
   "language": "python",
   "name": "python3"
  },
  "language_info": {
   "codemirror_mode": {
    "name": "ipython",
    "version": 3
   },
   "file_extension": ".py",
   "mimetype": "text/x-python",
   "name": "python",
   "nbconvert_exporter": "python",
   "pygments_lexer": "ipython3",
   "version": "3.10.10"
  }
 },
 "nbformat": 4,
 "nbformat_minor": 5
}
