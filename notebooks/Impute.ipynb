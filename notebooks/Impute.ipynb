{
 "cells": [
  {
   "attachments": {},
   "cell_type": "markdown",
   "id": "f473e9bb-b22c-4af2-a5f8-b89f8d4a79c7",
   "metadata": {},
   "source": [
    "# Libraries"
   ]
  },
  {
   "cell_type": "code",
   "execution_count": 1,
   "id": "1c01df15-58aa-481e-a241-7190f29fd746",
   "metadata": {},
   "outputs": [],
   "source": [
    "import sys\n",
    "import pandas as pd\n",
    "pd.set_option('display.max_columns', 500)\n",
    "\n",
    "\n",
    "sys.path.append(\"../\")\n",
    "\n",
    "from src.utils.impute.pipeline import suburbs, bedrooms, bathrooms, surface, rooms, corrections\n",
    "\n",
    "pd.reset_option('all')\n",
    "\n",
    "pd.set_option('display.max_rows', 1000)"
   ]
  },
  {
   "cell_type": "code",
   "execution_count": 2,
   "id": "371b78d1",
   "metadata": {},
   "outputs": [],
   "source": [
    "%load_ext autoreload\n",
    "%autoreload 2"
   ]
  },
  {
   "attachments": {},
   "cell_type": "markdown",
   "id": "5babbe08-c0bc-4b68-a32a-eb8cd8c73516",
   "metadata": {},
   "source": [
    "## Data"
   ]
  },
  {
   "cell_type": "code",
   "execution_count": 3,
   "id": "8f1dfd49-3066-40ca-9faa-20826820117b",
   "metadata": {},
   "outputs": [],
   "source": [
    "df = pd.read_parquet(\"../data/interim/df_test_eda.parquet\", engine=\"pyarrow\")"
   ]
  },
  {
   "cell_type": "code",
   "execution_count": 4,
   "id": "0989de1d-5e6f-4a29-8aa9-e0dff7e08112",
   "metadata": {},
   "outputs": [
    {
     "data": {
      "text/html": [
       "<div>\n",
       "<style scoped>\n",
       "    .dataframe tbody tr th:only-of-type {\n",
       "        vertical-align: middle;\n",
       "    }\n",
       "\n",
       "    .dataframe tbody tr th {\n",
       "        vertical-align: top;\n",
       "    }\n",
       "\n",
       "    .dataframe thead th {\n",
       "        text-align: right;\n",
       "    }\n",
       "</style>\n",
       "<table border=\"1\" class=\"dataframe\">\n",
       "  <thead>\n",
       "    <tr style=\"text-align: right;\">\n",
       "      <th></th>\n",
       "      <th>id</th>\n",
       "      <th>ad_type</th>\n",
       "      <th>lat</th>\n",
       "      <th>lon</th>\n",
       "      <th>country</th>\n",
       "      <th>province</th>\n",
       "      <th>suburb</th>\n",
       "      <th>published_suburb</th>\n",
       "      <th>rooms</th>\n",
       "      <th>bedrooms</th>\n",
       "      <th>bathrooms</th>\n",
       "      <th>surface_total</th>\n",
       "      <th>surface_covered</th>\n",
       "      <th>price</th>\n",
       "      <th>currency</th>\n",
       "      <th>title</th>\n",
       "      <th>description</th>\n",
       "      <th>property_type</th>\n",
       "      <th>operation_type</th>\n",
       "    </tr>\n",
       "  </thead>\n",
       "  <tbody>\n",
       "    <tr>\n",
       "      <th>0</th>\n",
       "      <td>556713</td>\n",
       "      <td>Propiedad</td>\n",
       "      <td>-34.5736</td>\n",
       "      <td>-58.4424</td>\n",
       "      <td>Argentina</td>\n",
       "      <td>Ciudad Autonoma de Buenos Aires</td>\n",
       "      <td>Colegiales</td>\n",
       "      <td>None</td>\n",
       "      <td>3.0</td>\n",
       "      <td>2.0</td>\n",
       "      <td>2.0</td>\n",
       "      <td>NaN</td>\n",
       "      <td>NaN</td>\n",
       "      <td>NaN</td>\n",
       "      <td>USD</td>\n",
       "      <td>departamento venta belgrano capital federal</td>\n",
       "      <td>sup escritura 96.47 m2 cubiertos 61 m2 descubi...</td>\n",
       "      <td>Departamento</td>\n",
       "      <td>Venta</td>\n",
       "    </tr>\n",
       "    <tr>\n",
       "      <th>1</th>\n",
       "      <td>192912</td>\n",
       "      <td>Propiedad</td>\n",
       "      <td>-34.6066</td>\n",
       "      <td>-58.4305</td>\n",
       "      <td>Argentina</td>\n",
       "      <td>Ciudad Autonoma de Buenos Aires</td>\n",
       "      <td>Almagro</td>\n",
       "      <td>None</td>\n",
       "      <td>3.0</td>\n",
       "      <td>2.0</td>\n",
       "      <td>2.0</td>\n",
       "      <td>77.0</td>\n",
       "      <td>67.0</td>\n",
       "      <td>NaN</td>\n",
       "      <td>USD</td>\n",
       "      <td>departamento 3 ambientes venta almagro</td>\n",
       "      <td>excelente departamento ambientes amplio modern...</td>\n",
       "      <td>Departamento</td>\n",
       "      <td>Venta</td>\n",
       "    </tr>\n",
       "    <tr>\n",
       "      <th>2</th>\n",
       "      <td>238224</td>\n",
       "      <td>Propiedad</td>\n",
       "      <td>-34.5741</td>\n",
       "      <td>-58.4918</td>\n",
       "      <td>Argentina</td>\n",
       "      <td>Ciudad Autonoma de Buenos Aires</td>\n",
       "      <td>Villa Urquiza</td>\n",
       "      <td>None</td>\n",
       "      <td>2.0</td>\n",
       "      <td>NaN</td>\n",
       "      <td>1.0</td>\n",
       "      <td>60.0</td>\n",
       "      <td>55.0</td>\n",
       "      <td>NaN</td>\n",
       "      <td>USD</td>\n",
       "      <td>andonaegui 2600 4deg departamento venta</td>\n",
       "      <td>excelente 3 ambientes frente balcon vista abie...</td>\n",
       "      <td>Departamento</td>\n",
       "      <td>Venta</td>\n",
       "    </tr>\n",
       "    <tr>\n",
       "      <th>3</th>\n",
       "      <td>257134</td>\n",
       "      <td>Propiedad</td>\n",
       "      <td>-34.6318</td>\n",
       "      <td>-58.4207</td>\n",
       "      <td>Argentina</td>\n",
       "      <td>Ciudad Autonoma de Buenos Aires</td>\n",
       "      <td>Boedo</td>\n",
       "      <td>None</td>\n",
       "      <td>2.0</td>\n",
       "      <td>1.0</td>\n",
       "      <td>1.0</td>\n",
       "      <td>74.0</td>\n",
       "      <td>47.0</td>\n",
       "      <td>NaN</td>\n",
       "      <td>USD</td>\n",
       "      <td>ph venta boedo 2 amb patio</td>\n",
       "      <td>corredor responsable marcelo trujillo cpi 6470...</td>\n",
       "      <td>PH</td>\n",
       "      <td>Venta</td>\n",
       "    </tr>\n",
       "    <tr>\n",
       "      <th>4</th>\n",
       "      <td>521738</td>\n",
       "      <td>Propiedad</td>\n",
       "      <td>-34.6072</td>\n",
       "      <td>-58.4300</td>\n",
       "      <td>Argentina</td>\n",
       "      <td>Ciudad Autonoma de Buenos Aires</td>\n",
       "      <td>Almagro</td>\n",
       "      <td>None</td>\n",
       "      <td>3.0</td>\n",
       "      <td>2.0</td>\n",
       "      <td>1.0</td>\n",
       "      <td>66.0</td>\n",
       "      <td>64.0</td>\n",
       "      <td>NaN</td>\n",
       "      <td>USD</td>\n",
       "      <td>venta 3 ambientes almagro balcon amenities</td>\n",
       "      <td>corredor responsable marcelo trujillo cucicba ...</td>\n",
       "      <td>Departamento</td>\n",
       "      <td>Venta</td>\n",
       "    </tr>\n",
       "  </tbody>\n",
       "</table>\n",
       "</div>"
      ],
      "text/plain": [
       "       id    ad_type      lat      lon    country  \\\n",
       "0  556713  Propiedad -34.5736 -58.4424  Argentina   \n",
       "1  192912  Propiedad -34.6066 -58.4305  Argentina   \n",
       "2  238224  Propiedad -34.5741 -58.4918  Argentina   \n",
       "3  257134  Propiedad -34.6318 -58.4207  Argentina   \n",
       "4  521738  Propiedad -34.6072 -58.4300  Argentina   \n",
       "\n",
       "                          province         suburb published_suburb  rooms  \\\n",
       "0  Ciudad Autonoma de Buenos Aires     Colegiales             None    3.0   \n",
       "1  Ciudad Autonoma de Buenos Aires        Almagro             None    3.0   \n",
       "2  Ciudad Autonoma de Buenos Aires  Villa Urquiza             None    2.0   \n",
       "3  Ciudad Autonoma de Buenos Aires          Boedo             None    2.0   \n",
       "4  Ciudad Autonoma de Buenos Aires        Almagro             None    3.0   \n",
       "\n",
       "   bedrooms  bathrooms  surface_total  surface_covered  price currency  \\\n",
       "0       2.0        2.0            NaN              NaN    NaN      USD   \n",
       "1       2.0        2.0           77.0             67.0    NaN      USD   \n",
       "2       NaN        1.0           60.0             55.0    NaN      USD   \n",
       "3       1.0        1.0           74.0             47.0    NaN      USD   \n",
       "4       2.0        1.0           66.0             64.0    NaN      USD   \n",
       "\n",
       "                                         title  \\\n",
       "0  departamento venta belgrano capital federal   \n",
       "1       departamento 3 ambientes venta almagro   \n",
       "2      andonaegui 2600 4deg departamento venta   \n",
       "3                   ph venta boedo 2 amb patio   \n",
       "4   venta 3 ambientes almagro balcon amenities   \n",
       "\n",
       "                                         description property_type  \\\n",
       "0  sup escritura 96.47 m2 cubiertos 61 m2 descubi...  Departamento   \n",
       "1  excelente departamento ambientes amplio modern...  Departamento   \n",
       "2  excelente 3 ambientes frente balcon vista abie...  Departamento   \n",
       "3  corredor responsable marcelo trujillo cpi 6470...            PH   \n",
       "4  corredor responsable marcelo trujillo cucicba ...  Departamento   \n",
       "\n",
       "  operation_type  \n",
       "0          Venta  \n",
       "1          Venta  \n",
       "2          Venta  \n",
       "3          Venta  \n",
       "4          Venta  "
      ]
     },
     "execution_count": 4,
     "metadata": {},
     "output_type": "execute_result"
    }
   ],
   "source": [
    "df.head()"
   ]
  },
  {
   "attachments": {},
   "cell_type": "markdown",
   "id": "2c9fa46d-2324-4342-a817-2eab778eb8de",
   "metadata": {},
   "source": [
    "## Impute Missing Values"
   ]
  },
  {
   "cell_type": "code",
   "execution_count": 5,
   "id": "4fa89d3a-c1a1-42c1-bc53-16e564e9a489",
   "metadata": {},
   "outputs": [
    {
     "data": {
      "text/plain": [
       "id                     0\n",
       "ad_type                0\n",
       "lat                  456\n",
       "lon                  456\n",
       "country                0\n",
       "province               0\n",
       "suburb               211\n",
       "published_suburb    5541\n",
       "rooms                  0\n",
       "bedrooms            1068\n",
       "bathrooms            218\n",
       "surface_total       1226\n",
       "surface_covered     1121\n",
       "price               6000\n",
       "currency               0\n",
       "title                  0\n",
       "description            0\n",
       "property_type          0\n",
       "operation_type         0\n",
       "dtype: int64"
      ]
     },
     "execution_count": 5,
     "metadata": {},
     "output_type": "execute_result"
    }
   ],
   "source": [
    "df.isna().sum()"
   ]
  },
  {
   "cell_type": "code",
   "execution_count": 6,
   "id": "4638bcb9",
   "metadata": {},
   "outputs": [
    {
     "data": {
      "text/plain": [
       "6000"
      ]
     },
     "execution_count": 6,
     "metadata": {},
     "output_type": "execute_result"
    }
   ],
   "source": [
    "len(df)"
   ]
  },
  {
   "attachments": {},
   "cell_type": "markdown",
   "id": "02941b1d-e6b2-41e8-8b32-f396472b57bd",
   "metadata": {},
   "source": [
    "### Neighborhood"
   ]
  },
  {
   "cell_type": "code",
   "execution_count": 7,
   "id": "507c1833",
   "metadata": {},
   "outputs": [
    {
     "data": {
      "application/vnd.jupyter.widget-view+json": {
       "model_id": "ac834ed918294551954c2c7d0a50f737",
       "version_major": 2,
       "version_minor": 0
      },
      "text/plain": [
       "Pandas Apply:   0%|          | 0/48 [00:00<?, ?it/s]"
      ]
     },
     "metadata": {},
     "output_type": "display_data"
    },
    {
     "data": {
      "application/vnd.jupyter.widget-view+json": {
       "model_id": "ee5d2dac703e4aa785d2a0466a3e697b",
       "version_major": 2,
       "version_minor": 0
      },
      "text/plain": [
       "Pandas Apply:   0%|          | 0/6000 [00:00<?, ?it/s]"
      ]
     },
     "metadata": {},
     "output_type": "display_data"
    },
    {
     "data": {
      "application/vnd.jupyter.widget-view+json": {
       "model_id": "2f5701c496054fc08e72c56b286110f2",
       "version_major": 2,
       "version_minor": 0
      },
      "text/plain": [
       "Pandas Apply:   0%|          | 0/6000 [00:00<?, ?it/s]"
      ]
     },
     "metadata": {},
     "output_type": "display_data"
    },
    {
     "data": {
      "application/vnd.jupyter.widget-view+json": {
       "model_id": "ecbb7581597a4d229bff9b7a9a4b1df9",
       "version_major": 2,
       "version_minor": 0
      },
      "text/plain": [
       "Dask Apply:   0%|          | 0/16 [00:00<?, ?it/s]"
      ]
     },
     "metadata": {},
     "output_type": "display_data"
    },
    {
     "ename": "ValueError",
     "evalue": "not enough values to unpack (expected 2, got 0)",
     "output_type": "error",
     "traceback": [
      "\u001b[0;31m---------------------------------------------------------------------------\u001b[0m",
      "\u001b[0;31mValueError\u001b[0m                                Traceback (most recent call last)",
      "Cell \u001b[0;32mIn[7], line 1\u001b[0m\n\u001b[0;32m----> 1\u001b[0m df \u001b[39m=\u001b[39m suburbs(df)\n",
      "File \u001b[0;32m~/Documents/Projects/Internal/house-pricing-BA/notebooks/../src/utils/impute/pipeline.py:106\u001b[0m, in \u001b[0;36msuburbs\u001b[0;34m(df)\u001b[0m\n\u001b[1;32m    103\u001b[0m df \u001b[39m=\u001b[39m impute_suburbs_lat_lon(df)\n\u001b[1;32m    105\u001b[0m mask \u001b[39m=\u001b[39m (\u001b[39m~\u001b[39mdf[\u001b[39m\"\u001b[39m\u001b[39mpublished_suburb\u001b[39m\u001b[39m\"\u001b[39m]\u001b[39m.\u001b[39misna()) \u001b[39m&\u001b[39m (df[\u001b[39m\"\u001b[39m\u001b[39mlat\u001b[39m\u001b[39m\"\u001b[39m]\u001b[39m.\u001b[39misna()) \u001b[39m&\u001b[39m (df[\u001b[39m\"\u001b[39m\u001b[39mlon\u001b[39m\u001b[39m\"\u001b[39m]\u001b[39m.\u001b[39misna())\n\u001b[0;32m--> 106\u001b[0m df\u001b[39m.\u001b[39mloc[mask, \u001b[39m\"\u001b[39m\u001b[39mlat\u001b[39m\u001b[39m\"\u001b[39m], df\u001b[39m.\u001b[39mloc[mask, \u001b[39m\"\u001b[39m\u001b[39mlon\u001b[39m\u001b[39m\"\u001b[39m] \u001b[39m=\u001b[39m \u001b[39mzip\u001b[39m(\n\u001b[1;32m    107\u001b[0m     \u001b[39m*\u001b[39mdf[mask]\u001b[39m.\u001b[39mswifter\u001b[39m.\u001b[39mapply(\u001b[39mlambda\u001b[39;00m x: get_lat_lon(x[\u001b[39m\"\u001b[39m\u001b[39mpublished_suburb\u001b[39m\u001b[39m\"\u001b[39m], x[\u001b[39m\"\u001b[39m\u001b[39mprovince\u001b[39m\u001b[39m\"\u001b[39m]), axis\u001b[39m=\u001b[39m\u001b[39m1\u001b[39m)\n\u001b[1;32m    108\u001b[0m )\n\u001b[1;32m    110\u001b[0m mask \u001b[39m=\u001b[39m (\u001b[39m~\u001b[39mdf[\u001b[39m\"\u001b[39m\u001b[39msuburb\u001b[39m\u001b[39m\"\u001b[39m]\u001b[39m.\u001b[39misna()) \u001b[39m&\u001b[39m (df[\u001b[39m\"\u001b[39m\u001b[39mlat\u001b[39m\u001b[39m\"\u001b[39m]\u001b[39m.\u001b[39misna()) \u001b[39m&\u001b[39m (df[\u001b[39m\"\u001b[39m\u001b[39mlon\u001b[39m\u001b[39m\"\u001b[39m]\u001b[39m.\u001b[39misna())\n\u001b[1;32m    111\u001b[0m df\u001b[39m.\u001b[39mloc[mask, \u001b[39m\"\u001b[39m\u001b[39mlat\u001b[39m\u001b[39m\"\u001b[39m], df\u001b[39m.\u001b[39mloc[mask, \u001b[39m\"\u001b[39m\u001b[39mlon\u001b[39m\u001b[39m\"\u001b[39m] \u001b[39m=\u001b[39m \u001b[39mzip\u001b[39m(\n\u001b[1;32m    112\u001b[0m     \u001b[39m*\u001b[39mdf[mask]\u001b[39m.\u001b[39mswifter\u001b[39m.\u001b[39mapply(\u001b[39mlambda\u001b[39;00m x: get_lat_lon(x[\u001b[39m\"\u001b[39m\u001b[39msuburb\u001b[39m\u001b[39m\"\u001b[39m], x[\u001b[39m\"\u001b[39m\u001b[39mprovince\u001b[39m\u001b[39m\"\u001b[39m]), axis\u001b[39m=\u001b[39m\u001b[39m1\u001b[39m))\n",
      "\u001b[0;31mValueError\u001b[0m: not enough values to unpack (expected 2, got 0)"
     ]
    }
   ],
   "source": [
    "df = suburbs(df)"
   ]
  },
  {
   "cell_type": "code",
   "execution_count": 8,
   "id": "bd6dcc93",
   "metadata": {},
   "outputs": [
    {
     "data": {
      "text/plain": [
       "id                     0\n",
       "ad_type                0\n",
       "lat                  295\n",
       "lon                  295\n",
       "country                0\n",
       "province               0\n",
       "suburb                50\n",
       "published_suburb    5380\n",
       "rooms                  0\n",
       "bedrooms            1068\n",
       "bathrooms            218\n",
       "surface_total       1226\n",
       "surface_covered     1121\n",
       "price               6000\n",
       "currency               0\n",
       "title                  0\n",
       "description            0\n",
       "property_type          0\n",
       "operation_type         0\n",
       "dtype: int64"
      ]
     },
     "execution_count": 8,
     "metadata": {},
     "output_type": "execute_result"
    }
   ],
   "source": [
    "df.isna().sum()"
   ]
  },
  {
   "attachments": {},
   "cell_type": "markdown",
   "id": "7654a72f-ec20-4bbb-b0a5-8d35ac885a6d",
   "metadata": {},
   "source": [
    "### Bedrooms"
   ]
  },
  {
   "cell_type": "code",
   "execution_count": 9,
   "id": "df410c12-deb0-4510-a4d2-9dbdc8043e4b",
   "metadata": {},
   "outputs": [
    {
     "data": {
      "application/vnd.jupyter.widget-view+json": {
       "model_id": "6360cd34f49a41728a987ba3c2dcf1b7",
       "version_major": 2,
       "version_minor": 0
      },
      "text/plain": [
       "Pandas Apply:   0%|          | 0/1068 [00:00<?, ?it/s]"
      ]
     },
     "metadata": {},
     "output_type": "display_data"
    },
    {
     "data": {
      "application/vnd.jupyter.widget-view+json": {
       "model_id": "d9319186ecee456d8e9d4107f0169352",
       "version_major": 2,
       "version_minor": 0
      },
      "text/plain": [
       "Pandas Apply:   0%|          | 0/1068 [00:00<?, ?it/s]"
      ]
     },
     "metadata": {},
     "output_type": "display_data"
    }
   ],
   "source": [
    "df = bedrooms(df)"
   ]
  },
  {
   "cell_type": "code",
   "execution_count": 10,
   "id": "05d08b81",
   "metadata": {},
   "outputs": [
    {
     "data": {
      "text/plain": [
       "6000"
      ]
     },
     "execution_count": 10,
     "metadata": {},
     "output_type": "execute_result"
    }
   ],
   "source": [
    "len(df)"
   ]
  },
  {
   "attachments": {},
   "cell_type": "markdown",
   "id": "07e33bb1-59fe-44af-a426-0eb9d35a9093",
   "metadata": {},
   "source": [
    "### Superficies"
   ]
  },
  {
   "cell_type": "code",
   "execution_count": 11,
   "id": "5de071bb-8765-464a-8e54-e4e2b6b41fce",
   "metadata": {},
   "outputs": [
    {
     "name": "stdout",
     "output_type": "stream",
     "text": [
      "\\b(\\d+(?:\\.\\d*)?)(?:\\s)?(?:m2 descubierto|m2 descubiertos|m2 descubierta|m2 descubiertas|m2 desc|metro descubierto|metro descubiertos|metro descubierta|metro descubiertas|metro desc|metros descubierto|metros descubiertos|metros descubierta|metros descubiertas|metros desc|mts descubierto|mts descubiertos|mts descubierta|mts descubiertas|mts desc|mts2 descubierto|mts2 descubiertos|mts2 descubierta|mts2 descubiertas|mts2 desc|mt2 descubierto|mt2 descubiertos|mt2 descubierta|mt2 descubiertas|mt2 desc|mt descubierto|mt descubiertos|mt descubierta|mt descubiertas|mt desc|mtrs descubierto|mtrs descubiertos|mtrs descubierta|mtrs descubiertas|mtrs desc|mtr descubierto|mtr descubiertos|mtr descubierta|mtr descubiertas|mtr desc)\\b\n"
     ]
    },
    {
     "data": {
      "application/vnd.jupyter.widget-view+json": {
       "model_id": "80f426c973e842b69611deec9494c1b8",
       "version_major": 2,
       "version_minor": 0
      },
      "text/plain": [
       "Pandas Apply:   0%|          | 0/1121 [00:00<?, ?it/s]"
      ]
     },
     "metadata": {},
     "output_type": "display_data"
    },
    {
     "data": {
      "application/vnd.jupyter.widget-view+json": {
       "model_id": "6febc381c27a4c9e82bba8b8ed05de21",
       "version_major": 2,
       "version_minor": 0
      },
      "text/plain": [
       "Pandas Apply:   0%|          | 0/1112 [00:00<?, ?it/s]"
      ]
     },
     "metadata": {},
     "output_type": "display_data"
    },
    {
     "data": {
      "application/vnd.jupyter.widget-view+json": {
       "model_id": "62c0b1036d184377838a3a6ac33956fd",
       "version_major": 2,
       "version_minor": 0
      },
      "text/plain": [
       "Pandas Apply:   0%|          | 0/1226 [00:00<?, ?it/s]"
      ]
     },
     "metadata": {},
     "output_type": "display_data"
    },
    {
     "data": {
      "application/vnd.jupyter.widget-view+json": {
       "model_id": "9d865d6ac3ef47a08e9d42b6e2ca8f84",
       "version_major": 2,
       "version_minor": 0
      },
      "text/plain": [
       "Pandas Apply:   0%|          | 0/1122 [00:00<?, ?it/s]"
      ]
     },
     "metadata": {},
     "output_type": "display_data"
    },
    {
     "data": {
      "application/vnd.jupyter.widget-view+json": {
       "model_id": "59cadd48034f48cfa555ec93d09d45e5",
       "version_major": 2,
       "version_minor": 0
      },
      "text/plain": [
       "Pandas Apply:   0%|          | 0/1117 [00:00<?, ?it/s]"
      ]
     },
     "metadata": {},
     "output_type": "display_data"
    },
    {
     "data": {
      "application/vnd.jupyter.widget-view+json": {
       "model_id": "1acc0d79a2264358af00f3a517554e90",
       "version_major": 2,
       "version_minor": 0
      },
      "text/plain": [
       "Pandas Apply:   0%|          | 0/1009 [00:00<?, ?it/s]"
      ]
     },
     "metadata": {},
     "output_type": "display_data"
    }
   ],
   "source": [
    "df_ = surface(df)\n",
    "# df = df.sort_values(by=\"id\")\n",
    "#parallelize_dataframe(df, surface)"
   ]
  },
  {
   "cell_type": "code",
   "execution_count": 12,
   "id": "458a755b",
   "metadata": {},
   "outputs": [
    {
     "data": {
      "text/html": [
       "<div>\n",
       "<style scoped>\n",
       "    .dataframe tbody tr th:only-of-type {\n",
       "        vertical-align: middle;\n",
       "    }\n",
       "\n",
       "    .dataframe tbody tr th {\n",
       "        vertical-align: top;\n",
       "    }\n",
       "\n",
       "    .dataframe thead th {\n",
       "        text-align: right;\n",
       "    }\n",
       "</style>\n",
       "<table border=\"1\" class=\"dataframe\">\n",
       "  <thead>\n",
       "    <tr style=\"text-align: right;\">\n",
       "      <th></th>\n",
       "      <th>id</th>\n",
       "      <th>ad_type</th>\n",
       "      <th>lat</th>\n",
       "      <th>lon</th>\n",
       "      <th>country</th>\n",
       "      <th>province</th>\n",
       "      <th>suburb</th>\n",
       "      <th>published_suburb</th>\n",
       "      <th>rooms</th>\n",
       "      <th>bedrooms</th>\n",
       "      <th>bathrooms</th>\n",
       "      <th>surface_total</th>\n",
       "      <th>surface_covered</th>\n",
       "      <th>price</th>\n",
       "      <th>currency</th>\n",
       "      <th>title</th>\n",
       "      <th>description</th>\n",
       "      <th>property_type</th>\n",
       "      <th>operation_type</th>\n",
       "    </tr>\n",
       "  </thead>\n",
       "  <tbody>\n",
       "    <tr>\n",
       "      <th>0</th>\n",
       "      <td>556713</td>\n",
       "      <td>Propiedad</td>\n",
       "      <td>-34.5736</td>\n",
       "      <td>-58.4424</td>\n",
       "      <td>Argentina</td>\n",
       "      <td>Ciudad Autonoma de Buenos Aires</td>\n",
       "      <td>Colegiales</td>\n",
       "      <td>None</td>\n",
       "      <td>3.0</td>\n",
       "      <td>2.0</td>\n",
       "      <td>2.0</td>\n",
       "      <td>96.47</td>\n",
       "      <td>61.0</td>\n",
       "      <td>NaN</td>\n",
       "      <td>USD</td>\n",
       "      <td>departamento venta belgrano capital federal</td>\n",
       "      <td>sup escritura 96.47 m2 cubiertos 61 m2 descubi...</td>\n",
       "      <td>Departamento</td>\n",
       "      <td>Venta</td>\n",
       "    </tr>\n",
       "    <tr>\n",
       "      <th>1</th>\n",
       "      <td>192912</td>\n",
       "      <td>Propiedad</td>\n",
       "      <td>-34.6066</td>\n",
       "      <td>-58.4305</td>\n",
       "      <td>Argentina</td>\n",
       "      <td>Ciudad Autonoma de Buenos Aires</td>\n",
       "      <td>Almagro</td>\n",
       "      <td>None</td>\n",
       "      <td>3.0</td>\n",
       "      <td>2.0</td>\n",
       "      <td>2.0</td>\n",
       "      <td>77.00</td>\n",
       "      <td>67.0</td>\n",
       "      <td>NaN</td>\n",
       "      <td>USD</td>\n",
       "      <td>departamento 3 ambientes venta almagro</td>\n",
       "      <td>excelente departamento ambientes amplio modern...</td>\n",
       "      <td>Departamento</td>\n",
       "      <td>Venta</td>\n",
       "    </tr>\n",
       "    <tr>\n",
       "      <th>2</th>\n",
       "      <td>238224</td>\n",
       "      <td>Propiedad</td>\n",
       "      <td>-34.5741</td>\n",
       "      <td>-58.4918</td>\n",
       "      <td>Argentina</td>\n",
       "      <td>Ciudad Autonoma de Buenos Aires</td>\n",
       "      <td>Villa Urquiza</td>\n",
       "      <td>None</td>\n",
       "      <td>2.0</td>\n",
       "      <td>1.0</td>\n",
       "      <td>1.0</td>\n",
       "      <td>60.00</td>\n",
       "      <td>55.0</td>\n",
       "      <td>NaN</td>\n",
       "      <td>USD</td>\n",
       "      <td>andonaegui 2600 4deg departamento venta</td>\n",
       "      <td>excelente 3 ambientes frente balcon vista abie...</td>\n",
       "      <td>Departamento</td>\n",
       "      <td>Venta</td>\n",
       "    </tr>\n",
       "    <tr>\n",
       "      <th>3</th>\n",
       "      <td>257134</td>\n",
       "      <td>Propiedad</td>\n",
       "      <td>-34.6318</td>\n",
       "      <td>-58.4207</td>\n",
       "      <td>Argentina</td>\n",
       "      <td>Ciudad Autonoma de Buenos Aires</td>\n",
       "      <td>Boedo</td>\n",
       "      <td>None</td>\n",
       "      <td>2.0</td>\n",
       "      <td>1.0</td>\n",
       "      <td>1.0</td>\n",
       "      <td>74.00</td>\n",
       "      <td>47.0</td>\n",
       "      <td>NaN</td>\n",
       "      <td>USD</td>\n",
       "      <td>ph venta boedo 2 amb patio</td>\n",
       "      <td>corredor responsable marcelo trujillo cpi 6470...</td>\n",
       "      <td>PH</td>\n",
       "      <td>Venta</td>\n",
       "    </tr>\n",
       "    <tr>\n",
       "      <th>4</th>\n",
       "      <td>521738</td>\n",
       "      <td>Propiedad</td>\n",
       "      <td>-34.6072</td>\n",
       "      <td>-58.4300</td>\n",
       "      <td>Argentina</td>\n",
       "      <td>Ciudad Autonoma de Buenos Aires</td>\n",
       "      <td>Almagro</td>\n",
       "      <td>None</td>\n",
       "      <td>3.0</td>\n",
       "      <td>2.0</td>\n",
       "      <td>1.0</td>\n",
       "      <td>66.00</td>\n",
       "      <td>64.0</td>\n",
       "      <td>NaN</td>\n",
       "      <td>USD</td>\n",
       "      <td>venta 3 ambientes almagro balcon amenities</td>\n",
       "      <td>corredor responsable marcelo trujillo cucicba ...</td>\n",
       "      <td>Departamento</td>\n",
       "      <td>Venta</td>\n",
       "    </tr>\n",
       "  </tbody>\n",
       "</table>\n",
       "</div>"
      ],
      "text/plain": [
       "       id    ad_type      lat      lon    country  \\\n",
       "0  556713  Propiedad -34.5736 -58.4424  Argentina   \n",
       "1  192912  Propiedad -34.6066 -58.4305  Argentina   \n",
       "2  238224  Propiedad -34.5741 -58.4918  Argentina   \n",
       "3  257134  Propiedad -34.6318 -58.4207  Argentina   \n",
       "4  521738  Propiedad -34.6072 -58.4300  Argentina   \n",
       "\n",
       "                          province         suburb published_suburb  rooms  \\\n",
       "0  Ciudad Autonoma de Buenos Aires     Colegiales             None    3.0   \n",
       "1  Ciudad Autonoma de Buenos Aires        Almagro             None    3.0   \n",
       "2  Ciudad Autonoma de Buenos Aires  Villa Urquiza             None    2.0   \n",
       "3  Ciudad Autonoma de Buenos Aires          Boedo             None    2.0   \n",
       "4  Ciudad Autonoma de Buenos Aires        Almagro             None    3.0   \n",
       "\n",
       "   bedrooms  bathrooms  surface_total  surface_covered  price currency  \\\n",
       "0       2.0        2.0          96.47             61.0    NaN      USD   \n",
       "1       2.0        2.0          77.00             67.0    NaN      USD   \n",
       "2       1.0        1.0          60.00             55.0    NaN      USD   \n",
       "3       1.0        1.0          74.00             47.0    NaN      USD   \n",
       "4       2.0        1.0          66.00             64.0    NaN      USD   \n",
       "\n",
       "                                         title  \\\n",
       "0  departamento venta belgrano capital federal   \n",
       "1       departamento 3 ambientes venta almagro   \n",
       "2      andonaegui 2600 4deg departamento venta   \n",
       "3                   ph venta boedo 2 amb patio   \n",
       "4   venta 3 ambientes almagro balcon amenities   \n",
       "\n",
       "                                         description property_type  \\\n",
       "0  sup escritura 96.47 m2 cubiertos 61 m2 descubi...  Departamento   \n",
       "1  excelente departamento ambientes amplio modern...  Departamento   \n",
       "2  excelente 3 ambientes frente balcon vista abie...  Departamento   \n",
       "3  corredor responsable marcelo trujillo cpi 6470...            PH   \n",
       "4  corredor responsable marcelo trujillo cucicba ...  Departamento   \n",
       "\n",
       "  operation_type  \n",
       "0          Venta  \n",
       "1          Venta  \n",
       "2          Venta  \n",
       "3          Venta  \n",
       "4          Venta  "
      ]
     },
     "execution_count": 12,
     "metadata": {},
     "output_type": "execute_result"
    }
   ],
   "source": [
    "df_.head()"
   ]
  },
  {
   "attachments": {},
   "cell_type": "markdown",
   "id": "cf638767-877c-42c3-aaa2-f831b4666cbd",
   "metadata": {},
   "source": [
    "### Rooms"
   ]
  },
  {
   "cell_type": "code",
   "execution_count": 13,
   "id": "160d8fc5-2d2f-42f7-8979-0909a5b0fad8",
   "metadata": {},
   "outputs": [],
   "source": [
    "df = rooms(df)"
   ]
  },
  {
   "attachments": {},
   "cell_type": "markdown",
   "id": "0f069894-92f6-4f76-af79-b3482ba31076",
   "metadata": {},
   "source": [
    "### Baño"
   ]
  },
  {
   "cell_type": "code",
   "execution_count": 14,
   "id": "d0494b84-0e67-4b99-8941-f3534b2f3adc",
   "metadata": {},
   "outputs": [
    {
     "data": {
      "application/vnd.jupyter.widget-view+json": {
       "model_id": "73b978f53e3341e29968574e11843a22",
       "version_major": 2,
       "version_minor": 0
      },
      "text/plain": [
       "Pandas Apply:   0%|          | 0/218 [00:00<?, ?it/s]"
      ]
     },
     "metadata": {},
     "output_type": "display_data"
    },
    {
     "data": {
      "application/vnd.jupyter.widget-view+json": {
       "model_id": "002ae22a45544a55878f56b99fa79ca7",
       "version_major": 2,
       "version_minor": 0
      },
      "text/plain": [
       "Pandas Apply:   0%|          | 0/218 [00:00<?, ?it/s]"
      ]
     },
     "metadata": {},
     "output_type": "display_data"
    }
   ],
   "source": [
    "df = bathrooms(df)"
   ]
  },
  {
   "attachments": {},
   "cell_type": "markdown",
   "id": "da6949a1",
   "metadata": {},
   "source": [
    "## Corrections"
   ]
  },
  {
   "cell_type": "code",
   "execution_count": 15,
   "id": "59631532",
   "metadata": {},
   "outputs": [
    {
     "ename": "ValueError",
     "evalue": "Point coordinates must be finite. (nan, nan, 0.0) has been passed as coordinates.",
     "output_type": "error",
     "traceback": [
      "\u001b[0;31m---------------------------------------------------------------------------\u001b[0m",
      "\u001b[0;31mValueError\u001b[0m                                Traceback (most recent call last)",
      "\u001b[0;32m~/miniconda3/lib/python3.10/site-packages/swifter/swifter.py\u001b[0m in \u001b[0;36m?\u001b[0;34m(self, func, axis, raw, result_type, args, **kwds)\u001b[0m\n\u001b[1;32m    434\u001b[0m         \u001b[0;32mexcept\u001b[0m \u001b[0mERRORS_TO_HANDLE\u001b[0m\u001b[0;34m:\u001b[0m  \u001b[0;31m# if can't vectorize, estimate time to pandas apply\u001b[0m\u001b[0;34m\u001b[0m\u001b[0;34m\u001b[0m\u001b[0m\n\u001b[1;32m    435\u001b[0m             \u001b[0mwrapped\u001b[0m \u001b[0;34m=\u001b[0m \u001b[0mself\u001b[0m\u001b[0;34m.\u001b[0m\u001b[0m_wrapped_apply\u001b[0m\u001b[0;34m(\u001b[0m\u001b[0mfunc\u001b[0m\u001b[0;34m,\u001b[0m \u001b[0maxis\u001b[0m\u001b[0;34m=\u001b[0m\u001b[0maxis\u001b[0m\u001b[0;34m,\u001b[0m \u001b[0mraw\u001b[0m\u001b[0;34m=\u001b[0m\u001b[0mraw\u001b[0m\u001b[0;34m,\u001b[0m \u001b[0mresult_type\u001b[0m\u001b[0;34m=\u001b[0m\u001b[0mresult_type\u001b[0m\u001b[0;34m,\u001b[0m \u001b[0margs\u001b[0m\u001b[0;34m=\u001b[0m\u001b[0margs\u001b[0m\u001b[0;34m,\u001b[0m \u001b[0;34m**\u001b[0m\u001b[0mkwds\u001b[0m\u001b[0;34m)\u001b[0m\u001b[0;34m\u001b[0m\u001b[0;34m\u001b[0m\u001b[0m\n\u001b[0;32m--> 436\u001b[0;31m             \u001b[0mtimed\u001b[0m \u001b[0;34m=\u001b[0m \u001b[0mtimeit\u001b[0m\u001b[0;34m.\u001b[0m\u001b[0mtimeit\u001b[0m\u001b[0;34m(\u001b[0m\u001b[0mwrapped\u001b[0m\u001b[0;34m,\u001b[0m \u001b[0mnumber\u001b[0m\u001b[0;34m=\u001b[0m\u001b[0mN_REPEATS\u001b[0m\u001b[0;34m)\u001b[0m\u001b[0;34m\u001b[0m\u001b[0;34m\u001b[0m\u001b[0m\n\u001b[0m\u001b[1;32m    437\u001b[0m             \u001b[0msample_proc_est\u001b[0m \u001b[0;34m=\u001b[0m \u001b[0mtimed\u001b[0m \u001b[0;34m/\u001b[0m \u001b[0mN_REPEATS\u001b[0m\u001b[0;34m\u001b[0m\u001b[0;34m\u001b[0m\u001b[0m\n",
      "\u001b[0;32m~/Documents/Projects/Internal/house-pricing-BA/notebooks/../src/utils/impute/pipeline.py\u001b[0m in \u001b[0;36m?\u001b[0;34m(x)\u001b[0m\n\u001b[0;32m--> 244\u001b[0;31m         \u001b[0;32mlambda\u001b[0m \u001b[0mx\u001b[0m\u001b[0;34m:\u001b[0m \u001b[0mdistance\u001b[0m\u001b[0;34m.\u001b[0m\u001b[0mdistance\u001b[0m\u001b[0;34m(\u001b[0m\u001b[0;34m(\u001b[0m\u001b[0mx\u001b[0m\u001b[0;34m[\u001b[0m\u001b[0;34m\"lat\"\u001b[0m\u001b[0;34m]\u001b[0m\u001b[0;34m,\u001b[0m \u001b[0mx\u001b[0m\u001b[0;34m[\u001b[0m\u001b[0;34m\"lon\"\u001b[0m\u001b[0;34m]\u001b[0m\u001b[0;34m)\u001b[0m\u001b[0;34m,\u001b[0m \u001b[0;34m(\u001b[0m\u001b[0mCG_CABA\u001b[0m\u001b[0;34m[\u001b[0m\u001b[0;36m0\u001b[0m\u001b[0;34m]\u001b[0m\u001b[0;34m,\u001b[0m \u001b[0mCG_CABA\u001b[0m\u001b[0;34m[\u001b[0m\u001b[0;36m1\u001b[0m\u001b[0;34m]\u001b[0m\u001b[0;34m)\u001b[0m\u001b[0;34m)\u001b[0m\u001b[0;34m.\u001b[0m\u001b[0mkm\u001b[0m\u001b[0;34m,\u001b[0m\u001b[0;34m\u001b[0m\u001b[0;34m\u001b[0m\u001b[0m\n\u001b[0m",
      "\u001b[0;32m~/miniconda3/lib/python3.10/site-packages/geopy/distance.py\u001b[0m in \u001b[0;36m?\u001b[0;34m(self, *args, **kwargs)\u001b[0m\n\u001b[1;32m    538\u001b[0m         \u001b[0mself\u001b[0m\u001b[0;34m.\u001b[0m\u001b[0mset_ellipsoid\u001b[0m\u001b[0;34m(\u001b[0m\u001b[0mkwargs\u001b[0m\u001b[0;34m.\u001b[0m\u001b[0mpop\u001b[0m\u001b[0;34m(\u001b[0m\u001b[0;34m'ellipsoid'\u001b[0m\u001b[0;34m,\u001b[0m \u001b[0;34m'WGS-84'\u001b[0m\u001b[0;34m)\u001b[0m\u001b[0;34m)\u001b[0m\u001b[0;34m\u001b[0m\u001b[0;34m\u001b[0m\u001b[0m\n\u001b[1;32m    539\u001b[0m         \u001b[0mmajor\u001b[0m\u001b[0;34m,\u001b[0m \u001b[0mminor\u001b[0m\u001b[0;34m,\u001b[0m \u001b[0mf\u001b[0m \u001b[0;34m=\u001b[0m \u001b[0mself\u001b[0m\u001b[0;34m.\u001b[0m\u001b[0mELLIPSOID\u001b[0m\u001b[0;34m\u001b[0m\u001b[0;34m\u001b[0m\u001b[0m\n\u001b[0;32m--> 540\u001b[0;31m         \u001b[0msuper\u001b[0m\u001b[0;34m(\u001b[0m\u001b[0;34m)\u001b[0m\u001b[0;34m.\u001b[0m\u001b[0m__init__\u001b[0m\u001b[0;34m(\u001b[0m\u001b[0;34m*\u001b[0m\u001b[0margs\u001b[0m\u001b[0;34m,\u001b[0m \u001b[0;34m**\u001b[0m\u001b[0mkwargs\u001b[0m\u001b[0;34m)\u001b[0m\u001b[0;34m\u001b[0m\u001b[0;34m\u001b[0m\u001b[0m\n\u001b[0m",
      "\u001b[0;32m~/miniconda3/lib/python3.10/site-packages/geopy/distance.py\u001b[0m in \u001b[0;36m?\u001b[0;34m(self, *args, **kwargs)\u001b[0m\n\u001b[1;32m    274\u001b[0m         \u001b[0;32melif\u001b[0m \u001b[0mlen\u001b[0m\u001b[0;34m(\u001b[0m\u001b[0margs\u001b[0m\u001b[0;34m)\u001b[0m \u001b[0;34m>\u001b[0m \u001b[0;36m1\u001b[0m\u001b[0;34m:\u001b[0m\u001b[0;34m\u001b[0m\u001b[0;34m\u001b[0m\u001b[0m\n\u001b[1;32m    275\u001b[0m             \u001b[0;32mfor\u001b[0m \u001b[0ma\u001b[0m\u001b[0;34m,\u001b[0m \u001b[0mb\u001b[0m \u001b[0;32min\u001b[0m \u001b[0mutil\u001b[0m\u001b[0;34m.\u001b[0m\u001b[0mpairwise\u001b[0m\u001b[0;34m(\u001b[0m\u001b[0margs\u001b[0m\u001b[0;34m)\u001b[0m\u001b[0;34m:\u001b[0m\u001b[0;34m\u001b[0m\u001b[0;34m\u001b[0m\u001b[0m\n\u001b[0;32m--> 276\u001b[0;31m                 \u001b[0mkilometers\u001b[0m \u001b[0;34m+=\u001b[0m \u001b[0mself\u001b[0m\u001b[0;34m.\u001b[0m\u001b[0mmeasure\u001b[0m\u001b[0;34m(\u001b[0m\u001b[0ma\u001b[0m\u001b[0;34m,\u001b[0m \u001b[0mb\u001b[0m\u001b[0;34m)\u001b[0m\u001b[0;34m\u001b[0m\u001b[0;34m\u001b[0m\u001b[0m\n\u001b[0m\u001b[1;32m    277\u001b[0m \u001b[0;34m\u001b[0m\u001b[0m\n",
      "\u001b[0;32m~/miniconda3/lib/python3.10/site-packages/geopy/distance.py\u001b[0m in \u001b[0;36m?\u001b[0;34m(self, a, b)\u001b[0m\n\u001b[1;32m    555\u001b[0m     \u001b[0;32mdef\u001b[0m \u001b[0mmeasure\u001b[0m\u001b[0;34m(\u001b[0m\u001b[0mself\u001b[0m\u001b[0;34m,\u001b[0m \u001b[0ma\u001b[0m\u001b[0;34m,\u001b[0m \u001b[0mb\u001b[0m\u001b[0;34m)\u001b[0m\u001b[0;34m:\u001b[0m\u001b[0;34m\u001b[0m\u001b[0;34m\u001b[0m\u001b[0m\n\u001b[0;32m--> 556\u001b[0;31m         \u001b[0ma\u001b[0m\u001b[0;34m,\u001b[0m \u001b[0mb\u001b[0m \u001b[0;34m=\u001b[0m \u001b[0mPoint\u001b[0m\u001b[0;34m(\u001b[0m\u001b[0ma\u001b[0m\u001b[0;34m)\u001b[0m\u001b[0;34m,\u001b[0m \u001b[0mPoint\u001b[0m\u001b[0;34m(\u001b[0m\u001b[0mb\u001b[0m\u001b[0;34m)\u001b[0m\u001b[0;34m\u001b[0m\u001b[0;34m\u001b[0m\u001b[0m\n\u001b[0m\u001b[1;32m    557\u001b[0m         \u001b[0m_ensure_same_altitude\u001b[0m\u001b[0;34m(\u001b[0m\u001b[0ma\u001b[0m\u001b[0;34m,\u001b[0m \u001b[0mb\u001b[0m\u001b[0;34m)\u001b[0m\u001b[0;34m\u001b[0m\u001b[0;34m\u001b[0m\u001b[0m\n",
      "\u001b[0;32m~/miniconda3/lib/python3.10/site-packages/geopy/point.py\u001b[0m in \u001b[0;36m?\u001b[0;34m(cls, latitude, longitude, altitude)\u001b[0m\n\u001b[1;32m    173\u001b[0m                     )\n\u001b[1;32m    174\u001b[0m                 \u001b[0;32melse\u001b[0m\u001b[0;34m:\u001b[0m\u001b[0;34m\u001b[0m\u001b[0;34m\u001b[0m\u001b[0m\n\u001b[0;32m--> 175\u001b[0;31m                     \u001b[0;32mreturn\u001b[0m \u001b[0mcls\u001b[0m\u001b[0;34m.\u001b[0m\u001b[0mfrom_sequence\u001b[0m\u001b[0;34m(\u001b[0m\u001b[0mseq\u001b[0m\u001b[0;34m)\u001b[0m\u001b[0;34m\u001b[0m\u001b[0;34m\u001b[0m\u001b[0m\n\u001b[0m\u001b[1;32m    176\u001b[0m \u001b[0;34m\u001b[0m\u001b[0m\n",
      "\u001b[0;32m~/miniconda3/lib/python3.10/site-packages/geopy/point.py\u001b[0m in \u001b[0;36m?\u001b[0;34m(cls, seq)\u001b[0m\n\u001b[1;32m    470\u001b[0m             raise ValueError('When creating a Point from sequence, it '\n\u001b[1;32m    471\u001b[0m                              'must not have more than 3 items.')\n\u001b[0;32m--> 472\u001b[0;31m         \u001b[0;32mreturn\u001b[0m \u001b[0mcls\u001b[0m\u001b[0;34m(\u001b[0m\u001b[0;34m*\u001b[0m\u001b[0margs\u001b[0m\u001b[0;34m)\u001b[0m\u001b[0;34m\u001b[0m\u001b[0;34m\u001b[0m\u001b[0m\n\u001b[0m",
      "\u001b[0;32m~/miniconda3/lib/python3.10/site-packages/geopy/point.py\u001b[0m in \u001b[0;36m?\u001b[0;34m(cls, latitude, longitude, altitude)\u001b[0m\n\u001b[1;32m    186\u001b[0m \u001b[0;34m\u001b[0m\u001b[0m\n\u001b[1;32m    187\u001b[0m         \u001b[0mlatitude\u001b[0m\u001b[0;34m,\u001b[0m \u001b[0mlongitude\u001b[0m\u001b[0;34m,\u001b[0m \u001b[0maltitude\u001b[0m \u001b[0;34m=\u001b[0m\u001b[0;31m \u001b[0m\u001b[0;31m\\\u001b[0m\u001b[0;34m\u001b[0m\u001b[0;34m\u001b[0m\u001b[0m\n\u001b[0;32m--> 188\u001b[0;31m             \u001b[0m_normalize_coordinates\u001b[0m\u001b[0;34m(\u001b[0m\u001b[0mlatitude\u001b[0m\u001b[0;34m,\u001b[0m \u001b[0mlongitude\u001b[0m\u001b[0;34m,\u001b[0m \u001b[0maltitude\u001b[0m\u001b[0;34m)\u001b[0m\u001b[0;34m\u001b[0m\u001b[0;34m\u001b[0m\u001b[0m\n\u001b[0m\u001b[1;32m    189\u001b[0m \u001b[0;34m\u001b[0m\u001b[0m\n",
      "\u001b[0;32m~/miniconda3/lib/python3.10/site-packages/geopy/point.py\u001b[0m in \u001b[0;36m?\u001b[0;34m(latitude, longitude, altitude)\u001b[0m\n\u001b[1;32m     56\u001b[0m \u001b[0;32mdef\u001b[0m \u001b[0m_normalize_coordinates\u001b[0m\u001b[0;34m(\u001b[0m\u001b[0mlatitude\u001b[0m\u001b[0;34m,\u001b[0m \u001b[0mlongitude\u001b[0m\u001b[0;34m,\u001b[0m \u001b[0maltitude\u001b[0m\u001b[0;34m)\u001b[0m\u001b[0;34m:\u001b[0m\u001b[0;34m\u001b[0m\u001b[0;34m\u001b[0m\u001b[0m\n\u001b[0;32m---> 57\u001b[0;31m     \u001b[0mlatitude\u001b[0m \u001b[0;34m=\u001b[0m \u001b[0mfloat\u001b[0m\u001b[0;34m(\u001b[0m\u001b[0mlatitude\u001b[0m \u001b[0;32mor\u001b[0m \u001b[0;36m0.0\u001b[0m\u001b[0;34m)\u001b[0m\u001b[0;34m\u001b[0m\u001b[0;34m\u001b[0m\u001b[0m\n\u001b[0m\u001b[1;32m     58\u001b[0m     \u001b[0mlongitude\u001b[0m \u001b[0;34m=\u001b[0m \u001b[0mfloat\u001b[0m\u001b[0;34m(\u001b[0m\u001b[0mlongitude\u001b[0m \u001b[0;32mor\u001b[0m \u001b[0;36m0.0\u001b[0m\u001b[0;34m)\u001b[0m\u001b[0;34m\u001b[0m\u001b[0;34m\u001b[0m\u001b[0m\n",
      "\u001b[0;32m~/miniconda3/lib/python3.10/site-packages/pandas/core/generic.py\u001b[0m in \u001b[0;36m?\u001b[0;34m(self)\u001b[0m\n\u001b[1;32m   1464\u001b[0m     \u001b[0;34m@\u001b[0m\u001b[0mfinal\u001b[0m\u001b[0;34m\u001b[0m\u001b[0;34m\u001b[0m\u001b[0m\n\u001b[1;32m   1465\u001b[0m     \u001b[0;32mdef\u001b[0m \u001b[0m__nonzero__\u001b[0m\u001b[0;34m(\u001b[0m\u001b[0mself\u001b[0m\u001b[0;34m)\u001b[0m \u001b[0;34m->\u001b[0m \u001b[0mNoReturn\u001b[0m\u001b[0;34m:\u001b[0m\u001b[0;34m\u001b[0m\u001b[0;34m\u001b[0m\u001b[0m\n\u001b[0;32m-> 1466\u001b[0;31m         raise ValueError(\n\u001b[0m\u001b[1;32m   1467\u001b[0m             \u001b[0;34mf\"The truth value of a {type(self).__name__} is ambiguous. \"\u001b[0m\u001b[0;34m\u001b[0m\u001b[0;34m\u001b[0m\u001b[0m\n",
      "\u001b[0;31mValueError\u001b[0m: The truth value of a Series is ambiguous. Use a.empty, a.bool(), a.item(), a.any() or a.all().",
      "\nDuring handling of the above exception, another exception occurred:\n",
      "\u001b[0;31mValueError\u001b[0m                                Traceback (most recent call last)",
      "Cell \u001b[0;32mIn[15], line 1\u001b[0m\n\u001b[0;32m----> 1\u001b[0m df \u001b[39m=\u001b[39m corrections(df)\n",
      "File \u001b[0;32m~/Documents/Projects/Internal/house-pricing-BA/notebooks/../src/utils/impute/pipeline.py:243\u001b[0m, in \u001b[0;36mcorrections\u001b[0;34m(df)\u001b[0m\n\u001b[1;32m    242\u001b[0m \u001b[39mdef\u001b[39;00m \u001b[39mcorrections\u001b[39m(df: pd\u001b[39m.\u001b[39mDataFrame) \u001b[39m-\u001b[39m\u001b[39m>\u001b[39m pd\u001b[39m.\u001b[39mDataFrame:\n\u001b[0;32m--> 243\u001b[0m     df[\u001b[39m\"\u001b[39m\u001b[39mdist_buenos_aires\u001b[39m\u001b[39m\"\u001b[39m] \u001b[39m=\u001b[39m df\u001b[39m.\u001b[39;49mswifter\u001b[39m.\u001b[39;49mapply(\n\u001b[1;32m    244\u001b[0m         \u001b[39mlambda\u001b[39;49;00m x: distance\u001b[39m.\u001b[39;49mdistance((x[\u001b[39m\"\u001b[39;49m\u001b[39mlat\u001b[39;49m\u001b[39m\"\u001b[39;49m], x[\u001b[39m\"\u001b[39;49m\u001b[39mlon\u001b[39;49m\u001b[39m\"\u001b[39;49m]), (CG_CABA[\u001b[39m0\u001b[39;49m], CG_CABA[\u001b[39m1\u001b[39;49m]))\u001b[39m.\u001b[39;49mkm,\n\u001b[1;32m    245\u001b[0m         axis\u001b[39m=\u001b[39;49m\u001b[39m1\u001b[39;49m,\n\u001b[1;32m    246\u001b[0m     )\n\u001b[1;32m    247\u001b[0m     df[\u001b[39m\"\u001b[39m\u001b[39mprovince\u001b[39m\u001b[39m\"\u001b[39m] \u001b[39m=\u001b[39m df[[\u001b[39m\"\u001b[39m\u001b[39mprovince\u001b[39m\u001b[39m\"\u001b[39m, \u001b[39m\"\u001b[39m\u001b[39mdist_buenos_aires\u001b[39m\u001b[39m\"\u001b[39m]]\u001b[39m.\u001b[39mswifter\u001b[39m.\u001b[39mapply(\n\u001b[1;32m    248\u001b[0m         \u001b[39mlambda\u001b[39;00m x: \u001b[39m\"\u001b[39m\u001b[39mOther\u001b[39m\u001b[39m\"\u001b[39m \u001b[39mif\u001b[39;00m x[\u001b[39m\"\u001b[39m\u001b[39mdist_buenos_aires\u001b[39m\u001b[39m\"\u001b[39m] \u001b[39m>\u001b[39m KM_CABA \u001b[39melse\u001b[39;00m x[\u001b[39m\"\u001b[39m\u001b[39mprovince\u001b[39m\u001b[39m\"\u001b[39m], axis\u001b[39m=\u001b[39m\u001b[39m1\u001b[39m\n\u001b[1;32m    249\u001b[0m     )\n\u001b[1;32m    251\u001b[0m     \u001b[39mreturn\u001b[39;00m df\n",
      "File \u001b[0;32m~/miniconda3/lib/python3.10/site-packages/swifter/swifter.py:436\u001b[0m, in \u001b[0;36mDataFrameAccessor.apply\u001b[0;34m(self, func, axis, raw, result_type, args, **kwds)\u001b[0m\n\u001b[1;32m    434\u001b[0m \u001b[39mexcept\u001b[39;00m ERRORS_TO_HANDLE:  \u001b[39m# if can't vectorize, estimate time to pandas apply\u001b[39;00m\n\u001b[1;32m    435\u001b[0m     wrapped \u001b[39m=\u001b[39m \u001b[39mself\u001b[39m\u001b[39m.\u001b[39m_wrapped_apply(func, axis\u001b[39m=\u001b[39maxis, raw\u001b[39m=\u001b[39mraw, result_type\u001b[39m=\u001b[39mresult_type, args\u001b[39m=\u001b[39margs, \u001b[39m*\u001b[39m\u001b[39m*\u001b[39mkwds)\n\u001b[0;32m--> 436\u001b[0m     timed \u001b[39m=\u001b[39m timeit\u001b[39m.\u001b[39;49mtimeit(wrapped, number\u001b[39m=\u001b[39;49mN_REPEATS)\n\u001b[1;32m    437\u001b[0m     sample_proc_est \u001b[39m=\u001b[39m timed \u001b[39m/\u001b[39m N_REPEATS\n\u001b[1;32m    438\u001b[0m     est_apply_duration \u001b[39m=\u001b[39m sample_proc_est \u001b[39m/\u001b[39m \u001b[39mself\u001b[39m\u001b[39m.\u001b[39m_SAMPLE_SIZE \u001b[39m*\u001b[39m \u001b[39mself\u001b[39m\u001b[39m.\u001b[39m_nrows\n",
      "File \u001b[0;32m~/miniconda3/lib/python3.10/timeit.py:234\u001b[0m, in \u001b[0;36mtimeit\u001b[0;34m(stmt, setup, timer, number, globals)\u001b[0m\n\u001b[1;32m    231\u001b[0m \u001b[39mdef\u001b[39;00m \u001b[39mtimeit\u001b[39m(stmt\u001b[39m=\u001b[39m\u001b[39m\"\u001b[39m\u001b[39mpass\u001b[39m\u001b[39m\"\u001b[39m, setup\u001b[39m=\u001b[39m\u001b[39m\"\u001b[39m\u001b[39mpass\u001b[39m\u001b[39m\"\u001b[39m, timer\u001b[39m=\u001b[39mdefault_timer,\n\u001b[1;32m    232\u001b[0m            number\u001b[39m=\u001b[39mdefault_number, \u001b[39mglobals\u001b[39m\u001b[39m=\u001b[39m\u001b[39mNone\u001b[39;00m):\n\u001b[1;32m    233\u001b[0m \u001b[39m    \u001b[39m\u001b[39m\"\"\"Convenience function to create Timer object and call timeit method.\"\"\"\u001b[39;00m\n\u001b[0;32m--> 234\u001b[0m     \u001b[39mreturn\u001b[39;00m Timer(stmt, setup, timer, \u001b[39mglobals\u001b[39;49m)\u001b[39m.\u001b[39;49mtimeit(number)\n",
      "File \u001b[0;32m~/miniconda3/lib/python3.10/timeit.py:178\u001b[0m, in \u001b[0;36mTimer.timeit\u001b[0;34m(self, number)\u001b[0m\n\u001b[1;32m    176\u001b[0m gc\u001b[39m.\u001b[39mdisable()\n\u001b[1;32m    177\u001b[0m \u001b[39mtry\u001b[39;00m:\n\u001b[0;32m--> 178\u001b[0m     timing \u001b[39m=\u001b[39m \u001b[39mself\u001b[39;49m\u001b[39m.\u001b[39;49minner(it, \u001b[39mself\u001b[39;49m\u001b[39m.\u001b[39;49mtimer)\n\u001b[1;32m    179\u001b[0m \u001b[39mfinally\u001b[39;00m:\n\u001b[1;32m    180\u001b[0m     \u001b[39mif\u001b[39;00m gcold:\n",
      "File \u001b[0;32m<timeit-src>:6\u001b[0m, in \u001b[0;36minner\u001b[0;34m(_it, _timer, _stmt)\u001b[0m\n",
      "File \u001b[0;32m~/miniconda3/lib/python3.10/site-packages/swifter/swifter.py:339\u001b[0m, in \u001b[0;36mDataFrameAccessor._wrapped_apply.<locals>.wrapped\u001b[0;34m()\u001b[0m\n\u001b[1;32m    337\u001b[0m \u001b[39mdef\u001b[39;00m \u001b[39mwrapped\u001b[39m():\n\u001b[1;32m    338\u001b[0m     \u001b[39mwith\u001b[39;00m suppress_stdout_stderr_logging():\n\u001b[0;32m--> 339\u001b[0m         \u001b[39mself\u001b[39;49m\u001b[39m.\u001b[39;49m_obj\u001b[39m.\u001b[39;49miloc[\u001b[39mself\u001b[39;49m\u001b[39m.\u001b[39;49m_SAMPLE_INDEX]\u001b[39m.\u001b[39;49mapply(\n\u001b[1;32m    340\u001b[0m             func, axis\u001b[39m=\u001b[39;49maxis, raw\u001b[39m=\u001b[39;49mraw, result_type\u001b[39m=\u001b[39;49mresult_type, args\u001b[39m=\u001b[39;49margs, \u001b[39m*\u001b[39;49m\u001b[39m*\u001b[39;49mkwds\n\u001b[1;32m    341\u001b[0m         )\n",
      "File \u001b[0;32m~/miniconda3/lib/python3.10/site-packages/pandas/core/frame.py:9423\u001b[0m, in \u001b[0;36mDataFrame.apply\u001b[0;34m(self, func, axis, raw, result_type, args, **kwargs)\u001b[0m\n\u001b[1;32m   9412\u001b[0m \u001b[39mfrom\u001b[39;00m \u001b[39mpandas\u001b[39;00m\u001b[39m.\u001b[39;00m\u001b[39mcore\u001b[39;00m\u001b[39m.\u001b[39;00m\u001b[39mapply\u001b[39;00m \u001b[39mimport\u001b[39;00m frame_apply\n\u001b[1;32m   9414\u001b[0m op \u001b[39m=\u001b[39m frame_apply(\n\u001b[1;32m   9415\u001b[0m     \u001b[39mself\u001b[39m,\n\u001b[1;32m   9416\u001b[0m     func\u001b[39m=\u001b[39mfunc,\n\u001b[0;32m   (...)\u001b[0m\n\u001b[1;32m   9421\u001b[0m     kwargs\u001b[39m=\u001b[39mkwargs,\n\u001b[1;32m   9422\u001b[0m )\n\u001b[0;32m-> 9423\u001b[0m \u001b[39mreturn\u001b[39;00m op\u001b[39m.\u001b[39;49mapply()\u001b[39m.\u001b[39m__finalize__(\u001b[39mself\u001b[39m, method\u001b[39m=\u001b[39m\u001b[39m\"\u001b[39m\u001b[39mapply\u001b[39m\u001b[39m\"\u001b[39m)\n",
      "File \u001b[0;32m~/miniconda3/lib/python3.10/site-packages/pandas/core/apply.py:678\u001b[0m, in \u001b[0;36mFrameApply.apply\u001b[0;34m(self)\u001b[0m\n\u001b[1;32m    675\u001b[0m \u001b[39melif\u001b[39;00m \u001b[39mself\u001b[39m\u001b[39m.\u001b[39mraw:\n\u001b[1;32m    676\u001b[0m     \u001b[39mreturn\u001b[39;00m \u001b[39mself\u001b[39m\u001b[39m.\u001b[39mapply_raw()\n\u001b[0;32m--> 678\u001b[0m \u001b[39mreturn\u001b[39;00m \u001b[39mself\u001b[39;49m\u001b[39m.\u001b[39;49mapply_standard()\n",
      "File \u001b[0;32m~/miniconda3/lib/python3.10/site-packages/pandas/core/apply.py:798\u001b[0m, in \u001b[0;36mFrameApply.apply_standard\u001b[0;34m(self)\u001b[0m\n\u001b[1;32m    797\u001b[0m \u001b[39mdef\u001b[39;00m \u001b[39mapply_standard\u001b[39m(\u001b[39mself\u001b[39m):\n\u001b[0;32m--> 798\u001b[0m     results, res_index \u001b[39m=\u001b[39m \u001b[39mself\u001b[39;49m\u001b[39m.\u001b[39;49mapply_series_generator()\n\u001b[1;32m    800\u001b[0m     \u001b[39m# wrap results\u001b[39;00m\n\u001b[1;32m    801\u001b[0m     \u001b[39mreturn\u001b[39;00m \u001b[39mself\u001b[39m\u001b[39m.\u001b[39mwrap_results(results, res_index)\n",
      "File \u001b[0;32m~/miniconda3/lib/python3.10/site-packages/pandas/core/apply.py:814\u001b[0m, in \u001b[0;36mFrameApply.apply_series_generator\u001b[0;34m(self)\u001b[0m\n\u001b[1;32m    811\u001b[0m \u001b[39mwith\u001b[39;00m option_context(\u001b[39m\"\u001b[39m\u001b[39mmode.chained_assignment\u001b[39m\u001b[39m\"\u001b[39m, \u001b[39mNone\u001b[39;00m):\n\u001b[1;32m    812\u001b[0m     \u001b[39mfor\u001b[39;00m i, v \u001b[39min\u001b[39;00m \u001b[39menumerate\u001b[39m(series_gen):\n\u001b[1;32m    813\u001b[0m         \u001b[39m# ignore SettingWithCopy here in case the user mutates\u001b[39;00m\n\u001b[0;32m--> 814\u001b[0m         results[i] \u001b[39m=\u001b[39m \u001b[39mself\u001b[39;49m\u001b[39m.\u001b[39;49mf(v)\n\u001b[1;32m    815\u001b[0m         \u001b[39mif\u001b[39;00m \u001b[39misinstance\u001b[39m(results[i], ABCSeries):\n\u001b[1;32m    816\u001b[0m             \u001b[39m# If we have a view on v, we need to make a copy because\u001b[39;00m\n\u001b[1;32m    817\u001b[0m             \u001b[39m#  series_generator will swap out the underlying data\u001b[39;00m\n\u001b[1;32m    818\u001b[0m             results[i] \u001b[39m=\u001b[39m results[i]\u001b[39m.\u001b[39mcopy(deep\u001b[39m=\u001b[39m\u001b[39mFalse\u001b[39;00m)\n",
      "File \u001b[0;32m~/Documents/Projects/Internal/house-pricing-BA/notebooks/../src/utils/impute/pipeline.py:244\u001b[0m, in \u001b[0;36mcorrections.<locals>.<lambda>\u001b[0;34m(x)\u001b[0m\n\u001b[1;32m    242\u001b[0m \u001b[39mdef\u001b[39;00m \u001b[39mcorrections\u001b[39m(df: pd\u001b[39m.\u001b[39mDataFrame) \u001b[39m-\u001b[39m\u001b[39m>\u001b[39m pd\u001b[39m.\u001b[39mDataFrame:\n\u001b[1;32m    243\u001b[0m     df[\u001b[39m\"\u001b[39m\u001b[39mdist_buenos_aires\u001b[39m\u001b[39m\"\u001b[39m] \u001b[39m=\u001b[39m df\u001b[39m.\u001b[39mswifter\u001b[39m.\u001b[39mapply(\n\u001b[0;32m--> 244\u001b[0m         \u001b[39mlambda\u001b[39;00m x: distance\u001b[39m.\u001b[39;49mdistance((x[\u001b[39m\"\u001b[39;49m\u001b[39mlat\u001b[39;49m\u001b[39m\"\u001b[39;49m], x[\u001b[39m\"\u001b[39;49m\u001b[39mlon\u001b[39;49m\u001b[39m\"\u001b[39;49m]), (CG_CABA[\u001b[39m0\u001b[39;49m], CG_CABA[\u001b[39m1\u001b[39;49m]))\u001b[39m.\u001b[39mkm,\n\u001b[1;32m    245\u001b[0m         axis\u001b[39m=\u001b[39m\u001b[39m1\u001b[39m,\n\u001b[1;32m    246\u001b[0m     )\n\u001b[1;32m    247\u001b[0m     df[\u001b[39m\"\u001b[39m\u001b[39mprovince\u001b[39m\u001b[39m\"\u001b[39m] \u001b[39m=\u001b[39m df[[\u001b[39m\"\u001b[39m\u001b[39mprovince\u001b[39m\u001b[39m\"\u001b[39m, \u001b[39m\"\u001b[39m\u001b[39mdist_buenos_aires\u001b[39m\u001b[39m\"\u001b[39m]]\u001b[39m.\u001b[39mswifter\u001b[39m.\u001b[39mapply(\n\u001b[1;32m    248\u001b[0m         \u001b[39mlambda\u001b[39;00m x: \u001b[39m\"\u001b[39m\u001b[39mOther\u001b[39m\u001b[39m\"\u001b[39m \u001b[39mif\u001b[39;00m x[\u001b[39m\"\u001b[39m\u001b[39mdist_buenos_aires\u001b[39m\u001b[39m\"\u001b[39m] \u001b[39m>\u001b[39m KM_CABA \u001b[39melse\u001b[39;00m x[\u001b[39m\"\u001b[39m\u001b[39mprovince\u001b[39m\u001b[39m\"\u001b[39m], axis\u001b[39m=\u001b[39m\u001b[39m1\u001b[39m\n\u001b[1;32m    249\u001b[0m     )\n\u001b[1;32m    251\u001b[0m     \u001b[39mreturn\u001b[39;00m df\n",
      "File \u001b[0;32m~/miniconda3/lib/python3.10/site-packages/geopy/distance.py:540\u001b[0m, in \u001b[0;36mgeodesic.__init__\u001b[0;34m(self, *args, **kwargs)\u001b[0m\n\u001b[1;32m    538\u001b[0m \u001b[39mself\u001b[39m\u001b[39m.\u001b[39mset_ellipsoid(kwargs\u001b[39m.\u001b[39mpop(\u001b[39m'\u001b[39m\u001b[39mellipsoid\u001b[39m\u001b[39m'\u001b[39m, \u001b[39m'\u001b[39m\u001b[39mWGS-84\u001b[39m\u001b[39m'\u001b[39m))\n\u001b[1;32m    539\u001b[0m major, minor, f \u001b[39m=\u001b[39m \u001b[39mself\u001b[39m\u001b[39m.\u001b[39mELLIPSOID\n\u001b[0;32m--> 540\u001b[0m \u001b[39msuper\u001b[39;49m()\u001b[39m.\u001b[39;49m\u001b[39m__init__\u001b[39;49m(\u001b[39m*\u001b[39;49margs, \u001b[39m*\u001b[39;49m\u001b[39m*\u001b[39;49mkwargs)\n",
      "File \u001b[0;32m~/miniconda3/lib/python3.10/site-packages/geopy/distance.py:276\u001b[0m, in \u001b[0;36mDistance.__init__\u001b[0;34m(self, *args, **kwargs)\u001b[0m\n\u001b[1;32m    274\u001b[0m \u001b[39melif\u001b[39;00m \u001b[39mlen\u001b[39m(args) \u001b[39m>\u001b[39m \u001b[39m1\u001b[39m:\n\u001b[1;32m    275\u001b[0m     \u001b[39mfor\u001b[39;00m a, b \u001b[39min\u001b[39;00m util\u001b[39m.\u001b[39mpairwise(args):\n\u001b[0;32m--> 276\u001b[0m         kilometers \u001b[39m+\u001b[39m\u001b[39m=\u001b[39m \u001b[39mself\u001b[39;49m\u001b[39m.\u001b[39;49mmeasure(a, b)\n\u001b[1;32m    278\u001b[0m kilometers \u001b[39m+\u001b[39m\u001b[39m=\u001b[39m units\u001b[39m.\u001b[39mkilometers(\u001b[39m*\u001b[39m\u001b[39m*\u001b[39mkwargs)\n\u001b[1;32m    279\u001b[0m \u001b[39mself\u001b[39m\u001b[39m.\u001b[39m__kilometers \u001b[39m=\u001b[39m kilometers\n",
      "File \u001b[0;32m~/miniconda3/lib/python3.10/site-packages/geopy/distance.py:556\u001b[0m, in \u001b[0;36mgeodesic.measure\u001b[0;34m(self, a, b)\u001b[0m\n\u001b[1;32m    555\u001b[0m \u001b[39mdef\u001b[39;00m \u001b[39mmeasure\u001b[39m(\u001b[39mself\u001b[39m, a, b):\n\u001b[0;32m--> 556\u001b[0m     a, b \u001b[39m=\u001b[39m Point(a), Point(b)\n\u001b[1;32m    557\u001b[0m     _ensure_same_altitude(a, b)\n\u001b[1;32m    558\u001b[0m     lat1, lon1 \u001b[39m=\u001b[39m a\u001b[39m.\u001b[39mlatitude, a\u001b[39m.\u001b[39mlongitude\n",
      "File \u001b[0;32m~/miniconda3/lib/python3.10/site-packages/geopy/point.py:175\u001b[0m, in \u001b[0;36mPoint.__new__\u001b[0;34m(cls, latitude, longitude, altitude)\u001b[0m\n\u001b[1;32m    171\u001b[0m             \u001b[39mraise\u001b[39;00m \u001b[39mTypeError\u001b[39;00m(\n\u001b[1;32m    172\u001b[0m                 \u001b[39m\"\u001b[39m\u001b[39mFailed to create Point instance from \u001b[39m\u001b[39m%r\u001b[39;00m\u001b[39m.\u001b[39m\u001b[39m\"\u001b[39m \u001b[39m%\u001b[39m (arg,)\n\u001b[1;32m    173\u001b[0m             )\n\u001b[1;32m    174\u001b[0m         \u001b[39melse\u001b[39;00m:\n\u001b[0;32m--> 175\u001b[0m             \u001b[39mreturn\u001b[39;00m \u001b[39mcls\u001b[39;49m\u001b[39m.\u001b[39;49mfrom_sequence(seq)\n\u001b[1;32m    177\u001b[0m \u001b[39mif\u001b[39;00m single_arg:\n\u001b[1;32m    178\u001b[0m     \u001b[39mraise\u001b[39;00m \u001b[39mValueError\u001b[39;00m(\n\u001b[1;32m    179\u001b[0m         \u001b[39m'\u001b[39m\u001b[39mA single number has been passed to the Point \u001b[39m\u001b[39m'\u001b[39m\n\u001b[1;32m    180\u001b[0m         \u001b[39m'\u001b[39m\u001b[39mconstructor. This is probably a mistake, because \u001b[39m\u001b[39m'\u001b[39m\n\u001b[0;32m   (...)\u001b[0m\n\u001b[1;32m    184\u001b[0m         \u001b[39m'\u001b[39m\u001b[39mto get rid of this error.\u001b[39m\u001b[39m'\u001b[39m\n\u001b[1;32m    185\u001b[0m     )\n",
      "File \u001b[0;32m~/miniconda3/lib/python3.10/site-packages/geopy/point.py:472\u001b[0m, in \u001b[0;36mPoint.from_sequence\u001b[0;34m(cls, seq)\u001b[0m\n\u001b[1;32m    469\u001b[0m \u001b[39mif\u001b[39;00m \u001b[39mlen\u001b[39m(args) \u001b[39m>\u001b[39m \u001b[39m3\u001b[39m:\n\u001b[1;32m    470\u001b[0m     \u001b[39mraise\u001b[39;00m \u001b[39mValueError\u001b[39;00m(\u001b[39m'\u001b[39m\u001b[39mWhen creating a Point from sequence, it \u001b[39m\u001b[39m'\u001b[39m\n\u001b[1;32m    471\u001b[0m                      \u001b[39m'\u001b[39m\u001b[39mmust not have more than 3 items.\u001b[39m\u001b[39m'\u001b[39m)\n\u001b[0;32m--> 472\u001b[0m \u001b[39mreturn\u001b[39;00m \u001b[39mcls\u001b[39;49m(\u001b[39m*\u001b[39;49margs)\n",
      "File \u001b[0;32m~/miniconda3/lib/python3.10/site-packages/geopy/point.py:188\u001b[0m, in \u001b[0;36mPoint.__new__\u001b[0;34m(cls, latitude, longitude, altitude)\u001b[0m\n\u001b[1;32m    177\u001b[0m \u001b[39mif\u001b[39;00m single_arg:\n\u001b[1;32m    178\u001b[0m     \u001b[39mraise\u001b[39;00m \u001b[39mValueError\u001b[39;00m(\n\u001b[1;32m    179\u001b[0m         \u001b[39m'\u001b[39m\u001b[39mA single number has been passed to the Point \u001b[39m\u001b[39m'\u001b[39m\n\u001b[1;32m    180\u001b[0m         \u001b[39m'\u001b[39m\u001b[39mconstructor. This is probably a mistake, because \u001b[39m\u001b[39m'\u001b[39m\n\u001b[0;32m   (...)\u001b[0m\n\u001b[1;32m    184\u001b[0m         \u001b[39m'\u001b[39m\u001b[39mto get rid of this error.\u001b[39m\u001b[39m'\u001b[39m\n\u001b[1;32m    185\u001b[0m     )\n\u001b[1;32m    187\u001b[0m latitude, longitude, altitude \u001b[39m=\u001b[39m \\\n\u001b[0;32m--> 188\u001b[0m     _normalize_coordinates(latitude, longitude, altitude)\n\u001b[1;32m    190\u001b[0m \u001b[39mself\u001b[39m \u001b[39m=\u001b[39m \u001b[39msuper\u001b[39m()\u001b[39m.\u001b[39m\u001b[39m__new__\u001b[39m(\u001b[39mcls\u001b[39m)\n\u001b[1;32m    191\u001b[0m \u001b[39mself\u001b[39m\u001b[39m.\u001b[39mlatitude \u001b[39m=\u001b[39m latitude\n",
      "File \u001b[0;32m~/miniconda3/lib/python3.10/site-packages/geopy/point.py:63\u001b[0m, in \u001b[0;36m_normalize_coordinates\u001b[0;34m(latitude, longitude, altitude)\u001b[0m\n\u001b[1;32m     61\u001b[0m is_all_finite \u001b[39m=\u001b[39m \u001b[39mall\u001b[39m(isfinite(x) \u001b[39mfor\u001b[39;00m x \u001b[39min\u001b[39;00m (latitude, longitude, altitude))\n\u001b[1;32m     62\u001b[0m \u001b[39mif\u001b[39;00m \u001b[39mnot\u001b[39;00m is_all_finite:\n\u001b[0;32m---> 63\u001b[0m     \u001b[39mraise\u001b[39;00m \u001b[39mValueError\u001b[39;00m(\u001b[39m'\u001b[39m\u001b[39mPoint coordinates must be finite. \u001b[39m\u001b[39m%r\u001b[39;00m\u001b[39m has been passed \u001b[39m\u001b[39m'\u001b[39m\n\u001b[1;32m     64\u001b[0m                      \u001b[39m'\u001b[39m\u001b[39mas coordinates.\u001b[39m\u001b[39m'\u001b[39m \u001b[39m%\u001b[39m ((latitude, longitude, altitude),))\n\u001b[1;32m     66\u001b[0m \u001b[39mif\u001b[39;00m \u001b[39mabs\u001b[39m(latitude) \u001b[39m>\u001b[39m \u001b[39m90\u001b[39m:\n\u001b[1;32m     67\u001b[0m     warnings\u001b[39m.\u001b[39mwarn(\u001b[39m'\u001b[39m\u001b[39mLatitude normalization has been prohibited in the newer \u001b[39m\u001b[39m'\u001b[39m\n\u001b[1;32m     68\u001b[0m                   \u001b[39m'\u001b[39m\u001b[39mversions of geopy, because the normalized value happened \u001b[39m\u001b[39m'\u001b[39m\n\u001b[1;32m     69\u001b[0m                   \u001b[39m'\u001b[39m\u001b[39mto be on a different pole, which is probably not what was \u001b[39m\u001b[39m'\u001b[39m\n\u001b[0;32m   (...)\u001b[0m\n\u001b[1;32m     72\u001b[0m                   \u001b[39m'\u001b[39m\u001b[39m(latitude, longitude) or (y, x) in Cartesian terms.\u001b[39m\u001b[39m'\u001b[39m,\n\u001b[1;32m     73\u001b[0m                   \u001b[39mUserWarning\u001b[39;00m, stacklevel\u001b[39m=\u001b[39m\u001b[39m3\u001b[39m)\n",
      "\u001b[0;31mValueError\u001b[0m: Point coordinates must be finite. (nan, nan, 0.0) has been passed as coordinates."
     ]
    }
   ],
   "source": [
    "df = corrections(df)"
   ]
  },
  {
   "attachments": {},
   "cell_type": "markdown",
   "id": "e6969a32",
   "metadata": {},
   "source": [
    "# Wrap up"
   ]
  },
  {
   "cell_type": "code",
   "execution_count": 16,
   "id": "03dce4cd",
   "metadata": {},
   "outputs": [
    {
     "data": {
      "text/html": [
       "<div>\n",
       "<style scoped>\n",
       "    .dataframe tbody tr th:only-of-type {\n",
       "        vertical-align: middle;\n",
       "    }\n",
       "\n",
       "    .dataframe tbody tr th {\n",
       "        vertical-align: top;\n",
       "    }\n",
       "\n",
       "    .dataframe thead th {\n",
       "        text-align: right;\n",
       "    }\n",
       "</style>\n",
       "<table border=\"1\" class=\"dataframe\">\n",
       "  <thead>\n",
       "    <tr style=\"text-align: right;\">\n",
       "      <th></th>\n",
       "      <th>id</th>\n",
       "      <th>ad_type</th>\n",
       "      <th>lat</th>\n",
       "      <th>lon</th>\n",
       "      <th>country</th>\n",
       "      <th>province</th>\n",
       "      <th>suburb</th>\n",
       "      <th>published_suburb</th>\n",
       "      <th>rooms</th>\n",
       "      <th>bedrooms</th>\n",
       "      <th>bathrooms</th>\n",
       "      <th>surface_total</th>\n",
       "      <th>surface_covered</th>\n",
       "      <th>price</th>\n",
       "      <th>currency</th>\n",
       "      <th>title</th>\n",
       "      <th>description</th>\n",
       "      <th>property_type</th>\n",
       "      <th>operation_type</th>\n",
       "    </tr>\n",
       "  </thead>\n",
       "  <tbody>\n",
       "    <tr>\n",
       "      <th>0</th>\n",
       "      <td>556713</td>\n",
       "      <td>Propiedad</td>\n",
       "      <td>-34.5736</td>\n",
       "      <td>-58.4424</td>\n",
       "      <td>Argentina</td>\n",
       "      <td>Ciudad Autonoma de Buenos Aires</td>\n",
       "      <td>Colegiales</td>\n",
       "      <td>None</td>\n",
       "      <td>3.0</td>\n",
       "      <td>2.0</td>\n",
       "      <td>2.0</td>\n",
       "      <td>96.47</td>\n",
       "      <td>61.0</td>\n",
       "      <td>NaN</td>\n",
       "      <td>USD</td>\n",
       "      <td>departamento venta belgrano capital federal</td>\n",
       "      <td>sup escritura 96.47 m2 cubiertos 61 m2 descubi...</td>\n",
       "      <td>Departamento</td>\n",
       "      <td>Venta</td>\n",
       "    </tr>\n",
       "    <tr>\n",
       "      <th>1</th>\n",
       "      <td>192912</td>\n",
       "      <td>Propiedad</td>\n",
       "      <td>-34.6066</td>\n",
       "      <td>-58.4305</td>\n",
       "      <td>Argentina</td>\n",
       "      <td>Ciudad Autonoma de Buenos Aires</td>\n",
       "      <td>Almagro</td>\n",
       "      <td>None</td>\n",
       "      <td>3.0</td>\n",
       "      <td>2.0</td>\n",
       "      <td>2.0</td>\n",
       "      <td>77.00</td>\n",
       "      <td>67.0</td>\n",
       "      <td>NaN</td>\n",
       "      <td>USD</td>\n",
       "      <td>departamento 3 ambientes venta almagro</td>\n",
       "      <td>excelente departamento ambientes amplio modern...</td>\n",
       "      <td>Departamento</td>\n",
       "      <td>Venta</td>\n",
       "    </tr>\n",
       "  </tbody>\n",
       "</table>\n",
       "</div>"
      ],
      "text/plain": [
       "       id    ad_type      lat      lon    country  \\\n",
       "0  556713  Propiedad -34.5736 -58.4424  Argentina   \n",
       "1  192912  Propiedad -34.6066 -58.4305  Argentina   \n",
       "\n",
       "                          province      suburb published_suburb  rooms  \\\n",
       "0  Ciudad Autonoma de Buenos Aires  Colegiales             None    3.0   \n",
       "1  Ciudad Autonoma de Buenos Aires     Almagro             None    3.0   \n",
       "\n",
       "   bedrooms  bathrooms  surface_total  surface_covered  price currency  \\\n",
       "0       2.0        2.0          96.47             61.0    NaN      USD   \n",
       "1       2.0        2.0          77.00             67.0    NaN      USD   \n",
       "\n",
       "                                         title  \\\n",
       "0  departamento venta belgrano capital federal   \n",
       "1       departamento 3 ambientes venta almagro   \n",
       "\n",
       "                                         description property_type  \\\n",
       "0  sup escritura 96.47 m2 cubiertos 61 m2 descubi...  Departamento   \n",
       "1  excelente departamento ambientes amplio modern...  Departamento   \n",
       "\n",
       "  operation_type  \n",
       "0          Venta  \n",
       "1          Venta  "
      ]
     },
     "execution_count": 16,
     "metadata": {},
     "output_type": "execute_result"
    }
   ],
   "source": [
    "df.head(2)"
   ]
  },
  {
   "cell_type": "code",
   "execution_count": 17,
   "id": "97f965f1",
   "metadata": {},
   "outputs": [
    {
     "name": "stdout",
     "output_type": "stream",
     "text": [
      "<class 'pandas.core.frame.DataFrame'>\n",
      "RangeIndex: 6000 entries, 0 to 5999\n",
      "Data columns (total 19 columns):\n",
      " #   Column            Non-Null Count  Dtype  \n",
      "---  ------            --------------  -----  \n",
      " 0   id                6000 non-null   int64  \n",
      " 1   ad_type           6000 non-null   object \n",
      " 2   lat               5705 non-null   float64\n",
      " 3   lon               5705 non-null   float64\n",
      " 4   country           6000 non-null   object \n",
      " 5   province          6000 non-null   object \n",
      " 6   suburb            5950 non-null   object \n",
      " 7   published_suburb  620 non-null    object \n",
      " 8   rooms             6000 non-null   float64\n",
      " 9   bedrooms          6000 non-null   float64\n",
      " 10  bathrooms         6000 non-null   float64\n",
      " 11  surface_total     6000 non-null   float64\n",
      " 12  surface_covered   6000 non-null   float64\n",
      " 13  price             0 non-null      float64\n",
      " 14  currency          6000 non-null   object \n",
      " 15  title             6000 non-null   object \n",
      " 16  description       6000 non-null   object \n",
      " 17  property_type     6000 non-null   object \n",
      " 18  operation_type    6000 non-null   object \n",
      "dtypes: float64(8), int64(1), object(10)\n",
      "memory usage: 890.8+ KB\n"
     ]
    }
   ],
   "source": [
    "df.info()"
   ]
  },
  {
   "cell_type": "code",
   "execution_count": null,
   "id": "5578c478",
   "metadata": {},
   "outputs": [],
   "source": [
    "df.to_parquet(\"../data/processed/df_test.parquet\")"
   ]
  },
  {
   "attachments": {},
   "cell_type": "markdown",
   "id": "8bf57c64",
   "metadata": {},
   "source": [
    "# Wrap Up"
   ]
  },
  {
   "cell_type": "code",
   "execution_count": null,
   "id": "f327f52b",
   "metadata": {},
   "outputs": [],
   "source": [
    "df = df.copy()\n",
    "# df = df.reset_index(drop=False)\n",
    "\n",
    "color_scale = [(0, 'orange'), (1,'red')]\n",
    "\n",
    "fig = None\n",
    "fig = px.scatter_mapbox(#df[df[\"dist_buenos_aires\"] < 70],\n",
    "                        df,\n",
    "                        lat=\"lat\",\n",
    "                        lon=\"lon\",\n",
    "                        hover_name=\"title\",\n",
    "                        hover_data=[\"id\", \"suburb\", \"published_suburb\"],\n",
    "                        color=\"province\",\n",
    "                        color_continuous_scale=color_scale,\n",
    "                        zoom=10,\n",
    "                        height=800,\n",
    "                        width=1600)\n",
    "\n",
    "fig.update_layout(mapbox_style=\"carto-darkmatter\")\n",
    "fig.update_layout(margin={\"r\":0,\"t\":0,\"l\":0,\"b\":0})\n",
    "fig.show()"
   ]
  }
 ],
 "metadata": {
  "kernelspec": {
   "display_name": "Python 3 (ipykernel)",
   "language": "python",
   "name": "python3"
  },
  "language_info": {
   "codemirror_mode": {
    "name": "ipython",
    "version": 3
   },
   "file_extension": ".py",
   "mimetype": "text/x-python",
   "name": "python",
   "nbconvert_exporter": "python",
   "pygments_lexer": "ipython3",
   "version": "3.10.10"
  }
 },
 "nbformat": 4,
 "nbformat_minor": 5
}
