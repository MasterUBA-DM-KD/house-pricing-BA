{
 "cells": [
  {
   "cell_type": "code",
   "execution_count": 1,
   "metadata": {
    "collapsed": true,
    "ExecuteTime": {
     "end_time": "2023-06-17T22:28:40.065415Z",
     "start_time": "2023-06-17T22:28:39.303672Z"
    }
   },
   "outputs": [],
   "source": [
    "import sys\n",
    "import pandas as pd\n",
    "from sklearn.preprocessing import LabelEncoder\n",
    "\n",
    "sys.path.append(\"../\")"
   ]
  },
  {
   "cell_type": "code",
   "execution_count": 2,
   "outputs": [],
   "source": [
    "import re\n",
    "import numpy as np\n",
    "def search_price(text):\n",
    "# for i in df[\"description\"].dropna().sample(100):\n",
    "    # print(i)\n",
    "    pattern = r\"\\b\\d{1,7}(?:\\.\\d{1,7})?\\s*(?:usd|dolar|dolares)\\b\"\n",
    "    nums = re.findall(pattern, text)\n",
    "    if nums:\n",
    "        # print(nums[0] if len(nums)>0 else np.nan)\n",
    "        # print(\"\\n\")\n",
    "        return float(nums[0])\n",
    "    else:\n",
    "        return np.nan"
   ],
   "metadata": {
    "collapsed": false,
    "ExecuteTime": {
     "end_time": "2023-06-17T22:28:40.068543Z",
     "start_time": "2023-06-17T22:28:40.066628Z"
    }
   }
  },
  {
   "cell_type": "code",
   "execution_count": 228,
   "outputs": [],
   "source": [
    "df_train = pd.read_parquet(\"../data/raw/df_train.parquet\")\n",
    "df_test = pd.read_parquet(\"../data/raw/df_test.parquet\")"
   ],
   "metadata": {
    "collapsed": false,
    "ExecuteTime": {
     "end_time": "2023-06-17T21:47:32.719712Z",
     "start_time": "2023-06-17T21:47:32.560471Z"
    }
   }
  },
  {
   "cell_type": "code",
   "execution_count": 229,
   "outputs": [
    {
     "data": {
      "text/plain": "    id    ad_type        lat        lon    country  \\\n0    5  Propiedad -34.663334 -58.486344  Argentina   \n1   98  Propiedad -34.603990 -58.412370  Argentina   \n2  100  Propiedad -34.691785 -58.406821  Argentina   \n3  101  Propiedad -34.553008 -58.457528  Argentina   \n4  103  Propiedad -34.603990 -58.412370  Argentina   \n\n                          province     suburb published_suburb  rooms  \\\n0  Ciudad Autonoma de Buenos Aires  Mataderos             None    NaN   \n1  Ciudad Autonoma de Buenos Aires     Abasto             None    1.0   \n2                     Buenos Aires      Lanús      Lanús Oeste    1.0   \n3  Ciudad Autonoma de Buenos Aires      Nuñez             None    NaN   \n4  Ciudad Autonoma de Buenos Aires    Almagro             None    1.0   \n\n   bedrooms  bathrooms  surface_total  surface_covered     price currency  \\\n0       NaN        NaN            NaN              NaN   75000.0      USD   \n1       NaN        1.0           28.0             28.0   98000.0      USD   \n2       NaN        1.0           36.0             36.0   67000.0      USD   \n3       NaN        NaN            NaN              NaN  335000.0      USD   \n4       NaN        1.0           28.0             28.0   98000.0      USD   \n\n                                               title  \\\n0                          venta ph 3 ambientes caba   \n1               departamento 1 ambiente venta abasto   \n2  amplio monoambiente divisible venta lanus cana...   \n3  3 amb torre categoria estrenar cochera pileta ...   \n4              departamento 1 ambiente venta almagro   \n\n                                         description property_type  \\\n0  codigo 2417-larraya 2700 caba ubicado larraya ...            PH   \n1  excelente monoambiente contrafrente 28 m2 much...  Departamento   \n2  excelente ubicacion mts av coronel d'elia 200 ...  Departamento   \n3  codigo 5598-vd015 ubicado 3 febrero 2800 publi...  Departamento   \n4  excelente monoambiente contrafrente 28 m2 much...  Departamento   \n\n  operation_type  \n0          Venta  \n1          Venta  \n2          Venta  \n3          Venta  \n4          Venta  ",
      "text/html": "<div>\n<style scoped>\n    .dataframe tbody tr th:only-of-type {\n        vertical-align: middle;\n    }\n\n    .dataframe tbody tr th {\n        vertical-align: top;\n    }\n\n    .dataframe thead th {\n        text-align: right;\n    }\n</style>\n<table border=\"1\" class=\"dataframe\">\n  <thead>\n    <tr style=\"text-align: right;\">\n      <th></th>\n      <th>id</th>\n      <th>ad_type</th>\n      <th>lat</th>\n      <th>lon</th>\n      <th>country</th>\n      <th>province</th>\n      <th>suburb</th>\n      <th>published_suburb</th>\n      <th>rooms</th>\n      <th>bedrooms</th>\n      <th>bathrooms</th>\n      <th>surface_total</th>\n      <th>surface_covered</th>\n      <th>price</th>\n      <th>currency</th>\n      <th>title</th>\n      <th>description</th>\n      <th>property_type</th>\n      <th>operation_type</th>\n    </tr>\n  </thead>\n  <tbody>\n    <tr>\n      <th>0</th>\n      <td>5</td>\n      <td>Propiedad</td>\n      <td>-34.663334</td>\n      <td>-58.486344</td>\n      <td>Argentina</td>\n      <td>Ciudad Autonoma de Buenos Aires</td>\n      <td>Mataderos</td>\n      <td>None</td>\n      <td>NaN</td>\n      <td>NaN</td>\n      <td>NaN</td>\n      <td>NaN</td>\n      <td>NaN</td>\n      <td>75000.0</td>\n      <td>USD</td>\n      <td>venta ph 3 ambientes caba</td>\n      <td>codigo 2417-larraya 2700 caba ubicado larraya ...</td>\n      <td>PH</td>\n      <td>Venta</td>\n    </tr>\n    <tr>\n      <th>1</th>\n      <td>98</td>\n      <td>Propiedad</td>\n      <td>-34.603990</td>\n      <td>-58.412370</td>\n      <td>Argentina</td>\n      <td>Ciudad Autonoma de Buenos Aires</td>\n      <td>Abasto</td>\n      <td>None</td>\n      <td>1.0</td>\n      <td>NaN</td>\n      <td>1.0</td>\n      <td>28.0</td>\n      <td>28.0</td>\n      <td>98000.0</td>\n      <td>USD</td>\n      <td>departamento 1 ambiente venta abasto</td>\n      <td>excelente monoambiente contrafrente 28 m2 much...</td>\n      <td>Departamento</td>\n      <td>Venta</td>\n    </tr>\n    <tr>\n      <th>2</th>\n      <td>100</td>\n      <td>Propiedad</td>\n      <td>-34.691785</td>\n      <td>-58.406821</td>\n      <td>Argentina</td>\n      <td>Buenos Aires</td>\n      <td>Lanús</td>\n      <td>Lanús Oeste</td>\n      <td>1.0</td>\n      <td>NaN</td>\n      <td>1.0</td>\n      <td>36.0</td>\n      <td>36.0</td>\n      <td>67000.0</td>\n      <td>USD</td>\n      <td>amplio monoambiente divisible venta lanus cana...</td>\n      <td>excelente ubicacion mts av coronel d'elia 200 ...</td>\n      <td>Departamento</td>\n      <td>Venta</td>\n    </tr>\n    <tr>\n      <th>3</th>\n      <td>101</td>\n      <td>Propiedad</td>\n      <td>-34.553008</td>\n      <td>-58.457528</td>\n      <td>Argentina</td>\n      <td>Ciudad Autonoma de Buenos Aires</td>\n      <td>Nuñez</td>\n      <td>None</td>\n      <td>NaN</td>\n      <td>NaN</td>\n      <td>NaN</td>\n      <td>NaN</td>\n      <td>NaN</td>\n      <td>335000.0</td>\n      <td>USD</td>\n      <td>3 amb torre categoria estrenar cochera pileta ...</td>\n      <td>codigo 5598-vd015 ubicado 3 febrero 2800 publi...</td>\n      <td>Departamento</td>\n      <td>Venta</td>\n    </tr>\n    <tr>\n      <th>4</th>\n      <td>103</td>\n      <td>Propiedad</td>\n      <td>-34.603990</td>\n      <td>-58.412370</td>\n      <td>Argentina</td>\n      <td>Ciudad Autonoma de Buenos Aires</td>\n      <td>Almagro</td>\n      <td>None</td>\n      <td>1.0</td>\n      <td>NaN</td>\n      <td>1.0</td>\n      <td>28.0</td>\n      <td>28.0</td>\n      <td>98000.0</td>\n      <td>USD</td>\n      <td>departamento 1 ambiente venta almagro</td>\n      <td>excelente monoambiente contrafrente 28 m2 much...</td>\n      <td>Departamento</td>\n      <td>Venta</td>\n    </tr>\n  </tbody>\n</table>\n</div>"
     },
     "execution_count": 229,
     "metadata": {},
     "output_type": "execute_result"
    }
   ],
   "source": [
    "df_train.head()"
   ],
   "metadata": {
    "collapsed": false,
    "ExecuteTime": {
     "end_time": "2023-06-17T21:47:33.232918Z",
     "start_time": "2023-06-17T21:47:33.227896Z"
    }
   }
  },
  {
   "cell_type": "code",
   "execution_count": 230,
   "outputs": [
    {
     "data": {
      "text/plain": "       id    ad_type        lat        lon    country  \\\n0  556713  Propiedad -34.573623 -58.442399  Argentina   \n1  192912  Propiedad -34.606620 -58.430493  Argentina   \n2  238224  Propiedad -34.574123 -58.491760  Argentina   \n3  257134  Propiedad -34.631770 -58.420737  Argentina   \n4  521738  Propiedad -34.607225 -58.429983  Argentina   \n\n                          province         suburb published_suburb  rooms  \\\n0  Ciudad Autonoma de Buenos Aires     Colegiales             None    3.0   \n1  Ciudad Autonoma de Buenos Aires        Almagro             None    3.0   \n2  Ciudad Autonoma de Buenos Aires  Villa Urquiza             None    2.0   \n3  Ciudad Autonoma de Buenos Aires          Boedo             None    2.0   \n4  Ciudad Autonoma de Buenos Aires        Almagro             None    3.0   \n\n   bedrooms  bathrooms  surface_total  surface_covered  price currency  \\\n0       2.0        2.0            NaN              NaN    NaN      USD   \n1       2.0        2.0           77.0             67.0    NaN      USD   \n2       NaN        1.0           60.0             55.0    NaN      USD   \n3       1.0        1.0           74.0             47.0    NaN      USD   \n4       2.0        1.0           66.0             64.0    NaN      USD   \n\n                                         title  \\\n0  departamento venta belgrano capital federal   \n1       departamento 3 ambientes venta almagro   \n2      andonaegui 2600 4deg departamento venta   \n3                                                \n4   venta 3 ambientes almagro balcon amenities   \n\n                                         description property_type  \\\n0  sup escritura 96.47 m2 cubiertos 61 m2 descubi...  Departamento   \n1  excelente departamento ambientes amplio modern...  Departamento   \n2  excelente 3 ambientes frente balcon vista abie...  Departamento   \n3  corredor responsable marcelo trujillo cpi 6470...            PH   \n4  corredor responsable marcelo trujillo cucicba ...  Departamento   \n\n  operation_type  \n0          Venta  \n1          Venta  \n2          Venta  \n3          Venta  \n4          Venta  ",
      "text/html": "<div>\n<style scoped>\n    .dataframe tbody tr th:only-of-type {\n        vertical-align: middle;\n    }\n\n    .dataframe tbody tr th {\n        vertical-align: top;\n    }\n\n    .dataframe thead th {\n        text-align: right;\n    }\n</style>\n<table border=\"1\" class=\"dataframe\">\n  <thead>\n    <tr style=\"text-align: right;\">\n      <th></th>\n      <th>id</th>\n      <th>ad_type</th>\n      <th>lat</th>\n      <th>lon</th>\n      <th>country</th>\n      <th>province</th>\n      <th>suburb</th>\n      <th>published_suburb</th>\n      <th>rooms</th>\n      <th>bedrooms</th>\n      <th>bathrooms</th>\n      <th>surface_total</th>\n      <th>surface_covered</th>\n      <th>price</th>\n      <th>currency</th>\n      <th>title</th>\n      <th>description</th>\n      <th>property_type</th>\n      <th>operation_type</th>\n    </tr>\n  </thead>\n  <tbody>\n    <tr>\n      <th>0</th>\n      <td>556713</td>\n      <td>Propiedad</td>\n      <td>-34.573623</td>\n      <td>-58.442399</td>\n      <td>Argentina</td>\n      <td>Ciudad Autonoma de Buenos Aires</td>\n      <td>Colegiales</td>\n      <td>None</td>\n      <td>3.0</td>\n      <td>2.0</td>\n      <td>2.0</td>\n      <td>NaN</td>\n      <td>NaN</td>\n      <td>NaN</td>\n      <td>USD</td>\n      <td>departamento venta belgrano capital federal</td>\n      <td>sup escritura 96.47 m2 cubiertos 61 m2 descubi...</td>\n      <td>Departamento</td>\n      <td>Venta</td>\n    </tr>\n    <tr>\n      <th>1</th>\n      <td>192912</td>\n      <td>Propiedad</td>\n      <td>-34.606620</td>\n      <td>-58.430493</td>\n      <td>Argentina</td>\n      <td>Ciudad Autonoma de Buenos Aires</td>\n      <td>Almagro</td>\n      <td>None</td>\n      <td>3.0</td>\n      <td>2.0</td>\n      <td>2.0</td>\n      <td>77.0</td>\n      <td>67.0</td>\n      <td>NaN</td>\n      <td>USD</td>\n      <td>departamento 3 ambientes venta almagro</td>\n      <td>excelente departamento ambientes amplio modern...</td>\n      <td>Departamento</td>\n      <td>Venta</td>\n    </tr>\n    <tr>\n      <th>2</th>\n      <td>238224</td>\n      <td>Propiedad</td>\n      <td>-34.574123</td>\n      <td>-58.491760</td>\n      <td>Argentina</td>\n      <td>Ciudad Autonoma de Buenos Aires</td>\n      <td>Villa Urquiza</td>\n      <td>None</td>\n      <td>2.0</td>\n      <td>NaN</td>\n      <td>1.0</td>\n      <td>60.0</td>\n      <td>55.0</td>\n      <td>NaN</td>\n      <td>USD</td>\n      <td>andonaegui 2600 4deg departamento venta</td>\n      <td>excelente 3 ambientes frente balcon vista abie...</td>\n      <td>Departamento</td>\n      <td>Venta</td>\n    </tr>\n    <tr>\n      <th>3</th>\n      <td>257134</td>\n      <td>Propiedad</td>\n      <td>-34.631770</td>\n      <td>-58.420737</td>\n      <td>Argentina</td>\n      <td>Ciudad Autonoma de Buenos Aires</td>\n      <td>Boedo</td>\n      <td>None</td>\n      <td>2.0</td>\n      <td>1.0</td>\n      <td>1.0</td>\n      <td>74.0</td>\n      <td>47.0</td>\n      <td>NaN</td>\n      <td>USD</td>\n      <td></td>\n      <td>corredor responsable marcelo trujillo cpi 6470...</td>\n      <td>PH</td>\n      <td>Venta</td>\n    </tr>\n    <tr>\n      <th>4</th>\n      <td>521738</td>\n      <td>Propiedad</td>\n      <td>-34.607225</td>\n      <td>-58.429983</td>\n      <td>Argentina</td>\n      <td>Ciudad Autonoma de Buenos Aires</td>\n      <td>Almagro</td>\n      <td>None</td>\n      <td>3.0</td>\n      <td>2.0</td>\n      <td>1.0</td>\n      <td>66.0</td>\n      <td>64.0</td>\n      <td>NaN</td>\n      <td>USD</td>\n      <td>venta 3 ambientes almagro balcon amenities</td>\n      <td>corredor responsable marcelo trujillo cucicba ...</td>\n      <td>Departamento</td>\n      <td>Venta</td>\n    </tr>\n  </tbody>\n</table>\n</div>"
     },
     "execution_count": 230,
     "metadata": {},
     "output_type": "execute_result"
    }
   ],
   "source": [
    "df_test.head()"
   ],
   "metadata": {
    "collapsed": false,
    "ExecuteTime": {
     "end_time": "2023-06-17T21:47:34.544550Z",
     "start_time": "2023-06-17T21:47:34.526839Z"
    }
   }
  },
  {
   "cell_type": "code",
   "execution_count": 231,
   "outputs": [
    {
     "data": {
      "text/plain": "published_suburb    122726\nsurface_total        45232\nbedrooms             44388\nsurface_covered      43097\nlat                  11351\nlon                  11351\nrooms                10756\nbathrooms             6743\nsuburb                5416\ncurrency                 0\nproperty_type            0\ndescription              0\ntitle                    0\nid                       0\nprice                    0\nad_type                  0\nprovince                 0\ncountry                  0\noperation_type           0\ndtype: int64"
     },
     "execution_count": 231,
     "metadata": {},
     "output_type": "execute_result"
    }
   ],
   "source": [
    "df_train.isna().sum().sort_values(ascending=False)"
   ],
   "metadata": {
    "collapsed": false,
    "ExecuteTime": {
     "end_time": "2023-06-17T21:47:36.650159Z",
     "start_time": "2023-06-17T21:47:36.645646Z"
    }
   }
  },
  {
   "cell_type": "code",
   "execution_count": 232,
   "outputs": [
    {
     "data": {
      "text/plain": "price               6000\npublished_suburb    5541\nsurface_total       1226\nsurface_covered     1121\nbedrooms            1068\nlat                  456\nlon                  456\nbathrooms            218\nsuburb               211\nproperty_type          0\ndescription            0\ntitle                  0\ncurrency               0\nid                     0\nad_type                0\nrooms                  0\nprovince               0\ncountry                0\noperation_type         0\ndtype: int64"
     },
     "execution_count": 232,
     "metadata": {},
     "output_type": "execute_result"
    }
   ],
   "source": [
    "df_test.isna().sum().sort_values(ascending=False)"
   ],
   "metadata": {
    "collapsed": false,
    "ExecuteTime": {
     "end_time": "2023-06-17T21:47:39.540131Z",
     "start_time": "2023-06-17T21:47:39.528404Z"
    }
   }
  },
  {
   "cell_type": "code",
   "execution_count": 233,
   "outputs": [
    {
     "data": {
      "text/plain": "lat         lon       \n-34.579326  -58.455819    31\n-34.597256  -58.445498    22\n-34.588007  -58.420122    16\n-34.608248  -58.421008    15\n-34.604387  -58.451789    15\n                          ..\n-34.612419  -58.430260     1\n-34.612398  -58.406936     1\n-34.612385  -58.430173     1\n-34.612369  -58.394605     1\n-27.358836  -55.930703     1\nName: count, Length: 4166, dtype: int64"
     },
     "execution_count": 233,
     "metadata": {},
     "output_type": "execute_result"
    }
   ],
   "source": [
    "df_test[[\"lat\", \"lon\"]].value_counts()"
   ],
   "metadata": {
    "collapsed": false,
    "ExecuteTime": {
     "end_time": "2023-06-17T21:47:43.175459Z",
     "start_time": "2023-06-17T21:47:43.164026Z"
    }
   }
  },
  {
   "cell_type": "code",
   "execution_count": 234,
   "outputs": [
    {
     "data": {
      "text/plain": "lat         lon       \n-34.579326  -58.455819    978\n-34.608248  -58.421008    618\n-34.593371  -58.442232    324\n-34.589767  -58.420728    293\n-34.598219  -58.430038    285\n                         ... \n-34.625542  -58.371130      1\n            -58.372278      1\n-34.625538  -58.467232      1\n            -58.431370      1\n-24.185786  -65.299477      1\nName: count, Length: 53330, dtype: int64"
     },
     "execution_count": 234,
     "metadata": {},
     "output_type": "execute_result"
    }
   ],
   "source": [
    "df_train[[\"lat\", \"lon\"]].value_counts()"
   ],
   "metadata": {
    "collapsed": false,
    "ExecuteTime": {
     "end_time": "2023-06-17T21:47:44.868891Z",
     "start_time": "2023-06-17T21:47:44.823141Z"
    }
   }
  },
  {
   "cell_type": "markdown",
   "source": [
    "## Imputing"
   ],
   "metadata": {
    "collapsed": false
   }
  },
  {
   "cell_type": "code",
   "execution_count": 3,
   "outputs": [],
   "source": [
    "df_train = pd.read_parquet(\"../data/interim/df_train.parquet\", engine=\"pyarrow\")\n",
    "df_test = pd.read_parquet(\"../data/interim/df_test.parquet\", engine=\"pyarrow\")"
   ],
   "metadata": {
    "collapsed": false,
    "ExecuteTime": {
     "end_time": "2023-06-17T22:29:03.179722Z",
     "start_time": "2023-06-17T22:29:02.986441Z"
    }
   }
  },
  {
   "cell_type": "code",
   "execution_count": 4,
   "outputs": [],
   "source": [
    "df_train.to_parquet(\"../data/interim/df_train_impute.parquet\", engine=\"pyarrow\")\n",
    "df_test.to_parquet(\"../data/interim/df_test_impute.parquet\", engine=\"pyarrow\")"
   ],
   "metadata": {
    "collapsed": false,
    "ExecuteTime": {
     "end_time": "2023-06-17T22:29:05.290193Z",
     "start_time": "2023-06-17T22:29:05.258135Z"
    }
   }
  },
  {
   "cell_type": "code",
   "execution_count": 5,
   "outputs": [
    {
     "data": {
      "text/plain": "    id    ad_type        lat        lon    country  \\\n0    5  Propiedad -34.663334 -58.486344  Argentina   \n1   98  Propiedad -34.603990 -58.412370  Argentina   \n2  100  Propiedad -34.691785 -58.406821  Argentina   \n3  101  Propiedad -34.553008 -58.457528  Argentina   \n4  103  Propiedad -34.603990 -58.412370  Argentina   \n\n                          province     suburb published_suburb  rooms  \\\n0  Ciudad Autonoma de Buenos Aires  Mataderos        Mataderos    NaN   \n1  Ciudad Autonoma de Buenos Aires     Abasto           Abasto    1.0   \n2                     Buenos Aires      Lanús      Lanús Oeste    1.0   \n3  Ciudad Autonoma de Buenos Aires      Nuñez            Nuñez    3.0   \n4  Ciudad Autonoma de Buenos Aires    Almagro          Almagro    1.0   \n\n   bedrooms  bathrooms  surface_total  surface_covered     price currency  \\\n0       NaN        NaN           87.0             87.0   75000.0      USD   \n1       1.0        1.0           28.0             28.0   98000.0      USD   \n2       1.0        1.0           36.0             36.0   67000.0      USD   \n3       2.0        2.0           74.0             74.0  335000.0      USD   \n4       1.0        1.0           28.0             28.0   98000.0      USD   \n\n                                               title  \\\n0                          venta ph 3 ambientes caba   \n1               departamento 1 ambiente venta abasto   \n2  amplio monoambiente divisible venta lanus cana...   \n3  3 amb torre categoria estrenar cochera pileta ...   \n4              departamento 1 ambiente venta almagro   \n\n                                         description property_type  \\\n0  codigo 2417-larraya 2700 caba ubicado larraya ...            PH   \n1  excelente monoambiente contrafrente 28 m2 much...  Departamento   \n2  excelente ubicacion mts av coronel d'elia 200 ...  Departamento   \n3  codigo 5598-vd015 ubicado 3 febrero 2800 publi...  Departamento   \n4  excelente monoambiente contrafrente 28 m2 much...  Departamento   \n\n  operation_type  \n0          Venta  \n1          Venta  \n2          Venta  \n3          Venta  \n4          Venta  ",
      "text/html": "<div>\n<style scoped>\n    .dataframe tbody tr th:only-of-type {\n        vertical-align: middle;\n    }\n\n    .dataframe tbody tr th {\n        vertical-align: top;\n    }\n\n    .dataframe thead th {\n        text-align: right;\n    }\n</style>\n<table border=\"1\" class=\"dataframe\">\n  <thead>\n    <tr style=\"text-align: right;\">\n      <th></th>\n      <th>id</th>\n      <th>ad_type</th>\n      <th>lat</th>\n      <th>lon</th>\n      <th>country</th>\n      <th>province</th>\n      <th>suburb</th>\n      <th>published_suburb</th>\n      <th>rooms</th>\n      <th>bedrooms</th>\n      <th>bathrooms</th>\n      <th>surface_total</th>\n      <th>surface_covered</th>\n      <th>price</th>\n      <th>currency</th>\n      <th>title</th>\n      <th>description</th>\n      <th>property_type</th>\n      <th>operation_type</th>\n    </tr>\n  </thead>\n  <tbody>\n    <tr>\n      <th>0</th>\n      <td>5</td>\n      <td>Propiedad</td>\n      <td>-34.663334</td>\n      <td>-58.486344</td>\n      <td>Argentina</td>\n      <td>Ciudad Autonoma de Buenos Aires</td>\n      <td>Mataderos</td>\n      <td>Mataderos</td>\n      <td>NaN</td>\n      <td>NaN</td>\n      <td>NaN</td>\n      <td>87.0</td>\n      <td>87.0</td>\n      <td>75000.0</td>\n      <td>USD</td>\n      <td>venta ph 3 ambientes caba</td>\n      <td>codigo 2417-larraya 2700 caba ubicado larraya ...</td>\n      <td>PH</td>\n      <td>Venta</td>\n    </tr>\n    <tr>\n      <th>1</th>\n      <td>98</td>\n      <td>Propiedad</td>\n      <td>-34.603990</td>\n      <td>-58.412370</td>\n      <td>Argentina</td>\n      <td>Ciudad Autonoma de Buenos Aires</td>\n      <td>Abasto</td>\n      <td>Abasto</td>\n      <td>1.0</td>\n      <td>1.0</td>\n      <td>1.0</td>\n      <td>28.0</td>\n      <td>28.0</td>\n      <td>98000.0</td>\n      <td>USD</td>\n      <td>departamento 1 ambiente venta abasto</td>\n      <td>excelente monoambiente contrafrente 28 m2 much...</td>\n      <td>Departamento</td>\n      <td>Venta</td>\n    </tr>\n    <tr>\n      <th>2</th>\n      <td>100</td>\n      <td>Propiedad</td>\n      <td>-34.691785</td>\n      <td>-58.406821</td>\n      <td>Argentina</td>\n      <td>Buenos Aires</td>\n      <td>Lanús</td>\n      <td>Lanús Oeste</td>\n      <td>1.0</td>\n      <td>1.0</td>\n      <td>1.0</td>\n      <td>36.0</td>\n      <td>36.0</td>\n      <td>67000.0</td>\n      <td>USD</td>\n      <td>amplio monoambiente divisible venta lanus cana...</td>\n      <td>excelente ubicacion mts av coronel d'elia 200 ...</td>\n      <td>Departamento</td>\n      <td>Venta</td>\n    </tr>\n    <tr>\n      <th>3</th>\n      <td>101</td>\n      <td>Propiedad</td>\n      <td>-34.553008</td>\n      <td>-58.457528</td>\n      <td>Argentina</td>\n      <td>Ciudad Autonoma de Buenos Aires</td>\n      <td>Nuñez</td>\n      <td>Nuñez</td>\n      <td>3.0</td>\n      <td>2.0</td>\n      <td>2.0</td>\n      <td>74.0</td>\n      <td>74.0</td>\n      <td>335000.0</td>\n      <td>USD</td>\n      <td>3 amb torre categoria estrenar cochera pileta ...</td>\n      <td>codigo 5598-vd015 ubicado 3 febrero 2800 publi...</td>\n      <td>Departamento</td>\n      <td>Venta</td>\n    </tr>\n    <tr>\n      <th>4</th>\n      <td>103</td>\n      <td>Propiedad</td>\n      <td>-34.603990</td>\n      <td>-58.412370</td>\n      <td>Argentina</td>\n      <td>Ciudad Autonoma de Buenos Aires</td>\n      <td>Almagro</td>\n      <td>Almagro</td>\n      <td>1.0</td>\n      <td>1.0</td>\n      <td>1.0</td>\n      <td>28.0</td>\n      <td>28.0</td>\n      <td>98000.0</td>\n      <td>USD</td>\n      <td>departamento 1 ambiente venta almagro</td>\n      <td>excelente monoambiente contrafrente 28 m2 much...</td>\n      <td>Departamento</td>\n      <td>Venta</td>\n    </tr>\n  </tbody>\n</table>\n</div>"
     },
     "execution_count": 5,
     "metadata": {},
     "output_type": "execute_result"
    }
   ],
   "source": [
    "# df_train[\"price\"] = df_train[\"price\"].map(lambda x: x if x > 10000 else np.nan)\n",
    "\n",
    "df_train = df_train[df_train[\"price\"] > 10000]"
   ],
   "metadata": {
    "collapsed": false,
    "ExecuteTime": {
     "end_time": "2023-06-17T22:29:06.203637Z",
     "start_time": "2023-06-17T22:29:06.191739Z"
    }
   }
  },
  {
   "cell_type": "code",
   "execution_count": 6,
   "outputs": [
    {
     "data": {
      "text/plain": "       id    ad_type        lat        lon    country  \\\n0  556713  Propiedad -34.573623 -58.442399  Argentina   \n1  192912  Propiedad -34.606620 -58.430493  Argentina   \n2  238224  Propiedad -34.574123 -58.491760  Argentina   \n3  257134  Propiedad -34.631770 -58.420737  Argentina   \n4  521738  Propiedad -34.607225 -58.429983  Argentina   \n\n                          province         suburb published_suburb  rooms  \\\n0  Ciudad Autonoma de Buenos Aires     Colegiales       Colegiales    3.0   \n1  Ciudad Autonoma de Buenos Aires        Almagro          Almagro    3.0   \n2  Ciudad Autonoma de Buenos Aires  Villa Urquiza    Villa Urquiza    2.0   \n3  Ciudad Autonoma de Buenos Aires          Boedo            Boedo    2.0   \n4  Ciudad Autonoma de Buenos Aires        Almagro          Almagro    3.0   \n\n   bedrooms  bathrooms  surface_total  surface_covered  price currency  \\\n0       2.0        2.0          96.47             61.0    NaN      USD   \n1       2.0        2.0          77.00             67.0    NaN      USD   \n2       1.0        1.0          60.00             55.0    NaN      USD   \n3       1.0        1.0          74.00             47.0    NaN      USD   \n4       2.0        1.0          66.00             64.0    NaN      USD   \n\n                                         title  \\\n0  departamento venta belgrano capital federal   \n1       departamento 3 ambientes venta almagro   \n2      andonaegui 2600 4deg departamento venta   \n3                                                \n4   venta 3 ambientes almagro balcon amenities   \n\n                                         description property_type  \\\n0  sup escritura 96.47 m2 cubiertos 61 m2 descubi...  Departamento   \n1  excelente departamento ambientes amplio modern...  Departamento   \n2  excelente 3 ambientes frente balcon vista abie...  Departamento   \n3  corredor responsable marcelo trujillo cpi 6470...            PH   \n4  corredor responsable marcelo trujillo cucicba ...  Departamento   \n\n  operation_type  \n0          Venta  \n1          Venta  \n2          Venta  \n3          Venta  \n4          Venta  ",
      "text/html": "<div>\n<style scoped>\n    .dataframe tbody tr th:only-of-type {\n        vertical-align: middle;\n    }\n\n    .dataframe tbody tr th {\n        vertical-align: top;\n    }\n\n    .dataframe thead th {\n        text-align: right;\n    }\n</style>\n<table border=\"1\" class=\"dataframe\">\n  <thead>\n    <tr style=\"text-align: right;\">\n      <th></th>\n      <th>id</th>\n      <th>ad_type</th>\n      <th>lat</th>\n      <th>lon</th>\n      <th>country</th>\n      <th>province</th>\n      <th>suburb</th>\n      <th>published_suburb</th>\n      <th>rooms</th>\n      <th>bedrooms</th>\n      <th>bathrooms</th>\n      <th>surface_total</th>\n      <th>surface_covered</th>\n      <th>price</th>\n      <th>currency</th>\n      <th>title</th>\n      <th>description</th>\n      <th>property_type</th>\n      <th>operation_type</th>\n    </tr>\n  </thead>\n  <tbody>\n    <tr>\n      <th>0</th>\n      <td>556713</td>\n      <td>Propiedad</td>\n      <td>-34.573623</td>\n      <td>-58.442399</td>\n      <td>Argentina</td>\n      <td>Ciudad Autonoma de Buenos Aires</td>\n      <td>Colegiales</td>\n      <td>Colegiales</td>\n      <td>3.0</td>\n      <td>2.0</td>\n      <td>2.0</td>\n      <td>96.47</td>\n      <td>61.0</td>\n      <td>NaN</td>\n      <td>USD</td>\n      <td>departamento venta belgrano capital federal</td>\n      <td>sup escritura 96.47 m2 cubiertos 61 m2 descubi...</td>\n      <td>Departamento</td>\n      <td>Venta</td>\n    </tr>\n    <tr>\n      <th>1</th>\n      <td>192912</td>\n      <td>Propiedad</td>\n      <td>-34.606620</td>\n      <td>-58.430493</td>\n      <td>Argentina</td>\n      <td>Ciudad Autonoma de Buenos Aires</td>\n      <td>Almagro</td>\n      <td>Almagro</td>\n      <td>3.0</td>\n      <td>2.0</td>\n      <td>2.0</td>\n      <td>77.00</td>\n      <td>67.0</td>\n      <td>NaN</td>\n      <td>USD</td>\n      <td>departamento 3 ambientes venta almagro</td>\n      <td>excelente departamento ambientes amplio modern...</td>\n      <td>Departamento</td>\n      <td>Venta</td>\n    </tr>\n    <tr>\n      <th>2</th>\n      <td>238224</td>\n      <td>Propiedad</td>\n      <td>-34.574123</td>\n      <td>-58.491760</td>\n      <td>Argentina</td>\n      <td>Ciudad Autonoma de Buenos Aires</td>\n      <td>Villa Urquiza</td>\n      <td>Villa Urquiza</td>\n      <td>2.0</td>\n      <td>1.0</td>\n      <td>1.0</td>\n      <td>60.00</td>\n      <td>55.0</td>\n      <td>NaN</td>\n      <td>USD</td>\n      <td>andonaegui 2600 4deg departamento venta</td>\n      <td>excelente 3 ambientes frente balcon vista abie...</td>\n      <td>Departamento</td>\n      <td>Venta</td>\n    </tr>\n    <tr>\n      <th>3</th>\n      <td>257134</td>\n      <td>Propiedad</td>\n      <td>-34.631770</td>\n      <td>-58.420737</td>\n      <td>Argentina</td>\n      <td>Ciudad Autonoma de Buenos Aires</td>\n      <td>Boedo</td>\n      <td>Boedo</td>\n      <td>2.0</td>\n      <td>1.0</td>\n      <td>1.0</td>\n      <td>74.00</td>\n      <td>47.0</td>\n      <td>NaN</td>\n      <td>USD</td>\n      <td></td>\n      <td>corredor responsable marcelo trujillo cpi 6470...</td>\n      <td>PH</td>\n      <td>Venta</td>\n    </tr>\n    <tr>\n      <th>4</th>\n      <td>521738</td>\n      <td>Propiedad</td>\n      <td>-34.607225</td>\n      <td>-58.429983</td>\n      <td>Argentina</td>\n      <td>Ciudad Autonoma de Buenos Aires</td>\n      <td>Almagro</td>\n      <td>Almagro</td>\n      <td>3.0</td>\n      <td>2.0</td>\n      <td>1.0</td>\n      <td>66.00</td>\n      <td>64.0</td>\n      <td>NaN</td>\n      <td>USD</td>\n      <td>venta 3 ambientes almagro balcon amenities</td>\n      <td>corredor responsable marcelo trujillo cucicba ...</td>\n      <td>Departamento</td>\n      <td>Venta</td>\n    </tr>\n  </tbody>\n</table>\n</div>"
     },
     "execution_count": 6,
     "metadata": {},
     "output_type": "execute_result"
    }
   ],
   "source": [
    "df_train.head()"
   ],
   "metadata": {
    "collapsed": false,
    "ExecuteTime": {
     "end_time": "2023-06-17T22:29:07.794823Z",
     "start_time": "2023-06-17T22:29:07.789323Z"
    }
   }
  },
  {
   "cell_type": "code",
   "execution_count": 7,
   "outputs": [
    {
     "data": {
      "text/plain": "lat                 11336\nlon                 11336\nsuburb               4099\npublished_suburb     4099\nrooms                3445\nbedrooms             3099\nsurface_total        1580\nsurface_covered      1580\nbathrooms             628\ncurrency                0\nproperty_type           0\ndescription             0\ntitle                   0\nid                      0\nprice                   0\nad_type                 0\nprovince                0\ncountry                 0\noperation_type          0\ndtype: int64"
     },
     "execution_count": 7,
     "metadata": {},
     "output_type": "execute_result"
    }
   ],
   "source": [
    "df_test.head()"
   ],
   "metadata": {
    "collapsed": false,
    "ExecuteTime": {
     "end_time": "2023-06-17T22:29:09.412813Z",
     "start_time": "2023-06-17T22:29:09.406150Z"
    }
   }
  },
  {
   "cell_type": "code",
   "execution_count": 8,
   "outputs": [
    {
     "data": {
      "text/plain": "price               6000\nlat                  456\nlon                  456\nsuburb               161\npublished_suburb     161\nid                     0\nsurface_covered        0\nproperty_type          0\ndescription            0\ntitle                  0\ncurrency               0\nbedrooms               0\nsurface_total          0\nbathrooms              0\nad_type                0\nrooms                  0\nprovince               0\ncountry                0\noperation_type         0\ndtype: int64"
     },
     "execution_count": 8,
     "metadata": {},
     "output_type": "execute_result"
    }
   ],
   "source": [
    "df_train.isna().sum().sort_values(ascending=False)"
   ],
   "metadata": {
    "collapsed": false,
    "ExecuteTime": {
     "end_time": "2023-06-17T22:29:11.331875Z",
     "start_time": "2023-06-17T22:29:11.326582Z"
    }
   }
  },
  {
   "cell_type": "code",
   "execution_count": 12,
   "outputs": [],
   "source": [
    "df_test.isna().sum().sort_values(ascending=False)"
   ],
   "metadata": {
    "collapsed": false,
    "ExecuteTime": {
     "end_time": "2023-06-17T22:29:29.485745Z",
     "start_time": "2023-06-17T22:29:29.409911Z"
    }
   }
  },
  {
   "cell_type": "code",
   "execution_count": 13,
   "outputs": [],
   "source": [
    "# mask = df_train[\"price\"].isna()\n",
    "# df_train.loc[mask, \"price\"] = df_train.loc[mask, \"title\"].apply(search_price)"
   ],
   "metadata": {
    "collapsed": false,
    "ExecuteTime": {
     "end_time": "2023-06-17T22:29:31.509173Z",
     "start_time": "2023-06-17T22:29:31.498584Z"
    }
   }
  },
  {
   "cell_type": "code",
   "execution_count": 14,
   "outputs": [],
   "source": [
    "# mask = df_train[\"price\"].isna()\n",
    "# df_train.loc[mask, \"price\"] = df_train.loc[mask, \"description\"].apply(search_price)"
   ],
   "metadata": {
    "collapsed": false,
    "ExecuteTime": {
     "end_time": "2023-06-17T22:29:32.009965Z",
     "start_time": "2023-06-17T22:29:32.007342Z"
    }
   }
  },
  {
   "cell_type": "code",
   "execution_count": 15,
   "outputs": [],
   "source": [
    "df_train.isna().sum().sort_values(ascending=False)"
   ],
   "metadata": {
    "collapsed": false,
    "ExecuteTime": {
     "end_time": "2023-06-17T22:29:32.473828Z",
     "start_time": "2023-06-17T22:29:32.464889Z"
    }
   }
  },
  {
   "cell_type": "code",
   "execution_count": 16,
   "outputs": [],
   "source": [
    "from sklearn.impute import KNNImputer\n",
    "from sklearn.preprocessing import LabelEncoder"
   ],
   "metadata": {
    "collapsed": false,
    "ExecuteTime": {
     "end_time": "2023-06-17T22:29:34.240465Z",
     "start_time": "2023-06-17T22:29:34.196152Z"
    }
   }
  },
  {
   "cell_type": "code",
   "execution_count": 17,
   "outputs": [],
   "source": [
    "df_train = df_train[df_test.columns.tolist()]"
   ],
   "metadata": {
    "collapsed": false,
    "ExecuteTime": {
     "end_time": "2023-06-17T22:29:35.081593Z",
     "start_time": "2023-06-17T22:29:35.069626Z"
    }
   }
  },
  {
   "cell_type": "code",
   "execution_count": 18,
   "outputs": [],
   "source": [
    "assert len(df_train.columns) == len(df_test.columns)"
   ],
   "metadata": {
    "collapsed": false,
    "ExecuteTime": {
     "end_time": "2023-06-17T22:29:36.380309Z",
     "start_time": "2023-06-17T22:29:36.106452Z"
    }
   }
  },
  {
   "cell_type": "code",
   "execution_count": 19,
   "outputs": [],
   "source": [
    "drop_cols = [\n",
    "    # \"lat\",\n",
    "    # \"lon\",\n",
    "    \"title\",\n",
    "    \"description\",\n",
    "    \"currency\",\n",
    "    \"country\",\n",
    "]\n",
    "dummy_cols = \"province suburb published_suburb\".split()\n",
    "drop_cols = drop_cols + dummy_cols"
   ],
   "metadata": {
    "collapsed": false,
    "ExecuteTime": {
     "end_time": "2023-06-17T22:29:37.012683Z",
     "start_time": "2023-06-17T22:29:37.009823Z"
    }
   }
  },
  {
   "cell_type": "code",
   "execution_count": 20,
   "outputs": [],
   "source": [
    "df_train[\"is_train\"] = True\n",
    "df_test[\"is_train\"] = False\n",
    "\n",
    "df = pd.concat([df_train, df_test], axis=0)\n",
    "\n",
    "df['suburb_is_published'] = df['suburb'] == df['published_suburb']"
   ],
   "metadata": {
    "collapsed": false,
    "ExecuteTime": {
     "end_time": "2023-06-17T22:29:37.679313Z",
     "start_time": "2023-06-17T22:29:37.598649Z"
    }
   }
  },
  {
   "cell_type": "code",
   "execution_count": 21,
   "outputs": [],
   "source": [
    "le = LabelEncoder()\n",
    "columnsToEncode = [\"ad_type\", \"property_type\", \"operation_type\"]\n",
    "for feature in columnsToEncode:\n",
    "    df[feature] = le.fit_transform(df[feature])"
   ],
   "metadata": {
    "collapsed": false,
    "ExecuteTime": {
     "end_time": "2023-06-17T22:29:38.291950Z",
     "start_time": "2023-06-17T22:29:38.275712Z"
    }
   }
  },
  {
   "cell_type": "code",
   "execution_count": 22,
   "outputs": [],
   "source": [
    "df = pd.concat([df, pd.get_dummies(df[dummy_cols])], axis=1)\n",
    "df = df.reset_index(drop=True)"
   ],
   "metadata": {
    "collapsed": false,
    "ExecuteTime": {
     "end_time": "2023-06-17T22:29:39.508753Z",
     "start_time": "2023-06-17T22:29:39.037277Z"
    }
   }
  },
  {
   "cell_type": "code",
   "execution_count": 23,
   "outputs": [],
   "source": [
    "df = df.drop(drop_cols, axis=1)"
   ],
   "metadata": {
    "collapsed": false,
    "ExecuteTime": {
     "end_time": "2023-06-17T22:29:40.170772Z",
     "start_time": "2023-06-17T22:29:40.161258Z"
    }
   }
  },
  {
   "cell_type": "code",
   "execution_count": 24,
   "outputs": [],
   "source": [
    "df_train = df[df[\"is_train\"]].drop(\"is_train\", axis=1)\n",
    "df_test = df[~df[\"is_train\"]].drop(\"is_train\", axis=1)"
   ],
   "metadata": {
    "collapsed": false,
    "ExecuteTime": {
     "end_time": "2023-06-17T22:29:41.031914Z",
     "start_time": "2023-06-17T22:29:41.026381Z"
    }
   }
  },
  {
   "cell_type": "code",
   "execution_count": 25,
   "outputs": [],
   "source": [
    "df_train = df_train.reset_index(drop=True)\n",
    "df_test = df_test.reset_index(drop=True)"
   ],
   "metadata": {
    "collapsed": false,
    "ExecuteTime": {
     "end_time": "2023-06-17T22:29:41.782073Z",
     "start_time": "2023-06-17T22:29:41.768508Z"
    }
   }
  },
  {
   "cell_type": "code",
   "execution_count": 26,
   "outputs": [
    {
     "data": {
      "text/plain": "KNNImputer(n_neighbors=3)",
      "text/html": "<style>#sk-container-id-1 {color: black;background-color: white;}#sk-container-id-1 pre{padding: 0;}#sk-container-id-1 div.sk-toggleable {background-color: white;}#sk-container-id-1 label.sk-toggleable__label {cursor: pointer;display: block;width: 100%;margin-bottom: 0;padding: 0.3em;box-sizing: border-box;text-align: center;}#sk-container-id-1 label.sk-toggleable__label-arrow:before {content: \"▸\";float: left;margin-right: 0.25em;color: #696969;}#sk-container-id-1 label.sk-toggleable__label-arrow:hover:before {color: black;}#sk-container-id-1 div.sk-estimator:hover label.sk-toggleable__label-arrow:before {color: black;}#sk-container-id-1 div.sk-toggleable__content {max-height: 0;max-width: 0;overflow: hidden;text-align: left;background-color: #f0f8ff;}#sk-container-id-1 div.sk-toggleable__content pre {margin: 0.2em;color: black;border-radius: 0.25em;background-color: #f0f8ff;}#sk-container-id-1 input.sk-toggleable__control:checked~div.sk-toggleable__content {max-height: 200px;max-width: 100%;overflow: auto;}#sk-container-id-1 input.sk-toggleable__control:checked~label.sk-toggleable__label-arrow:before {content: \"▾\";}#sk-container-id-1 div.sk-estimator input.sk-toggleable__control:checked~label.sk-toggleable__label {background-color: #d4ebff;}#sk-container-id-1 div.sk-label input.sk-toggleable__control:checked~label.sk-toggleable__label {background-color: #d4ebff;}#sk-container-id-1 input.sk-hidden--visually {border: 0;clip: rect(1px 1px 1px 1px);clip: rect(1px, 1px, 1px, 1px);height: 1px;margin: -1px;overflow: hidden;padding: 0;position: absolute;width: 1px;}#sk-container-id-1 div.sk-estimator {font-family: monospace;background-color: #f0f8ff;border: 1px dotted black;border-radius: 0.25em;box-sizing: border-box;margin-bottom: 0.5em;}#sk-container-id-1 div.sk-estimator:hover {background-color: #d4ebff;}#sk-container-id-1 div.sk-parallel-item::after {content: \"\";width: 100%;border-bottom: 1px solid gray;flex-grow: 1;}#sk-container-id-1 div.sk-label:hover label.sk-toggleable__label {background-color: #d4ebff;}#sk-container-id-1 div.sk-serial::before {content: \"\";position: absolute;border-left: 1px solid gray;box-sizing: border-box;top: 0;bottom: 0;left: 50%;z-index: 0;}#sk-container-id-1 div.sk-serial {display: flex;flex-direction: column;align-items: center;background-color: white;padding-right: 0.2em;padding-left: 0.2em;position: relative;}#sk-container-id-1 div.sk-item {position: relative;z-index: 1;}#sk-container-id-1 div.sk-parallel {display: flex;align-items: stretch;justify-content: center;background-color: white;position: relative;}#sk-container-id-1 div.sk-item::before, #sk-container-id-1 div.sk-parallel-item::before {content: \"\";position: absolute;border-left: 1px solid gray;box-sizing: border-box;top: 0;bottom: 0;left: 50%;z-index: -1;}#sk-container-id-1 div.sk-parallel-item {display: flex;flex-direction: column;z-index: 1;position: relative;background-color: white;}#sk-container-id-1 div.sk-parallel-item:first-child::after {align-self: flex-end;width: 50%;}#sk-container-id-1 div.sk-parallel-item:last-child::after {align-self: flex-start;width: 50%;}#sk-container-id-1 div.sk-parallel-item:only-child::after {width: 0;}#sk-container-id-1 div.sk-dashed-wrapped {border: 1px dashed gray;margin: 0 0.4em 0.5em 0.4em;box-sizing: border-box;padding-bottom: 0.4em;background-color: white;}#sk-container-id-1 div.sk-label label {font-family: monospace;font-weight: bold;display: inline-block;line-height: 1.2em;}#sk-container-id-1 div.sk-label-container {text-align: center;}#sk-container-id-1 div.sk-container {/* jupyter's `normalize.less` sets `[hidden] { display: none; }` but bootstrap.min.css set `[hidden] { display: none !important; }` so we also need the `!important` here to be able to override the default hidden behavior on the sphinx rendered scikit-learn.org. See: https://github.com/scikit-learn/scikit-learn/issues/21755 */display: inline-block !important;position: relative;}#sk-container-id-1 div.sk-text-repr-fallback {display: none;}</style><div id=\"sk-container-id-1\" class=\"sk-top-container\"><div class=\"sk-text-repr-fallback\"><pre>KNNImputer(n_neighbors=3)</pre><b>In a Jupyter environment, please rerun this cell to show the HTML representation or trust the notebook. <br />On GitHub, the HTML representation is unable to render, please try loading this page with nbviewer.org.</b></div><div class=\"sk-container\" hidden><div class=\"sk-item\"><div class=\"sk-estimator sk-toggleable\"><input class=\"sk-toggleable__control sk-hidden--visually\" id=\"sk-estimator-id-1\" type=\"checkbox\" checked><label for=\"sk-estimator-id-1\" class=\"sk-toggleable__label sk-toggleable__label-arrow\">KNNImputer</label><div class=\"sk-toggleable__content\"><pre>KNNImputer(n_neighbors=3)</pre></div></div></div></div></div>"
     },
     "execution_count": 26,
     "metadata": {},
     "output_type": "execute_result"
    }
   ],
   "source": [
    "df_train = df_train.drop_duplicates(keep='last')\n",
    "df_train = df_train.reset_index(drop=True)"
   ],
   "metadata": {
    "collapsed": false,
    "ExecuteTime": {
     "end_time": "2023-06-17T22:29:42.885786Z",
     "start_time": "2023-06-17T22:29:42.802580Z"
    }
   }
  },
  {
   "cell_type": "code",
   "execution_count": 27,
   "outputs": [],
   "source": [
    "price_train = df_train[\"price\"]\n",
    "price_test = df_test[\"price\"]\n",
    "\n",
    "id_train = df_train[\"id\"]\n",
    "id_test = df_test[\"id\"]"
   ],
   "metadata": {
    "collapsed": false,
    "ExecuteTime": {
     "end_time": "2023-06-17T22:29:44.018953Z",
     "start_time": "2023-06-17T22:29:43.998778Z"
    }
   }
  },
  {
   "cell_type": "code",
   "execution_count": 28,
   "outputs": [],
   "source": [
    "df_train = df_train.drop([\"price\", \"id\"], axis=1)\n",
    "df_test = df_test.drop([\"price\", \"id\"], axis=1)"
   ],
   "metadata": {
    "collapsed": false,
    "ExecuteTime": {
     "end_time": "2023-06-17T22:29:47.248699Z",
     "start_time": "2023-06-17T22:29:45.076276Z"
    }
   }
  },
  {
   "cell_type": "code",
   "execution_count": 29,
   "outputs": [],
   "source": [
    "assert len(df_train.columns) == len(df_test.columns)"
   ],
   "metadata": {
    "collapsed": false,
    "ExecuteTime": {
     "end_time": "2023-06-17T22:30:33.536917Z",
     "start_time": "2023-06-17T22:29:47.249092Z"
    }
   }
  },
  {
   "cell_type": "code",
   "execution_count": 30,
   "outputs": [
    {
     "data": {
      "text/plain": "ad_type                                0\npublished_suburb_Godoy Cruz            0\npublished_suburb_General Levalle       0\npublished_suburb_General Paz           0\npublished_suburb_General San Martín    0\n                                      ..\nsuburb_República de la Sexta           0\nsuburb_Resistencia                     0\nsuburb_Retiro                          0\nsuburb_Rodeo del Medio                 0\nprice                                  0\nLength: 610, dtype: int64"
     },
     "execution_count": 30,
     "metadata": {},
     "output_type": "execute_result"
    }
   ],
   "source": [
    "imputer = KNNImputer(n_neighbors=3)\n",
    "imputer.fit(df_test)"
   ],
   "metadata": {
    "collapsed": false,
    "ExecuteTime": {
     "end_time": "2023-06-17T22:30:33.617650Z",
     "start_time": "2023-06-17T22:30:33.537414Z"
    }
   }
  },
  {
   "cell_type": "code",
   "execution_count": 31,
   "outputs": [
    {
     "data": {
      "text/plain": "price                                  6000\npublished_suburb_Godoy Cruz               0\npublished_suburb_General Levalle          0\npublished_suburb_General Paz              0\npublished_suburb_General San Martín       0\n                                       ... \nsuburb_República de la Sexta              0\nsuburb_Resistencia                        0\nsuburb_Retiro                             0\nsuburb_Rodeo del Medio                    0\npublished_suburb_Barrio Cumbres           0\nLength: 610, dtype: int64"
     },
     "execution_count": 31,
     "metadata": {},
     "output_type": "execute_result"
    }
   ],
   "source": [
    "assert len(df_train.columns) == len(df_test.columns)"
   ],
   "metadata": {
    "collapsed": false,
    "ExecuteTime": {
     "end_time": "2023-06-17T22:30:33.624828Z",
     "start_time": "2023-06-17T22:30:33.618340Z"
    }
   }
  },
  {
   "cell_type": "code",
   "execution_count": 36,
   "outputs": [
    {
     "data": {
      "text/plain": "        ad_type        lat        lon  rooms  bedrooms  bathrooms  \\\nid                                                                  \n5           0.0 -34.663334 -58.486344    3.0       2.0   1.333333   \n98          0.0 -34.603990 -58.412370    1.0       1.0   1.000000   \n100         0.0 -34.691785 -58.406821    1.0       1.0   1.000000   \n101         0.0 -34.553008 -58.457528    3.0       2.0   2.000000   \n103         0.0 -34.603990 -58.412370    1.0       1.0   1.000000   \n...         ...        ...        ...    ...       ...        ...   \n999903      0.0 -34.595001 -58.382999    4.0       3.0   4.000000   \n999953      0.0 -34.589703 -58.389826    4.0       3.0   5.000000   \n999954      0.0 -34.594358 -58.397430    5.0       5.0   5.000000   \n999989      0.0 -34.576273 -58.405182    6.0       5.0   5.000000   \n999991      0.0 -34.552132 -58.438501    6.0       5.0   5.000000   \n\n        surface_total  surface_covered  property_type  operation_type  ...  \\\nid                                                                     ...   \n5                87.0             87.0            1.0             0.0  ...   \n98               28.0             28.0            0.0             0.0  ...   \n100              36.0             36.0            0.0             0.0  ...   \n101              74.0             74.0            0.0             0.0  ...   \n103              28.0             28.0            0.0             0.0  ...   \n...               ...              ...            ...             ...  ...   \n999903          153.0            153.0            0.0             0.0  ...   \n999953          153.0            153.0            0.0             0.0  ...   \n999954          436.0            418.0            0.0             0.0  ...   \n999989          320.0            311.0            0.0             0.0  ...   \n999991          330.0            300.0            0.0             0.0  ...   \n\n        published_suburb_Villa Soldati  published_suburb_Villa Urquiza  \\\nid                                                                       \n5                                  0.0                             0.0   \n98                                 0.0                             0.0   \n100                                0.0                             0.0   \n101                                0.0                             0.0   \n103                                0.0                             0.0   \n...                                ...                             ...   \n999903                             0.0                             0.0   \n999953                             0.0                             0.0   \n999954                             0.0                             0.0   \n999989                             0.0                             0.0   \n999991                             0.0                             0.0   \n\n        published_suburb_Villa Vatteone  published_suburb_Villa del Parque  \\\nid                                                                           \n5                                   0.0                                0.0   \n98                                  0.0                                0.0   \n100                                 0.0                                0.0   \n101                                 0.0                                0.0   \n103                                 0.0                                0.0   \n...                                 ...                                ...   \n999903                              0.0                                0.0   \n999953                              0.0                                0.0   \n999954                              0.0                                0.0   \n999989                              0.0                                0.0   \n999991                              0.0                                0.0   \n\n        published_suburb_Wilde  published_suburb_Zona 3  \\\nid                                                        \n5                          0.0                      0.0   \n98                         0.0                      0.0   \n100                        0.0                      0.0   \n101                        0.0                      0.0   \n103                        0.0                      0.0   \n...                        ...                      ...   \n999903                     0.0                      0.0   \n999953                     0.0                      0.0   \n999954                     0.0                      0.0   \n999989                     0.0                      0.0   \n999991                     0.0                      0.0   \n\n        published_suburb_Zona 9  published_suburb_Águila      price  \\\nid                                                                    \n5                           0.0                      0.0    75000.0   \n98                          0.0                      0.0    98000.0   \n100                         0.0                      0.0    67000.0   \n101                         0.0                      0.0   335000.0   \n103                         0.0                      0.0    98000.0   \n...                         ...                      ...        ...   \n999903                      0.0                      0.0   335000.0   \n999953                      0.0                      0.0   550000.0   \n999954                      0.0                      0.0   950000.0   \n999989                      0.0                      0.0  4200000.0   \n999991                      0.0                      0.0  3500000.0   \n\n        dist_buenos_aires  \nid                         \n5                6.541882  \n98               3.329582  \n100              9.311039  \n101              6.895555  \n103              3.329582  \n...                   ...  \n999903           6.202370  \n999953           5.870915  \n999954           5.014402  \n999989           5.678861  \n999991           6.954183  \n\n[141513 rows x 611 columns]",
      "text/html": "<div>\n<style scoped>\n    .dataframe tbody tr th:only-of-type {\n        vertical-align: middle;\n    }\n\n    .dataframe tbody tr th {\n        vertical-align: top;\n    }\n\n    .dataframe thead th {\n        text-align: right;\n    }\n</style>\n<table border=\"1\" class=\"dataframe\">\n  <thead>\n    <tr style=\"text-align: right;\">\n      <th></th>\n      <th>ad_type</th>\n      <th>lat</th>\n      <th>lon</th>\n      <th>rooms</th>\n      <th>bedrooms</th>\n      <th>bathrooms</th>\n      <th>surface_total</th>\n      <th>surface_covered</th>\n      <th>property_type</th>\n      <th>operation_type</th>\n      <th>...</th>\n      <th>published_suburb_Villa Soldati</th>\n      <th>published_suburb_Villa Urquiza</th>\n      <th>published_suburb_Villa Vatteone</th>\n      <th>published_suburb_Villa del Parque</th>\n      <th>published_suburb_Wilde</th>\n      <th>published_suburb_Zona 3</th>\n      <th>published_suburb_Zona 9</th>\n      <th>published_suburb_Águila</th>\n      <th>price</th>\n      <th>dist_buenos_aires</th>\n    </tr>\n    <tr>\n      <th>id</th>\n      <th></th>\n      <th></th>\n      <th></th>\n      <th></th>\n      <th></th>\n      <th></th>\n      <th></th>\n      <th></th>\n      <th></th>\n      <th></th>\n      <th></th>\n      <th></th>\n      <th></th>\n      <th></th>\n      <th></th>\n      <th></th>\n      <th></th>\n      <th></th>\n      <th></th>\n      <th></th>\n      <th></th>\n    </tr>\n  </thead>\n  <tbody>\n    <tr>\n      <th>5</th>\n      <td>0.0</td>\n      <td>-34.663334</td>\n      <td>-58.486344</td>\n      <td>3.0</td>\n      <td>2.0</td>\n      <td>1.333333</td>\n      <td>87.0</td>\n      <td>87.0</td>\n      <td>1.0</td>\n      <td>0.0</td>\n      <td>...</td>\n      <td>0.0</td>\n      <td>0.0</td>\n      <td>0.0</td>\n      <td>0.0</td>\n      <td>0.0</td>\n      <td>0.0</td>\n      <td>0.0</td>\n      <td>0.0</td>\n      <td>75000.0</td>\n      <td>6.541882</td>\n    </tr>\n    <tr>\n      <th>98</th>\n      <td>0.0</td>\n      <td>-34.603990</td>\n      <td>-58.412370</td>\n      <td>1.0</td>\n      <td>1.0</td>\n      <td>1.000000</td>\n      <td>28.0</td>\n      <td>28.0</td>\n      <td>0.0</td>\n      <td>0.0</td>\n      <td>...</td>\n      <td>0.0</td>\n      <td>0.0</td>\n      <td>0.0</td>\n      <td>0.0</td>\n      <td>0.0</td>\n      <td>0.0</td>\n      <td>0.0</td>\n      <td>0.0</td>\n      <td>98000.0</td>\n      <td>3.329582</td>\n    </tr>\n    <tr>\n      <th>100</th>\n      <td>0.0</td>\n      <td>-34.691785</td>\n      <td>-58.406821</td>\n      <td>1.0</td>\n      <td>1.0</td>\n      <td>1.000000</td>\n      <td>36.0</td>\n      <td>36.0</td>\n      <td>0.0</td>\n      <td>0.0</td>\n      <td>...</td>\n      <td>0.0</td>\n      <td>0.0</td>\n      <td>0.0</td>\n      <td>0.0</td>\n      <td>0.0</td>\n      <td>0.0</td>\n      <td>0.0</td>\n      <td>0.0</td>\n      <td>67000.0</td>\n      <td>9.311039</td>\n    </tr>\n    <tr>\n      <th>101</th>\n      <td>0.0</td>\n      <td>-34.553008</td>\n      <td>-58.457528</td>\n      <td>3.0</td>\n      <td>2.0</td>\n      <td>2.000000</td>\n      <td>74.0</td>\n      <td>74.0</td>\n      <td>0.0</td>\n      <td>0.0</td>\n      <td>...</td>\n      <td>0.0</td>\n      <td>0.0</td>\n      <td>0.0</td>\n      <td>0.0</td>\n      <td>0.0</td>\n      <td>0.0</td>\n      <td>0.0</td>\n      <td>0.0</td>\n      <td>335000.0</td>\n      <td>6.895555</td>\n    </tr>\n    <tr>\n      <th>103</th>\n      <td>0.0</td>\n      <td>-34.603990</td>\n      <td>-58.412370</td>\n      <td>1.0</td>\n      <td>1.0</td>\n      <td>1.000000</td>\n      <td>28.0</td>\n      <td>28.0</td>\n      <td>0.0</td>\n      <td>0.0</td>\n      <td>...</td>\n      <td>0.0</td>\n      <td>0.0</td>\n      <td>0.0</td>\n      <td>0.0</td>\n      <td>0.0</td>\n      <td>0.0</td>\n      <td>0.0</td>\n      <td>0.0</td>\n      <td>98000.0</td>\n      <td>3.329582</td>\n    </tr>\n    <tr>\n      <th>...</th>\n      <td>...</td>\n      <td>...</td>\n      <td>...</td>\n      <td>...</td>\n      <td>...</td>\n      <td>...</td>\n      <td>...</td>\n      <td>...</td>\n      <td>...</td>\n      <td>...</td>\n      <td>...</td>\n      <td>...</td>\n      <td>...</td>\n      <td>...</td>\n      <td>...</td>\n      <td>...</td>\n      <td>...</td>\n      <td>...</td>\n      <td>...</td>\n      <td>...</td>\n      <td>...</td>\n    </tr>\n    <tr>\n      <th>999903</th>\n      <td>0.0</td>\n      <td>-34.595001</td>\n      <td>-58.382999</td>\n      <td>4.0</td>\n      <td>3.0</td>\n      <td>4.000000</td>\n      <td>153.0</td>\n      <td>153.0</td>\n      <td>0.0</td>\n      <td>0.0</td>\n      <td>...</td>\n      <td>0.0</td>\n      <td>0.0</td>\n      <td>0.0</td>\n      <td>0.0</td>\n      <td>0.0</td>\n      <td>0.0</td>\n      <td>0.0</td>\n      <td>0.0</td>\n      <td>335000.0</td>\n      <td>6.202370</td>\n    </tr>\n    <tr>\n      <th>999953</th>\n      <td>0.0</td>\n      <td>-34.589703</td>\n      <td>-58.389826</td>\n      <td>4.0</td>\n      <td>3.0</td>\n      <td>5.000000</td>\n      <td>153.0</td>\n      <td>153.0</td>\n      <td>0.0</td>\n      <td>0.0</td>\n      <td>...</td>\n      <td>0.0</td>\n      <td>0.0</td>\n      <td>0.0</td>\n      <td>0.0</td>\n      <td>0.0</td>\n      <td>0.0</td>\n      <td>0.0</td>\n      <td>0.0</td>\n      <td>550000.0</td>\n      <td>5.870915</td>\n    </tr>\n    <tr>\n      <th>999954</th>\n      <td>0.0</td>\n      <td>-34.594358</td>\n      <td>-58.397430</td>\n      <td>5.0</td>\n      <td>5.0</td>\n      <td>5.000000</td>\n      <td>436.0</td>\n      <td>418.0</td>\n      <td>0.0</td>\n      <td>0.0</td>\n      <td>...</td>\n      <td>0.0</td>\n      <td>0.0</td>\n      <td>0.0</td>\n      <td>0.0</td>\n      <td>0.0</td>\n      <td>0.0</td>\n      <td>0.0</td>\n      <td>0.0</td>\n      <td>950000.0</td>\n      <td>5.014402</td>\n    </tr>\n    <tr>\n      <th>999989</th>\n      <td>0.0</td>\n      <td>-34.576273</td>\n      <td>-58.405182</td>\n      <td>6.0</td>\n      <td>5.0</td>\n      <td>5.000000</td>\n      <td>320.0</td>\n      <td>311.0</td>\n      <td>0.0</td>\n      <td>0.0</td>\n      <td>...</td>\n      <td>0.0</td>\n      <td>0.0</td>\n      <td>0.0</td>\n      <td>0.0</td>\n      <td>0.0</td>\n      <td>0.0</td>\n      <td>0.0</td>\n      <td>0.0</td>\n      <td>4200000.0</td>\n      <td>5.678861</td>\n    </tr>\n    <tr>\n      <th>999991</th>\n      <td>0.0</td>\n      <td>-34.552132</td>\n      <td>-58.438501</td>\n      <td>6.0</td>\n      <td>5.0</td>\n      <td>5.000000</td>\n      <td>330.0</td>\n      <td>300.0</td>\n      <td>0.0</td>\n      <td>0.0</td>\n      <td>...</td>\n      <td>0.0</td>\n      <td>0.0</td>\n      <td>0.0</td>\n      <td>0.0</td>\n      <td>0.0</td>\n      <td>0.0</td>\n      <td>0.0</td>\n      <td>0.0</td>\n      <td>3500000.0</td>\n      <td>6.954183</td>\n    </tr>\n  </tbody>\n</table>\n<p>141513 rows × 611 columns</p>\n</div>"
     },
     "execution_count": 36,
     "metadata": {},
     "output_type": "execute_result"
    }
   ],
   "source": [
    "imputed_values = imputer.transform(df_test)\n",
    "df_test = pd.DataFrame(imputed_values, columns=list(df_test.columns))\n",
    "df_test.index = id_test\n",
    "df_test[\"price\"] = price_test"
   ],
   "metadata": {
    "collapsed": false,
    "ExecuteTime": {
     "end_time": "2023-06-17T22:32:49.299017Z",
     "start_time": "2023-06-17T22:32:49.277561Z"
    }
   }
  },
  {
   "cell_type": "code",
   "execution_count": 430,
   "outputs": [],
   "source": [
    "imputed_values = imputer.transform(df_train)\n",
    "df_train = pd.DataFrame(imputed_values, columns=list(df_train.columns))\n",
    "df_train[\"price\"] = price_train\n",
    "df_train.index = id_train"
   ],
   "metadata": {
    "collapsed": false,
    "ExecuteTime": {
     "end_time": "2023-06-17T22:26:15.117174Z",
     "start_time": "2023-06-17T22:25:27.153060Z"
    }
   }
  },
  {
   "cell_type": "code",
   "execution_count": 431,
   "outputs": [
    {
     "data": {
      "text/plain": "ad_type                                0\npublished_suburb_Godoy Cruz            0\npublished_suburb_General Levalle       0\npublished_suburb_General Paz           0\npublished_suburb_General San Martín    0\n                                      ..\nsuburb_República de la Sexta           0\nsuburb_Resistencia                     0\nsuburb_Retiro                          0\nsuburb_Rodeo del Medio                 0\nprice                                  0\nLength: 610, dtype: int64"
     },
     "execution_count": 431,
     "metadata": {},
     "output_type": "execute_result"
    }
   ],
   "source": [
    "df_train.isna().sum().sort_values(ascending=False)"
   ],
   "metadata": {
    "collapsed": false,
    "ExecuteTime": {
     "end_time": "2023-06-17T22:26:15.213166Z",
     "start_time": "2023-06-17T22:26:15.118254Z"
    }
   }
  },
  {
   "cell_type": "code",
   "execution_count": 432,
   "outputs": [
    {
     "data": {
      "text/plain": "lat                                 456\nlon                                 456\npublished_suburb_Godoy Cruz           0\npublished_suburb_General Levalle      0\npublished_suburb_General Paz          0\n                                   ... \nsuburb_República de la Sexta          0\nsuburb_Resistencia                    0\nsuburb_Retiro                         0\nsuburb_Rodeo del Medio                0\npublished_suburb_Águila               0\nLength: 609, dtype: int64"
     },
     "execution_count": 432,
     "metadata": {},
     "output_type": "execute_result"
    }
   ],
   "source": [
    "df_test.isna().sum().sort_values(ascending=False)"
   ],
   "metadata": {
    "collapsed": false,
    "ExecuteTime": {
     "end_time": "2023-06-17T22:26:15.218099Z",
     "start_time": "2023-06-17T22:26:15.213430Z"
    }
   }
  },
  {
   "cell_type": "code",
   "execution_count": 432,
   "outputs": [],
   "source": [],
   "metadata": {
    "collapsed": false,
    "ExecuteTime": {
     "end_time": "2023-06-17T22:26:15.223049Z",
     "start_time": "2023-06-17T22:26:15.218512Z"
    }
   }
  },
  {
   "cell_type": "code",
   "execution_count": 404,
   "outputs": [],
   "source": [],
   "metadata": {
    "collapsed": false,
    "ExecuteTime": {
     "end_time": "2023-06-17T22:24:28.136928Z",
     "start_time": "2023-06-17T22:24:28.118282Z"
    }
   }
  },
  {
   "cell_type": "code",
   "execution_count": null,
   "outputs": [],
   "source": [],
   "metadata": {
    "collapsed": false
   }
  }
 ],
 "metadata": {
  "kernelspec": {
   "display_name": "Python 3",
   "language": "python",
   "name": "python3"
  },
  "language_info": {
   "codemirror_mode": {
    "name": "ipython",
    "version": 2
   },
   "file_extension": ".py",
   "mimetype": "text/x-python",
   "name": "python",
   "nbconvert_exporter": "python",
   "pygments_lexer": "ipython2",
   "version": "2.7.6"
  }
 },
 "nbformat": 4,
 "nbformat_minor": 0
}
