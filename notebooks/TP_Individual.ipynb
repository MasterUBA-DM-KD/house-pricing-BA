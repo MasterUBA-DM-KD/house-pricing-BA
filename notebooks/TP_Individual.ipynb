{
 "cells": [
  {
   "cell_type": "code",
   "execution_count": 164,
   "metadata": {
    "editable": true,
    "id": "jw8ogMDOpvKP",
    "slideshow": {
     "slide_type": ""
    },
    "tags": []
   },
   "outputs": [],
   "source": [
    "import pandas as pd\n",
    "\n",
    "import sklearn as sk\n",
    "from sklearn import model_selection\n",
    "from sklearn import ensemble\n",
    "from sklearn import metrics\n",
    "import seaborn as sns\n",
    "import matplotlib.pyplot as plt\n",
    "from geopy.geocoders import Nominatim"
   ]
  },
  {
   "cell_type": "code",
   "execution_count": 165,
   "metadata": {
    "tags": []
   },
   "outputs": [
    {
     "name": "stdout",
     "output_type": "stream",
     "text": [
      "The autoreload extension is already loaded. To reload it, use:\n",
      "  %reload_ext autoreload\n"
     ]
    }
   ],
   "source": [
    "%load_ext autoreload\n",
    "%autoreload 2"
   ]
  },
  {
   "cell_type": "code",
   "execution_count": 166,
   "metadata": {
    "tags": []
   },
   "outputs": [],
   "source": [
    "# La siguiente línea es para ver las imagenes dentro del notebook\n",
    "%matplotlib inline\n",
    "# Acá configuramos el tamaño de las figuras\n",
    "plt.rcParams['figure.figsize'] = (12,8)\n",
    "# Seteamos opciones de pandas sobre las columnas y su ancho\n",
    "pd.set_option('display.max_columns', 120)\n",
    "pd.set_option('display.max_colwidth', 50)"
   ]
  },
  {
   "cell_type": "code",
   "execution_count": 167,
   "metadata": {
    "id": "b8SSObwGJo2Q",
    "tags": []
   },
   "outputs": [],
   "source": [
    "# from google.colab import drive\n",
    "# drive.mount('/content/drive')\n",
    "\n",
    "# pd.read_csv('../data/properati_a_predecir.csv', index_col=\"id\", parse_dates=['start_date', 'end_date', 'created_on']).to_parquet('../data/properati_a_predecir.parquet')\n",
    "# pd.read_csv('../data/properati_entrenamiento.csv', index_col=\"id\", parse_dates=['start_date', 'end_date', 'created_on']).to_parquet('../data/properati_entrenamiento.parquet')"
   ]
  },
  {
   "cell_type": "markdown",
   "metadata": {
    "id": "20D-m6GPyefp"
   },
   "source": [
    "# Lectura de datos\n",
    "\n",
    "| Featire     | Descripción |\n",
    "| ----------- | ----------- |\n",
    "| id          | Identificador del aviso \\*. |\n",
    "| start_date | Fecha de alta del aviso. |\n",
    "| end_date | Fecha de baja del aviso. |\n",
    "| created_on | Fecha de alta de la primera versión del aviso. |\n",
    "| lat | Latitud. |\n",
    "| lon | Longitud. |\n",
    "| l1 | Nivel administrativo 1: país. |\n",
    "| l2 | Nivel administrativo 2: usualmente provincia. |\n",
    "| l3 | Nivel administrativo 3: usualmente ciudad. |\n",
    "| l4 | Nivel administrativo 4: usualmente barrio. |\n",
    "| l5 | Nivel administrativo 5 |\n",
    "| l6 | Nivel administrativo 6 |\n",
    "| rooms | Cantidad de ambientes (útil en Argentina). |\n",
    "| bedrooms | Cantidad de dormitorios (útil en el resto de los países). |\n",
    "| bathrooms | Cantidad de baños. |\n",
    "| surface_total | Superficie total en m². |\n",
    "| surface_covered | Superficie cubierta en m². |\n",
    "| price | Precio publicado en el anuncio. |\n",
    "| currency | Moneda del precio publicado. |\n",
    "| price_period | Periodo del precio (Diario, Semanal, Mensual) |\n",
    "| title | Título del anuncio. |\n",
    "| description | Descripción del anuncio. |\n",
    "| property_type | Tipo de propiedad (Casa, Departamento, PH). |\n",
    "| operation_type | Tipo de operación (Venta, Alquiler). |\n",
    "\n",
    "\n",
    "\\* No es único: si el aviso es actualizado por la inmobiliaria (nueva versión del aviso) se crea un nuevo registro con la misma id pero distintas fechas: de alta y de baja."
   ]
  },
  {
   "cell_type": "code",
   "execution_count": 270,
   "metadata": {
    "id": "CtV0wOGsqJLC",
    "tags": []
   },
   "outputs": [],
   "source": [
    "# DIR = \"/content/drive/MyDrive/Clases/FCEN DM/datos/\"\n",
    "\n",
    "# df_train = pd.read_csv(DIR + \"properati_entrenamiento.zip\", index_col=\"id\")  \n",
    "# df_train.head()\n",
    "\n",
    "# df_test = pd.read_csv(DIR + \"properati_a_predecir.zip\", index_col=\"id\")  \n",
    "# df_test.head()\n",
    "\n",
    "df_train = pd.read_parquet('../data/properati_entrenamiento.parquet', engine=\"pyarrow\")\n",
    "# df_train = pd.read_parquet(\"../data/properati_a_predecir.parquet\", engine=\"pyarrow\")"
   ]
  },
  {
   "cell_type": "code",
   "execution_count": 271,
   "metadata": {
    "tags": []
   },
   "outputs": [
    {
     "data": {
      "text/html": [
       "<div>\n",
       "<style scoped>\n",
       "    .dataframe tbody tr th:only-of-type {\n",
       "        vertical-align: middle;\n",
       "    }\n",
       "\n",
       "    .dataframe tbody tr th {\n",
       "        vertical-align: top;\n",
       "    }\n",
       "\n",
       "    .dataframe thead th {\n",
       "        text-align: right;\n",
       "    }\n",
       "</style>\n",
       "<table border=\"1\" class=\"dataframe\">\n",
       "  <thead>\n",
       "    <tr style=\"text-align: right;\">\n",
       "      <th></th>\n",
       "      <th>ad_type</th>\n",
       "      <th>start_date</th>\n",
       "      <th>end_date</th>\n",
       "      <th>created_on</th>\n",
       "      <th>lat</th>\n",
       "      <th>lon</th>\n",
       "      <th>l1</th>\n",
       "      <th>l2</th>\n",
       "      <th>l3</th>\n",
       "      <th>l4</th>\n",
       "      <th>l5</th>\n",
       "      <th>l6</th>\n",
       "      <th>rooms</th>\n",
       "      <th>bedrooms</th>\n",
       "      <th>bathrooms</th>\n",
       "      <th>surface_total</th>\n",
       "      <th>surface_covered</th>\n",
       "      <th>price</th>\n",
       "      <th>currency</th>\n",
       "      <th>price_period</th>\n",
       "      <th>title</th>\n",
       "      <th>description</th>\n",
       "      <th>property_type</th>\n",
       "      <th>operation_type</th>\n",
       "    </tr>\n",
       "    <tr>\n",
       "      <th>id</th>\n",
       "      <th></th>\n",
       "      <th></th>\n",
       "      <th></th>\n",
       "      <th></th>\n",
       "      <th></th>\n",
       "      <th></th>\n",
       "      <th></th>\n",
       "      <th></th>\n",
       "      <th></th>\n",
       "      <th></th>\n",
       "      <th></th>\n",
       "      <th></th>\n",
       "      <th></th>\n",
       "      <th></th>\n",
       "      <th></th>\n",
       "      <th></th>\n",
       "      <th></th>\n",
       "      <th></th>\n",
       "      <th></th>\n",
       "      <th></th>\n",
       "      <th></th>\n",
       "      <th></th>\n",
       "      <th></th>\n",
       "      <th></th>\n",
       "    </tr>\n",
       "  </thead>\n",
       "  <tbody>\n",
       "    <tr>\n",
       "      <th>1</th>\n",
       "      <td>Propiedad</td>\n",
       "      <td>2019-07-07</td>\n",
       "      <td>2019-07-10</td>\n",
       "      <td>2019-07-07</td>\n",
       "      <td>NaN</td>\n",
       "      <td>NaN</td>\n",
       "      <td>Argentina</td>\n",
       "      <td>Buenos Aires Interior</td>\n",
       "      <td>Urquiza</td>\n",
       "      <td>Urquiza</td>\n",
       "      <td>None</td>\n",
       "      <td>NaN</td>\n",
       "      <td>NaN</td>\n",
       "      <td>NaN</td>\n",
       "      <td>NaN</td>\n",
       "      <td>NaN</td>\n",
       "      <td>NaN</td>\n",
       "      <td>3800.0</td>\n",
       "      <td>ARS</td>\n",
       "      <td>Mensual</td>\n",
       "      <td>COCHERA EN ALQUILER</td>\n",
       "      <td>Xintel (SLC-SI1-560) Alquiler de Cochera en CA...</td>\n",
       "      <td>Cochera</td>\n",
       "      <td>Alquiler</td>\n",
       "    </tr>\n",
       "    <tr>\n",
       "      <th>2</th>\n",
       "      <td>Propiedad</td>\n",
       "      <td>2019-07-07</td>\n",
       "      <td>9999-12-31</td>\n",
       "      <td>2019-07-07</td>\n",
       "      <td>-64.184812</td>\n",
       "      <td>-31.421307</td>\n",
       "      <td>Argentina</td>\n",
       "      <td>Córdoba</td>\n",
       "      <td>Córdoba</td>\n",
       "      <td>None</td>\n",
       "      <td>None</td>\n",
       "      <td>NaN</td>\n",
       "      <td>1.0</td>\n",
       "      <td>NaN</td>\n",
       "      <td>NaN</td>\n",
       "      <td>12.0</td>\n",
       "      <td>12.0</td>\n",
       "      <td>16000.0</td>\n",
       "      <td>USD</td>\n",
       "      <td>Mensual</td>\n",
       "      <td>Cochera venta</td>\n",
       "      <td>VENDO COCHERA- EXCELENTE UBICACIÓN! Calle Buen...</td>\n",
       "      <td>Cochera</td>\n",
       "      <td>Venta</td>\n",
       "    </tr>\n",
       "  </tbody>\n",
       "</table>\n",
       "</div>"
      ],
      "text/plain": [
       "      ad_type start_date    end_date created_on        lat        lon   \n",
       "id                                                                      \n",
       "1   Propiedad 2019-07-07  2019-07-10 2019-07-07        NaN        NaN  \\\n",
       "2   Propiedad 2019-07-07  9999-12-31 2019-07-07 -64.184812 -31.421307   \n",
       "\n",
       "           l1                     l2       l3       l4    l5  l6  rooms   \n",
       "id                                                                        \n",
       "1   Argentina  Buenos Aires Interior  Urquiza  Urquiza  None NaN    NaN  \\\n",
       "2   Argentina                Córdoba  Córdoba     None  None NaN    1.0   \n",
       "\n",
       "    bedrooms  bathrooms  surface_total  surface_covered    price currency   \n",
       "id                                                                          \n",
       "1        NaN        NaN            NaN              NaN   3800.0      ARS  \\\n",
       "2        NaN        NaN           12.0             12.0  16000.0      USD   \n",
       "\n",
       "   price_period                title   \n",
       "id                                     \n",
       "1       Mensual  COCHERA EN ALQUILER  \\\n",
       "2       Mensual        Cochera venta   \n",
       "\n",
       "                                          description property_type   \n",
       "id                                                                    \n",
       "1   Xintel (SLC-SI1-560) Alquiler de Cochera en CA...       Cochera  \\\n",
       "2   VENDO COCHERA- EXCELENTE UBICACIÓN! Calle Buen...       Cochera   \n",
       "\n",
       "   operation_type  \n",
       "id                 \n",
       "1        Alquiler  \n",
       "2           Venta  "
      ]
     },
     "execution_count": 271,
     "metadata": {},
     "output_type": "execute_result"
    }
   ],
   "source": [
    "df_train.head(2)"
   ]
  },
  {
   "cell_type": "code",
   "execution_count": 272,
   "metadata": {
    "tags": []
   },
   "outputs": [
    {
     "name": "stdout",
     "output_type": "stream",
     "text": [
      "<class 'pandas.core.frame.DataFrame'>\n",
      "Index: 994000 entries, 1 to 1000000\n",
      "Data columns (total 24 columns):\n",
      " #   Column           Non-Null Count   Dtype         \n",
      "---  ------           --------------   -----         \n",
      " 0   ad_type          994000 non-null  object        \n",
      " 1   start_date       994000 non-null  datetime64[ns]\n",
      " 2   end_date         994000 non-null  object        \n",
      " 3   created_on       994000 non-null  datetime64[ns]\n",
      " 4   lat              840826 non-null  float64       \n",
      " 5   lon              841760 non-null  float64       \n",
      " 6   l1               994000 non-null  object        \n",
      " 7   l2               994000 non-null  object        \n",
      " 8   l3               936714 non-null  object        \n",
      " 9   l4               225232 non-null  object        \n",
      " 10  l5               4711 non-null    object        \n",
      " 11  l6               0 non-null       float64       \n",
      " 12  rooms            504328 non-null  float64       \n",
      " 13  bedrooms         391380 non-null  float64       \n",
      " 14  bathrooms        774749 non-null  float64       \n",
      " 15  surface_total    451104 non-null  float64       \n",
      " 16  surface_covered  439770 non-null  float64       \n",
      " 17  price            949619 non-null  float64       \n",
      " 18  currency         946749 non-null  object        \n",
      " 19  price_period     368024 non-null  object        \n",
      " 20  title            993972 non-null  object        \n",
      " 21  description      993978 non-null  object        \n",
      " 22  property_type    994000 non-null  object        \n",
      " 23  operation_type   994000 non-null  object        \n",
      "dtypes: datetime64[ns](2), float64(9), object(13)\n",
      "memory usage: 189.6+ MB\n"
     ]
    }
   ],
   "source": [
    "df_train.info()"
   ]
  },
  {
   "cell_type": "code",
   "execution_count": 296,
   "metadata": {
    "tags": []
   },
   "outputs": [],
   "source": [
    "rename_cols = {\n",
    "    \"l1\": \"country\", \n",
    "    \"l2\": \"province\", \n",
    "    \"l3\": \"city/neighorhood\", \n",
    "    \"l4\": \"published_neigborhood\",\n",
    "    # \"l5\": \"published_neigborhood\"\n",
    "}\n",
    "\n",
    "province = [\n",
    "    \"Capital Federal\",\n",
    "    \"Bs.As. G.B.A. Zona Sur\",\n",
    "    # \"Bs.As. G.B.A. Zona Oeste\",\n",
    "    # \"Bs.As. G.B.A. Zona Norte\"\n",
    "]\n",
    "\n",
    "property_type = [\"PH\", \"Departamento\"]\n",
    "country = [\"Argentina\"]\n",
    "drop_cols = [\"l5\",\"l6\"]"
   ]
  },
  {
   "cell_type": "code",
   "execution_count": 279,
   "metadata": {
    "collapsed": true,
    "jupyter": {
     "outputs_hidden": true
    },
    "tags": []
   },
   "outputs": [
    {
     "ename": "KeyError",
     "evalue": "\"['l6'] not found in axis\"",
     "output_type": "error",
     "traceback": [
      "\u001b[0;31m---------------------------------------------------------------------------\u001b[0m",
      "\u001b[0;31mKeyError\u001b[0m                                  Traceback (most recent call last)",
      "Cell \u001b[0;32mIn[279], line 1\u001b[0m\n\u001b[0;32m----> 1\u001b[0m df_train \u001b[38;5;241m=\u001b[39m \u001b[43mdf_train\u001b[49m\u001b[38;5;241;43m.\u001b[39;49m\u001b[43mdrop\u001b[49m\u001b[43m(\u001b[49m\u001b[43mdrop_cols\u001b[49m\u001b[43m,\u001b[49m\u001b[43m \u001b[49m\u001b[43maxis\u001b[49m\u001b[38;5;241;43m=\u001b[39;49m\u001b[38;5;241;43m1\u001b[39;49m\u001b[43m)\u001b[49m\n\u001b[1;32m      2\u001b[0m df_train \u001b[38;5;241m=\u001b[39m df_train\u001b[38;5;241m.\u001b[39mrename(rename_cols, axis\u001b[38;5;241m=\u001b[39m\u001b[38;5;241m1\u001b[39m)\n\u001b[1;32m      3\u001b[0m df_train \u001b[38;5;241m=\u001b[39m df_train[df_train[\u001b[38;5;124m\"\u001b[39m\u001b[38;5;124mproperty_type\u001b[39m\u001b[38;5;124m\"\u001b[39m]\u001b[38;5;241m.\u001b[39misin(property_type)]\n",
      "File \u001b[0;32m~/miniconda3/lib/python3.11/site-packages/pandas/core/frame.py:5268\u001b[0m, in \u001b[0;36mDataFrame.drop\u001b[0;34m(self, labels, axis, index, columns, level, inplace, errors)\u001b[0m\n\u001b[1;32m   5120\u001b[0m \u001b[38;5;28;01mdef\u001b[39;00m \u001b[38;5;21mdrop\u001b[39m(\n\u001b[1;32m   5121\u001b[0m     \u001b[38;5;28mself\u001b[39m,\n\u001b[1;32m   5122\u001b[0m     labels: IndexLabel \u001b[38;5;241m=\u001b[39m \u001b[38;5;28;01mNone\u001b[39;00m,\n\u001b[0;32m   (...)\u001b[0m\n\u001b[1;32m   5129\u001b[0m     errors: IgnoreRaise \u001b[38;5;241m=\u001b[39m \u001b[38;5;124m\"\u001b[39m\u001b[38;5;124mraise\u001b[39m\u001b[38;5;124m\"\u001b[39m,\n\u001b[1;32m   5130\u001b[0m ) \u001b[38;5;241m-\u001b[39m\u001b[38;5;241m>\u001b[39m DataFrame \u001b[38;5;241m|\u001b[39m \u001b[38;5;28;01mNone\u001b[39;00m:\n\u001b[1;32m   5131\u001b[0m \u001b[38;5;250m    \u001b[39m\u001b[38;5;124;03m\"\"\"\u001b[39;00m\n\u001b[1;32m   5132\u001b[0m \u001b[38;5;124;03m    Drop specified labels from rows or columns.\u001b[39;00m\n\u001b[1;32m   5133\u001b[0m \n\u001b[0;32m   (...)\u001b[0m\n\u001b[1;32m   5266\u001b[0m \u001b[38;5;124;03m            weight  1.0     0.8\u001b[39;00m\n\u001b[1;32m   5267\u001b[0m \u001b[38;5;124;03m    \"\"\"\u001b[39;00m\n\u001b[0;32m-> 5268\u001b[0m     \u001b[38;5;28;01mreturn\u001b[39;00m \u001b[38;5;28;43msuper\u001b[39;49m\u001b[43m(\u001b[49m\u001b[43m)\u001b[49m\u001b[38;5;241;43m.\u001b[39;49m\u001b[43mdrop\u001b[49m\u001b[43m(\u001b[49m\n\u001b[1;32m   5269\u001b[0m \u001b[43m        \u001b[49m\u001b[43mlabels\u001b[49m\u001b[38;5;241;43m=\u001b[39;49m\u001b[43mlabels\u001b[49m\u001b[43m,\u001b[49m\n\u001b[1;32m   5270\u001b[0m \u001b[43m        \u001b[49m\u001b[43maxis\u001b[49m\u001b[38;5;241;43m=\u001b[39;49m\u001b[43maxis\u001b[49m\u001b[43m,\u001b[49m\n\u001b[1;32m   5271\u001b[0m \u001b[43m        \u001b[49m\u001b[43mindex\u001b[49m\u001b[38;5;241;43m=\u001b[39;49m\u001b[43mindex\u001b[49m\u001b[43m,\u001b[49m\n\u001b[1;32m   5272\u001b[0m \u001b[43m        \u001b[49m\u001b[43mcolumns\u001b[49m\u001b[38;5;241;43m=\u001b[39;49m\u001b[43mcolumns\u001b[49m\u001b[43m,\u001b[49m\n\u001b[1;32m   5273\u001b[0m \u001b[43m        \u001b[49m\u001b[43mlevel\u001b[49m\u001b[38;5;241;43m=\u001b[39;49m\u001b[43mlevel\u001b[49m\u001b[43m,\u001b[49m\n\u001b[1;32m   5274\u001b[0m \u001b[43m        \u001b[49m\u001b[43minplace\u001b[49m\u001b[38;5;241;43m=\u001b[39;49m\u001b[43minplace\u001b[49m\u001b[43m,\u001b[49m\n\u001b[1;32m   5275\u001b[0m \u001b[43m        \u001b[49m\u001b[43merrors\u001b[49m\u001b[38;5;241;43m=\u001b[39;49m\u001b[43merrors\u001b[49m\u001b[43m,\u001b[49m\n\u001b[1;32m   5276\u001b[0m \u001b[43m    \u001b[49m\u001b[43m)\u001b[49m\n",
      "File \u001b[0;32m~/miniconda3/lib/python3.11/site-packages/pandas/core/generic.py:4549\u001b[0m, in \u001b[0;36mNDFrame.drop\u001b[0;34m(self, labels, axis, index, columns, level, inplace, errors)\u001b[0m\n\u001b[1;32m   4547\u001b[0m \u001b[38;5;28;01mfor\u001b[39;00m axis, labels \u001b[38;5;129;01min\u001b[39;00m axes\u001b[38;5;241m.\u001b[39mitems():\n\u001b[1;32m   4548\u001b[0m     \u001b[38;5;28;01mif\u001b[39;00m labels \u001b[38;5;129;01mis\u001b[39;00m \u001b[38;5;129;01mnot\u001b[39;00m \u001b[38;5;28;01mNone\u001b[39;00m:\n\u001b[0;32m-> 4549\u001b[0m         obj \u001b[38;5;241m=\u001b[39m \u001b[43mobj\u001b[49m\u001b[38;5;241;43m.\u001b[39;49m\u001b[43m_drop_axis\u001b[49m\u001b[43m(\u001b[49m\u001b[43mlabels\u001b[49m\u001b[43m,\u001b[49m\u001b[43m \u001b[49m\u001b[43maxis\u001b[49m\u001b[43m,\u001b[49m\u001b[43m \u001b[49m\u001b[43mlevel\u001b[49m\u001b[38;5;241;43m=\u001b[39;49m\u001b[43mlevel\u001b[49m\u001b[43m,\u001b[49m\u001b[43m \u001b[49m\u001b[43merrors\u001b[49m\u001b[38;5;241;43m=\u001b[39;49m\u001b[43merrors\u001b[49m\u001b[43m)\u001b[49m\n\u001b[1;32m   4551\u001b[0m \u001b[38;5;28;01mif\u001b[39;00m inplace:\n\u001b[1;32m   4552\u001b[0m     \u001b[38;5;28mself\u001b[39m\u001b[38;5;241m.\u001b[39m_update_inplace(obj)\n",
      "File \u001b[0;32m~/miniconda3/lib/python3.11/site-packages/pandas/core/generic.py:4591\u001b[0m, in \u001b[0;36mNDFrame._drop_axis\u001b[0;34m(self, labels, axis, level, errors, only_slice)\u001b[0m\n\u001b[1;32m   4589\u001b[0m         new_axis \u001b[38;5;241m=\u001b[39m axis\u001b[38;5;241m.\u001b[39mdrop(labels, level\u001b[38;5;241m=\u001b[39mlevel, errors\u001b[38;5;241m=\u001b[39merrors)\n\u001b[1;32m   4590\u001b[0m     \u001b[38;5;28;01melse\u001b[39;00m:\n\u001b[0;32m-> 4591\u001b[0m         new_axis \u001b[38;5;241m=\u001b[39m \u001b[43maxis\u001b[49m\u001b[38;5;241;43m.\u001b[39;49m\u001b[43mdrop\u001b[49m\u001b[43m(\u001b[49m\u001b[43mlabels\u001b[49m\u001b[43m,\u001b[49m\u001b[43m \u001b[49m\u001b[43merrors\u001b[49m\u001b[38;5;241;43m=\u001b[39;49m\u001b[43merrors\u001b[49m\u001b[43m)\u001b[49m\n\u001b[1;32m   4592\u001b[0m     indexer \u001b[38;5;241m=\u001b[39m axis\u001b[38;5;241m.\u001b[39mget_indexer(new_axis)\n\u001b[1;32m   4594\u001b[0m \u001b[38;5;66;03m# Case for non-unique axis\u001b[39;00m\n\u001b[1;32m   4595\u001b[0m \u001b[38;5;28;01melse\u001b[39;00m:\n",
      "File \u001b[0;32m~/miniconda3/lib/python3.11/site-packages/pandas/core/indexes/base.py:6696\u001b[0m, in \u001b[0;36mIndex.drop\u001b[0;34m(self, labels, errors)\u001b[0m\n\u001b[1;32m   6694\u001b[0m \u001b[38;5;28;01mif\u001b[39;00m mask\u001b[38;5;241m.\u001b[39many():\n\u001b[1;32m   6695\u001b[0m     \u001b[38;5;28;01mif\u001b[39;00m errors \u001b[38;5;241m!=\u001b[39m \u001b[38;5;124m\"\u001b[39m\u001b[38;5;124mignore\u001b[39m\u001b[38;5;124m\"\u001b[39m:\n\u001b[0;32m-> 6696\u001b[0m         \u001b[38;5;28;01mraise\u001b[39;00m \u001b[38;5;167;01mKeyError\u001b[39;00m(\u001b[38;5;124mf\u001b[39m\u001b[38;5;124m\"\u001b[39m\u001b[38;5;132;01m{\u001b[39;00m\u001b[38;5;28mlist\u001b[39m(labels[mask])\u001b[38;5;132;01m}\u001b[39;00m\u001b[38;5;124m not found in axis\u001b[39m\u001b[38;5;124m\"\u001b[39m)\n\u001b[1;32m   6697\u001b[0m     indexer \u001b[38;5;241m=\u001b[39m indexer[\u001b[38;5;241m~\u001b[39mmask]\n\u001b[1;32m   6698\u001b[0m \u001b[38;5;28;01mreturn\u001b[39;00m \u001b[38;5;28mself\u001b[39m\u001b[38;5;241m.\u001b[39mdelete(indexer)\n",
      "\u001b[0;31mKeyError\u001b[0m: \"['l6'] not found in axis\""
     ]
    }
   ],
   "source": [
    "df_train = df_train.drop(drop_cols, axis=1)\n",
    "df_train = df_train.rename(rename_cols, axis=1)"
   ]
  },
  {
   "cell_type": "code",
   "execution_count": 297,
   "metadata": {
    "tags": []
   },
   "outputs": [],
   "source": [
    "df_train = df_train[df_train[\"country\"].isin(country)]\n",
    "df_train = df_train[df_train[\"province\"].isin(province)]\n",
    "df_train = df_train[df_train[\"property_type\"].isin(property_type)]"
   ]
  },
  {
   "cell_type": "code",
   "execution_count": 303,
   "metadata": {
    "tags": []
   },
   "outputs": [],
   "source": [
    "df_train.end_date = pd.to_datetime(df_train.end_date, errors= \"coerce\")"
   ]
  },
  {
   "cell_type": "code",
   "execution_count": 304,
   "metadata": {
    "tags": []
   },
   "outputs": [
    {
     "name": "stdout",
     "output_type": "stream",
     "text": [
      "<class 'pandas.core.frame.DataFrame'>\n",
      "Index: 210847 entries, 464316 to 143668\n",
      "Data columns (total 23 columns):\n",
      " #   Column                 Non-Null Count   Dtype         \n",
      "---  ------                 --------------   -----         \n",
      " 0   ad_type                210847 non-null  object        \n",
      " 1   start_date             210847 non-null  datetime64[ns]\n",
      " 2   end_date               172525 non-null  datetime64[ns]\n",
      " 3   created_on             210847 non-null  datetime64[ns]\n",
      " 4   lat                    193006 non-null  float64       \n",
      " 5   lon                    193148 non-null  float64       \n",
      " 6   country                210847 non-null  object        \n",
      " 7   province               210847 non-null  object        \n",
      " 8   city/neighorhood       202647 non-null  object        \n",
      " 9   published_neigborhood  29789 non-null   object        \n",
      " 10  l5                     0 non-null       object        \n",
      " 11  rooms                  194336 non-null  float64       \n",
      " 12  bedrooms               142484 non-null  float64       \n",
      " 13  bathrooms              200046 non-null  float64       \n",
      " 14  surface_total          147068 non-null  float64       \n",
      " 15  surface_covered        147937 non-null  float64       \n",
      " 16  price                  205436 non-null  float64       \n",
      " 17  currency               204711 non-null  object        \n",
      " 18  price_period           79069 non-null   object        \n",
      " 19  title                  210823 non-null  object        \n",
      " 20  description            210845 non-null  object        \n",
      " 21  property_type          210847 non-null  object        \n",
      " 22  operation_type         210847 non-null  object        \n",
      "dtypes: datetime64[ns](3), float64(8), object(12)\n",
      "memory usage: 38.6+ MB\n"
     ]
    }
   ],
   "source": [
    "df_train.info()"
   ]
  },
  {
   "cell_type": "code",
   "execution_count": 305,
   "metadata": {
    "tags": []
   },
   "outputs": [
    {
     "data": {
      "text/html": [
       "<div>\n",
       "<style scoped>\n",
       "    .dataframe tbody tr th:only-of-type {\n",
       "        vertical-align: middle;\n",
       "    }\n",
       "\n",
       "    .dataframe tbody tr th {\n",
       "        vertical-align: top;\n",
       "    }\n",
       "\n",
       "    .dataframe thead th {\n",
       "        text-align: right;\n",
       "    }\n",
       "</style>\n",
       "<table border=\"1\" class=\"dataframe\">\n",
       "  <thead>\n",
       "    <tr style=\"text-align: right;\">\n",
       "      <th></th>\n",
       "      <th>ad_type</th>\n",
       "      <th>start_date</th>\n",
       "      <th>end_date</th>\n",
       "      <th>created_on</th>\n",
       "      <th>lat</th>\n",
       "      <th>lon</th>\n",
       "      <th>country</th>\n",
       "      <th>province</th>\n",
       "      <th>city/neighorhood</th>\n",
       "      <th>published_neigborhood</th>\n",
       "      <th>l5</th>\n",
       "      <th>rooms</th>\n",
       "      <th>bedrooms</th>\n",
       "      <th>bathrooms</th>\n",
       "      <th>surface_total</th>\n",
       "      <th>surface_covered</th>\n",
       "      <th>price</th>\n",
       "      <th>currency</th>\n",
       "      <th>price_period</th>\n",
       "      <th>title</th>\n",
       "      <th>description</th>\n",
       "      <th>property_type</th>\n",
       "      <th>operation_type</th>\n",
       "    </tr>\n",
       "    <tr>\n",
       "      <th>id</th>\n",
       "      <th></th>\n",
       "      <th></th>\n",
       "      <th></th>\n",
       "      <th></th>\n",
       "      <th></th>\n",
       "      <th></th>\n",
       "      <th></th>\n",
       "      <th></th>\n",
       "      <th></th>\n",
       "      <th></th>\n",
       "      <th></th>\n",
       "      <th></th>\n",
       "      <th></th>\n",
       "      <th></th>\n",
       "      <th></th>\n",
       "      <th></th>\n",
       "      <th></th>\n",
       "      <th></th>\n",
       "      <th></th>\n",
       "      <th></th>\n",
       "      <th></th>\n",
       "      <th></th>\n",
       "      <th></th>\n",
       "    </tr>\n",
       "  </thead>\n",
       "  <tbody>\n",
       "    <tr>\n",
       "      <th>464558</th>\n",
       "      <td>Propiedad</td>\n",
       "      <td>2019-07-04</td>\n",
       "      <td>2019-07-09</td>\n",
       "      <td>2019-07-04</td>\n",
       "      <td>-58.427302</td>\n",
       "      <td>-34.594820</td>\n",
       "      <td>Argentina</td>\n",
       "      <td>Capital Federal</td>\n",
       "      <td>Palermo</td>\n",
       "      <td>None</td>\n",
       "      <td>None</td>\n",
       "      <td>3.0</td>\n",
       "      <td>2.0</td>\n",
       "      <td>1.0</td>\n",
       "      <td>63.0</td>\n",
       "      <td>55.0</td>\n",
       "      <td>165000.0</td>\n",
       "      <td>USD</td>\n",
       "      <td>None</td>\n",
       "      <td>Departamento de 3 ambientes en Venta en Palermo</td>\n",
       "      <td>Excelente departamento de tres ambientes, con ...</td>\n",
       "      <td>Departamento</td>\n",
       "      <td>Venta</td>\n",
       "    </tr>\n",
       "    <tr>\n",
       "      <th>464691</th>\n",
       "      <td>Propiedad</td>\n",
       "      <td>2019-07-04</td>\n",
       "      <td>2019-07-09</td>\n",
       "      <td>2019-07-04</td>\n",
       "      <td>-58.368540</td>\n",
       "      <td>-34.614795</td>\n",
       "      <td>Argentina</td>\n",
       "      <td>Capital Federal</td>\n",
       "      <td>San Telmo</td>\n",
       "      <td>None</td>\n",
       "      <td>None</td>\n",
       "      <td>3.0</td>\n",
       "      <td>2.0</td>\n",
       "      <td>2.0</td>\n",
       "      <td>70.0</td>\n",
       "      <td>70.0</td>\n",
       "      <td>160000.0</td>\n",
       "      <td>USD</td>\n",
       "      <td>None</td>\n",
       "      <td>Ideal INVERSION expensas muy  Bajas    Semipis...</td>\n",
       "      <td>OPORTUNIDAD!!!!!!   Dpto. de 3 Ambientes al co...</td>\n",
       "      <td>Departamento</td>\n",
       "      <td>Venta</td>\n",
       "    </tr>\n",
       "    <tr>\n",
       "      <th>464690</th>\n",
       "      <td>Propiedad</td>\n",
       "      <td>2019-07-04</td>\n",
       "      <td>2019-07-09</td>\n",
       "      <td>2019-07-04</td>\n",
       "      <td>-58.368540</td>\n",
       "      <td>-34.614795</td>\n",
       "      <td>Argentina</td>\n",
       "      <td>Capital Federal</td>\n",
       "      <td>San Telmo</td>\n",
       "      <td>None</td>\n",
       "      <td>None</td>\n",
       "      <td>3.0</td>\n",
       "      <td>2.0</td>\n",
       "      <td>2.0</td>\n",
       "      <td>70.0</td>\n",
       "      <td>70.0</td>\n",
       "      <td>160000.0</td>\n",
       "      <td>USD</td>\n",
       "      <td>None</td>\n",
       "      <td>Ideal INVERSION expensas muy  Bajas    Semipis...</td>\n",
       "      <td>OPORTUNIDAD!!!!!!   Dpto. de 3 Ambientes al co...</td>\n",
       "      <td>Departamento</td>\n",
       "      <td>Venta</td>\n",
       "    </tr>\n",
       "    <tr>\n",
       "      <th>464592</th>\n",
       "      <td>Propiedad</td>\n",
       "      <td>2019-07-04</td>\n",
       "      <td>2019-07-09</td>\n",
       "      <td>2019-07-04</td>\n",
       "      <td>-58.433124</td>\n",
       "      <td>-34.582845</td>\n",
       "      <td>Argentina</td>\n",
       "      <td>Capital Federal</td>\n",
       "      <td>Palermo</td>\n",
       "      <td>Palermo Hollywood</td>\n",
       "      <td>None</td>\n",
       "      <td>3.0</td>\n",
       "      <td>2.0</td>\n",
       "      <td>2.0</td>\n",
       "      <td>103.0</td>\n",
       "      <td>86.0</td>\n",
       "      <td>1800.0</td>\n",
       "      <td>USD</td>\n",
       "      <td>None</td>\n",
       "      <td>ESPLENDIDO 3 AMBIENTES AMOBLADO CON COCHERA-TE...</td>\n",
       "      <td>Palermo Hollywood, excelente edificio con amen...</td>\n",
       "      <td>Departamento</td>\n",
       "      <td>Alquiler</td>\n",
       "    </tr>\n",
       "    <tr>\n",
       "      <th>464578</th>\n",
       "      <td>Propiedad</td>\n",
       "      <td>2019-07-04</td>\n",
       "      <td>2019-07-09</td>\n",
       "      <td>2019-07-04</td>\n",
       "      <td>-58.433124</td>\n",
       "      <td>-34.582845</td>\n",
       "      <td>Argentina</td>\n",
       "      <td>Capital Federal</td>\n",
       "      <td>Palermo</td>\n",
       "      <td>Palermo Hollywood</td>\n",
       "      <td>None</td>\n",
       "      <td>3.0</td>\n",
       "      <td>2.0</td>\n",
       "      <td>2.0</td>\n",
       "      <td>103.0</td>\n",
       "      <td>86.0</td>\n",
       "      <td>1800.0</td>\n",
       "      <td>USD</td>\n",
       "      <td>None</td>\n",
       "      <td>ESPLENDIDO 3 AMBIENTES AMOBLADO CON COCHERA-TE...</td>\n",
       "      <td>Palermo Hollywood, excelente edificio con amen...</td>\n",
       "      <td>Departamento</td>\n",
       "      <td>Alquiler</td>\n",
       "    </tr>\n",
       "    <tr>\n",
       "      <th>...</th>\n",
       "      <td>...</td>\n",
       "      <td>...</td>\n",
       "      <td>...</td>\n",
       "      <td>...</td>\n",
       "      <td>...</td>\n",
       "      <td>...</td>\n",
       "      <td>...</td>\n",
       "      <td>...</td>\n",
       "      <td>...</td>\n",
       "      <td>...</td>\n",
       "      <td>...</td>\n",
       "      <td>...</td>\n",
       "      <td>...</td>\n",
       "      <td>...</td>\n",
       "      <td>...</td>\n",
       "      <td>...</td>\n",
       "      <td>...</td>\n",
       "      <td>...</td>\n",
       "      <td>...</td>\n",
       "      <td>...</td>\n",
       "      <td>...</td>\n",
       "      <td>...</td>\n",
       "      <td>...</td>\n",
       "    </tr>\n",
       "    <tr>\n",
       "      <th>309134</th>\n",
       "      <td>Propiedad</td>\n",
       "      <td>2020-07-26</td>\n",
       "      <td>2020-07-29</td>\n",
       "      <td>2020-07-26</td>\n",
       "      <td>-58.512663</td>\n",
       "      <td>-34.609332</td>\n",
       "      <td>Argentina</td>\n",
       "      <td>Capital Federal</td>\n",
       "      <td>Villa Devoto</td>\n",
       "      <td>None</td>\n",
       "      <td>None</td>\n",
       "      <td>3.0</td>\n",
       "      <td>2.0</td>\n",
       "      <td>2.0</td>\n",
       "      <td>85.0</td>\n",
       "      <td>72.0</td>\n",
       "      <td>215000.0</td>\n",
       "      <td>USD</td>\n",
       "      <td>None</td>\n",
       "      <td>DEPARTAMENTO 3 AMBIENTES - VILLA DEVOTO</td>\n",
       "      <td>PH TIPO DUPLEX 3 AMBIENTES AMPLIO MODERNO Y LU...</td>\n",
       "      <td>PH</td>\n",
       "      <td>Venta</td>\n",
       "    </tr>\n",
       "    <tr>\n",
       "      <th>143690</th>\n",
       "      <td>Propiedad</td>\n",
       "      <td>2020-07-27</td>\n",
       "      <td>2020-07-28</td>\n",
       "      <td>2020-07-27</td>\n",
       "      <td>-58.360851</td>\n",
       "      <td>-34.689796</td>\n",
       "      <td>Argentina</td>\n",
       "      <td>Bs.As. G.B.A. Zona Sur</td>\n",
       "      <td>Avellaneda</td>\n",
       "      <td>Gerli</td>\n",
       "      <td>None</td>\n",
       "      <td>2.0</td>\n",
       "      <td>1.0</td>\n",
       "      <td>1.0</td>\n",
       "      <td>NaN</td>\n",
       "      <td>NaN</td>\n",
       "      <td>10000.0</td>\n",
       "      <td>ARS</td>\n",
       "      <td>Mensual</td>\n",
       "      <td>PH - Gerli</td>\n",
       "      <td>ALQUILER DE PH INTERNO DE 2 AMBIENTES (DTO 2) ...</td>\n",
       "      <td>PH</td>\n",
       "      <td>Alquiler</td>\n",
       "    </tr>\n",
       "    <tr>\n",
       "      <th>143689</th>\n",
       "      <td>Propiedad</td>\n",
       "      <td>2020-07-27</td>\n",
       "      <td>2020-07-28</td>\n",
       "      <td>2020-07-27</td>\n",
       "      <td>-58.360851</td>\n",
       "      <td>-34.689796</td>\n",
       "      <td>Argentina</td>\n",
       "      <td>Bs.As. G.B.A. Zona Sur</td>\n",
       "      <td>Avellaneda</td>\n",
       "      <td>Gerli</td>\n",
       "      <td>None</td>\n",
       "      <td>2.0</td>\n",
       "      <td>1.0</td>\n",
       "      <td>1.0</td>\n",
       "      <td>NaN</td>\n",
       "      <td>NaN</td>\n",
       "      <td>10000.0</td>\n",
       "      <td>ARS</td>\n",
       "      <td>Mensual</td>\n",
       "      <td>PH - Gerli</td>\n",
       "      <td>ALQUILER DE PH INTERNO DE 2 AMBIENTES (DTO 2) ...</td>\n",
       "      <td>PH</td>\n",
       "      <td>Alquiler</td>\n",
       "    </tr>\n",
       "    <tr>\n",
       "      <th>144456</th>\n",
       "      <td>Propiedad</td>\n",
       "      <td>2020-07-27</td>\n",
       "      <td>NaT</td>\n",
       "      <td>2020-07-27</td>\n",
       "      <td>-58.396840</td>\n",
       "      <td>-34.705352</td>\n",
       "      <td>Argentina</td>\n",
       "      <td>Bs.As. G.B.A. Zona Sur</td>\n",
       "      <td>Lanús</td>\n",
       "      <td>None</td>\n",
       "      <td>None</td>\n",
       "      <td>4.0</td>\n",
       "      <td>3.0</td>\n",
       "      <td>3.0</td>\n",
       "      <td>NaN</td>\n",
       "      <td>NaN</td>\n",
       "      <td>255000.0</td>\n",
       "      <td>USD</td>\n",
       "      <td>None</td>\n",
       "      <td>Departamento en Venta en Lanus Oeste</td>\n",
       "      <td>Excelente Piso de 4 ambientes con cochera cubi...</td>\n",
       "      <td>Departamento</td>\n",
       "      <td>Venta</td>\n",
       "    </tr>\n",
       "    <tr>\n",
       "      <th>144455</th>\n",
       "      <td>Propiedad</td>\n",
       "      <td>2020-07-27</td>\n",
       "      <td>NaT</td>\n",
       "      <td>2020-07-27</td>\n",
       "      <td>-58.396840</td>\n",
       "      <td>-34.705352</td>\n",
       "      <td>Argentina</td>\n",
       "      <td>Bs.As. G.B.A. Zona Sur</td>\n",
       "      <td>Lanús</td>\n",
       "      <td>None</td>\n",
       "      <td>None</td>\n",
       "      <td>4.0</td>\n",
       "      <td>3.0</td>\n",
       "      <td>3.0</td>\n",
       "      <td>NaN</td>\n",
       "      <td>NaN</td>\n",
       "      <td>255000.0</td>\n",
       "      <td>USD</td>\n",
       "      <td>None</td>\n",
       "      <td>Departamento en Venta en Lanus Oeste</td>\n",
       "      <td>Excelente Piso de 4 ambientes con cochera cubi...</td>\n",
       "      <td>Departamento</td>\n",
       "      <td>Venta</td>\n",
       "    </tr>\n",
       "  </tbody>\n",
       "</table>\n",
       "<p>7538 rows × 23 columns</p>\n",
       "</div>"
      ],
      "text/plain": [
       "          ad_type start_date   end_date created_on        lat        lon   \n",
       "id                                                                         \n",
       "464558  Propiedad 2019-07-04 2019-07-09 2019-07-04 -58.427302 -34.594820  \\\n",
       "464691  Propiedad 2019-07-04 2019-07-09 2019-07-04 -58.368540 -34.614795   \n",
       "464690  Propiedad 2019-07-04 2019-07-09 2019-07-04 -58.368540 -34.614795   \n",
       "464592  Propiedad 2019-07-04 2019-07-09 2019-07-04 -58.433124 -34.582845   \n",
       "464578  Propiedad 2019-07-04 2019-07-09 2019-07-04 -58.433124 -34.582845   \n",
       "...           ...        ...        ...        ...        ...        ...   \n",
       "309134  Propiedad 2020-07-26 2020-07-29 2020-07-26 -58.512663 -34.609332   \n",
       "143690  Propiedad 2020-07-27 2020-07-28 2020-07-27 -58.360851 -34.689796   \n",
       "143689  Propiedad 2020-07-27 2020-07-28 2020-07-27 -58.360851 -34.689796   \n",
       "144456  Propiedad 2020-07-27        NaT 2020-07-27 -58.396840 -34.705352   \n",
       "144455  Propiedad 2020-07-27        NaT 2020-07-27 -58.396840 -34.705352   \n",
       "\n",
       "          country                province city/neighorhood   \n",
       "id                                                           \n",
       "464558  Argentina         Capital Federal          Palermo  \\\n",
       "464691  Argentina         Capital Federal        San Telmo   \n",
       "464690  Argentina         Capital Federal        San Telmo   \n",
       "464592  Argentina         Capital Federal          Palermo   \n",
       "464578  Argentina         Capital Federal          Palermo   \n",
       "...           ...                     ...              ...   \n",
       "309134  Argentina         Capital Federal     Villa Devoto   \n",
       "143690  Argentina  Bs.As. G.B.A. Zona Sur       Avellaneda   \n",
       "143689  Argentina  Bs.As. G.B.A. Zona Sur       Avellaneda   \n",
       "144456  Argentina  Bs.As. G.B.A. Zona Sur            Lanús   \n",
       "144455  Argentina  Bs.As. G.B.A. Zona Sur            Lanús   \n",
       "\n",
       "       published_neigborhood    l5  rooms  bedrooms  bathrooms  surface_total   \n",
       "id                                                                              \n",
       "464558                  None  None    3.0       2.0        1.0           63.0  \\\n",
       "464691                  None  None    3.0       2.0        2.0           70.0   \n",
       "464690                  None  None    3.0       2.0        2.0           70.0   \n",
       "464592     Palermo Hollywood  None    3.0       2.0        2.0          103.0   \n",
       "464578     Palermo Hollywood  None    3.0       2.0        2.0          103.0   \n",
       "...                      ...   ...    ...       ...        ...            ...   \n",
       "309134                  None  None    3.0       2.0        2.0           85.0   \n",
       "143690                 Gerli  None    2.0       1.0        1.0            NaN   \n",
       "143689                 Gerli  None    2.0       1.0        1.0            NaN   \n",
       "144456                  None  None    4.0       3.0        3.0            NaN   \n",
       "144455                  None  None    4.0       3.0        3.0            NaN   \n",
       "\n",
       "        surface_covered     price currency price_period   \n",
       "id                                                        \n",
       "464558             55.0  165000.0      USD         None  \\\n",
       "464691             70.0  160000.0      USD         None   \n",
       "464690             70.0  160000.0      USD         None   \n",
       "464592             86.0    1800.0      USD         None   \n",
       "464578             86.0    1800.0      USD         None   \n",
       "...                 ...       ...      ...          ...   \n",
       "309134             72.0  215000.0      USD         None   \n",
       "143690              NaN   10000.0      ARS      Mensual   \n",
       "143689              NaN   10000.0      ARS      Mensual   \n",
       "144456              NaN  255000.0      USD         None   \n",
       "144455              NaN  255000.0      USD         None   \n",
       "\n",
       "                                                    title   \n",
       "id                                                          \n",
       "464558    Departamento de 3 ambientes en Venta en Palermo  \\\n",
       "464691  Ideal INVERSION expensas muy  Bajas    Semipis...   \n",
       "464690  Ideal INVERSION expensas muy  Bajas    Semipis...   \n",
       "464592  ESPLENDIDO 3 AMBIENTES AMOBLADO CON COCHERA-TE...   \n",
       "464578  ESPLENDIDO 3 AMBIENTES AMOBLADO CON COCHERA-TE...   \n",
       "...                                                   ...   \n",
       "309134            DEPARTAMENTO 3 AMBIENTES - VILLA DEVOTO   \n",
       "143690                                         PH - Gerli   \n",
       "143689                                         PH - Gerli   \n",
       "144456               Departamento en Venta en Lanus Oeste   \n",
       "144455               Departamento en Venta en Lanus Oeste   \n",
       "\n",
       "                                              description property_type   \n",
       "id                                                                        \n",
       "464558  Excelente departamento de tres ambientes, con ...  Departamento  \\\n",
       "464691  OPORTUNIDAD!!!!!!   Dpto. de 3 Ambientes al co...  Departamento   \n",
       "464690  OPORTUNIDAD!!!!!!   Dpto. de 3 Ambientes al co...  Departamento   \n",
       "464592  Palermo Hollywood, excelente edificio con amen...  Departamento   \n",
       "464578  Palermo Hollywood, excelente edificio con amen...  Departamento   \n",
       "...                                                   ...           ...   \n",
       "309134  PH TIPO DUPLEX 3 AMBIENTES AMPLIO MODERNO Y LU...            PH   \n",
       "143690  ALQUILER DE PH INTERNO DE 2 AMBIENTES (DTO 2) ...            PH   \n",
       "143689  ALQUILER DE PH INTERNO DE 2 AMBIENTES (DTO 2) ...            PH   \n",
       "144456  Excelente Piso de 4 ambientes con cochera cubi...  Departamento   \n",
       "144455  Excelente Piso de 4 ambientes con cochera cubi...  Departamento   \n",
       "\n",
       "       operation_type  \n",
       "id                     \n",
       "464558          Venta  \n",
       "464691          Venta  \n",
       "464690          Venta  \n",
       "464592       Alquiler  \n",
       "464578       Alquiler  \n",
       "...               ...  \n",
       "309134          Venta  \n",
       "143690       Alquiler  \n",
       "143689       Alquiler  \n",
       "144456          Venta  \n",
       "144455          Venta  \n",
       "\n",
       "[7538 rows x 23 columns]"
      ]
     },
     "execution_count": 305,
     "metadata": {},
     "output_type": "execute_result"
    }
   ],
   "source": [
    "df_train[df_train.duplicated(keep=False)]"
   ]
  },
  {
   "cell_type": "markdown",
   "metadata": {
    "id": "byV0dQi-yiEd"
   },
   "source": [
    "# Entendimiento (magia parte 1 -- AID)"
   ]
  },
  {
   "cell_type": "code",
   "execution_count": 308,
   "metadata": {
    "tags": []
   },
   "outputs": [],
   "source": [
    "df_train = df_train.sort_values(by=[\"created_on\"], ascending=True)"
   ]
  },
  {
   "cell_type": "markdown",
   "metadata": {},
   "source": [
    "## Nulls"
   ]
  },
  {
   "cell_type": "code",
   "execution_count": 309,
   "metadata": {
    "tags": []
   },
   "outputs": [
    {
     "data": {
      "text/html": [
       "<div>\n",
       "<style scoped>\n",
       "    .dataframe tbody tr th:only-of-type {\n",
       "        vertical-align: middle;\n",
       "    }\n",
       "\n",
       "    .dataframe tbody tr th {\n",
       "        vertical-align: top;\n",
       "    }\n",
       "\n",
       "    .dataframe thead th {\n",
       "        text-align: right;\n",
       "    }\n",
       "</style>\n",
       "<table border=\"1\" class=\"dataframe\">\n",
       "  <thead>\n",
       "    <tr style=\"text-align: right;\">\n",
       "      <th></th>\n",
       "      <th>Missing Values</th>\n",
       "    </tr>\n",
       "    <tr>\n",
       "      <th>Feature</th>\n",
       "      <th></th>\n",
       "    </tr>\n",
       "  </thead>\n",
       "  <tbody>\n",
       "    <tr>\n",
       "      <th>l5</th>\n",
       "      <td>1.000000</td>\n",
       "    </tr>\n",
       "    <tr>\n",
       "      <th>published_neigborhood</th>\n",
       "      <td>0.858717</td>\n",
       "    </tr>\n",
       "    <tr>\n",
       "      <th>price_period</th>\n",
       "      <td>0.624993</td>\n",
       "    </tr>\n",
       "    <tr>\n",
       "      <th>bedrooms</th>\n",
       "      <td>0.324230</td>\n",
       "    </tr>\n",
       "    <tr>\n",
       "      <th>surface_total</th>\n",
       "      <td>0.302489</td>\n",
       "    </tr>\n",
       "    <tr>\n",
       "      <th>surface_covered</th>\n",
       "      <td>0.298368</td>\n",
       "    </tr>\n",
       "    <tr>\n",
       "      <th>end_date</th>\n",
       "      <td>0.181753</td>\n",
       "    </tr>\n",
       "    <tr>\n",
       "      <th>lat</th>\n",
       "      <td>0.084616</td>\n",
       "    </tr>\n",
       "    <tr>\n",
       "      <th>lon</th>\n",
       "      <td>0.083942</td>\n",
       "    </tr>\n",
       "    <tr>\n",
       "      <th>rooms</th>\n",
       "      <td>0.078308</td>\n",
       "    </tr>\n",
       "    <tr>\n",
       "      <th>bathrooms</th>\n",
       "      <td>0.051227</td>\n",
       "    </tr>\n",
       "    <tr>\n",
       "      <th>city/neighorhood</th>\n",
       "      <td>0.038891</td>\n",
       "    </tr>\n",
       "    <tr>\n",
       "      <th>currency</th>\n",
       "      <td>0.029102</td>\n",
       "    </tr>\n",
       "    <tr>\n",
       "      <th>price</th>\n",
       "      <td>0.025663</td>\n",
       "    </tr>\n",
       "    <tr>\n",
       "      <th>title</th>\n",
       "      <td>0.000114</td>\n",
       "    </tr>\n",
       "    <tr>\n",
       "      <th>description</th>\n",
       "      <td>0.000009</td>\n",
       "    </tr>\n",
       "    <tr>\n",
       "      <th>property_type</th>\n",
       "      <td>0.000000</td>\n",
       "    </tr>\n",
       "    <tr>\n",
       "      <th>ad_type</th>\n",
       "      <td>0.000000</td>\n",
       "    </tr>\n",
       "    <tr>\n",
       "      <th>start_date</th>\n",
       "      <td>0.000000</td>\n",
       "    </tr>\n",
       "    <tr>\n",
       "      <th>province</th>\n",
       "      <td>0.000000</td>\n",
       "    </tr>\n",
       "    <tr>\n",
       "      <th>country</th>\n",
       "      <td>0.000000</td>\n",
       "    </tr>\n",
       "    <tr>\n",
       "      <th>created_on</th>\n",
       "      <td>0.000000</td>\n",
       "    </tr>\n",
       "    <tr>\n",
       "      <th>operation_type</th>\n",
       "      <td>0.000000</td>\n",
       "    </tr>\n",
       "  </tbody>\n",
       "</table>\n",
       "</div>"
      ],
      "text/plain": [
       "                       Missing Values\n",
       "Feature                              \n",
       "l5                           1.000000\n",
       "published_neigborhood        0.858717\n",
       "price_period                 0.624993\n",
       "bedrooms                     0.324230\n",
       "surface_total                0.302489\n",
       "surface_covered              0.298368\n",
       "end_date                     0.181753\n",
       "lat                          0.084616\n",
       "lon                          0.083942\n",
       "rooms                        0.078308\n",
       "bathrooms                    0.051227\n",
       "city/neighorhood             0.038891\n",
       "currency                     0.029102\n",
       "price                        0.025663\n",
       "title                        0.000114\n",
       "description                  0.000009\n",
       "property_type                0.000000\n",
       "ad_type                      0.000000\n",
       "start_date                   0.000000\n",
       "province                     0.000000\n",
       "country                      0.000000\n",
       "created_on                   0.000000\n",
       "operation_type               0.000000"
      ]
     },
     "execution_count": 309,
     "metadata": {},
     "output_type": "execute_result"
    }
   ],
   "source": [
    "df_train.isnull().sum().rename_axis(\"Feature\", axis=0).sort_values(ascending=False).to_frame(\"Missing Values\") / len(df_train)"
   ]
  },
  {
   "cell_type": "code",
   "execution_count": 310,
   "metadata": {
    "tags": []
   },
   "outputs": [
    {
     "data": {
      "text/html": [
       "<div>\n",
       "<style scoped>\n",
       "    .dataframe tbody tr th:only-of-type {\n",
       "        vertical-align: middle;\n",
       "    }\n",
       "\n",
       "    .dataframe tbody tr th {\n",
       "        vertical-align: top;\n",
       "    }\n",
       "\n",
       "    .dataframe thead th {\n",
       "        text-align: right;\n",
       "    }\n",
       "</style>\n",
       "<table border=\"1\" class=\"dataframe\">\n",
       "  <thead>\n",
       "    <tr style=\"text-align: right;\">\n",
       "      <th></th>\n",
       "      <th>Count</th>\n",
       "    </tr>\n",
       "    <tr>\n",
       "      <th>country</th>\n",
       "      <th></th>\n",
       "    </tr>\n",
       "  </thead>\n",
       "  <tbody>\n",
       "    <tr>\n",
       "      <th>Argentina</th>\n",
       "      <td>210847</td>\n",
       "    </tr>\n",
       "  </tbody>\n",
       "</table>\n",
       "</div>"
      ],
      "text/plain": [
       "            Count\n",
       "country          \n",
       "Argentina  210847"
      ]
     },
     "execution_count": 310,
     "metadata": {},
     "output_type": "execute_result"
    }
   ],
   "source": [
    "df_train['country'].value_counts(dropna=False).rename_axis(\"country\").to_frame(\"Count\")"
   ]
  },
  {
   "cell_type": "code",
   "execution_count": 311,
   "metadata": {
    "tags": []
   },
   "outputs": [
    {
     "data": {
      "text/html": [
       "<div>\n",
       "<style scoped>\n",
       "    .dataframe tbody tr th:only-of-type {\n",
       "        vertical-align: middle;\n",
       "    }\n",
       "\n",
       "    .dataframe tbody tr th {\n",
       "        vertical-align: top;\n",
       "    }\n",
       "\n",
       "    .dataframe thead th {\n",
       "        text-align: right;\n",
       "    }\n",
       "</style>\n",
       "<table border=\"1\" class=\"dataframe\">\n",
       "  <thead>\n",
       "    <tr style=\"text-align: right;\">\n",
       "      <th></th>\n",
       "      <th>Count</th>\n",
       "    </tr>\n",
       "    <tr>\n",
       "      <th>Province</th>\n",
       "      <th></th>\n",
       "    </tr>\n",
       "  </thead>\n",
       "  <tbody>\n",
       "    <tr>\n",
       "      <th>Capital Federal</th>\n",
       "      <td>170533</td>\n",
       "    </tr>\n",
       "    <tr>\n",
       "      <th>Bs.As. G.B.A. Zona Sur</th>\n",
       "      <td>40314</td>\n",
       "    </tr>\n",
       "  </tbody>\n",
       "</table>\n",
       "</div>"
      ],
      "text/plain": [
       "                         Count\n",
       "Province                      \n",
       "Capital Federal         170533\n",
       "Bs.As. G.B.A. Zona Sur   40314"
      ]
     },
     "execution_count": 311,
     "metadata": {},
     "output_type": "execute_result"
    }
   ],
   "source": [
    "df_train['province'].value_counts(dropna=False).rename_axis(\"Province\").to_frame(\"Count\")"
   ]
  },
  {
   "cell_type": "code",
   "execution_count": 314,
   "metadata": {
    "tags": []
   },
   "outputs": [
    {
     "data": {
      "text/html": [
       "<div>\n",
       "<style scoped>\n",
       "    .dataframe tbody tr th:only-of-type {\n",
       "        vertical-align: middle;\n",
       "    }\n",
       "\n",
       "    .dataframe tbody tr th {\n",
       "        vertical-align: top;\n",
       "    }\n",
       "\n",
       "    .dataframe thead th {\n",
       "        text-align: right;\n",
       "    }\n",
       "</style>\n",
       "<table border=\"1\" class=\"dataframe\">\n",
       "  <thead>\n",
       "    <tr style=\"text-align: right;\">\n",
       "      <th></th>\n",
       "      <th>Count</th>\n",
       "    </tr>\n",
       "    <tr>\n",
       "      <th>Neigborhood</th>\n",
       "      <th></th>\n",
       "    </tr>\n",
       "  </thead>\n",
       "  <tbody>\n",
       "    <tr>\n",
       "      <th>Palermo</th>\n",
       "      <td>29267</td>\n",
       "    </tr>\n",
       "    <tr>\n",
       "      <th>Belgrano</th>\n",
       "      <td>14269</td>\n",
       "    </tr>\n",
       "    <tr>\n",
       "      <th>Almagro</th>\n",
       "      <td>12053</td>\n",
       "    </tr>\n",
       "    <tr>\n",
       "      <th>Recoleta</th>\n",
       "      <td>11608</td>\n",
       "    </tr>\n",
       "    <tr>\n",
       "      <th>Villa Crespo</th>\n",
       "      <td>10963</td>\n",
       "    </tr>\n",
       "    <tr>\n",
       "      <th>...</th>\n",
       "      <td>...</td>\n",
       "    </tr>\n",
       "    <tr>\n",
       "      <th>Cañuelas</th>\n",
       "      <td>39</td>\n",
       "    </tr>\n",
       "    <tr>\n",
       "      <th>Villa Riachuelo</th>\n",
       "      <td>25</td>\n",
       "    </tr>\n",
       "    <tr>\n",
       "      <th>Presidente Perón</th>\n",
       "      <td>20</td>\n",
       "    </tr>\n",
       "    <tr>\n",
       "      <th>Catalinas</th>\n",
       "      <td>11</td>\n",
       "    </tr>\n",
       "    <tr>\n",
       "      <th>Distrito Audiovisual</th>\n",
       "      <td>1</td>\n",
       "    </tr>\n",
       "  </tbody>\n",
       "</table>\n",
       "<p>72 rows × 1 columns</p>\n",
       "</div>"
      ],
      "text/plain": [
       "                      Count\n",
       "Neigborhood                \n",
       "Palermo               29267\n",
       "Belgrano              14269\n",
       "Almagro               12053\n",
       "Recoleta              11608\n",
       "Villa Crespo          10963\n",
       "...                     ...\n",
       "Cañuelas                 39\n",
       "Villa Riachuelo          25\n",
       "Presidente Perón         20\n",
       "Catalinas                11\n",
       "Distrito Audiovisual      1\n",
       "\n",
       "[72 rows x 1 columns]"
      ]
     },
     "execution_count": 314,
     "metadata": {},
     "output_type": "execute_result"
    }
   ],
   "source": [
    "df_train['city/neighorhood'].value_counts(dropna=False).rename_axis(\"Neigborhood\").to_frame(\"Count\")"
   ]
  },
  {
   "cell_type": "code",
   "execution_count": 315,
   "metadata": {
    "tags": []
   },
   "outputs": [
    {
     "data": {
      "text/html": [
       "<div>\n",
       "<style scoped>\n",
       "    .dataframe tbody tr th:only-of-type {\n",
       "        vertical-align: middle;\n",
       "    }\n",
       "\n",
       "    .dataframe tbody tr th {\n",
       "        vertical-align: top;\n",
       "    }\n",
       "\n",
       "    .dataframe thead th {\n",
       "        text-align: right;\n",
       "    }\n",
       "</style>\n",
       "<table border=\"1\" class=\"dataframe\">\n",
       "  <thead>\n",
       "    <tr style=\"text-align: right;\">\n",
       "      <th></th>\n",
       "      <th>Count</th>\n",
       "    </tr>\n",
       "    <tr>\n",
       "      <th>Property Type</th>\n",
       "      <th></th>\n",
       "    </tr>\n",
       "  </thead>\n",
       "  <tbody>\n",
       "    <tr>\n",
       "      <th>Departamento</th>\n",
       "      <td>192989</td>\n",
       "    </tr>\n",
       "    <tr>\n",
       "      <th>PH</th>\n",
       "      <td>17858</td>\n",
       "    </tr>\n",
       "  </tbody>\n",
       "</table>\n",
       "</div>"
      ],
      "text/plain": [
       "                Count\n",
       "Property Type        \n",
       "Departamento   192989\n",
       "PH              17858"
      ]
     },
     "execution_count": 315,
     "metadata": {},
     "output_type": "execute_result"
    }
   ],
   "source": [
    "df_train['property_type'].value_counts(dropna=False).rename_axis(\"Property Type\").to_frame(\"Count\")"
   ]
  },
  {
   "cell_type": "code",
   "execution_count": 317,
   "metadata": {
    "tags": []
   },
   "outputs": [
    {
     "data": {
      "text/html": [
       "<div>\n",
       "<style scoped>\n",
       "    .dataframe tbody tr th:only-of-type {\n",
       "        vertical-align: middle;\n",
       "    }\n",
       "\n",
       "    .dataframe tbody tr th {\n",
       "        vertical-align: top;\n",
       "    }\n",
       "\n",
       "    .dataframe thead th {\n",
       "        text-align: right;\n",
       "    }\n",
       "</style>\n",
       "<table border=\"1\" class=\"dataframe\">\n",
       "  <thead>\n",
       "    <tr style=\"text-align: right;\">\n",
       "      <th></th>\n",
       "      <th>Count</th>\n",
       "    </tr>\n",
       "    <tr>\n",
       "      <th>neigborhood</th>\n",
       "      <th></th>\n",
       "    </tr>\n",
       "  </thead>\n",
       "  <tbody>\n",
       "    <tr>\n",
       "      <th>None</th>\n",
       "      <td>181058</td>\n",
       "    </tr>\n",
       "    <tr>\n",
       "      <th>La Plata</th>\n",
       "      <td>5281</td>\n",
       "    </tr>\n",
       "    <tr>\n",
       "      <th>Palermo Hollywood</th>\n",
       "      <td>3511</td>\n",
       "    </tr>\n",
       "    <tr>\n",
       "      <th>Palermo Chico</th>\n",
       "      <td>2347</td>\n",
       "    </tr>\n",
       "    <tr>\n",
       "      <th>Palermo Soho</th>\n",
       "      <td>2287</td>\n",
       "    </tr>\n",
       "    <tr>\n",
       "      <th>...</th>\n",
       "      <td>...</td>\n",
       "    </tr>\n",
       "    <tr>\n",
       "      <th>San Jose</th>\n",
       "      <td>1</td>\n",
       "    </tr>\n",
       "    <tr>\n",
       "      <th>Laguna Azul</th>\n",
       "      <td>1</td>\n",
       "    </tr>\n",
       "    <tr>\n",
       "      <th>Alejandro Petión</th>\n",
       "      <td>1</td>\n",
       "    </tr>\n",
       "    <tr>\n",
       "      <th>Fincas de San Vicente</th>\n",
       "      <td>1</td>\n",
       "    </tr>\n",
       "    <tr>\n",
       "      <th>Bosques</th>\n",
       "      <td>1</td>\n",
       "    </tr>\n",
       "  </tbody>\n",
       "</table>\n",
       "<p>97 rows × 1 columns</p>\n",
       "</div>"
      ],
      "text/plain": [
       "                        Count\n",
       "neigborhood                  \n",
       "None                   181058\n",
       "La Plata                 5281\n",
       "Palermo Hollywood        3511\n",
       "Palermo Chico            2347\n",
       "Palermo Soho             2287\n",
       "...                       ...\n",
       "San Jose                    1\n",
       "Laguna Azul                 1\n",
       "Alejandro Petión            1\n",
       "Fincas de San Vicente       1\n",
       "Bosques                     1\n",
       "\n",
       "[97 rows x 1 columns]"
      ]
     },
     "execution_count": 317,
     "metadata": {},
     "output_type": "execute_result"
    }
   ],
   "source": [
    "df_train['published_neigborhood'].value_counts(dropna=False).rename_axis(\"neigborhood\").to_frame(\"Count\")"
   ]
  },
  {
   "cell_type": "code",
   "execution_count": 184,
   "metadata": {
    "tags": []
   },
   "outputs": [
    {
     "data": {
      "image/png": "[encoded data removed]",
      "text/plain": [
       "<Figure size 1200x800 with 1 Axes>"
      ]
     },
     "metadata": {},
     "output_type": "display_data"
    }
   ],
   "source": [
    "sns.countplot(x = \"province\", data = df_train[df_train[\"country\"].isin([\"Argentina\"])])\n",
    "plt.tight_layout()\n",
    "plt.show(block=False)"
   ]
  },
  {
   "cell_type": "code",
   "execution_count": 318,
   "metadata": {
    "tags": []
   },
   "outputs": [
    {
     "data": {
      "image/png": "[encoded data removed]",
      "text/plain": [
       "<Figure size 1200x800 with 1 Axes>"
      ]
     },
     "metadata": {},
     "output_type": "display_data"
    }
   ],
   "source": [
    "sns.countplot(x = \"property_type\", data = df_train, hue=\"province\")\n",
    "plt.tight_layout()\n",
    "plt.show(block=False)"
   ]
  },
  {
   "cell_type": "code",
   "execution_count": 319,
   "metadata": {
    "tags": []
   },
   "outputs": [
    {
     "data": {
      "image/png": "[encoded data removed]",
      "text/plain": [
       "<Figure size 1200x800 with 1 Axes>"
      ]
     },
     "metadata": {},
     "output_type": "display_data"
    }
   ],
   "source": [
    "sns.histplot(x = \"price\", data = df_train, hue=\"province\")\n",
    "plt.tight_layout()\n",
    "plt.show(block=False)"
   ]
  },
  {
   "cell_type": "code",
   "execution_count": 186,
   "metadata": {
    "tags": []
   },
   "outputs": [],
   "source": [
    "df_train = df_train.drop_duplicates(keep=\"last\")"
   ]
  },
  {
   "cell_type": "code",
   "execution_count": 187,
   "metadata": {
    "tags": []
   },
   "outputs": [],
   "source": [
    "df_train = df_train.reset_index(drop=False)"
   ]
  },
  {
   "cell_type": "code",
   "execution_count": 188,
   "metadata": {
    "tags": []
   },
   "outputs": [],
   "source": [
    "# to_drop = ['surface_total','surface_covered','rooms','price']\n",
    "# df_train = df_train.dropna(subset = to_drop, axis = 0)\n",
    "# df_train.head(2)"
   ]
  },
  {
   "cell_type": "code",
   "execution_count": 189,
   "metadata": {
    "tags": []
   },
   "outputs": [
    {
     "name": "stdout",
     "output_type": "stream",
     "text": [
      "<class 'pandas.core.frame.DataFrame'>\n",
      "RangeIndex: 5963 entries, 0 to 5962\n",
      "Data columns (total 24 columns):\n",
      " #   Column                 Non-Null Count  Dtype         \n",
      "---  ------                 --------------  -----         \n",
      " 0   id                     5963 non-null   int64         \n",
      " 1   ad_type                5963 non-null   object        \n",
      " 2   start_date             5963 non-null   datetime64[ns]\n",
      " 3   end_date               4783 non-null   datetime64[ns]\n",
      " 4   created_on             5963 non-null   datetime64[ns]\n",
      " 5   lat                    5513 non-null   float64       \n",
      " 6   lon                    5514 non-null   float64       \n",
      " 7   country                5963 non-null   object        \n",
      " 8   province               5963 non-null   object        \n",
      " 9   city                   5752 non-null   object        \n",
      " 10  neigborhood            456 non-null    object        \n",
      " 11  published_neigborhood  0 non-null      float64       \n",
      " 12  rooms                  5963 non-null   float64       \n",
      " 13  bedrooms               4904 non-null   float64       \n",
      " 14  bathrooms              5746 non-null   float64       \n",
      " 15  surface_total          4744 non-null   float64       \n",
      " 16  surface_covered        4846 non-null   float64       \n",
      " 17  price                  0 non-null      float64       \n",
      " 18  currency               5963 non-null   object        \n",
      " 19  price_period           1905 non-null   object        \n",
      " 20  title                  5963 non-null   object        \n",
      " 21  description            5963 non-null   object        \n",
      " 22  property_type          5963 non-null   object        \n",
      " 23  operation_type         5963 non-null   object        \n",
      "dtypes: datetime64[ns](3), float64(9), int64(1), object(11)\n",
      "memory usage: 1.1+ MB\n"
     ]
    }
   ],
   "source": [
    "df_train.info()"
   ]
  },
  {
   "cell_type": "code",
   "execution_count": 190,
   "metadata": {
    "tags": []
   },
   "outputs": [
    {
     "data": {
      "text/html": [
       "<div>\n",
       "<style scoped>\n",
       "    .dataframe tbody tr th:only-of-type {\n",
       "        vertical-align: middle;\n",
       "    }\n",
       "\n",
       "    .dataframe tbody tr th {\n",
       "        vertical-align: top;\n",
       "    }\n",
       "\n",
       "    .dataframe thead th {\n",
       "        text-align: right;\n",
       "    }\n",
       "</style>\n",
       "<table border=\"1\" class=\"dataframe\">\n",
       "  <thead>\n",
       "    <tr style=\"text-align: right;\">\n",
       "      <th></th>\n",
       "      <th>Missing Values</th>\n",
       "    </tr>\n",
       "    <tr>\n",
       "      <th>Feature</th>\n",
       "      <th></th>\n",
       "    </tr>\n",
       "  </thead>\n",
       "  <tbody>\n",
       "    <tr>\n",
       "      <th>price</th>\n",
       "      <td>1.000000</td>\n",
       "    </tr>\n",
       "    <tr>\n",
       "      <th>published_neigborhood</th>\n",
       "      <td>1.000000</td>\n",
       "    </tr>\n",
       "    <tr>\n",
       "      <th>neigborhood</th>\n",
       "      <td>0.923528</td>\n",
       "    </tr>\n",
       "    <tr>\n",
       "      <th>price_period</th>\n",
       "      <td>0.680530</td>\n",
       "    </tr>\n",
       "    <tr>\n",
       "      <th>surface_total</th>\n",
       "      <td>0.204427</td>\n",
       "    </tr>\n",
       "    <tr>\n",
       "      <th>end_date</th>\n",
       "      <td>0.197887</td>\n",
       "    </tr>\n",
       "    <tr>\n",
       "      <th>surface_covered</th>\n",
       "      <td>0.187322</td>\n",
       "    </tr>\n",
       "    <tr>\n",
       "      <th>bedrooms</th>\n",
       "      <td>0.177595</td>\n",
       "    </tr>\n",
       "    <tr>\n",
       "      <th>lat</th>\n",
       "      <td>0.075465</td>\n",
       "    </tr>\n",
       "    <tr>\n",
       "      <th>lon</th>\n",
       "      <td>0.075298</td>\n",
       "    </tr>\n",
       "    <tr>\n",
       "      <th>bathrooms</th>\n",
       "      <td>0.036391</td>\n",
       "    </tr>\n",
       "    <tr>\n",
       "      <th>city</th>\n",
       "      <td>0.035385</td>\n",
       "    </tr>\n",
       "    <tr>\n",
       "      <th>title</th>\n",
       "      <td>0.000000</td>\n",
       "    </tr>\n",
       "    <tr>\n",
       "      <th>description</th>\n",
       "      <td>0.000000</td>\n",
       "    </tr>\n",
       "    <tr>\n",
       "      <th>currency</th>\n",
       "      <td>0.000000</td>\n",
       "    </tr>\n",
       "    <tr>\n",
       "      <th>property_type</th>\n",
       "      <td>0.000000</td>\n",
       "    </tr>\n",
       "    <tr>\n",
       "      <th>id</th>\n",
       "      <td>0.000000</td>\n",
       "    </tr>\n",
       "    <tr>\n",
       "      <th>rooms</th>\n",
       "      <td>0.000000</td>\n",
       "    </tr>\n",
       "    <tr>\n",
       "      <th>ad_type</th>\n",
       "      <td>0.000000</td>\n",
       "    </tr>\n",
       "    <tr>\n",
       "      <th>province</th>\n",
       "      <td>0.000000</td>\n",
       "    </tr>\n",
       "    <tr>\n",
       "      <th>country</th>\n",
       "      <td>0.000000</td>\n",
       "    </tr>\n",
       "    <tr>\n",
       "      <th>created_on</th>\n",
       "      <td>0.000000</td>\n",
       "    </tr>\n",
       "    <tr>\n",
       "      <th>start_date</th>\n",
       "      <td>0.000000</td>\n",
       "    </tr>\n",
       "    <tr>\n",
       "      <th>operation_type</th>\n",
       "      <td>0.000000</td>\n",
       "    </tr>\n",
       "  </tbody>\n",
       "</table>\n",
       "</div>"
      ],
      "text/plain": [
       "                       Missing Values\n",
       "Feature                              \n",
       "price                        1.000000\n",
       "published_neigborhood        1.000000\n",
       "neigborhood                  0.923528\n",
       "price_period                 0.680530\n",
       "surface_total                0.204427\n",
       "end_date                     0.197887\n",
       "surface_covered              0.187322\n",
       "bedrooms                     0.177595\n",
       "lat                          0.075465\n",
       "lon                          0.075298\n",
       "bathrooms                    0.036391\n",
       "city                         0.035385\n",
       "title                        0.000000\n",
       "description                  0.000000\n",
       "currency                     0.000000\n",
       "property_type                0.000000\n",
       "id                           0.000000\n",
       "rooms                        0.000000\n",
       "ad_type                      0.000000\n",
       "province                     0.000000\n",
       "country                      0.000000\n",
       "created_on                   0.000000\n",
       "start_date                   0.000000\n",
       "operation_type               0.000000"
      ]
     },
     "execution_count": 190,
     "metadata": {},
     "output_type": "execute_result"
    }
   ],
   "source": [
    "df_train.isnull().sum().rename_axis(\"Feature\", axis=0).sort_values(ascending=False).to_frame(\"Missing Values\") / len(df_train)"
   ]
  },
  {
   "cell_type": "code",
   "execution_count": 191,
   "metadata": {
    "tags": []
   },
   "outputs": [
    {
     "data": {
      "text/plain": [
       "39"
      ]
     },
     "execution_count": 191,
     "metadata": {},
     "output_type": "execute_result"
    }
   ],
   "source": [
    "wrong_surface_rows = df_train[df_train['surface_total'] < df_train['surface_covered']]\n",
    "len(wrong_surface_rows)"
   ]
  },
  {
   "cell_type": "code",
   "execution_count": 192,
   "metadata": {
    "tags": []
   },
   "outputs": [
    {
     "data": {
      "text/plain": [
       "190     39.0\n",
       "249     36.0\n",
       "266     37.0\n",
       "694     36.0\n",
       "701     53.0\n",
       "913     58.0\n",
       "916     11.0\n",
       "1062    46.0\n",
       "1214    51.0\n",
       "1358    74.0\n",
       "1497    34.0\n",
       "1499    82.0\n",
       "1512    51.0\n",
       "1594    57.0\n",
       "1710    10.0\n",
       "1769    75.0\n",
       "1789    76.0\n",
       "2173    32.0\n",
       "2211    42.0\n",
       "2297    30.0\n",
       "2556    53.0\n",
       "2720    49.0\n",
       "2822    54.0\n",
       "3084    38.0\n",
       "3465    49.0\n",
       "3613    63.0\n",
       "3614    50.0\n",
       "3663    25.0\n",
       "3754    63.0\n",
       "3878    42.0\n",
       "3891    29.0\n",
       "3898    29.0\n",
       "4018    46.0\n",
       "4116    63.0\n",
       "4324    39.0\n",
       "5360    51.0\n",
       "5692    28.0\n",
       "5917    20.0\n",
       "5942    33.0\n",
       "Name: surface_total, dtype: float64"
      ]
     },
     "execution_count": 192,
     "metadata": {},
     "output_type": "execute_result"
    }
   ],
   "source": [
    "df_train.loc[wrong_surface_rows.index, 'surface_total']"
   ]
  },
  {
   "cell_type": "code",
   "execution_count": 193,
   "metadata": {
    "tags": []
   },
   "outputs": [],
   "source": [
    "df_train.loc[pd.Series(wrong_surface_rows.index), 'surface_total'] = wrong_surface_rows.surface_covered\n",
    "df_train.loc[pd.Series(wrong_surface_rows.index), 'surface_covered'] = wrong_surface_rows.surface_total"
   ]
  },
  {
   "cell_type": "code",
   "execution_count": 194,
   "metadata": {
    "tags": []
   },
   "outputs": [
    {
     "data": {
      "text/plain": [
       "lat         lon       \n",
       "-58.455819  -34.579326    28\n",
       "-58.445498  -34.597256    21\n",
       "-58.420122  -34.588007    16\n",
       "-58.451789  -34.604387    15\n",
       "-58.421008  -34.608248    14\n",
       "-58.402925  -34.604328    13\n",
       "-58.420728  -34.589767    12\n",
       "-58.420994  -34.611445    12\n",
       "-58.417970  -34.603810    12\n",
       "-58.432771  -34.603219    11\n",
       "dtype: int64"
      ]
     },
     "execution_count": 194,
     "metadata": {},
     "output_type": "execute_result"
    }
   ],
   "source": [
    "conteo_puntos = df_train.groupby(['lat', 'lon']).size()\n",
    "conteo_puntos[conteo_puntos > 1].sort_values(ascending=False).head(10)"
   ]
  },
  {
   "cell_type": "code",
   "execution_count": 195,
   "metadata": {
    "tags": []
   },
   "outputs": [],
   "source": [
    "df_train[[\"lat\", \"lon\"]] = df_train[[\"lon\",\"lat\"]]"
   ]
  },
  {
   "cell_type": "code",
   "execution_count": 196,
   "metadata": {
    "tags": []
   },
   "outputs": [
    {
     "data": {
      "text/plain": [
       "lat         lon       \n",
       "-34.579326  -58.455819    28\n",
       "-34.597256  -58.445498    21\n",
       "-34.588007  -58.420122    16\n",
       "-34.604387  -58.451789    15\n",
       "-34.608248  -58.421008    14\n",
       "-34.604328  -58.402925    13\n",
       "-34.589767  -58.420728    12\n",
       "-34.603810  -58.417970    12\n",
       "-34.611445  -58.420994    12\n",
       "-34.593371  -58.442232    11\n",
       "dtype: int64"
      ]
     },
     "execution_count": 196,
     "metadata": {},
     "output_type": "execute_result"
    }
   ],
   "source": [
    "conteo_puntos = df_train.groupby(['lat', 'lon']).size()\n",
    "conteo_puntos[conteo_puntos > 1].sort_values(ascending=False).head(10)"
   ]
  },
  {
   "cell_type": "code",
   "execution_count": 197,
   "metadata": {},
   "outputs": [],
   "source": [
    "conteo_puntos.name = 'conteo'\n",
    "df_train = df_train.join(conteo_puntos, on=['lat', 'lon'])\n",
    "df_train = df_train[df_train.conteo <= 5]"
   ]
  },
  {
   "cell_type": "code",
   "execution_count": 198,
   "metadata": {
    "tags": []
   },
   "outputs": [
    {
     "data": {
      "text/plain": [
       "'Chacarita'"
      ]
     },
     "execution_count": 198,
     "metadata": {},
     "output_type": "execute_result"
    }
   ],
   "source": [
    "geolocator = Nominatim(user_agent=\"Bing\")\n",
    "location = geolocator.reverse(Latitude+\",\"+Longitude)\n",
    "location.raw[\"address\"][\"suburb\"]"
   ]
  },
  {
   "cell_type": "code",
   "execution_count": 199,
   "metadata": {
    "tags": []
   },
   "outputs": [],
   "source": [
    "df_train.drop('conteo', inplace=True, axis=1)"
   ]
  },
  {
   "cell_type": "code",
   "execution_count": 202,
   "metadata": {
    "tags": []
   },
   "outputs": [],
   "source": [
    "total_propiedades = df_train.groupby('neigborhood')['property_type'].count().values"
   ]
  },
  {
   "cell_type": "code",
   "execution_count": 203,
   "metadata": {
    "tags": []
   },
   "outputs": [
    {
     "ename": "KeyError",
     "evalue": "'l3'",
     "output_type": "error",
     "traceback": [
      "\u001b[0;31m---------------------------------------------------------------------------\u001b[0m",
      "\u001b[0;31mKeyError\u001b[0m                                  Traceback (most recent call last)",
      "Cell \u001b[0;32mIn[203], line 1\u001b[0m\n\u001b[0;32m----> 1\u001b[0m porcentaje_casas_ph \u001b[38;5;241m=\u001b[39m \u001b[43mdf_train\u001b[49m\u001b[43m[\u001b[49m\u001b[43mdf_train\u001b[49m\u001b[38;5;241;43m.\u001b[39;49m\u001b[43mproperty_type\u001b[49m\u001b[38;5;241;43m.\u001b[39;49m\u001b[43misin\u001b[49m\u001b[43m(\u001b[49m\u001b[43m[\u001b[49m\u001b[38;5;124;43m'\u001b[39;49m\u001b[38;5;124;43mPH\u001b[39;49m\u001b[38;5;124;43m'\u001b[39;49m\u001b[43m,\u001b[49m\u001b[43m \u001b[49m\u001b[38;5;124;43m'\u001b[39;49m\u001b[38;5;124;43mCasa\u001b[39;49m\u001b[38;5;124;43m'\u001b[39;49m\u001b[43m]\u001b[49m\u001b[43m)\u001b[49m\u001b[43m]\u001b[49m\u001b[38;5;241;43m.\u001b[39;49m\u001b[43mgroupby\u001b[49m\u001b[43m(\u001b[49m\u001b[38;5;124;43m'\u001b[39;49m\u001b[38;5;124;43ml3\u001b[39;49m\u001b[38;5;124;43m'\u001b[39;49m\u001b[43m)\u001b[49m\u001b[38;5;241m.\u001b[39mcount()\u001b[38;5;241m.\u001b[39mproperty_type\u001b[38;5;241m/\u001b[39mtotal_propiedades\n\u001b[1;32m      2\u001b[0m porcentaje_edificios \u001b[38;5;241m=\u001b[39m df_train[df_train\u001b[38;5;241m.\u001b[39mproperty_type \u001b[38;5;241m==\u001b[39m \u001b[38;5;124m'\u001b[39m\u001b[38;5;124mDepartamento\u001b[39m\u001b[38;5;124m'\u001b[39m]\u001b[38;5;241m.\u001b[39mgroupby(\u001b[38;5;124m'\u001b[39m\u001b[38;5;124ml3\u001b[39m\u001b[38;5;124m'\u001b[39m)\u001b[38;5;241m.\u001b[39mcount()\u001b[38;5;241m.\u001b[39mproperty_type\n",
      "File \u001b[0;32m~/miniconda3/lib/python3.11/site-packages/pandas/core/frame.py:8262\u001b[0m, in \u001b[0;36mDataFrame.groupby\u001b[0;34m(self, by, axis, level, as_index, sort, group_keys, observed, dropna)\u001b[0m\n\u001b[1;32m   8259\u001b[0m     \u001b[38;5;28;01mraise\u001b[39;00m \u001b[38;5;167;01mTypeError\u001b[39;00m(\u001b[38;5;124m\"\u001b[39m\u001b[38;5;124mYou have to supply one of \u001b[39m\u001b[38;5;124m'\u001b[39m\u001b[38;5;124mby\u001b[39m\u001b[38;5;124m'\u001b[39m\u001b[38;5;124m and \u001b[39m\u001b[38;5;124m'\u001b[39m\u001b[38;5;124mlevel\u001b[39m\u001b[38;5;124m'\u001b[39m\u001b[38;5;124m\"\u001b[39m)\n\u001b[1;32m   8260\u001b[0m axis \u001b[38;5;241m=\u001b[39m \u001b[38;5;28mself\u001b[39m\u001b[38;5;241m.\u001b[39m_get_axis_number(axis)\n\u001b[0;32m-> 8262\u001b[0m \u001b[38;5;28;01mreturn\u001b[39;00m \u001b[43mDataFrameGroupBy\u001b[49m\u001b[43m(\u001b[49m\n\u001b[1;32m   8263\u001b[0m \u001b[43m    \u001b[49m\u001b[43mobj\u001b[49m\u001b[38;5;241;43m=\u001b[39;49m\u001b[38;5;28;43mself\u001b[39;49m\u001b[43m,\u001b[49m\n\u001b[1;32m   8264\u001b[0m \u001b[43m    \u001b[49m\u001b[43mkeys\u001b[49m\u001b[38;5;241;43m=\u001b[39;49m\u001b[43mby\u001b[49m\u001b[43m,\u001b[49m\n\u001b[1;32m   8265\u001b[0m \u001b[43m    \u001b[49m\u001b[43maxis\u001b[49m\u001b[38;5;241;43m=\u001b[39;49m\u001b[43maxis\u001b[49m\u001b[43m,\u001b[49m\n\u001b[1;32m   8266\u001b[0m \u001b[43m    \u001b[49m\u001b[43mlevel\u001b[49m\u001b[38;5;241;43m=\u001b[39;49m\u001b[43mlevel\u001b[49m\u001b[43m,\u001b[49m\n\u001b[1;32m   8267\u001b[0m \u001b[43m    \u001b[49m\u001b[43mas_index\u001b[49m\u001b[38;5;241;43m=\u001b[39;49m\u001b[43mas_index\u001b[49m\u001b[43m,\u001b[49m\n\u001b[1;32m   8268\u001b[0m \u001b[43m    \u001b[49m\u001b[43msort\u001b[49m\u001b[38;5;241;43m=\u001b[39;49m\u001b[43msort\u001b[49m\u001b[43m,\u001b[49m\n\u001b[1;32m   8269\u001b[0m \u001b[43m    \u001b[49m\u001b[43mgroup_keys\u001b[49m\u001b[38;5;241;43m=\u001b[39;49m\u001b[43mgroup_keys\u001b[49m\u001b[43m,\u001b[49m\n\u001b[1;32m   8270\u001b[0m \u001b[43m    \u001b[49m\u001b[43mobserved\u001b[49m\u001b[38;5;241;43m=\u001b[39;49m\u001b[43mobserved\u001b[49m\u001b[43m,\u001b[49m\n\u001b[1;32m   8271\u001b[0m \u001b[43m    \u001b[49m\u001b[43mdropna\u001b[49m\u001b[38;5;241;43m=\u001b[39;49m\u001b[43mdropna\u001b[49m\u001b[43m,\u001b[49m\n\u001b[1;32m   8272\u001b[0m \u001b[43m\u001b[49m\u001b[43m)\u001b[49m\n",
      "File \u001b[0;32m~/miniconda3/lib/python3.11/site-packages/pandas/core/groupby/groupby.py:931\u001b[0m, in \u001b[0;36mGroupBy.__init__\u001b[0;34m(self, obj, keys, axis, level, grouper, exclusions, selection, as_index, sort, group_keys, observed, dropna)\u001b[0m\n\u001b[1;32m    928\u001b[0m \u001b[38;5;28mself\u001b[39m\u001b[38;5;241m.\u001b[39mdropna \u001b[38;5;241m=\u001b[39m dropna\n\u001b[1;32m    930\u001b[0m \u001b[38;5;28;01mif\u001b[39;00m grouper \u001b[38;5;129;01mis\u001b[39;00m \u001b[38;5;28;01mNone\u001b[39;00m:\n\u001b[0;32m--> 931\u001b[0m     grouper, exclusions, obj \u001b[38;5;241m=\u001b[39m \u001b[43mget_grouper\u001b[49m\u001b[43m(\u001b[49m\n\u001b[1;32m    932\u001b[0m \u001b[43m        \u001b[49m\u001b[43mobj\u001b[49m\u001b[43m,\u001b[49m\n\u001b[1;32m    933\u001b[0m \u001b[43m        \u001b[49m\u001b[43mkeys\u001b[49m\u001b[43m,\u001b[49m\n\u001b[1;32m    934\u001b[0m \u001b[43m        \u001b[49m\u001b[43maxis\u001b[49m\u001b[38;5;241;43m=\u001b[39;49m\u001b[43maxis\u001b[49m\u001b[43m,\u001b[49m\n\u001b[1;32m    935\u001b[0m \u001b[43m        \u001b[49m\u001b[43mlevel\u001b[49m\u001b[38;5;241;43m=\u001b[39;49m\u001b[43mlevel\u001b[49m\u001b[43m,\u001b[49m\n\u001b[1;32m    936\u001b[0m \u001b[43m        \u001b[49m\u001b[43msort\u001b[49m\u001b[38;5;241;43m=\u001b[39;49m\u001b[43msort\u001b[49m\u001b[43m,\u001b[49m\n\u001b[1;32m    937\u001b[0m \u001b[43m        \u001b[49m\u001b[43mobserved\u001b[49m\u001b[38;5;241;43m=\u001b[39;49m\u001b[43mobserved\u001b[49m\u001b[43m,\u001b[49m\n\u001b[1;32m    938\u001b[0m \u001b[43m        \u001b[49m\u001b[43mdropna\u001b[49m\u001b[38;5;241;43m=\u001b[39;49m\u001b[38;5;28;43mself\u001b[39;49m\u001b[38;5;241;43m.\u001b[39;49m\u001b[43mdropna\u001b[49m\u001b[43m,\u001b[49m\n\u001b[1;32m    939\u001b[0m \u001b[43m    \u001b[49m\u001b[43m)\u001b[49m\n\u001b[1;32m    941\u001b[0m \u001b[38;5;28mself\u001b[39m\u001b[38;5;241m.\u001b[39mobj \u001b[38;5;241m=\u001b[39m obj\n\u001b[1;32m    942\u001b[0m \u001b[38;5;28mself\u001b[39m\u001b[38;5;241m.\u001b[39maxis \u001b[38;5;241m=\u001b[39m obj\u001b[38;5;241m.\u001b[39m_get_axis_number(axis)\n",
      "File \u001b[0;32m~/miniconda3/lib/python3.11/site-packages/pandas/core/groupby/grouper.py:985\u001b[0m, in \u001b[0;36mget_grouper\u001b[0;34m(obj, key, axis, level, sort, observed, validate, dropna)\u001b[0m\n\u001b[1;32m    983\u001b[0m         in_axis, level, gpr \u001b[38;5;241m=\u001b[39m \u001b[38;5;28;01mFalse\u001b[39;00m, gpr, \u001b[38;5;28;01mNone\u001b[39;00m\n\u001b[1;32m    984\u001b[0m     \u001b[38;5;28;01melse\u001b[39;00m:\n\u001b[0;32m--> 985\u001b[0m         \u001b[38;5;28;01mraise\u001b[39;00m \u001b[38;5;167;01mKeyError\u001b[39;00m(gpr)\n\u001b[1;32m    986\u001b[0m \u001b[38;5;28;01melif\u001b[39;00m \u001b[38;5;28misinstance\u001b[39m(gpr, Grouper) \u001b[38;5;129;01mand\u001b[39;00m gpr\u001b[38;5;241m.\u001b[39mkey \u001b[38;5;129;01mis\u001b[39;00m \u001b[38;5;129;01mnot\u001b[39;00m \u001b[38;5;28;01mNone\u001b[39;00m:\n\u001b[1;32m    987\u001b[0m     \u001b[38;5;66;03m# Add key to exclusions\u001b[39;00m\n\u001b[1;32m    988\u001b[0m     exclusions\u001b[38;5;241m.\u001b[39madd(gpr\u001b[38;5;241m.\u001b[39mkey)\n",
      "\u001b[0;31mKeyError\u001b[0m: 'l3'"
     ]
    }
   ],
   "source": [
    "porcentaje_casas_ph = df_train[df_train.property_type.isin(['PH', 'Casa'])].groupby('l3').count().property_type/total_propiedades\n",
    "porcentaje_edificios = df_train[df_train.property_type == 'Departamento'].groupby('l3').count().property_type"
   ]
  },
  {
   "cell_type": "code",
   "execution_count": null,
   "metadata": {},
   "outputs": [],
   "source": []
  },
  {
   "cell_type": "code",
   "execution_count": null,
   "metadata": {},
   "outputs": [],
   "source": []
  },
  {
   "cell_type": "code",
   "execution_count": null,
   "metadata": {},
   "outputs": [],
   "source": []
  },
  {
   "cell_type": "markdown",
   "metadata": {
    "id": "zjaTnfxkyvo8"
   },
   "source": [
    "# Limpieza y transformación de datos (magia parte 2 -- MD)"
   ]
  },
  {
   "cell_type": "code",
   "execution_count": null,
   "metadata": {
    "colab": {
     "base_uri": "https://localhost:8080/"
    },
    "id": "ckXCv9f-uia0",
    "outputId": "eca63968-a7c5-408d-c01e-16a2af294ee0"
   },
   "outputs": [
    {
     "data": {
      "text/plain": [
       "(11100, 24)"
      ]
     },
     "execution_count": 4,
     "metadata": {},
     "output_type": "execute_result"
    }
   ],
   "source": [
    "# Selección de datos. Solo a fines demostrativos. Cambiar!\n",
    "df_train = df_train.loc[(df_train.l2 == \"Córdoba\") & (df_train.operation_type == 'Venta') & (df_train.property_type == 'Casa')]\n",
    "df_train.shape"
   ]
  },
  {
   "cell_type": "code",
   "execution_count": null,
   "metadata": {
    "id": "yg8qNxuNrzQp"
   },
   "outputs": [],
   "source": [
    "## esto tiene que hacerse antes y mejor\n",
    "df_train.fillna(0, inplace=True, downcast= \"infer\")\n",
    "df_test.fillna(0, inplace=True, downcast= \"infer\") "
   ]
  },
  {
   "cell_type": "code",
   "execution_count": null,
   "metadata": {
    "id": "nKSwHBUEUcQy"
   },
   "outputs": [],
   "source": [
    "# Funcion de limpieza (usada en la siguiente sección) que usa y_train\n",
    "def limpiar_fold(X_train, y_train, X_test):\n",
    "    ## TODO: limpiar los datos\n",
    "\n",
    "    return (X_train, y_train, X_test)"
   ]
  },
  {
   "cell_type": "markdown",
   "metadata": {
    "id": "i2jRJmQ-tD4Z"
   },
   "source": [
    "# Entrenamiento del modelo"
   ]
  },
  {
   "cell_type": "markdown",
   "metadata": {
    "id": "PMhVsoXBVYrr"
   },
   "source": [
    "## Territorio de Aprendizaje Automático\n",
    "☢☢☢☢☢☢ Se mira y no se toca ☢☢☢☢☢☢☢"
   ]
  },
  {
   "cell_type": "code",
   "execution_count": null,
   "metadata": {
    "id": "wpS9E1RbRtYm"
   },
   "outputs": [],
   "source": [
    "# Datos para probar\n",
    "df_train = df_train.select_dtypes(include=['float64', 'int64', 'int32', 'int16', 'int8', 'bool'])\n",
    "\n",
    "X = df_train[df_train.columns.drop('price')]\n",
    "y = df_train['price']"
   ]
  },
  {
   "cell_type": "code",
   "execution_count": null,
   "metadata": {
    "colab": {
     "base_uri": "https://localhost:8080/"
    },
    "id": "PoAhfAjlr-rp",
    "outputId": "d24f9ca9-12f4-48c0-826e-63d8c5cfddbe"
   },
   "outputs": [
    {
     "name": "stdout",
     "output_type": "stream",
     "text": [
      "fold=0, score_train=656619551068.9652 score_test=723458864862.029\n",
      "fold=1, score_train=705282813566.9788 score_test=407119553109.7009\n",
      "fold=2, score_train=643023999928.6862 score_test=994184852024.9316\n",
      "fold=3, score_train=665345121159.0591 score_test=1046921316854.067\n",
      "fold=4, score_train=676453853218.504 score_test=1078025506441.9459\n",
      "fold=5, score_train=711032810564.2731 score_test=369502566520.8514\n",
      "fold=6, score_train=691216432021.5255 score_test=459109057184.1242\n",
      "fold=7, score_train=692006631232.408 score_test=611882224415.666\n",
      "fold=8, score_train=625610260389.6654 score_test=1308765643364.4905\n",
      "fold=9, score_train=633034962823.5765 score_test=1188451212540.4434\n",
      "Train scores mean=669962643597.3641, std=30129180014.069405\n",
      "Test scores mean=818742079731.825, std=346303785730.9732\n"
     ]
    }
   ],
   "source": [
    "# Creamos el modelo\n",
    "reg = sk.ensemble.RandomForestRegressor(n_estimators=500, max_depth=5, n_jobs=-1, random_state=42)\n",
    "\n",
    "# Partimos en entrenamiento+prueba y validación\n",
    "X_train_test, X_val, y_train_test, y_val = sk.model_selection.train_test_split(X, y, test_size=0.2, random_state=42)\n",
    "\n",
    "scores_train = []\n",
    "scores_test = []\n",
    "# Validación cruzada, 10 folds, shuffle antes\n",
    "kf = sk.model_selection.KFold(n_splits=10, shuffle=True, random_state=42)\n",
    "for fold, (train_index, test_index) in enumerate(kf.split(X_train_test, y_train_test)):\n",
    "    X_train, X_test, y_train, y_test = X_train_test.iloc[train_index], X_train_test.iloc[test_index], y_train_test.iloc[train_index], y_train_test.iloc[test_index]\n",
    "\n",
    "    X_train, y_train, X_test = limpiar_fold(X_train, y_train, X_test)\n",
    "\n",
    "    # Entrenamos el modelo\n",
    "    reg.fit(X_train, y_train)\n",
    "\n",
    "    # Predecimos en train\n",
    "    y_pred = reg.predict(X_train)\n",
    "\n",
    "    # Medimos la performance de la predicción en test\n",
    "    score_train = sk.metrics.mean_squared_error(y_train, y_pred)\n",
    "    scores_train.append(score_train)\n",
    "\n",
    "    # Predecimos en test\n",
    "    y_pred = reg.predict(X_test)    \n",
    "\n",
    "    # Medimos la performance de la predicción en test\n",
    "    score_test = sk.metrics.mean_squared_error(y_test, y_pred)\n",
    "    scores_test.append(score_test)\n",
    "    \n",
    "    print(f\"{fold=}, {score_train=} {score_test=}\")\n",
    "    \n",
    "\n",
    "print(f\"Train scores mean={pd.Series(scores_train).mean()}, std={pd.Series(scores_train).std()}\")\n",
    "print(f\"Test scores mean={pd.Series(scores_test).mean()}, std={pd.Series(scores_test).std()}\")"
   ]
  },
  {
   "cell_type": "markdown",
   "metadata": {
    "id": "sqVkTPzj3kV0"
   },
   "source": [
    "# Predicción para kaggle\n"
   ]
  },
  {
   "cell_type": "code",
   "execution_count": null,
   "metadata": {
    "id": "01697gx81F5Z"
   },
   "outputs": [],
   "source": [
    "## Datos a predecir \n",
    "X = df_train[df_train.columns.drop('price')]\n",
    "y = df_train['price']\n",
    "X_prueba = df_test[df_train.columns.drop('price')] # cuidado:\n",
    "\n",
    "# Entrenamos el modelo con todos los datos\n",
    "reg.fit(X, y)\n",
    "\n",
    "# Predecimos\n",
    "df_test['price'] = reg.predict(X_prueba)\n",
    "\n",
    "# Grabamos\n",
    "df_test['price'].to_csv('solucion.csv', index=True)"
   ]
  },
  {
   "cell_type": "code",
   "execution_count": null,
   "metadata": {
    "colab": {
     "base_uri": "https://localhost:8080/",
     "height": 331
    },
    "id": "xzAwUNRA1Fzb",
    "outputId": "5f4b709d-6abf-4cc4-d389-fa7186a7d124"
   },
   "outputs": [
    {
     "data": {
      "text/html": [
       "\n",
       "  <div id=\"df-4bda8ff9-acf9-448a-81d8-e7f5937f49e2\">\n",
       "    <div class=\"colab-df-container\">\n",
       "      <div>\n",
       "<style scoped>\n",
       "    .dataframe tbody tr th:only-of-type {\n",
       "        vertical-align: middle;\n",
       "    }\n",
       "\n",
       "    .dataframe tbody tr th {\n",
       "        vertical-align: top;\n",
       "    }\n",
       "\n",
       "    .dataframe thead th {\n",
       "        text-align: right;\n",
       "    }\n",
       "</style>\n",
       "<table border=\"1\" class=\"dataframe\">\n",
       "  <thead>\n",
       "    <tr style=\"text-align: right;\">\n",
       "      <th></th>\n",
       "      <th>column</th>\n",
       "      <th>feature_importance</th>\n",
       "    </tr>\n",
       "  </thead>\n",
       "  <tbody>\n",
       "    <tr>\n",
       "      <th>1</th>\n",
       "      <td>lon</td>\n",
       "      <td>0.284658</td>\n",
       "    </tr>\n",
       "    <tr>\n",
       "      <th>0</th>\n",
       "      <td>lat</td>\n",
       "      <td>0.212267</td>\n",
       "    </tr>\n",
       "    <tr>\n",
       "      <th>4</th>\n",
       "      <td>rooms</td>\n",
       "      <td>0.141806</td>\n",
       "    </tr>\n",
       "    <tr>\n",
       "      <th>8</th>\n",
       "      <td>surface_covered</td>\n",
       "      <td>0.125101</td>\n",
       "    </tr>\n",
       "    <tr>\n",
       "      <th>5</th>\n",
       "      <td>bedrooms</td>\n",
       "      <td>0.095744</td>\n",
       "    </tr>\n",
       "    <tr>\n",
       "      <th>7</th>\n",
       "      <td>surface_total</td>\n",
       "      <td>0.073814</td>\n",
       "    </tr>\n",
       "    <tr>\n",
       "      <th>6</th>\n",
       "      <td>bathrooms</td>\n",
       "      <td>0.066611</td>\n",
       "    </tr>\n",
       "    <tr>\n",
       "      <th>2</th>\n",
       "      <td>l5</td>\n",
       "      <td>0.000000</td>\n",
       "    </tr>\n",
       "    <tr>\n",
       "      <th>3</th>\n",
       "      <td>l6</td>\n",
       "      <td>0.000000</td>\n",
       "    </tr>\n",
       "  </tbody>\n",
       "</table>\n",
       "</div>\n",
       "      <button class=\"colab-df-convert\" onclick=\"convertToInteractive('df-4bda8ff9-acf9-448a-81d8-e7f5937f49e2')\"\n",
       "              title=\"Convert this dataframe to an interactive table.\"\n",
       "              style=\"display:none;\">\n",
       "        \n",
       "  <svg xmlns=\"http://www.w3.org/2000/svg\" height=\"24px\"viewBox=\"0 0 24 24\"\n",
       "       width=\"24px\">\n",
       "    <path d=\"M0 0h24v24H0V0z\" fill=\"none\"/>\n",
       "    <path d=\"M18.56 5.44l.94 2.06.94-2.06 2.06-.94-2.06-.94-.94-2.06-.94 2.06-2.06.94zm-11 1L8.5 8.5l.94-2.06 2.06-.94-2.06-.94L8.5 2.5l-.94 2.06-2.06.94zm10 10l.94 2.06.94-2.06 2.06-.94-2.06-.94-.94-2.06-.94 2.06-2.06.94z\"/><path d=\"M17.41 7.96l-1.37-1.37c-.4-.4-.92-.59-1.43-.59-.52 0-1.04.2-1.43.59L10.3 9.45l-7.72 7.72c-.78.78-.78 2.05 0 2.83L4 21.41c.39.39.9.59 1.41.59.51 0 1.02-.2 1.41-.59l7.78-7.78 2.81-2.81c.8-.78.8-2.07 0-2.86zM5.41 20L4 18.59l7.72-7.72 1.47 1.35L5.41 20z\"/>\n",
       "  </svg>\n",
       "      </button>\n",
       "      \n",
       "  <style>\n",
       "    .colab-df-container {\n",
       "      display:flex;\n",
       "      flex-wrap:wrap;\n",
       "      gap: 12px;\n",
       "    }\n",
       "\n",
       "    .colab-df-convert {\n",
       "      background-color: #E8F0FE;\n",
       "      border: none;\n",
       "      border-radius: 50%;\n",
       "      cursor: pointer;\n",
       "      display: none;\n",
       "      fill: #1967D2;\n",
       "      height: 32px;\n",
       "      padding: 0 0 0 0;\n",
       "      width: 32px;\n",
       "    }\n",
       "\n",
       "    .colab-df-convert:hover {\n",
       "      background-color: #E2EBFA;\n",
       "      box-shadow: 0px 1px 2px rgba(60, 64, 67, 0.3), 0px 1px 3px 1px rgba(60, 64, 67, 0.15);\n",
       "      fill: #174EA6;\n",
       "    }\n",
       "\n",
       "    [theme=dark] .colab-df-convert {\n",
       "      background-color: #3B4455;\n",
       "      fill: #D2E3FC;\n",
       "    }\n",
       "\n",
       "    [theme=dark] .colab-df-convert:hover {\n",
       "      background-color: #434B5C;\n",
       "      box-shadow: 0px 1px 3px 1px rgba(0, 0, 0, 0.15);\n",
       "      filter: drop-shadow(0px 1px 2px rgba(0, 0, 0, 0.3));\n",
       "      fill: #FFFFFF;\n",
       "    }\n",
       "  </style>\n",
       "\n",
       "      <script>\n",
       "        const buttonEl =\n",
       "          document.querySelector('#df-4bda8ff9-acf9-448a-81d8-e7f5937f49e2 button.colab-df-convert');\n",
       "        buttonEl.style.display =\n",
       "          google.colab.kernel.accessAllowed ? 'block' : 'none';\n",
       "\n",
       "        async function convertToInteractive(key) {\n",
       "          const element = document.querySelector('#df-4bda8ff9-acf9-448a-81d8-e7f5937f49e2');\n",
       "          const dataTable =\n",
       "            await google.colab.kernel.invokeFunction('convertToInteractive',\n",
       "                                                     [key], {});\n",
       "          if (!dataTable) return;\n",
       "\n",
       "          const docLinkHtml = 'Like what you see? Visit the ' +\n",
       "            '<a target=\"_blank\" href=https://colab.research.google.com/notebooks/data_table.ipynb>data table notebook</a>'\n",
       "            + ' to learn more about interactive tables.';\n",
       "          element.innerHTML = '';\n",
       "          dataTable['output_type'] = 'display_data';\n",
       "          await google.colab.output.renderOutput(dataTable, element);\n",
       "          const docLink = document.createElement('div');\n",
       "          docLink.innerHTML = docLinkHtml;\n",
       "          element.appendChild(docLink);\n",
       "        }\n",
       "      </script>\n",
       "    </div>\n",
       "  </div>\n",
       "  "
      ],
      "text/plain": [
       "            column  feature_importance\n",
       "1              lon            0.284658\n",
       "0              lat            0.212267\n",
       "4            rooms            0.141806\n",
       "8  surface_covered            0.125101\n",
       "5         bedrooms            0.095744\n",
       "7    surface_total            0.073814\n",
       "6        bathrooms            0.066611\n",
       "2               l5            0.000000\n",
       "3               l6            0.000000"
      ]
     },
     "execution_count": 10,
     "metadata": {},
     "output_type": "execute_result"
    }
   ],
   "source": [
    "pd.DataFrame(zip(df_train.columns.drop('price'), reg.feature_importances_), columns=[\"column\", \"feature_importance\"]).sort_values(by=\"feature_importance\", ascending=False)"
   ]
  }
 ],
 "metadata": {
  "colab": {
   "provenance": []
  },
  "kernelspec": {
   "display_name": "Base (Python 3.11)",
   "language": "python",
   "name": "base"
  },
  "language_info": {
   "codemirror_mode": {
    "name": "ipython",
    "version": 3
   },
   "file_extension": ".py",
   "mimetype": "text/x-python",
   "name": "python",
   "nbconvert_exporter": "python",
   "pygments_lexer": "ipython3",
   "version": "3.11.3"
  }
 },
 "nbformat": 4,
 "nbformat_minor": 4
}
