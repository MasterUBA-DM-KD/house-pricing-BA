{
 "cells": [
  {
   "cell_type": "code",
   "execution_count": 58,
   "metadata": {
    "id": "jw8ogMDOpvKP",
    "tags": []
   },
   "outputs": [],
   "source": [
    "import pandas as pd\n",
    "\n",
    "import sklearn as sk\n",
    "from sklearn import model_selection\n",
    "from sklearn import ensemble\n",
    "from sklearn import metrics\n",
    "import seaborn as sns\n",
    "import matplotlib.pyplot as plt"
   ]
  },
  {
   "cell_type": "code",
   "execution_count": 59,
   "metadata": {
    "tags": []
   },
   "outputs": [],
   "source": [
    "# La siguiente línea es para ver las imagenes dentro del notebook\n",
    "%matplotlib inline\n",
    "# Acá configuramos el tamaño de las figuras\n",
    "plt.rcParams['figure.figsize'] = (12,8)\n",
    "# Seteamos opciones de pandas sobre las columnas y su ancho\n",
    "pd.set_option('display.max_columns', 120)\n",
    "pd.set_option('display.max_colwidth', 50)"
   ]
  },
  {
   "cell_type": "code",
   "execution_count": 60,
   "metadata": {
    "id": "b8SSObwGJo2Q",
    "tags": []
   },
   "outputs": [],
   "source": [
    "# from google.colab import drive\n",
    "# drive.mount('/content/drive')\n",
    "\n",
    "# pd.read_csv('../data/properati_a_predecir.csv', index_col=\"id\", parse_dates=['start_date', 'end_date', 'created_on']).to_parquet('../data/properati_a_predecir.parquet')\n",
    "# pd.read_csv('../data/properati_entrenamiento.csv', index_col=\"id\", parse_dates=['start_date', 'end_date', 'created_on']).to_parquet('../data/properati_entrenamiento.parquet')"
   ]
  },
  {
   "cell_type": "markdown",
   "metadata": {
    "id": "20D-m6GPyefp"
   },
   "source": [
    "# Lectura de datos\n",
    "\n",
    "| Featire     | Descripción |\n",
    "| ----------- | ----------- |\n",
    "| id          | Identificador del aviso \\*. |\n",
    "| start_date | Fecha de alta del aviso. |\n",
    "| end_date | Fecha de baja del aviso. |\n",
    "| created_on | Fecha de alta de la primera versión del aviso. |\n",
    "| lat | Latitud. |\n",
    "| lon | Longitud. |\n",
    "| l1 | Nivel administrativo 1: país. |\n",
    "| l2 | Nivel administrativo 2: usualmente provincia. |\n",
    "| l3 | Nivel administrativo 3: usualmente ciudad. |\n",
    "| l4 | Nivel administrativo 4: usualmente barrio. |\n",
    "| l5 | Nivel administrativo 5 |\n",
    "| l6 | Nivel administrativo 6 |\n",
    "| rooms | Cantidad de ambientes (útil en Argentina). |\n",
    "| bedrooms | Cantidad de dormitorios (útil en el resto de los países). |\n",
    "| bathrooms | Cantidad de baños. |\n",
    "| surface_total | Superficie total en m². |\n",
    "| surface_covered | Superficie cubierta en m². |\n",
    "| price | Precio publicado en el anuncio. |\n",
    "| currency | Moneda del precio publicado. |\n",
    "| price_period | Periodo del precio (Diario, Semanal, Mensual) |\n",
    "| title | Título del anuncio. |\n",
    "| description | Descripción del anuncio. |\n",
    "| property_type | Tipo de propiedad (Casa, Departamento, PH). |\n",
    "| operation_type | Tipo de operación (Venta, Alquiler). |\n",
    "\n",
    "\n",
    "\\* No es único: si el aviso es actualizado por la inmobiliaria (nueva versión del aviso) se crea un nuevo registro con la misma id pero distintas fechas: de alta y de baja."
   ]
  },
  {
   "cell_type": "code",
   "execution_count": 61,
   "metadata": {
    "id": "CtV0wOGsqJLC",
    "tags": []
   },
   "outputs": [],
   "source": [
    "# DIR = \"/content/drive/MyDrive/Clases/FCEN DM/datos/\"\n",
    "\n",
    "# df_train = pd.read_csv(DIR + \"properati_entrenamiento.zip\", index_col=\"id\")  \n",
    "# df_train.head()\n",
    "\n",
    "# df_test = pd.read_csv(DIR + \"properati_a_predecir.zip\", index_col=\"id\")  \n",
    "# df_test.head()\n",
    "\n",
    "df_train = pd.read_parquet('../data/properati_entrenamiento.parquet', engine=\"pyarrow\")"
   ]
  },
  {
   "cell_type": "code",
   "execution_count": 62,
   "metadata": {
    "tags": []
   },
   "outputs": [
    {
     "data": {
      "text/html": [
       "<div>\n",
       "<style scoped>\n",
       "    .dataframe tbody tr th:only-of-type {\n",
       "        vertical-align: middle;\n",
       "    }\n",
       "\n",
       "    .dataframe tbody tr th {\n",
       "        vertical-align: top;\n",
       "    }\n",
       "\n",
       "    .dataframe thead th {\n",
       "        text-align: right;\n",
       "    }\n",
       "</style>\n",
       "<table border=\"1\" class=\"dataframe\">\n",
       "  <thead>\n",
       "    <tr style=\"text-align: right;\">\n",
       "      <th></th>\n",
       "      <th>ad_type</th>\n",
       "      <th>start_date</th>\n",
       "      <th>end_date</th>\n",
       "      <th>created_on</th>\n",
       "      <th>lat</th>\n",
       "      <th>lon</th>\n",
       "      <th>l1</th>\n",
       "      <th>l2</th>\n",
       "      <th>l3</th>\n",
       "      <th>l4</th>\n",
       "      <th>l5</th>\n",
       "      <th>l6</th>\n",
       "      <th>rooms</th>\n",
       "      <th>bedrooms</th>\n",
       "      <th>bathrooms</th>\n",
       "      <th>surface_total</th>\n",
       "      <th>surface_covered</th>\n",
       "      <th>price</th>\n",
       "      <th>currency</th>\n",
       "      <th>price_period</th>\n",
       "      <th>title</th>\n",
       "      <th>description</th>\n",
       "      <th>property_type</th>\n",
       "      <th>operation_type</th>\n",
       "    </tr>\n",
       "    <tr>\n",
       "      <th>id</th>\n",
       "      <th></th>\n",
       "      <th></th>\n",
       "      <th></th>\n",
       "      <th></th>\n",
       "      <th></th>\n",
       "      <th></th>\n",
       "      <th></th>\n",
       "      <th></th>\n",
       "      <th></th>\n",
       "      <th></th>\n",
       "      <th></th>\n",
       "      <th></th>\n",
       "      <th></th>\n",
       "      <th></th>\n",
       "      <th></th>\n",
       "      <th></th>\n",
       "      <th></th>\n",
       "      <th></th>\n",
       "      <th></th>\n",
       "      <th></th>\n",
       "      <th></th>\n",
       "      <th></th>\n",
       "      <th></th>\n",
       "      <th></th>\n",
       "    </tr>\n",
       "  </thead>\n",
       "  <tbody>\n",
       "    <tr>\n",
       "      <th>1</th>\n",
       "      <td>Propiedad</td>\n",
       "      <td>2019-07-07</td>\n",
       "      <td>2019-07-10</td>\n",
       "      <td>2019-07-07</td>\n",
       "      <td>NaN</td>\n",
       "      <td>NaN</td>\n",
       "      <td>Argentina</td>\n",
       "      <td>Buenos Aires Interior</td>\n",
       "      <td>Urquiza</td>\n",
       "      <td>Urquiza</td>\n",
       "      <td>None</td>\n",
       "      <td>NaN</td>\n",
       "      <td>NaN</td>\n",
       "      <td>NaN</td>\n",
       "      <td>NaN</td>\n",
       "      <td>NaN</td>\n",
       "      <td>NaN</td>\n",
       "      <td>3800.0</td>\n",
       "      <td>ARS</td>\n",
       "      <td>Mensual</td>\n",
       "      <td>COCHERA EN ALQUILER</td>\n",
       "      <td>Xintel (SLC-SI1-560) Alquiler de Cochera en CA...</td>\n",
       "      <td>Cochera</td>\n",
       "      <td>Alquiler</td>\n",
       "    </tr>\n",
       "    <tr>\n",
       "      <th>2</th>\n",
       "      <td>Propiedad</td>\n",
       "      <td>2019-07-07</td>\n",
       "      <td>9999-12-31</td>\n",
       "      <td>2019-07-07</td>\n",
       "      <td>-64.184812</td>\n",
       "      <td>-31.421307</td>\n",
       "      <td>Argentina</td>\n",
       "      <td>Córdoba</td>\n",
       "      <td>Córdoba</td>\n",
       "      <td>None</td>\n",
       "      <td>None</td>\n",
       "      <td>NaN</td>\n",
       "      <td>1.0</td>\n",
       "      <td>NaN</td>\n",
       "      <td>NaN</td>\n",
       "      <td>12.0</td>\n",
       "      <td>12.0</td>\n",
       "      <td>16000.0</td>\n",
       "      <td>USD</td>\n",
       "      <td>Mensual</td>\n",
       "      <td>Cochera venta</td>\n",
       "      <td>VENDO COCHERA- EXCELENTE UBICACIÓN! Calle Buen...</td>\n",
       "      <td>Cochera</td>\n",
       "      <td>Venta</td>\n",
       "    </tr>\n",
       "  </tbody>\n",
       "</table>\n",
       "</div>"
      ],
      "text/plain": [
       "      ad_type start_date    end_date created_on        lat        lon   \n",
       "id                                                                      \n",
       "1   Propiedad 2019-07-07  2019-07-10 2019-07-07        NaN        NaN  \\\n",
       "2   Propiedad 2019-07-07  9999-12-31 2019-07-07 -64.184812 -31.421307   \n",
       "\n",
       "           l1                     l2       l3       l4    l5  l6  rooms   \n",
       "id                                                                        \n",
       "1   Argentina  Buenos Aires Interior  Urquiza  Urquiza  None NaN    NaN  \\\n",
       "2   Argentina                Córdoba  Córdoba     None  None NaN    1.0   \n",
       "\n",
       "    bedrooms  bathrooms  surface_total  surface_covered    price currency   \n",
       "id                                                                          \n",
       "1        NaN        NaN            NaN              NaN   3800.0      ARS  \\\n",
       "2        NaN        NaN           12.0             12.0  16000.0      USD   \n",
       "\n",
       "   price_period                title   \n",
       "id                                     \n",
       "1       Mensual  COCHERA EN ALQUILER  \\\n",
       "2       Mensual        Cochera venta   \n",
       "\n",
       "                                          description property_type   \n",
       "id                                                                    \n",
       "1   Xintel (SLC-SI1-560) Alquiler de Cochera en CA...       Cochera  \\\n",
       "2   VENDO COCHERA- EXCELENTE UBICACIÓN! Calle Buen...       Cochera   \n",
       "\n",
       "   operation_type  \n",
       "id                 \n",
       "1        Alquiler  \n",
       "2           Venta  "
      ]
     },
     "execution_count": 62,
     "metadata": {},
     "output_type": "execute_result"
    }
   ],
   "source": [
    "df_train.head(2)"
   ]
  },
  {
   "cell_type": "code",
   "execution_count": 63,
   "metadata": {
    "tags": []
   },
   "outputs": [
    {
     "name": "stdout",
     "output_type": "stream",
     "text": [
      "<class 'pandas.core.frame.DataFrame'>\n",
      "Index: 994000 entries, 1 to 1000000\n",
      "Data columns (total 24 columns):\n",
      " #   Column           Non-Null Count   Dtype         \n",
      "---  ------           --------------   -----         \n",
      " 0   ad_type          994000 non-null  object        \n",
      " 1   start_date       994000 non-null  datetime64[ns]\n",
      " 2   end_date         994000 non-null  object        \n",
      " 3   created_on       994000 non-null  datetime64[ns]\n",
      " 4   lat              840826 non-null  float64       \n",
      " 5   lon              841760 non-null  float64       \n",
      " 6   l1               994000 non-null  object        \n",
      " 7   l2               994000 non-null  object        \n",
      " 8   l3               936714 non-null  object        \n",
      " 9   l4               225232 non-null  object        \n",
      " 10  l5               4711 non-null    object        \n",
      " 11  l6               0 non-null       float64       \n",
      " 12  rooms            504328 non-null  float64       \n",
      " 13  bedrooms         391380 non-null  float64       \n",
      " 14  bathrooms        774749 non-null  float64       \n",
      " 15  surface_total    451104 non-null  float64       \n",
      " 16  surface_covered  439770 non-null  float64       \n",
      " 17  price            949619 non-null  float64       \n",
      " 18  currency         946749 non-null  object        \n",
      " 19  price_period     368024 non-null  object        \n",
      " 20  title            993972 non-null  object        \n",
      " 21  description      993978 non-null  object        \n",
      " 22  property_type    994000 non-null  object        \n",
      " 23  operation_type   994000 non-null  object        \n",
      "dtypes: datetime64[ns](2), float64(9), object(13)\n",
      "memory usage: 189.6+ MB\n"
     ]
    }
   ],
   "source": [
    "df_train.info()"
   ]
  },
  {
   "cell_type": "code",
   "execution_count": 64,
   "metadata": {
    "tags": []
   },
   "outputs": [],
   "source": [
    "df_train.end_date = pd.to_datetime(df_train.end_date, errors= \"coerce\")"
   ]
  },
  {
   "cell_type": "code",
   "execution_count": 65,
   "metadata": {
    "tags": []
   },
   "outputs": [
    {
     "name": "stdout",
     "output_type": "stream",
     "text": [
      "<class 'pandas.core.frame.DataFrame'>\n",
      "Index: 994000 entries, 1 to 1000000\n",
      "Data columns (total 24 columns):\n",
      " #   Column           Non-Null Count   Dtype         \n",
      "---  ------           --------------   -----         \n",
      " 0   ad_type          994000 non-null  object        \n",
      " 1   start_date       994000 non-null  datetime64[ns]\n",
      " 2   end_date         803559 non-null  datetime64[ns]\n",
      " 3   created_on       994000 non-null  datetime64[ns]\n",
      " 4   lat              840826 non-null  float64       \n",
      " 5   lon              841760 non-null  float64       \n",
      " 6   l1               994000 non-null  object        \n",
      " 7   l2               994000 non-null  object        \n",
      " 8   l3               936714 non-null  object        \n",
      " 9   l4               225232 non-null  object        \n",
      " 10  l5               4711 non-null    object        \n",
      " 11  l6               0 non-null       float64       \n",
      " 12  rooms            504328 non-null  float64       \n",
      " 13  bedrooms         391380 non-null  float64       \n",
      " 14  bathrooms        774749 non-null  float64       \n",
      " 15  surface_total    451104 non-null  float64       \n",
      " 16  surface_covered  439770 non-null  float64       \n",
      " 17  price            949619 non-null  float64       \n",
      " 18  currency         946749 non-null  object        \n",
      " 19  price_period     368024 non-null  object        \n",
      " 20  title            993972 non-null  object        \n",
      " 21  description      993978 non-null  object        \n",
      " 22  property_type    994000 non-null  object        \n",
      " 23  operation_type   994000 non-null  object        \n",
      "dtypes: datetime64[ns](3), float64(9), object(12)\n",
      "memory usage: 189.6+ MB\n"
     ]
    }
   ],
   "source": [
    "df_train.info()"
   ]
  },
  {
   "cell_type": "markdown",
   "metadata": {
    "id": "byV0dQi-yiEd"
   },
   "source": [
    "# Entendimiento (magia parte 1 -- AID)"
   ]
  },
  {
   "cell_type": "code",
   "execution_count": 66,
   "metadata": {
    "tags": []
   },
   "outputs": [],
   "source": [
    "df_train = df_train.sort_values(by=[\"created_on\"], ascending=True)"
   ]
  },
  {
   "cell_type": "markdown",
   "metadata": {},
   "source": [
    "## Nulls"
   ]
  },
  {
   "cell_type": "code",
   "execution_count": 67,
   "metadata": {
    "tags": []
   },
   "outputs": [
    {
     "data": {
      "text/html": [
       "<div>\n",
       "<style scoped>\n",
       "    .dataframe tbody tr th:only-of-type {\n",
       "        vertical-align: middle;\n",
       "    }\n",
       "\n",
       "    .dataframe tbody tr th {\n",
       "        vertical-align: top;\n",
       "    }\n",
       "\n",
       "    .dataframe thead th {\n",
       "        text-align: right;\n",
       "    }\n",
       "</style>\n",
       "<table border=\"1\" class=\"dataframe\">\n",
       "  <thead>\n",
       "    <tr style=\"text-align: right;\">\n",
       "      <th></th>\n",
       "      <th>Missing Values</th>\n",
       "    </tr>\n",
       "    <tr>\n",
       "      <th>Feature</th>\n",
       "      <th></th>\n",
       "    </tr>\n",
       "  </thead>\n",
       "  <tbody>\n",
       "    <tr>\n",
       "      <th>l6</th>\n",
       "      <td>1.000000</td>\n",
       "    </tr>\n",
       "    <tr>\n",
       "      <th>l5</th>\n",
       "      <td>0.995261</td>\n",
       "    </tr>\n",
       "    <tr>\n",
       "      <th>l4</th>\n",
       "      <td>0.773408</td>\n",
       "    </tr>\n",
       "    <tr>\n",
       "      <th>price_period</th>\n",
       "      <td>0.629755</td>\n",
       "    </tr>\n",
       "    <tr>\n",
       "      <th>bedrooms</th>\n",
       "      <td>0.606258</td>\n",
       "    </tr>\n",
       "    <tr>\n",
       "      <th>surface_covered</th>\n",
       "      <td>0.557575</td>\n",
       "    </tr>\n",
       "    <tr>\n",
       "      <th>surface_total</th>\n",
       "      <td>0.546173</td>\n",
       "    </tr>\n",
       "    <tr>\n",
       "      <th>rooms</th>\n",
       "      <td>0.492628</td>\n",
       "    </tr>\n",
       "    <tr>\n",
       "      <th>bathrooms</th>\n",
       "      <td>0.220574</td>\n",
       "    </tr>\n",
       "    <tr>\n",
       "      <th>end_date</th>\n",
       "      <td>0.191591</td>\n",
       "    </tr>\n",
       "    <tr>\n",
       "      <th>lat</th>\n",
       "      <td>0.154099</td>\n",
       "    </tr>\n",
       "    <tr>\n",
       "      <th>lon</th>\n",
       "      <td>0.153159</td>\n",
       "    </tr>\n",
       "    <tr>\n",
       "      <th>l3</th>\n",
       "      <td>0.057632</td>\n",
       "    </tr>\n",
       "    <tr>\n",
       "      <th>currency</th>\n",
       "      <td>0.047536</td>\n",
       "    </tr>\n",
       "    <tr>\n",
       "      <th>price</th>\n",
       "      <td>0.044649</td>\n",
       "    </tr>\n",
       "    <tr>\n",
       "      <th>title</th>\n",
       "      <td>0.000028</td>\n",
       "    </tr>\n",
       "    <tr>\n",
       "      <th>description</th>\n",
       "      <td>0.000022</td>\n",
       "    </tr>\n",
       "    <tr>\n",
       "      <th>property_type</th>\n",
       "      <td>0.000000</td>\n",
       "    </tr>\n",
       "    <tr>\n",
       "      <th>ad_type</th>\n",
       "      <td>0.000000</td>\n",
       "    </tr>\n",
       "    <tr>\n",
       "      <th>start_date</th>\n",
       "      <td>0.000000</td>\n",
       "    </tr>\n",
       "    <tr>\n",
       "      <th>l2</th>\n",
       "      <td>0.000000</td>\n",
       "    </tr>\n",
       "    <tr>\n",
       "      <th>l1</th>\n",
       "      <td>0.000000</td>\n",
       "    </tr>\n",
       "    <tr>\n",
       "      <th>created_on</th>\n",
       "      <td>0.000000</td>\n",
       "    </tr>\n",
       "    <tr>\n",
       "      <th>operation_type</th>\n",
       "      <td>0.000000</td>\n",
       "    </tr>\n",
       "  </tbody>\n",
       "</table>\n",
       "</div>"
      ],
      "text/plain": [
       "                 Missing Values\n",
       "Feature                        \n",
       "l6                     1.000000\n",
       "l5                     0.995261\n",
       "l4                     0.773408\n",
       "price_period           0.629755\n",
       "bedrooms               0.606258\n",
       "surface_covered        0.557575\n",
       "surface_total          0.546173\n",
       "rooms                  0.492628\n",
       "bathrooms              0.220574\n",
       "end_date               0.191591\n",
       "lat                    0.154099\n",
       "lon                    0.153159\n",
       "l3                     0.057632\n",
       "currency               0.047536\n",
       "price                  0.044649\n",
       "title                  0.000028\n",
       "description            0.000022\n",
       "property_type          0.000000\n",
       "ad_type                0.000000\n",
       "start_date             0.000000\n",
       "l2                     0.000000\n",
       "l1                     0.000000\n",
       "created_on             0.000000\n",
       "operation_type         0.000000"
      ]
     },
     "execution_count": 67,
     "metadata": {},
     "output_type": "execute_result"
    }
   ],
   "source": [
    "df_train.isnull().sum().rename_axis(\"Feature\", axis=0).sort_values(ascending=False).to_frame(\"Missing Values\") / len(df_train)"
   ]
  },
  {
   "cell_type": "code",
   "execution_count": 68,
   "metadata": {
    "tags": []
   },
   "outputs": [
    {
     "data": {
      "text/html": [
       "<div>\n",
       "<style scoped>\n",
       "    .dataframe tbody tr th:only-of-type {\n",
       "        vertical-align: middle;\n",
       "    }\n",
       "\n",
       "    .dataframe tbody tr th {\n",
       "        vertical-align: top;\n",
       "    }\n",
       "\n",
       "    .dataframe thead th {\n",
       "        text-align: right;\n",
       "    }\n",
       "</style>\n",
       "<table border=\"1\" class=\"dataframe\">\n",
       "  <thead>\n",
       "    <tr style=\"text-align: right;\">\n",
       "      <th></th>\n",
       "      <th>Count</th>\n",
       "    </tr>\n",
       "    <tr>\n",
       "      <th>Property Type</th>\n",
       "      <th></th>\n",
       "    </tr>\n",
       "  </thead>\n",
       "  <tbody>\n",
       "    <tr>\n",
       "      <th>Departamento</th>\n",
       "      <td>377054</td>\n",
       "    </tr>\n",
       "    <tr>\n",
       "      <th>Otro</th>\n",
       "      <td>239725</td>\n",
       "    </tr>\n",
       "    <tr>\n",
       "      <th>Casa</th>\n",
       "      <td>180125</td>\n",
       "    </tr>\n",
       "    <tr>\n",
       "      <th>Lote</th>\n",
       "      <td>80772</td>\n",
       "    </tr>\n",
       "    <tr>\n",
       "      <th>Local comercial</th>\n",
       "      <td>35638</td>\n",
       "    </tr>\n",
       "    <tr>\n",
       "      <th>PH</th>\n",
       "      <td>35294</td>\n",
       "    </tr>\n",
       "    <tr>\n",
       "      <th>Oficina</th>\n",
       "      <td>26616</td>\n",
       "    </tr>\n",
       "    <tr>\n",
       "      <th>Cochera</th>\n",
       "      <td>9590</td>\n",
       "    </tr>\n",
       "    <tr>\n",
       "      <th>Depósito</th>\n",
       "      <td>7499</td>\n",
       "    </tr>\n",
       "    <tr>\n",
       "      <th>Casa de campo</th>\n",
       "      <td>1687</td>\n",
       "    </tr>\n",
       "  </tbody>\n",
       "</table>\n",
       "</div>"
      ],
      "text/plain": [
       "                  Count\n",
       "Property Type          \n",
       "Departamento     377054\n",
       "Otro             239725\n",
       "Casa             180125\n",
       "Lote              80772\n",
       "Local comercial   35638\n",
       "PH                35294\n",
       "Oficina           26616\n",
       "Cochera            9590\n",
       "Depósito           7499\n",
       "Casa de campo      1687"
      ]
     },
     "execution_count": 68,
     "metadata": {},
     "output_type": "execute_result"
    }
   ],
   "source": [
    "df_train['property_type'].value_counts().rename_axis(\"Property Type\").to_frame(\"Count\")"
   ]
  },
  {
   "cell_type": "code",
   "execution_count": 69,
   "metadata": {
    "tags": []
   },
   "outputs": [
    {
     "data": {
      "image/png": "[encoded data removed]",
      "text/plain": [
       "<Figure size 1200x800 with 1 Axes>"
      ]
     },
     "metadata": {},
     "output_type": "display_data"
    }
   ],
   "source": [
    "sns.countplot(x = \"property_type\", data = df_train)\n",
    "plt.tight_layout()\n",
    "plt.show(block=False)"
   ]
  },
  {
   "cell_type": "code",
   "execution_count": 70,
   "metadata": {
    "tags": []
   },
   "outputs": [],
   "source": [
    "df_train = df_train.drop_duplicates(keep=\"last\")"
   ]
  },
  {
   "cell_type": "code",
   "execution_count": 71,
   "metadata": {
    "tags": []
   },
   "outputs": [],
   "source": [
    "df_train = df_train.reset_index(drop=False)"
   ]
  },
  {
   "cell_type": "code",
   "execution_count": 72,
   "metadata": {
    "tags": []
   },
   "outputs": [
    {
     "data": {
      "text/html": [
       "<div>\n",
       "<style scoped>\n",
       "    .dataframe tbody tr th:only-of-type {\n",
       "        vertical-align: middle;\n",
       "    }\n",
       "\n",
       "    .dataframe tbody tr th {\n",
       "        vertical-align: top;\n",
       "    }\n",
       "\n",
       "    .dataframe thead th {\n",
       "        text-align: right;\n",
       "    }\n",
       "</style>\n",
       "<table border=\"1\" class=\"dataframe\">\n",
       "  <thead>\n",
       "    <tr style=\"text-align: right;\">\n",
       "      <th></th>\n",
       "      <th>id</th>\n",
       "      <th>ad_type</th>\n",
       "      <th>start_date</th>\n",
       "      <th>end_date</th>\n",
       "      <th>created_on</th>\n",
       "      <th>lat</th>\n",
       "      <th>lon</th>\n",
       "      <th>l1</th>\n",
       "      <th>l2</th>\n",
       "      <th>l3</th>\n",
       "      <th>l4</th>\n",
       "      <th>l5</th>\n",
       "      <th>l6</th>\n",
       "      <th>rooms</th>\n",
       "      <th>bedrooms</th>\n",
       "      <th>bathrooms</th>\n",
       "      <th>surface_total</th>\n",
       "      <th>surface_covered</th>\n",
       "      <th>price</th>\n",
       "      <th>currency</th>\n",
       "      <th>price_period</th>\n",
       "      <th>title</th>\n",
       "      <th>description</th>\n",
       "      <th>property_type</th>\n",
       "      <th>operation_type</th>\n",
       "    </tr>\n",
       "  </thead>\n",
       "  <tbody>\n",
       "    <tr>\n",
       "      <th>27</th>\n",
       "      <td>461858</td>\n",
       "      <td>Propiedad</td>\n",
       "      <td>2019-07-04</td>\n",
       "      <td>2019-07-07</td>\n",
       "      <td>2019-07-04</td>\n",
       "      <td>-58.430523</td>\n",
       "      <td>-34.587761</td>\n",
       "      <td>Argentina</td>\n",
       "      <td>Capital Federal</td>\n",
       "      <td>Palermo</td>\n",
       "      <td>None</td>\n",
       "      <td>None</td>\n",
       "      <td>NaN</td>\n",
       "      <td>1.0</td>\n",
       "      <td>NaN</td>\n",
       "      <td>1.0</td>\n",
       "      <td>35.0</td>\n",
       "      <td>35.0</td>\n",
       "      <td>13000.0</td>\n",
       "      <td>ARS</td>\n",
       "      <td>None</td>\n",
       "      <td>Alquiler PH en Palermo Capital Federal Santa R...</td>\n",
       "      <td>PH en Alquiler, Amplio Monoambiente tipo PH en...</td>\n",
       "      <td>PH</td>\n",
       "      <td>Alquiler</td>\n",
       "    </tr>\n",
       "    <tr>\n",
       "      <th>63</th>\n",
       "      <td>461862</td>\n",
       "      <td>Propiedad</td>\n",
       "      <td>2019-07-04</td>\n",
       "      <td>2019-07-11</td>\n",
       "      <td>2019-07-04</td>\n",
       "      <td>-58.516410</td>\n",
       "      <td>-34.591034</td>\n",
       "      <td>Argentina</td>\n",
       "      <td>Capital Federal</td>\n",
       "      <td>Villa Devoto</td>\n",
       "      <td>None</td>\n",
       "      <td>None</td>\n",
       "      <td>NaN</td>\n",
       "      <td>2.0</td>\n",
       "      <td>NaN</td>\n",
       "      <td>1.0</td>\n",
       "      <td>50.0</td>\n",
       "      <td>450.0</td>\n",
       "      <td>13000.0</td>\n",
       "      <td>ARS</td>\n",
       "      <td>Mensual</td>\n",
       "      <td>PH - Villa Devoto</td>\n",
       "      <td>Excelente duplex  recién pintado , en muy buen...</td>\n",
       "      <td>PH</td>\n",
       "      <td>Alquiler</td>\n",
       "    </tr>\n",
       "  </tbody>\n",
       "</table>\n",
       "</div>"
      ],
      "text/plain": [
       "        id    ad_type start_date   end_date created_on        lat        lon   \n",
       "27  461858  Propiedad 2019-07-04 2019-07-07 2019-07-04 -58.430523 -34.587761  \\\n",
       "63  461862  Propiedad 2019-07-04 2019-07-11 2019-07-04 -58.516410 -34.591034   \n",
       "\n",
       "           l1               l2            l3    l4    l5  l6  rooms  bedrooms   \n",
       "27  Argentina  Capital Federal       Palermo  None  None NaN    1.0       NaN  \\\n",
       "63  Argentina  Capital Federal  Villa Devoto  None  None NaN    2.0       NaN   \n",
       "\n",
       "    bathrooms  surface_total  surface_covered    price currency price_period   \n",
       "27        1.0           35.0             35.0  13000.0      ARS         None  \\\n",
       "63        1.0           50.0            450.0  13000.0      ARS      Mensual   \n",
       "\n",
       "                                                title   \n",
       "27  Alquiler PH en Palermo Capital Federal Santa R...  \\\n",
       "63                                  PH - Villa Devoto   \n",
       "\n",
       "                                          description property_type   \n",
       "27  PH en Alquiler, Amplio Monoambiente tipo PH en...            PH  \\\n",
       "63  Excelente duplex  recién pintado , en muy buen...            PH   \n",
       "\n",
       "   operation_type  \n",
       "27       Alquiler  \n",
       "63       Alquiler  "
      ]
     },
     "execution_count": 72,
     "metadata": {},
     "output_type": "execute_result"
    }
   ],
   "source": [
    "to_drop = ['surface_total','surface_covered','rooms','price']\n",
    "df_train = df_train.dropna(subset = to_drop, axis = 0)\n",
    "df_train.head(2)"
   ]
  },
  {
   "cell_type": "code",
   "execution_count": 73,
   "metadata": {
    "tags": []
   },
   "outputs": [
    {
     "name": "stdout",
     "output_type": "stream",
     "text": [
      "<class 'pandas.core.frame.DataFrame'>\n",
      "Index: 268947 entries, 27 to 967850\n",
      "Data columns (total 25 columns):\n",
      " #   Column           Non-Null Count   Dtype         \n",
      "---  ------           --------------   -----         \n",
      " 0   id               268947 non-null  int64         \n",
      " 1   ad_type          268947 non-null  object        \n",
      " 2   start_date       268947 non-null  datetime64[ns]\n",
      " 3   end_date         228957 non-null  datetime64[ns]\n",
      " 4   created_on       268947 non-null  datetime64[ns]\n",
      " 5   lat              244345 non-null  float64       \n",
      " 6   lon              244345 non-null  float64       \n",
      " 7   l1               268947 non-null  object        \n",
      " 8   l2               268947 non-null  object        \n",
      " 9   l3               263046 non-null  object        \n",
      " 10  l4               76321 non-null   object        \n",
      " 11  l5               1733 non-null    object        \n",
      " 12  l6               0 non-null       float64       \n",
      " 13  rooms            268947 non-null  float64       \n",
      " 14  bedrooms         167874 non-null  float64       \n",
      " 15  bathrooms        261588 non-null  float64       \n",
      " 16  surface_total    268947 non-null  float64       \n",
      " 17  surface_covered  268947 non-null  float64       \n",
      " 18  price            268947 non-null  float64       \n",
      " 19  currency         267923 non-null  object        \n",
      " 20  price_period     115270 non-null  object        \n",
      " 21  title            268947 non-null  object        \n",
      " 22  description      268943 non-null  object        \n",
      " 23  property_type    268947 non-null  object        \n",
      " 24  operation_type   268947 non-null  object        \n",
      "dtypes: datetime64[ns](3), float64(9), int64(1), object(12)\n",
      "memory usage: 53.3+ MB\n"
     ]
    }
   ],
   "source": [
    "df_train.info()"
   ]
  },
  {
   "cell_type": "code",
   "execution_count": 74,
   "metadata": {
    "tags": []
   },
   "outputs": [
    {
     "data": {
      "text/html": [
       "<div>\n",
       "<style scoped>\n",
       "    .dataframe tbody tr th:only-of-type {\n",
       "        vertical-align: middle;\n",
       "    }\n",
       "\n",
       "    .dataframe tbody tr th {\n",
       "        vertical-align: top;\n",
       "    }\n",
       "\n",
       "    .dataframe thead th {\n",
       "        text-align: right;\n",
       "    }\n",
       "</style>\n",
       "<table border=\"1\" class=\"dataframe\">\n",
       "  <thead>\n",
       "    <tr style=\"text-align: right;\">\n",
       "      <th></th>\n",
       "      <th>Missing Values</th>\n",
       "    </tr>\n",
       "    <tr>\n",
       "      <th>Feature</th>\n",
       "      <th></th>\n",
       "    </tr>\n",
       "  </thead>\n",
       "  <tbody>\n",
       "    <tr>\n",
       "      <th>l6</th>\n",
       "      <td>1.000000</td>\n",
       "    </tr>\n",
       "    <tr>\n",
       "      <th>l5</th>\n",
       "      <td>0.993556</td>\n",
       "    </tr>\n",
       "    <tr>\n",
       "      <th>l4</th>\n",
       "      <td>0.716223</td>\n",
       "    </tr>\n",
       "    <tr>\n",
       "      <th>price_period</th>\n",
       "      <td>0.571403</td>\n",
       "    </tr>\n",
       "    <tr>\n",
       "      <th>bedrooms</th>\n",
       "      <td>0.375810</td>\n",
       "    </tr>\n",
       "    <tr>\n",
       "      <th>end_date</th>\n",
       "      <td>0.148691</td>\n",
       "    </tr>\n",
       "    <tr>\n",
       "      <th>lat</th>\n",
       "      <td>0.091475</td>\n",
       "    </tr>\n",
       "    <tr>\n",
       "      <th>lon</th>\n",
       "      <td>0.091475</td>\n",
       "    </tr>\n",
       "    <tr>\n",
       "      <th>bathrooms</th>\n",
       "      <td>0.027362</td>\n",
       "    </tr>\n",
       "    <tr>\n",
       "      <th>l3</th>\n",
       "      <td>0.021941</td>\n",
       "    </tr>\n",
       "    <tr>\n",
       "      <th>currency</th>\n",
       "      <td>0.003807</td>\n",
       "    </tr>\n",
       "    <tr>\n",
       "      <th>description</th>\n",
       "      <td>0.000015</td>\n",
       "    </tr>\n",
       "    <tr>\n",
       "      <th>surface_covered</th>\n",
       "      <td>0.000000</td>\n",
       "    </tr>\n",
       "    <tr>\n",
       "      <th>property_type</th>\n",
       "      <td>0.000000</td>\n",
       "    </tr>\n",
       "    <tr>\n",
       "      <th>title</th>\n",
       "      <td>0.000000</td>\n",
       "    </tr>\n",
       "    <tr>\n",
       "      <th>price</th>\n",
       "      <td>0.000000</td>\n",
       "    </tr>\n",
       "    <tr>\n",
       "      <th>id</th>\n",
       "      <td>0.000000</td>\n",
       "    </tr>\n",
       "    <tr>\n",
       "      <th>surface_total</th>\n",
       "      <td>0.000000</td>\n",
       "    </tr>\n",
       "    <tr>\n",
       "      <th>rooms</th>\n",
       "      <td>0.000000</td>\n",
       "    </tr>\n",
       "    <tr>\n",
       "      <th>ad_type</th>\n",
       "      <td>0.000000</td>\n",
       "    </tr>\n",
       "    <tr>\n",
       "      <th>l2</th>\n",
       "      <td>0.000000</td>\n",
       "    </tr>\n",
       "    <tr>\n",
       "      <th>l1</th>\n",
       "      <td>0.000000</td>\n",
       "    </tr>\n",
       "    <tr>\n",
       "      <th>created_on</th>\n",
       "      <td>0.000000</td>\n",
       "    </tr>\n",
       "    <tr>\n",
       "      <th>start_date</th>\n",
       "      <td>0.000000</td>\n",
       "    </tr>\n",
       "    <tr>\n",
       "      <th>operation_type</th>\n",
       "      <td>0.000000</td>\n",
       "    </tr>\n",
       "  </tbody>\n",
       "</table>\n",
       "</div>"
      ],
      "text/plain": [
       "                 Missing Values\n",
       "Feature                        \n",
       "l6                     1.000000\n",
       "l5                     0.993556\n",
       "l4                     0.716223\n",
       "price_period           0.571403\n",
       "bedrooms               0.375810\n",
       "end_date               0.148691\n",
       "lat                    0.091475\n",
       "lon                    0.091475\n",
       "bathrooms              0.027362\n",
       "l3                     0.021941\n",
       "currency               0.003807\n",
       "description            0.000015\n",
       "surface_covered        0.000000\n",
       "property_type          0.000000\n",
       "title                  0.000000\n",
       "price                  0.000000\n",
       "id                     0.000000\n",
       "surface_total          0.000000\n",
       "rooms                  0.000000\n",
       "ad_type                0.000000\n",
       "l2                     0.000000\n",
       "l1                     0.000000\n",
       "created_on             0.000000\n",
       "start_date             0.000000\n",
       "operation_type         0.000000"
      ]
     },
     "execution_count": 74,
     "metadata": {},
     "output_type": "execute_result"
    }
   ],
   "source": [
    "df_train.isnull().sum().rename_axis(\"Feature\", axis=0).sort_values(ascending=False).to_frame(\"Missing Values\") / len(df_train)"
   ]
  },
  {
   "cell_type": "code",
   "execution_count": 75,
   "metadata": {
    "tags": []
   },
   "outputs": [
    {
     "data": {
      "text/plain": [
       "3229"
      ]
     },
     "execution_count": 75,
     "metadata": {},
     "output_type": "execute_result"
    }
   ],
   "source": [
    "wrong_surface_rows = df_train[df_train['surface_total'] < df_train['surface_covered']]\n",
    "len(wrong_surface_rows)"
   ]
  },
  {
   "cell_type": "code",
   "execution_count": 79,
   "metadata": {
    "tags": []
   },
   "outputs": [
    {
     "data": {
      "text/plain": [
       "63         50.0\n",
       "1489       90.0\n",
       "1890      100.0\n",
       "2206      238.0\n",
       "2447       95.0\n",
       "          ...  \n",
       "966420     71.0\n",
       "966438     49.0\n",
       "966636     36.0\n",
       "966883     58.0\n",
       "967771    110.0\n",
       "Name: surface_total, Length: 3229, dtype: float64"
      ]
     },
     "execution_count": 79,
     "metadata": {},
     "output_type": "execute_result"
    }
   ],
   "source": [
    "df_train.loc[wrong_surface_rows.index, 'surface_total']"
   ]
  },
  {
   "cell_type": "code",
   "execution_count": 80,
   "metadata": {
    "tags": []
   },
   "outputs": [],
   "source": [
    "df_train.loc[pd.Series(wrong_surface_rows.index), 'surface_total'] = wrong_surface_rows.surface_covered\n",
    "df_train.loc[pd.Series(wrong_surface_rows.index), 'surface_covered'] = wrong_surface_rows.surface_total"
   ]
  },
  {
   "cell_type": "code",
   "execution_count": null,
   "metadata": {},
   "outputs": [],
   "source": [
    "conteo_puntos = df_filtered.groupby(['lat', 'lon']).size()\n",
    "conteo_puntos[conteo_puntos > 1].sort_values(ascending=False).head(10)"
   ]
  },
  {
   "cell_type": "code",
   "execution_count": 81,
   "metadata": {
    "tags": []
   },
   "outputs": [
    {
     "data": {
      "text/plain": [
       "lat         lon       \n",
       "-58.455819  -34.579326    965\n",
       "-58.421008  -34.608248    618\n",
       "-58.440873  -34.597760    313\n",
       "-58.420728  -34.589767    305\n",
       "-58.430038  -34.598219    285\n",
       "-58.442232  -34.593371    277\n",
       "-58.420122  -34.588007    263\n",
       "-58.417970  -34.603810    262\n",
       "-58.438364  -34.642835    235\n",
       "-58.448509  -34.598529    235\n",
       "dtype: int64"
      ]
     },
     "execution_count": 81,
     "metadata": {},
     "output_type": "execute_result"
    }
   ],
   "source": [
    "conteo_puntos = df_train.groupby(['lat', 'lon']).size()\n",
    "conteo_puntos[conteo_puntos > 1].sort_values(ascending=False).head(10)"
   ]
  },
  {
   "cell_type": "code",
   "execution_count": null,
   "metadata": {},
   "outputs": [],
   "source": []
  },
  {
   "cell_type": "code",
   "execution_count": null,
   "metadata": {},
   "outputs": [],
   "source": []
  },
  {
   "cell_type": "code",
   "execution_count": null,
   "metadata": {},
   "outputs": [],
   "source": []
  },
  {
   "cell_type": "code",
   "execution_count": null,
   "metadata": {},
   "outputs": [],
   "source": []
  },
  {
   "cell_type": "code",
   "execution_count": null,
   "metadata": {},
   "outputs": [],
   "source": []
  },
  {
   "cell_type": "code",
   "execution_count": null,
   "metadata": {},
   "outputs": [],
   "source": []
  },
  {
   "cell_type": "code",
   "execution_count": null,
   "metadata": {},
   "outputs": [],
   "source": []
  },
  {
   "cell_type": "markdown",
   "metadata": {
    "id": "zjaTnfxkyvo8"
   },
   "source": [
    "# Limpieza y transformación de datos (magia parte 2 -- MD)"
   ]
  },
  {
   "cell_type": "code",
   "execution_count": null,
   "metadata": {
    "colab": {
     "base_uri": "https://localhost:8080/"
    },
    "id": "ckXCv9f-uia0",
    "outputId": "eca63968-a7c5-408d-c01e-16a2af294ee0"
   },
   "outputs": [
    {
     "data": {
      "text/plain": [
       "(11100, 24)"
      ]
     },
     "execution_count": 4,
     "metadata": {},
     "output_type": "execute_result"
    }
   ],
   "source": [
    "# Selección de datos. Solo a fines demostrativos. Cambiar!\n",
    "df_train = df_train.loc[(df_train.l2 == \"Córdoba\") & (df_train.operation_type == 'Venta') & (df_train.property_type == 'Casa')]\n",
    "df_train.shape"
   ]
  },
  {
   "cell_type": "code",
   "execution_count": null,
   "metadata": {
    "id": "yg8qNxuNrzQp"
   },
   "outputs": [],
   "source": [
    "## esto tiene que hacerse antes y mejor\n",
    "df_train.fillna(0, inplace=True, downcast= \"infer\")\n",
    "df_test.fillna(0, inplace=True, downcast= \"infer\") "
   ]
  },
  {
   "cell_type": "code",
   "execution_count": null,
   "metadata": {
    "id": "nKSwHBUEUcQy"
   },
   "outputs": [],
   "source": [
    "# Funcion de limpieza (usada en la siguiente sección) que usa y_train\n",
    "def limpiar_fold(X_train, y_train, X_test):\n",
    "    ## TODO: limpiar los datos\n",
    "\n",
    "    return (X_train, y_train, X_test)"
   ]
  },
  {
   "cell_type": "markdown",
   "metadata": {
    "id": "i2jRJmQ-tD4Z"
   },
   "source": [
    "# Entrenamiento del modelo"
   ]
  },
  {
   "cell_type": "markdown",
   "metadata": {
    "id": "PMhVsoXBVYrr"
   },
   "source": [
    "## Territorio de Aprendizaje Automático\n",
    "☢☢☢☢☢☢ Se mira y no se toca ☢☢☢☢☢☢☢"
   ]
  },
  {
   "cell_type": "code",
   "execution_count": null,
   "metadata": {
    "id": "wpS9E1RbRtYm"
   },
   "outputs": [],
   "source": [
    "# Datos para probar\n",
    "df_train = df_train.select_dtypes(include=['float64', 'int64', 'int32', 'int16', 'int8', 'bool'])\n",
    "\n",
    "X = df_train[df_train.columns.drop('price')]\n",
    "y = df_train['price']"
   ]
  },
  {
   "cell_type": "code",
   "execution_count": null,
   "metadata": {
    "colab": {
     "base_uri": "https://localhost:8080/"
    },
    "id": "PoAhfAjlr-rp",
    "outputId": "d24f9ca9-12f4-48c0-826e-63d8c5cfddbe"
   },
   "outputs": [
    {
     "name": "stdout",
     "output_type": "stream",
     "text": [
      "fold=0, score_train=656619551068.9652 score_test=723458864862.029\n",
      "fold=1, score_train=705282813566.9788 score_test=407119553109.7009\n",
      "fold=2, score_train=643023999928.6862 score_test=994184852024.9316\n",
      "fold=3, score_train=665345121159.0591 score_test=1046921316854.067\n",
      "fold=4, score_train=676453853218.504 score_test=1078025506441.9459\n",
      "fold=5, score_train=711032810564.2731 score_test=369502566520.8514\n",
      "fold=6, score_train=691216432021.5255 score_test=459109057184.1242\n",
      "fold=7, score_train=692006631232.408 score_test=611882224415.666\n",
      "fold=8, score_train=625610260389.6654 score_test=1308765643364.4905\n",
      "fold=9, score_train=633034962823.5765 score_test=1188451212540.4434\n",
      "Train scores mean=669962643597.3641, std=30129180014.069405\n",
      "Test scores mean=818742079731.825, std=346303785730.9732\n"
     ]
    }
   ],
   "source": [
    "# Creamos el modelo\n",
    "reg = sk.ensemble.RandomForestRegressor(n_estimators=500, max_depth=5, n_jobs=-1, random_state=42)\n",
    "\n",
    "# Partimos en entrenamiento+prueba y validación\n",
    "X_train_test, X_val, y_train_test, y_val = sk.model_selection.train_test_split(X, y, test_size=0.2, random_state=42)\n",
    "\n",
    "scores_train = []\n",
    "scores_test = []\n",
    "# Validación cruzada, 10 folds, shuffle antes\n",
    "kf = sk.model_selection.KFold(n_splits=10, shuffle=True, random_state=42)\n",
    "for fold, (train_index, test_index) in enumerate(kf.split(X_train_test, y_train_test)):\n",
    "    X_train, X_test, y_train, y_test = X_train_test.iloc[train_index], X_train_test.iloc[test_index], y_train_test.iloc[train_index], y_train_test.iloc[test_index]\n",
    "\n",
    "    X_train, y_train, X_test = limpiar_fold(X_train, y_train, X_test)\n",
    "\n",
    "    # Entrenamos el modelo\n",
    "    reg.fit(X_train, y_train)\n",
    "\n",
    "    # Predecimos en train\n",
    "    y_pred = reg.predict(X_train)\n",
    "\n",
    "    # Medimos la performance de la predicción en test\n",
    "    score_train = sk.metrics.mean_squared_error(y_train, y_pred)\n",
    "    scores_train.append(score_train)\n",
    "\n",
    "    # Predecimos en test\n",
    "    y_pred = reg.predict(X_test)    \n",
    "\n",
    "    # Medimos la performance de la predicción en test\n",
    "    score_test = sk.metrics.mean_squared_error(y_test, y_pred)\n",
    "    scores_test.append(score_test)\n",
    "    \n",
    "    print(f\"{fold=}, {score_train=} {score_test=}\")\n",
    "    \n",
    "\n",
    "print(f\"Train scores mean={pd.Series(scores_train).mean()}, std={pd.Series(scores_train).std()}\")\n",
    "print(f\"Test scores mean={pd.Series(scores_test).mean()}, std={pd.Series(scores_test).std()}\")"
   ]
  },
  {
   "cell_type": "markdown",
   "metadata": {
    "id": "sqVkTPzj3kV0"
   },
   "source": [
    "# Predicción para kaggle\n"
   ]
  },
  {
   "cell_type": "code",
   "execution_count": null,
   "metadata": {
    "id": "01697gx81F5Z"
   },
   "outputs": [],
   "source": [
    "## Datos a predecir \n",
    "X = df_train[df_train.columns.drop('price')]\n",
    "y = df_train['price']\n",
    "X_prueba = df_test[df_train.columns.drop('price')] # cuidado:\n",
    "\n",
    "# Entrenamos el modelo con todos los datos\n",
    "reg.fit(X, y)\n",
    "\n",
    "# Predecimos\n",
    "df_test['price'] = reg.predict(X_prueba)\n",
    "\n",
    "# Grabamos\n",
    "df_test['price'].to_csv('solucion.csv', index=True)"
   ]
  },
  {
   "cell_type": "code",
   "execution_count": null,
   "metadata": {
    "colab": {
     "base_uri": "https://localhost:8080/",
     "height": 331
    },
    "id": "xzAwUNRA1Fzb",
    "outputId": "5f4b709d-6abf-4cc4-d389-fa7186a7d124"
   },
   "outputs": [
    {
     "data": {
      "text/html": [
       "\n",
       "  <div id=\"df-4bda8ff9-acf9-448a-81d8-e7f5937f49e2\">\n",
       "    <div class=\"colab-df-container\">\n",
       "      <div>\n",
       "<style scoped>\n",
       "    .dataframe tbody tr th:only-of-type {\n",
       "        vertical-align: middle;\n",
       "    }\n",
       "\n",
       "    .dataframe tbody tr th {\n",
       "        vertical-align: top;\n",
       "    }\n",
       "\n",
       "    .dataframe thead th {\n",
       "        text-align: right;\n",
       "    }\n",
       "</style>\n",
       "<table border=\"1\" class=\"dataframe\">\n",
       "  <thead>\n",
       "    <tr style=\"text-align: right;\">\n",
       "      <th></th>\n",
       "      <th>column</th>\n",
       "      <th>feature_importance</th>\n",
       "    </tr>\n",
       "  </thead>\n",
       "  <tbody>\n",
       "    <tr>\n",
       "      <th>1</th>\n",
       "      <td>lon</td>\n",
       "      <td>0.284658</td>\n",
       "    </tr>\n",
       "    <tr>\n",
       "      <th>0</th>\n",
       "      <td>lat</td>\n",
       "      <td>0.212267</td>\n",
       "    </tr>\n",
       "    <tr>\n",
       "      <th>4</th>\n",
       "      <td>rooms</td>\n",
       "      <td>0.141806</td>\n",
       "    </tr>\n",
       "    <tr>\n",
       "      <th>8</th>\n",
       "      <td>surface_covered</td>\n",
       "      <td>0.125101</td>\n",
       "    </tr>\n",
       "    <tr>\n",
       "      <th>5</th>\n",
       "      <td>bedrooms</td>\n",
       "      <td>0.095744</td>\n",
       "    </tr>\n",
       "    <tr>\n",
       "      <th>7</th>\n",
       "      <td>surface_total</td>\n",
       "      <td>0.073814</td>\n",
       "    </tr>\n",
       "    <tr>\n",
       "      <th>6</th>\n",
       "      <td>bathrooms</td>\n",
       "      <td>0.066611</td>\n",
       "    </tr>\n",
       "    <tr>\n",
       "      <th>2</th>\n",
       "      <td>l5</td>\n",
       "      <td>0.000000</td>\n",
       "    </tr>\n",
       "    <tr>\n",
       "      <th>3</th>\n",
       "      <td>l6</td>\n",
       "      <td>0.000000</td>\n",
       "    </tr>\n",
       "  </tbody>\n",
       "</table>\n",
       "</div>\n",
       "      <button class=\"colab-df-convert\" onclick=\"convertToInteractive('df-4bda8ff9-acf9-448a-81d8-e7f5937f49e2')\"\n",
       "              title=\"Convert this dataframe to an interactive table.\"\n",
       "              style=\"display:none;\">\n",
       "        \n",
       "  <svg xmlns=\"http://www.w3.org/2000/svg\" height=\"24px\"viewBox=\"0 0 24 24\"\n",
       "       width=\"24px\">\n",
       "    <path d=\"M0 0h24v24H0V0z\" fill=\"none\"/>\n",
       "    <path d=\"M18.56 5.44l.94 2.06.94-2.06 2.06-.94-2.06-.94-.94-2.06-.94 2.06-2.06.94zm-11 1L8.5 8.5l.94-2.06 2.06-.94-2.06-.94L8.5 2.5l-.94 2.06-2.06.94zm10 10l.94 2.06.94-2.06 2.06-.94-2.06-.94-.94-2.06-.94 2.06-2.06.94z\"/><path d=\"M17.41 7.96l-1.37-1.37c-.4-.4-.92-.59-1.43-.59-.52 0-1.04.2-1.43.59L10.3 9.45l-7.72 7.72c-.78.78-.78 2.05 0 2.83L4 21.41c.39.39.9.59 1.41.59.51 0 1.02-.2 1.41-.59l7.78-7.78 2.81-2.81c.8-.78.8-2.07 0-2.86zM5.41 20L4 18.59l7.72-7.72 1.47 1.35L5.41 20z\"/>\n",
       "  </svg>\n",
       "      </button>\n",
       "      \n",
       "  <style>\n",
       "    .colab-df-container {\n",
       "      display:flex;\n",
       "      flex-wrap:wrap;\n",
       "      gap: 12px;\n",
       "    }\n",
       "\n",
       "    .colab-df-convert {\n",
       "      background-color: #E8F0FE;\n",
       "      border: none;\n",
       "      border-radius: 50%;\n",
       "      cursor: pointer;\n",
       "      display: none;\n",
       "      fill: #1967D2;\n",
       "      height: 32px;\n",
       "      padding: 0 0 0 0;\n",
       "      width: 32px;\n",
       "    }\n",
       "\n",
       "    .colab-df-convert:hover {\n",
       "      background-color: #E2EBFA;\n",
       "      box-shadow: 0px 1px 2px rgba(60, 64, 67, 0.3), 0px 1px 3px 1px rgba(60, 64, 67, 0.15);\n",
       "      fill: #174EA6;\n",
       "    }\n",
       "\n",
       "    [theme=dark] .colab-df-convert {\n",
       "      background-color: #3B4455;\n",
       "      fill: #D2E3FC;\n",
       "    }\n",
       "\n",
       "    [theme=dark] .colab-df-convert:hover {\n",
       "      background-color: #434B5C;\n",
       "      box-shadow: 0px 1px 3px 1px rgba(0, 0, 0, 0.15);\n",
       "      filter: drop-shadow(0px 1px 2px rgba(0, 0, 0, 0.3));\n",
       "      fill: #FFFFFF;\n",
       "    }\n",
       "  </style>\n",
       "\n",
       "      <script>\n",
       "        const buttonEl =\n",
       "          document.querySelector('#df-4bda8ff9-acf9-448a-81d8-e7f5937f49e2 button.colab-df-convert');\n",
       "        buttonEl.style.display =\n",
       "          google.colab.kernel.accessAllowed ? 'block' : 'none';\n",
       "\n",
       "        async function convertToInteractive(key) {\n",
       "          const element = document.querySelector('#df-4bda8ff9-acf9-448a-81d8-e7f5937f49e2');\n",
       "          const dataTable =\n",
       "            await google.colab.kernel.invokeFunction('convertToInteractive',\n",
       "                                                     [key], {});\n",
       "          if (!dataTable) return;\n",
       "\n",
       "          const docLinkHtml = 'Like what you see? Visit the ' +\n",
       "            '<a target=\"_blank\" href=https://colab.research.google.com/notebooks/data_table.ipynb>data table notebook</a>'\n",
       "            + ' to learn more about interactive tables.';\n",
       "          element.innerHTML = '';\n",
       "          dataTable['output_type'] = 'display_data';\n",
       "          await google.colab.output.renderOutput(dataTable, element);\n",
       "          const docLink = document.createElement('div');\n",
       "          docLink.innerHTML = docLinkHtml;\n",
       "          element.appendChild(docLink);\n",
       "        }\n",
       "      </script>\n",
       "    </div>\n",
       "  </div>\n",
       "  "
      ],
      "text/plain": [
       "            column  feature_importance\n",
       "1              lon            0.284658\n",
       "0              lat            0.212267\n",
       "4            rooms            0.141806\n",
       "8  surface_covered            0.125101\n",
       "5         bedrooms            0.095744\n",
       "7    surface_total            0.073814\n",
       "6        bathrooms            0.066611\n",
       "2               l5            0.000000\n",
       "3               l6            0.000000"
      ]
     },
     "execution_count": 10,
     "metadata": {},
     "output_type": "execute_result"
    }
   ],
   "source": [
    "pd.DataFrame(zip(df_train.columns.drop('price'), reg.feature_importances_), columns=[\"column\", \"feature_importance\"]).sort_values(by=\"feature_importance\", ascending=False)"
   ]
  }
 ],
 "metadata": {
  "colab": {
   "provenance": []
  },
  "kernelspec": {
   "display_name": "Base (Python 3.11)",
   "language": "python",
   "name": "base"
  },
  "language_info": {
   "codemirror_mode": {
    "name": "ipython",
    "version": 3
   },
   "file_extension": ".py",
   "mimetype": "text/x-python",
   "name": "python",
   "nbconvert_exporter": "python",
   "pygments_lexer": "ipython3",
   "version": "3.11.3"
  }
 },
 "nbformat": 4,
 "nbformat_minor": 4
}
