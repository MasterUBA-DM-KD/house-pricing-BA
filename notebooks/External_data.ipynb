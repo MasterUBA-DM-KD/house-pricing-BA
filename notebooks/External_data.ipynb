{
 "cells": [
  {
   "attachments": {},
   "cell_type": "markdown",
   "id": "f8eebef6",
   "metadata": {},
   "source": [
    "# Libraries"
   ]
  },
  {
   "cell_type": "code",
   "execution_count": 1,
   "id": "c5ab0bac-ff7f-4558-a9ec-42ca94d0a67b",
   "metadata": {
    "ExecuteTime": {
     "end_time": "2023-06-18T01:27:29.755226Z",
     "start_time": "2023-06-18T01:27:29.075475Z"
    }
   },
   "outputs": [],
   "source": [
    "import pandas as pd"
   ]
  },
  {
   "attachments": {},
   "cell_type": "markdown",
   "id": "d2387be1",
   "metadata": {},
   "source": [
    "# External Data"
   ]
  },
  {
   "attachments": {},
   "cell_type": "markdown",
   "id": "da4f2df8",
   "metadata": {},
   "source": [
    "## Barrios"
   ]
  },
  {
   "cell_type": "code",
   "execution_count": null,
   "id": "5df84029",
   "metadata": {},
   "outputs": [],
   "source": [
    "df_barrios = pd.read_csv(\"../data/external/barrios/barrios_caba.csv\")\n",
    "for i in df_barrios[\"barrio\"].unique():\n",
    "    if i.lower() not in all_neigborhoods:\n",
    "        all_neigborhoods.append(i.strip().lower())"
   ]
  },
  {
   "attachments": {},
   "cell_type": "markdown",
   "id": "e28db71a",
   "metadata": {},
   "source": [
    "## Transporte"
   ]
  },
  {
   "cell_type": "code",
   "execution_count": null,
   "id": "9764371b",
   "metadata": {},
   "outputs": [
    {
     "data": {
      "text/html": [
       "<div>\n",
       "<style scoped>\n",
       "    .dataframe tbody tr th:only-of-type {\n",
       "        vertical-align: middle;\n",
       "    }\n",
       "\n",
       "    .dataframe tbody tr th {\n",
       "        vertical-align: top;\n",
       "    }\n",
       "\n",
       "    .dataframe thead th {\n",
       "        text-align: right;\n",
       "    }\n",
       "</style>\n",
       "<table border=\"1\" class=\"dataframe\">\n",
       "  <thead>\n",
       "    <tr style=\"text-align: right;\">\n",
       "      <th></th>\n",
       "      <th>linea</th>\n",
       "      <th>ramal</th>\n",
       "      <th>stop_name</th>\n",
       "      <th>lat</th>\n",
       "      <th>lon</th>\n",
       "      <th>type</th>\n",
       "    </tr>\n",
       "  </thead>\n",
       "  <tbody>\n",
       "    <tr>\n",
       "      <th>0</th>\n",
       "      <td>Sarmiento</td>\n",
       "      <td>Once - Moreno</td>\n",
       "      <td>Ciudadela</td>\n",
       "      <td>-34.639923</td>\n",
       "      <td>-58.541123</td>\n",
       "      <td>tren</td>\n",
       "    </tr>\n",
       "    <tr>\n",
       "      <th>1</th>\n",
       "      <td>Sarmiento</td>\n",
       "      <td>Once - Moreno</td>\n",
       "      <td>Liniers</td>\n",
       "      <td>-34.638873</td>\n",
       "      <td>-58.526341</td>\n",
       "      <td>tren</td>\n",
       "    </tr>\n",
       "  </tbody>\n",
       "</table>\n",
       "</div>"
      ],
      "text/plain": [
       "       linea           ramal  stop_name        lat        lon  type\n",
       "0  Sarmiento   Once - Moreno  Ciudadela -34.639923 -58.541123  tren\n",
       "1  Sarmiento   Once - Moreno    Liniers -34.638873 -58.526341  tren"
      ]
     },
     "metadata": {},
     "output_type": "display_data"
    }
   ],
   "source": [
    "df_transport = pd.read_parquet(\"../data/processed/transporte/transporte.parquet\", engine=\"pyarrow\")\n",
    "df_transport.head(2)"
   ]
  },
  {
   "cell_type": "code",
   "execution_count": null,
   "id": "d7948d51",
   "metadata": {},
   "outputs": [
    {
     "data": {
      "text/html": [
       "<div>\n",
       "<style scoped>\n",
       "    .dataframe tbody tr th:only-of-type {\n",
       "        vertical-align: middle;\n",
       "    }\n",
       "\n",
       "    .dataframe tbody tr th {\n",
       "        vertical-align: top;\n",
       "    }\n",
       "\n",
       "    .dataframe thead th {\n",
       "        text-align: right;\n",
       "    }\n",
       "</style>\n",
       "<table border=\"1\" class=\"dataframe\">\n",
       "  <thead>\n",
       "    <tr style=\"text-align: right;\">\n",
       "      <th></th>\n",
       "      <th>linea</th>\n",
       "      <th>ramal</th>\n",
       "      <th>stop_name</th>\n",
       "      <th>lat</th>\n",
       "      <th>lon</th>\n",
       "      <th>type</th>\n",
       "      <th>lat_lon</th>\n",
       "    </tr>\n",
       "  </thead>\n",
       "  <tbody>\n",
       "    <tr>\n",
       "      <th>0</th>\n",
       "      <td>Sarmiento</td>\n",
       "      <td>Once - Moreno</td>\n",
       "      <td>Ciudadela</td>\n",
       "      <td>-34.639923</td>\n",
       "      <td>-58.541123</td>\n",
       "      <td>tren</td>\n",
       "      <td>(-34.6399227, -58.5411225)</td>\n",
       "    </tr>\n",
       "    <tr>\n",
       "      <th>1</th>\n",
       "      <td>Sarmiento</td>\n",
       "      <td>Once - Moreno</td>\n",
       "      <td>Liniers</td>\n",
       "      <td>-34.638873</td>\n",
       "      <td>-58.526341</td>\n",
       "      <td>tren</td>\n",
       "      <td>(-34.6388728, -58.5263409)</td>\n",
       "    </tr>\n",
       "  </tbody>\n",
       "</table>\n",
       "</div>"
      ],
      "text/plain": [
       "       linea           ramal  stop_name        lat        lon  type   \n",
       "0  Sarmiento   Once - Moreno  Ciudadela -34.639923 -58.541123  tren  \\\n",
       "1  Sarmiento   Once - Moreno    Liniers -34.638873 -58.526341  tren   \n",
       "\n",
       "                      lat_lon  \n",
       "0  (-34.6399227, -58.5411225)  \n",
       "1  (-34.6388728, -58.5263409)  "
      ]
     },
     "metadata": {},
     "output_type": "display_data"
    }
   ],
   "source": [
    "df_transport[\"lat_lon\"] = df_transport.apply(lambda x: (x.lat, x.lon), axis=1)\n",
    "df_transport.head(2)"
   ]
  },
  {
   "cell_type": "code",
   "execution_count": null,
   "id": "dc5d82af",
   "metadata": {},
   "outputs": [
    {
     "data": {
      "text/html": [
       "<div>\n",
       "<style scoped>\n",
       "    .dataframe tbody tr th:only-of-type {\n",
       "        vertical-align: middle;\n",
       "    }\n",
       "\n",
       "    .dataframe tbody tr th {\n",
       "        vertical-align: top;\n",
       "    }\n",
       "\n",
       "    .dataframe thead th {\n",
       "        text-align: right;\n",
       "    }\n",
       "</style>\n",
       "<table border=\"1\" class=\"dataframe\">\n",
       "  <thead>\n",
       "    <tr style=\"text-align: right;\">\n",
       "      <th></th>\n",
       "      <th>linea</th>\n",
       "      <th>ramal</th>\n",
       "      <th>stop_name</th>\n",
       "      <th>lat</th>\n",
       "      <th>lon</th>\n",
       "      <th>type</th>\n",
       "      <th>lat_lon</th>\n",
       "    </tr>\n",
       "  </thead>\n",
       "  <tbody>\n",
       "  </tbody>\n",
       "</table>\n",
       "</div>"
      ],
      "text/plain": [
       "Empty DataFrame\n",
       "Columns: [linea, ramal, stop_name, lat, lon, type, lat_lon]\n",
       "Index: []"
      ]
     },
     "metadata": {},
     "output_type": "display_data"
    }
   ],
   "source": [
    "df_transport[df_transport.duplicated(subset=[\"lat_lon\"])]"
   ]
  },
  {
   "cell_type": "code",
   "execution_count": null,
   "id": "f72bec76",
   "metadata": {},
   "outputs": [
    {
     "data": {
      "text/plain": [
       "(-34.6399227, -58.5411225)"
      ]
     },
     "metadata": {},
     "output_type": "display_data"
    }
   ],
   "source": [
    "unique_lat_lon = df_transport[\"lat_lon\"].unique()\n",
    "unique_lat_lon[0]"
   ]
  },
  {
   "cell_type": "code",
   "execution_count": null,
   "id": "433c2ced",
   "metadata": {},
   "outputs": [],
   "source": [
    "def get_closest_transports(lat, lon):\n",
    "    n_transports = 0\n",
    "    list_nearest = []\n",
    "    for lat_lon in unique_lat_lon:\n",
    "        dist = distance.distance(lat_lon, (lat, lon)).km\n",
    "        list_nearest.append(dist)\n",
    "        if dist <= 1:\n",
    "            n_transports += 1\n",
    "\n",
    "    closest_transport = min(list_nearest)\n",
    "    return closest_transport, n_transports"
   ]
  },
  {
   "cell_type": "code",
   "execution_count": null,
   "id": "1b9b9865",
   "metadata": {},
   "outputs": [],
   "source": [
    "# df[\"closest_transport\"], df[\"n_transports\"] = zip(*df.swifter.apply(lambda x: get_closest_transports(x.lat, x.lon), axis=1))"
   ]
  },
  {
   "cell_type": "code",
   "execution_count": null,
   "id": "42a2617a",
   "metadata": {},
   "outputs": [],
   "source": [
    "df = df.copy()\n",
    "# df = df.reset_index(drop=False)\n",
    "\n",
    "color_scale = [(0, 'orange'), (1,'red')]\n",
    "\n",
    "fig = None\n",
    "fig = px.scatter_mapbox(df,\n",
    "                        lat=\"lat\",\n",
    "                        lon=\"lon\",\n",
    "                        hover_name=\"title\",\n",
    "                        hover_data=[\"id\", \"suburb\", \"published_suburb\"],\n",
    "                        color=\"province\",\n",
    "                        color_continuous_scale=color_scale,\n",
    "                        zoom=10,\n",
    "                        height=800,\n",
    "                        width=1600)\n",
    "\n",
    "fig.update_layout(mapbox_style=\"carto-darkmatter\")\n",
    "fig.update_layout(margin={\"r\":0,\"t\":0,\"l\":0,\"b\":0})\n",
    "fig.show()"
   ]
  },
  {
   "cell_type": "code",
   "execution_count": null,
   "id": "768f112e",
   "metadata": {},
   "outputs": [],
   "source": [
    "def search_neigborhoods(x, y):\n",
    "    for i in all_neigborhoods:\n",
    "        if i.lower() in x.lower():\n",
    "            return i\n",
    "        elif i.lower() in y.lower():\n",
    "            return i\n",
    "    return np.nan"
   ]
  },
  {
   "cell_type": "code",
   "execution_count": null,
   "id": "6e7061ac",
   "metadata": {},
   "outputs": [],
   "source": [
    "import re\n",
    "import numpy as np\n",
    "def search_price(text):\n",
    "# for i in df[\"description\"].dropna().sample(100):\n",
    "    # print(i)\n",
    "    pattern = r\"\\b\\d{1,7}(?:\\.\\d{1,7})?\\s*(?:usd|dolar|dolares)\\b\"\n",
    "    nums = re.findall(pattern, text)\n",
    "    if nums:\n",
    "        # print(nums[0] if len(nums)>0 else np.nan)\n",
    "        # print(\"\\n\")\n",
    "        return float(nums[0])\n",
    "    else:\n",
    "        return np.nan"
   ]
  },
  {
   "cell_type": "code",
   "execution_count": 5,
   "id": "5a6c18b2",
   "metadata": {
    "ExecuteTime": {
     "end_time": "2023-06-18T01:27:46.902090Z",
     "start_time": "2023-06-18T01:27:46.868627Z"
    }
   },
   "outputs": [],
   "source": [
    "df_medialunas = pd.read_json(\"../data/external/medialunas/medialunas.json\")"
   ]
  },
  {
   "cell_type": "code",
   "execution_count": 6,
   "outputs": [
    {
     "data": {
      "text/plain": "                                    _id    city  show  longitude   latitude  \\\n0  {'$oid': '63168016c34c20bddd92833a'}  arbsas  True -58.443797 -34.541162   \n1  {'$oid': '631800d9cc59d52f717aafff'}  arbsas  True -58.432001 -34.616473   \n2  {'$oid': '6318153b46e30cefdf3f14ac'}  arbsas  True -58.391631 -34.582322   \n3  {'$oid': '631815d246e30cefdf3f14c1'}  arbsas  True -58.401724 -34.599251   \n4  {'$oid': '63181b3f46e30cefdf3f14dc'}  arbsas  True -58.368232 -34.617589   \n\n   notable  supernotable      category     locationName  \\\n0     True          True      facultad             FADU   \n1     True          True  especialidad      Plaza Cafe9   \n2     True         False      facultad      UBA Derecho   \n3     True         False      facultad        UNA DAMUs   \n4     True         False      facultad  UBA Ingeniereda   \n\n                             address  price  \\\n0  Pabellf3n 3, Int. Gfciraldes 2160    450   \n1                     Rivadavia 4732    910   \n2    Av. Pres. Figueroa Alcorta 2263    600   \n3                  Av. Cf3rdoba 2445    320   \n4               Av. Paseo Colf3n 850    300   \n\n                                              tweets  __v  \n0  [{'pic': 'https://pbs.twimg.com/profile_images...    0  \n1  [{'pic': 'https://pbs.twimg.com/profile_images...    0  \n2  [{'pic': 'https://pbs.twimg.com/profile_images...    0  \n3  [{'raw': '@leomonzondev 1:Argentina 2: 450 3:7...    0  \n4  [{'raw': '@leomonzondev 1:Argentina 2: 450 3:7...    0  ",
      "text/html": "<div>\n<style scoped>\n    .dataframe tbody tr th:only-of-type {\n        vertical-align: middle;\n    }\n\n    .dataframe tbody tr th {\n        vertical-align: top;\n    }\n\n    .dataframe thead th {\n        text-align: right;\n    }\n</style>\n<table border=\"1\" class=\"dataframe\">\n  <thead>\n    <tr style=\"text-align: right;\">\n      <th></th>\n      <th>_id</th>\n      <th>city</th>\n      <th>show</th>\n      <th>longitude</th>\n      <th>latitude</th>\n      <th>notable</th>\n      <th>supernotable</th>\n      <th>category</th>\n      <th>locationName</th>\n      <th>address</th>\n      <th>price</th>\n      <th>tweets</th>\n      <th>__v</th>\n    </tr>\n  </thead>\n  <tbody>\n    <tr>\n      <th>0</th>\n      <td>{'$oid': '63168016c34c20bddd92833a'}</td>\n      <td>arbsas</td>\n      <td>True</td>\n      <td>-58.443797</td>\n      <td>-34.541162</td>\n      <td>True</td>\n      <td>True</td>\n      <td>facultad</td>\n      <td>FADU</td>\n      <td>Pabellf3n 3, Int. Gfciraldes 2160</td>\n      <td>450</td>\n      <td>[{'pic': 'https://pbs.twimg.com/profile_images...</td>\n      <td>0</td>\n    </tr>\n    <tr>\n      <th>1</th>\n      <td>{'$oid': '631800d9cc59d52f717aafff'}</td>\n      <td>arbsas</td>\n      <td>True</td>\n      <td>-58.432001</td>\n      <td>-34.616473</td>\n      <td>True</td>\n      <td>True</td>\n      <td>especialidad</td>\n      <td>Plaza Cafe9</td>\n      <td>Rivadavia 4732</td>\n      <td>910</td>\n      <td>[{'pic': 'https://pbs.twimg.com/profile_images...</td>\n      <td>0</td>\n    </tr>\n    <tr>\n      <th>2</th>\n      <td>{'$oid': '6318153b46e30cefdf3f14ac'}</td>\n      <td>arbsas</td>\n      <td>True</td>\n      <td>-58.391631</td>\n      <td>-34.582322</td>\n      <td>True</td>\n      <td>False</td>\n      <td>facultad</td>\n      <td>UBA Derecho</td>\n      <td>Av. Pres. Figueroa Alcorta 2263</td>\n      <td>600</td>\n      <td>[{'pic': 'https://pbs.twimg.com/profile_images...</td>\n      <td>0</td>\n    </tr>\n    <tr>\n      <th>3</th>\n      <td>{'$oid': '631815d246e30cefdf3f14c1'}</td>\n      <td>arbsas</td>\n      <td>True</td>\n      <td>-58.401724</td>\n      <td>-34.599251</td>\n      <td>True</td>\n      <td>False</td>\n      <td>facultad</td>\n      <td>UNA DAMUs</td>\n      <td>Av. Cf3rdoba 2445</td>\n      <td>320</td>\n      <td>[{'raw': '@leomonzondev 1:Argentina 2: 450 3:7...</td>\n      <td>0</td>\n    </tr>\n    <tr>\n      <th>4</th>\n      <td>{'$oid': '63181b3f46e30cefdf3f14dc'}</td>\n      <td>arbsas</td>\n      <td>True</td>\n      <td>-58.368232</td>\n      <td>-34.617589</td>\n      <td>True</td>\n      <td>False</td>\n      <td>facultad</td>\n      <td>UBA Ingeniereda</td>\n      <td>Av. Paseo Colf3n 850</td>\n      <td>300</td>\n      <td>[{'raw': '@leomonzondev 1:Argentina 2: 450 3:7...</td>\n      <td>0</td>\n    </tr>\n  </tbody>\n</table>\n</div>"
     },
     "execution_count": 6,
     "metadata": {},
     "output_type": "execute_result"
    }
   ],
   "source": [
    "df_medialunas.head()"
   ],
   "metadata": {
    "collapsed": false,
    "ExecuteTime": {
     "end_time": "2023-06-18T01:27:55.636792Z",
     "start_time": "2023-06-18T01:27:55.561104Z"
    }
   }
  },
  {
   "cell_type": "code",
   "execution_count": 7,
   "outputs": [
    {
     "data": {
      "text/plain": "{'$oid': '63168016c34c20bddd92833a'}"
     },
     "execution_count": 7,
     "metadata": {},
     "output_type": "execute_result"
    }
   ],
   "source": [
    "df_medialunas.iloc[0][\"_id\"]"
   ],
   "metadata": {
    "collapsed": false,
    "ExecuteTime": {
     "end_time": "2023-06-18T01:28:43.978593Z",
     "start_time": "2023-06-18T01:28:43.776396Z"
    }
   }
  },
  {
   "cell_type": "code",
   "execution_count": 9,
   "id": "6cb219b2",
   "metadata": {},
   "outputs": [],
   "source": [
    "df_medialunas = df_medialunas.drop([\"_id\", \"city\", \"show\", \"category\", \"locationName\", \"address\", \"tweets\", \"__v\"], axis=1)"
   ]
  },
  {
   "cell_type": "code",
   "execution_count": 11,
   "id": "0299d6f6",
   "metadata": {},
   "outputs": [],
   "source": [
    "df_medialunas = df_medialunas.rename(columns={\"longitude\": \"lon\",\"latitude\": \"lat\"})"
   ]
  },
  {
   "cell_type": "code",
   "execution_count": 12,
   "id": "6ad01247",
   "metadata": {},
   "outputs": [],
   "source": [
    "df_medialunas.to_parquet(\"../data/external/medialunas/medialunas.parquet\", engine=\"pyarrow\")"
   ]
  },
  {
   "cell_type": "code",
   "execution_count": 9,
   "id": "b3db96fd",
   "metadata": {
    "ExecuteTime": {
     "end_time": "2023-06-18T01:29:55.915929Z",
     "start_time": "2023-06-18T01:29:55.908286Z"
    }
   },
   "outputs": [],
   "source": [
    "df_medialunas = pd.read_parquet(\"../data/external/medialunas/medialunas.parquet\", engine=\"pyarrow\")"
   ]
  },
  {
   "cell_type": "code",
   "execution_count": 10,
   "outputs": [
    {
     "data": {
      "text/plain": "         lon        lat  notable  supernotable  price\n0 -58.443797 -34.541162     True          True    450\n1 -58.432001 -34.616473     True          True    910\n2 -58.391631 -34.582322     True         False    600\n3 -58.401724 -34.599251     True         False    320\n4 -58.368232 -34.617589     True         False    300",
      "text/html": "<div>\n<style scoped>\n    .dataframe tbody tr th:only-of-type {\n        vertical-align: middle;\n    }\n\n    .dataframe tbody tr th {\n        vertical-align: top;\n    }\n\n    .dataframe thead th {\n        text-align: right;\n    }\n</style>\n<table border=\"1\" class=\"dataframe\">\n  <thead>\n    <tr style=\"text-align: right;\">\n      <th></th>\n      <th>lon</th>\n      <th>lat</th>\n      <th>notable</th>\n      <th>supernotable</th>\n      <th>price</th>\n    </tr>\n  </thead>\n  <tbody>\n    <tr>\n      <th>0</th>\n      <td>-58.443797</td>\n      <td>-34.541162</td>\n      <td>True</td>\n      <td>True</td>\n      <td>450</td>\n    </tr>\n    <tr>\n      <th>1</th>\n      <td>-58.432001</td>\n      <td>-34.616473</td>\n      <td>True</td>\n      <td>True</td>\n      <td>910</td>\n    </tr>\n    <tr>\n      <th>2</th>\n      <td>-58.391631</td>\n      <td>-34.582322</td>\n      <td>True</td>\n      <td>False</td>\n      <td>600</td>\n    </tr>\n    <tr>\n      <th>3</th>\n      <td>-58.401724</td>\n      <td>-34.599251</td>\n      <td>True</td>\n      <td>False</td>\n      <td>320</td>\n    </tr>\n    <tr>\n      <th>4</th>\n      <td>-58.368232</td>\n      <td>-34.617589</td>\n      <td>True</td>\n      <td>False</td>\n      <td>300</td>\n    </tr>\n  </tbody>\n</table>\n</div>"
     },
     "execution_count": 10,
     "metadata": {},
     "output_type": "execute_result"
    }
   ],
   "source": [
    "df_medialunas.head()"
   ],
   "metadata": {
    "collapsed": false,
    "ExecuteTime": {
     "end_time": "2023-06-18T01:29:56.371110Z",
     "start_time": "2023-06-18T01:29:56.367540Z"
    }
   }
  },
  {
   "cell_type": "code",
   "execution_count": 44,
   "outputs": [
    {
     "data": {
      "text/plain": "lon             0\nlat             0\nnotable         0\nsupernotable    0\nprice           0\nsuburb          0\nis_suburb       0\ndtype: int64"
     },
     "execution_count": 44,
     "metadata": {},
     "output_type": "execute_result"
    }
   ],
   "source": [
    "df_medialunas.isna().sum().sort_values(ascending=False)"
   ],
   "metadata": {
    "collapsed": false,
    "ExecuteTime": {
     "end_time": "2023-06-18T01:39:54.154033Z",
     "start_time": "2023-06-18T01:39:54.148446Z"
    }
   }
  },
  {
   "cell_type": "code",
   "execution_count": 11,
   "outputs": [
    {
     "data": {
      "text/plain": "41"
     },
     "execution_count": 11,
     "metadata": {},
     "output_type": "execute_result"
    }
   ],
   "source": [
    "len(df_medialunas)"
   ],
   "metadata": {
    "collapsed": false,
    "ExecuteTime": {
     "end_time": "2023-06-18T01:29:57.141453Z",
     "start_time": "2023-06-18T01:29:57.135524Z"
    }
   }
  },
  {
   "cell_type": "code",
   "execution_count": 17,
   "outputs": [],
   "source": [
    "from src.constants import TIMEOUT, USER_AGENT\n",
    "from geopy.geocoders import Nominatim\n",
    "geolocator = Nominatim(user_agent=USER_AGENT, timeout=TIMEOUT)"
   ],
   "metadata": {
    "collapsed": false,
    "ExecuteTime": {
     "end_time": "2023-06-18T01:33:19.033746Z",
     "start_time": "2023-06-18T01:33:19.027420Z"
    }
   }
  },
  {
   "cell_type": "code",
   "execution_count": 19,
   "outputs": [],
   "source": [
    "df_medialunas[\"suburb\"] = df_medialunas.apply(lambda x: geolocator.reverse((x.lat, x.lon)).raw[\"address\"], axis=1)"
   ],
   "metadata": {
    "collapsed": false,
    "ExecuteTime": {
     "end_time": "2023-06-18T01:34:11.711942Z",
     "start_time": "2023-06-18T01:33:50.919881Z"
    }
   }
  },
  {
   "cell_type": "code",
   "execution_count": 34,
   "outputs": [
    {
     "data": {
      "text/plain": "{'man_made': 'Soul Buoy'}"
     },
     "execution_count": 34,
     "metadata": {},
     "output_type": "execute_result"
    }
   ],
   "source": [
    "df_medialunas.iloc[9][\"suburb\"]"
   ],
   "metadata": {
    "collapsed": false,
    "ExecuteTime": {
     "end_time": "2023-06-18T01:35:37.636595Z",
     "start_time": "2023-06-18T01:35:37.631501Z"
    }
   }
  },
  {
   "cell_type": "code",
   "execution_count": 36,
   "outputs": [],
   "source": [
    "df_medialunas[\"is_suburb\"] = df_medialunas.apply(lambda x: \"suburb\" in x.suburb.keys(), axis=1)"
   ],
   "metadata": {
    "collapsed": false,
    "ExecuteTime": {
     "end_time": "2023-06-18T01:36:33.997266Z",
     "start_time": "2023-06-18T01:36:33.989969Z"
    }
   }
  },
  {
   "cell_type": "code",
   "execution_count": 38,
   "outputs": [],
   "source": [
    "df_medialunas = df_medialunas[df_medialunas[\"is_suburb\"]]"
   ],
   "metadata": {
    "collapsed": false,
    "ExecuteTime": {
     "end_time": "2023-06-18T01:36:46.532140Z",
     "start_time": "2023-06-18T01:36:46.526367Z"
    }
   }
  },
  {
   "cell_type": "code",
   "execution_count": 40,
   "outputs": [
    {
     "name": "stderr",
     "output_type": "stream",
     "text": [
      "/var/folders/bk/s_5vnj893rd3cnjz135rv2180000gn/T/ipykernel_54222/510042919.py:1: SettingWithCopyWarning: \n",
      "A value is trying to be set on a copy of a slice from a DataFrame.\n",
      "Try using .loc[row_indexer,col_indexer] = value instead\n",
      "\n",
      "See the caveats in the documentation: https://pandas.pydata.org/pandas-docs/stable/user_guide/indexing.html#returning-a-view-versus-a-copy\n",
      "  df_medialunas[\"suburb\"] = df_medialunas.apply(lambda x: x.suburb[\"suburb\"], axis=1)\n"
     ]
    }
   ],
   "source": [
    "df_medialunas[\"suburb\"] = df_medialunas.apply(lambda x: x.suburb[\"suburb\"], axis=1)"
   ],
   "metadata": {
    "collapsed": false,
    "ExecuteTime": {
     "end_time": "2023-06-18T01:37:04.511590Z",
     "start_time": "2023-06-18T01:37:04.506620Z"
    }
   }
  },
  {
   "cell_type": "code",
   "execution_count": 42,
   "outputs": [
    {
     "data": {
      "text/plain": "                         lon        lat  notable  supernotable  price  \\\nsuburb                                                                  \nAlmagro           -58.432020 -34.603870      1.0           0.0  620.0   \nBalvanera         -58.406675 -34.606509      1.0           0.0  235.0   \nBelgrano          -58.441627 -34.542770      1.0           0.5  300.0   \nBoedo             -58.417706 -34.623678      1.0           0.0  350.0   \nCaballito         -58.434442 -34.616820      1.0           0.5  612.5   \nCrucecita         -58.370700 -34.666365      1.0           0.0  390.0   \nFlores            -58.467269 -34.627503      1.0           0.0  300.0   \nMonserrat         -58.374440 -34.608972      1.0           0.0  520.0   \nNúñez             -58.463746 -34.548055      1.0           0.0  565.0   \nPalermo           -58.413315 -34.586892      1.0           0.0  345.0   \nParque Avellaneda -58.471277 -34.648018      1.0           0.0  300.0   \nRecoleta          -58.394530 -34.592123      1.0           0.0  620.0   \nRetiro            -58.375437 -34.590706      1.0           0.0  250.0   \nSan Nicolás       -58.375060 -34.605100      1.0           0.0  305.0   \nSan Telmo         -58.368232 -34.617589      1.0           0.0  300.0   \nVicente López     -58.480286 -34.530636      1.0           0.0  360.0   \nVilla Crespo      -58.442480 -34.596177      1.0           0.0  380.0   \nVilla Urquiza     -58.478285 -34.567830      1.0           0.0  380.0   \n\n                   is_suburb  \nsuburb                        \nAlmagro                  1.0  \nBalvanera                1.0  \nBelgrano                 1.0  \nBoedo                    1.0  \nCaballito                1.0  \nCrucecita                1.0  \nFlores                   1.0  \nMonserrat                1.0  \nNúñez                    1.0  \nPalermo                  1.0  \nParque Avellaneda        1.0  \nRecoleta                 1.0  \nRetiro                   1.0  \nSan Nicolás              1.0  \nSan Telmo                1.0  \nVicente López            1.0  \nVilla Crespo             1.0  \nVilla Urquiza            1.0  ",
      "text/html": "<div>\n<style scoped>\n    .dataframe tbody tr th:only-of-type {\n        vertical-align: middle;\n    }\n\n    .dataframe tbody tr th {\n        vertical-align: top;\n    }\n\n    .dataframe thead th {\n        text-align: right;\n    }\n</style>\n<table border=\"1\" class=\"dataframe\">\n  <thead>\n    <tr style=\"text-align: right;\">\n      <th></th>\n      <th>lon</th>\n      <th>lat</th>\n      <th>notable</th>\n      <th>supernotable</th>\n      <th>price</th>\n      <th>is_suburb</th>\n    </tr>\n    <tr>\n      <th>suburb</th>\n      <th></th>\n      <th></th>\n      <th></th>\n      <th></th>\n      <th></th>\n      <th></th>\n    </tr>\n  </thead>\n  <tbody>\n    <tr>\n      <th>Almagro</th>\n      <td>-58.432020</td>\n      <td>-34.603870</td>\n      <td>1.0</td>\n      <td>0.0</td>\n      <td>620.0</td>\n      <td>1.0</td>\n    </tr>\n    <tr>\n      <th>Balvanera</th>\n      <td>-58.406675</td>\n      <td>-34.606509</td>\n      <td>1.0</td>\n      <td>0.0</td>\n      <td>235.0</td>\n      <td>1.0</td>\n    </tr>\n    <tr>\n      <th>Belgrano</th>\n      <td>-58.441627</td>\n      <td>-34.542770</td>\n      <td>1.0</td>\n      <td>0.5</td>\n      <td>300.0</td>\n      <td>1.0</td>\n    </tr>\n    <tr>\n      <th>Boedo</th>\n      <td>-58.417706</td>\n      <td>-34.623678</td>\n      <td>1.0</td>\n      <td>0.0</td>\n      <td>350.0</td>\n      <td>1.0</td>\n    </tr>\n    <tr>\n      <th>Caballito</th>\n      <td>-58.434442</td>\n      <td>-34.616820</td>\n      <td>1.0</td>\n      <td>0.5</td>\n      <td>612.5</td>\n      <td>1.0</td>\n    </tr>\n    <tr>\n      <th>Crucecita</th>\n      <td>-58.370700</td>\n      <td>-34.666365</td>\n      <td>1.0</td>\n      <td>0.0</td>\n      <td>390.0</td>\n      <td>1.0</td>\n    </tr>\n    <tr>\n      <th>Flores</th>\n      <td>-58.467269</td>\n      <td>-34.627503</td>\n      <td>1.0</td>\n      <td>0.0</td>\n      <td>300.0</td>\n      <td>1.0</td>\n    </tr>\n    <tr>\n      <th>Monserrat</th>\n      <td>-58.374440</td>\n      <td>-34.608972</td>\n      <td>1.0</td>\n      <td>0.0</td>\n      <td>520.0</td>\n      <td>1.0</td>\n    </tr>\n    <tr>\n      <th>Núñez</th>\n      <td>-58.463746</td>\n      <td>-34.548055</td>\n      <td>1.0</td>\n      <td>0.0</td>\n      <td>565.0</td>\n      <td>1.0</td>\n    </tr>\n    <tr>\n      <th>Palermo</th>\n      <td>-58.413315</td>\n      <td>-34.586892</td>\n      <td>1.0</td>\n      <td>0.0</td>\n      <td>345.0</td>\n      <td>1.0</td>\n    </tr>\n    <tr>\n      <th>Parque Avellaneda</th>\n      <td>-58.471277</td>\n      <td>-34.648018</td>\n      <td>1.0</td>\n      <td>0.0</td>\n      <td>300.0</td>\n      <td>1.0</td>\n    </tr>\n    <tr>\n      <th>Recoleta</th>\n      <td>-58.394530</td>\n      <td>-34.592123</td>\n      <td>1.0</td>\n      <td>0.0</td>\n      <td>620.0</td>\n      <td>1.0</td>\n    </tr>\n    <tr>\n      <th>Retiro</th>\n      <td>-58.375437</td>\n      <td>-34.590706</td>\n      <td>1.0</td>\n      <td>0.0</td>\n      <td>250.0</td>\n      <td>1.0</td>\n    </tr>\n    <tr>\n      <th>San Nicolás</th>\n      <td>-58.375060</td>\n      <td>-34.605100</td>\n      <td>1.0</td>\n      <td>0.0</td>\n      <td>305.0</td>\n      <td>1.0</td>\n    </tr>\n    <tr>\n      <th>San Telmo</th>\n      <td>-58.368232</td>\n      <td>-34.617589</td>\n      <td>1.0</td>\n      <td>0.0</td>\n      <td>300.0</td>\n      <td>1.0</td>\n    </tr>\n    <tr>\n      <th>Vicente López</th>\n      <td>-58.480286</td>\n      <td>-34.530636</td>\n      <td>1.0</td>\n      <td>0.0</td>\n      <td>360.0</td>\n      <td>1.0</td>\n    </tr>\n    <tr>\n      <th>Villa Crespo</th>\n      <td>-58.442480</td>\n      <td>-34.596177</td>\n      <td>1.0</td>\n      <td>0.0</td>\n      <td>380.0</td>\n      <td>1.0</td>\n    </tr>\n    <tr>\n      <th>Villa Urquiza</th>\n      <td>-58.478285</td>\n      <td>-34.567830</td>\n      <td>1.0</td>\n      <td>0.0</td>\n      <td>380.0</td>\n      <td>1.0</td>\n    </tr>\n  </tbody>\n</table>\n</div>"
     },
     "execution_count": 42,
     "metadata": {},
     "output_type": "execute_result"
    }
   ],
   "source": [
    "df_medialunas = df_medialunas.groupby(\"suburb\").mean()"
   ],
   "metadata": {
    "collapsed": false,
    "ExecuteTime": {
     "end_time": "2023-06-18T01:37:26.845156Z",
     "start_time": "2023-06-18T01:37:26.843059Z"
    }
   }
  },
  {
   "cell_type": "code",
   "execution_count": 64,
   "outputs": [],
   "source": [
    "df_medialunas = df_medialunas[[\"suburb\", \"price\"]]\n",
    "df_medialunas.groupby(\"suburb\").mean().to_json(\"../data/external/medialunas/medialunas_processed.json\")"
   ],
   "metadata": {
    "collapsed": false,
    "ExecuteTime": {
     "end_time": "2023-06-18T02:53:51.827827Z",
     "start_time": "2023-06-18T02:53:51.824207Z"
    }
   }
  },
  {
   "cell_type": "code",
   "execution_count": 60,
   "outputs": [],
   "source": [
    "from unidecode import unidecode\n",
    "#∂ df_medialunas[\"suburb\"] = df_medialunas[\"suburb\"].apply(lambda x: unidecode(x.lower()))"
   ],
   "metadata": {
    "collapsed": false,
    "ExecuteTime": {
     "end_time": "2023-06-18T02:26:40.565021Z",
     "start_time": "2023-06-18T02:26:40.559640Z"
    }
   }
  },
  {
   "cell_type": "markdown",
   "source": [],
   "metadata": {
    "collapsed": false
   }
  },
  {
   "cell_type": "code",
   "execution_count": null,
   "outputs": [],
   "source": [],
   "metadata": {
    "collapsed": false
   }
  },
  {
   "cell_type": "code",
   "execution_count": null,
   "outputs": [],
   "source": [],
   "metadata": {
    "collapsed": false
   }
  },
  {
   "cell_type": "code",
   "execution_count": 46,
   "outputs": [],
   "source": [
    "df_prices = pd.read_csv(\"../data/external/inmobiliario/precio-venta-deptos.csv\")"
   ],
   "metadata": {
    "collapsed": false,
    "ExecuteTime": {
     "end_time": "2023-06-18T02:21:38.578141Z",
     "start_time": "2023-06-18T02:21:38.568341Z"
    }
   }
  },
  {
   "cell_type": "code",
   "execution_count": 47,
   "outputs": [
    {
     "data": {
      "text/plain": "             barrio   año  trimestre  precio_prom    ambientes    estado  \\\n0         AGRONOMIA  2010          1          NaN  2 ambientes     Usado   \n1         AGRONOMIA  2010          2          NaN  2 ambientes     Usado   \n2         AGRONOMIA  2010          3          NaN  2 ambientes     Usado   \n3         AGRONOMIA  2010          4          NaN  2 ambientes     Usado   \n4         AGRONOMIA  2011          1          NaN  2 ambientes     Usado   \n...             ...   ...        ...          ...          ...       ...   \n7291  VILLA URQUIZA  2018          2       3353.0  3 ambientes  A estrer   \n7292  VILLA URQUIZA  2018          3       3329.0  3 ambientes  A estrer   \n7293  VILLA URQUIZA  2018          4       3316.0  3 ambientes  A estrer   \n7294  VILLA URQUIZA  2019          1       3424.0  3 ambientes  A estrer   \n7295  VILLA URQUIZA  2019          2       3344.0  3 ambientes  A estrer   \n\n      comuna  \n0         15  \n1         15  \n2         15  \n3         15  \n4         15  \n...      ...  \n7291      12  \n7292      12  \n7293      12  \n7294      12  \n7295      12  \n\n[7296 rows x 7 columns]",
      "text/html": "<div>\n<style scoped>\n    .dataframe tbody tr th:only-of-type {\n        vertical-align: middle;\n    }\n\n    .dataframe tbody tr th {\n        vertical-align: top;\n    }\n\n    .dataframe thead th {\n        text-align: right;\n    }\n</style>\n<table border=\"1\" class=\"dataframe\">\n  <thead>\n    <tr style=\"text-align: right;\">\n      <th></th>\n      <th>barrio</th>\n      <th>año</th>\n      <th>trimestre</th>\n      <th>precio_prom</th>\n      <th>ambientes</th>\n      <th>estado</th>\n      <th>comuna</th>\n    </tr>\n  </thead>\n  <tbody>\n    <tr>\n      <th>0</th>\n      <td>AGRONOMIA</td>\n      <td>2010</td>\n      <td>1</td>\n      <td>NaN</td>\n      <td>2 ambientes</td>\n      <td>Usado</td>\n      <td>15</td>\n    </tr>\n    <tr>\n      <th>1</th>\n      <td>AGRONOMIA</td>\n      <td>2010</td>\n      <td>2</td>\n      <td>NaN</td>\n      <td>2 ambientes</td>\n      <td>Usado</td>\n      <td>15</td>\n    </tr>\n    <tr>\n      <th>2</th>\n      <td>AGRONOMIA</td>\n      <td>2010</td>\n      <td>3</td>\n      <td>NaN</td>\n      <td>2 ambientes</td>\n      <td>Usado</td>\n      <td>15</td>\n    </tr>\n    <tr>\n      <th>3</th>\n      <td>AGRONOMIA</td>\n      <td>2010</td>\n      <td>4</td>\n      <td>NaN</td>\n      <td>2 ambientes</td>\n      <td>Usado</td>\n      <td>15</td>\n    </tr>\n    <tr>\n      <th>4</th>\n      <td>AGRONOMIA</td>\n      <td>2011</td>\n      <td>1</td>\n      <td>NaN</td>\n      <td>2 ambientes</td>\n      <td>Usado</td>\n      <td>15</td>\n    </tr>\n    <tr>\n      <th>...</th>\n      <td>...</td>\n      <td>...</td>\n      <td>...</td>\n      <td>...</td>\n      <td>...</td>\n      <td>...</td>\n      <td>...</td>\n    </tr>\n    <tr>\n      <th>7291</th>\n      <td>VILLA URQUIZA</td>\n      <td>2018</td>\n      <td>2</td>\n      <td>3353.0</td>\n      <td>3 ambientes</td>\n      <td>A estrer</td>\n      <td>12</td>\n    </tr>\n    <tr>\n      <th>7292</th>\n      <td>VILLA URQUIZA</td>\n      <td>2018</td>\n      <td>3</td>\n      <td>3329.0</td>\n      <td>3 ambientes</td>\n      <td>A estrer</td>\n      <td>12</td>\n    </tr>\n    <tr>\n      <th>7293</th>\n      <td>VILLA URQUIZA</td>\n      <td>2018</td>\n      <td>4</td>\n      <td>3316.0</td>\n      <td>3 ambientes</td>\n      <td>A estrer</td>\n      <td>12</td>\n    </tr>\n    <tr>\n      <th>7294</th>\n      <td>VILLA URQUIZA</td>\n      <td>2019</td>\n      <td>1</td>\n      <td>3424.0</td>\n      <td>3 ambientes</td>\n      <td>A estrer</td>\n      <td>12</td>\n    </tr>\n    <tr>\n      <th>7295</th>\n      <td>VILLA URQUIZA</td>\n      <td>2019</td>\n      <td>2</td>\n      <td>3344.0</td>\n      <td>3 ambientes</td>\n      <td>A estrer</td>\n      <td>12</td>\n    </tr>\n  </tbody>\n</table>\n<p>7296 rows × 7 columns</p>\n</div>"
     },
     "execution_count": 47,
     "metadata": {},
     "output_type": "execute_result"
    }
   ],
   "source": [
    "df_prices"
   ],
   "metadata": {
    "collapsed": false,
    "ExecuteTime": {
     "end_time": "2023-06-18T02:21:41.962085Z",
     "start_time": "2023-06-18T02:21:41.956649Z"
    }
   }
  },
  {
   "cell_type": "code",
   "execution_count": 49,
   "outputs": [],
   "source": [
    "df_prices = df_prices[df_prices[\"año\"] == 2019]\n",
    "df_prices = df_prices.dropna()"
   ],
   "metadata": {
    "collapsed": false,
    "ExecuteTime": {
     "end_time": "2023-06-18T02:23:25.093454Z",
     "start_time": "2023-06-18T02:23:25.087111Z"
    }
   }
  },
  {
   "cell_type": "code",
   "execution_count": 61,
   "outputs": [],
   "source": [
    "df_prices = df_prices[['barrio',\"precio_prom\"]]\n",
    "df_prices[\"barrio\"] = df_prices[\"barrio\"].apply(lambda x: unidecode(x.lower()))"
   ],
   "metadata": {
    "collapsed": false,
    "ExecuteTime": {
     "end_time": "2023-06-18T02:26:45.494068Z",
     "start_time": "2023-06-18T02:26:45.486899Z"
    }
   }
  },
  {
   "cell_type": "code",
   "execution_count": 62,
   "outputs": [],
   "source": [
    "df_prices.groupby(\"barrio\").mean().to_json(\"../data/external/inmobiliario/precio-venta-deptos.json\")"
   ],
   "metadata": {
    "collapsed": false,
    "ExecuteTime": {
     "end_time": "2023-06-18T02:26:46.716552Z",
     "start_time": "2023-06-18T02:26:46.709940Z"
    }
   }
  },
  {
   "cell_type": "code",
   "execution_count": null,
   "outputs": [],
   "source": [],
   "metadata": {
    "collapsed": false
   }
  }
 ],
 "metadata": {
  "kernelspec": {
   "display_name": "Python 3 (ipykernel)",
   "language": "python",
   "name": "python3"
  },
  "language_info": {
   "codemirror_mode": {
    "name": "ipython",
    "version": 3
   },
   "file_extension": ".py",
   "mimetype": "text/x-python",
   "name": "python",
   "nbconvert_exporter": "python",
   "pygments_lexer": "ipython3",
   "version": "3.10.10"
  }
 },
 "nbformat": 4,
 "nbformat_minor": 5
}
