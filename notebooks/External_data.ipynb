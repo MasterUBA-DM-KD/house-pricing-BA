{
 "cells": [
  {
   "attachments": {},
   "cell_type": "markdown",
   "id": "f8eebef6",
   "metadata": {},
   "source": [
    "# Libraries"
   ]
  },
  {
   "cell_type": "code",
   "execution_count": null,
   "id": "c5ab0bac-ff7f-4558-a9ec-42ca94d0a67b",
   "metadata": {},
   "outputs": [],
   "source": [
    "import pandas as pd"
   ]
  },
  {
   "attachments": {},
   "cell_type": "markdown",
   "id": "d2387be1",
   "metadata": {},
   "source": [
    "# External Data"
   ]
  },
  {
   "attachments": {},
   "cell_type": "markdown",
   "id": "da4f2df8",
   "metadata": {},
   "source": [
    "## Barrios"
   ]
  },
  {
   "cell_type": "code",
   "execution_count": null,
   "id": "5df84029",
   "metadata": {},
   "outputs": [],
   "source": [
    "df_barrios = pd.read_csv(\"../data/external/barrios/barrios_caba.csv\")\n",
    "for i in df_barrios[\"barrio\"].unique():\n",
    "    if i.lower() not in all_neigborhoods:\n",
    "        all_neigborhoods.append(i.strip().lower())"
   ]
  },
  {
   "attachments": {},
   "cell_type": "markdown",
   "id": "e28db71a",
   "metadata": {},
   "source": [
    "## Transporte"
   ]
  },
  {
   "cell_type": "code",
   "execution_count": null,
   "id": "9764371b",
   "metadata": {},
   "outputs": [
    {
     "data": {
      "text/html": [
       "<div>\n",
       "<style scoped>\n",
       "    .dataframe tbody tr th:only-of-type {\n",
       "        vertical-align: middle;\n",
       "    }\n",
       "\n",
       "    .dataframe tbody tr th {\n",
       "        vertical-align: top;\n",
       "    }\n",
       "\n",
       "    .dataframe thead th {\n",
       "        text-align: right;\n",
       "    }\n",
       "</style>\n",
       "<table border=\"1\" class=\"dataframe\">\n",
       "  <thead>\n",
       "    <tr style=\"text-align: right;\">\n",
       "      <th></th>\n",
       "      <th>linea</th>\n",
       "      <th>ramal</th>\n",
       "      <th>stop_name</th>\n",
       "      <th>lat</th>\n",
       "      <th>lon</th>\n",
       "      <th>type</th>\n",
       "    </tr>\n",
       "  </thead>\n",
       "  <tbody>\n",
       "    <tr>\n",
       "      <th>0</th>\n",
       "      <td>Sarmiento</td>\n",
       "      <td>Once - Moreno</td>\n",
       "      <td>Ciudadela</td>\n",
       "      <td>-34.639923</td>\n",
       "      <td>-58.541123</td>\n",
       "      <td>tren</td>\n",
       "    </tr>\n",
       "    <tr>\n",
       "      <th>1</th>\n",
       "      <td>Sarmiento</td>\n",
       "      <td>Once - Moreno</td>\n",
       "      <td>Liniers</td>\n",
       "      <td>-34.638873</td>\n",
       "      <td>-58.526341</td>\n",
       "      <td>tren</td>\n",
       "    </tr>\n",
       "  </tbody>\n",
       "</table>\n",
       "</div>"
      ],
      "text/plain": [
       "       linea           ramal  stop_name        lat        lon  type\n",
       "0  Sarmiento   Once - Moreno  Ciudadela -34.639923 -58.541123  tren\n",
       "1  Sarmiento   Once - Moreno    Liniers -34.638873 -58.526341  tren"
      ]
     },
     "metadata": {},
     "output_type": "display_data"
    }
   ],
   "source": [
    "df_transport = pd.read_parquet(\"../data/processed/transporte/transporte.parquet\", engine=\"pyarrow\")\n",
    "df_transport.head(2)"
   ]
  },
  {
   "cell_type": "code",
   "execution_count": null,
   "id": "d7948d51",
   "metadata": {},
   "outputs": [
    {
     "data": {
      "text/html": [
       "<div>\n",
       "<style scoped>\n",
       "    .dataframe tbody tr th:only-of-type {\n",
       "        vertical-align: middle;\n",
       "    }\n",
       "\n",
       "    .dataframe tbody tr th {\n",
       "        vertical-align: top;\n",
       "    }\n",
       "\n",
       "    .dataframe thead th {\n",
       "        text-align: right;\n",
       "    }\n",
       "</style>\n",
       "<table border=\"1\" class=\"dataframe\">\n",
       "  <thead>\n",
       "    <tr style=\"text-align: right;\">\n",
       "      <th></th>\n",
       "      <th>linea</th>\n",
       "      <th>ramal</th>\n",
       "      <th>stop_name</th>\n",
       "      <th>lat</th>\n",
       "      <th>lon</th>\n",
       "      <th>type</th>\n",
       "      <th>lat_lon</th>\n",
       "    </tr>\n",
       "  </thead>\n",
       "  <tbody>\n",
       "    <tr>\n",
       "      <th>0</th>\n",
       "      <td>Sarmiento</td>\n",
       "      <td>Once - Moreno</td>\n",
       "      <td>Ciudadela</td>\n",
       "      <td>-34.639923</td>\n",
       "      <td>-58.541123</td>\n",
       "      <td>tren</td>\n",
       "      <td>(-34.6399227, -58.5411225)</td>\n",
       "    </tr>\n",
       "    <tr>\n",
       "      <th>1</th>\n",
       "      <td>Sarmiento</td>\n",
       "      <td>Once - Moreno</td>\n",
       "      <td>Liniers</td>\n",
       "      <td>-34.638873</td>\n",
       "      <td>-58.526341</td>\n",
       "      <td>tren</td>\n",
       "      <td>(-34.6388728, -58.5263409)</td>\n",
       "    </tr>\n",
       "  </tbody>\n",
       "</table>\n",
       "</div>"
      ],
      "text/plain": [
       "       linea           ramal  stop_name        lat        lon  type   \n",
       "0  Sarmiento   Once - Moreno  Ciudadela -34.639923 -58.541123  tren  \\\n",
       "1  Sarmiento   Once - Moreno    Liniers -34.638873 -58.526341  tren   \n",
       "\n",
       "                      lat_lon  \n",
       "0  (-34.6399227, -58.5411225)  \n",
       "1  (-34.6388728, -58.5263409)  "
      ]
     },
     "metadata": {},
     "output_type": "display_data"
    }
   ],
   "source": [
    "df_transport[\"lat_lon\"] = df_transport.apply(lambda x: (x.lat, x.lon), axis=1)\n",
    "df_transport.head(2)"
   ]
  },
  {
   "cell_type": "code",
   "execution_count": null,
   "id": "dc5d82af",
   "metadata": {},
   "outputs": [
    {
     "data": {
      "text/html": [
       "<div>\n",
       "<style scoped>\n",
       "    .dataframe tbody tr th:only-of-type {\n",
       "        vertical-align: middle;\n",
       "    }\n",
       "\n",
       "    .dataframe tbody tr th {\n",
       "        vertical-align: top;\n",
       "    }\n",
       "\n",
       "    .dataframe thead th {\n",
       "        text-align: right;\n",
       "    }\n",
       "</style>\n",
       "<table border=\"1\" class=\"dataframe\">\n",
       "  <thead>\n",
       "    <tr style=\"text-align: right;\">\n",
       "      <th></th>\n",
       "      <th>linea</th>\n",
       "      <th>ramal</th>\n",
       "      <th>stop_name</th>\n",
       "      <th>lat</th>\n",
       "      <th>lon</th>\n",
       "      <th>type</th>\n",
       "      <th>lat_lon</th>\n",
       "    </tr>\n",
       "  </thead>\n",
       "  <tbody>\n",
       "  </tbody>\n",
       "</table>\n",
       "</div>"
      ],
      "text/plain": [
       "Empty DataFrame\n",
       "Columns: [linea, ramal, stop_name, lat, lon, type, lat_lon]\n",
       "Index: []"
      ]
     },
     "metadata": {},
     "output_type": "display_data"
    }
   ],
   "source": [
    "df_transport[df_transport.duplicated(subset=[\"lat_lon\"])]"
   ]
  },
  {
   "cell_type": "code",
   "execution_count": null,
   "id": "f72bec76",
   "metadata": {},
   "outputs": [
    {
     "data": {
      "text/plain": [
       "(-34.6399227, -58.5411225)"
      ]
     },
     "metadata": {},
     "output_type": "display_data"
    }
   ],
   "source": [
    "unique_lat_lon = df_transport[\"lat_lon\"].unique()\n",
    "unique_lat_lon[0]"
   ]
  },
  {
   "cell_type": "code",
   "execution_count": null,
   "id": "433c2ced",
   "metadata": {},
   "outputs": [],
   "source": [
    "def get_closest_transports(lat, lon):\n",
    "    n_transports = 0\n",
    "    list_nearest = []\n",
    "    for lat_lon in unique_lat_lon:\n",
    "        dist = distance.distance(lat_lon, (lat, lon)).km\n",
    "        list_nearest.append(dist)\n",
    "        if dist <= 1:\n",
    "            n_transports += 1\n",
    "\n",
    "    closest_transport = min(list_nearest)\n",
    "    return closest_transport, n_transports"
   ]
  },
  {
   "cell_type": "code",
   "execution_count": null,
   "id": "1b9b9865",
   "metadata": {},
   "outputs": [],
   "source": [
    "# df[\"closest_transport\"], df[\"n_transports\"] = zip(*df.swifter.apply(lambda x: get_closest_transports(x.lat, x.lon), axis=1))"
   ]
  },
  {
   "cell_type": "code",
   "execution_count": null,
   "id": "42a2617a",
   "metadata": {},
   "outputs": [],
   "source": [
    "df = df.copy()\n",
    "# df = df.reset_index(drop=False)\n",
    "\n",
    "color_scale = [(0, 'orange'), (1,'red')]\n",
    "\n",
    "fig = None\n",
    "fig = px.scatter_mapbox(df,\n",
    "                        lat=\"lat\",\n",
    "                        lon=\"lon\",\n",
    "                        hover_name=\"title\",\n",
    "                        hover_data=[\"id\", \"suburb\", \"published_suburb\"],\n",
    "                        color=\"province\",\n",
    "                        color_continuous_scale=color_scale,\n",
    "                        zoom=10,\n",
    "                        height=800,\n",
    "                        width=1600)\n",
    "\n",
    "fig.update_layout(mapbox_style=\"carto-darkmatter\")\n",
    "fig.update_layout(margin={\"r\":0,\"t\":0,\"l\":0,\"b\":0})\n",
    "fig.show()"
   ]
  },
  {
   "cell_type": "code",
   "execution_count": null,
   "id": "768f112e",
   "metadata": {},
   "outputs": [],
   "source": [
    "def search_neigborhoods(x, y):\n",
    "    for i in all_neigborhoods:\n",
    "        if i.lower() in x.lower():\n",
    "            return i\n",
    "        elif i.lower() in y.lower():\n",
    "            return i\n",
    "    return np.nan"
   ]
  },
  {
   "cell_type": "code",
   "execution_count": null,
   "id": "6e7061ac",
   "metadata": {},
   "outputs": [],
   "source": [
    "def search_price(text):\n",
    "# for i in df[\"description\"].dropna().sample(100):\n",
    "    # print(i)\n",
    "    pattern = r\"\\b\\d{1,7}(?:\\.\\d{1,7})?\\s*(?:usd|dolar|dolares)\\b\"\n",
    "    nums = re.findall(pattern, text)\n",
    "    if nums:\n",
    "        # print(nums[0] if len(nums)>0 else np.nan)\n",
    "        # print(\"\\n\")\n",
    "        return float(nums[0])\n",
    "    else:\n",
    "        return np.nan"
   ]
  }
 ],
 "metadata": {
  "kernelspec": {
   "display_name": "Python 3 (ipykernel)",
   "language": "python",
   "name": "python3"
  },
  "language_info": {
   "codemirror_mode": {
    "name": "ipython",
    "version": 3
   },
   "file_extension": ".py",
   "mimetype": "text/x-python",
   "name": "python",
   "nbconvert_exporter": "python",
   "pygments_lexer": "ipython3",
   "version": "3.10.10"
  }
 },
 "nbformat": 4,
 "nbformat_minor": 5
}
