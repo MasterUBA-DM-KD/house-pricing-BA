{
 "cells": [
  {
   "attachments": {},
   "cell_type": "markdown",
   "id": "7fe0958e",
   "metadata": {},
   "source": [
    "# Libraries"
   ]
  },
  {
   "cell_type": "code",
   "execution_count": 1,
   "id": "329e194b-6fd0-4007-993d-43ed411bdbfd",
   "metadata": {},
   "outputs": [],
   "source": [
    "import sys\n",
    "import numpy as np\n",
    "import pandas as pd\n",
    "import os\n",
    "os.environ[\"OBJC_DISABLE_INITIALIZE_FORK_SAFETY\"] = \"YES\"\n",
    "sys.path.append(\"../\")"
   ]
  },
  {
   "cell_type": "code",
   "execution_count": 2,
   "id": "9afde423",
   "metadata": {},
   "outputs": [],
   "source": [
    "df = pd.read_csv('../data/raw/properati_entrenamiento.csv')"
   ]
  },
  {
   "cell_type": "code",
   "execution_count": 3,
   "id": "2e9ff7b6",
   "metadata": {},
   "outputs": [
    {
     "data": {
      "text/html": [
       "<div>\n",
       "<style scoped>\n",
       "    .dataframe tbody tr th:only-of-type {\n",
       "        vertical-align: middle;\n",
       "    }\n",
       "\n",
       "    .dataframe tbody tr th {\n",
       "        vertical-align: top;\n",
       "    }\n",
       "\n",
       "    .dataframe thead th {\n",
       "        text-align: right;\n",
       "    }\n",
       "</style>\n",
       "<table border=\"1\" class=\"dataframe\">\n",
       "  <thead>\n",
       "    <tr style=\"text-align: right;\">\n",
       "      <th></th>\n",
       "      <th>id</th>\n",
       "      <th>ad_type</th>\n",
       "      <th>start_date</th>\n",
       "      <th>end_date</th>\n",
       "      <th>created_on</th>\n",
       "      <th>lat</th>\n",
       "      <th>lon</th>\n",
       "      <th>l1</th>\n",
       "      <th>l2</th>\n",
       "      <th>l3</th>\n",
       "      <th>...</th>\n",
       "      <th>bathrooms</th>\n",
       "      <th>surface_total</th>\n",
       "      <th>surface_covered</th>\n",
       "      <th>price</th>\n",
       "      <th>currency</th>\n",
       "      <th>price_period</th>\n",
       "      <th>title</th>\n",
       "      <th>description</th>\n",
       "      <th>property_type</th>\n",
       "      <th>operation_type</th>\n",
       "    </tr>\n",
       "  </thead>\n",
       "  <tbody>\n",
       "    <tr>\n",
       "      <th>0</th>\n",
       "      <td>1</td>\n",
       "      <td>Propiedad</td>\n",
       "      <td>2019-07-07</td>\n",
       "      <td>2019-07-10</td>\n",
       "      <td>2019-07-07</td>\n",
       "      <td>NaN</td>\n",
       "      <td>NaN</td>\n",
       "      <td>Argentina</td>\n",
       "      <td>Buenos Aires Interior</td>\n",
       "      <td>Urquiza</td>\n",
       "      <td>...</td>\n",
       "      <td>NaN</td>\n",
       "      <td>NaN</td>\n",
       "      <td>NaN</td>\n",
       "      <td>3800.0</td>\n",
       "      <td>ARS</td>\n",
       "      <td>Mensual</td>\n",
       "      <td>COCHERA EN ALQUILER</td>\n",
       "      <td>Xintel (SLC-SI1-560) Alquiler de Cochera en CA...</td>\n",
       "      <td>Cochera</td>\n",
       "      <td>Alquiler</td>\n",
       "    </tr>\n",
       "    <tr>\n",
       "      <th>1</th>\n",
       "      <td>2</td>\n",
       "      <td>Propiedad</td>\n",
       "      <td>2019-07-07</td>\n",
       "      <td>9999-12-31</td>\n",
       "      <td>2019-07-07</td>\n",
       "      <td>-64.184812</td>\n",
       "      <td>-31.421307</td>\n",
       "      <td>Argentina</td>\n",
       "      <td>Córdoba</td>\n",
       "      <td>Córdoba</td>\n",
       "      <td>...</td>\n",
       "      <td>NaN</td>\n",
       "      <td>12.0</td>\n",
       "      <td>12.0</td>\n",
       "      <td>16000.0</td>\n",
       "      <td>USD</td>\n",
       "      <td>Mensual</td>\n",
       "      <td>Cochera venta</td>\n",
       "      <td>VENDO COCHERA- EXCELENTE UBICACIÓN! Calle Buen...</td>\n",
       "      <td>Cochera</td>\n",
       "      <td>Venta</td>\n",
       "    </tr>\n",
       "  </tbody>\n",
       "</table>\n",
       "<p>2 rows × 25 columns</p>\n",
       "</div>"
      ],
      "text/plain": [
       "   id    ad_type  start_date    end_date  created_on        lat        lon  \\\n",
       "0   1  Propiedad  2019-07-07  2019-07-10  2019-07-07        NaN        NaN   \n",
       "1   2  Propiedad  2019-07-07  9999-12-31  2019-07-07 -64.184812 -31.421307   \n",
       "\n",
       "          l1                     l2       l3  ... bathrooms surface_total  \\\n",
       "0  Argentina  Buenos Aires Interior  Urquiza  ...       NaN           NaN   \n",
       "1  Argentina                Córdoba  Córdoba  ...       NaN          12.0   \n",
       "\n",
       "   surface_covered    price  currency  price_period                title  \\\n",
       "0              NaN   3800.0       ARS       Mensual  COCHERA EN ALQUILER   \n",
       "1             12.0  16000.0       USD       Mensual        Cochera venta   \n",
       "\n",
       "                                         description  property_type  \\\n",
       "0  Xintel (SLC-SI1-560) Alquiler de Cochera en CA...        Cochera   \n",
       "1  VENDO COCHERA- EXCELENTE UBICACIÓN! Calle Buen...        Cochera   \n",
       "\n",
       "  operation_type  \n",
       "0       Alquiler  \n",
       "1          Venta  \n",
       "\n",
       "[2 rows x 25 columns]"
      ]
     },
     "execution_count": 3,
     "metadata": {},
     "output_type": "execute_result"
    }
   ],
   "source": [
    "df.head(2)"
   ]
  },
  {
   "cell_type": "code",
   "execution_count": 4,
   "id": "7d2b7b00",
   "metadata": {},
   "outputs": [
    {
     "data": {
      "text/plain": [
       "id                      0\n",
       "ad_type                 0\n",
       "start_date              0\n",
       "end_date                0\n",
       "created_on              0\n",
       "lat                153174\n",
       "lon                152240\n",
       "l1                      0\n",
       "l2                      0\n",
       "l3                  57286\n",
       "l4                 768768\n",
       "l5                 989289\n",
       "l6                 994000\n",
       "rooms              489672\n",
       "bedrooms           602620\n",
       "bathrooms          219251\n",
       "surface_total      542896\n",
       "surface_covered    554230\n",
       "price               44381\n",
       "currency            47251\n",
       "price_period       625976\n",
       "title                  28\n",
       "description            22\n",
       "property_type           0\n",
       "operation_type          0\n",
       "dtype: int64"
      ]
     },
     "execution_count": 4,
     "metadata": {},
     "output_type": "execute_result"
    }
   ],
   "source": [
    "df.isna().sum()"
   ]
  },
  {
   "cell_type": "code",
   "execution_count": 5,
   "id": "6f81a35a",
   "metadata": {},
   "outputs": [
    {
     "name": "stdout",
     "output_type": "stream",
     "text": [
      "<class 'pandas.core.frame.DataFrame'>\n",
      "RangeIndex: 994000 entries, 0 to 993999\n",
      "Data columns (total 25 columns):\n",
      " #   Column           Non-Null Count   Dtype  \n",
      "---  ------           --------------   -----  \n",
      " 0   id               994000 non-null  int64  \n",
      " 1   ad_type          994000 non-null  object \n",
      " 2   start_date       994000 non-null  object \n",
      " 3   end_date         994000 non-null  object \n",
      " 4   created_on       994000 non-null  object \n",
      " 5   lat              840826 non-null  float64\n",
      " 6   lon              841760 non-null  float64\n",
      " 7   l1               994000 non-null  object \n",
      " 8   l2               994000 non-null  object \n",
      " 9   l3               936714 non-null  object \n",
      " 10  l4               225232 non-null  object \n",
      " 11  l5               4711 non-null    object \n",
      " 12  l6               0 non-null       float64\n",
      " 13  rooms            504328 non-null  float64\n",
      " 14  bedrooms         391380 non-null  float64\n",
      " 15  bathrooms        774749 non-null  float64\n",
      " 16  surface_total    451104 non-null  float64\n",
      " 17  surface_covered  439770 non-null  float64\n",
      " 18  price            949619 non-null  float64\n",
      " 19  currency         946749 non-null  object \n",
      " 20  price_period     368024 non-null  object \n",
      " 21  title            993972 non-null  object \n",
      " 22  description      993978 non-null  object \n",
      " 23  property_type    994000 non-null  object \n",
      " 24  operation_type   994000 non-null  object \n",
      "dtypes: float64(9), int64(1), object(15)\n",
      "memory usage: 189.6+ MB\n"
     ]
    }
   ],
   "source": [
    "df.info()"
   ]
  },
  {
   "cell_type": "code",
   "execution_count": 6,
   "id": "056706fd",
   "metadata": {},
   "outputs": [],
   "source": [
    "from src.utils.etl.helper import filter_columns, fill_na, clean_text\n",
    "from src.constants import MAP_PROVINCE"
   ]
  },
  {
   "cell_type": "code",
   "execution_count": 7,
   "id": "1dc1dcc0",
   "metadata": {},
   "outputs": [],
   "source": [
    "df = filter_columns(df)"
   ]
  },
  {
   "cell_type": "code",
   "execution_count": 8,
   "id": "e1acff1d",
   "metadata": {},
   "outputs": [
    {
     "data": {
      "text/plain": [
       "id                       0\n",
       "ad_type                  0\n",
       "lat                  11350\n",
       "lon                  11238\n",
       "country                  0\n",
       "province                 0\n",
       "suburb                5416\n",
       "published_suburb    122726\n",
       "rooms                10756\n",
       "bedrooms             40719\n",
       "bathrooms             6743\n",
       "surface_total        45196\n",
       "surface_covered      42970\n",
       "price                    0\n",
       "currency                 0\n",
       "title                   11\n",
       "description              1\n",
       "property_type            0\n",
       "operation_type           0\n",
       "dtype: int64"
      ]
     },
     "execution_count": 8,
     "metadata": {},
     "output_type": "execute_result"
    }
   ],
   "source": [
    "df.isna().sum()"
   ]
  },
  {
   "cell_type": "code",
   "execution_count": 9,
   "id": "74b66316",
   "metadata": {},
   "outputs": [],
   "source": [
    "df = fill_na(df)"
   ]
  },
  {
   "cell_type": "code",
   "execution_count": 10,
   "id": "bf35b45c",
   "metadata": {},
   "outputs": [
    {
     "data": {
      "text/plain": [
       "id                       0\n",
       "ad_type                  0\n",
       "lat                  11350\n",
       "lon                  11350\n",
       "country                  0\n",
       "province                 0\n",
       "suburb                5416\n",
       "published_suburb    122726\n",
       "rooms                10756\n",
       "bedrooms             44388\n",
       "bathrooms             6743\n",
       "surface_total        45232\n",
       "surface_covered      43097\n",
       "price                    0\n",
       "currency                 0\n",
       "title                    0\n",
       "description              0\n",
       "property_type            0\n",
       "operation_type           0\n",
       "dtype: int64"
      ]
     },
     "execution_count": 10,
     "metadata": {},
     "output_type": "execute_result"
    }
   ],
   "source": [
    "df.isna().sum()"
   ]
  },
  {
   "cell_type": "code",
   "execution_count": 11,
   "id": "a394ff3c",
   "metadata": {},
   "outputs": [],
   "source": [
    "df[[\"lat\", \"lon\"]] = df[[\"lon\", \"lat\"]]\n",
    "df[\"province\"] = df[\"province\"].map(MAP_PROVINCE)"
   ]
  },
  {
   "cell_type": "code",
   "execution_count": 12,
   "id": "f38d21f4",
   "metadata": {},
   "outputs": [],
   "source": [
    "from multiprocessing import  Pool\n",
    "import numpy as np\n",
    "\n",
    "def parallelize_dataframe(df, func, n_cores=10):\n",
    "    df_split = np.array_split(df, n_cores)\n",
    "    pool = Pool(n_cores)\n",
    "    df = pd.concat(pool.map(func, df_split))\n",
    "    pool.close()\n",
    "    pool.join()\n",
    "    return df"
   ]
  },
  {
   "cell_type": "code",
   "execution_count": 13,
   "id": "04b36a96",
   "metadata": {},
   "outputs": [
    {
     "ename": "KeyboardInterrupt",
     "evalue": "",
     "output_type": "error",
     "traceback": [
      "\u001b[0;31m---------------------------------------------------------------------------\u001b[0m",
      "\u001b[0;31mKeyboardInterrupt\u001b[0m                         Traceback (most recent call last)",
      "Cell \u001b[0;32mIn[13], line 1\u001b[0m\n\u001b[0;32m----> 1\u001b[0m df \u001b[39m=\u001b[39m parallelize_dataframe(df, clean_text)\n\u001b[1;32m      3\u001b[0m \u001b[39m# df = clean_text(df, n_partitions=128)\u001b[39;00m\n",
      "Cell \u001b[0;32mIn[12], line 7\u001b[0m, in \u001b[0;36mparallelize_dataframe\u001b[0;34m(df, func, n_cores)\u001b[0m\n\u001b[1;32m      5\u001b[0m df_split \u001b[39m=\u001b[39m np\u001b[39m.\u001b[39marray_split(df, n_cores)\n\u001b[1;32m      6\u001b[0m pool \u001b[39m=\u001b[39m Pool(n_cores)\n\u001b[0;32m----> 7\u001b[0m df \u001b[39m=\u001b[39m pd\u001b[39m.\u001b[39mconcat(pool\u001b[39m.\u001b[39;49mmap(func, df_split))\n\u001b[1;32m      8\u001b[0m pool\u001b[39m.\u001b[39mclose()\n\u001b[1;32m      9\u001b[0m pool\u001b[39m.\u001b[39mjoin()\n",
      "File \u001b[0;32m~/miniconda3/lib/python3.10/multiprocessing/pool.py:367\u001b[0m, in \u001b[0;36mPool.map\u001b[0;34m(self, func, iterable, chunksize)\u001b[0m\n\u001b[1;32m    362\u001b[0m \u001b[39mdef\u001b[39;00m \u001b[39mmap\u001b[39m(\u001b[39mself\u001b[39m, func, iterable, chunksize\u001b[39m=\u001b[39m\u001b[39mNone\u001b[39;00m):\n\u001b[1;32m    363\u001b[0m \u001b[39m    \u001b[39m\u001b[39m'''\u001b[39;00m\n\u001b[1;32m    364\u001b[0m \u001b[39m    Apply `func` to each element in `iterable`, collecting the results\u001b[39;00m\n\u001b[1;32m    365\u001b[0m \u001b[39m    in a list that is returned.\u001b[39;00m\n\u001b[1;32m    366\u001b[0m \u001b[39m    '''\u001b[39;00m\n\u001b[0;32m--> 367\u001b[0m     \u001b[39mreturn\u001b[39;00m \u001b[39mself\u001b[39;49m\u001b[39m.\u001b[39;49m_map_async(func, iterable, mapstar, chunksize)\u001b[39m.\u001b[39;49mget()\n",
      "File \u001b[0;32m~/miniconda3/lib/python3.10/multiprocessing/pool.py:768\u001b[0m, in \u001b[0;36mApplyResult.get\u001b[0;34m(self, timeout)\u001b[0m\n\u001b[1;32m    767\u001b[0m \u001b[39mdef\u001b[39;00m \u001b[39mget\u001b[39m(\u001b[39mself\u001b[39m, timeout\u001b[39m=\u001b[39m\u001b[39mNone\u001b[39;00m):\n\u001b[0;32m--> 768\u001b[0m     \u001b[39mself\u001b[39;49m\u001b[39m.\u001b[39;49mwait(timeout)\n\u001b[1;32m    769\u001b[0m     \u001b[39mif\u001b[39;00m \u001b[39mnot\u001b[39;00m \u001b[39mself\u001b[39m\u001b[39m.\u001b[39mready():\n\u001b[1;32m    770\u001b[0m         \u001b[39mraise\u001b[39;00m \u001b[39mTimeoutError\u001b[39;00m\n",
      "File \u001b[0;32m~/miniconda3/lib/python3.10/multiprocessing/pool.py:765\u001b[0m, in \u001b[0;36mApplyResult.wait\u001b[0;34m(self, timeout)\u001b[0m\n\u001b[1;32m    764\u001b[0m \u001b[39mdef\u001b[39;00m \u001b[39mwait\u001b[39m(\u001b[39mself\u001b[39m, timeout\u001b[39m=\u001b[39m\u001b[39mNone\u001b[39;00m):\n\u001b[0;32m--> 765\u001b[0m     \u001b[39mself\u001b[39;49m\u001b[39m.\u001b[39;49m_event\u001b[39m.\u001b[39;49mwait(timeout)\n",
      "File \u001b[0;32m~/miniconda3/lib/python3.10/threading.py:607\u001b[0m, in \u001b[0;36mEvent.wait\u001b[0;34m(self, timeout)\u001b[0m\n\u001b[1;32m    605\u001b[0m signaled \u001b[39m=\u001b[39m \u001b[39mself\u001b[39m\u001b[39m.\u001b[39m_flag\n\u001b[1;32m    606\u001b[0m \u001b[39mif\u001b[39;00m \u001b[39mnot\u001b[39;00m signaled:\n\u001b[0;32m--> 607\u001b[0m     signaled \u001b[39m=\u001b[39m \u001b[39mself\u001b[39;49m\u001b[39m.\u001b[39;49m_cond\u001b[39m.\u001b[39;49mwait(timeout)\n\u001b[1;32m    608\u001b[0m \u001b[39mreturn\u001b[39;00m signaled\n",
      "File \u001b[0;32m~/miniconda3/lib/python3.10/threading.py:320\u001b[0m, in \u001b[0;36mCondition.wait\u001b[0;34m(self, timeout)\u001b[0m\n\u001b[1;32m    318\u001b[0m \u001b[39mtry\u001b[39;00m:    \u001b[39m# restore state no matter what (e.g., KeyboardInterrupt)\u001b[39;00m\n\u001b[1;32m    319\u001b[0m     \u001b[39mif\u001b[39;00m timeout \u001b[39mis\u001b[39;00m \u001b[39mNone\u001b[39;00m:\n\u001b[0;32m--> 320\u001b[0m         waiter\u001b[39m.\u001b[39;49macquire()\n\u001b[1;32m    321\u001b[0m         gotit \u001b[39m=\u001b[39m \u001b[39mTrue\u001b[39;00m\n\u001b[1;32m    322\u001b[0m     \u001b[39melse\u001b[39;00m:\n",
      "\u001b[0;31mKeyboardInterrupt\u001b[0m: "
     ]
    }
   ],
   "source": [
    "df = parallelize_dataframe(df, clean_text)\n",
    "\n",
    "# df = clean_text(df, n_partitions=128)"
   ]
  },
  {
   "cell_type": "code",
   "execution_count": null,
   "id": "81ef595d",
   "metadata": {},
   "outputs": [],
   "source": []
  }
 ],
 "metadata": {
  "kernelspec": {
   "display_name": "Python 3 (ipykernel)",
   "language": "python",
   "name": "python3"
  },
  "language_info": {
   "codemirror_mode": {
    "name": "ipython",
    "version": 3
   },
   "file_extension": ".py",
   "mimetype": "text/x-python",
   "name": "python",
   "nbconvert_exporter": "python",
   "pygments_lexer": "ipython3",
   "version": "3.10.10"
  }
 },
 "nbformat": 4,
 "nbformat_minor": 5
}
